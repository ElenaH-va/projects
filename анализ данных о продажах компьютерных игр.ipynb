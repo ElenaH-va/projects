{
 "cells": [
  {
   "cell_type": "markdown",
   "metadata": {},
   "source": [
    "# Анализ данных о продажах компьютерных игр"
   ]
  },
  {
   "cell_type": "markdown",
   "metadata": {},
   "source": [
    "- **Данные:** из открытых источников доступны исторические данные о продажах компьтерных игр за 1980-2016гг с оценками пользователей и экспертов, с указанием жанров и платформ.\n",
    "- **Задача:** выявить определяющие успешность игры закономерности.\n",
    "- **Цель:** на основе выявленных закономерностей сделать ставку на потенциально популярный продукт и спланировать рекламные кампании на 2017 год."
   ]
  },
  {
   "cell_type": "markdown",
   "metadata": {},
   "source": [
    "**Описание данных**\n",
    "-\tName — название игры\n",
    "-\tPlatform — платформа\n",
    "-\tYear_of_Release — год выпуска\n",
    "-\tGenre — жанр игры\n",
    "-\tNA_sales — продажи в Северной Америке (миллионы проданных копий)\n",
    "-\tEU_sales — продажи в Европе (миллионы проданных копий)\n",
    "-\tJP_sales — продажи в Японии (миллионы проданных копий)\n",
    "-\tOther_sales — продажи в других странах (миллионы проданных копий)\n",
    "-\tCritic_Score — оценка критиков (максимум 100)\n",
    "-\tUser_Score — оценка пользователей (максимум 10)\n",
    "-\tRating — рейтинг от организации ESRB (англ. Entertainment Software Rating Board). Эта ассоциация определяет рейтинг компьютерных игр и присваивает им подходящую возрастную категорию."
   ]
  },
  {
   "cell_type": "markdown",
   "metadata": {},
   "source": [
    "## Описание проекта"
   ]
  },
  {
   "cell_type": "markdown",
   "metadata": {},
   "source": [
    "Вы работаете в интернет-магазине «Стримчик», который продаёт по всему миру компьютерные игры. Из открытых источников доступны исторические данные о продажах игр, оценки пользователей и экспертов, жанры и платформы (например, Xbox или PlayStation). Вам нужно выявить определяющие успешность игры закономерности. Это позволит сделать ставку на потенциально популярный продукт и спланировать рекламные кампании.\n",
    "Перед вами данные до 2016 года. Представим, что сейчас декабрь 2016 г., и вы планируете кампанию на 2017-й. Нужно отработать принцип работы с данными. Неважно, прогнозируете ли вы продажи на 2017 год по данным 2016-го или же 2027-й — по данным 2026 года.\n",
    "В наборе данных попадается аббревиатура ESRB (Entertainment Software Rating Board) — это ассоциация, определяющая возрастной рейтинг компьютерных игр. ESRB оценивает игровой контент и присваивает ему подходящую возрастную категорию, например, «Для взрослых», «Для детей младшего возраста» или «Для подростков»."
   ]
  },
  {
   "cell_type": "markdown",
   "metadata": {},
   "source": [
    "## Откроем и изучим общую информацию файла с данными"
   ]
  },
  {
   "cell_type": "code",
   "execution_count": 1,
   "metadata": {},
   "outputs": [],
   "source": [
    "import pandas as pd\n",
    "import numpy as np"
   ]
  },
  {
   "cell_type": "code",
   "execution_count": 2,
   "metadata": {},
   "outputs": [],
   "source": [
    "data = pd.read_csv('/datasets/games.csv')"
   ]
  },
  {
   "cell_type": "code",
   "execution_count": 3,
   "metadata": {},
   "outputs": [
    {
     "data": {
      "text/html": [
       "<div>\n",
       "<style scoped>\n",
       "    .dataframe tbody tr th:only-of-type {\n",
       "        vertical-align: middle;\n",
       "    }\n",
       "\n",
       "    .dataframe tbody tr th {\n",
       "        vertical-align: top;\n",
       "    }\n",
       "\n",
       "    .dataframe thead th {\n",
       "        text-align: right;\n",
       "    }\n",
       "</style>\n",
       "<table border=\"1\" class=\"dataframe\">\n",
       "  <thead>\n",
       "    <tr style=\"text-align: right;\">\n",
       "      <th></th>\n",
       "      <th>Name</th>\n",
       "      <th>Platform</th>\n",
       "      <th>Year_of_Release</th>\n",
       "      <th>Genre</th>\n",
       "      <th>NA_sales</th>\n",
       "      <th>EU_sales</th>\n",
       "      <th>JP_sales</th>\n",
       "      <th>Other_sales</th>\n",
       "      <th>Critic_Score</th>\n",
       "      <th>User_Score</th>\n",
       "      <th>Rating</th>\n",
       "    </tr>\n",
       "  </thead>\n",
       "  <tbody>\n",
       "    <tr>\n",
       "      <th>0</th>\n",
       "      <td>Wii Sports</td>\n",
       "      <td>Wii</td>\n",
       "      <td>2006.0</td>\n",
       "      <td>Sports</td>\n",
       "      <td>41.36</td>\n",
       "      <td>28.96</td>\n",
       "      <td>3.77</td>\n",
       "      <td>8.45</td>\n",
       "      <td>76.0</td>\n",
       "      <td>8</td>\n",
       "      <td>E</td>\n",
       "    </tr>\n",
       "    <tr>\n",
       "      <th>1</th>\n",
       "      <td>Super Mario Bros.</td>\n",
       "      <td>NES</td>\n",
       "      <td>1985.0</td>\n",
       "      <td>Platform</td>\n",
       "      <td>29.08</td>\n",
       "      <td>3.58</td>\n",
       "      <td>6.81</td>\n",
       "      <td>0.77</td>\n",
       "      <td>NaN</td>\n",
       "      <td>NaN</td>\n",
       "      <td>NaN</td>\n",
       "    </tr>\n",
       "    <tr>\n",
       "      <th>2</th>\n",
       "      <td>Mario Kart Wii</td>\n",
       "      <td>Wii</td>\n",
       "      <td>2008.0</td>\n",
       "      <td>Racing</td>\n",
       "      <td>15.68</td>\n",
       "      <td>12.76</td>\n",
       "      <td>3.79</td>\n",
       "      <td>3.29</td>\n",
       "      <td>82.0</td>\n",
       "      <td>8.3</td>\n",
       "      <td>E</td>\n",
       "    </tr>\n",
       "    <tr>\n",
       "      <th>3</th>\n",
       "      <td>Wii Sports Resort</td>\n",
       "      <td>Wii</td>\n",
       "      <td>2009.0</td>\n",
       "      <td>Sports</td>\n",
       "      <td>15.61</td>\n",
       "      <td>10.93</td>\n",
       "      <td>3.28</td>\n",
       "      <td>2.95</td>\n",
       "      <td>80.0</td>\n",
       "      <td>8</td>\n",
       "      <td>E</td>\n",
       "    </tr>\n",
       "    <tr>\n",
       "      <th>4</th>\n",
       "      <td>Pokemon Red/Pokemon Blue</td>\n",
       "      <td>GB</td>\n",
       "      <td>1996.0</td>\n",
       "      <td>Role-Playing</td>\n",
       "      <td>11.27</td>\n",
       "      <td>8.89</td>\n",
       "      <td>10.22</td>\n",
       "      <td>1.00</td>\n",
       "      <td>NaN</td>\n",
       "      <td>NaN</td>\n",
       "      <td>NaN</td>\n",
       "    </tr>\n",
       "    <tr>\n",
       "      <th>5</th>\n",
       "      <td>Tetris</td>\n",
       "      <td>GB</td>\n",
       "      <td>1989.0</td>\n",
       "      <td>Puzzle</td>\n",
       "      <td>23.20</td>\n",
       "      <td>2.26</td>\n",
       "      <td>4.22</td>\n",
       "      <td>0.58</td>\n",
       "      <td>NaN</td>\n",
       "      <td>NaN</td>\n",
       "      <td>NaN</td>\n",
       "    </tr>\n",
       "    <tr>\n",
       "      <th>6</th>\n",
       "      <td>New Super Mario Bros.</td>\n",
       "      <td>DS</td>\n",
       "      <td>2006.0</td>\n",
       "      <td>Platform</td>\n",
       "      <td>11.28</td>\n",
       "      <td>9.14</td>\n",
       "      <td>6.50</td>\n",
       "      <td>2.88</td>\n",
       "      <td>89.0</td>\n",
       "      <td>8.5</td>\n",
       "      <td>E</td>\n",
       "    </tr>\n",
       "    <tr>\n",
       "      <th>7</th>\n",
       "      <td>Wii Play</td>\n",
       "      <td>Wii</td>\n",
       "      <td>2006.0</td>\n",
       "      <td>Misc</td>\n",
       "      <td>13.96</td>\n",
       "      <td>9.18</td>\n",
       "      <td>2.93</td>\n",
       "      <td>2.84</td>\n",
       "      <td>58.0</td>\n",
       "      <td>6.6</td>\n",
       "      <td>E</td>\n",
       "    </tr>\n",
       "    <tr>\n",
       "      <th>8</th>\n",
       "      <td>New Super Mario Bros. Wii</td>\n",
       "      <td>Wii</td>\n",
       "      <td>2009.0</td>\n",
       "      <td>Platform</td>\n",
       "      <td>14.44</td>\n",
       "      <td>6.94</td>\n",
       "      <td>4.70</td>\n",
       "      <td>2.24</td>\n",
       "      <td>87.0</td>\n",
       "      <td>8.4</td>\n",
       "      <td>E</td>\n",
       "    </tr>\n",
       "    <tr>\n",
       "      <th>9</th>\n",
       "      <td>Duck Hunt</td>\n",
       "      <td>NES</td>\n",
       "      <td>1984.0</td>\n",
       "      <td>Shooter</td>\n",
       "      <td>26.93</td>\n",
       "      <td>0.63</td>\n",
       "      <td>0.28</td>\n",
       "      <td>0.47</td>\n",
       "      <td>NaN</td>\n",
       "      <td>NaN</td>\n",
       "      <td>NaN</td>\n",
       "    </tr>\n",
       "  </tbody>\n",
       "</table>\n",
       "</div>"
      ],
      "text/plain": [
       "                        Name Platform  Year_of_Release         Genre  \\\n",
       "0                 Wii Sports      Wii           2006.0        Sports   \n",
       "1          Super Mario Bros.      NES           1985.0      Platform   \n",
       "2             Mario Kart Wii      Wii           2008.0        Racing   \n",
       "3          Wii Sports Resort      Wii           2009.0        Sports   \n",
       "4   Pokemon Red/Pokemon Blue       GB           1996.0  Role-Playing   \n",
       "5                     Tetris       GB           1989.0        Puzzle   \n",
       "6      New Super Mario Bros.       DS           2006.0      Platform   \n",
       "7                   Wii Play      Wii           2006.0          Misc   \n",
       "8  New Super Mario Bros. Wii      Wii           2009.0      Platform   \n",
       "9                  Duck Hunt      NES           1984.0       Shooter   \n",
       "\n",
       "   NA_sales  EU_sales  JP_sales  Other_sales  Critic_Score User_Score Rating  \n",
       "0     41.36     28.96      3.77         8.45          76.0          8      E  \n",
       "1     29.08      3.58      6.81         0.77           NaN        NaN    NaN  \n",
       "2     15.68     12.76      3.79         3.29          82.0        8.3      E  \n",
       "3     15.61     10.93      3.28         2.95          80.0          8      E  \n",
       "4     11.27      8.89     10.22         1.00           NaN        NaN    NaN  \n",
       "5     23.20      2.26      4.22         0.58           NaN        NaN    NaN  \n",
       "6     11.28      9.14      6.50         2.88          89.0        8.5      E  \n",
       "7     13.96      9.18      2.93         2.84          58.0        6.6      E  \n",
       "8     14.44      6.94      4.70         2.24          87.0        8.4      E  \n",
       "9     26.93      0.63      0.28         0.47           NaN        NaN    NaN  "
      ]
     },
     "execution_count": 3,
     "metadata": {},
     "output_type": "execute_result"
    }
   ],
   "source": [
    "data.head(10) # посмотрим на первые 10 строк датафрейма"
   ]
  },
  {
   "cell_type": "code",
   "execution_count": 4,
   "metadata": {},
   "outputs": [
    {
     "name": "stdout",
     "output_type": "stream",
     "text": [
      "<class 'pandas.core.frame.DataFrame'>\n",
      "RangeIndex: 16715 entries, 0 to 16714\n",
      "Data columns (total 11 columns):\n",
      " #   Column           Non-Null Count  Dtype  \n",
      "---  ------           --------------  -----  \n",
      " 0   Name             16713 non-null  object \n",
      " 1   Platform         16715 non-null  object \n",
      " 2   Year_of_Release  16446 non-null  float64\n",
      " 3   Genre            16713 non-null  object \n",
      " 4   NA_sales         16715 non-null  float64\n",
      " 5   EU_sales         16715 non-null  float64\n",
      " 6   JP_sales         16715 non-null  float64\n",
      " 7   Other_sales      16715 non-null  float64\n",
      " 8   Critic_Score     8137 non-null   float64\n",
      " 9   User_Score       10014 non-null  object \n",
      " 10  Rating           9949 non-null   object \n",
      "dtypes: float64(6), object(5)\n",
      "memory usage: 1.4+ MB\n"
     ]
    }
   ],
   "source": [
    "data.info() # посмотрим на общую информацию"
   ]
  },
  {
   "cell_type": "code",
   "execution_count": 5,
   "metadata": {},
   "outputs": [
    {
     "data": {
      "text/html": [
       "<div>\n",
       "<style scoped>\n",
       "    .dataframe tbody tr th:only-of-type {\n",
       "        vertical-align: middle;\n",
       "    }\n",
       "\n",
       "    .dataframe tbody tr th {\n",
       "        vertical-align: top;\n",
       "    }\n",
       "\n",
       "    .dataframe thead th {\n",
       "        text-align: right;\n",
       "    }\n",
       "</style>\n",
       "<table border=\"1\" class=\"dataframe\">\n",
       "  <thead>\n",
       "    <tr style=\"text-align: right;\">\n",
       "      <th></th>\n",
       "      <th>Year_of_Release</th>\n",
       "      <th>NA_sales</th>\n",
       "      <th>EU_sales</th>\n",
       "      <th>JP_sales</th>\n",
       "      <th>Other_sales</th>\n",
       "      <th>Critic_Score</th>\n",
       "    </tr>\n",
       "  </thead>\n",
       "  <tbody>\n",
       "    <tr>\n",
       "      <th>count</th>\n",
       "      <td>16446.000000</td>\n",
       "      <td>16715.000000</td>\n",
       "      <td>16715.000000</td>\n",
       "      <td>16715.000000</td>\n",
       "      <td>16715.000000</td>\n",
       "      <td>8137.000000</td>\n",
       "    </tr>\n",
       "    <tr>\n",
       "      <th>mean</th>\n",
       "      <td>2006.484616</td>\n",
       "      <td>0.263377</td>\n",
       "      <td>0.145060</td>\n",
       "      <td>0.077617</td>\n",
       "      <td>0.047342</td>\n",
       "      <td>68.967679</td>\n",
       "    </tr>\n",
       "    <tr>\n",
       "      <th>std</th>\n",
       "      <td>5.877050</td>\n",
       "      <td>0.813604</td>\n",
       "      <td>0.503339</td>\n",
       "      <td>0.308853</td>\n",
       "      <td>0.186731</td>\n",
       "      <td>13.938165</td>\n",
       "    </tr>\n",
       "    <tr>\n",
       "      <th>min</th>\n",
       "      <td>1980.000000</td>\n",
       "      <td>0.000000</td>\n",
       "      <td>0.000000</td>\n",
       "      <td>0.000000</td>\n",
       "      <td>0.000000</td>\n",
       "      <td>13.000000</td>\n",
       "    </tr>\n",
       "    <tr>\n",
       "      <th>25%</th>\n",
       "      <td>2003.000000</td>\n",
       "      <td>0.000000</td>\n",
       "      <td>0.000000</td>\n",
       "      <td>0.000000</td>\n",
       "      <td>0.000000</td>\n",
       "      <td>60.000000</td>\n",
       "    </tr>\n",
       "    <tr>\n",
       "      <th>50%</th>\n",
       "      <td>2007.000000</td>\n",
       "      <td>0.080000</td>\n",
       "      <td>0.020000</td>\n",
       "      <td>0.000000</td>\n",
       "      <td>0.010000</td>\n",
       "      <td>71.000000</td>\n",
       "    </tr>\n",
       "    <tr>\n",
       "      <th>75%</th>\n",
       "      <td>2010.000000</td>\n",
       "      <td>0.240000</td>\n",
       "      <td>0.110000</td>\n",
       "      <td>0.040000</td>\n",
       "      <td>0.030000</td>\n",
       "      <td>79.000000</td>\n",
       "    </tr>\n",
       "    <tr>\n",
       "      <th>max</th>\n",
       "      <td>2016.000000</td>\n",
       "      <td>41.360000</td>\n",
       "      <td>28.960000</td>\n",
       "      <td>10.220000</td>\n",
       "      <td>10.570000</td>\n",
       "      <td>98.000000</td>\n",
       "    </tr>\n",
       "  </tbody>\n",
       "</table>\n",
       "</div>"
      ],
      "text/plain": [
       "       Year_of_Release      NA_sales      EU_sales      JP_sales  \\\n",
       "count     16446.000000  16715.000000  16715.000000  16715.000000   \n",
       "mean       2006.484616      0.263377      0.145060      0.077617   \n",
       "std           5.877050      0.813604      0.503339      0.308853   \n",
       "min        1980.000000      0.000000      0.000000      0.000000   \n",
       "25%        2003.000000      0.000000      0.000000      0.000000   \n",
       "50%        2007.000000      0.080000      0.020000      0.000000   \n",
       "75%        2010.000000      0.240000      0.110000      0.040000   \n",
       "max        2016.000000     41.360000     28.960000     10.220000   \n",
       "\n",
       "        Other_sales  Critic_Score  \n",
       "count  16715.000000   8137.000000  \n",
       "mean       0.047342     68.967679  \n",
       "std        0.186731     13.938165  \n",
       "min        0.000000     13.000000  \n",
       "25%        0.000000     60.000000  \n",
       "50%        0.010000     71.000000  \n",
       "75%        0.030000     79.000000  \n",
       "max       10.570000     98.000000  "
      ]
     },
     "execution_count": 5,
     "metadata": {},
     "output_type": "execute_result"
    }
   ],
   "source": [
    "data.describe() # выведем для просмотра описательной статистики "
   ]
  },
  {
   "cell_type": "code",
   "execution_count": 6,
   "metadata": {},
   "outputs": [],
   "source": [
    "data.columns = data.columns.str.lower() # приведем названия колонок к нижнему регистру"
   ]
  },
  {
   "cell_type": "code",
   "execution_count": 7,
   "metadata": {},
   "outputs": [
    {
     "data": {
      "text/plain": [
       "array([[<AxesSubplot:title={'center':'year_of_release'}>,\n",
       "        <AxesSubplot:title={'center':'na_sales'}>],\n",
       "       [<AxesSubplot:title={'center':'eu_sales'}>,\n",
       "        <AxesSubplot:title={'center':'jp_sales'}>],\n",
       "       [<AxesSubplot:title={'center':'other_sales'}>,\n",
       "        <AxesSubplot:title={'center':'critic_score'}>]], dtype=object)"
      ]
     },
     "execution_count": 7,
     "metadata": {},
     "output_type": "execute_result"
    },
    {
     "data": {
      "image/png": "[encoded data removed]",
      "text/plain": [
       "<Figure size 1080x1440 with 6 Axes>"
      ]
     },
     "metadata": {
      "needs_background": "light"
     },
     "output_type": "display_data"
    }
   ],
   "source": [
    "data.hist(figsize=(15, 20)) # построим гистограммы всех числовых столбцов"
   ]
  },
  {
   "cell_type": "markdown",
   "metadata": {},
   "source": [
    "## Подготовка данных"
   ]
  },
  {
   "cell_type": "code",
   "execution_count": 8,
   "metadata": {},
   "outputs": [
    {
     "data": {
      "text/plain": [
       "name                  2\n",
       "platform              0\n",
       "year_of_release     269\n",
       "genre                 2\n",
       "na_sales              0\n",
       "eu_sales              0\n",
       "jp_sales              0\n",
       "other_sales           0\n",
       "critic_score       8578\n",
       "user_score         6701\n",
       "rating             6766\n",
       "dtype: int64"
      ]
     },
     "execution_count": 8,
     "metadata": {},
     "output_type": "execute_result"
    }
   ],
   "source": [
    "data.isna().sum() # посмотрим на пропуски и их количество"
   ]
  },
  {
   "cell_type": "markdown",
   "metadata": {},
   "source": [
    "### Посмотрим на пропуски в столбце \"name\" - название игры"
   ]
  },
  {
   "cell_type": "code",
   "execution_count": 9,
   "metadata": {},
   "outputs": [
    {
     "data": {
      "text/html": [
       "<div>\n",
       "<style scoped>\n",
       "    .dataframe tbody tr th:only-of-type {\n",
       "        vertical-align: middle;\n",
       "    }\n",
       "\n",
       "    .dataframe tbody tr th {\n",
       "        vertical-align: top;\n",
       "    }\n",
       "\n",
       "    .dataframe thead th {\n",
       "        text-align: right;\n",
       "    }\n",
       "</style>\n",
       "<table border=\"1\" class=\"dataframe\">\n",
       "  <thead>\n",
       "    <tr style=\"text-align: right;\">\n",
       "      <th></th>\n",
       "      <th>name</th>\n",
       "      <th>platform</th>\n",
       "      <th>year_of_release</th>\n",
       "      <th>genre</th>\n",
       "      <th>na_sales</th>\n",
       "      <th>eu_sales</th>\n",
       "      <th>jp_sales</th>\n",
       "      <th>other_sales</th>\n",
       "      <th>critic_score</th>\n",
       "      <th>user_score</th>\n",
       "      <th>rating</th>\n",
       "    </tr>\n",
       "  </thead>\n",
       "  <tbody>\n",
       "    <tr>\n",
       "      <th>659</th>\n",
       "      <td>NaN</td>\n",
       "      <td>GEN</td>\n",
       "      <td>1993.0</td>\n",
       "      <td>NaN</td>\n",
       "      <td>1.78</td>\n",
       "      <td>0.53</td>\n",
       "      <td>0.00</td>\n",
       "      <td>0.08</td>\n",
       "      <td>NaN</td>\n",
       "      <td>NaN</td>\n",
       "      <td>NaN</td>\n",
       "    </tr>\n",
       "    <tr>\n",
       "      <th>14244</th>\n",
       "      <td>NaN</td>\n",
       "      <td>GEN</td>\n",
       "      <td>1993.0</td>\n",
       "      <td>NaN</td>\n",
       "      <td>0.00</td>\n",
       "      <td>0.00</td>\n",
       "      <td>0.03</td>\n",
       "      <td>0.00</td>\n",
       "      <td>NaN</td>\n",
       "      <td>NaN</td>\n",
       "      <td>NaN</td>\n",
       "    </tr>\n",
       "  </tbody>\n",
       "</table>\n",
       "</div>"
      ],
      "text/plain": [
       "      name platform  year_of_release genre  na_sales  eu_sales  jp_sales  \\\n",
       "659    NaN      GEN           1993.0   NaN      1.78      0.53      0.00   \n",
       "14244  NaN      GEN           1993.0   NaN      0.00      0.00      0.03   \n",
       "\n",
       "       other_sales  critic_score user_score rating  \n",
       "659           0.08           NaN        NaN    NaN  \n",
       "14244         0.00           NaN        NaN    NaN  "
      ]
     },
     "execution_count": 9,
     "metadata": {},
     "output_type": "execute_result"
    }
   ],
   "source": [
    "data.loc[data['name'].isnull() == True]"
   ]
  },
  {
   "cell_type": "code",
   "execution_count": 10,
   "metadata": {},
   "outputs": [],
   "source": [
    "# в этих же строках 2 пропуска в колонке 'genre'\n",
    "data.dropna(subset=['name'], inplace=True) # удалим строки без названия игр и жанра игры"
   ]
  },
  {
   "cell_type": "markdown",
   "metadata": {},
   "source": [
    "### Посмотрим на пропуски в столбце \"year_of_release\" - год релиза"
   ]
  },
  {
   "cell_type": "code",
   "execution_count": 11,
   "metadata": {},
   "outputs": [
    {
     "data": {
      "text/html": [
       "<div>\n",
       "<style scoped>\n",
       "    .dataframe tbody tr th:only-of-type {\n",
       "        vertical-align: middle;\n",
       "    }\n",
       "\n",
       "    .dataframe tbody tr th {\n",
       "        vertical-align: top;\n",
       "    }\n",
       "\n",
       "    .dataframe thead th {\n",
       "        text-align: right;\n",
       "    }\n",
       "</style>\n",
       "<table border=\"1\" class=\"dataframe\">\n",
       "  <thead>\n",
       "    <tr style=\"text-align: right;\">\n",
       "      <th></th>\n",
       "      <th>name</th>\n",
       "      <th>platform</th>\n",
       "      <th>year_of_release</th>\n",
       "      <th>genre</th>\n",
       "      <th>na_sales</th>\n",
       "      <th>eu_sales</th>\n",
       "      <th>jp_sales</th>\n",
       "      <th>other_sales</th>\n",
       "      <th>critic_score</th>\n",
       "      <th>user_score</th>\n",
       "      <th>rating</th>\n",
       "    </tr>\n",
       "  </thead>\n",
       "  <tbody>\n",
       "    <tr>\n",
       "      <th>183</th>\n",
       "      <td>Madden NFL 2004</td>\n",
       "      <td>PS2</td>\n",
       "      <td>NaN</td>\n",
       "      <td>Sports</td>\n",
       "      <td>4.26</td>\n",
       "      <td>0.26</td>\n",
       "      <td>0.01</td>\n",
       "      <td>0.71</td>\n",
       "      <td>94.0</td>\n",
       "      <td>8.5</td>\n",
       "      <td>E</td>\n",
       "    </tr>\n",
       "    <tr>\n",
       "      <th>609</th>\n",
       "      <td>Space Invaders</td>\n",
       "      <td>2600</td>\n",
       "      <td>NaN</td>\n",
       "      <td>Shooter</td>\n",
       "      <td>2.36</td>\n",
       "      <td>0.14</td>\n",
       "      <td>0.00</td>\n",
       "      <td>0.03</td>\n",
       "      <td>NaN</td>\n",
       "      <td>NaN</td>\n",
       "      <td>NaN</td>\n",
       "    </tr>\n",
       "    <tr>\n",
       "      <th>657</th>\n",
       "      <td>Frogger's Adventures: Temple of the Frog</td>\n",
       "      <td>GBA</td>\n",
       "      <td>NaN</td>\n",
       "      <td>Adventure</td>\n",
       "      <td>2.15</td>\n",
       "      <td>0.18</td>\n",
       "      <td>0.00</td>\n",
       "      <td>0.07</td>\n",
       "      <td>73.0</td>\n",
       "      <td>tbd</td>\n",
       "      <td>E</td>\n",
       "    </tr>\n",
       "    <tr>\n",
       "      <th>627</th>\n",
       "      <td>Rock Band</td>\n",
       "      <td>X360</td>\n",
       "      <td>NaN</td>\n",
       "      <td>Misc</td>\n",
       "      <td>1.93</td>\n",
       "      <td>0.33</td>\n",
       "      <td>0.00</td>\n",
       "      <td>0.21</td>\n",
       "      <td>92.0</td>\n",
       "      <td>8.2</td>\n",
       "      <td>T</td>\n",
       "    </tr>\n",
       "    <tr>\n",
       "      <th>456</th>\n",
       "      <td>LEGO Batman: The Videogame</td>\n",
       "      <td>Wii</td>\n",
       "      <td>NaN</td>\n",
       "      <td>Action</td>\n",
       "      <td>1.80</td>\n",
       "      <td>0.97</td>\n",
       "      <td>0.00</td>\n",
       "      <td>0.29</td>\n",
       "      <td>74.0</td>\n",
       "      <td>7.9</td>\n",
       "      <td>E10+</td>\n",
       "    </tr>\n",
       "    <tr>\n",
       "      <th>475</th>\n",
       "      <td>wwe Smackdown vs. Raw 2006</td>\n",
       "      <td>PS2</td>\n",
       "      <td>NaN</td>\n",
       "      <td>Fighting</td>\n",
       "      <td>1.57</td>\n",
       "      <td>1.02</td>\n",
       "      <td>0.00</td>\n",
       "      <td>0.41</td>\n",
       "      <td>NaN</td>\n",
       "      <td>NaN</td>\n",
       "      <td>NaN</td>\n",
       "    </tr>\n",
       "    <tr>\n",
       "      <th>678</th>\n",
       "      <td>LEGO Indiana Jones: The Original Adventures</td>\n",
       "      <td>Wii</td>\n",
       "      <td>NaN</td>\n",
       "      <td>Action</td>\n",
       "      <td>1.51</td>\n",
       "      <td>0.61</td>\n",
       "      <td>0.00</td>\n",
       "      <td>0.21</td>\n",
       "      <td>78.0</td>\n",
       "      <td>6.6</td>\n",
       "      <td>E10+</td>\n",
       "    </tr>\n",
       "    <tr>\n",
       "      <th>805</th>\n",
       "      <td>Rock Band</td>\n",
       "      <td>Wii</td>\n",
       "      <td>NaN</td>\n",
       "      <td>Misc</td>\n",
       "      <td>1.33</td>\n",
       "      <td>0.56</td>\n",
       "      <td>0.00</td>\n",
       "      <td>0.20</td>\n",
       "      <td>80.0</td>\n",
       "      <td>6.3</td>\n",
       "      <td>T</td>\n",
       "    </tr>\n",
       "    <tr>\n",
       "      <th>719</th>\n",
       "      <td>Call of Duty 3</td>\n",
       "      <td>Wii</td>\n",
       "      <td>NaN</td>\n",
       "      <td>Shooter</td>\n",
       "      <td>1.17</td>\n",
       "      <td>0.84</td>\n",
       "      <td>0.00</td>\n",
       "      <td>0.23</td>\n",
       "      <td>69.0</td>\n",
       "      <td>6.7</td>\n",
       "      <td>T</td>\n",
       "    </tr>\n",
       "    <tr>\n",
       "      <th>377</th>\n",
       "      <td>FIFA Soccer 2004</td>\n",
       "      <td>PS2</td>\n",
       "      <td>NaN</td>\n",
       "      <td>Sports</td>\n",
       "      <td>0.59</td>\n",
       "      <td>2.36</td>\n",
       "      <td>0.04</td>\n",
       "      <td>0.51</td>\n",
       "      <td>84.0</td>\n",
       "      <td>6.4</td>\n",
       "      <td>E</td>\n",
       "    </tr>\n",
       "  </tbody>\n",
       "</table>\n",
       "</div>"
      ],
      "text/plain": [
       "                                            name platform  year_of_release  \\\n",
       "183                              Madden NFL 2004      PS2              NaN   \n",
       "609                               Space Invaders     2600              NaN   \n",
       "657     Frogger's Adventures: Temple of the Frog      GBA              NaN   \n",
       "627                                    Rock Band     X360              NaN   \n",
       "456                   LEGO Batman: The Videogame      Wii              NaN   \n",
       "475                   wwe Smackdown vs. Raw 2006      PS2              NaN   \n",
       "678  LEGO Indiana Jones: The Original Adventures      Wii              NaN   \n",
       "805                                    Rock Band      Wii              NaN   \n",
       "719                               Call of Duty 3      Wii              NaN   \n",
       "377                             FIFA Soccer 2004      PS2              NaN   \n",
       "\n",
       "         genre  na_sales  eu_sales  jp_sales  other_sales  critic_score  \\\n",
       "183     Sports      4.26      0.26      0.01         0.71          94.0   \n",
       "609    Shooter      2.36      0.14      0.00         0.03           NaN   \n",
       "657  Adventure      2.15      0.18      0.00         0.07          73.0   \n",
       "627       Misc      1.93      0.33      0.00         0.21          92.0   \n",
       "456     Action      1.80      0.97      0.00         0.29          74.0   \n",
       "475   Fighting      1.57      1.02      0.00         0.41           NaN   \n",
       "678     Action      1.51      0.61      0.00         0.21          78.0   \n",
       "805       Misc      1.33      0.56      0.00         0.20          80.0   \n",
       "719    Shooter      1.17      0.84      0.00         0.23          69.0   \n",
       "377     Sports      0.59      2.36      0.04         0.51          84.0   \n",
       "\n",
       "    user_score rating  \n",
       "183        8.5      E  \n",
       "609        NaN    NaN  \n",
       "657        tbd      E  \n",
       "627        8.2      T  \n",
       "456        7.9   E10+  \n",
       "475        NaN    NaN  \n",
       "678        6.6   E10+  \n",
       "805        6.3      T  \n",
       "719        6.7      T  \n",
       "377        6.4      E  "
      ]
     },
     "execution_count": 11,
     "metadata": {},
     "output_type": "execute_result"
    }
   ],
   "source": [
    "data.loc[(data['year_of_release'].isnull() == True) & ((data['na_sales']+data['eu_sales']+data['jp_sales']+data['other_sales'])\\\n",
    ">= 2)].sort_values(by='na_sales', ascending=False)\n",
    "# посмотрим на строки, в которых отсутсвует год релиза при сумме значений проданных копий по всем странам больше 2млн."
   ]
  },
  {
   "cell_type": "code",
   "execution_count": 12,
   "metadata": {},
   "outputs": [
    {
     "data": {
      "text/html": [
       "<div>\n",
       "<style scoped>\n",
       "    .dataframe tbody tr th:only-of-type {\n",
       "        vertical-align: middle;\n",
       "    }\n",
       "\n",
       "    .dataframe tbody tr th {\n",
       "        vertical-align: top;\n",
       "    }\n",
       "\n",
       "    .dataframe thead th {\n",
       "        text-align: right;\n",
       "    }\n",
       "</style>\n",
       "<table border=\"1\" class=\"dataframe\">\n",
       "  <thead>\n",
       "    <tr style=\"text-align: right;\">\n",
       "      <th></th>\n",
       "      <th>name</th>\n",
       "      <th>platform</th>\n",
       "      <th>year_of_release</th>\n",
       "      <th>genre</th>\n",
       "      <th>na_sales</th>\n",
       "      <th>eu_sales</th>\n",
       "      <th>jp_sales</th>\n",
       "      <th>other_sales</th>\n",
       "      <th>critic_score</th>\n",
       "      <th>user_score</th>\n",
       "      <th>rating</th>\n",
       "    </tr>\n",
       "  </thead>\n",
       "  <tbody>\n",
       "    <tr>\n",
       "      <th>183</th>\n",
       "      <td>Madden NFL 2004</td>\n",
       "      <td>PS2</td>\n",
       "      <td>NaN</td>\n",
       "      <td>Sports</td>\n",
       "      <td>4.26</td>\n",
       "      <td>0.26</td>\n",
       "      <td>0.01</td>\n",
       "      <td>0.71</td>\n",
       "      <td>94.0</td>\n",
       "      <td>8.5</td>\n",
       "      <td>E</td>\n",
       "    </tr>\n",
       "    <tr>\n",
       "      <th>1881</th>\n",
       "      <td>Madden NFL 2004</td>\n",
       "      <td>XB</td>\n",
       "      <td>2003.0</td>\n",
       "      <td>Sports</td>\n",
       "      <td>1.02</td>\n",
       "      <td>0.02</td>\n",
       "      <td>0.00</td>\n",
       "      <td>0.05</td>\n",
       "      <td>92.0</td>\n",
       "      <td>8.3</td>\n",
       "      <td>E</td>\n",
       "    </tr>\n",
       "    <tr>\n",
       "      <th>3889</th>\n",
       "      <td>Madden NFL 2004</td>\n",
       "      <td>GC</td>\n",
       "      <td>2003.0</td>\n",
       "      <td>Sports</td>\n",
       "      <td>0.40</td>\n",
       "      <td>0.10</td>\n",
       "      <td>0.00</td>\n",
       "      <td>0.01</td>\n",
       "      <td>94.0</td>\n",
       "      <td>7.7</td>\n",
       "      <td>E</td>\n",
       "    </tr>\n",
       "    <tr>\n",
       "      <th>5708</th>\n",
       "      <td>Madden NFL 2004</td>\n",
       "      <td>GBA</td>\n",
       "      <td>2003.0</td>\n",
       "      <td>Sports</td>\n",
       "      <td>0.22</td>\n",
       "      <td>0.08</td>\n",
       "      <td>0.00</td>\n",
       "      <td>0.01</td>\n",
       "      <td>70.0</td>\n",
       "      <td>6.6</td>\n",
       "      <td>E</td>\n",
       "    </tr>\n",
       "  </tbody>\n",
       "</table>\n",
       "</div>"
      ],
      "text/plain": [
       "                 name platform  year_of_release   genre  na_sales  eu_sales  \\\n",
       "183   Madden NFL 2004      PS2              NaN  Sports      4.26      0.26   \n",
       "1881  Madden NFL 2004       XB           2003.0  Sports      1.02      0.02   \n",
       "3889  Madden NFL 2004       GC           2003.0  Sports      0.40      0.10   \n",
       "5708  Madden NFL 2004      GBA           2003.0  Sports      0.22      0.08   \n",
       "\n",
       "      jp_sales  other_sales  critic_score user_score rating  \n",
       "183       0.01         0.71          94.0        8.5      E  \n",
       "1881      0.00         0.05          92.0        8.3      E  \n",
       "3889      0.00         0.01          94.0        7.7      E  \n",
       "5708      0.00         0.01          70.0        6.6      E  "
      ]
     },
     "execution_count": 12,
     "metadata": {},
     "output_type": "execute_result"
    }
   ],
   "source": [
    "data.loc[data['name'] == 'Madden NFL 2004'] # посмотрим представлена ли самая популярная игра ещё на других платформах"
   ]
  },
  {
   "cell_type": "code",
   "execution_count": 13,
   "metadata": {},
   "outputs": [
    {
     "data": {
      "text/html": [
       "<div>\n",
       "<style scoped>\n",
       "    .dataframe tbody tr th:only-of-type {\n",
       "        vertical-align: middle;\n",
       "    }\n",
       "\n",
       "    .dataframe tbody tr th {\n",
       "        vertical-align: top;\n",
       "    }\n",
       "\n",
       "    .dataframe thead th {\n",
       "        text-align: right;\n",
       "    }\n",
       "</style>\n",
       "<table border=\"1\" class=\"dataframe\">\n",
       "  <thead>\n",
       "    <tr style=\"text-align: right;\">\n",
       "      <th></th>\n",
       "      <th>name</th>\n",
       "      <th>platform</th>\n",
       "      <th>year_of_release</th>\n",
       "      <th>genre</th>\n",
       "      <th>na_sales</th>\n",
       "      <th>eu_sales</th>\n",
       "      <th>jp_sales</th>\n",
       "      <th>other_sales</th>\n",
       "      <th>critic_score</th>\n",
       "      <th>user_score</th>\n",
       "      <th>rating</th>\n",
       "    </tr>\n",
       "  </thead>\n",
       "  <tbody>\n",
       "    <tr>\n",
       "      <th>609</th>\n",
       "      <td>Space Invaders</td>\n",
       "      <td>2600</td>\n",
       "      <td>NaN</td>\n",
       "      <td>Shooter</td>\n",
       "      <td>2.36</td>\n",
       "      <td>0.14</td>\n",
       "      <td>0.00</td>\n",
       "      <td>0.03</td>\n",
       "      <td>NaN</td>\n",
       "      <td>NaN</td>\n",
       "      <td>NaN</td>\n",
       "    </tr>\n",
       "    <tr>\n",
       "      <th>4264</th>\n",
       "      <td>Space Invaders</td>\n",
       "      <td>SNES</td>\n",
       "      <td>1994.0</td>\n",
       "      <td>Shooter</td>\n",
       "      <td>0.00</td>\n",
       "      <td>0.00</td>\n",
       "      <td>0.46</td>\n",
       "      <td>0.00</td>\n",
       "      <td>NaN</td>\n",
       "      <td>NaN</td>\n",
       "      <td>NaN</td>\n",
       "    </tr>\n",
       "    <tr>\n",
       "      <th>8580</th>\n",
       "      <td>Space Invaders</td>\n",
       "      <td>N64</td>\n",
       "      <td>1999.0</td>\n",
       "      <td>Shooter</td>\n",
       "      <td>0.13</td>\n",
       "      <td>0.03</td>\n",
       "      <td>0.00</td>\n",
       "      <td>0.00</td>\n",
       "      <td>NaN</td>\n",
       "      <td>NaN</td>\n",
       "      <td>NaN</td>\n",
       "    </tr>\n",
       "    <tr>\n",
       "      <th>10383</th>\n",
       "      <td>Space Invaders</td>\n",
       "      <td>GBA</td>\n",
       "      <td>2002.0</td>\n",
       "      <td>Shooter</td>\n",
       "      <td>0.08</td>\n",
       "      <td>0.03</td>\n",
       "      <td>0.00</td>\n",
       "      <td>0.00</td>\n",
       "      <td>NaN</td>\n",
       "      <td>NaN</td>\n",
       "      <td>NaN</td>\n",
       "    </tr>\n",
       "  </tbody>\n",
       "</table>\n",
       "</div>"
      ],
      "text/plain": [
       "                 name platform  year_of_release    genre  na_sales  eu_sales  \\\n",
       "609    Space Invaders     2600              NaN  Shooter      2.36      0.14   \n",
       "4264   Space Invaders     SNES           1994.0  Shooter      0.00      0.00   \n",
       "8580   Space Invaders      N64           1999.0  Shooter      0.13      0.03   \n",
       "10383  Space Invaders      GBA           2002.0  Shooter      0.08      0.03   \n",
       "\n",
       "       jp_sales  other_sales  critic_score user_score rating  \n",
       "609        0.00         0.03           NaN        NaN    NaN  \n",
       "4264       0.46         0.00           NaN        NaN    NaN  \n",
       "8580       0.00         0.00           NaN        NaN    NaN  \n",
       "10383      0.00         0.00           NaN        NaN    NaN  "
      ]
     },
     "execution_count": 13,
     "metadata": {},
     "output_type": "execute_result"
    }
   ],
   "source": [
    "data.loc[data['name'] == 'Space Invaders'] # посмотрим представлена ли популярная игра ещё другими годами"
   ]
  },
  {
   "cell_type": "markdown",
   "metadata": {},
   "source": [
    "**Прежде, чем удалять пропуски, что бы не исказить анализ, мы можем заменить пропуски в играх с самым большим числом проданных копий на, скажем, значение года по такие же играм, если год релиза заполнен. При этом, как мы выявили, невсегда год релиза совпадает на разных платформах, поэтому можно заменить на медианное значение.**"
   ]
  },
  {
   "cell_type": "code",
   "execution_count": 14,
   "metadata": {},
   "outputs": [],
   "source": [
    "for d in data['name'].unique():  # по названию игры\n",
    " # заменим все пустые ячейки в столбце с годом релиза на медианное значение\n",
    "    try:\n",
    "        if data.loc[data['name']==d, 'year_of_release'].sum() > 0:\n",
    "            data.loc[(data['name']==d) & (data['year_of_release'].isna()), 'year_of_release'] = data.loc[data['name'] == d, 'year_of_release'].median()\n",
    "    except:\n",
    "        print('ошибка')\n"
   ]
  },
  {
   "cell_type": "code",
   "execution_count": 15,
   "metadata": {},
   "outputs": [
    {
     "data": {
      "text/html": [
       "<div>\n",
       "<style scoped>\n",
       "    .dataframe tbody tr th:only-of-type {\n",
       "        vertical-align: middle;\n",
       "    }\n",
       "\n",
       "    .dataframe tbody tr th {\n",
       "        vertical-align: top;\n",
       "    }\n",
       "\n",
       "    .dataframe thead th {\n",
       "        text-align: right;\n",
       "    }\n",
       "</style>\n",
       "<table border=\"1\" class=\"dataframe\">\n",
       "  <thead>\n",
       "    <tr style=\"text-align: right;\">\n",
       "      <th></th>\n",
       "      <th>name</th>\n",
       "      <th>platform</th>\n",
       "      <th>year_of_release</th>\n",
       "      <th>genre</th>\n",
       "      <th>na_sales</th>\n",
       "      <th>eu_sales</th>\n",
       "      <th>jp_sales</th>\n",
       "      <th>other_sales</th>\n",
       "      <th>critic_score</th>\n",
       "      <th>user_score</th>\n",
       "      <th>rating</th>\n",
       "    </tr>\n",
       "  </thead>\n",
       "  <tbody>\n",
       "    <tr>\n",
       "      <th>657</th>\n",
       "      <td>Frogger's Adventures: Temple of the Frog</td>\n",
       "      <td>GBA</td>\n",
       "      <td>NaN</td>\n",
       "      <td>Adventure</td>\n",
       "      <td>2.15</td>\n",
       "      <td>0.18</td>\n",
       "      <td>0.00</td>\n",
       "      <td>0.07</td>\n",
       "      <td>73.0</td>\n",
       "      <td>tbd</td>\n",
       "      <td>E</td>\n",
       "    </tr>\n",
       "    <tr>\n",
       "      <th>627</th>\n",
       "      <td>Rock Band</td>\n",
       "      <td>X360</td>\n",
       "      <td>NaN</td>\n",
       "      <td>Misc</td>\n",
       "      <td>1.93</td>\n",
       "      <td>0.33</td>\n",
       "      <td>0.00</td>\n",
       "      <td>0.21</td>\n",
       "      <td>92.0</td>\n",
       "      <td>8.2</td>\n",
       "      <td>T</td>\n",
       "    </tr>\n",
       "    <tr>\n",
       "      <th>475</th>\n",
       "      <td>wwe Smackdown vs. Raw 2006</td>\n",
       "      <td>PS2</td>\n",
       "      <td>NaN</td>\n",
       "      <td>Fighting</td>\n",
       "      <td>1.57</td>\n",
       "      <td>1.02</td>\n",
       "      <td>0.00</td>\n",
       "      <td>0.41</td>\n",
       "      <td>NaN</td>\n",
       "      <td>NaN</td>\n",
       "      <td>NaN</td>\n",
       "    </tr>\n",
       "    <tr>\n",
       "      <th>805</th>\n",
       "      <td>Rock Band</td>\n",
       "      <td>Wii</td>\n",
       "      <td>NaN</td>\n",
       "      <td>Misc</td>\n",
       "      <td>1.33</td>\n",
       "      <td>0.56</td>\n",
       "      <td>0.00</td>\n",
       "      <td>0.20</td>\n",
       "      <td>80.0</td>\n",
       "      <td>6.3</td>\n",
       "      <td>T</td>\n",
       "    </tr>\n",
       "    <tr>\n",
       "      <th>1506</th>\n",
       "      <td>Adventure</td>\n",
       "      <td>2600</td>\n",
       "      <td>NaN</td>\n",
       "      <td>Adventure</td>\n",
       "      <td>1.21</td>\n",
       "      <td>0.08</td>\n",
       "      <td>0.00</td>\n",
       "      <td>0.01</td>\n",
       "      <td>NaN</td>\n",
       "      <td>NaN</td>\n",
       "      <td>NaN</td>\n",
       "    </tr>\n",
       "    <tr>\n",
       "      <th>1585</th>\n",
       "      <td>Combat</td>\n",
       "      <td>2600</td>\n",
       "      <td>NaN</td>\n",
       "      <td>Action</td>\n",
       "      <td>1.17</td>\n",
       "      <td>0.07</td>\n",
       "      <td>0.00</td>\n",
       "      <td>0.01</td>\n",
       "      <td>NaN</td>\n",
       "      <td>NaN</td>\n",
       "      <td>NaN</td>\n",
       "    </tr>\n",
       "    <tr>\n",
       "      <th>1142</th>\n",
       "      <td>Rock Band</td>\n",
       "      <td>PS3</td>\n",
       "      <td>NaN</td>\n",
       "      <td>Misc</td>\n",
       "      <td>0.99</td>\n",
       "      <td>0.41</td>\n",
       "      <td>0.00</td>\n",
       "      <td>0.22</td>\n",
       "      <td>92.0</td>\n",
       "      <td>8.4</td>\n",
       "      <td>T</td>\n",
       "    </tr>\n",
       "    <tr>\n",
       "      <th>2106</th>\n",
       "      <td>Air-Sea Battle</td>\n",
       "      <td>2600</td>\n",
       "      <td>NaN</td>\n",
       "      <td>Shooter</td>\n",
       "      <td>0.91</td>\n",
       "      <td>0.06</td>\n",
       "      <td>0.00</td>\n",
       "      <td>0.01</td>\n",
       "      <td>NaN</td>\n",
       "      <td>NaN</td>\n",
       "      <td>NaN</td>\n",
       "    </tr>\n",
       "    <tr>\n",
       "      <th>1301</th>\n",
       "      <td>Triple Play 99</td>\n",
       "      <td>PS</td>\n",
       "      <td>NaN</td>\n",
       "      <td>Sports</td>\n",
       "      <td>0.81</td>\n",
       "      <td>0.55</td>\n",
       "      <td>0.00</td>\n",
       "      <td>0.10</td>\n",
       "      <td>NaN</td>\n",
       "      <td>NaN</td>\n",
       "      <td>NaN</td>\n",
       "    </tr>\n",
       "    <tr>\n",
       "      <th>1840</th>\n",
       "      <td>Rock Band</td>\n",
       "      <td>PS2</td>\n",
       "      <td>NaN</td>\n",
       "      <td>Misc</td>\n",
       "      <td>0.71</td>\n",
       "      <td>0.06</td>\n",
       "      <td>0.00</td>\n",
       "      <td>0.35</td>\n",
       "      <td>82.0</td>\n",
       "      <td>6.8</td>\n",
       "      <td>T</td>\n",
       "    </tr>\n",
       "    <tr>\n",
       "      <th>2010</th>\n",
       "      <td>Donkey Kong Land III</td>\n",
       "      <td>GB</td>\n",
       "      <td>NaN</td>\n",
       "      <td>Platform</td>\n",
       "      <td>0.68</td>\n",
       "      <td>0.31</td>\n",
       "      <td>0.00</td>\n",
       "      <td>0.04</td>\n",
       "      <td>NaN</td>\n",
       "      <td>NaN</td>\n",
       "      <td>NaN</td>\n",
       "    </tr>\n",
       "    <tr>\n",
       "      <th>1984</th>\n",
       "      <td>Legacy of Kain: Soul Reaver</td>\n",
       "      <td>PS</td>\n",
       "      <td>NaN</td>\n",
       "      <td>Action</td>\n",
       "      <td>0.58</td>\n",
       "      <td>0.40</td>\n",
       "      <td>0.00</td>\n",
       "      <td>0.07</td>\n",
       "      <td>91.0</td>\n",
       "      <td>9</td>\n",
       "      <td>T</td>\n",
       "    </tr>\n",
       "    <tr>\n",
       "      <th>3883</th>\n",
       "      <td>Fishing Derby</td>\n",
       "      <td>2600</td>\n",
       "      <td>NaN</td>\n",
       "      <td>Sports</td>\n",
       "      <td>0.48</td>\n",
       "      <td>0.03</td>\n",
       "      <td>0.00</td>\n",
       "      <td>0.01</td>\n",
       "      <td>NaN</td>\n",
       "      <td>NaN</td>\n",
       "      <td>NaN</td>\n",
       "    </tr>\n",
       "    <tr>\n",
       "      <th>3289</th>\n",
       "      <td>Advance Wars: Days of Ruin</td>\n",
       "      <td>DS</td>\n",
       "      <td>NaN</td>\n",
       "      <td>Strategy</td>\n",
       "      <td>0.43</td>\n",
       "      <td>0.12</td>\n",
       "      <td>0.00</td>\n",
       "      <td>0.05</td>\n",
       "      <td>86.0</td>\n",
       "      <td>8.7</td>\n",
       "      <td>E10+</td>\n",
       "    </tr>\n",
       "    <tr>\n",
       "      <th>2969</th>\n",
       "      <td>Test Drive Unlimited 2</td>\n",
       "      <td>X360</td>\n",
       "      <td>NaN</td>\n",
       "      <td>Racing</td>\n",
       "      <td>0.30</td>\n",
       "      <td>0.31</td>\n",
       "      <td>0.00</td>\n",
       "      <td>0.07</td>\n",
       "      <td>68.0</td>\n",
       "      <td>6.4</td>\n",
       "      <td>T</td>\n",
       "    </tr>\n",
       "    <tr>\n",
       "      <th>2108</th>\n",
       "      <td>Suikoden III</td>\n",
       "      <td>PS2</td>\n",
       "      <td>NaN</td>\n",
       "      <td>Role-Playing</td>\n",
       "      <td>0.29</td>\n",
       "      <td>0.23</td>\n",
       "      <td>0.38</td>\n",
       "      <td>0.08</td>\n",
       "      <td>86.0</td>\n",
       "      <td>7.7</td>\n",
       "      <td>T</td>\n",
       "    </tr>\n",
       "    <tr>\n",
       "      <th>2773</th>\n",
       "      <td>WarioWare: Twisted!</td>\n",
       "      <td>GBA</td>\n",
       "      <td>NaN</td>\n",
       "      <td>Puzzle</td>\n",
       "      <td>0.16</td>\n",
       "      <td>0.06</td>\n",
       "      <td>0.50</td>\n",
       "      <td>0.02</td>\n",
       "      <td>NaN</td>\n",
       "      <td>NaN</td>\n",
       "      <td>NaN</td>\n",
       "    </tr>\n",
       "    <tr>\n",
       "      <th>3233</th>\n",
       "      <td>Test Drive Unlimited 2</td>\n",
       "      <td>PS3</td>\n",
       "      <td>NaN</td>\n",
       "      <td>Racing</td>\n",
       "      <td>0.16</td>\n",
       "      <td>0.34</td>\n",
       "      <td>0.01</td>\n",
       "      <td>0.12</td>\n",
       "      <td>70.0</td>\n",
       "      <td>6.1</td>\n",
       "      <td>T</td>\n",
       "    </tr>\n",
       "    <tr>\n",
       "      <th>2169</th>\n",
       "      <td>Yakuza 4</td>\n",
       "      <td>PS3</td>\n",
       "      <td>NaN</td>\n",
       "      <td>Action</td>\n",
       "      <td>0.15</td>\n",
       "      <td>0.13</td>\n",
       "      <td>0.63</td>\n",
       "      <td>0.05</td>\n",
       "      <td>78.0</td>\n",
       "      <td>8</td>\n",
       "      <td>M</td>\n",
       "    </tr>\n",
       "    <tr>\n",
       "      <th>3187</th>\n",
       "      <td>Monster Hunter 2</td>\n",
       "      <td>PS2</td>\n",
       "      <td>NaN</td>\n",
       "      <td>Role-Playing</td>\n",
       "      <td>0.00</td>\n",
       "      <td>0.00</td>\n",
       "      <td>0.63</td>\n",
       "      <td>0.00</td>\n",
       "      <td>NaN</td>\n",
       "      <td>NaN</td>\n",
       "      <td>NaN</td>\n",
       "    </tr>\n",
       "  </tbody>\n",
       "</table>\n",
       "</div>"
      ],
      "text/plain": [
       "                                          name platform  year_of_release  \\\n",
       "657   Frogger's Adventures: Temple of the Frog      GBA              NaN   \n",
       "627                                  Rock Band     X360              NaN   \n",
       "475                 wwe Smackdown vs. Raw 2006      PS2              NaN   \n",
       "805                                  Rock Band      Wii              NaN   \n",
       "1506                                 Adventure     2600              NaN   \n",
       "1585                                    Combat     2600              NaN   \n",
       "1142                                 Rock Band      PS3              NaN   \n",
       "2106                            Air-Sea Battle     2600              NaN   \n",
       "1301                            Triple Play 99       PS              NaN   \n",
       "1840                                 Rock Band      PS2              NaN   \n",
       "2010                      Donkey Kong Land III       GB              NaN   \n",
       "1984               Legacy of Kain: Soul Reaver       PS              NaN   \n",
       "3883                             Fishing Derby     2600              NaN   \n",
       "3289                Advance Wars: Days of Ruin       DS              NaN   \n",
       "2969                    Test Drive Unlimited 2     X360              NaN   \n",
       "2108                              Suikoden III      PS2              NaN   \n",
       "2773                       WarioWare: Twisted!      GBA              NaN   \n",
       "3233                    Test Drive Unlimited 2      PS3              NaN   \n",
       "2169                                  Yakuza 4      PS3              NaN   \n",
       "3187                          Monster Hunter 2      PS2              NaN   \n",
       "\n",
       "             genre  na_sales  eu_sales  jp_sales  other_sales  critic_score  \\\n",
       "657      Adventure      2.15      0.18      0.00         0.07          73.0   \n",
       "627           Misc      1.93      0.33      0.00         0.21          92.0   \n",
       "475       Fighting      1.57      1.02      0.00         0.41           NaN   \n",
       "805           Misc      1.33      0.56      0.00         0.20          80.0   \n",
       "1506     Adventure      1.21      0.08      0.00         0.01           NaN   \n",
       "1585        Action      1.17      0.07      0.00         0.01           NaN   \n",
       "1142          Misc      0.99      0.41      0.00         0.22          92.0   \n",
       "2106       Shooter      0.91      0.06      0.00         0.01           NaN   \n",
       "1301        Sports      0.81      0.55      0.00         0.10           NaN   \n",
       "1840          Misc      0.71      0.06      0.00         0.35          82.0   \n",
       "2010      Platform      0.68      0.31      0.00         0.04           NaN   \n",
       "1984        Action      0.58      0.40      0.00         0.07          91.0   \n",
       "3883        Sports      0.48      0.03      0.00         0.01           NaN   \n",
       "3289      Strategy      0.43      0.12      0.00         0.05          86.0   \n",
       "2969        Racing      0.30      0.31      0.00         0.07          68.0   \n",
       "2108  Role-Playing      0.29      0.23      0.38         0.08          86.0   \n",
       "2773        Puzzle      0.16      0.06      0.50         0.02           NaN   \n",
       "3233        Racing      0.16      0.34      0.01         0.12          70.0   \n",
       "2169        Action      0.15      0.13      0.63         0.05          78.0   \n",
       "3187  Role-Playing      0.00      0.00      0.63         0.00           NaN   \n",
       "\n",
       "     user_score rating  \n",
       "657         tbd      E  \n",
       "627         8.2      T  \n",
       "475         NaN    NaN  \n",
       "805         6.3      T  \n",
       "1506        NaN    NaN  \n",
       "1585        NaN    NaN  \n",
       "1142        8.4      T  \n",
       "2106        NaN    NaN  \n",
       "1301        NaN    NaN  \n",
       "1840        6.8      T  \n",
       "2010        NaN    NaN  \n",
       "1984          9      T  \n",
       "3883        NaN    NaN  \n",
       "3289        8.7   E10+  \n",
       "2969        6.4      T  \n",
       "2108        7.7      T  \n",
       "2773        NaN    NaN  \n",
       "3233        6.1      T  \n",
       "2169          8      M  \n",
       "3187        NaN    NaN  "
      ]
     },
     "execution_count": 15,
     "metadata": {},
     "output_type": "execute_result"
    }
   ],
   "source": [
    "data.loc[(data['year_of_release'].isnull() == True) & ((data['na_sales']+data['eu_sales']+data['jp_sales']+data['other_sales'])\\\n",
    ">= 0.5)].sort_values(by='na_sales', ascending=False)\n",
    "# посмотрим на строки, в которых отсутсвует год релиза при сумме значений проданных копий по всем странам больше суммы всех средних, равной примерно 0,5млн копий"
   ]
  },
  {
   "cell_type": "markdown",
   "metadata": {},
   "source": [
    "Заполним год релиза в строках, где есть оценки. Данные возьмем с общедоступных сайтов в интернете."
   ]
  },
  {
   "cell_type": "code",
   "execution_count": 16,
   "metadata": {},
   "outputs": [],
   "source": [
    "data.loc[(data['year_of_release'].isna()) & (data['name'] == \"Frogger's Adventures: Temple of the Frog\"), 'year_of_release'] = 2001"
   ]
  },
  {
   "cell_type": "code",
   "execution_count": 17,
   "metadata": {},
   "outputs": [],
   "source": [
    "data.loc[(data['year_of_release'].isna()) & (data['name'] == 'Rock Band'), 'year_of_release'] = 2007"
   ]
  },
  {
   "cell_type": "code",
   "execution_count": 18,
   "metadata": {},
   "outputs": [],
   "source": [
    "data.loc[(data['year_of_release'].isna()) & (data['name'] == 'Legacy of Kain: Soul Reaver'), 'year_of_release'] = 1999"
   ]
  },
  {
   "cell_type": "code",
   "execution_count": 19,
   "metadata": {},
   "outputs": [],
   "source": [
    "data.loc[(data['year_of_release'].isna()) & (data['name'] == 'Advance Wars: Days of Ruin'), 'year_of_release'] = 2008"
   ]
  },
  {
   "cell_type": "code",
   "execution_count": 20,
   "metadata": {},
   "outputs": [],
   "source": [
    "data.loc[(data['year_of_release'].isna()) & (data['name'] == 'Test Drive Unlimited 2'), 'year_of_release'] = 2011"
   ]
  },
  {
   "cell_type": "code",
   "execution_count": 21,
   "metadata": {},
   "outputs": [],
   "source": [
    "data.loc[(data['year_of_release'].isna()) & (data['name'] == 'Suikoden III'), 'year_of_release'] = 2002"
   ]
  },
  {
   "cell_type": "code",
   "execution_count": 22,
   "metadata": {},
   "outputs": [],
   "source": [
    "data.loc[(data['year_of_release'].isna()) & (data['name'] == 'Yakuza 4'), 'year_of_release'] = 2010"
   ]
  },
  {
   "cell_type": "code",
   "execution_count": 23,
   "metadata": {},
   "outputs": [
    {
     "data": {
      "text/html": [
       "<div>\n",
       "<style scoped>\n",
       "    .dataframe tbody tr th:only-of-type {\n",
       "        vertical-align: middle;\n",
       "    }\n",
       "\n",
       "    .dataframe tbody tr th {\n",
       "        vertical-align: top;\n",
       "    }\n",
       "\n",
       "    .dataframe thead th {\n",
       "        text-align: right;\n",
       "    }\n",
       "</style>\n",
       "<table border=\"1\" class=\"dataframe\">\n",
       "  <thead>\n",
       "    <tr style=\"text-align: right;\">\n",
       "      <th></th>\n",
       "      <th>name</th>\n",
       "      <th>platform</th>\n",
       "      <th>year_of_release</th>\n",
       "      <th>genre</th>\n",
       "      <th>na_sales</th>\n",
       "      <th>eu_sales</th>\n",
       "      <th>jp_sales</th>\n",
       "      <th>other_sales</th>\n",
       "      <th>critic_score</th>\n",
       "      <th>user_score</th>\n",
       "      <th>rating</th>\n",
       "    </tr>\n",
       "  </thead>\n",
       "  <tbody>\n",
       "    <tr>\n",
       "      <th>475</th>\n",
       "      <td>wwe Smackdown vs. Raw 2006</td>\n",
       "      <td>PS2</td>\n",
       "      <td>NaN</td>\n",
       "      <td>Fighting</td>\n",
       "      <td>1.57</td>\n",
       "      <td>1.02</td>\n",
       "      <td>0.00</td>\n",
       "      <td>0.41</td>\n",
       "      <td>NaN</td>\n",
       "      <td>NaN</td>\n",
       "      <td>NaN</td>\n",
       "    </tr>\n",
       "    <tr>\n",
       "      <th>1301</th>\n",
       "      <td>Triple Play 99</td>\n",
       "      <td>PS</td>\n",
       "      <td>NaN</td>\n",
       "      <td>Sports</td>\n",
       "      <td>0.81</td>\n",
       "      <td>0.55</td>\n",
       "      <td>0.00</td>\n",
       "      <td>0.10</td>\n",
       "      <td>NaN</td>\n",
       "      <td>NaN</td>\n",
       "      <td>NaN</td>\n",
       "    </tr>\n",
       "    <tr>\n",
       "      <th>1506</th>\n",
       "      <td>Adventure</td>\n",
       "      <td>2600</td>\n",
       "      <td>NaN</td>\n",
       "      <td>Adventure</td>\n",
       "      <td>1.21</td>\n",
       "      <td>0.08</td>\n",
       "      <td>0.00</td>\n",
       "      <td>0.01</td>\n",
       "      <td>NaN</td>\n",
       "      <td>NaN</td>\n",
       "      <td>NaN</td>\n",
       "    </tr>\n",
       "    <tr>\n",
       "      <th>1585</th>\n",
       "      <td>Combat</td>\n",
       "      <td>2600</td>\n",
       "      <td>NaN</td>\n",
       "      <td>Action</td>\n",
       "      <td>1.17</td>\n",
       "      <td>0.07</td>\n",
       "      <td>0.00</td>\n",
       "      <td>0.01</td>\n",
       "      <td>NaN</td>\n",
       "      <td>NaN</td>\n",
       "      <td>NaN</td>\n",
       "    </tr>\n",
       "    <tr>\n",
       "      <th>2010</th>\n",
       "      <td>Donkey Kong Land III</td>\n",
       "      <td>GB</td>\n",
       "      <td>NaN</td>\n",
       "      <td>Platform</td>\n",
       "      <td>0.68</td>\n",
       "      <td>0.31</td>\n",
       "      <td>0.00</td>\n",
       "      <td>0.04</td>\n",
       "      <td>NaN</td>\n",
       "      <td>NaN</td>\n",
       "      <td>NaN</td>\n",
       "    </tr>\n",
       "    <tr>\n",
       "      <th>2106</th>\n",
       "      <td>Air-Sea Battle</td>\n",
       "      <td>2600</td>\n",
       "      <td>NaN</td>\n",
       "      <td>Shooter</td>\n",
       "      <td>0.91</td>\n",
       "      <td>0.06</td>\n",
       "      <td>0.00</td>\n",
       "      <td>0.01</td>\n",
       "      <td>NaN</td>\n",
       "      <td>NaN</td>\n",
       "      <td>NaN</td>\n",
       "    </tr>\n",
       "    <tr>\n",
       "      <th>2773</th>\n",
       "      <td>WarioWare: Twisted!</td>\n",
       "      <td>GBA</td>\n",
       "      <td>NaN</td>\n",
       "      <td>Puzzle</td>\n",
       "      <td>0.16</td>\n",
       "      <td>0.06</td>\n",
       "      <td>0.50</td>\n",
       "      <td>0.02</td>\n",
       "      <td>NaN</td>\n",
       "      <td>NaN</td>\n",
       "      <td>NaN</td>\n",
       "    </tr>\n",
       "    <tr>\n",
       "      <th>3187</th>\n",
       "      <td>Monster Hunter 2</td>\n",
       "      <td>PS2</td>\n",
       "      <td>NaN</td>\n",
       "      <td>Role-Playing</td>\n",
       "      <td>0.00</td>\n",
       "      <td>0.00</td>\n",
       "      <td>0.63</td>\n",
       "      <td>0.00</td>\n",
       "      <td>NaN</td>\n",
       "      <td>NaN</td>\n",
       "      <td>NaN</td>\n",
       "    </tr>\n",
       "    <tr>\n",
       "      <th>3883</th>\n",
       "      <td>Fishing Derby</td>\n",
       "      <td>2600</td>\n",
       "      <td>NaN</td>\n",
       "      <td>Sports</td>\n",
       "      <td>0.48</td>\n",
       "      <td>0.03</td>\n",
       "      <td>0.00</td>\n",
       "      <td>0.01</td>\n",
       "      <td>NaN</td>\n",
       "      <td>NaN</td>\n",
       "      <td>NaN</td>\n",
       "    </tr>\n",
       "  </tbody>\n",
       "</table>\n",
       "</div>"
      ],
      "text/plain": [
       "                            name platform  year_of_release         genre  \\\n",
       "475   wwe Smackdown vs. Raw 2006      PS2              NaN      Fighting   \n",
       "1301              Triple Play 99       PS              NaN        Sports   \n",
       "1506                   Adventure     2600              NaN     Adventure   \n",
       "1585                      Combat     2600              NaN        Action   \n",
       "2010        Donkey Kong Land III       GB              NaN      Platform   \n",
       "2106              Air-Sea Battle     2600              NaN       Shooter   \n",
       "2773         WarioWare: Twisted!      GBA              NaN        Puzzle   \n",
       "3187            Monster Hunter 2      PS2              NaN  Role-Playing   \n",
       "3883               Fishing Derby     2600              NaN        Sports   \n",
       "\n",
       "      na_sales  eu_sales  jp_sales  other_sales  critic_score user_score  \\\n",
       "475       1.57      1.02      0.00         0.41           NaN        NaN   \n",
       "1301      0.81      0.55      0.00         0.10           NaN        NaN   \n",
       "1506      1.21      0.08      0.00         0.01           NaN        NaN   \n",
       "1585      1.17      0.07      0.00         0.01           NaN        NaN   \n",
       "2010      0.68      0.31      0.00         0.04           NaN        NaN   \n",
       "2106      0.91      0.06      0.00         0.01           NaN        NaN   \n",
       "2773      0.16      0.06      0.50         0.02           NaN        NaN   \n",
       "3187      0.00      0.00      0.63         0.00           NaN        NaN   \n",
       "3883      0.48      0.03      0.00         0.01           NaN        NaN   \n",
       "\n",
       "     rating  \n",
       "475     NaN  \n",
       "1301    NaN  \n",
       "1506    NaN  \n",
       "1585    NaN  \n",
       "2010    NaN  \n",
       "2106    NaN  \n",
       "2773    NaN  \n",
       "3187    NaN  \n",
       "3883    NaN  "
      ]
     },
     "execution_count": 23,
     "metadata": {},
     "output_type": "execute_result"
    }
   ],
   "source": [
    "data.loc[(data['year_of_release'].isnull() == True) & ((data['na_sales']+data['eu_sales']+data['jp_sales']+data['other_sales']) >= 0.5)]"
   ]
  },
  {
   "cell_type": "code",
   "execution_count": 24,
   "metadata": {},
   "outputs": [
    {
     "data": {
      "text/plain": [
       "name                  0\n",
       "platform              0\n",
       "year_of_release     134\n",
       "genre                 0\n",
       "na_sales              0\n",
       "eu_sales              0\n",
       "jp_sales              0\n",
       "other_sales           0\n",
       "critic_score       8576\n",
       "user_score         6699\n",
       "rating             6764\n",
       "dtype: int64"
      ]
     },
     "execution_count": 24,
     "metadata": {},
     "output_type": "execute_result"
    }
   ],
   "source": [
    "data.isna().sum()"
   ]
  },
  {
   "cell_type": "code",
   "execution_count": 25,
   "metadata": {},
   "outputs": [],
   "source": [
    "data.dropna(subset=['year_of_release'], inplace=True) # удалим оставшиеся 134 строки без значения года релиза, \n",
    "# их доля незначительна в количестве из 16715, в 9 строках при значительных количествах проданных копий нет оценок для анализа, \n",
    "# в остальных 125 строках количествах проданных копий по всем странам ниже среднего по всем странам"
   ]
  },
  {
   "cell_type": "code",
   "execution_count": 26,
   "metadata": {},
   "outputs": [],
   "source": [
    "data['year_of_release'] = data['year_of_release'].astype('int')"
   ]
  },
  {
   "cell_type": "code",
   "execution_count": 27,
   "metadata": {},
   "outputs": [
    {
     "data": {
      "text/html": [
       "<div>\n",
       "<style scoped>\n",
       "    .dataframe tbody tr th:only-of-type {\n",
       "        vertical-align: middle;\n",
       "    }\n",
       "\n",
       "    .dataframe tbody tr th {\n",
       "        vertical-align: top;\n",
       "    }\n",
       "\n",
       "    .dataframe thead th {\n",
       "        text-align: right;\n",
       "    }\n",
       "</style>\n",
       "<table border=\"1\" class=\"dataframe\">\n",
       "  <thead>\n",
       "    <tr style=\"text-align: right;\">\n",
       "      <th></th>\n",
       "      <th>name</th>\n",
       "      <th>platform</th>\n",
       "      <th>year_of_release</th>\n",
       "      <th>genre</th>\n",
       "      <th>na_sales</th>\n",
       "      <th>eu_sales</th>\n",
       "      <th>jp_sales</th>\n",
       "      <th>other_sales</th>\n",
       "      <th>critic_score</th>\n",
       "      <th>user_score</th>\n",
       "      <th>rating</th>\n",
       "    </tr>\n",
       "  </thead>\n",
       "  <tbody>\n",
       "  </tbody>\n",
       "</table>\n",
       "</div>"
      ],
      "text/plain": [
       "Empty DataFrame\n",
       "Columns: [name, platform, year_of_release, genre, na_sales, eu_sales, jp_sales, other_sales, critic_score, user_score, rating]\n",
       "Index: []"
      ]
     },
     "execution_count": 27,
     "metadata": {},
     "output_type": "execute_result"
    }
   ],
   "source": [
    "# проверим, есть ли строки с отсутствующей суммой значений проданных копий по всем странам\n",
    "data.loc[(data['year_of_release'].isnull() == True) & ((data['na_sales']+data['eu_sales']+data['jp_sales']+data['other_sales']) == 0)]"
   ]
  },
  {
   "cell_type": "markdown",
   "metadata": {},
   "source": [
    "### Посмотрим на пропуски в столбце \"critic_score\" - оценка критиков (максимум 100)"
   ]
  },
  {
   "cell_type": "code",
   "execution_count": 28,
   "metadata": {},
   "outputs": [
    {
     "data": {
      "text/html": [
       "<div>\n",
       "<style scoped>\n",
       "    .dataframe tbody tr th:only-of-type {\n",
       "        vertical-align: middle;\n",
       "    }\n",
       "\n",
       "    .dataframe tbody tr th {\n",
       "        vertical-align: top;\n",
       "    }\n",
       "\n",
       "    .dataframe thead th {\n",
       "        text-align: right;\n",
       "    }\n",
       "</style>\n",
       "<table border=\"1\" class=\"dataframe\">\n",
       "  <thead>\n",
       "    <tr style=\"text-align: right;\">\n",
       "      <th></th>\n",
       "      <th>name</th>\n",
       "      <th>platform</th>\n",
       "      <th>year_of_release</th>\n",
       "      <th>genre</th>\n",
       "      <th>na_sales</th>\n",
       "      <th>eu_sales</th>\n",
       "      <th>jp_sales</th>\n",
       "      <th>other_sales</th>\n",
       "      <th>critic_score</th>\n",
       "      <th>user_score</th>\n",
       "      <th>rating</th>\n",
       "    </tr>\n",
       "  </thead>\n",
       "  <tbody>\n",
       "    <tr>\n",
       "      <th>12159</th>\n",
       "      <td>TigerShark</td>\n",
       "      <td>PS</td>\n",
       "      <td>1997</td>\n",
       "      <td>Simulation</td>\n",
       "      <td>0.04</td>\n",
       "      <td>0.03</td>\n",
       "      <td>0.00</td>\n",
       "      <td>0.00</td>\n",
       "      <td>NaN</td>\n",
       "      <td>NaN</td>\n",
       "      <td>NaN</td>\n",
       "    </tr>\n",
       "    <tr>\n",
       "      <th>8600</th>\n",
       "      <td>Just Dance: Disney Party</td>\n",
       "      <td>X360</td>\n",
       "      <td>2012</td>\n",
       "      <td>Misc</td>\n",
       "      <td>0.13</td>\n",
       "      <td>0.02</td>\n",
       "      <td>0.00</td>\n",
       "      <td>0.02</td>\n",
       "      <td>NaN</td>\n",
       "      <td>tbd</td>\n",
       "      <td>E</td>\n",
       "    </tr>\n",
       "    <tr>\n",
       "      <th>12824</th>\n",
       "      <td>Nobunaga no Yabou: Souzou</td>\n",
       "      <td>PS4</td>\n",
       "      <td>2014</td>\n",
       "      <td>Strategy</td>\n",
       "      <td>0.00</td>\n",
       "      <td>0.00</td>\n",
       "      <td>0.06</td>\n",
       "      <td>0.00</td>\n",
       "      <td>NaN</td>\n",
       "      <td>NaN</td>\n",
       "      <td>NaN</td>\n",
       "    </tr>\n",
       "    <tr>\n",
       "      <th>14265</th>\n",
       "      <td>Dream C Club Zero</td>\n",
       "      <td>X360</td>\n",
       "      <td>2011</td>\n",
       "      <td>Simulation</td>\n",
       "      <td>0.00</td>\n",
       "      <td>0.00</td>\n",
       "      <td>0.03</td>\n",
       "      <td>0.00</td>\n",
       "      <td>NaN</td>\n",
       "      <td>NaN</td>\n",
       "      <td>NaN</td>\n",
       "    </tr>\n",
       "    <tr>\n",
       "      <th>15823</th>\n",
       "      <td>Dynasty Warriors: Eiketsuden</td>\n",
       "      <td>PS4</td>\n",
       "      <td>2016</td>\n",
       "      <td>Action</td>\n",
       "      <td>0.00</td>\n",
       "      <td>0.00</td>\n",
       "      <td>0.02</td>\n",
       "      <td>0.00</td>\n",
       "      <td>NaN</td>\n",
       "      <td>NaN</td>\n",
       "      <td>NaN</td>\n",
       "    </tr>\n",
       "    <tr>\n",
       "      <th>7801</th>\n",
       "      <td>Marvel Super Hero Squad: Comic Combat</td>\n",
       "      <td>PS3</td>\n",
       "      <td>2011</td>\n",
       "      <td>Action</td>\n",
       "      <td>0.11</td>\n",
       "      <td>0.05</td>\n",
       "      <td>0.00</td>\n",
       "      <td>0.03</td>\n",
       "      <td>NaN</td>\n",
       "      <td>tbd</td>\n",
       "      <td>E10+</td>\n",
       "    </tr>\n",
       "    <tr>\n",
       "      <th>4791</th>\n",
       "      <td>Samurai Shodown</td>\n",
       "      <td>SNES</td>\n",
       "      <td>1994</td>\n",
       "      <td>Fighting</td>\n",
       "      <td>0.00</td>\n",
       "      <td>0.00</td>\n",
       "      <td>0.40</td>\n",
       "      <td>0.00</td>\n",
       "      <td>NaN</td>\n",
       "      <td>NaN</td>\n",
       "      <td>NaN</td>\n",
       "    </tr>\n",
       "    <tr>\n",
       "      <th>16229</th>\n",
       "      <td>Dr. Slump &amp; Arale-Chan</td>\n",
       "      <td>DS</td>\n",
       "      <td>2008</td>\n",
       "      <td>Adventure</td>\n",
       "      <td>0.00</td>\n",
       "      <td>0.00</td>\n",
       "      <td>0.01</td>\n",
       "      <td>0.00</td>\n",
       "      <td>NaN</td>\n",
       "      <td>NaN</td>\n",
       "      <td>NaN</td>\n",
       "    </tr>\n",
       "    <tr>\n",
       "      <th>8667</th>\n",
       "      <td>Street Racer</td>\n",
       "      <td>PS</td>\n",
       "      <td>1996</td>\n",
       "      <td>Racing</td>\n",
       "      <td>0.09</td>\n",
       "      <td>0.06</td>\n",
       "      <td>0.00</td>\n",
       "      <td>0.01</td>\n",
       "      <td>NaN</td>\n",
       "      <td>NaN</td>\n",
       "      <td>NaN</td>\n",
       "    </tr>\n",
       "    <tr>\n",
       "      <th>5553</th>\n",
       "      <td>One Piece: Romance Dawn - Bouken no Yoake</td>\n",
       "      <td>PSP</td>\n",
       "      <td>2012</td>\n",
       "      <td>Fighting</td>\n",
       "      <td>0.00</td>\n",
       "      <td>0.00</td>\n",
       "      <td>0.32</td>\n",
       "      <td>0.00</td>\n",
       "      <td>NaN</td>\n",
       "      <td>NaN</td>\n",
       "      <td>NaN</td>\n",
       "    </tr>\n",
       "  </tbody>\n",
       "</table>\n",
       "</div>"
      ],
      "text/plain": [
       "                                            name platform  year_of_release  \\\n",
       "12159                                 TigerShark       PS             1997   \n",
       "8600                    Just Dance: Disney Party     X360             2012   \n",
       "12824                  Nobunaga no Yabou: Souzou      PS4             2014   \n",
       "14265                          Dream C Club Zero     X360             2011   \n",
       "15823               Dynasty Warriors: Eiketsuden      PS4             2016   \n",
       "7801       Marvel Super Hero Squad: Comic Combat      PS3             2011   \n",
       "4791                             Samurai Shodown     SNES             1994   \n",
       "16229                     Dr. Slump & Arale-Chan       DS             2008   \n",
       "8667                                Street Racer       PS             1996   \n",
       "5553   One Piece: Romance Dawn - Bouken no Yoake      PSP             2012   \n",
       "\n",
       "            genre  na_sales  eu_sales  jp_sales  other_sales  critic_score  \\\n",
       "12159  Simulation      0.04      0.03      0.00         0.00           NaN   \n",
       "8600         Misc      0.13      0.02      0.00         0.02           NaN   \n",
       "12824    Strategy      0.00      0.00      0.06         0.00           NaN   \n",
       "14265  Simulation      0.00      0.00      0.03         0.00           NaN   \n",
       "15823      Action      0.00      0.00      0.02         0.00           NaN   \n",
       "7801       Action      0.11      0.05      0.00         0.03           NaN   \n",
       "4791     Fighting      0.00      0.00      0.40         0.00           NaN   \n",
       "16229   Adventure      0.00      0.00      0.01         0.00           NaN   \n",
       "8667       Racing      0.09      0.06      0.00         0.01           NaN   \n",
       "5553     Fighting      0.00      0.00      0.32         0.00           NaN   \n",
       "\n",
       "      user_score rating  \n",
       "12159        NaN    NaN  \n",
       "8600         tbd      E  \n",
       "12824        NaN    NaN  \n",
       "14265        NaN    NaN  \n",
       "15823        NaN    NaN  \n",
       "7801         tbd   E10+  \n",
       "4791         NaN    NaN  \n",
       "16229        NaN    NaN  \n",
       "8667         NaN    NaN  \n",
       "5553         NaN    NaN  "
      ]
     },
     "execution_count": 28,
     "metadata": {},
     "output_type": "execute_result"
    }
   ],
   "source": [
    "data[data['critic_score'].isnull()].sample(10)"
   ]
  },
  {
   "cell_type": "code",
   "execution_count": 29,
   "metadata": {},
   "outputs": [
    {
     "data": {
      "text/plain": [
       "array(['NES', 'GB', 'DS', 'SNES', 'GBA', 'PS4', '3DS', 'N64', 'X360',\n",
       "       'Wii', '2600', 'PS', 'XOne', 'GC', 'PS3', 'GEN', 'PC', 'PSP',\n",
       "       'WiiU', 'PS2', 'XB', 'DC', 'PSV', 'SAT', 'SCD', 'WS', 'NG', 'TG16',\n",
       "       '3DO', 'GG', 'PCFX'], dtype=object)"
      ]
     },
     "execution_count": 29,
     "metadata": {},
     "output_type": "execute_result"
    }
   ],
   "source": [
    "data.loc[data['critic_score'].isnull() == True, 'platform'].unique() # посмотрим на каких платформах нет оценок критиков"
   ]
  },
  {
   "cell_type": "markdown",
   "metadata": {},
   "source": [
    "**Пропусков слишком много в общем количестве строк и они в строках многих платформ, разных лет выпуска, удалять их нельзя.**"
   ]
  },
  {
   "cell_type": "markdown",
   "metadata": {},
   "source": [
    "### Посмотрим на пропуски в столбце \"user_score\" - оценка пользователей (максимум 10)"
   ]
  },
  {
   "cell_type": "code",
   "execution_count": 30,
   "metadata": {},
   "outputs": [
    {
     "data": {
      "text/html": [
       "<div>\n",
       "<style scoped>\n",
       "    .dataframe tbody tr th:only-of-type {\n",
       "        vertical-align: middle;\n",
       "    }\n",
       "\n",
       "    .dataframe tbody tr th {\n",
       "        vertical-align: top;\n",
       "    }\n",
       "\n",
       "    .dataframe thead th {\n",
       "        text-align: right;\n",
       "    }\n",
       "</style>\n",
       "<table border=\"1\" class=\"dataframe\">\n",
       "  <thead>\n",
       "    <tr style=\"text-align: right;\">\n",
       "      <th></th>\n",
       "      <th>name</th>\n",
       "      <th>platform</th>\n",
       "      <th>year_of_release</th>\n",
       "      <th>genre</th>\n",
       "      <th>na_sales</th>\n",
       "      <th>eu_sales</th>\n",
       "      <th>jp_sales</th>\n",
       "      <th>other_sales</th>\n",
       "      <th>critic_score</th>\n",
       "      <th>user_score</th>\n",
       "      <th>rating</th>\n",
       "    </tr>\n",
       "  </thead>\n",
       "  <tbody>\n",
       "    <tr>\n",
       "      <th>4348</th>\n",
       "      <td>NHL FaceOff</td>\n",
       "      <td>PS</td>\n",
       "      <td>1994</td>\n",
       "      <td>Sports</td>\n",
       "      <td>0.25</td>\n",
       "      <td>0.17</td>\n",
       "      <td>0.00</td>\n",
       "      <td>0.03</td>\n",
       "      <td>NaN</td>\n",
       "      <td>NaN</td>\n",
       "      <td>NaN</td>\n",
       "    </tr>\n",
       "    <tr>\n",
       "      <th>10938</th>\n",
       "      <td>Hakuouki: Zuisouroku Portable</td>\n",
       "      <td>PSP</td>\n",
       "      <td>2010</td>\n",
       "      <td>Adventure</td>\n",
       "      <td>0.00</td>\n",
       "      <td>0.00</td>\n",
       "      <td>0.09</td>\n",
       "      <td>0.00</td>\n",
       "      <td>NaN</td>\n",
       "      <td>NaN</td>\n",
       "      <td>NaN</td>\n",
       "    </tr>\n",
       "    <tr>\n",
       "      <th>12643</th>\n",
       "      <td>Raw Danger! (JP sales)</td>\n",
       "      <td>PS2</td>\n",
       "      <td>2006</td>\n",
       "      <td>Action</td>\n",
       "      <td>0.00</td>\n",
       "      <td>0.00</td>\n",
       "      <td>0.06</td>\n",
       "      <td>0.00</td>\n",
       "      <td>NaN</td>\n",
       "      <td>NaN</td>\n",
       "      <td>NaN</td>\n",
       "    </tr>\n",
       "    <tr>\n",
       "      <th>5279</th>\n",
       "      <td>Mega Man X3</td>\n",
       "      <td>SNES</td>\n",
       "      <td>1995</td>\n",
       "      <td>Action</td>\n",
       "      <td>0.04</td>\n",
       "      <td>0.01</td>\n",
       "      <td>0.30</td>\n",
       "      <td>0.00</td>\n",
       "      <td>NaN</td>\n",
       "      <td>NaN</td>\n",
       "      <td>NaN</td>\n",
       "    </tr>\n",
       "    <tr>\n",
       "      <th>1207</th>\n",
       "      <td>Command &amp; Conquer: Tiberian Sun</td>\n",
       "      <td>PC</td>\n",
       "      <td>1999</td>\n",
       "      <td>Strategy</td>\n",
       "      <td>1.55</td>\n",
       "      <td>0.00</td>\n",
       "      <td>0.00</td>\n",
       "      <td>0.00</td>\n",
       "      <td>NaN</td>\n",
       "      <td>NaN</td>\n",
       "      <td>NaN</td>\n",
       "    </tr>\n",
       "    <tr>\n",
       "      <th>2706</th>\n",
       "      <td>Legends of Wrestling</td>\n",
       "      <td>PS2</td>\n",
       "      <td>2001</td>\n",
       "      <td>Fighting</td>\n",
       "      <td>0.37</td>\n",
       "      <td>0.29</td>\n",
       "      <td>0.00</td>\n",
       "      <td>0.10</td>\n",
       "      <td>NaN</td>\n",
       "      <td>NaN</td>\n",
       "      <td>NaN</td>\n",
       "    </tr>\n",
       "    <tr>\n",
       "      <th>14646</th>\n",
       "      <td>Mahjong Kakutou Club: Zenkoku Taisenban</td>\n",
       "      <td>PS3</td>\n",
       "      <td>2006</td>\n",
       "      <td>Misc</td>\n",
       "      <td>0.00</td>\n",
       "      <td>0.00</td>\n",
       "      <td>0.03</td>\n",
       "      <td>0.00</td>\n",
       "      <td>NaN</td>\n",
       "      <td>NaN</td>\n",
       "      <td>NaN</td>\n",
       "    </tr>\n",
       "    <tr>\n",
       "      <th>3501</th>\n",
       "      <td>Beyond The Beyond</td>\n",
       "      <td>PS</td>\n",
       "      <td>1995</td>\n",
       "      <td>Role-Playing</td>\n",
       "      <td>0.11</td>\n",
       "      <td>0.08</td>\n",
       "      <td>0.35</td>\n",
       "      <td>0.04</td>\n",
       "      <td>NaN</td>\n",
       "      <td>NaN</td>\n",
       "      <td>NaN</td>\n",
       "    </tr>\n",
       "    <tr>\n",
       "      <th>14189</th>\n",
       "      <td>Yggdra Union: We'll Never Fight Alone</td>\n",
       "      <td>GBA</td>\n",
       "      <td>2006</td>\n",
       "      <td>Role-Playing</td>\n",
       "      <td>0.00</td>\n",
       "      <td>0.00</td>\n",
       "      <td>0.03</td>\n",
       "      <td>0.00</td>\n",
       "      <td>NaN</td>\n",
       "      <td>NaN</td>\n",
       "      <td>NaN</td>\n",
       "    </tr>\n",
       "    <tr>\n",
       "      <th>9609</th>\n",
       "      <td>Fuse (Insomniac)</td>\n",
       "      <td>X360</td>\n",
       "      <td>2013</td>\n",
       "      <td>Shooter</td>\n",
       "      <td>0.09</td>\n",
       "      <td>0.03</td>\n",
       "      <td>0.00</td>\n",
       "      <td>0.01</td>\n",
       "      <td>NaN</td>\n",
       "      <td>NaN</td>\n",
       "      <td>NaN</td>\n",
       "    </tr>\n",
       "  </tbody>\n",
       "</table>\n",
       "</div>"
      ],
      "text/plain": [
       "                                          name platform  year_of_release  \\\n",
       "4348                               NHL FaceOff       PS             1994   \n",
       "10938            Hakuouki: Zuisouroku Portable      PSP             2010   \n",
       "12643                   Raw Danger! (JP sales)      PS2             2006   \n",
       "5279                               Mega Man X3     SNES             1995   \n",
       "1207           Command & Conquer: Tiberian Sun       PC             1999   \n",
       "2706                      Legends of Wrestling      PS2             2001   \n",
       "14646  Mahjong Kakutou Club: Zenkoku Taisenban      PS3             2006   \n",
       "3501                         Beyond The Beyond       PS             1995   \n",
       "14189    Yggdra Union: We'll Never Fight Alone      GBA             2006   \n",
       "9609                          Fuse (Insomniac)     X360             2013   \n",
       "\n",
       "              genre  na_sales  eu_sales  jp_sales  other_sales  critic_score  \\\n",
       "4348         Sports      0.25      0.17      0.00         0.03           NaN   \n",
       "10938     Adventure      0.00      0.00      0.09         0.00           NaN   \n",
       "12643        Action      0.00      0.00      0.06         0.00           NaN   \n",
       "5279         Action      0.04      0.01      0.30         0.00           NaN   \n",
       "1207       Strategy      1.55      0.00      0.00         0.00           NaN   \n",
       "2706       Fighting      0.37      0.29      0.00         0.10           NaN   \n",
       "14646          Misc      0.00      0.00      0.03         0.00           NaN   \n",
       "3501   Role-Playing      0.11      0.08      0.35         0.04           NaN   \n",
       "14189  Role-Playing      0.00      0.00      0.03         0.00           NaN   \n",
       "9609        Shooter      0.09      0.03      0.00         0.01           NaN   \n",
       "\n",
       "      user_score rating  \n",
       "4348         NaN    NaN  \n",
       "10938        NaN    NaN  \n",
       "12643        NaN    NaN  \n",
       "5279         NaN    NaN  \n",
       "1207         NaN    NaN  \n",
       "2706         NaN    NaN  \n",
       "14646        NaN    NaN  \n",
       "3501         NaN    NaN  \n",
       "14189        NaN    NaN  \n",
       "9609         NaN    NaN  "
      ]
     },
     "execution_count": 30,
     "metadata": {},
     "output_type": "execute_result"
    }
   ],
   "source": [
    "data[data['user_score'].isnull()].sample(10)"
   ]
  },
  {
   "cell_type": "code",
   "execution_count": 31,
   "metadata": {},
   "outputs": [
    {
     "data": {
      "text/plain": [
       "array(['NES', 'GB', 'DS', 'SNES', 'GBA', 'PS4', '3DS', 'N64', 'X360',\n",
       "       'Wii', '2600', 'PS', 'XOne', 'GC', 'PS3', 'GEN', 'PC', 'PSP',\n",
       "       'WiiU', 'PS2', 'XB', 'DC', 'PSV', 'SAT', 'SCD', 'WS', 'NG', 'TG16',\n",
       "       '3DO', 'GG', 'PCFX'], dtype=object)"
      ]
     },
     "execution_count": 31,
     "metadata": {},
     "output_type": "execute_result"
    }
   ],
   "source": [
    "data.loc[data['user_score'].isnull() == True, 'platform'].unique() # посмотрим на каких платформах нет оценок пользователей"
   ]
  },
  {
   "cell_type": "code",
   "execution_count": 32,
   "metadata": {},
   "outputs": [
    {
     "data": {
      "text/plain": [
       "array([nan, 'T', 'E', 'M', 'E10+', 'RP'], dtype=object)"
      ]
     },
     "execution_count": 32,
     "metadata": {},
     "output_type": "execute_result"
    }
   ],
   "source": [
    "data.loc[data['user_score'].isnull() == True, 'rating'].unique() # посмотрим на варианты рейтинга в этих строках"
   ]
  },
  {
   "cell_type": "markdown",
   "metadata": {},
   "source": [
    "**Пропусков слишком много в общем количестве строк, они в строках многих платформ, рейтинг в них не только NaN, удалять их нельзя.**"
   ]
  },
  {
   "cell_type": "code",
   "execution_count": 33,
   "metadata": {},
   "outputs": [
    {
     "data": {
      "text/plain": [
       "array(['8', nan, '8.3', '8.5', '6.6', '8.4', '8.6', '7.7', '6.3', '7.4',\n",
       "       '8.2', '9', '7.9', '8.1', '8.7', '7.1', '3.4', '5.3', '4.8', '3.2',\n",
       "       '8.9', '6.4', '7.8', '7.5', '2.6', '7.2', '9.2', '7', '7.3', '4.3',\n",
       "       '7.6', '5.7', '5', '9.1', '6.5', 'tbd', '8.8', '6.9', '9.4', '6.8',\n",
       "       '6.1', '6.7', '5.4', '4', '4.9', '4.5', '9.3', '6.2', '4.2', '6',\n",
       "       '3.7', '4.1', '5.8', '5.6', '5.5', '4.4', '4.6', '5.9', '3.9',\n",
       "       '3.1', '2.9', '5.2', '3.3', '4.7', '5.1', '3.5', '2.5', '1.9', '3',\n",
       "       '2.7', '2.2', '2', '9.5', '2.1', '3.6', '2.8', '1.8', '3.8', '0',\n",
       "       '1.6', '9.6', '2.4', '1.7', '1.1', '0.3', '1.5', '0.7', '1.2',\n",
       "       '2.3', '0.5', '1.3', '0.2', '0.6', '1.4', '0.9', '1', '9.7'],\n",
       "      dtype=object)"
      ]
     },
     "execution_count": 33,
     "metadata": {},
     "output_type": "execute_result"
    }
   ],
   "source": [
    "data['user_score'].unique() # посмотрим на уникальные значения в ценках пользователей"
   ]
  },
  {
   "cell_type": "code",
   "execution_count": 34,
   "metadata": {},
   "outputs": [
    {
     "data": {
      "text/html": [
       "<div>\n",
       "<style scoped>\n",
       "    .dataframe tbody tr th:only-of-type {\n",
       "        vertical-align: middle;\n",
       "    }\n",
       "\n",
       "    .dataframe tbody tr th {\n",
       "        vertical-align: top;\n",
       "    }\n",
       "\n",
       "    .dataframe thead th {\n",
       "        text-align: right;\n",
       "    }\n",
       "</style>\n",
       "<table border=\"1\" class=\"dataframe\">\n",
       "  <thead>\n",
       "    <tr style=\"text-align: right;\">\n",
       "      <th></th>\n",
       "      <th>name</th>\n",
       "      <th>platform</th>\n",
       "      <th>year_of_release</th>\n",
       "      <th>genre</th>\n",
       "      <th>na_sales</th>\n",
       "      <th>eu_sales</th>\n",
       "      <th>jp_sales</th>\n",
       "      <th>other_sales</th>\n",
       "      <th>critic_score</th>\n",
       "      <th>user_score</th>\n",
       "      <th>rating</th>\n",
       "    </tr>\n",
       "  </thead>\n",
       "  <tbody>\n",
       "    <tr>\n",
       "      <th>119</th>\n",
       "      <td>Zumba Fitness</td>\n",
       "      <td>Wii</td>\n",
       "      <td>2010</td>\n",
       "      <td>Sports</td>\n",
       "      <td>3.45</td>\n",
       "      <td>2.59</td>\n",
       "      <td>0.0</td>\n",
       "      <td>0.66</td>\n",
       "      <td>NaN</td>\n",
       "      <td>tbd</td>\n",
       "      <td>E</td>\n",
       "    </tr>\n",
       "    <tr>\n",
       "      <th>301</th>\n",
       "      <td>Namco Museum: 50th Anniversary</td>\n",
       "      <td>PS2</td>\n",
       "      <td>2005</td>\n",
       "      <td>Misc</td>\n",
       "      <td>2.08</td>\n",
       "      <td>1.35</td>\n",
       "      <td>0.0</td>\n",
       "      <td>0.54</td>\n",
       "      <td>61.0</td>\n",
       "      <td>tbd</td>\n",
       "      <td>E10+</td>\n",
       "    </tr>\n",
       "    <tr>\n",
       "      <th>520</th>\n",
       "      <td>Zumba Fitness 2</td>\n",
       "      <td>Wii</td>\n",
       "      <td>2011</td>\n",
       "      <td>Sports</td>\n",
       "      <td>1.51</td>\n",
       "      <td>1.03</td>\n",
       "      <td>0.0</td>\n",
       "      <td>0.27</td>\n",
       "      <td>NaN</td>\n",
       "      <td>tbd</td>\n",
       "      <td>T</td>\n",
       "    </tr>\n",
       "    <tr>\n",
       "      <th>645</th>\n",
       "      <td>uDraw Studio</td>\n",
       "      <td>Wii</td>\n",
       "      <td>2010</td>\n",
       "      <td>Misc</td>\n",
       "      <td>1.65</td>\n",
       "      <td>0.57</td>\n",
       "      <td>0.0</td>\n",
       "      <td>0.20</td>\n",
       "      <td>71.0</td>\n",
       "      <td>tbd</td>\n",
       "      <td>E</td>\n",
       "    </tr>\n",
       "    <tr>\n",
       "      <th>657</th>\n",
       "      <td>Frogger's Adventures: Temple of the Frog</td>\n",
       "      <td>GBA</td>\n",
       "      <td>2001</td>\n",
       "      <td>Adventure</td>\n",
       "      <td>2.15</td>\n",
       "      <td>0.18</td>\n",
       "      <td>0.0</td>\n",
       "      <td>0.07</td>\n",
       "      <td>73.0</td>\n",
       "      <td>tbd</td>\n",
       "      <td>E</td>\n",
       "    </tr>\n",
       "    <tr>\n",
       "      <th>...</th>\n",
       "      <td>...</td>\n",
       "      <td>...</td>\n",
       "      <td>...</td>\n",
       "      <td>...</td>\n",
       "      <td>...</td>\n",
       "      <td>...</td>\n",
       "      <td>...</td>\n",
       "      <td>...</td>\n",
       "      <td>...</td>\n",
       "      <td>...</td>\n",
       "      <td>...</td>\n",
       "    </tr>\n",
       "    <tr>\n",
       "      <th>16695</th>\n",
       "      <td>Planet Monsters</td>\n",
       "      <td>GBA</td>\n",
       "      <td>2001</td>\n",
       "      <td>Action</td>\n",
       "      <td>0.01</td>\n",
       "      <td>0.00</td>\n",
       "      <td>0.0</td>\n",
       "      <td>0.00</td>\n",
       "      <td>67.0</td>\n",
       "      <td>tbd</td>\n",
       "      <td>E</td>\n",
       "    </tr>\n",
       "    <tr>\n",
       "      <th>16697</th>\n",
       "      <td>Bust-A-Move 3000</td>\n",
       "      <td>GC</td>\n",
       "      <td>2003</td>\n",
       "      <td>Puzzle</td>\n",
       "      <td>0.01</td>\n",
       "      <td>0.00</td>\n",
       "      <td>0.0</td>\n",
       "      <td>0.00</td>\n",
       "      <td>53.0</td>\n",
       "      <td>tbd</td>\n",
       "      <td>E</td>\n",
       "    </tr>\n",
       "    <tr>\n",
       "      <th>16698</th>\n",
       "      <td>Mega Brain Boost</td>\n",
       "      <td>DS</td>\n",
       "      <td>2008</td>\n",
       "      <td>Puzzle</td>\n",
       "      <td>0.01</td>\n",
       "      <td>0.00</td>\n",
       "      <td>0.0</td>\n",
       "      <td>0.00</td>\n",
       "      <td>48.0</td>\n",
       "      <td>tbd</td>\n",
       "      <td>E</td>\n",
       "    </tr>\n",
       "    <tr>\n",
       "      <th>16704</th>\n",
       "      <td>Plushees</td>\n",
       "      <td>DS</td>\n",
       "      <td>2008</td>\n",
       "      <td>Simulation</td>\n",
       "      <td>0.01</td>\n",
       "      <td>0.00</td>\n",
       "      <td>0.0</td>\n",
       "      <td>0.00</td>\n",
       "      <td>NaN</td>\n",
       "      <td>tbd</td>\n",
       "      <td>E</td>\n",
       "    </tr>\n",
       "    <tr>\n",
       "      <th>16706</th>\n",
       "      <td>Men in Black II: Alien Escape</td>\n",
       "      <td>GC</td>\n",
       "      <td>2003</td>\n",
       "      <td>Shooter</td>\n",
       "      <td>0.01</td>\n",
       "      <td>0.00</td>\n",
       "      <td>0.0</td>\n",
       "      <td>0.00</td>\n",
       "      <td>NaN</td>\n",
       "      <td>tbd</td>\n",
       "      <td>T</td>\n",
       "    </tr>\n",
       "  </tbody>\n",
       "</table>\n",
       "<p>2395 rows × 11 columns</p>\n",
       "</div>"
      ],
      "text/plain": [
       "                                           name platform  year_of_release  \\\n",
       "119                               Zumba Fitness      Wii             2010   \n",
       "301              Namco Museum: 50th Anniversary      PS2             2005   \n",
       "520                             Zumba Fitness 2      Wii             2011   \n",
       "645                                uDraw Studio      Wii             2010   \n",
       "657    Frogger's Adventures: Temple of the Frog      GBA             2001   \n",
       "...                                         ...      ...              ...   \n",
       "16695                           Planet Monsters      GBA             2001   \n",
       "16697                          Bust-A-Move 3000       GC             2003   \n",
       "16698                          Mega Brain Boost       DS             2008   \n",
       "16704                                  Plushees       DS             2008   \n",
       "16706             Men in Black II: Alien Escape       GC             2003   \n",
       "\n",
       "            genre  na_sales  eu_sales  jp_sales  other_sales  critic_score  \\\n",
       "119        Sports      3.45      2.59       0.0         0.66           NaN   \n",
       "301          Misc      2.08      1.35       0.0         0.54          61.0   \n",
       "520        Sports      1.51      1.03       0.0         0.27           NaN   \n",
       "645          Misc      1.65      0.57       0.0         0.20          71.0   \n",
       "657     Adventure      2.15      0.18       0.0         0.07          73.0   \n",
       "...           ...       ...       ...       ...          ...           ...   \n",
       "16695      Action      0.01      0.00       0.0         0.00          67.0   \n",
       "16697      Puzzle      0.01      0.00       0.0         0.00          53.0   \n",
       "16698      Puzzle      0.01      0.00       0.0         0.00          48.0   \n",
       "16704  Simulation      0.01      0.00       0.0         0.00           NaN   \n",
       "16706     Shooter      0.01      0.00       0.0         0.00           NaN   \n",
       "\n",
       "      user_score rating  \n",
       "119          tbd      E  \n",
       "301          tbd   E10+  \n",
       "520          tbd      T  \n",
       "645          tbd      E  \n",
       "657          tbd      E  \n",
       "...          ...    ...  \n",
       "16695        tbd      E  \n",
       "16697        tbd      E  \n",
       "16698        tbd      E  \n",
       "16704        tbd      E  \n",
       "16706        tbd      T  \n",
       "\n",
       "[2395 rows x 11 columns]"
      ]
     },
     "execution_count": 34,
     "metadata": {},
     "output_type": "execute_result"
    }
   ],
   "source": [
    "data.query('user_score == \"tbd\"')  # посмотрим на строки со значением 'tbd'"
   ]
  },
  {
   "cell_type": "markdown",
   "metadata": {},
   "source": [
    "TBD - аббревиатура от английского To Be Determined (будет определено) или To Be Decided (будет решено), т.е. это равнозначно отсутствию значения. Тогда сотрем это значение."
   ]
  },
  {
   "cell_type": "code",
   "execution_count": 35,
   "metadata": {},
   "outputs": [],
   "source": [
    "data['user_score'] = data['user_score'].replace('tbd', np.NaN)"
   ]
  },
  {
   "cell_type": "code",
   "execution_count": 36,
   "metadata": {},
   "outputs": [],
   "source": [
    "data['user_score'] = data['user_score'].astype(float) # преобразуем данные в вещественные числа"
   ]
  },
  {
   "cell_type": "markdown",
   "metadata": {},
   "source": [
    "### Посмотрим на пропуски в столбце \"rating\" - рейтинг от организации ESRB"
   ]
  },
  {
   "cell_type": "code",
   "execution_count": 37,
   "metadata": {},
   "outputs": [
    {
     "data": {
      "text/html": [
       "<div>\n",
       "<style scoped>\n",
       "    .dataframe tbody tr th:only-of-type {\n",
       "        vertical-align: middle;\n",
       "    }\n",
       "\n",
       "    .dataframe tbody tr th {\n",
       "        vertical-align: top;\n",
       "    }\n",
       "\n",
       "    .dataframe thead th {\n",
       "        text-align: right;\n",
       "    }\n",
       "</style>\n",
       "<table border=\"1\" class=\"dataframe\">\n",
       "  <thead>\n",
       "    <tr style=\"text-align: right;\">\n",
       "      <th></th>\n",
       "      <th>name</th>\n",
       "      <th>platform</th>\n",
       "      <th>year_of_release</th>\n",
       "      <th>genre</th>\n",
       "      <th>na_sales</th>\n",
       "      <th>eu_sales</th>\n",
       "      <th>jp_sales</th>\n",
       "      <th>other_sales</th>\n",
       "      <th>critic_score</th>\n",
       "      <th>user_score</th>\n",
       "      <th>rating</th>\n",
       "    </tr>\n",
       "  </thead>\n",
       "  <tbody>\n",
       "    <tr>\n",
       "      <th>13495</th>\n",
       "      <td>Sotsugyou II: Neo Generation</td>\n",
       "      <td>PS</td>\n",
       "      <td>1995</td>\n",
       "      <td>Simulation</td>\n",
       "      <td>0.00</td>\n",
       "      <td>0.00</td>\n",
       "      <td>0.04</td>\n",
       "      <td>0.00</td>\n",
       "      <td>NaN</td>\n",
       "      <td>NaN</td>\n",
       "      <td>NaN</td>\n",
       "    </tr>\n",
       "    <tr>\n",
       "      <th>783</th>\n",
       "      <td>PES 2009: Pro Evolution Soccer</td>\n",
       "      <td>PS3</td>\n",
       "      <td>2008</td>\n",
       "      <td>Sports</td>\n",
       "      <td>0.11</td>\n",
       "      <td>1.33</td>\n",
       "      <td>0.40</td>\n",
       "      <td>0.26</td>\n",
       "      <td>NaN</td>\n",
       "      <td>NaN</td>\n",
       "      <td>NaN</td>\n",
       "    </tr>\n",
       "    <tr>\n",
       "      <th>2891</th>\n",
       "      <td>Jeopardy!</td>\n",
       "      <td>PS</td>\n",
       "      <td>1997</td>\n",
       "      <td>Misc</td>\n",
       "      <td>0.39</td>\n",
       "      <td>0.27</td>\n",
       "      <td>0.00</td>\n",
       "      <td>0.05</td>\n",
       "      <td>NaN</td>\n",
       "      <td>NaN</td>\n",
       "      <td>NaN</td>\n",
       "    </tr>\n",
       "    <tr>\n",
       "      <th>5620</th>\n",
       "      <td>Rally Cross</td>\n",
       "      <td>PS</td>\n",
       "      <td>1997</td>\n",
       "      <td>Racing</td>\n",
       "      <td>0.18</td>\n",
       "      <td>0.12</td>\n",
       "      <td>0.00</td>\n",
       "      <td>0.02</td>\n",
       "      <td>NaN</td>\n",
       "      <td>NaN</td>\n",
       "      <td>NaN</td>\n",
       "    </tr>\n",
       "    <tr>\n",
       "      <th>15847</th>\n",
       "      <td>Memories Off: Yubikiri no Kikou</td>\n",
       "      <td>PSP</td>\n",
       "      <td>2011</td>\n",
       "      <td>Adventure</td>\n",
       "      <td>0.00</td>\n",
       "      <td>0.00</td>\n",
       "      <td>0.02</td>\n",
       "      <td>0.00</td>\n",
       "      <td>NaN</td>\n",
       "      <td>NaN</td>\n",
       "      <td>NaN</td>\n",
       "    </tr>\n",
       "    <tr>\n",
       "      <th>15038</th>\n",
       "      <td>Ano Hi Mita Hana no Namae o Bokutachi wa Mada ...</td>\n",
       "      <td>PSP</td>\n",
       "      <td>2012</td>\n",
       "      <td>Action</td>\n",
       "      <td>0.00</td>\n",
       "      <td>0.00</td>\n",
       "      <td>0.02</td>\n",
       "      <td>0.00</td>\n",
       "      <td>NaN</td>\n",
       "      <td>NaN</td>\n",
       "      <td>NaN</td>\n",
       "    </tr>\n",
       "    <tr>\n",
       "      <th>10169</th>\n",
       "      <td>Maximum Force</td>\n",
       "      <td>PS</td>\n",
       "      <td>1997</td>\n",
       "      <td>Shooter</td>\n",
       "      <td>0.06</td>\n",
       "      <td>0.04</td>\n",
       "      <td>0.00</td>\n",
       "      <td>0.01</td>\n",
       "      <td>NaN</td>\n",
       "      <td>NaN</td>\n",
       "      <td>NaN</td>\n",
       "    </tr>\n",
       "    <tr>\n",
       "      <th>13954</th>\n",
       "      <td>Tokumei Sentai Go-Busters</td>\n",
       "      <td>DS</td>\n",
       "      <td>2012</td>\n",
       "      <td>Action</td>\n",
       "      <td>0.00</td>\n",
       "      <td>0.00</td>\n",
       "      <td>0.04</td>\n",
       "      <td>0.00</td>\n",
       "      <td>NaN</td>\n",
       "      <td>NaN</td>\n",
       "      <td>NaN</td>\n",
       "    </tr>\n",
       "    <tr>\n",
       "      <th>6831</th>\n",
       "      <td>Paws &amp; Claws: Pet Resort</td>\n",
       "      <td>DS</td>\n",
       "      <td>2008</td>\n",
       "      <td>Simulation</td>\n",
       "      <td>0.22</td>\n",
       "      <td>0.00</td>\n",
       "      <td>0.00</td>\n",
       "      <td>0.02</td>\n",
       "      <td>NaN</td>\n",
       "      <td>NaN</td>\n",
       "      <td>NaN</td>\n",
       "    </tr>\n",
       "    <tr>\n",
       "      <th>10350</th>\n",
       "      <td>Saigo no Yakusoku no Monogatari</td>\n",
       "      <td>PSP</td>\n",
       "      <td>2011</td>\n",
       "      <td>Role-Playing</td>\n",
       "      <td>0.00</td>\n",
       "      <td>0.00</td>\n",
       "      <td>0.11</td>\n",
       "      <td>0.00</td>\n",
       "      <td>NaN</td>\n",
       "      <td>NaN</td>\n",
       "      <td>NaN</td>\n",
       "    </tr>\n",
       "  </tbody>\n",
       "</table>\n",
       "</div>"
      ],
      "text/plain": [
       "                                                    name platform  \\\n",
       "13495                       Sotsugyou II: Neo Generation       PS   \n",
       "783                       PES 2009: Pro Evolution Soccer      PS3   \n",
       "2891                                           Jeopardy!       PS   \n",
       "5620                                         Rally Cross       PS   \n",
       "15847                    Memories Off: Yubikiri no Kikou      PSP   \n",
       "15038  Ano Hi Mita Hana no Namae o Bokutachi wa Mada ...      PSP   \n",
       "10169                                      Maximum Force       PS   \n",
       "13954                          Tokumei Sentai Go-Busters       DS   \n",
       "6831                            Paws & Claws: Pet Resort       DS   \n",
       "10350                    Saigo no Yakusoku no Monogatari      PSP   \n",
       "\n",
       "       year_of_release         genre  na_sales  eu_sales  jp_sales  \\\n",
       "13495             1995    Simulation      0.00      0.00      0.04   \n",
       "783               2008        Sports      0.11      1.33      0.40   \n",
       "2891              1997          Misc      0.39      0.27      0.00   \n",
       "5620              1997        Racing      0.18      0.12      0.00   \n",
       "15847             2011     Adventure      0.00      0.00      0.02   \n",
       "15038             2012        Action      0.00      0.00      0.02   \n",
       "10169             1997       Shooter      0.06      0.04      0.00   \n",
       "13954             2012        Action      0.00      0.00      0.04   \n",
       "6831              2008    Simulation      0.22      0.00      0.00   \n",
       "10350             2011  Role-Playing      0.00      0.00      0.11   \n",
       "\n",
       "       other_sales  critic_score  user_score rating  \n",
       "13495         0.00           NaN         NaN    NaN  \n",
       "783           0.26           NaN         NaN    NaN  \n",
       "2891          0.05           NaN         NaN    NaN  \n",
       "5620          0.02           NaN         NaN    NaN  \n",
       "15847         0.00           NaN         NaN    NaN  \n",
       "15038         0.00           NaN         NaN    NaN  \n",
       "10169         0.01           NaN         NaN    NaN  \n",
       "13954         0.00           NaN         NaN    NaN  \n",
       "6831          0.02           NaN         NaN    NaN  \n",
       "10350         0.00           NaN         NaN    NaN  "
      ]
     },
     "execution_count": 37,
     "metadata": {},
     "output_type": "execute_result"
    }
   ],
   "source": [
    "data[data['rating'].isnull()].sample(10)"
   ]
  },
  {
   "cell_type": "code",
   "execution_count": 38,
   "metadata": {},
   "outputs": [
    {
     "data": {
      "text/plain": [
       "array(['NES', 'GB', 'DS', 'SNES', 'GBA', 'PS4', '3DS', 'N64', 'X360',\n",
       "       'Wii', '2600', 'PS', 'XOne', 'GC', 'PS3', 'GEN', 'PC', 'PSP',\n",
       "       'WiiU', 'PS2', 'XB', 'DC', 'PSV', 'SAT', 'SCD', 'WS', 'NG', 'TG16',\n",
       "       '3DO', 'GG', 'PCFX'], dtype=object)"
      ]
     },
     "execution_count": 38,
     "metadata": {},
     "output_type": "execute_result"
    }
   ],
   "source": [
    "data.loc[data['rating'].isnull() == True, 'platform'].unique() # посмотрим на каких платформах нет рейтингов"
   ]
  },
  {
   "cell_type": "code",
   "execution_count": 39,
   "metadata": {},
   "outputs": [
    {
     "data": {
      "text/plain": [
       "array([nan, 8.3, 9.2, 6.7, 6. , 6.4, 6.1, 7.6, 8. , 8.2, 8.6, 8.4, 7.9,\n",
       "       7.3, 4.4, 8.7, 6.8, 4.5, 4.1, 5. , 4.3, 7.5, 8.1, 6.9, 8.8, 7.2,\n",
       "       4.9, 7.7, 7.4, 5.8, 7.8, 4.8, 7. , 4. , 5.2, 6.2, 6.5, 8.5, 4.7,\n",
       "       3.2, 3.1, 7.1])"
      ]
     },
     "execution_count": 39,
     "metadata": {},
     "output_type": "execute_result"
    }
   ],
   "source": [
    "data.loc[data['rating'].isnull() == True, 'user_score'].unique() # посмотрим есть ли оценки пользователей в этих строках"
   ]
  },
  {
   "cell_type": "markdown",
   "metadata": {},
   "source": [
    "**Пропусков слишком много в общем количестве строк, они в строках многих платформ, 10-бальные оценки в них не только NaN, удалять их нельзя.**"
   ]
  },
  {
   "cell_type": "code",
   "execution_count": 40,
   "metadata": {},
   "outputs": [
    {
     "data": {
      "text/plain": [
       "E       3959\n",
       "T       2939\n",
       "M       1555\n",
       "E10+    1413\n",
       "EC         8\n",
       "K-A        3\n",
       "RP         2\n",
       "AO         1\n",
       "Name: rating, dtype: int64"
      ]
     },
     "execution_count": 40,
     "metadata": {},
     "output_type": "execute_result"
    }
   ],
   "source": [
    "data['rating'].value_counts() # посмотрим на уникальные значения рейтинга (согласно Википеди всего сейчас их 7)"
   ]
  },
  {
   "cell_type": "markdown",
   "metadata": {},
   "source": [
    "Список существующих оценок:\n",
    "Все возраста (E)\n",
    "Подросток (Т)\n",
    "Зрелые 17+ (М)\n",
    "Старше 10+ (E10+)\n",
    "Раннее детство (ЕС)\n",
    "Ожидаемый рейтинг (RP)\n",
    "Только для взрослых 18+ (АО)\n",
    "\n",
    "Рейтинг K-A для детей и взрослых: игры, содержащие контент, подходящий для широкой аудитории. Этот рейтинг использовался до 1998 года, когда он был переименован в E."
   ]
  },
  {
   "cell_type": "code",
   "execution_count": 41,
   "metadata": {},
   "outputs": [],
   "source": [
    "data.loc[data['rating'] == 'K-A','rating'] = 'E' # исправим устаревшие данные К-А на рейтинг Е"
   ]
  },
  {
   "cell_type": "code",
   "execution_count": 42,
   "metadata": {},
   "outputs": [],
   "source": [
    "data['rating'] = data['rating'].fillna('unknown') # заменим пропуски в рейтинге на unknown"
   ]
  },
  {
   "cell_type": "code",
   "execution_count": 43,
   "metadata": {},
   "outputs": [],
   "source": [
    "# создадим столбец с суммарными продажами во всех регионах \n",
    "data['generalis_sales'] = data['na_sales'] + data['eu_sales'] + data['jp_sales'] + data['other_sales']"
   ]
  },
  {
   "cell_type": "code",
   "execution_count": 44,
   "metadata": {},
   "outputs": [
    {
     "data": {
      "text/html": [
       "<div>\n",
       "<style scoped>\n",
       "    .dataframe tbody tr th:only-of-type {\n",
       "        vertical-align: middle;\n",
       "    }\n",
       "\n",
       "    .dataframe tbody tr th {\n",
       "        vertical-align: top;\n",
       "    }\n",
       "\n",
       "    .dataframe thead th {\n",
       "        text-align: right;\n",
       "    }\n",
       "</style>\n",
       "<table border=\"1\" class=\"dataframe\">\n",
       "  <thead>\n",
       "    <tr style=\"text-align: right;\">\n",
       "      <th></th>\n",
       "      <th>name</th>\n",
       "      <th>platform</th>\n",
       "      <th>year_of_release</th>\n",
       "      <th>genre</th>\n",
       "      <th>na_sales</th>\n",
       "      <th>eu_sales</th>\n",
       "      <th>jp_sales</th>\n",
       "      <th>other_sales</th>\n",
       "      <th>critic_score</th>\n",
       "      <th>user_score</th>\n",
       "      <th>rating</th>\n",
       "      <th>generalis_sales</th>\n",
       "    </tr>\n",
       "  </thead>\n",
       "  <tbody>\n",
       "    <tr>\n",
       "      <th>0</th>\n",
       "      <td>Wii Sports</td>\n",
       "      <td>Wii</td>\n",
       "      <td>2006</td>\n",
       "      <td>Sports</td>\n",
       "      <td>41.36</td>\n",
       "      <td>28.96</td>\n",
       "      <td>3.77</td>\n",
       "      <td>8.45</td>\n",
       "      <td>76.0</td>\n",
       "      <td>8.0</td>\n",
       "      <td>E</td>\n",
       "      <td>82.54</td>\n",
       "    </tr>\n",
       "    <tr>\n",
       "      <th>1</th>\n",
       "      <td>Super Mario Bros.</td>\n",
       "      <td>NES</td>\n",
       "      <td>1985</td>\n",
       "      <td>Platform</td>\n",
       "      <td>29.08</td>\n",
       "      <td>3.58</td>\n",
       "      <td>6.81</td>\n",
       "      <td>0.77</td>\n",
       "      <td>NaN</td>\n",
       "      <td>NaN</td>\n",
       "      <td>unknown</td>\n",
       "      <td>40.24</td>\n",
       "    </tr>\n",
       "    <tr>\n",
       "      <th>2</th>\n",
       "      <td>Mario Kart Wii</td>\n",
       "      <td>Wii</td>\n",
       "      <td>2008</td>\n",
       "      <td>Racing</td>\n",
       "      <td>15.68</td>\n",
       "      <td>12.76</td>\n",
       "      <td>3.79</td>\n",
       "      <td>3.29</td>\n",
       "      <td>82.0</td>\n",
       "      <td>8.3</td>\n",
       "      <td>E</td>\n",
       "      <td>35.52</td>\n",
       "    </tr>\n",
       "    <tr>\n",
       "      <th>3</th>\n",
       "      <td>Wii Sports Resort</td>\n",
       "      <td>Wii</td>\n",
       "      <td>2009</td>\n",
       "      <td>Sports</td>\n",
       "      <td>15.61</td>\n",
       "      <td>10.93</td>\n",
       "      <td>3.28</td>\n",
       "      <td>2.95</td>\n",
       "      <td>80.0</td>\n",
       "      <td>8.0</td>\n",
       "      <td>E</td>\n",
       "      <td>32.77</td>\n",
       "    </tr>\n",
       "    <tr>\n",
       "      <th>4</th>\n",
       "      <td>Pokemon Red/Pokemon Blue</td>\n",
       "      <td>GB</td>\n",
       "      <td>1996</td>\n",
       "      <td>Role-Playing</td>\n",
       "      <td>11.27</td>\n",
       "      <td>8.89</td>\n",
       "      <td>10.22</td>\n",
       "      <td>1.00</td>\n",
       "      <td>NaN</td>\n",
       "      <td>NaN</td>\n",
       "      <td>unknown</td>\n",
       "      <td>31.38</td>\n",
       "    </tr>\n",
       "    <tr>\n",
       "      <th>5</th>\n",
       "      <td>Tetris</td>\n",
       "      <td>GB</td>\n",
       "      <td>1989</td>\n",
       "      <td>Puzzle</td>\n",
       "      <td>23.20</td>\n",
       "      <td>2.26</td>\n",
       "      <td>4.22</td>\n",
       "      <td>0.58</td>\n",
       "      <td>NaN</td>\n",
       "      <td>NaN</td>\n",
       "      <td>unknown</td>\n",
       "      <td>30.26</td>\n",
       "    </tr>\n",
       "    <tr>\n",
       "      <th>6</th>\n",
       "      <td>New Super Mario Bros.</td>\n",
       "      <td>DS</td>\n",
       "      <td>2006</td>\n",
       "      <td>Platform</td>\n",
       "      <td>11.28</td>\n",
       "      <td>9.14</td>\n",
       "      <td>6.50</td>\n",
       "      <td>2.88</td>\n",
       "      <td>89.0</td>\n",
       "      <td>8.5</td>\n",
       "      <td>E</td>\n",
       "      <td>29.80</td>\n",
       "    </tr>\n",
       "    <tr>\n",
       "      <th>7</th>\n",
       "      <td>Wii Play</td>\n",
       "      <td>Wii</td>\n",
       "      <td>2006</td>\n",
       "      <td>Misc</td>\n",
       "      <td>13.96</td>\n",
       "      <td>9.18</td>\n",
       "      <td>2.93</td>\n",
       "      <td>2.84</td>\n",
       "      <td>58.0</td>\n",
       "      <td>6.6</td>\n",
       "      <td>E</td>\n",
       "      <td>28.91</td>\n",
       "    </tr>\n",
       "    <tr>\n",
       "      <th>8</th>\n",
       "      <td>New Super Mario Bros. Wii</td>\n",
       "      <td>Wii</td>\n",
       "      <td>2009</td>\n",
       "      <td>Platform</td>\n",
       "      <td>14.44</td>\n",
       "      <td>6.94</td>\n",
       "      <td>4.70</td>\n",
       "      <td>2.24</td>\n",
       "      <td>87.0</td>\n",
       "      <td>8.4</td>\n",
       "      <td>E</td>\n",
       "      <td>28.32</td>\n",
       "    </tr>\n",
       "    <tr>\n",
       "      <th>9</th>\n",
       "      <td>Duck Hunt</td>\n",
       "      <td>NES</td>\n",
       "      <td>1984</td>\n",
       "      <td>Shooter</td>\n",
       "      <td>26.93</td>\n",
       "      <td>0.63</td>\n",
       "      <td>0.28</td>\n",
       "      <td>0.47</td>\n",
       "      <td>NaN</td>\n",
       "      <td>NaN</td>\n",
       "      <td>unknown</td>\n",
       "      <td>28.31</td>\n",
       "    </tr>\n",
       "  </tbody>\n",
       "</table>\n",
       "</div>"
      ],
      "text/plain": [
       "                        name platform  year_of_release         genre  \\\n",
       "0                 Wii Sports      Wii             2006        Sports   \n",
       "1          Super Mario Bros.      NES             1985      Platform   \n",
       "2             Mario Kart Wii      Wii             2008        Racing   \n",
       "3          Wii Sports Resort      Wii             2009        Sports   \n",
       "4   Pokemon Red/Pokemon Blue       GB             1996  Role-Playing   \n",
       "5                     Tetris       GB             1989        Puzzle   \n",
       "6      New Super Mario Bros.       DS             2006      Platform   \n",
       "7                   Wii Play      Wii             2006          Misc   \n",
       "8  New Super Mario Bros. Wii      Wii             2009      Platform   \n",
       "9                  Duck Hunt      NES             1984       Shooter   \n",
       "\n",
       "   na_sales  eu_sales  jp_sales  other_sales  critic_score  user_score  \\\n",
       "0     41.36     28.96      3.77         8.45          76.0         8.0   \n",
       "1     29.08      3.58      6.81         0.77           NaN         NaN   \n",
       "2     15.68     12.76      3.79         3.29          82.0         8.3   \n",
       "3     15.61     10.93      3.28         2.95          80.0         8.0   \n",
       "4     11.27      8.89     10.22         1.00           NaN         NaN   \n",
       "5     23.20      2.26      4.22         0.58           NaN         NaN   \n",
       "6     11.28      9.14      6.50         2.88          89.0         8.5   \n",
       "7     13.96      9.18      2.93         2.84          58.0         6.6   \n",
       "8     14.44      6.94      4.70         2.24          87.0         8.4   \n",
       "9     26.93      0.63      0.28         0.47           NaN         NaN   \n",
       "\n",
       "    rating  generalis_sales  \n",
       "0        E            82.54  \n",
       "1  unknown            40.24  \n",
       "2        E            35.52  \n",
       "3        E            32.77  \n",
       "4  unknown            31.38  \n",
       "5  unknown            30.26  \n",
       "6        E            29.80  \n",
       "7        E            28.91  \n",
       "8        E            28.32  \n",
       "9  unknown            28.31  "
      ]
     },
     "execution_count": 44,
     "metadata": {},
     "output_type": "execute_result"
    }
   ],
   "source": [
    "data.reset_index(drop=True).head(10) # после удаления строк обновим индексацию"
   ]
  },
  {
   "cell_type": "markdown",
   "metadata": {},
   "source": [
    "***ВЫВОД: Причиной пропусков в оценках пользователей, вероятно, является просто нежелание ставить оценки. Рейтинг от организации ESRBО стал присваиваться только с 1994 года - даты основания компании, поэтому игры, выпущенные в 1980-1993гг., будут без рейтинга. Оценки критиков и присваивание рейтингов в последующие периоды, видимо, удостоились не все игры, что ожидаемо.***"
   ]
  },
  {
   "cell_type": "markdown",
   "metadata": {},
   "source": [
    "## Исследовательский анализ данных"
   ]
  },
  {
   "cell_type": "markdown",
   "metadata": {},
   "source": [
    "### Посмотрим на жизненный цикл платформ."
   ]
  },
  {
   "cell_type": "markdown",
   "metadata": {},
   "source": [
    "**Посмотрим, сколько игр выпускалось в разные годы.**"
   ]
  },
  {
   "cell_type": "code",
   "execution_count": 45,
   "metadata": {},
   "outputs": [
    {
     "data": {
      "text/plain": [
       "<AxesSubplot:title={'center':'Зависимость количества игр от года релиза'}, xlabel='year_of_release'>"
      ]
     },
     "execution_count": 45,
     "metadata": {},
     "output_type": "execute_result"
    },
    {
     "data": {
      "image/png": "[encoded data removed]",
      "text/plain": [
       "<Figure size 720x504 with 1 Axes>"
      ]
     },
     "metadata": {
      "needs_background": "light"
     },
     "output_type": "display_data"
    }
   ],
   "source": [
    "data.pivot_table(index='year_of_release', values='name', aggfunc='count')\\\n",
    ".plot(grid=True, title='Зависимость количества игр от года релиза', figsize=(10, 7))\n",
    "#  в 80-е и 90-е годы игр совсем было мало, с каждым годом до 2008г. растет количество выпускаемых игр, затем резкий спад,\n",
    "# но в 2013г. опять рост до 2015г., а в 2016г., как мы знаем, данные могут быть не полными."
   ]
  },
  {
   "cell_type": "markdown",
   "metadata": {},
   "source": [
    "**Посмотрим, как менялись продажи по платформам.**"
   ]
  },
  {
   "cell_type": "code",
   "execution_count": 46,
   "metadata": {},
   "outputs": [
    {
     "data": {
      "text/plain": [
       "<AxesSubplot:title={'center':'Продажи игр в разрезе платформ'}, xlabel='platform'>"
      ]
     },
     "execution_count": 46,
     "metadata": {},
     "output_type": "execute_result"
    },
    {
     "data": {
      "image/png": "[encoded data removed]",
      "text/plain": [
       "<Figure size 720x504 with 1 Axes>"
      ]
     },
     "metadata": {
      "needs_background": "light"
     },
     "output_type": "display_data"
    }
   ],
   "source": [
    "data.pivot_table(index='platform', values='generalis_sales', aggfunc='sum')\\\n",
    ".sort_values(by='generalis_sales', ascending=False)\\\n",
    ".plot(kind='bar', title='Продажи игр в разрезе платформ', figsize=(10, 7), grid=True)"
   ]
  },
  {
   "cell_type": "code",
   "execution_count": 47,
   "metadata": {},
   "outputs": [
    {
     "data": {
      "text/plain": [
       "<AxesSubplot:xlabel='year_of_release', ylabel='generalis_sales'>"
      ]
     },
     "execution_count": 47,
     "metadata": {},
     "output_type": "execute_result"
    },
    {
     "data": {
      "image/png": "[encoded data removed]",
      "text/plain": [
       "<Figure size 720x360 with 1 Axes>"
      ]
     },
     "metadata": {
      "needs_background": "light"
     },
     "output_type": "display_data"
    }
   ],
   "source": [
    "data[data['platform'] == 'PS2']\\\n",
    ".plot(x='year_of_release', y='generalis_sales', kind='scatter', alpha=0.3, figsize=(10,5), grid=True)"
   ]
  },
  {
   "cell_type": "markdown",
   "metadata": {},
   "source": [
    "Платформа PS2 устарела, последние продажи в 2011г, насмену ей пришла PS3, данные для прогноза на 2017 год неактуальны"
   ]
  },
  {
   "cell_type": "code",
   "execution_count": 48,
   "metadata": {},
   "outputs": [
    {
     "data": {
      "text/plain": [
       "<AxesSubplot:xlabel='year_of_release', ylabel='generalis_sales'>"
      ]
     },
     "execution_count": 48,
     "metadata": {},
     "output_type": "execute_result"
    },
    {
     "data": {
      "image/png": "[encoded data removed]",
      "text/plain": [
       "<Figure size 720x360 with 1 Axes>"
      ]
     },
     "metadata": {
      "needs_background": "light"
     },
     "output_type": "display_data"
    }
   ],
   "source": [
    "data[data['platform'] == 'X360']\\\n",
    ".plot(x='year_of_release', y='generalis_sales', kind='scatter', alpha=0.3, figsize=(10,5), grid=True)"
   ]
  },
  {
   "cell_type": "markdown",
   "metadata": {},
   "source": [
    "Платформа X360 начала функционировать с 2005 года, в 2016 еще актуальна"
   ]
  },
  {
   "cell_type": "code",
   "execution_count": 49,
   "metadata": {},
   "outputs": [
    {
     "data": {
      "text/plain": [
       "<AxesSubplot:xlabel='year_of_release', ylabel='generalis_sales'>"
      ]
     },
     "execution_count": 49,
     "metadata": {},
     "output_type": "execute_result"
    },
    {
     "data": {
      "image/png": "[encoded data removed]",
      "text/plain": [
       "<Figure size 720x360 with 1 Axes>"
      ]
     },
     "metadata": {
      "needs_background": "light"
     },
     "output_type": "display_data"
    }
   ],
   "source": [
    "data[data['platform'] == 'Wii']\\\n",
    ".plot(x='year_of_release', y='generalis_sales', kind='scatter', alpha=0.3, figsize=(10,5), grid=True)"
   ]
  },
  {
   "cell_type": "markdown",
   "metadata": {},
   "source": [
    "Платформа Wii начала функционировать с 2006 года, в 2016 еще актуальна, но уже совсем низкие продажи"
   ]
  },
  {
   "cell_type": "code",
   "execution_count": 50,
   "metadata": {},
   "outputs": [
    {
     "data": {
      "text/plain": [
       "<AxesSubplot:xlabel='year_of_release', ylabel='generalis_sales'>"
      ]
     },
     "execution_count": 50,
     "metadata": {},
     "output_type": "execute_result"
    },
    {
     "data": {
      "image/png": "[encoded data removed]",
      "text/plain": [
       "<Figure size 720x360 with 1 Axes>"
      ]
     },
     "metadata": {
      "needs_background": "light"
     },
     "output_type": "display_data"
    }
   ],
   "source": [
    "data[data['platform'] == 'PS3']\\\n",
    ".plot(x='year_of_release', y='generalis_sales', kind='scatter', alpha=0.3, figsize=(10,5), grid=True)"
   ]
  },
  {
   "cell_type": "markdown",
   "metadata": {},
   "source": [
    "Платформа PS3 начала функционировать с 2005 года, в 2016 еще актуальна"
   ]
  },
  {
   "cell_type": "code",
   "execution_count": 51,
   "metadata": {},
   "outputs": [
    {
     "data": {
      "text/plain": [
       "<AxesSubplot:xlabel='year_of_release', ylabel='generalis_sales'>"
      ]
     },
     "execution_count": 51,
     "metadata": {},
     "output_type": "execute_result"
    },
    {
     "data": {
      "image/png": "[encoded data removed]",
      "text/plain": [
       "<Figure size 1080x360 with 1 Axes>"
      ]
     },
     "metadata": {
      "needs_background": "light"
     },
     "output_type": "display_data"
    }
   ],
   "source": [
    "data[data['platform'] == 'DS']\\\n",
    ".plot(x='year_of_release', y='generalis_sales', kind='scatter', alpha=0.3, figsize=(15,5), grid=True)"
   ]
  },
  {
   "cell_type": "markdown",
   "metadata": {},
   "source": [
    "Платформа DS впервые выпустила игру в 1985 году, затем до 2004 года затишье, последние продажи в 2013г, данные для прогноза на 2017 год неактуальны"
   ]
  },
  {
   "cell_type": "code",
   "execution_count": 52,
   "metadata": {},
   "outputs": [
    {
     "data": {
      "text/plain": [
       "<AxesSubplot:xlabel='year_of_release', ylabel='generalis_sales'>"
      ]
     },
     "execution_count": 52,
     "metadata": {},
     "output_type": "execute_result"
    },
    {
     "data": {
      "image/png": "[encoded data removed]",
      "text/plain": [
       "<Figure size 720x360 with 1 Axes>"
      ]
     },
     "metadata": {
      "needs_background": "light"
     },
     "output_type": "display_data"
    }
   ],
   "source": [
    "data[data['platform'] == 'PS']\\\n",
    ".plot(x='year_of_release', y='generalis_sales', kind='scatter', alpha=0.3, figsize=(10,5), grid=True)"
   ]
  },
  {
   "cell_type": "markdown",
   "metadata": {},
   "source": [
    "Платформа PS устарела, последние продажи в 2003г, насмену ей пришли PS2, затем PS3, данные для прогноза на 2017 год неактуальны"
   ]
  },
  {
   "cell_type": "markdown",
   "metadata": {},
   "source": [
    "**В среднем платформа существует 10-11лет, самая высокая популярность приходится на середину срока существования платформы.**"
   ]
  },
  {
   "cell_type": "markdown",
   "metadata": {},
   "source": [
    "**С 2008г. по 2012г. количество выпускаемых игр падает, с 2013г. наоборот растет, да и устаревшие сведения не годятся для прогноза на будущее, поэтому используем только данные после 2012г.\n",
    "Такая выборка даст более актуальный прогноз на 2017 год.**"
   ]
  },
  {
   "cell_type": "code",
   "execution_count": 53,
   "metadata": {},
   "outputs": [],
   "source": [
    "data_13_16 = data.query('year_of_release >= 2013') # возьмем данные за 2013-2016гг"
   ]
  },
  {
   "cell_type": "code",
   "execution_count": 54,
   "metadata": {},
   "outputs": [
    {
     "data": {
      "text/plain": [
       "PS4     392\n",
       "PSV     358\n",
       "PS3     345\n",
       "3DS     303\n",
       "XOne    247\n",
       "PC      192\n",
       "X360    186\n",
       "WiiU    115\n",
       "PSP      68\n",
       "Wii      23\n",
       "DS        8\n",
       "Name: platform, dtype: int64"
      ]
     },
     "execution_count": 54,
     "metadata": {},
     "output_type": "execute_result"
    }
   ],
   "source": [
    "data_13_16['platform'].value_counts() # посмотрим какие платформы вошли в этот преиод и какие лидируют по количеству игр"
   ]
  },
  {
   "cell_type": "code",
   "execution_count": 55,
   "metadata": {},
   "outputs": [
    {
     "data": {
      "text/plain": [
       "PS4     164\n",
       "XOne     87\n",
       "PSV      85\n",
       "PC       54\n",
       "3DS      46\n",
       "PS3      38\n",
       "WiiU     14\n",
       "X360     13\n",
       "Wii       1\n",
       "Name: platform, dtype: int64"
      ]
     },
     "execution_count": 55,
     "metadata": {},
     "output_type": "execute_result"
    }
   ],
   "source": [
    "data_13_16.loc[data_13_16['year_of_release'] == 2016, 'platform']\\\n",
    ".value_counts() # посмотрим какие платформы ещё продаются в 2016г"
   ]
  },
  {
   "cell_type": "code",
   "execution_count": 56,
   "metadata": {},
   "outputs": [],
   "source": [
    "data_13_16 = data_13_16.query('platform not in [\"PSP\", \"DS\"]') # уберем из данных платформы, которые уже неактуальны в 2016г."
   ]
  },
  {
   "cell_type": "markdown",
   "metadata": {},
   "source": [
    "### Выясним, какие платформы лидируют по продажам и количеству игр"
   ]
  },
  {
   "cell_type": "markdown",
   "metadata": {},
   "source": [
    "**Посмотрим по годам какие платформы лидируют по продажам, растут или падают (не забывая, что за 2016г. данные неполные)**"
   ]
  },
  {
   "cell_type": "code",
   "execution_count": 57,
   "metadata": {},
   "outputs": [
    {
     "data": {
      "text/html": [
       "<div>\n",
       "<style scoped>\n",
       "    .dataframe tbody tr th:only-of-type {\n",
       "        vertical-align: middle;\n",
       "    }\n",
       "\n",
       "    .dataframe tbody tr th {\n",
       "        vertical-align: top;\n",
       "    }\n",
       "\n",
       "    .dataframe thead th {\n",
       "        text-align: right;\n",
       "    }\n",
       "</style>\n",
       "<table border=\"1\" class=\"dataframe\">\n",
       "  <thead>\n",
       "    <tr style=\"text-align: right;\">\n",
       "      <th>platform</th>\n",
       "      <th>3DS</th>\n",
       "      <th>PC</th>\n",
       "      <th>PS3</th>\n",
       "      <th>PS4</th>\n",
       "      <th>PSV</th>\n",
       "      <th>Wii</th>\n",
       "      <th>WiiU</th>\n",
       "      <th>X360</th>\n",
       "      <th>XOne</th>\n",
       "    </tr>\n",
       "    <tr>\n",
       "      <th>year_of_release</th>\n",
       "      <th></th>\n",
       "      <th></th>\n",
       "      <th></th>\n",
       "      <th></th>\n",
       "      <th></th>\n",
       "      <th></th>\n",
       "      <th></th>\n",
       "      <th></th>\n",
       "      <th></th>\n",
       "    </tr>\n",
       "  </thead>\n",
       "  <tbody>\n",
       "    <tr>\n",
       "      <th>2013</th>\n",
       "      <td>56.57</td>\n",
       "      <td>13.01</td>\n",
       "      <td>113.25</td>\n",
       "      <td>25.99</td>\n",
       "      <td>10.59</td>\n",
       "      <td>8.59</td>\n",
       "      <td>21.65</td>\n",
       "      <td>88.58</td>\n",
       "      <td>18.96</td>\n",
       "    </tr>\n",
       "    <tr>\n",
       "      <th>2014</th>\n",
       "      <td>43.76</td>\n",
       "      <td>13.28</td>\n",
       "      <td>47.76</td>\n",
       "      <td>100.00</td>\n",
       "      <td>11.90</td>\n",
       "      <td>3.75</td>\n",
       "      <td>22.03</td>\n",
       "      <td>34.74</td>\n",
       "      <td>54.07</td>\n",
       "    </tr>\n",
       "    <tr>\n",
       "      <th>2015</th>\n",
       "      <td>27.78</td>\n",
       "      <td>8.52</td>\n",
       "      <td>16.82</td>\n",
       "      <td>118.90</td>\n",
       "      <td>6.25</td>\n",
       "      <td>1.14</td>\n",
       "      <td>16.35</td>\n",
       "      <td>11.96</td>\n",
       "      <td>60.14</td>\n",
       "    </tr>\n",
       "    <tr>\n",
       "      <th>2016</th>\n",
       "      <td>15.14</td>\n",
       "      <td>5.25</td>\n",
       "      <td>3.60</td>\n",
       "      <td>69.25</td>\n",
       "      <td>4.25</td>\n",
       "      <td>0.18</td>\n",
       "      <td>4.60</td>\n",
       "      <td>1.52</td>\n",
       "      <td>26.15</td>\n",
       "    </tr>\n",
       "  </tbody>\n",
       "</table>\n",
       "</div>"
      ],
      "text/plain": [
       "platform           3DS     PC     PS3     PS4    PSV   Wii   WiiU   X360  \\\n",
       "year_of_release                                                            \n",
       "2013             56.57  13.01  113.25   25.99  10.59  8.59  21.65  88.58   \n",
       "2014             43.76  13.28   47.76  100.00  11.90  3.75  22.03  34.74   \n",
       "2015             27.78   8.52   16.82  118.90   6.25  1.14  16.35  11.96   \n",
       "2016             15.14   5.25    3.60   69.25   4.25  0.18   4.60   1.52   \n",
       "\n",
       "platform          XOne  \n",
       "year_of_release         \n",
       "2013             18.96  \n",
       "2014             54.07  \n",
       "2015             60.14  \n",
       "2016             26.15  "
      ]
     },
     "execution_count": 57,
     "metadata": {},
     "output_type": "execute_result"
    }
   ],
   "source": [
    "data_13_16.pivot_table(index='year_of_release', columns='platform', values='generalis_sales', aggfunc='sum')"
   ]
  },
  {
   "cell_type": "markdown",
   "metadata": {},
   "source": [
    "Явный рост по продажам показывают только PS4 и XOne."
   ]
  },
  {
   "cell_type": "markdown",
   "metadata": {},
   "source": [
    "**Посмотрим по годам какие платформы лидируют по количеству игр, растут или падают (не забывая, что за 2016г. данные неполные)**"
   ]
  },
  {
   "cell_type": "code",
   "execution_count": 58,
   "metadata": {},
   "outputs": [
    {
     "data": {
      "text/html": [
       "<div>\n",
       "<style scoped>\n",
       "    .dataframe tbody tr th:only-of-type {\n",
       "        vertical-align: middle;\n",
       "    }\n",
       "\n",
       "    .dataframe tbody tr th {\n",
       "        vertical-align: top;\n",
       "    }\n",
       "\n",
       "    .dataframe thead th {\n",
       "        text-align: right;\n",
       "    }\n",
       "</style>\n",
       "<table border=\"1\" class=\"dataframe\">\n",
       "  <thead>\n",
       "    <tr style=\"text-align: right;\">\n",
       "      <th>platform</th>\n",
       "      <th>3DS</th>\n",
       "      <th>PC</th>\n",
       "      <th>PS3</th>\n",
       "      <th>PS4</th>\n",
       "      <th>PSV</th>\n",
       "      <th>Wii</th>\n",
       "      <th>WiiU</th>\n",
       "      <th>X360</th>\n",
       "      <th>XOne</th>\n",
       "    </tr>\n",
       "    <tr>\n",
       "      <th>year_of_release</th>\n",
       "      <th></th>\n",
       "      <th></th>\n",
       "      <th></th>\n",
       "      <th></th>\n",
       "      <th></th>\n",
       "      <th></th>\n",
       "      <th></th>\n",
       "      <th></th>\n",
       "      <th></th>\n",
       "    </tr>\n",
       "  </thead>\n",
       "  <tbody>\n",
       "    <tr>\n",
       "      <th>2013</th>\n",
       "      <td>91</td>\n",
       "      <td>41</td>\n",
       "      <td>126</td>\n",
       "      <td>16</td>\n",
       "      <td>63</td>\n",
       "      <td>12</td>\n",
       "      <td>42</td>\n",
       "      <td>75</td>\n",
       "      <td>19</td>\n",
       "    </tr>\n",
       "    <tr>\n",
       "      <th>2014</th>\n",
       "      <td>80</td>\n",
       "      <td>47</td>\n",
       "      <td>108</td>\n",
       "      <td>75</td>\n",
       "      <td>100</td>\n",
       "      <td>6</td>\n",
       "      <td>31</td>\n",
       "      <td>63</td>\n",
       "      <td>61</td>\n",
       "    </tr>\n",
       "    <tr>\n",
       "      <th>2015</th>\n",
       "      <td>86</td>\n",
       "      <td>50</td>\n",
       "      <td>73</td>\n",
       "      <td>137</td>\n",
       "      <td>110</td>\n",
       "      <td>4</td>\n",
       "      <td>28</td>\n",
       "      <td>35</td>\n",
       "      <td>80</td>\n",
       "    </tr>\n",
       "    <tr>\n",
       "      <th>2016</th>\n",
       "      <td>46</td>\n",
       "      <td>54</td>\n",
       "      <td>38</td>\n",
       "      <td>164</td>\n",
       "      <td>85</td>\n",
       "      <td>1</td>\n",
       "      <td>14</td>\n",
       "      <td>13</td>\n",
       "      <td>87</td>\n",
       "    </tr>\n",
       "  </tbody>\n",
       "</table>\n",
       "</div>"
      ],
      "text/plain": [
       "platform         3DS  PC  PS3  PS4  PSV  Wii  WiiU  X360  XOne\n",
       "year_of_release                                               \n",
       "2013              91  41  126   16   63   12    42    75    19\n",
       "2014              80  47  108   75  100    6    31    63    61\n",
       "2015              86  50   73  137  110    4    28    35    80\n",
       "2016              46  54   38  164   85    1    14    13    87"
      ]
     },
     "execution_count": 58,
     "metadata": {},
     "output_type": "execute_result"
    }
   ],
   "source": [
    "data_13_16.pivot_table(index='year_of_release', columns='platform', values='name', aggfunc='count')"
   ]
  },
  {
   "cell_type": "markdown",
   "metadata": {},
   "source": [
    "Растущими платформами можно назвать: PC, PS4 и XOne. Платформа PSV, если посмотреть выше, явно по сумме продаж в разрезе лет утратила популярнось с 2015 года, но количество игр в сравнении со многими ещё значительное. Платформа 3DS, возможно, находится на пике популярности."
   ]
  },
  {
   "cell_type": "markdown",
   "metadata": {},
   "source": [
    "**Оставим для анализа только перспективные платформы**"
   ]
  },
  {
   "cell_type": "code",
   "execution_count": 59,
   "metadata": {},
   "outputs": [],
   "source": [
    "# уберем из данных платформы, которые уже на стадии спада\n",
    "data_13_16 = data_13_16.query('platform not in [\"PS3\", \"Wii\", \"WiiU\", \"X360\"]') "
   ]
  },
  {
   "cell_type": "code",
   "execution_count": 60,
   "metadata": {},
   "outputs": [],
   "source": [
    "import matplotlib.pyplot as plt\n",
    "import seaborn as sns"
   ]
  },
  {
   "cell_type": "markdown",
   "metadata": {},
   "source": [
    "**Построим диаграммы размаха по глобальным продажам игр в разбивке по платформам, определим разницу между данными**"
   ]
  },
  {
   "cell_type": "code",
   "execution_count": 61,
   "metadata": {},
   "outputs": [
    {
     "data": {
      "image/png": "[encoded data removed]",
      "text/plain": [
       "<Figure size 1440x720 with 1 Axes>"
      ]
     },
     "metadata": {
      "needs_background": "light"
     },
     "output_type": "display_data"
    }
   ],
   "source": [
    "data_13_16.boxplot(column='generalis_sales', by='platform', grid= True, figsize=(20, 10))\n",
    "plt.ylim(0, 3)\n",
    "plt.show()"
   ]
  },
  {
   "cell_type": "code",
   "execution_count": 62,
   "metadata": {},
   "outputs": [
    {
     "data": {
      "text/html": [
       "<div>\n",
       "<style scoped>\n",
       "    .dataframe tbody tr th:only-of-type {\n",
       "        vertical-align: middle;\n",
       "    }\n",
       "\n",
       "    .dataframe tbody tr th {\n",
       "        vertical-align: top;\n",
       "    }\n",
       "\n",
       "    .dataframe thead tr th {\n",
       "        text-align: left;\n",
       "    }\n",
       "\n",
       "    .dataframe thead tr:last-of-type th {\n",
       "        text-align: right;\n",
       "    }\n",
       "</style>\n",
       "<table border=\"1\" class=\"dataframe\">\n",
       "  <thead>\n",
       "    <tr>\n",
       "      <th></th>\n",
       "      <th>count</th>\n",
       "      <th>sum</th>\n",
       "      <th>median</th>\n",
       "      <th>mean</th>\n",
       "      <th>var</th>\n",
       "    </tr>\n",
       "    <tr>\n",
       "      <th></th>\n",
       "      <th>generalis_sales</th>\n",
       "      <th>generalis_sales</th>\n",
       "      <th>generalis_sales</th>\n",
       "      <th>generalis_sales</th>\n",
       "      <th>generalis_sales</th>\n",
       "    </tr>\n",
       "    <tr>\n",
       "      <th>platform</th>\n",
       "      <th></th>\n",
       "      <th></th>\n",
       "      <th></th>\n",
       "      <th></th>\n",
       "      <th></th>\n",
       "    </tr>\n",
       "  </thead>\n",
       "  <tbody>\n",
       "    <tr>\n",
       "      <th>3DS</th>\n",
       "      <td>303</td>\n",
       "      <td>143.25</td>\n",
       "      <td>0.09</td>\n",
       "      <td>0.472772</td>\n",
       "      <td>1.908119</td>\n",
       "    </tr>\n",
       "    <tr>\n",
       "      <th>PC</th>\n",
       "      <td>192</td>\n",
       "      <td>40.06</td>\n",
       "      <td>0.08</td>\n",
       "      <td>0.208646</td>\n",
       "      <td>0.122360</td>\n",
       "    </tr>\n",
       "    <tr>\n",
       "      <th>PS4</th>\n",
       "      <td>392</td>\n",
       "      <td>314.14</td>\n",
       "      <td>0.20</td>\n",
       "      <td>0.801378</td>\n",
       "      <td>2.590350</td>\n",
       "    </tr>\n",
       "    <tr>\n",
       "      <th>PSV</th>\n",
       "      <td>358</td>\n",
       "      <td>32.99</td>\n",
       "      <td>0.04</td>\n",
       "      <td>0.092151</td>\n",
       "      <td>0.023660</td>\n",
       "    </tr>\n",
       "    <tr>\n",
       "      <th>XOne</th>\n",
       "      <td>247</td>\n",
       "      <td>159.32</td>\n",
       "      <td>0.22</td>\n",
       "      <td>0.645020</td>\n",
       "      <td>1.073584</td>\n",
       "    </tr>\n",
       "  </tbody>\n",
       "</table>\n",
       "</div>"
      ],
      "text/plain": [
       "                   count             sum          median            mean  \\\n",
       "         generalis_sales generalis_sales generalis_sales generalis_sales   \n",
       "platform                                                                   \n",
       "3DS                  303          143.25            0.09        0.472772   \n",
       "PC                   192           40.06            0.08        0.208646   \n",
       "PS4                  392          314.14            0.20        0.801378   \n",
       "PSV                  358           32.99            0.04        0.092151   \n",
       "XOne                 247          159.32            0.22        0.645020   \n",
       "\n",
       "                     var  \n",
       "         generalis_sales  \n",
       "platform                  \n",
       "3DS             1.908119  \n",
       "PC              0.122360  \n",
       "PS4             2.590350  \n",
       "PSV             0.023660  \n",
       "XOne            1.073584  "
      ]
     },
     "execution_count": 62,
     "metadata": {},
     "output_type": "execute_result"
    }
   ],
   "source": [
    "data_13_16.pivot_table(index='platform', values='generalis_sales', aggfunc=['count', 'sum', 'median', 'mean', 'var'])"
   ]
  },
  {
   "cell_type": "markdown",
   "metadata": {},
   "source": [
    "**Как мы и установили ранее, лидером продаж является PS4, большой межквартильный размах показывает, что у этой платформы много разнообразных игр в немалом количестве проданных копий, как и у XOne. При этом у 3DS больше выпущенных игр в сравнении с XOne, но большинство игр у 3DS одинаково по популярности, и меньше копий продаж на каждую игру в сравнении с XOne. Выбросы на графике - это игры, которые чаще всего покупают, самых популярных игр также больше у PS4, XOne и 3DS. У платформы PSV самое маленькое значение медианы и среднего - эта самая непопулярная платформа, хотя по количеству проданных копий занимает вторую позицию**"
   ]
  },
  {
   "cell_type": "markdown",
   "metadata": {},
   "source": [
    "### Посмотрим, как влияют на продажи внутри одной популярной платформы отзывы пользователей и критиков. "
   ]
  },
  {
   "cell_type": "markdown",
   "metadata": {},
   "source": [
    "**Посмотрим на самые популярные платформы PS4, XOne и 3DS**"
   ]
  },
  {
   "cell_type": "markdown",
   "metadata": {},
   "source": [
    "#### Построим диаграмму рассеяния для платформы PS4 и посчитаем корреляцию между *оценками критиков* и продажами. "
   ]
  },
  {
   "cell_type": "code",
   "execution_count": 63,
   "metadata": {},
   "outputs": [
    {
     "data": {
      "text/plain": [
       "<AxesSubplot:title={'center':'Зависимость между оценками критков и продажами для PS4'}, xlabel='critic_score', ylabel='generalis_sales'>"
      ]
     },
     "execution_count": 63,
     "metadata": {},
     "output_type": "execute_result"
    },
    {
     "data": {
      "image/png": "[encoded data removed]",
      "text/plain": [
       "<Figure size 720x432 with 1 Axes>"
      ]
     },
     "metadata": {
      "needs_background": "light"
     },
     "output_type": "display_data"
    }
   ],
   "source": [
    "data_13_16[data_13_16['platform'] == 'PS4']\\\n",
    ".plot(x='critic_score', y='generalis_sales', ylim=(0, 6), title='Зависимость между оценками критков и продажами для PS4',\\\n",
    "      kind='scatter', figsize=(10,6), grid=True)"
   ]
  },
  {
   "cell_type": "code",
   "execution_count": 64,
   "metadata": {},
   "outputs": [
    {
     "data": {
      "text/plain": [
       "0.40656790206178095"
      ]
     },
     "execution_count": 64,
     "metadata": {},
     "output_type": "execute_result"
    }
   ],
   "source": [
    "data_13_16[data_13_16['platform'] == 'PS4']['critic_score'].corr(data_13_16[data_13_16['platform'] == 'PS4']['generalis_sales'])"
   ]
  },
  {
   "cell_type": "markdown",
   "metadata": {},
   "source": [
    "Теперь построим диаграмму рассеяния и посчитаем корреляцию между **оценками пользователей** и продажами для PS4."
   ]
  },
  {
   "cell_type": "code",
   "execution_count": 65,
   "metadata": {},
   "outputs": [
    {
     "data": {
      "text/plain": [
       "<AxesSubplot:title={'center':'Зависимость между оценками пользователей и продажами для PS4'}, xlabel='user_score', ylabel='generalis_sales'>"
      ]
     },
     "execution_count": 65,
     "metadata": {},
     "output_type": "execute_result"
    },
    {
     "data": {
      "image/png": "[encoded data removed]",
      "text/plain": [
       "<Figure size 720x432 with 1 Axes>"
      ]
     },
     "metadata": {
      "needs_background": "light"
     },
     "output_type": "display_data"
    }
   ],
   "source": [
    "data_13_16[data_13_16['platform'] == 'PS4']\\\n",
    ".plot(x='user_score', y='generalis_sales', ylim=(0, 6), title='Зависимость между оценками пользователей и продажами для PS4',\\\n",
    "      kind='scatter', figsize=(10,6), grid=True)"
   ]
  },
  {
   "cell_type": "code",
   "execution_count": 66,
   "metadata": {},
   "outputs": [
    {
     "data": {
      "text/plain": [
       "-0.031957110204556376"
      ]
     },
     "execution_count": 66,
     "metadata": {},
     "output_type": "execute_result"
    }
   ],
   "source": [
    "data_13_16[data_13_16['platform']=='PS4']['user_score'].corr(data_13_16[data_13_16['platform'] == 'PS4']['generalis_sales'])"
   ]
  },
  {
   "cell_type": "markdown",
   "metadata": {},
   "source": [
    "**Положительное значение коэффициент корреляции означает, что обе переменные движутся в одном направлении, тогда как отрицательное значение говорит нам, что они движутся в противоположных направлениях. Зависимость продаж от оценки критиков согласно графика и коэффициента корреляции умеренная, а зависимость от оценки пользователей совсем низкая.**"
   ]
  },
  {
   "cell_type": "markdown",
   "metadata": {},
   "source": [
    "#### Построим диаграмму рассеяния для платформы XOne и посчитаем корреляцию между *оценками критиков* и продажами. "
   ]
  },
  {
   "cell_type": "code",
   "execution_count": 67,
   "metadata": {},
   "outputs": [
    {
     "data": {
      "text/plain": [
       "<AxesSubplot:title={'center':'Зависимость между оценками критиков и продажами для XOne'}, xlabel='critic_score', ylabel='generalis_sales'>"
      ]
     },
     "execution_count": 67,
     "metadata": {},
     "output_type": "execute_result"
    },
    {
     "data": {
      "image/png": "[encoded data removed]",
      "text/plain": [
       "<Figure size 720x432 with 1 Axes>"
      ]
     },
     "metadata": {
      "needs_background": "light"
     },
     "output_type": "display_data"
    }
   ],
   "source": [
    "data_13_16[data_13_16['platform'] == 'XOne']\\\n",
    ".plot(x='critic_score', y='generalis_sales', ylim=(0, 6), title='Зависимость между оценками критиков и продажами для XOne',\\\n",
    "      kind='scatter', figsize=(10,6), grid=True)"
   ]
  },
  {
   "cell_type": "code",
   "execution_count": 68,
   "metadata": {},
   "outputs": [
    {
     "data": {
      "text/plain": [
       "0.4169983280084017"
      ]
     },
     "execution_count": 68,
     "metadata": {},
     "output_type": "execute_result"
    }
   ],
   "source": [
    "data_13_16[data_13_16['platform'] == 'XOne']['critic_score']\\\n",
    ".corr(data_13_16[data_13_16['platform'] == 'XOne']['generalis_sales'])"
   ]
  },
  {
   "cell_type": "markdown",
   "metadata": {},
   "source": [
    "Теперь построим диаграмму рассеяния и посчитаем корреляцию между **оценками пользователей** и продажами для XOne."
   ]
  },
  {
   "cell_type": "code",
   "execution_count": 69,
   "metadata": {},
   "outputs": [
    {
     "data": {
      "text/plain": [
       "<AxesSubplot:title={'center':'Зависимость между оценками пользователей и продажами для XOne'}, xlabel='user_score', ylabel='generalis_sales'>"
      ]
     },
     "execution_count": 69,
     "metadata": {},
     "output_type": "execute_result"
    },
    {
     "data": {
      "image/png": "[encoded data removed]",
      "text/plain": [
       "<Figure size 720x432 with 1 Axes>"
      ]
     },
     "metadata": {
      "needs_background": "light"
     },
     "output_type": "display_data"
    }
   ],
   "source": [
    "data_13_16[data_13_16['platform'] == 'XOne']\\\n",
    ".plot(x='user_score', y='generalis_sales', ylim=(0, 6), title='Зависимость между оценками пользователей и продажами для XOne',\\\n",
    "      kind='scatter', figsize=(10,6), grid=True)"
   ]
  },
  {
   "cell_type": "code",
   "execution_count": 70,
   "metadata": {},
   "outputs": [
    {
     "data": {
      "text/plain": [
       "-0.06892505328279414"
      ]
     },
     "execution_count": 70,
     "metadata": {},
     "output_type": "execute_result"
    }
   ],
   "source": [
    "data_13_16[data_13_16['platform'] == 'XOne']['user_score'].corr(data_13_16[data_13_16['platform'] == 'XOne']['generalis_sales'])"
   ]
  },
  {
   "cell_type": "markdown",
   "metadata": {},
   "source": [
    "#### Построим диаграмму рассеяния для платформы 3DS и посчитаем корреляцию между *оценками критиков* и продажами. "
   ]
  },
  {
   "cell_type": "code",
   "execution_count": 71,
   "metadata": {},
   "outputs": [
    {
     "data": {
      "text/plain": [
       "<AxesSubplot:title={'center':'Зависимость между оценками критиков и продажами для 3DS'}, xlabel='critic_score', ylabel='generalis_sales'>"
      ]
     },
     "execution_count": 71,
     "metadata": {},
     "output_type": "execute_result"
    },
    {
     "data": {
      "image/png": "[encoded data removed]",
      "text/plain": [
       "<Figure size 720x432 with 1 Axes>"
      ]
     },
     "metadata": {
      "needs_background": "light"
     },
     "output_type": "display_data"
    }
   ],
   "source": [
    "data_13_16[data_13_16['platform'] == '3DS']\\\n",
    ".plot(x='critic_score', y='generalis_sales', ylim=(0, 4), title='Зависимость между оценками критиков и продажами для 3DS',\\\n",
    "      kind='scatter', figsize=(10,6), grid=True)"
   ]
  },
  {
   "cell_type": "code",
   "execution_count": 72,
   "metadata": {},
   "outputs": [
    {
     "data": {
      "text/plain": [
       "0.3570566142288103"
      ]
     },
     "execution_count": 72,
     "metadata": {},
     "output_type": "execute_result"
    }
   ],
   "source": [
    "data_13_16[data_13_16['platform'] == '3DS']['critic_score'].corr(data_13_16[data_13_16['platform'] == '3DS']['generalis_sales'])"
   ]
  },
  {
   "cell_type": "markdown",
   "metadata": {},
   "source": [
    "Теперь построим диаграмму рассеяния и посчитаем корреляцию между **оценками пользователей** и продажами для 3DS."
   ]
  },
  {
   "cell_type": "code",
   "execution_count": 73,
   "metadata": {},
   "outputs": [
    {
     "data": {
      "text/plain": [
       "<AxesSubplot:title={'center':'Зависимость между оценками пользователей и продажами для 3DS'}, xlabel='user_score', ylabel='generalis_sales'>"
      ]
     },
     "execution_count": 73,
     "metadata": {},
     "output_type": "execute_result"
    },
    {
     "data": {
      "image/png": "[encoded data removed]",
      "text/plain": [
       "<Figure size 720x432 with 1 Axes>"
      ]
     },
     "metadata": {
      "needs_background": "light"
     },
     "output_type": "display_data"
    }
   ],
   "source": [
    "data_13_16[data_13_16['platform'] == '3DS']\\\n",
    ".plot(x='user_score', y='generalis_sales', ylim=(0, 5), title='Зависимость между оценками пользователей и продажами для 3DS',\\\n",
    "      kind='scatter', figsize=(10,6), grid=True)"
   ]
  },
  {
   "cell_type": "code",
   "execution_count": 74,
   "metadata": {},
   "outputs": [
    {
     "data": {
      "text/plain": [
       "0.24150411773563016"
      ]
     },
     "execution_count": 74,
     "metadata": {},
     "output_type": "execute_result"
    }
   ],
   "source": [
    "data_13_16[data_13_16['platform'] == '3DS']['user_score'].corr(data_13_16[data_13_16['platform'] == '3DS']['generalis_sales'])"
   ]
  },
  {
   "cell_type": "markdown",
   "metadata": {},
   "source": [
    "**ВЫВОД: можно сказать, что высокие оценки критиков более совпадают с популярностью платформ, тогда как пользователи руководствуются личным мнением, чаще не совпадающим с популярностью платформ.**"
   ]
  },
  {
   "cell_type": "markdown",
   "metadata": {},
   "source": [
    "### Посмотрим на общее распределение игр по жанрам."
   ]
  },
  {
   "cell_type": "code",
   "execution_count": 75,
   "metadata": {
    "scrolled": true
   },
   "outputs": [
    {
     "data": {
      "text/plain": [
       "<AxesSubplot:title={'center':'Продажи игр в разрезе по жанрам'}, xlabel='genre'>"
      ]
     },
     "execution_count": 75,
     "metadata": {},
     "output_type": "execute_result"
    },
    {
     "data": {
      "image/png": "[encoded data removed]",
      "text/plain": [
       "<Figure size 720x504 with 1 Axes>"
      ]
     },
     "metadata": {
      "needs_background": "light"
     },
     "output_type": "display_data"
    }
   ],
   "source": [
    "data_13_16.pivot_table(index='genre', values='generalis_sales', aggfunc='sum')\\\n",
    ".sort_values(by='generalis_sales', ascending=False)\\\n",
    ".plot(kind='bar', figsize=(10, 7), title='Продажи игр в разрезе по жанрам', grid=True)"
   ]
  },
  {
   "cell_type": "markdown",
   "metadata": {},
   "source": [
    "**Больше всего продано игр жанров Action, Shooter, Role-Playing и Sports.**"
   ]
  },
  {
   "cell_type": "code",
   "execution_count": 76,
   "metadata": {},
   "outputs": [
    {
     "data": {
      "image/png": "[encoded data removed]",
      "text/plain": [
       "<Figure size 1440x720 with 1 Axes>"
      ]
     },
     "metadata": {
      "needs_background": "light"
     },
     "output_type": "display_data"
    }
   ],
   "source": [
    "# Посмотрим на диаграммы размаха по жанрам\n",
    "data_13_16.boxplot(column='generalis_sales', by='genre', grid= True, figsize=(20, 10))\n",
    "plt.ylim(0, 5)\n",
    "plt.show()"
   ]
  },
  {
   "cell_type": "code",
   "execution_count": 77,
   "metadata": {},
   "outputs": [
    {
     "data": {
      "image/png": "[encoded data removed]",
      "text/plain": [
       "<Figure size 1440x720 with 1 Axes>"
      ]
     },
     "metadata": {
      "needs_background": "light"
     },
     "output_type": "display_data"
    }
   ],
   "source": [
    "# Посмотрим на диаграммы размаха по жанрам без сильных выбросов\n",
    "data_13_16.boxplot(column='generalis_sales', by='genre', grid= True, figsize=(20, 10))\n",
    "plt.ylim(0, 2)\n",
    "plt.show()"
   ]
  },
  {
   "cell_type": "code",
   "execution_count": 78,
   "metadata": {},
   "outputs": [
    {
     "data": {
      "text/html": [
       "<div>\n",
       "<style scoped>\n",
       "    .dataframe tbody tr th:only-of-type {\n",
       "        vertical-align: middle;\n",
       "    }\n",
       "\n",
       "    .dataframe tbody tr th {\n",
       "        vertical-align: top;\n",
       "    }\n",
       "\n",
       "    .dataframe thead tr th {\n",
       "        text-align: left;\n",
       "    }\n",
       "\n",
       "    .dataframe thead tr:last-of-type th {\n",
       "        text-align: right;\n",
       "    }\n",
       "</style>\n",
       "<table border=\"1\" class=\"dataframe\">\n",
       "  <thead>\n",
       "    <tr>\n",
       "      <th></th>\n",
       "      <th>mean</th>\n",
       "      <th>median</th>\n",
       "      <th>count</th>\n",
       "    </tr>\n",
       "    <tr>\n",
       "      <th></th>\n",
       "      <th>generalis_sales</th>\n",
       "      <th>generalis_sales</th>\n",
       "      <th>generalis_sales</th>\n",
       "    </tr>\n",
       "    <tr>\n",
       "      <th>genre</th>\n",
       "      <th></th>\n",
       "      <th></th>\n",
       "      <th></th>\n",
       "    </tr>\n",
       "  </thead>\n",
       "  <tbody>\n",
       "    <tr>\n",
       "      <th>Action</th>\n",
       "      <td>0.353843</td>\n",
       "      <td>0.090</td>\n",
       "      <td>523</td>\n",
       "    </tr>\n",
       "    <tr>\n",
       "      <th>Adventure</th>\n",
       "      <td>0.098253</td>\n",
       "      <td>0.030</td>\n",
       "      <td>166</td>\n",
       "    </tr>\n",
       "    <tr>\n",
       "      <th>Fighting</th>\n",
       "      <td>0.468182</td>\n",
       "      <td>0.115</td>\n",
       "      <td>44</td>\n",
       "    </tr>\n",
       "    <tr>\n",
       "      <th>Misc</th>\n",
       "      <td>0.290213</td>\n",
       "      <td>0.090</td>\n",
       "      <td>94</td>\n",
       "    </tr>\n",
       "    <tr>\n",
       "      <th>Platform</th>\n",
       "      <td>0.448750</td>\n",
       "      <td>0.160</td>\n",
       "      <td>40</td>\n",
       "    </tr>\n",
       "    <tr>\n",
       "      <th>Puzzle</th>\n",
       "      <td>0.150833</td>\n",
       "      <td>0.065</td>\n",
       "      <td>12</td>\n",
       "    </tr>\n",
       "    <tr>\n",
       "      <th>Racing</th>\n",
       "      <td>0.396552</td>\n",
       "      <td>0.095</td>\n",
       "      <td>58</td>\n",
       "    </tr>\n",
       "    <tr>\n",
       "      <th>Role-Playing</th>\n",
       "      <td>0.547130</td>\n",
       "      <td>0.120</td>\n",
       "      <td>223</td>\n",
       "    </tr>\n",
       "    <tr>\n",
       "      <th>Shooter</th>\n",
       "      <td>1.405526</td>\n",
       "      <td>0.565</td>\n",
       "      <td>114</td>\n",
       "    </tr>\n",
       "    <tr>\n",
       "      <th>Simulation</th>\n",
       "      <td>0.400204</td>\n",
       "      <td>0.080</td>\n",
       "      <td>49</td>\n",
       "    </tr>\n",
       "    <tr>\n",
       "      <th>Sports</th>\n",
       "      <td>0.723033</td>\n",
       "      <td>0.205</td>\n",
       "      <td>122</td>\n",
       "    </tr>\n",
       "    <tr>\n",
       "      <th>Strategy</th>\n",
       "      <td>0.163617</td>\n",
       "      <td>0.070</td>\n",
       "      <td>47</td>\n",
       "    </tr>\n",
       "  </tbody>\n",
       "</table>\n",
       "</div>"
      ],
      "text/plain": [
       "                        mean          median           count\n",
       "             generalis_sales generalis_sales generalis_sales\n",
       "genre                                                       \n",
       "Action              0.353843           0.090             523\n",
       "Adventure           0.098253           0.030             166\n",
       "Fighting            0.468182           0.115              44\n",
       "Misc                0.290213           0.090              94\n",
       "Platform            0.448750           0.160              40\n",
       "Puzzle              0.150833           0.065              12\n",
       "Racing              0.396552           0.095              58\n",
       "Role-Playing        0.547130           0.120             223\n",
       "Shooter             1.405526           0.565             114\n",
       "Simulation          0.400204           0.080              49\n",
       "Sports              0.723033           0.205             122\n",
       "Strategy            0.163617           0.070              47"
      ]
     },
     "execution_count": 78,
     "metadata": {},
     "output_type": "execute_result"
    }
   ],
   "source": [
    "data_13_16.pivot_table(index='genre', values='generalis_sales', aggfunc=['mean', 'median', 'count'])"
   ]
  },
  {
   "cell_type": "markdown",
   "metadata": {},
   "source": [
    "**Согласно выбросов на диаграмме размаха самые популярные игры тех же жанров - Shooter, Action и Role-Playing и Sports, но есть ещё одна очень популярная игра жанра Simulation. При этом медианное значение по количеству проданных копий у жанра Action одно из самых низких, а жанр Platform напротив занимает третье место, это означает, что большая часть игр жанра Action не лидер на рынке продаж.**"
   ]
  },
  {
   "cell_type": "markdown",
   "metadata": {},
   "source": [
    "## Составим портрет пользователя каждого региона"
   ]
  },
  {
   "cell_type": "markdown",
   "metadata": {},
   "source": [
    "### Посмотрим на продажи по регионам: Северная Америка, Европа и Япония"
   ]
  },
  {
   "cell_type": "code",
   "execution_count": 79,
   "metadata": {},
   "outputs": [
    {
     "data": {
      "text/plain": [
       "<AxesSubplot:title={'center':'Продажи игр в разрезе платформ по регионам'}, xlabel='platform'>"
      ]
     },
     "execution_count": 79,
     "metadata": {},
     "output_type": "execute_result"
    },
    {
     "data": {
      "image/png": "[encoded data removed]",
      "text/plain": [
       "<Figure size 720x432 with 1 Axes>"
      ]
     },
     "metadata": {
      "needs_background": "light"
     },
     "output_type": "display_data"
    }
   ],
   "source": [
    "# Построим гистограммы для всех трех регионов в разрезе по платформам\n",
    "data_13_16.pivot_table(index='platform', values=['na_sales', 'eu_sales', 'jp_sales'], aggfunc='sum')\\\n",
    ".sort_values(by='na_sales', ascending=False)\\\n",
    ".plot(kind='bar', grid=True, title='Продажи игр в разрезе платформ по регионам', figsize=(10, 6))"
   ]
  },
  {
   "cell_type": "markdown",
   "metadata": {},
   "source": [
    "**Самые популярные платформыв Северной Америке и Европе совпадают - PS4, XOne и 3DS, тогда как в Японии XOne самая непопулярная, а на первых местах стоят 3DS и самая непопулярная в Америке и Европе платформа PSV**"
   ]
  },
  {
   "cell_type": "markdown",
   "metadata": {},
   "source": [
    "**Посмотрим на доли продаж по платформам**"
   ]
  },
  {
   "cell_type": "code",
   "execution_count": 80,
   "metadata": {},
   "outputs": [],
   "source": [
    "data_na_sales = data_13_16.groupby('platform').agg({'na_sales': ['sum']}) #сумма проданных копий в СевернойАмерике по платформам\n",
    "data_eu_sales = data_13_16.groupby('platform').agg({'eu_sales': ['sum']}) # сумма проданных копий в Европе по платформам\n",
    "data_jp_sales = data_13_16.groupby('platform').agg({'jp_sales': ['sum']}) # сумма проданных копий в Японии по платформам"
   ]
  },
  {
   "cell_type": "code",
   "execution_count": 81,
   "metadata": {},
   "outputs": [
    {
     "data": {
      "text/html": [
       "<div>\n",
       "<style scoped>\n",
       "    .dataframe tbody tr th:only-of-type {\n",
       "        vertical-align: middle;\n",
       "    }\n",
       "\n",
       "    .dataframe tbody tr th {\n",
       "        vertical-align: top;\n",
       "    }\n",
       "\n",
       "    .dataframe thead tr th {\n",
       "        text-align: left;\n",
       "    }\n",
       "\n",
       "    .dataframe thead tr:last-of-type th {\n",
       "        text-align: right;\n",
       "    }\n",
       "</style>\n",
       "<table border=\"1\" class=\"dataframe\">\n",
       "  <thead>\n",
       "    <tr>\n",
       "      <th></th>\n",
       "      <th>na_sales</th>\n",
       "      <th>ratio</th>\n",
       "    </tr>\n",
       "    <tr>\n",
       "      <th></th>\n",
       "      <th>sum</th>\n",
       "      <th></th>\n",
       "    </tr>\n",
       "    <tr>\n",
       "      <th>platform</th>\n",
       "      <th></th>\n",
       "      <th></th>\n",
       "    </tr>\n",
       "  </thead>\n",
       "  <tbody>\n",
       "    <tr>\n",
       "      <th>PS4</th>\n",
       "      <td>108.74</td>\n",
       "      <td>0.424285</td>\n",
       "    </tr>\n",
       "    <tr>\n",
       "      <th>XOne</th>\n",
       "      <td>93.12</td>\n",
       "      <td>0.363338</td>\n",
       "    </tr>\n",
       "    <tr>\n",
       "      <th>3DS</th>\n",
       "      <td>38.20</td>\n",
       "      <td>0.149050</td>\n",
       "    </tr>\n",
       "    <tr>\n",
       "      <th>PC</th>\n",
       "      <td>11.19</td>\n",
       "      <td>0.043661</td>\n",
       "    </tr>\n",
       "    <tr>\n",
       "      <th>PSV</th>\n",
       "      <td>5.04</td>\n",
       "      <td>0.019665</td>\n",
       "    </tr>\n",
       "  </tbody>\n",
       "</table>\n",
       "</div>"
      ],
      "text/plain": [
       "         na_sales     ratio\n",
       "              sum          \n",
       "platform                   \n",
       "PS4        108.74  0.424285\n",
       "XOne        93.12  0.363338\n",
       "3DS         38.20  0.149050\n",
       "PC          11.19  0.043661\n",
       "PSV          5.04  0.019665"
      ]
     },
     "execution_count": 81,
     "metadata": {},
     "output_type": "execute_result"
    }
   ],
   "source": [
    "# Посмотрим на доли продаж по платформам в Северной Америке\n",
    "data_na_sales['ratio'] = data_na_sales['na_sales']['sum'] / data_na_sales['na_sales']['sum'].sum()\n",
    "data_na_sales.sort_values(by='ratio', ascending=False)"
   ]
  },
  {
   "cell_type": "code",
   "execution_count": 82,
   "metadata": {},
   "outputs": [
    {
     "data": {
      "text/html": [
       "<div>\n",
       "<style scoped>\n",
       "    .dataframe tbody tr th:only-of-type {\n",
       "        vertical-align: middle;\n",
       "    }\n",
       "\n",
       "    .dataframe tbody tr th {\n",
       "        vertical-align: top;\n",
       "    }\n",
       "\n",
       "    .dataframe thead tr th {\n",
       "        text-align: left;\n",
       "    }\n",
       "\n",
       "    .dataframe thead tr:last-of-type th {\n",
       "        text-align: right;\n",
       "    }\n",
       "</style>\n",
       "<table border=\"1\" class=\"dataframe\">\n",
       "  <thead>\n",
       "    <tr>\n",
       "      <th></th>\n",
       "      <th>eu_sales</th>\n",
       "      <th>ratio</th>\n",
       "    </tr>\n",
       "    <tr>\n",
       "      <th></th>\n",
       "      <th>sum</th>\n",
       "      <th></th>\n",
       "    </tr>\n",
       "    <tr>\n",
       "      <th>platform</th>\n",
       "      <th></th>\n",
       "      <th></th>\n",
       "    </tr>\n",
       "  </thead>\n",
       "  <tbody>\n",
       "    <tr>\n",
       "      <th>PS4</th>\n",
       "      <td>141.09</td>\n",
       "      <td>0.552039</td>\n",
       "    </tr>\n",
       "    <tr>\n",
       "      <th>XOne</th>\n",
       "      <td>51.59</td>\n",
       "      <td>0.201855</td>\n",
       "    </tr>\n",
       "    <tr>\n",
       "      <th>3DS</th>\n",
       "      <td>30.96</td>\n",
       "      <td>0.121136</td>\n",
       "    </tr>\n",
       "    <tr>\n",
       "      <th>PC</th>\n",
       "      <td>25.84</td>\n",
       "      <td>0.101103</td>\n",
       "    </tr>\n",
       "    <tr>\n",
       "      <th>PSV</th>\n",
       "      <td>6.10</td>\n",
       "      <td>0.023867</td>\n",
       "    </tr>\n",
       "  </tbody>\n",
       "</table>\n",
       "</div>"
      ],
      "text/plain": [
       "         eu_sales     ratio\n",
       "              sum          \n",
       "platform                   \n",
       "PS4        141.09  0.552039\n",
       "XOne        51.59  0.201855\n",
       "3DS         30.96  0.121136\n",
       "PC          25.84  0.101103\n",
       "PSV          6.10  0.023867"
      ]
     },
     "execution_count": 82,
     "metadata": {},
     "output_type": "execute_result"
    }
   ],
   "source": [
    "# Посмотрим на доли продаж по платформам в Европе\n",
    "data_eu_sales['ratio'] = data_eu_sales['eu_sales']['sum'] / data_eu_sales['eu_sales']['sum'].sum()\n",
    "data_eu_sales.sort_values(by='ratio', ascending=False)"
   ]
  },
  {
   "cell_type": "code",
   "execution_count": 83,
   "metadata": {},
   "outputs": [
    {
     "data": {
      "text/html": [
       "<div>\n",
       "<style scoped>\n",
       "    .dataframe tbody tr th:only-of-type {\n",
       "        vertical-align: middle;\n",
       "    }\n",
       "\n",
       "    .dataframe tbody tr th {\n",
       "        vertical-align: top;\n",
       "    }\n",
       "\n",
       "    .dataframe thead tr th {\n",
       "        text-align: left;\n",
       "    }\n",
       "\n",
       "    .dataframe thead tr:last-of-type th {\n",
       "        text-align: right;\n",
       "    }\n",
       "</style>\n",
       "<table border=\"1\" class=\"dataframe\">\n",
       "  <thead>\n",
       "    <tr>\n",
       "      <th></th>\n",
       "      <th>jp_sales</th>\n",
       "      <th>ratio</th>\n",
       "    </tr>\n",
       "    <tr>\n",
       "      <th></th>\n",
       "      <th>sum</th>\n",
       "      <th></th>\n",
       "    </tr>\n",
       "    <tr>\n",
       "      <th>platform</th>\n",
       "      <th></th>\n",
       "      <th></th>\n",
       "    </tr>\n",
       "  </thead>\n",
       "  <tbody>\n",
       "    <tr>\n",
       "      <th>3DS</th>\n",
       "      <td>67.81</td>\n",
       "      <td>0.660273</td>\n",
       "    </tr>\n",
       "    <tr>\n",
       "      <th>PSV</th>\n",
       "      <td>18.59</td>\n",
       "      <td>0.181013</td>\n",
       "    </tr>\n",
       "    <tr>\n",
       "      <th>PS4</th>\n",
       "      <td>15.96</td>\n",
       "      <td>0.155404</td>\n",
       "    </tr>\n",
       "    <tr>\n",
       "      <th>XOne</th>\n",
       "      <td>0.34</td>\n",
       "      <td>0.003311</td>\n",
       "    </tr>\n",
       "    <tr>\n",
       "      <th>PC</th>\n",
       "      <td>0.00</td>\n",
       "      <td>0.000000</td>\n",
       "    </tr>\n",
       "  </tbody>\n",
       "</table>\n",
       "</div>"
      ],
      "text/plain": [
       "         jp_sales     ratio\n",
       "              sum          \n",
       "platform                   \n",
       "3DS         67.81  0.660273\n",
       "PSV         18.59  0.181013\n",
       "PS4         15.96  0.155404\n",
       "XOne         0.34  0.003311\n",
       "PC           0.00  0.000000"
      ]
     },
     "execution_count": 83,
     "metadata": {},
     "output_type": "execute_result"
    }
   ],
   "source": [
    "# Посмотрим на доли продаж по платформам в Японии\n",
    "data_jp_sales['ratio'] = data_jp_sales['jp_sales']['sum'] / data_jp_sales['jp_sales']['sum'].sum()\n",
    "data_jp_sales.sort_values(by='ratio', ascending=False)"
   ]
  },
  {
   "cell_type": "markdown",
   "metadata": {},
   "source": [
    "**В Японии на платформу 3DS приходится две третих от всех продаж, а остальная часть практически полностью приходится на две платформы - PSV и PS4. В Европе и Северной Америке на самую популярную в Японии платформу 3DS приходится всего лишь 12% и 15% соответственно, а самая популярная в этих регионах платформа - PS4, на её долю приходится большая половина продаж в Европе, и чуть меньше половины (42%) в Северной Америке. На второй позиции в Европе и Северной Америке находится XOne, это треть в Северной Америке (36%) и пятая часть в Европе (20%).**"
   ]
  },
  {
   "cell_type": "markdown",
   "metadata": {},
   "source": [
    "### Посмотрим на самые популярные жанры по регионам"
   ]
  },
  {
   "cell_type": "code",
   "execution_count": 84,
   "metadata": {},
   "outputs": [
    {
     "data": {
      "text/plain": [
       "<AxesSubplot:title={'center':'Продажи игр в разрезе жанров по регионам'}, xlabel='genre'>"
      ]
     },
     "execution_count": 84,
     "metadata": {},
     "output_type": "execute_result"
    },
    {
     "data": {
      "image/png": "[encoded data removed]",
      "text/plain": [
       "<Figure size 864x504 with 1 Axes>"
      ]
     },
     "metadata": {
      "needs_background": "light"
     },
     "output_type": "display_data"
    }
   ],
   "source": [
    "# Построим гистограммы для всех трех регионов в разрезе по платформам\n",
    "data_13_16.pivot_table(index='genre', values=['na_sales', 'eu_sales', 'jp_sales'], aggfunc='sum')\\\n",
    ".sort_values(by='na_sales', ascending=False)\\\n",
    ".plot(kind='bar', grid=True, title='Продажи игр в разрезе жанров по регионам', figsize=(12, 7))"
   ]
  },
  {
   "cell_type": "markdown",
   "metadata": {},
   "source": [
    "**В Европе и Северной Америке самые популярные игры жанров Shooter, Action, Role-Playing и Sports, при этом самый популярный в Северной Америке жанр Shooter, а самый популярный в Европе - жанр Action. В Японии же напротив жанры Shooter и Sports совсем не популярны, там первые позиции принадлежат играм жанра Role-Playing и Action.**"
   ]
  },
  {
   "cell_type": "markdown",
   "metadata": {},
   "source": [
    "### Посмотрим, влияет ли рейтинг ESRB на продажи в отдельном регионе"
   ]
  },
  {
   "cell_type": "code",
   "execution_count": 85,
   "metadata": {},
   "outputs": [
    {
     "data": {
      "text/plain": [
       "<AxesSubplot:title={'center':'Продажи игр в разрезе рейтингов ESRB по регионам'}, xlabel='rating'>"
      ]
     },
     "execution_count": 85,
     "metadata": {},
     "output_type": "execute_result"
    },
    {
     "data": {
      "image/png": "[encoded data removed]",
      "text/plain": [
       "<Figure size 720x360 with 1 Axes>"
      ]
     },
     "metadata": {
      "needs_background": "light"
     },
     "output_type": "display_data"
    }
   ],
   "source": [
    "# Построим гистограммы для всех трех регионов в разрезе по рейтингам\n",
    "data_13_16.pivot_table(index='rating', values=['na_sales', 'eu_sales', 'jp_sales'], aggfunc='sum')\\\n",
    ".sort_values(by='na_sales', ascending=False)\\\n",
    ".plot(kind='bar', grid=True, title='Продажи игр в разрезе рейтингов ESRB по регионам', figsize=(10, 5))"
   ]
  },
  {
   "cell_type": "markdown",
   "metadata": {},
   "source": [
    "**В Европе и Северной Америке самые популярные игры рейтинга М - это игры для лиц старше 17 лет, когда насилие становится реалистичным и похожим на реальную жизнь, при этом в Японии такие игры совсем непопулярны, там больше игр вообще без рейтинга (возможно эти игры созданы в самой Японии), а вторую позицию занимают игры рейтинга Т - это игры для лиц старше 13 лет, когда игра может содержать более реалистичные и натуралистические сцены насилия .**\n",
    "\n",
    "## Проверем гипотезы"
   ]
  },
  {
   "cell_type": "markdown",
   "metadata": {},
   "source": [
    "### ГИПОТЕЗА - средние пользовательские рейтинги платформ Xbox One и PC одинаковые"
   ]
  },
  {
   "cell_type": "code",
   "execution_count": 86,
   "metadata": {},
   "outputs": [],
   "source": [
    "from scipy import stats as st"
   ]
  },
  {
   "cell_type": "markdown",
   "metadata": {},
   "source": [
    "**Нулевая гипотеза - средние пользовательские рейтинги платформ Xbox One и PC одинаковые**"
   ]
  },
  {
   "cell_type": "markdown",
   "metadata": {},
   "source": [
    "**Альтернативая гипотеза - средние пользовательские рейтинги платформ Xbox One и PC разные**"
   ]
  },
  {
   "cell_type": "markdown",
   "metadata": {},
   "source": [
    "**Вероятность получить наблюдаемый результат при условии, что нулевая гипотеза верна, примем alpha = 5%**"
   ]
  },
  {
   "cell_type": "code",
   "execution_count": 87,
   "metadata": {},
   "outputs": [],
   "source": [
    "# сохраним выборку по платформе XOne с оценками пользователей без пропусков\n",
    "user_score_XOne = data_13_16.loc[data_13_16['platform'] == 'XOne', 'user_score'].dropna()\n",
    "# сохраним выборку по платформе PC с оценками пользователей без пропусков\n",
    "user_score_PC = data_13_16.loc[data_13_16['platform'] == 'PC', 'user_score'].dropna()"
   ]
  },
  {
   "cell_type": "code",
   "execution_count": 88,
   "metadata": {},
   "outputs": [
    {
     "data": {
      "text/plain": [
       "190"
      ]
     },
     "execution_count": 88,
     "metadata": {},
     "output_type": "execute_result"
    }
   ],
   "source": [
    "# проверим размер общий размер выборок, если объем выборок небольшой, \n",
    "# то можно вполне отвергнуть нулевую гипотезу при уровне значимости 0,05\n",
    "len(user_score_XOne) | len(user_score_PC)"
   ]
  },
  {
   "cell_type": "code",
   "execution_count": 89,
   "metadata": {},
   "outputs": [],
   "source": [
    "alpha = 0.05"
   ]
  },
  {
   "cell_type": "code",
   "execution_count": 90,
   "metadata": {},
   "outputs": [],
   "source": [
    "results = st.ttest_ind(user_score_XOne, user_score_PC)"
   ]
  },
  {
   "cell_type": "code",
   "execution_count": 91,
   "metadata": {},
   "outputs": [
    {
     "name": "stdout",
     "output_type": "stream",
     "text": [
      "p-значение: 0.15503167687396294\n"
     ]
    }
   ],
   "source": [
    "print('p-значение:', results.pvalue)"
   ]
  },
  {
   "cell_type": "code",
   "execution_count": 92,
   "metadata": {},
   "outputs": [
    {
     "name": "stdout",
     "output_type": "stream",
     "text": [
      "Не получилось отвергнуть нулевую гипотезу\n"
     ]
    }
   ],
   "source": [
    "if results.pvalue < alpha:\n",
    "    print('Отвергаем нулевую гипотезу')\n",
    "else:\n",
    "    print('Не получилось отвергнуть нулевую гипотезу')"
   ]
  },
  {
   "cell_type": "markdown",
   "metadata": {},
   "source": [
    "**Вывод: нулевая гипотеза верна, хотя условная вероятность p-value и мала, но она больше установленного критического значения, а значит в среднем пользовательские рейтинги платформ Xbox One и PC одинаковые**"
   ]
  },
  {
   "cell_type": "markdown",
   "metadata": {},
   "source": [
    "### ГИПОТЕЗА - средние пользовательские рейтинги жанров Action и Sports разные."
   ]
  },
  {
   "cell_type": "markdown",
   "metadata": {},
   "source": [
    "**Нулевая гипотеза - средние пользовательские рейтинги жанров Action и Sports одинаковые**"
   ]
  },
  {
   "cell_type": "markdown",
   "metadata": {},
   "source": [
    "**Альтернативая гипотеза - средние пользовательские рейтинги жанров Action и Sports разные**"
   ]
  },
  {
   "cell_type": "markdown",
   "metadata": {},
   "source": [
    "**Вероятность получить наблюдаемый результат при условии, что нулевая гипотеза верна, примем alpha = 5%**"
   ]
  },
  {
   "cell_type": "code",
   "execution_count": 93,
   "metadata": {},
   "outputs": [],
   "source": [
    "# сохраним выборку по жанру Action с оценками пользователей без пропусков\n",
    "user_score_Action = data_13_16.loc[data_13_16['genre'] == 'Action', 'user_score'].dropna()\n",
    "# сохраним выборку по жанру Sports с оценками пользователей без пропусков\n",
    "user_score_Sports = data_13_16.loc[data_13_16['genre'] == 'Sports', 'user_score'].dropna()"
   ]
  },
  {
   "cell_type": "code",
   "execution_count": 94,
   "metadata": {},
   "outputs": [
    {
     "data": {
      "text/plain": [
       "255"
      ]
     },
     "execution_count": 94,
     "metadata": {},
     "output_type": "execute_result"
    }
   ],
   "source": [
    "# проверим общий размер выборок, если объем выборок небольшой,\n",
    "# то можно вполне отвергнуть нулевую гипотезу при уровне значимости 0,05\n",
    "len(user_score_Action) | len(user_score_Sports)"
   ]
  },
  {
   "cell_type": "code",
   "execution_count": 95,
   "metadata": {},
   "outputs": [],
   "source": [
    "alpha = 0.05"
   ]
  },
  {
   "cell_type": "code",
   "execution_count": 96,
   "metadata": {},
   "outputs": [],
   "source": [
    "results = st.ttest_ind(user_score_Action, user_score_Sports)"
   ]
  },
  {
   "cell_type": "code",
   "execution_count": 97,
   "metadata": {},
   "outputs": [
    {
     "name": "stdout",
     "output_type": "stream",
     "text": [
      "p-значение: 8.2939091693825e-14\n"
     ]
    }
   ],
   "source": [
    "print('p-значение:', results.pvalue)"
   ]
  },
  {
   "cell_type": "code",
   "execution_count": 98,
   "metadata": {},
   "outputs": [
    {
     "name": "stdout",
     "output_type": "stream",
     "text": [
      "Отвергаем нулевую гипотезу\n"
     ]
    }
   ],
   "source": [
    "if results.pvalue < alpha:\n",
    "    print('Отвергаем нулевую гипотезу')\n",
    "else:\n",
    "    print('Не получилось отвергнуть нулевую гипотезу')"
   ]
  },
  {
   "cell_type": "markdown",
   "metadata": {},
   "source": [
    "**Вывод: нулевую гипотезу стоит отвергнуть, условная вероятность p-value слишком большая, а значит в среднем пользовательские рейтинги жанров Action и Sports разные**"
   ]
  },
  {
   "cell_type": "markdown",
   "metadata": {},
   "source": [
    "**Так как при проверке гипотез мы берем две части генеральных совокупностей, независящие друг от друга (рейтинги разных платформ и рейтинги разных жанров), то  мы берем специальный метод (t-тест) для проверки гипотезы о равенстве среднего двух независимых генеральных совокупностей: scipy.stats.ttest_ind(array1, array2, equal_var).**"
   ]
  },
  {
   "cell_type": "markdown",
   "metadata": {},
   "source": [
    "## ОБЩИЙ ВЫВОД: "
   ]
  },
  {
   "cell_type": "markdown",
   "metadata": {},
   "source": [
    "Была проведена предобработка и изучены данные о компьютерных играх с датой выпуска с 1980г. по 2016г., продаваемые в Северной Америке, Европе и Японии. В рамках предобработки были удалены строки с некорректными данными, пропуски в годах релиза игр были частично обработаны, частично удалены в незначительной массе, что никак не повлияло на исследования, изменен устаревший рейтинг на актуальный, в оценках пользователей заменены строковые значения."
   ]
  },
  {
   "cell_type": "markdown",
   "metadata": {},
   "source": [
    "В рамках исследовательского анализа было установлено, что с 2008г. по 2012г. количество выпускаемых игр падало, с 2013г. наоборот расло, также выяснили, что в среднем платформа существует 10-11лет, пик популярности приходится на середину срока существования платформы. В связи с этой информацией  были отброшены платформы, которые уже далеко прошли пик своей популярности к 2015-2016гг. В список перспективных платформ вошли платформы с неубывающим на 2015-2016гг. числом продаж: PC, PS4, XOne и 3DS, платформа PSV также была включена в актуальный список, т.к. занимала третью позицию по количеству игр среди всех платформ."
   ]
  },
  {
   "cell_type": "markdown",
   "metadata": {},
   "source": [
    "При дальнейшем анализе было выявлено, что из пяти платформ лидером продаж является PS4, у этой платформы много разнообразных игр в немалом количестве проданных копий, как и идущей следом за ней по популярности XOne. Самых популярных игр также больше у PS4, XOne и 3DS. Платформа PSV самая непопулярная платформа, хотя по количеству проданных копий занимает вторую позицию."
   ]
  },
  {
   "cell_type": "markdown",
   "metadata": {},
   "source": [
    "Самые популярные игры жанров - Shooter, Action и Role-Playing и Sports. При этом в общей массе по количеству проданных копий у жанра Action одна из самых низких позиций, а жанр Platform напротив занимает третье место."
   ]
  },
  {
   "cell_type": "markdown",
   "metadata": {},
   "source": [
    "Что касаемо оценок, установлено, что высокие оценки критиков более совпадают с популярностью платформ, тогда как пользователи руководствуются субъективным мнением и их оценки чаще носятт разрозненный характер."
   ]
  },
  {
   "cell_type": "markdown",
   "metadata": {},
   "source": [
    "При анализе установлены региональные различия, так в Японии на платформу 3DS приходится две третих от всех продаж, а остальная часть практически полностью приходится на две платформы - PSV и PS4. В Европе и Северной Америке самая популярная платформа - PS4, на её долю приходится большая половина продаж в Европе, и чуть меньше половины (42%) в Северной Америке. На второй позиции в Европе и Северной Америке находится XOne, это треть в Северной Америке (36%) и пятая часть в Европе (20%). В Европе и Северной Америке самые популярные игры жанров Shooter, Action, Role-Playing и Sports, при этом самый популярный в Северной Америке жанр Shooter, а самый популярный в Европе - жанр Action. В Японии же напротив жанры Shooter и Sports совсем не популярны, там первые позиции принадлежат играм жанра Role-Playing и Action."
   ]
  }
 ],
 "metadata": {
  "ExecuteTimeLog": [
   {
    "duration": 401,
    "start_time": "2023-03-13T19:38:49.894Z"
   },
   {
    "duration": 197,
    "start_time": "2023-03-13T19:38:51.931Z"
   },
   {
    "duration": 18,
    "start_time": "2023-03-13T19:39:09.408Z"
   },
   {
    "duration": 1185,
    "start_time": "2023-03-13T19:39:37.197Z"
   },
   {
    "duration": 11,
    "start_time": "2023-03-13T19:40:24.401Z"
   },
   {
    "duration": 20,
    "start_time": "2023-03-13T19:42:34.009Z"
   },
   {
    "duration": 55,
    "start_time": "2023-03-13T20:00:57.200Z"
   },
   {
    "duration": 4,
    "start_time": "2023-03-13T20:01:03.393Z"
   },
   {
    "duration": 87,
    "start_time": "2023-03-13T20:01:10.923Z"
   },
   {
    "duration": 8,
    "start_time": "2023-03-13T20:11:04.899Z"
   },
   {
    "duration": 23,
    "start_time": "2023-03-13T20:11:24.417Z"
   },
   {
    "duration": 25,
    "start_time": "2023-03-13T20:16:36.244Z"
   },
   {
    "duration": 21,
    "start_time": "2023-03-13T20:16:55.212Z"
   },
   {
    "duration": 21,
    "start_time": "2023-03-13T20:17:17.332Z"
   },
   {
    "duration": 22,
    "start_time": "2023-03-13T20:18:16.194Z"
   },
   {
    "duration": 18,
    "start_time": "2023-03-13T20:18:32.169Z"
   },
   {
    "duration": 24,
    "start_time": "2023-03-13T20:20:08.696Z"
   },
   {
    "duration": 24,
    "start_time": "2023-03-13T20:22:22.625Z"
   },
   {
    "duration": 16,
    "start_time": "2023-03-13T20:24:48.478Z"
   },
   {
    "duration": 15,
    "start_time": "2023-03-13T20:25:25.745Z"
   },
   {
    "duration": 17,
    "start_time": "2023-03-13T20:26:00.730Z"
   },
   {
    "duration": 76,
    "start_time": "2023-03-13T20:27:40.138Z"
   },
   {
    "duration": 23,
    "start_time": "2023-03-13T20:28:17.374Z"
   },
   {
    "duration": 24,
    "start_time": "2023-03-13T20:28:40.312Z"
   },
   {
    "duration": 18,
    "start_time": "2023-03-13T20:30:52.407Z"
   },
   {
    "duration": 10,
    "start_time": "2023-03-13T20:32:39.203Z"
   },
   {
    "duration": 14,
    "start_time": "2023-03-13T20:35:08.208Z"
   },
   {
    "duration": 23,
    "start_time": "2023-03-13T20:36:08.742Z"
   },
   {
    "duration": 31,
    "start_time": "2023-03-13T20:38:56.708Z"
   },
   {
    "duration": 35,
    "start_time": "2023-03-13T20:41:14.975Z"
   },
   {
    "duration": 19,
    "start_time": "2023-03-13T20:41:29.675Z"
   },
   {
    "duration": 14,
    "start_time": "2023-03-13T20:42:47.542Z"
   },
   {
    "duration": 5,
    "start_time": "2023-03-13T20:45:01.709Z"
   },
   {
    "duration": 26,
    "start_time": "2023-03-13T20:45:11.798Z"
   },
   {
    "duration": 9,
    "start_time": "2023-03-13T20:49:53.129Z"
   },
   {
    "duration": 14,
    "start_time": "2023-03-13T20:49:56.859Z"
   },
   {
    "duration": 388,
    "start_time": "2023-03-13T20:50:28.105Z"
   },
   {
    "duration": 52,
    "start_time": "2023-03-13T20:50:28.495Z"
   },
   {
    "duration": 24,
    "start_time": "2023-03-13T20:50:28.549Z"
   },
   {
    "duration": 14,
    "start_time": "2023-03-13T20:50:28.574Z"
   },
   {
    "duration": 30,
    "start_time": "2023-03-13T20:50:28.590Z"
   },
   {
    "duration": 3,
    "start_time": "2023-03-13T20:50:28.621Z"
   },
   {
    "duration": 1021,
    "start_time": "2023-03-13T20:50:28.626Z"
   },
   {
    "duration": 9,
    "start_time": "2023-03-13T20:50:29.649Z"
   },
   {
    "duration": 29,
    "start_time": "2023-03-13T20:50:29.659Z"
   },
   {
    "duration": 16,
    "start_time": "2023-03-13T20:50:29.690Z"
   },
   {
    "duration": 12,
    "start_time": "2023-03-13T20:50:29.708Z"
   },
   {
    "duration": 22,
    "start_time": "2023-03-13T20:50:29.722Z"
   },
   {
    "duration": 18,
    "start_time": "2023-03-13T20:50:29.746Z"
   },
   {
    "duration": 6,
    "start_time": "2023-03-13T20:50:29.782Z"
   },
   {
    "duration": 19,
    "start_time": "2023-03-13T20:50:29.790Z"
   },
   {
    "duration": 19,
    "start_time": "2023-03-13T20:50:29.810Z"
   },
   {
    "duration": 15,
    "start_time": "2023-03-13T20:50:49.049Z"
   },
   {
    "duration": 10,
    "start_time": "2023-03-13T20:51:51.476Z"
   },
   {
    "duration": 719,
    "start_time": "2023-03-13T20:53:27.453Z"
   },
   {
    "duration": 666,
    "start_time": "2023-03-13T20:53:40.046Z"
   },
   {
    "duration": 5,
    "start_time": "2023-03-13T20:53:53.919Z"
   },
   {
    "duration": 422,
    "start_time": "2023-03-13T20:54:28.156Z"
   },
   {
    "duration": 50,
    "start_time": "2023-03-13T20:54:28.580Z"
   },
   {
    "duration": 23,
    "start_time": "2023-03-13T20:54:28.632Z"
   },
   {
    "duration": 13,
    "start_time": "2023-03-13T20:54:28.657Z"
   },
   {
    "duration": 42,
    "start_time": "2023-03-13T20:54:28.671Z"
   },
   {
    "duration": 3,
    "start_time": "2023-03-13T20:54:28.715Z"
   },
   {
    "duration": 1007,
    "start_time": "2023-03-13T20:54:28.719Z"
   },
   {
    "duration": 9,
    "start_time": "2023-03-13T20:54:29.728Z"
   },
   {
    "duration": 23,
    "start_time": "2023-03-13T20:54:29.738Z"
   },
   {
    "duration": 28,
    "start_time": "2023-03-13T20:54:29.763Z"
   },
   {
    "duration": 6,
    "start_time": "2023-03-13T20:54:29.792Z"
   },
   {
    "duration": 20,
    "start_time": "2023-03-13T20:54:29.799Z"
   },
   {
    "duration": 19,
    "start_time": "2023-03-13T20:54:29.821Z"
   },
   {
    "duration": 31,
    "start_time": "2023-03-13T20:54:29.842Z"
   },
   {
    "duration": 21,
    "start_time": "2023-03-13T20:54:29.875Z"
   },
   {
    "duration": 26,
    "start_time": "2023-03-13T20:54:29.897Z"
   },
   {
    "duration": 29,
    "start_time": "2023-03-13T20:54:29.925Z"
   },
   {
    "duration": 15,
    "start_time": "2023-03-13T20:54:35.540Z"
   },
   {
    "duration": 7,
    "start_time": "2023-03-13T20:55:45.769Z"
   },
   {
    "duration": 25,
    "start_time": "2023-03-13T20:55:48.099Z"
   },
   {
    "duration": 8,
    "start_time": "2023-03-13T21:03:11.509Z"
   },
   {
    "duration": 15,
    "start_time": "2023-03-13T21:03:13.844Z"
   },
   {
    "duration": 17,
    "start_time": "2023-03-13T21:03:25.597Z"
   },
   {
    "duration": 23,
    "start_time": "2023-03-13T21:06:24.514Z"
   },
   {
    "duration": 6,
    "start_time": "2023-03-13T21:07:16.015Z"
   },
   {
    "duration": 14,
    "start_time": "2023-03-13T21:07:49.169Z"
   },
   {
    "duration": 6,
    "start_time": "2023-03-13T21:08:44.191Z"
   },
   {
    "duration": 19,
    "start_time": "2023-03-13T21:08:49.676Z"
   },
   {
    "duration": 6,
    "start_time": "2023-03-13T21:09:35.601Z"
   },
   {
    "duration": 17,
    "start_time": "2023-03-13T21:09:39.608Z"
   },
   {
    "duration": 17,
    "start_time": "2023-03-13T21:10:19.790Z"
   },
   {
    "duration": 6,
    "start_time": "2023-03-13T21:11:04.858Z"
   },
   {
    "duration": 18,
    "start_time": "2023-03-13T21:11:15.658Z"
   },
   {
    "duration": 16,
    "start_time": "2023-03-13T21:11:35.894Z"
   },
   {
    "duration": 7,
    "start_time": "2023-03-13T21:12:04.128Z"
   },
   {
    "duration": 16,
    "start_time": "2023-03-13T21:12:10.994Z"
   },
   {
    "duration": 16,
    "start_time": "2023-03-13T21:12:37.114Z"
   },
   {
    "duration": 415,
    "start_time": "2023-03-13T21:13:07.346Z"
   },
   {
    "duration": 51,
    "start_time": "2023-03-13T21:13:07.763Z"
   },
   {
    "duration": 24,
    "start_time": "2023-03-13T21:13:07.816Z"
   },
   {
    "duration": 25,
    "start_time": "2023-03-13T21:13:07.842Z"
   },
   {
    "duration": 50,
    "start_time": "2023-03-13T21:13:07.869Z"
   },
   {
    "duration": 3,
    "start_time": "2023-03-13T21:13:07.920Z"
   },
   {
    "duration": 1013,
    "start_time": "2023-03-13T21:13:07.925Z"
   },
   {
    "duration": 10,
    "start_time": "2023-03-13T21:13:08.940Z"
   },
   {
    "duration": 35,
    "start_time": "2023-03-13T21:13:08.952Z"
   },
   {
    "duration": 15,
    "start_time": "2023-03-13T21:13:08.990Z"
   },
   {
    "duration": 7,
    "start_time": "2023-03-13T21:13:09.007Z"
   },
   {
    "duration": 16,
    "start_time": "2023-03-13T21:13:09.016Z"
   },
   {
    "duration": 9,
    "start_time": "2023-03-13T21:13:09.033Z"
   },
   {
    "duration": 41,
    "start_time": "2023-03-13T21:13:09.044Z"
   },
   {
    "duration": 6,
    "start_time": "2023-03-13T21:13:09.087Z"
   },
   {
    "duration": 31,
    "start_time": "2023-03-13T21:13:09.095Z"
   },
   {
    "duration": 20,
    "start_time": "2023-03-13T21:13:09.128Z"
   },
   {
    "duration": 21,
    "start_time": "2023-03-13T21:13:09.149Z"
   },
   {
    "duration": 17,
    "start_time": "2023-03-13T21:13:09.172Z"
   },
   {
    "duration": 15,
    "start_time": "2023-03-13T21:13:09.190Z"
   },
   {
    "duration": 7,
    "start_time": "2023-03-13T21:13:09.206Z"
   },
   {
    "duration": 17,
    "start_time": "2023-03-13T21:13:09.215Z"
   },
   {
    "duration": 6,
    "start_time": "2023-03-13T21:13:09.234Z"
   },
   {
    "duration": 39,
    "start_time": "2023-03-13T21:13:09.241Z"
   },
   {
    "duration": 17,
    "start_time": "2023-03-13T21:13:09.282Z"
   },
   {
    "duration": 51,
    "start_time": "2023-03-13T21:13:09.301Z"
   },
   {
    "duration": 9,
    "start_time": "2023-03-13T21:13:09.354Z"
   },
   {
    "duration": 9,
    "start_time": "2023-03-13T21:13:41.040Z"
   },
   {
    "duration": 32630,
    "start_time": "2023-03-13T21:22:05.763Z"
   },
   {
    "duration": 8,
    "start_time": "2023-03-13T21:22:38.395Z"
   },
   {
    "duration": 9,
    "start_time": "2023-03-13T21:22:54.197Z"
   },
   {
    "duration": 2,
    "start_time": "2023-03-13T21:24:17.993Z"
   },
   {
    "duration": 32412,
    "start_time": "2023-03-13T21:24:24.435Z"
   },
   {
    "duration": 23,
    "start_time": "2023-03-13T21:25:31.219Z"
   },
   {
    "duration": 23,
    "start_time": "2023-03-13T21:26:59.840Z"
   },
   {
    "duration": 49,
    "start_time": "2023-03-13T21:31:52.611Z"
   },
   {
    "duration": 48003,
    "start_time": "2023-03-13T21:32:52.790Z"
   },
   {
    "duration": 384,
    "start_time": "2023-03-13T21:35:36.497Z"
   },
   {
    "duration": 52,
    "start_time": "2023-03-13T21:35:36.883Z"
   },
   {
    "duration": 22,
    "start_time": "2023-03-13T21:35:36.936Z"
   },
   {
    "duration": 14,
    "start_time": "2023-03-13T21:35:36.960Z"
   },
   {
    "duration": 29,
    "start_time": "2023-03-13T21:35:36.976Z"
   },
   {
    "duration": 3,
    "start_time": "2023-03-13T21:35:37.007Z"
   },
   {
    "duration": 1008,
    "start_time": "2023-03-13T21:35:37.011Z"
   },
   {
    "duration": 9,
    "start_time": "2023-03-13T21:35:38.021Z"
   },
   {
    "duration": 19,
    "start_time": "2023-03-13T21:35:38.032Z"
   },
   {
    "duration": 32,
    "start_time": "2023-03-13T21:35:38.053Z"
   },
   {
    "duration": 9,
    "start_time": "2023-03-13T21:35:38.086Z"
   },
   {
    "duration": 17,
    "start_time": "2023-03-13T21:35:38.097Z"
   },
   {
    "duration": 5,
    "start_time": "2023-03-13T21:35:38.116Z"
   },
   {
    "duration": 13,
    "start_time": "2023-03-13T21:35:38.124Z"
   },
   {
    "duration": 6,
    "start_time": "2023-03-13T21:35:38.139Z"
   },
   {
    "duration": 38,
    "start_time": "2023-03-13T21:35:38.147Z"
   },
   {
    "duration": 7,
    "start_time": "2023-03-13T21:35:38.186Z"
   },
   {
    "duration": 23,
    "start_time": "2023-03-13T21:35:38.195Z"
   },
   {
    "duration": 7,
    "start_time": "2023-03-13T21:35:38.220Z"
   },
   {
    "duration": 15,
    "start_time": "2023-03-13T21:35:38.228Z"
   },
   {
    "duration": 9,
    "start_time": "2023-03-13T21:35:38.245Z"
   },
   {
    "duration": 33,
    "start_time": "2023-03-13T21:35:38.256Z"
   },
   {
    "duration": 10,
    "start_time": "2023-03-13T21:35:38.291Z"
   },
   {
    "duration": 23,
    "start_time": "2023-03-13T21:35:38.302Z"
   },
   {
    "duration": 7,
    "start_time": "2023-03-13T21:35:38.326Z"
   },
   {
    "duration": 17,
    "start_time": "2023-03-13T21:35:38.335Z"
   },
   {
    "duration": 7,
    "start_time": "2023-03-13T21:35:38.353Z"
   },
   {
    "duration": 15,
    "start_time": "2023-03-13T21:35:38.380Z"
   },
   {
    "duration": 46220,
    "start_time": "2023-03-13T21:36:24.129Z"
   },
   {
    "duration": 23,
    "start_time": "2023-03-13T21:37:10.351Z"
   },
   {
    "duration": 20240,
    "start_time": "2023-03-13T21:37:48.335Z"
   },
   {
    "duration": 46231,
    "start_time": "2023-03-13T21:38:14.393Z"
   },
   {
    "duration": 394,
    "start_time": "2023-03-14T04:18:11.546Z"
   },
   {
    "duration": 50,
    "start_time": "2023-03-14T04:18:11.942Z"
   },
   {
    "duration": 22,
    "start_time": "2023-03-14T04:18:11.994Z"
   },
   {
    "duration": 13,
    "start_time": "2023-03-14T04:18:12.018Z"
   },
   {
    "duration": 47,
    "start_time": "2023-03-14T04:18:12.033Z"
   },
   {
    "duration": 3,
    "start_time": "2023-03-14T04:18:12.082Z"
   },
   {
    "duration": 985,
    "start_time": "2023-03-14T04:18:12.087Z"
   },
   {
    "duration": 10,
    "start_time": "2023-03-14T04:18:13.074Z"
   },
   {
    "duration": 20,
    "start_time": "2023-03-14T04:18:13.085Z"
   },
   {
    "duration": 16,
    "start_time": "2023-03-14T04:18:13.106Z"
   },
   {
    "duration": 6,
    "start_time": "2023-03-14T04:18:13.124Z"
   },
   {
    "duration": 20,
    "start_time": "2023-03-14T04:18:13.132Z"
   },
   {
    "duration": 28,
    "start_time": "2023-03-14T04:18:13.154Z"
   },
   {
    "duration": 15,
    "start_time": "2023-03-14T04:18:13.185Z"
   },
   {
    "duration": 6,
    "start_time": "2023-03-14T04:18:13.202Z"
   },
   {
    "duration": 45098,
    "start_time": "2023-03-14T04:18:13.209Z"
   },
   {
    "duration": 15,
    "start_time": "2023-03-14T04:18:58.309Z"
   },
   {
    "duration": 8,
    "start_time": "2023-03-14T04:18:58.325Z"
   },
   {
    "duration": 9,
    "start_time": "2023-03-14T04:18:58.335Z"
   },
   {
    "duration": 5,
    "start_time": "2023-03-14T04:18:58.345Z"
   },
   {
    "duration": 16,
    "start_time": "2023-03-14T04:18:58.352Z"
   },
   {
    "duration": 6,
    "start_time": "2023-03-14T04:18:58.380Z"
   },
   {
    "duration": 7,
    "start_time": "2023-03-14T04:18:58.388Z"
   },
   {
    "duration": 6,
    "start_time": "2023-03-14T04:18:58.396Z"
   },
   {
    "duration": 6,
    "start_time": "2023-03-14T04:18:58.404Z"
   },
   {
    "duration": 7,
    "start_time": "2023-03-14T04:18:58.412Z"
   },
   {
    "duration": 6,
    "start_time": "2023-03-14T04:18:58.421Z"
   },
   {
    "duration": 9,
    "start_time": "2023-03-14T04:18:58.429Z"
   },
   {
    "duration": 11,
    "start_time": "2023-03-14T04:18:58.440Z"
   },
   {
    "duration": 34,
    "start_time": "2023-03-14T04:18:58.452Z"
   },
   {
    "duration": 19,
    "start_time": "2023-03-14T04:27:31.229Z"
   },
   {
    "duration": 394,
    "start_time": "2023-03-14T04:30:08.847Z"
   },
   {
    "duration": 49,
    "start_time": "2023-03-14T04:30:09.243Z"
   },
   {
    "duration": 22,
    "start_time": "2023-03-14T04:30:09.294Z"
   },
   {
    "duration": 13,
    "start_time": "2023-03-14T04:30:09.318Z"
   },
   {
    "duration": 28,
    "start_time": "2023-03-14T04:30:09.333Z"
   },
   {
    "duration": 3,
    "start_time": "2023-03-14T04:30:09.380Z"
   },
   {
    "duration": 967,
    "start_time": "2023-03-14T04:30:09.384Z"
   },
   {
    "duration": 9,
    "start_time": "2023-03-14T04:30:10.353Z"
   },
   {
    "duration": 36,
    "start_time": "2023-03-14T04:30:10.364Z"
   },
   {
    "duration": 14,
    "start_time": "2023-03-14T04:30:10.403Z"
   },
   {
    "duration": 7,
    "start_time": "2023-03-14T04:30:10.419Z"
   },
   {
    "duration": 21,
    "start_time": "2023-03-14T04:30:10.428Z"
   },
   {
    "duration": 14,
    "start_time": "2023-03-14T04:30:10.451Z"
   },
   {
    "duration": 16,
    "start_time": "2023-03-14T04:30:10.467Z"
   },
   {
    "duration": 9,
    "start_time": "2023-03-14T04:30:10.484Z"
   },
   {
    "duration": 43930,
    "start_time": "2023-03-14T04:30:10.495Z"
   },
   {
    "duration": 22,
    "start_time": "2023-03-14T04:30:54.427Z"
   },
   {
    "duration": 16,
    "start_time": "2023-03-14T04:30:54.451Z"
   },
   {
    "duration": 5,
    "start_time": "2023-03-14T04:30:54.481Z"
   },
   {
    "duration": 17,
    "start_time": "2023-03-14T04:30:54.488Z"
   },
   {
    "duration": 6,
    "start_time": "2023-03-14T04:30:54.507Z"
   },
   {
    "duration": 13,
    "start_time": "2023-03-14T04:30:54.514Z"
   },
   {
    "duration": 19,
    "start_time": "2023-03-14T05:43:28.944Z"
   },
   {
    "duration": 14,
    "start_time": "2023-03-14T05:46:10.498Z"
   },
   {
    "duration": 10,
    "start_time": "2023-03-14T05:47:52.520Z"
   },
   {
    "duration": 14,
    "start_time": "2023-03-14T05:55:09.780Z"
   },
   {
    "duration": 359,
    "start_time": "2023-03-14T05:56:50.134Z"
   },
   {
    "duration": 53,
    "start_time": "2023-03-14T05:56:50.495Z"
   },
   {
    "duration": 24,
    "start_time": "2023-03-14T05:56:50.550Z"
   },
   {
    "duration": 14,
    "start_time": "2023-03-14T05:56:50.576Z"
   },
   {
    "duration": 30,
    "start_time": "2023-03-14T05:56:50.593Z"
   },
   {
    "duration": 3,
    "start_time": "2023-03-14T05:56:50.624Z"
   },
   {
    "duration": 986,
    "start_time": "2023-03-14T05:56:50.629Z"
   },
   {
    "duration": 10,
    "start_time": "2023-03-14T05:56:51.617Z"
   },
   {
    "duration": 21,
    "start_time": "2023-03-14T05:56:51.628Z"
   },
   {
    "duration": 33,
    "start_time": "2023-03-14T05:56:51.650Z"
   },
   {
    "duration": 11,
    "start_time": "2023-03-14T05:56:51.685Z"
   },
   {
    "duration": 25,
    "start_time": "2023-03-14T05:56:51.698Z"
   },
   {
    "duration": 10,
    "start_time": "2023-03-14T05:56:51.724Z"
   },
   {
    "duration": 16,
    "start_time": "2023-03-14T05:56:51.737Z"
   },
   {
    "duration": 11,
    "start_time": "2023-03-14T05:56:51.755Z"
   },
   {
    "duration": 44733,
    "start_time": "2023-03-14T05:56:51.769Z"
   },
   {
    "duration": 18,
    "start_time": "2023-03-14T05:57:36.504Z"
   },
   {
    "duration": 13,
    "start_time": "2023-03-14T05:57:36.524Z"
   },
   {
    "duration": 6,
    "start_time": "2023-03-14T05:57:36.539Z"
   },
   {
    "duration": 17,
    "start_time": "2023-03-14T05:57:36.547Z"
   },
   {
    "duration": 20,
    "start_time": "2023-03-14T05:57:36.565Z"
   },
   {
    "duration": 15,
    "start_time": "2023-03-14T05:57:36.587Z"
   },
   {
    "duration": 10,
    "start_time": "2023-03-14T05:57:36.604Z"
   },
   {
    "duration": 12,
    "start_time": "2023-03-14T05:57:36.615Z"
   },
   {
    "duration": 7,
    "start_time": "2023-03-14T05:57:36.628Z"
   },
   {
    "duration": 13,
    "start_time": "2023-03-14T05:57:36.636Z"
   },
   {
    "duration": 396,
    "start_time": "2023-03-14T06:02:28.295Z"
   },
   {
    "duration": 53,
    "start_time": "2023-03-14T06:02:28.693Z"
   },
   {
    "duration": 23,
    "start_time": "2023-03-14T06:02:28.747Z"
   },
   {
    "duration": 15,
    "start_time": "2023-03-14T06:02:28.772Z"
   },
   {
    "duration": 31,
    "start_time": "2023-03-14T06:02:28.790Z"
   },
   {
    "duration": 4,
    "start_time": "2023-03-14T06:02:28.822Z"
   },
   {
    "duration": 1035,
    "start_time": "2023-03-14T06:02:28.828Z"
   },
   {
    "duration": 19,
    "start_time": "2023-03-14T06:02:29.865Z"
   },
   {
    "duration": 22,
    "start_time": "2023-03-14T06:02:29.886Z"
   },
   {
    "duration": 18,
    "start_time": "2023-03-14T06:02:29.910Z"
   },
   {
    "duration": 27,
    "start_time": "2023-03-14T06:02:29.930Z"
   },
   {
    "duration": 17,
    "start_time": "2023-03-14T06:02:29.958Z"
   },
   {
    "duration": 23,
    "start_time": "2023-03-14T06:02:29.976Z"
   },
   {
    "duration": 22,
    "start_time": "2023-03-14T06:02:30.002Z"
   },
   {
    "duration": 45374,
    "start_time": "2023-03-14T06:02:30.026Z"
   },
   {
    "duration": 22,
    "start_time": "2023-03-14T06:03:15.402Z"
   },
   {
    "duration": 15,
    "start_time": "2023-03-14T06:03:15.426Z"
   },
   {
    "duration": 12,
    "start_time": "2023-03-14T06:03:15.442Z"
   },
   {
    "duration": 31,
    "start_time": "2023-03-14T06:03:15.455Z"
   },
   {
    "duration": 11,
    "start_time": "2023-03-14T06:03:15.488Z"
   },
   {
    "duration": 17,
    "start_time": "2023-03-14T06:03:15.501Z"
   },
   {
    "duration": 21,
    "start_time": "2023-03-14T06:03:15.520Z"
   },
   {
    "duration": 9,
    "start_time": "2023-03-14T06:03:15.543Z"
   },
   {
    "duration": 426,
    "start_time": "2023-03-14T06:10:12.856Z"
   },
   {
    "duration": 52,
    "start_time": "2023-03-14T06:10:13.284Z"
   },
   {
    "duration": 23,
    "start_time": "2023-03-14T06:10:13.337Z"
   },
   {
    "duration": 13,
    "start_time": "2023-03-14T06:10:13.362Z"
   },
   {
    "duration": 29,
    "start_time": "2023-03-14T06:10:13.376Z"
   },
   {
    "duration": 3,
    "start_time": "2023-03-14T06:10:13.406Z"
   },
   {
    "duration": 988,
    "start_time": "2023-03-14T06:10:13.410Z"
   },
   {
    "duration": 8,
    "start_time": "2023-03-14T06:10:14.400Z"
   },
   {
    "duration": 21,
    "start_time": "2023-03-14T06:10:14.410Z"
   },
   {
    "duration": 15,
    "start_time": "2023-03-14T06:10:14.433Z"
   },
   {
    "duration": 39,
    "start_time": "2023-03-14T06:10:14.450Z"
   },
   {
    "duration": 6,
    "start_time": "2023-03-14T06:10:14.491Z"
   },
   {
    "duration": 17,
    "start_time": "2023-03-14T06:10:14.499Z"
   },
   {
    "duration": 7,
    "start_time": "2023-03-14T06:10:14.518Z"
   },
   {
    "duration": 44712,
    "start_time": "2023-03-14T06:10:14.526Z"
   },
   {
    "duration": 22,
    "start_time": "2023-03-14T06:10:59.239Z"
   },
   {
    "duration": 8,
    "start_time": "2023-03-14T06:10:59.262Z"
   },
   {
    "duration": 5,
    "start_time": "2023-03-14T06:10:59.280Z"
   },
   {
    "duration": 9,
    "start_time": "2023-03-14T06:10:59.287Z"
   },
   {
    "duration": 9,
    "start_time": "2023-03-14T06:10:59.298Z"
   },
   {
    "duration": 6,
    "start_time": "2023-03-14T06:10:59.309Z"
   },
   {
    "duration": 7,
    "start_time": "2023-03-14T06:10:59.316Z"
   },
   {
    "duration": 11,
    "start_time": "2023-03-14T06:10:59.324Z"
   },
   {
    "duration": 7,
    "start_time": "2023-03-14T06:10:59.336Z"
   },
   {
    "duration": 37,
    "start_time": "2023-03-14T06:10:59.344Z"
   },
   {
    "duration": 379,
    "start_time": "2023-03-14T06:18:10.700Z"
   },
   {
    "duration": 52,
    "start_time": "2023-03-14T06:18:11.081Z"
   },
   {
    "duration": 23,
    "start_time": "2023-03-14T06:18:11.135Z"
   },
   {
    "duration": 14,
    "start_time": "2023-03-14T06:18:11.160Z"
   },
   {
    "duration": 30,
    "start_time": "2023-03-14T06:18:11.175Z"
   },
   {
    "duration": 3,
    "start_time": "2023-03-14T06:18:11.208Z"
   },
   {
    "duration": 969,
    "start_time": "2023-03-14T06:18:11.213Z"
   },
   {
    "duration": 8,
    "start_time": "2023-03-14T06:18:12.184Z"
   },
   {
    "duration": 33,
    "start_time": "2023-03-14T06:18:12.194Z"
   },
   {
    "duration": 19,
    "start_time": "2023-03-14T06:18:12.229Z"
   },
   {
    "duration": 22,
    "start_time": "2023-03-14T06:18:12.250Z"
   },
   {
    "duration": 10,
    "start_time": "2023-03-14T06:18:12.273Z"
   },
   {
    "duration": 25,
    "start_time": "2023-03-14T06:18:12.285Z"
   },
   {
    "duration": 9,
    "start_time": "2023-03-14T06:18:12.312Z"
   },
   {
    "duration": 44405,
    "start_time": "2023-03-14T06:18:12.322Z"
   },
   {
    "duration": 21,
    "start_time": "2023-03-14T06:18:56.729Z"
   },
   {
    "duration": 5,
    "start_time": "2023-03-14T06:18:56.752Z"
   },
   {
    "duration": 10,
    "start_time": "2023-03-14T06:18:56.758Z"
   },
   {
    "duration": 15,
    "start_time": "2023-03-14T06:18:56.769Z"
   },
   {
    "duration": 7,
    "start_time": "2023-03-14T06:18:56.785Z"
   },
   {
    "duration": 6,
    "start_time": "2023-03-14T06:18:56.794Z"
   },
   {
    "duration": 7,
    "start_time": "2023-03-14T06:18:56.801Z"
   },
   {
    "duration": 18,
    "start_time": "2023-03-14T06:18:56.809Z"
   },
   {
    "duration": 8,
    "start_time": "2023-03-14T06:18:56.829Z"
   },
   {
    "duration": 6,
    "start_time": "2023-03-14T06:18:56.838Z"
   },
   {
    "duration": 43,
    "start_time": "2023-03-14T06:18:56.846Z"
   },
   {
    "duration": 53,
    "start_time": "2023-03-14T17:09:09.724Z"
   },
   {
    "duration": 409,
    "start_time": "2023-03-14T17:09:23.475Z"
   },
   {
    "duration": 203,
    "start_time": "2023-03-14T17:09:23.886Z"
   },
   {
    "duration": 28,
    "start_time": "2023-03-14T17:09:24.091Z"
   },
   {
    "duration": 21,
    "start_time": "2023-03-14T17:09:24.121Z"
   },
   {
    "duration": 54,
    "start_time": "2023-03-14T17:09:24.144Z"
   },
   {
    "duration": 4,
    "start_time": "2023-03-14T17:09:24.199Z"
   },
   {
    "duration": 1249,
    "start_time": "2023-03-14T17:09:24.204Z"
   },
   {
    "duration": 13,
    "start_time": "2023-03-14T17:09:25.455Z"
   },
   {
    "duration": 20,
    "start_time": "2023-03-14T17:09:25.469Z"
   },
   {
    "duration": 91,
    "start_time": "2023-03-14T17:09:25.491Z"
   },
   {
    "duration": 16,
    "start_time": "2023-03-14T17:09:25.584Z"
   },
   {
    "duration": 17,
    "start_time": "2023-03-14T17:09:25.603Z"
   },
   {
    "duration": 10,
    "start_time": "2023-03-14T17:09:25.621Z"
   },
   {
    "duration": 17,
    "start_time": "2023-03-14T17:09:25.653Z"
   },
   {
    "duration": 5,
    "start_time": "2023-03-14T17:09:25.671Z"
   },
   {
    "duration": 50115,
    "start_time": "2023-03-14T17:09:25.678Z"
   },
   {
    "duration": 23,
    "start_time": "2023-03-14T17:10:15.795Z"
   },
   {
    "duration": 7,
    "start_time": "2023-03-14T17:10:15.819Z"
   },
   {
    "duration": 34,
    "start_time": "2023-03-14T17:10:15.827Z"
   },
   {
    "duration": 9,
    "start_time": "2023-03-14T17:10:15.863Z"
   },
   {
    "duration": 11,
    "start_time": "2023-03-14T17:10:15.875Z"
   },
   {
    "duration": 9,
    "start_time": "2023-03-14T17:10:15.887Z"
   },
   {
    "duration": 6,
    "start_time": "2023-03-14T17:10:15.898Z"
   },
   {
    "duration": 23,
    "start_time": "2023-03-14T17:10:15.906Z"
   },
   {
    "duration": 9,
    "start_time": "2023-03-14T17:10:15.931Z"
   },
   {
    "duration": 15,
    "start_time": "2023-03-14T17:10:15.942Z"
   },
   {
    "duration": 40,
    "start_time": "2023-03-14T17:10:15.959Z"
   },
   {
    "duration": 26,
    "start_time": "2023-03-14T17:11:26.199Z"
   },
   {
    "duration": 12,
    "start_time": "2023-03-14T17:12:36.350Z"
   },
   {
    "duration": 10,
    "start_time": "2023-03-14T17:12:51.726Z"
   },
   {
    "duration": 24,
    "start_time": "2023-03-14T17:14:24.413Z"
   },
   {
    "duration": 15,
    "start_time": "2023-03-14T17:15:32.292Z"
   },
   {
    "duration": 12,
    "start_time": "2023-03-14T17:15:57.108Z"
   },
   {
    "duration": 14,
    "start_time": "2023-03-14T17:16:02.933Z"
   },
   {
    "duration": 14,
    "start_time": "2023-03-14T17:17:22.827Z"
   },
   {
    "duration": 7,
    "start_time": "2023-03-14T17:20:35.468Z"
   },
   {
    "duration": 8,
    "start_time": "2023-03-14T17:21:09.290Z"
   },
   {
    "duration": 4,
    "start_time": "2023-03-14T17:25:51.292Z"
   },
   {
    "duration": 15,
    "start_time": "2023-03-14T17:25:59.348Z"
   },
   {
    "duration": 15,
    "start_time": "2023-03-14T17:26:52.226Z"
   },
   {
    "duration": 23,
    "start_time": "2023-03-14T17:27:55.824Z"
   },
   {
    "duration": 22,
    "start_time": "2023-03-14T17:28:25.335Z"
   },
   {
    "duration": 7,
    "start_time": "2023-03-14T17:29:36.462Z"
   },
   {
    "duration": 8,
    "start_time": "2023-03-14T17:30:21.491Z"
   },
   {
    "duration": 7,
    "start_time": "2023-03-14T17:30:44.154Z"
   },
   {
    "duration": 9,
    "start_time": "2023-03-14T17:31:48.109Z"
   },
   {
    "duration": 7,
    "start_time": "2023-03-14T17:32:05.924Z"
   },
   {
    "duration": 9,
    "start_time": "2023-03-14T17:32:56.338Z"
   },
   {
    "duration": 8,
    "start_time": "2023-03-14T17:34:47.993Z"
   },
   {
    "duration": 8,
    "start_time": "2023-03-14T17:35:02.911Z"
   },
   {
    "duration": 8,
    "start_time": "2023-03-14T17:36:12.395Z"
   },
   {
    "duration": 8,
    "start_time": "2023-03-14T17:36:19.918Z"
   },
   {
    "duration": 9,
    "start_time": "2023-03-14T17:37:28.039Z"
   },
   {
    "duration": 9,
    "start_time": "2023-03-14T17:38:23.294Z"
   },
   {
    "duration": 25,
    "start_time": "2023-03-14T17:48:37.066Z"
   },
   {
    "duration": 93,
    "start_time": "2023-03-14T17:49:57.326Z"
   },
   {
    "duration": 23,
    "start_time": "2023-03-14T17:50:10.657Z"
   },
   {
    "duration": 14,
    "start_time": "2023-03-14T17:51:41.959Z"
   },
   {
    "duration": 25,
    "start_time": "2023-03-14T17:52:22.408Z"
   },
   {
    "duration": 23,
    "start_time": "2023-03-14T18:04:41.249Z"
   },
   {
    "duration": 6,
    "start_time": "2023-03-14T18:08:31.710Z"
   },
   {
    "duration": 8,
    "start_time": "2023-03-14T18:11:57.619Z"
   },
   {
    "duration": 7,
    "start_time": "2023-03-14T18:12:19.090Z"
   },
   {
    "duration": 28,
    "start_time": "2023-03-14T18:14:30.229Z"
   },
   {
    "duration": 24,
    "start_time": "2023-03-14T18:16:34.052Z"
   },
   {
    "duration": 18,
    "start_time": "2023-03-14T18:16:53.099Z"
   },
   {
    "duration": 18,
    "start_time": "2023-03-14T18:16:59.461Z"
   },
   {
    "duration": 7,
    "start_time": "2023-03-14T18:19:09.067Z"
   },
   {
    "duration": 20,
    "start_time": "2023-03-14T18:19:28.142Z"
   },
   {
    "duration": 17,
    "start_time": "2023-03-14T18:19:32.124Z"
   },
   {
    "duration": 9,
    "start_time": "2023-03-14T18:21:17.520Z"
   },
   {
    "duration": 17,
    "start_time": "2023-03-14T18:38:38.717Z"
   },
   {
    "duration": 23,
    "start_time": "2023-03-14T18:39:02.404Z"
   },
   {
    "duration": 10,
    "start_time": "2023-03-14T18:50:08.591Z"
   },
   {
    "duration": 7,
    "start_time": "2023-03-14T18:53:01.134Z"
   },
   {
    "duration": 5,
    "start_time": "2023-03-14T19:05:22.572Z"
   },
   {
    "duration": 12,
    "start_time": "2023-03-14T19:05:28.059Z"
   },
   {
    "duration": 13,
    "start_time": "2023-03-14T19:05:46.130Z"
   },
   {
    "duration": 4,
    "start_time": "2023-03-14T19:49:18.605Z"
   },
   {
    "duration": 10,
    "start_time": "2023-03-14T19:49:25.031Z"
   },
   {
    "duration": 14,
    "start_time": "2023-03-14T19:49:30.687Z"
   },
   {
    "duration": 5,
    "start_time": "2023-03-14T19:49:51.615Z"
   },
   {
    "duration": 16,
    "start_time": "2023-03-14T19:49:57.110Z"
   },
   {
    "duration": 19,
    "start_time": "2023-03-14T19:50:33.326Z"
   },
   {
    "duration": 7,
    "start_time": "2023-03-14T19:52:46.867Z"
   },
   {
    "duration": 6,
    "start_time": "2023-03-14T19:57:19.878Z"
   },
   {
    "duration": 8,
    "start_time": "2023-03-14T19:58:14.719Z"
   },
   {
    "duration": 6,
    "start_time": "2023-03-15T04:36:06.659Z"
   },
   {
    "duration": 4,
    "start_time": "2023-03-15T04:40:40.870Z"
   },
   {
    "duration": 478,
    "start_time": "2023-03-15T12:08:21.648Z"
   },
   {
    "duration": 105,
    "start_time": "2023-03-15T12:08:22.128Z"
   },
   {
    "duration": 29,
    "start_time": "2023-03-15T12:08:22.235Z"
   },
   {
    "duration": 17,
    "start_time": "2023-03-15T12:08:22.267Z"
   },
   {
    "duration": 31,
    "start_time": "2023-03-15T12:08:22.286Z"
   },
   {
    "duration": 4,
    "start_time": "2023-03-15T12:08:22.319Z"
   },
   {
    "duration": 1409,
    "start_time": "2023-03-15T12:08:22.324Z"
   },
   {
    "duration": 11,
    "start_time": "2023-03-15T12:08:23.735Z"
   },
   {
    "duration": 32,
    "start_time": "2023-03-15T12:08:23.749Z"
   },
   {
    "duration": 8,
    "start_time": "2023-03-15T12:08:23.785Z"
   },
   {
    "duration": 189,
    "start_time": "2023-03-15T12:08:23.795Z"
   },
   {
    "duration": 0,
    "start_time": "2023-03-15T12:08:23.986Z"
   },
   {
    "duration": 0,
    "start_time": "2023-03-15T12:08:23.988Z"
   },
   {
    "duration": 0,
    "start_time": "2023-03-15T12:08:23.989Z"
   },
   {
    "duration": 0,
    "start_time": "2023-03-15T12:08:23.990Z"
   },
   {
    "duration": 0,
    "start_time": "2023-03-15T12:08:23.992Z"
   },
   {
    "duration": 0,
    "start_time": "2023-03-15T12:08:23.993Z"
   },
   {
    "duration": 0,
    "start_time": "2023-03-15T12:08:23.994Z"
   },
   {
    "duration": 0,
    "start_time": "2023-03-15T12:08:23.996Z"
   },
   {
    "duration": 0,
    "start_time": "2023-03-15T12:08:23.997Z"
   },
   {
    "duration": 0,
    "start_time": "2023-03-15T12:08:23.998Z"
   },
   {
    "duration": 1,
    "start_time": "2023-03-15T12:08:23.999Z"
   },
   {
    "duration": 0,
    "start_time": "2023-03-15T12:08:24.001Z"
   },
   {
    "duration": 0,
    "start_time": "2023-03-15T12:08:24.002Z"
   },
   {
    "duration": 0,
    "start_time": "2023-03-15T12:08:24.003Z"
   },
   {
    "duration": 0,
    "start_time": "2023-03-15T12:08:24.004Z"
   },
   {
    "duration": 0,
    "start_time": "2023-03-15T12:08:24.006Z"
   },
   {
    "duration": 0,
    "start_time": "2023-03-15T12:08:24.007Z"
   },
   {
    "duration": 0,
    "start_time": "2023-03-15T12:08:24.008Z"
   },
   {
    "duration": 0,
    "start_time": "2023-03-15T12:08:24.009Z"
   },
   {
    "duration": 0,
    "start_time": "2023-03-15T12:08:24.010Z"
   },
   {
    "duration": 0,
    "start_time": "2023-03-15T12:08:24.011Z"
   },
   {
    "duration": 0,
    "start_time": "2023-03-15T12:08:24.013Z"
   },
   {
    "duration": 0,
    "start_time": "2023-03-15T12:08:24.014Z"
   },
   {
    "duration": 0,
    "start_time": "2023-03-15T12:08:24.015Z"
   },
   {
    "duration": 0,
    "start_time": "2023-03-15T12:08:24.016Z"
   },
   {
    "duration": 0,
    "start_time": "2023-03-15T12:08:24.017Z"
   },
   {
    "duration": 0,
    "start_time": "2023-03-15T12:08:24.018Z"
   },
   {
    "duration": 0,
    "start_time": "2023-03-15T12:08:24.019Z"
   },
   {
    "duration": 0,
    "start_time": "2023-03-15T12:08:24.020Z"
   },
   {
    "duration": 0,
    "start_time": "2023-03-15T12:08:24.021Z"
   },
   {
    "duration": 0,
    "start_time": "2023-03-15T12:08:24.022Z"
   },
   {
    "duration": 439,
    "start_time": "2023-03-15T12:11:10.372Z"
   },
   {
    "duration": 52,
    "start_time": "2023-03-15T12:11:10.814Z"
   },
   {
    "duration": 34,
    "start_time": "2023-03-15T12:11:10.868Z"
   },
   {
    "duration": 28,
    "start_time": "2023-03-15T12:11:10.904Z"
   },
   {
    "duration": 48,
    "start_time": "2023-03-15T12:11:10.935Z"
   },
   {
    "duration": 4,
    "start_time": "2023-03-15T12:11:10.985Z"
   },
   {
    "duration": 1082,
    "start_time": "2023-03-15T12:11:10.990Z"
   },
   {
    "duration": 11,
    "start_time": "2023-03-15T12:11:12.077Z"
   },
   {
    "duration": 26,
    "start_time": "2023-03-15T12:11:12.089Z"
   },
   {
    "duration": 11,
    "start_time": "2023-03-15T12:11:12.117Z"
   },
   {
    "duration": 27,
    "start_time": "2023-03-15T12:11:12.130Z"
   },
   {
    "duration": 31,
    "start_time": "2023-03-15T12:11:12.159Z"
   },
   {
    "duration": 23,
    "start_time": "2023-03-15T12:11:12.191Z"
   },
   {
    "duration": 16,
    "start_time": "2023-03-15T12:11:12.217Z"
   },
   {
    "duration": 29,
    "start_time": "2023-03-15T12:11:12.234Z"
   },
   {
    "duration": 12,
    "start_time": "2023-03-15T12:11:12.265Z"
   },
   {
    "duration": 50898,
    "start_time": "2023-03-15T12:11:12.279Z"
   },
   {
    "duration": 22,
    "start_time": "2023-03-15T12:12:03.179Z"
   },
   {
    "duration": 5,
    "start_time": "2023-03-15T12:12:03.203Z"
   },
   {
    "duration": 8,
    "start_time": "2023-03-15T12:12:03.210Z"
   },
   {
    "duration": 8,
    "start_time": "2023-03-15T12:12:03.220Z"
   },
   {
    "duration": 7,
    "start_time": "2023-03-15T12:12:03.230Z"
   },
   {
    "duration": 15,
    "start_time": "2023-03-15T12:12:03.239Z"
   },
   {
    "duration": 29,
    "start_time": "2023-03-15T12:12:03.256Z"
   },
   {
    "duration": 20,
    "start_time": "2023-03-15T12:12:03.287Z"
   },
   {
    "duration": 11,
    "start_time": "2023-03-15T12:12:03.308Z"
   },
   {
    "duration": 9,
    "start_time": "2023-03-15T12:12:03.320Z"
   },
   {
    "duration": 17,
    "start_time": "2023-03-15T12:12:03.331Z"
   },
   {
    "duration": 22,
    "start_time": "2023-03-15T12:12:03.350Z"
   },
   {
    "duration": 25,
    "start_time": "2023-03-15T12:12:03.378Z"
   },
   {
    "duration": 6,
    "start_time": "2023-03-15T12:12:03.405Z"
   },
   {
    "duration": 29,
    "start_time": "2023-03-15T12:12:03.413Z"
   },
   {
    "duration": 8,
    "start_time": "2023-03-15T12:12:03.444Z"
   },
   {
    "duration": 9,
    "start_time": "2023-03-15T12:12:03.476Z"
   },
   {
    "duration": 30,
    "start_time": "2023-03-15T12:12:03.486Z"
   },
   {
    "duration": 101,
    "start_time": "2023-03-15T12:12:03.518Z"
   },
   {
    "duration": 0,
    "start_time": "2023-03-15T12:12:03.621Z"
   },
   {
    "duration": 0,
    "start_time": "2023-03-15T12:12:03.623Z"
   },
   {
    "duration": 0,
    "start_time": "2023-03-15T12:12:03.624Z"
   },
   {
    "duration": 0,
    "start_time": "2023-03-15T12:12:03.626Z"
   },
   {
    "duration": 0,
    "start_time": "2023-03-15T12:12:03.627Z"
   },
   {
    "duration": 0,
    "start_time": "2023-03-15T12:12:03.629Z"
   },
   {
    "duration": 3,
    "start_time": "2023-03-15T12:13:19.342Z"
   },
   {
    "duration": 7,
    "start_time": "2023-03-15T12:15:00.807Z"
   },
   {
    "duration": 6,
    "start_time": "2023-03-15T12:15:02.786Z"
   },
   {
    "duration": 20,
    "start_time": "2023-03-15T12:15:04.010Z"
   },
   {
    "duration": 8,
    "start_time": "2023-03-15T12:15:05.615Z"
   },
   {
    "duration": 13,
    "start_time": "2023-03-15T12:15:06.252Z"
   },
   {
    "duration": 7,
    "start_time": "2023-03-15T12:15:08.152Z"
   },
   {
    "duration": 5,
    "start_time": "2023-03-15T12:15:09.625Z"
   },
   {
    "duration": 7,
    "start_time": "2023-03-15T12:15:19.908Z"
   },
   {
    "duration": 484,
    "start_time": "2023-03-15T12:16:20.381Z"
   },
   {
    "duration": 52,
    "start_time": "2023-03-15T12:16:20.867Z"
   },
   {
    "duration": 26,
    "start_time": "2023-03-15T12:16:20.921Z"
   },
   {
    "duration": 15,
    "start_time": "2023-03-15T12:16:20.949Z"
   },
   {
    "duration": 47,
    "start_time": "2023-03-15T12:16:20.967Z"
   },
   {
    "duration": 4,
    "start_time": "2023-03-15T12:16:21.016Z"
   },
   {
    "duration": 1155,
    "start_time": "2023-03-15T12:16:21.022Z"
   },
   {
    "duration": 11,
    "start_time": "2023-03-15T12:16:22.179Z"
   },
   {
    "duration": 25,
    "start_time": "2023-03-15T12:16:22.192Z"
   },
   {
    "duration": 9,
    "start_time": "2023-03-15T12:16:22.219Z"
   },
   {
    "duration": 49,
    "start_time": "2023-03-15T12:16:22.230Z"
   },
   {
    "duration": 17,
    "start_time": "2023-03-15T12:16:22.281Z"
   },
   {
    "duration": 30,
    "start_time": "2023-03-15T12:16:22.300Z"
   },
   {
    "duration": 11,
    "start_time": "2023-03-15T12:16:22.334Z"
   },
   {
    "duration": 18,
    "start_time": "2023-03-15T12:16:22.347Z"
   },
   {
    "duration": 7,
    "start_time": "2023-03-15T12:16:22.367Z"
   },
   {
    "duration": 53059,
    "start_time": "2023-03-15T12:16:22.376Z"
   },
   {
    "duration": 24,
    "start_time": "2023-03-15T12:17:15.437Z"
   },
   {
    "duration": 19,
    "start_time": "2023-03-15T12:17:15.463Z"
   },
   {
    "duration": 19,
    "start_time": "2023-03-15T12:17:15.483Z"
   },
   {
    "duration": 19,
    "start_time": "2023-03-15T12:17:15.504Z"
   },
   {
    "duration": 22,
    "start_time": "2023-03-15T12:17:15.525Z"
   },
   {
    "duration": 17,
    "start_time": "2023-03-15T12:17:15.549Z"
   },
   {
    "duration": 32,
    "start_time": "2023-03-15T12:17:15.568Z"
   },
   {
    "duration": 21,
    "start_time": "2023-03-15T12:17:15.603Z"
   },
   {
    "duration": 8,
    "start_time": "2023-03-15T12:17:15.626Z"
   },
   {
    "duration": 14,
    "start_time": "2023-03-15T12:17:15.636Z"
   },
   {
    "duration": 10,
    "start_time": "2023-03-15T12:17:15.651Z"
   },
   {
    "duration": 19,
    "start_time": "2023-03-15T12:17:15.662Z"
   },
   {
    "duration": 19,
    "start_time": "2023-03-15T12:17:15.683Z"
   },
   {
    "duration": 6,
    "start_time": "2023-03-15T12:17:15.704Z"
   },
   {
    "duration": 25,
    "start_time": "2023-03-15T12:17:15.712Z"
   },
   {
    "duration": 6,
    "start_time": "2023-03-15T12:17:15.739Z"
   },
   {
    "duration": 36,
    "start_time": "2023-03-15T12:17:15.747Z"
   },
   {
    "duration": 10,
    "start_time": "2023-03-15T12:17:15.785Z"
   },
   {
    "duration": 30,
    "start_time": "2023-03-15T12:17:15.797Z"
   },
   {
    "duration": 5,
    "start_time": "2023-03-15T12:17:15.829Z"
   },
   {
    "duration": 13,
    "start_time": "2023-03-15T12:17:15.836Z"
   },
   {
    "duration": 38,
    "start_time": "2023-03-15T12:17:15.851Z"
   },
   {
    "duration": 7,
    "start_time": "2023-03-15T12:17:15.891Z"
   },
   {
    "duration": 13,
    "start_time": "2023-03-15T12:17:15.901Z"
   },
   {
    "duration": 10,
    "start_time": "2023-03-15T12:17:15.916Z"
   },
   {
    "duration": 15,
    "start_time": "2023-03-15T12:17:15.928Z"
   },
   {
    "duration": 24,
    "start_time": "2023-03-15T12:40:55.291Z"
   },
   {
    "duration": 95,
    "start_time": "2023-03-15T12:53:27.811Z"
   },
   {
    "duration": 5,
    "start_time": "2023-03-15T12:53:53.457Z"
   },
   {
    "duration": 7,
    "start_time": "2023-03-15T12:54:14.304Z"
   },
   {
    "duration": 25,
    "start_time": "2023-03-15T12:54:59.807Z"
   },
   {
    "duration": 9,
    "start_time": "2023-03-15T12:56:28.785Z"
   },
   {
    "duration": 17,
    "start_time": "2023-03-15T12:58:03.526Z"
   },
   {
    "duration": 16,
    "start_time": "2023-03-15T12:59:18.729Z"
   },
   {
    "duration": 7,
    "start_time": "2023-03-15T13:00:19.807Z"
   },
   {
    "duration": 34,
    "start_time": "2023-03-15T13:05:19.194Z"
   },
   {
    "duration": 26,
    "start_time": "2023-03-15T13:05:54.809Z"
   },
   {
    "duration": 24,
    "start_time": "2023-03-15T13:06:57.949Z"
   },
   {
    "duration": 23,
    "start_time": "2023-03-15T13:07:37.983Z"
   },
   {
    "duration": 242,
    "start_time": "2023-03-15T14:33:05.427Z"
   },
   {
    "duration": 208,
    "start_time": "2023-03-15T14:33:29.903Z"
   },
   {
    "duration": 195,
    "start_time": "2023-03-15T14:33:38.350Z"
   },
   {
    "duration": 211,
    "start_time": "2023-03-15T14:34:20.740Z"
   },
   {
    "duration": 51,
    "start_time": "2023-03-15T19:23:07.923Z"
   },
   {
    "duration": 374,
    "start_time": "2023-03-15T19:23:17.642Z"
   },
   {
    "duration": 198,
    "start_time": "2023-03-15T19:23:18.018Z"
   },
   {
    "duration": 24,
    "start_time": "2023-03-15T19:23:18.218Z"
   },
   {
    "duration": 16,
    "start_time": "2023-03-15T19:23:18.244Z"
   },
   {
    "duration": 37,
    "start_time": "2023-03-15T19:23:18.262Z"
   },
   {
    "duration": 23,
    "start_time": "2023-03-15T19:23:18.301Z"
   },
   {
    "duration": 1173,
    "start_time": "2023-03-15T19:23:18.325Z"
   },
   {
    "duration": 21,
    "start_time": "2023-03-15T19:23:19.501Z"
   },
   {
    "duration": 20,
    "start_time": "2023-03-15T19:23:19.524Z"
   },
   {
    "duration": 9,
    "start_time": "2023-03-15T19:23:19.548Z"
   },
   {
    "duration": 112,
    "start_time": "2023-03-15T19:23:19.559Z"
   },
   {
    "duration": 18,
    "start_time": "2023-03-15T19:23:19.673Z"
   },
   {
    "duration": 32,
    "start_time": "2023-03-15T19:23:19.693Z"
   },
   {
    "duration": 20,
    "start_time": "2023-03-15T19:23:19.727Z"
   },
   {
    "duration": 28,
    "start_time": "2023-03-15T19:23:19.748Z"
   },
   {
    "duration": 27,
    "start_time": "2023-03-15T19:23:19.778Z"
   },
   {
    "duration": 411,
    "start_time": "2023-03-15T19:29:39.626Z"
   },
   {
    "duration": 54,
    "start_time": "2023-03-15T19:29:40.039Z"
   },
   {
    "duration": 23,
    "start_time": "2023-03-15T19:29:40.094Z"
   },
   {
    "duration": 14,
    "start_time": "2023-03-15T19:29:40.119Z"
   },
   {
    "duration": 30,
    "start_time": "2023-03-15T19:29:40.135Z"
   },
   {
    "duration": 3,
    "start_time": "2023-03-15T19:29:40.166Z"
   },
   {
    "duration": 1069,
    "start_time": "2023-03-15T19:29:40.171Z"
   },
   {
    "duration": 9,
    "start_time": "2023-03-15T19:29:41.242Z"
   },
   {
    "duration": 15,
    "start_time": "2023-03-15T19:29:41.252Z"
   },
   {
    "duration": 7,
    "start_time": "2023-03-15T19:29:41.268Z"
   },
   {
    "duration": 19,
    "start_time": "2023-03-15T19:29:41.277Z"
   },
   {
    "duration": 35,
    "start_time": "2023-03-15T19:29:41.298Z"
   },
   {
    "duration": 15,
    "start_time": "2023-03-15T19:29:41.334Z"
   },
   {
    "duration": 5,
    "start_time": "2023-03-15T19:29:41.353Z"
   },
   {
    "duration": 13,
    "start_time": "2023-03-15T19:29:41.360Z"
   },
   {
    "duration": 4,
    "start_time": "2023-03-15T19:29:41.375Z"
   },
   {
    "duration": 45151,
    "start_time": "2023-03-15T19:29:41.381Z"
   },
   {
    "duration": 22,
    "start_time": "2023-03-15T19:30:26.533Z"
   },
   {
    "duration": 5,
    "start_time": "2023-03-15T19:30:26.557Z"
   },
   {
    "duration": 9,
    "start_time": "2023-03-15T19:30:26.564Z"
   },
   {
    "duration": 7,
    "start_time": "2023-03-15T19:30:26.574Z"
   },
   {
    "duration": 7,
    "start_time": "2023-03-15T19:30:26.582Z"
   },
   {
    "duration": 11,
    "start_time": "2023-03-15T19:30:26.590Z"
   },
   {
    "duration": 19,
    "start_time": "2023-03-15T19:30:26.602Z"
   },
   {
    "duration": 22,
    "start_time": "2023-03-15T19:30:26.623Z"
   },
   {
    "duration": 9,
    "start_time": "2023-03-15T19:30:26.646Z"
   },
   {
    "duration": 7,
    "start_time": "2023-03-15T19:30:26.656Z"
   },
   {
    "duration": 4,
    "start_time": "2023-03-15T19:30:26.664Z"
   },
   {
    "duration": 21,
    "start_time": "2023-03-15T19:30:26.670Z"
   },
   {
    "duration": 41,
    "start_time": "2023-03-15T19:30:26.693Z"
   },
   {
    "duration": 6,
    "start_time": "2023-03-15T19:30:26.735Z"
   },
   {
    "duration": 16,
    "start_time": "2023-03-15T19:30:26.743Z"
   },
   {
    "duration": 6,
    "start_time": "2023-03-15T19:30:26.760Z"
   },
   {
    "duration": 7,
    "start_time": "2023-03-15T19:30:26.768Z"
   },
   {
    "duration": 5,
    "start_time": "2023-03-15T19:30:26.776Z"
   },
   {
    "duration": 56,
    "start_time": "2023-03-15T19:30:26.783Z"
   },
   {
    "duration": 6,
    "start_time": "2023-03-15T19:30:26.841Z"
   },
   {
    "duration": 7,
    "start_time": "2023-03-15T19:30:26.848Z"
   },
   {
    "duration": 24,
    "start_time": "2023-03-15T19:30:26.856Z"
   },
   {
    "duration": 10,
    "start_time": "2023-03-15T19:30:26.883Z"
   },
   {
    "duration": 32,
    "start_time": "2023-03-15T19:30:26.896Z"
   },
   {
    "duration": 10,
    "start_time": "2023-03-15T19:30:26.929Z"
   },
   {
    "duration": 6,
    "start_time": "2023-03-15T19:30:26.941Z"
   },
   {
    "duration": 6,
    "start_time": "2023-03-15T19:30:26.949Z"
   },
   {
    "duration": 21,
    "start_time": "2023-03-15T19:30:26.957Z"
   },
   {
    "duration": 263,
    "start_time": "2023-03-15T19:30:26.980Z"
   },
   {
    "duration": 22,
    "start_time": "2023-03-15T19:30:27.245Z"
   },
   {
    "duration": 188,
    "start_time": "2023-03-15T19:30:27.269Z"
   },
   {
    "duration": 188,
    "start_time": "2023-03-15T19:30:27.460Z"
   },
   {
    "duration": 265,
    "start_time": "2023-03-15T19:37:25.507Z"
   },
   {
    "duration": 196,
    "start_time": "2023-03-15T19:37:48.429Z"
   },
   {
    "duration": 17,
    "start_time": "2023-03-15T19:37:56.595Z"
   },
   {
    "duration": 190,
    "start_time": "2023-03-15T19:40:04.343Z"
   },
   {
    "duration": 177,
    "start_time": "2023-03-15T19:40:32.965Z"
   },
   {
    "duration": 170,
    "start_time": "2023-03-15T19:41:53.710Z"
   },
   {
    "duration": 178,
    "start_time": "2023-03-15T19:42:10.624Z"
   },
   {
    "duration": 176,
    "start_time": "2023-03-15T19:47:06.136Z"
   },
   {
    "duration": 169,
    "start_time": "2023-03-15T19:47:06.314Z"
   },
   {
    "duration": 161,
    "start_time": "2023-03-15T19:47:14.145Z"
   },
   {
    "duration": 167,
    "start_time": "2023-03-15T19:47:17.761Z"
   },
   {
    "duration": 162,
    "start_time": "2023-03-15T19:47:19.008Z"
   },
   {
    "duration": 163,
    "start_time": "2023-03-15T19:47:20.690Z"
   },
   {
    "duration": 152,
    "start_time": "2023-03-15T19:59:32.347Z"
   },
   {
    "duration": 179,
    "start_time": "2023-03-15T20:04:19.103Z"
   },
   {
    "duration": 431,
    "start_time": "2023-03-16T03:20:56.495Z"
   },
   {
    "duration": 110,
    "start_time": "2023-03-16T03:20:56.930Z"
   },
   {
    "duration": 21,
    "start_time": "2023-03-16T03:20:57.042Z"
   },
   {
    "duration": 15,
    "start_time": "2023-03-16T03:20:57.065Z"
   },
   {
    "duration": 28,
    "start_time": "2023-03-16T03:20:57.081Z"
   },
   {
    "duration": 3,
    "start_time": "2023-03-16T03:20:57.110Z"
   },
   {
    "duration": 1182,
    "start_time": "2023-03-16T03:20:57.115Z"
   },
   {
    "duration": 11,
    "start_time": "2023-03-16T03:20:58.298Z"
   },
   {
    "duration": 28,
    "start_time": "2023-03-16T03:20:58.310Z"
   },
   {
    "duration": 7,
    "start_time": "2023-03-16T03:20:58.341Z"
   },
   {
    "duration": 82,
    "start_time": "2023-03-16T03:20:58.349Z"
   },
   {
    "duration": 14,
    "start_time": "2023-03-16T03:20:58.433Z"
   },
   {
    "duration": 17,
    "start_time": "2023-03-16T03:20:58.449Z"
   },
   {
    "duration": 9,
    "start_time": "2023-03-16T03:20:58.467Z"
   },
   {
    "duration": 16,
    "start_time": "2023-03-16T03:20:58.478Z"
   },
   {
    "duration": 10,
    "start_time": "2023-03-16T03:20:58.496Z"
   },
   {
    "duration": 46241,
    "start_time": "2023-03-16T03:20:58.508Z"
   },
   {
    "duration": 21,
    "start_time": "2023-03-16T03:21:44.750Z"
   },
   {
    "duration": 13,
    "start_time": "2023-03-16T03:21:44.772Z"
   },
   {
    "duration": 6,
    "start_time": "2023-03-16T03:21:44.787Z"
   },
   {
    "duration": 8,
    "start_time": "2023-03-16T03:21:44.794Z"
   },
   {
    "duration": 8,
    "start_time": "2023-03-16T03:21:44.803Z"
   },
   {
    "duration": 18,
    "start_time": "2023-03-16T03:21:44.812Z"
   },
   {
    "duration": 19,
    "start_time": "2023-03-16T03:21:44.832Z"
   },
   {
    "duration": 20,
    "start_time": "2023-03-16T03:21:44.852Z"
   },
   {
    "duration": 8,
    "start_time": "2023-03-16T03:21:44.873Z"
   },
   {
    "duration": 7,
    "start_time": "2023-03-16T03:21:44.882Z"
   },
   {
    "duration": 4,
    "start_time": "2023-03-16T03:21:44.892Z"
   },
   {
    "duration": 12,
    "start_time": "2023-03-16T03:21:44.897Z"
   },
   {
    "duration": 33,
    "start_time": "2023-03-16T03:21:44.910Z"
   },
   {
    "duration": 6,
    "start_time": "2023-03-16T03:21:44.944Z"
   },
   {
    "duration": 24,
    "start_time": "2023-03-16T03:21:44.951Z"
   },
   {
    "duration": 7,
    "start_time": "2023-03-16T03:21:44.977Z"
   },
   {
    "duration": 7,
    "start_time": "2023-03-16T03:21:44.985Z"
   },
   {
    "duration": 6,
    "start_time": "2023-03-16T03:21:44.993Z"
   },
   {
    "duration": 91,
    "start_time": "2023-03-16T03:21:45.001Z"
   },
   {
    "duration": 0,
    "start_time": "2023-03-16T03:21:45.094Z"
   },
   {
    "duration": 0,
    "start_time": "2023-03-16T03:21:45.095Z"
   },
   {
    "duration": 0,
    "start_time": "2023-03-16T03:21:45.096Z"
   },
   {
    "duration": 0,
    "start_time": "2023-03-16T03:21:45.097Z"
   },
   {
    "duration": 0,
    "start_time": "2023-03-16T03:21:45.098Z"
   },
   {
    "duration": 0,
    "start_time": "2023-03-16T03:21:45.099Z"
   },
   {
    "duration": 0,
    "start_time": "2023-03-16T03:21:45.100Z"
   },
   {
    "duration": 0,
    "start_time": "2023-03-16T03:21:45.101Z"
   },
   {
    "duration": 1,
    "start_time": "2023-03-16T03:21:45.101Z"
   },
   {
    "duration": 0,
    "start_time": "2023-03-16T03:21:45.103Z"
   },
   {
    "duration": 0,
    "start_time": "2023-03-16T03:21:45.104Z"
   },
   {
    "duration": 0,
    "start_time": "2023-03-16T03:21:45.105Z"
   },
   {
    "duration": 0,
    "start_time": "2023-03-16T03:21:45.105Z"
   },
   {
    "duration": 0,
    "start_time": "2023-03-16T03:21:45.130Z"
   },
   {
    "duration": 0,
    "start_time": "2023-03-16T03:21:45.132Z"
   },
   {
    "duration": 0,
    "start_time": "2023-03-16T03:21:45.132Z"
   },
   {
    "duration": 0,
    "start_time": "2023-03-16T03:21:45.133Z"
   },
   {
    "duration": 20,
    "start_time": "2023-03-16T03:23:08.215Z"
   },
   {
    "duration": 5,
    "start_time": "2023-03-16T03:23:16.520Z"
   },
   {
    "duration": 5,
    "start_time": "2023-03-16T03:23:18.552Z"
   },
   {
    "duration": 18,
    "start_time": "2023-03-16T03:23:22.383Z"
   },
   {
    "duration": 6,
    "start_time": "2023-03-16T03:23:25.467Z"
   },
   {
    "duration": 7,
    "start_time": "2023-03-16T03:23:28.736Z"
   },
   {
    "duration": 8,
    "start_time": "2023-03-16T03:23:36.800Z"
   },
   {
    "duration": 8,
    "start_time": "2023-03-16T03:23:39.871Z"
   },
   {
    "duration": 72,
    "start_time": "2023-03-16T03:23:49.681Z"
   },
   {
    "duration": 6,
    "start_time": "2023-03-16T03:24:36.782Z"
   },
   {
    "duration": 7,
    "start_time": "2023-03-16T03:33:01.680Z"
   },
   {
    "duration": 7,
    "start_time": "2023-03-16T03:33:28.099Z"
   },
   {
    "duration": 5,
    "start_time": "2023-03-16T03:35:42.644Z"
   },
   {
    "duration": 6,
    "start_time": "2023-03-16T03:35:57.244Z"
   },
   {
    "duration": 6,
    "start_time": "2023-03-16T03:36:10.970Z"
   },
   {
    "duration": 25,
    "start_time": "2023-03-16T03:36:12.344Z"
   },
   {
    "duration": 175,
    "start_time": "2023-03-16T03:36:18.923Z"
   },
   {
    "duration": 16,
    "start_time": "2023-03-16T03:36:22.730Z"
   },
   {
    "duration": 149,
    "start_time": "2023-03-16T03:36:23.618Z"
   },
   {
    "duration": 161,
    "start_time": "2023-03-16T03:36:25.146Z"
   },
   {
    "duration": 149,
    "start_time": "2023-03-16T03:36:26.690Z"
   },
   {
    "duration": 154,
    "start_time": "2023-03-16T03:36:28.306Z"
   },
   {
    "duration": 148,
    "start_time": "2023-03-16T03:36:29.870Z"
   },
   {
    "duration": 136,
    "start_time": "2023-03-16T03:36:31.499Z"
   },
   {
    "duration": 30,
    "start_time": "2023-03-16T03:36:33.954Z"
   },
   {
    "duration": 22,
    "start_time": "2023-03-16T03:37:36.774Z"
   },
   {
    "duration": 74,
    "start_time": "2023-03-16T03:46:56.282Z"
   },
   {
    "duration": 73,
    "start_time": "2023-03-16T03:47:14.872Z"
   },
   {
    "duration": 156,
    "start_time": "2023-03-16T03:47:27.840Z"
   },
   {
    "duration": 290,
    "start_time": "2023-03-16T03:48:16.104Z"
   },
   {
    "duration": 329,
    "start_time": "2023-03-16T03:49:22.770Z"
   },
   {
    "duration": 174,
    "start_time": "2023-03-16T03:51:38.780Z"
   },
   {
    "duration": 20,
    "start_time": "2023-03-16T04:03:25.320Z"
   },
   {
    "duration": 72,
    "start_time": "2023-03-16T04:05:34.182Z"
   },
   {
    "duration": 83,
    "start_time": "2023-03-16T04:06:19.118Z"
   },
   {
    "duration": 4,
    "start_time": "2023-03-16T04:07:55.432Z"
   },
   {
    "duration": 68,
    "start_time": "2023-03-16T04:08:01.571Z"
   },
   {
    "duration": 97,
    "start_time": "2023-03-16T04:09:05.675Z"
   },
   {
    "duration": 311,
    "start_time": "2023-03-16T04:18:27.247Z"
   },
   {
    "duration": 301,
    "start_time": "2023-03-16T04:19:23.931Z"
   },
   {
    "duration": 5,
    "start_time": "2023-03-16T04:21:30.591Z"
   },
   {
    "duration": 17,
    "start_time": "2023-03-16T04:21:41.296Z"
   },
   {
    "duration": 16,
    "start_time": "2023-03-16T04:22:59.095Z"
   },
   {
    "duration": 20,
    "start_time": "2023-03-16T04:24:47.977Z"
   },
   {
    "duration": 20,
    "start_time": "2023-03-16T04:24:59.242Z"
   },
   {
    "duration": 15,
    "start_time": "2023-03-16T04:25:05.460Z"
   },
   {
    "duration": 182,
    "start_time": "2023-03-16T04:27:29.943Z"
   },
   {
    "duration": 6,
    "start_time": "2023-03-16T04:29:53.211Z"
   },
   {
    "duration": 5,
    "start_time": "2023-03-16T04:34:25.945Z"
   },
   {
    "duration": 5,
    "start_time": "2023-03-16T04:37:05.743Z"
   },
   {
    "duration": 7,
    "start_time": "2023-03-16T06:06:22.518Z"
   },
   {
    "duration": 6,
    "start_time": "2023-03-16T06:09:27.994Z"
   },
   {
    "duration": 7,
    "start_time": "2023-03-16T06:09:42.498Z"
   },
   {
    "duration": 6,
    "start_time": "2023-03-16T06:18:20.890Z"
   },
   {
    "duration": 18,
    "start_time": "2023-03-16T06:18:27.678Z"
   },
   {
    "duration": 18,
    "start_time": "2023-03-16T06:56:44.207Z"
   },
   {
    "duration": 18,
    "start_time": "2023-03-16T06:57:19.004Z"
   },
   {
    "duration": 21,
    "start_time": "2023-03-16T09:37:09.187Z"
   },
   {
    "duration": 16,
    "start_time": "2023-03-16T09:39:30.591Z"
   },
   {
    "duration": 23,
    "start_time": "2023-03-16T09:42:48.569Z"
   },
   {
    "duration": 472,
    "start_time": "2023-03-16T09:47:55.784Z"
   },
   {
    "duration": 63,
    "start_time": "2023-03-16T09:47:56.258Z"
   },
   {
    "duration": 31,
    "start_time": "2023-03-16T09:47:56.323Z"
   },
   {
    "duration": 40,
    "start_time": "2023-03-16T09:47:56.356Z"
   },
   {
    "duration": 40,
    "start_time": "2023-03-16T09:47:56.399Z"
   },
   {
    "duration": 4,
    "start_time": "2023-03-16T09:47:56.446Z"
   },
   {
    "duration": 1335,
    "start_time": "2023-03-16T09:47:56.459Z"
   },
   {
    "duration": 15,
    "start_time": "2023-03-16T09:47:57.796Z"
   },
   {
    "duration": 36,
    "start_time": "2023-03-16T09:47:57.813Z"
   },
   {
    "duration": 27,
    "start_time": "2023-03-16T09:47:57.853Z"
   },
   {
    "duration": 24,
    "start_time": "2023-03-16T09:47:57.883Z"
   },
   {
    "duration": 16,
    "start_time": "2023-03-16T09:47:57.908Z"
   },
   {
    "duration": 50,
    "start_time": "2023-03-16T09:47:57.932Z"
   },
   {
    "duration": 19,
    "start_time": "2023-03-16T09:47:57.985Z"
   },
   {
    "duration": 38,
    "start_time": "2023-03-16T09:47:58.006Z"
   },
   {
    "duration": 17,
    "start_time": "2023-03-16T09:47:58.047Z"
   },
   {
    "duration": 60449,
    "start_time": "2023-03-16T09:47:58.074Z"
   },
   {
    "duration": 33,
    "start_time": "2023-03-16T09:48:58.525Z"
   },
   {
    "duration": 20,
    "start_time": "2023-03-16T09:48:58.562Z"
   },
   {
    "duration": 7,
    "start_time": "2023-03-16T09:48:58.584Z"
   },
   {
    "duration": 9,
    "start_time": "2023-03-16T09:48:58.592Z"
   },
   {
    "duration": 13,
    "start_time": "2023-03-16T09:48:58.603Z"
   },
   {
    "duration": 9,
    "start_time": "2023-03-16T09:48:58.618Z"
   },
   {
    "duration": 44,
    "start_time": "2023-03-16T09:48:58.629Z"
   },
   {
    "duration": 17,
    "start_time": "2023-03-16T09:48:58.674Z"
   },
   {
    "duration": 9,
    "start_time": "2023-03-16T09:48:58.693Z"
   },
   {
    "duration": 21,
    "start_time": "2023-03-16T09:48:58.703Z"
   },
   {
    "duration": 19,
    "start_time": "2023-03-16T09:48:58.726Z"
   },
   {
    "duration": 36,
    "start_time": "2023-03-16T09:48:58.751Z"
   },
   {
    "duration": 17,
    "start_time": "2023-03-16T09:48:58.789Z"
   },
   {
    "duration": 11,
    "start_time": "2023-03-16T09:48:58.808Z"
   },
   {
    "duration": 31,
    "start_time": "2023-03-16T09:48:58.821Z"
   },
   {
    "duration": 27,
    "start_time": "2023-03-16T09:48:58.853Z"
   },
   {
    "duration": 7,
    "start_time": "2023-03-16T09:48:58.882Z"
   },
   {
    "duration": 12,
    "start_time": "2023-03-16T09:48:58.890Z"
   },
   {
    "duration": 22,
    "start_time": "2023-03-16T09:48:58.903Z"
   },
   {
    "duration": 6,
    "start_time": "2023-03-16T09:48:58.927Z"
   },
   {
    "duration": 44,
    "start_time": "2023-03-16T09:48:58.935Z"
   },
   {
    "duration": 27,
    "start_time": "2023-03-16T09:48:58.980Z"
   },
   {
    "duration": 6,
    "start_time": "2023-03-16T09:48:59.008Z"
   },
   {
    "duration": 9,
    "start_time": "2023-03-16T09:48:59.017Z"
   },
   {
    "duration": 48,
    "start_time": "2023-03-16T09:48:59.027Z"
   },
   {
    "duration": 12,
    "start_time": "2023-03-16T09:48:59.076Z"
   },
   {
    "duration": 24,
    "start_time": "2023-03-16T09:48:59.090Z"
   },
   {
    "duration": 25,
    "start_time": "2023-03-16T09:48:59.116Z"
   },
   {
    "duration": 262,
    "start_time": "2023-03-16T09:48:59.143Z"
   },
   {
    "duration": 369,
    "start_time": "2023-03-16T09:48:59.407Z"
   },
   {
    "duration": 179,
    "start_time": "2023-03-16T09:48:59.778Z"
   },
   {
    "duration": 205,
    "start_time": "2023-03-16T09:48:59.958Z"
   },
   {
    "duration": 175,
    "start_time": "2023-03-16T09:49:00.170Z"
   },
   {
    "duration": 177,
    "start_time": "2023-03-16T09:49:00.347Z"
   },
   {
    "duration": 194,
    "start_time": "2023-03-16T09:49:00.530Z"
   },
   {
    "duration": 178,
    "start_time": "2023-03-16T09:49:00.730Z"
   },
   {
    "duration": 7,
    "start_time": "2023-03-16T09:49:00.909Z"
   },
   {
    "duration": 73,
    "start_time": "2023-03-16T09:49:00.917Z"
   },
   {
    "duration": 68,
    "start_time": "2023-03-16T09:49:00.992Z"
   },
   {
    "duration": 47,
    "start_time": "2023-03-16T09:49:01.062Z"
   },
   {
    "duration": 86,
    "start_time": "2023-03-16T09:49:01.112Z"
   },
   {
    "duration": 47,
    "start_time": "2023-03-16T09:49:01.200Z"
   },
   {
    "duration": 261,
    "start_time": "2023-03-16T13:53:55.856Z"
   },
   {
    "duration": 96,
    "start_time": "2023-03-16T13:55:06.861Z"
   },
   {
    "duration": 13,
    "start_time": "2023-03-16T13:55:17.257Z"
   },
   {
    "duration": 330,
    "start_time": "2023-03-16T13:55:25.169Z"
   },
   {
    "duration": 245,
    "start_time": "2023-03-16T14:01:55.280Z"
   },
   {
    "duration": 262,
    "start_time": "2023-03-16T14:02:10.299Z"
   },
   {
    "duration": 386,
    "start_time": "2023-03-16T14:05:42.021Z"
   },
   {
    "duration": 358,
    "start_time": "2023-03-16T14:06:17.580Z"
   },
   {
    "duration": 428,
    "start_time": "2023-03-16T14:06:35.480Z"
   },
   {
    "duration": 272,
    "start_time": "2023-03-16T14:07:27.167Z"
   },
   {
    "duration": 480,
    "start_time": "2023-03-16T14:22:18.931Z"
   },
   {
    "duration": 187,
    "start_time": "2023-03-16T14:22:51.545Z"
   },
   {
    "duration": 368,
    "start_time": "2023-03-16T14:27:10.208Z"
   },
   {
    "duration": 274,
    "start_time": "2023-03-16T14:32:34.825Z"
   },
   {
    "duration": 204,
    "start_time": "2023-03-16T14:33:33.400Z"
   },
   {
    "duration": 272,
    "start_time": "2023-03-16T14:34:07.488Z"
   },
   {
    "duration": 282,
    "start_time": "2023-03-16T14:34:48.587Z"
   },
   {
    "duration": 399,
    "start_time": "2023-03-16T14:37:23.495Z"
   },
   {
    "duration": 396,
    "start_time": "2023-03-16T14:40:26.174Z"
   },
   {
    "duration": 63,
    "start_time": "2023-03-16T14:40:26.572Z"
   },
   {
    "duration": 38,
    "start_time": "2023-03-16T14:40:26.637Z"
   },
   {
    "duration": 17,
    "start_time": "2023-03-16T14:40:26.678Z"
   },
   {
    "duration": 52,
    "start_time": "2023-03-16T14:40:26.698Z"
   },
   {
    "duration": 3,
    "start_time": "2023-03-16T14:40:26.753Z"
   },
   {
    "duration": 1256,
    "start_time": "2023-03-16T14:40:26.759Z"
   },
   {
    "duration": 22,
    "start_time": "2023-03-16T14:40:28.017Z"
   },
   {
    "duration": 30,
    "start_time": "2023-03-16T14:40:28.040Z"
   },
   {
    "duration": 8,
    "start_time": "2023-03-16T14:40:28.074Z"
   },
   {
    "duration": 20,
    "start_time": "2023-03-16T14:40:28.083Z"
   },
   {
    "duration": 31,
    "start_time": "2023-03-16T14:40:28.105Z"
   },
   {
    "duration": 19,
    "start_time": "2023-03-16T14:40:28.138Z"
   },
   {
    "duration": 9,
    "start_time": "2023-03-16T14:40:28.159Z"
   },
   {
    "duration": 34,
    "start_time": "2023-03-16T14:40:28.169Z"
   },
   {
    "duration": 19,
    "start_time": "2023-03-16T14:40:28.205Z"
   },
   {
    "duration": 49003,
    "start_time": "2023-03-16T14:40:28.225Z"
   },
   {
    "duration": 23,
    "start_time": "2023-03-16T14:41:17.229Z"
   },
   {
    "duration": 61,
    "start_time": "2023-03-16T14:41:17.253Z"
   },
   {
    "duration": 59,
    "start_time": "2023-03-16T14:41:17.316Z"
   },
   {
    "duration": 67,
    "start_time": "2023-03-16T14:41:17.376Z"
   },
   {
    "duration": 26,
    "start_time": "2023-03-16T14:41:17.445Z"
   },
   {
    "duration": 42,
    "start_time": "2023-03-16T14:41:17.473Z"
   },
   {
    "duration": 77,
    "start_time": "2023-03-16T14:41:17.517Z"
   },
   {
    "duration": 51,
    "start_time": "2023-03-16T14:41:17.596Z"
   },
   {
    "duration": 67,
    "start_time": "2023-03-16T14:41:17.649Z"
   },
   {
    "duration": 42,
    "start_time": "2023-03-16T14:41:17.718Z"
   },
   {
    "duration": 84,
    "start_time": "2023-03-16T14:41:17.764Z"
   },
   {
    "duration": 43,
    "start_time": "2023-03-16T14:41:17.850Z"
   },
   {
    "duration": 63,
    "start_time": "2023-03-16T14:41:17.895Z"
   },
   {
    "duration": 37,
    "start_time": "2023-03-16T14:41:17.960Z"
   },
   {
    "duration": 49,
    "start_time": "2023-03-16T14:41:17.999Z"
   },
   {
    "duration": 31,
    "start_time": "2023-03-16T14:41:18.050Z"
   },
   {
    "duration": 27,
    "start_time": "2023-03-16T14:41:18.084Z"
   },
   {
    "duration": 37,
    "start_time": "2023-03-16T14:41:18.112Z"
   },
   {
    "duration": 64,
    "start_time": "2023-03-16T14:41:18.151Z"
   },
   {
    "duration": 39,
    "start_time": "2023-03-16T14:41:18.217Z"
   },
   {
    "duration": 41,
    "start_time": "2023-03-16T14:41:18.258Z"
   },
   {
    "duration": 66,
    "start_time": "2023-03-16T14:41:18.300Z"
   },
   {
    "duration": 69,
    "start_time": "2023-03-16T14:41:18.368Z"
   },
   {
    "duration": 117,
    "start_time": "2023-03-16T14:41:18.438Z"
   },
   {
    "duration": 53,
    "start_time": "2023-03-16T14:41:18.556Z"
   },
   {
    "duration": 48,
    "start_time": "2023-03-16T14:41:18.611Z"
   },
   {
    "duration": 39,
    "start_time": "2023-03-16T14:41:18.661Z"
   },
   {
    "duration": 59,
    "start_time": "2023-03-16T14:41:18.702Z"
   },
   {
    "duration": 276,
    "start_time": "2023-03-16T14:41:18.763Z"
   },
   {
    "duration": 317,
    "start_time": "2023-03-16T14:41:19.040Z"
   },
   {
    "duration": 169,
    "start_time": "2023-03-16T14:41:19.359Z"
   },
   {
    "duration": 182,
    "start_time": "2023-03-16T14:41:19.530Z"
   },
   {
    "duration": 176,
    "start_time": "2023-03-16T14:41:19.714Z"
   },
   {
    "duration": 198,
    "start_time": "2023-03-16T14:41:19.892Z"
   },
   {
    "duration": 193,
    "start_time": "2023-03-16T14:41:20.093Z"
   },
   {
    "duration": 163,
    "start_time": "2023-03-16T14:41:20.288Z"
   },
   {
    "duration": 6,
    "start_time": "2023-03-16T14:41:20.453Z"
   },
   {
    "duration": 92,
    "start_time": "2023-03-16T14:41:20.461Z"
   },
   {
    "duration": 32,
    "start_time": "2023-03-16T14:41:20.555Z"
   },
   {
    "duration": 84,
    "start_time": "2023-03-16T14:41:20.589Z"
   },
   {
    "duration": 69,
    "start_time": "2023-03-16T14:41:20.675Z"
   },
   {
    "duration": 67,
    "start_time": "2023-03-16T14:41:20.745Z"
   },
   {
    "duration": 557,
    "start_time": "2023-03-16T14:41:20.814Z"
   },
   {
    "duration": 410,
    "start_time": "2023-03-16T14:41:21.372Z"
   },
   {
    "duration": 296,
    "start_time": "2023-03-16T14:49:26.312Z"
   },
   {
    "duration": 298,
    "start_time": "2023-03-16T14:49:35.820Z"
   },
   {
    "duration": 390,
    "start_time": "2023-03-16T14:49:42.210Z"
   },
   {
    "duration": 291,
    "start_time": "2023-03-16T14:49:50.350Z"
   },
   {
    "duration": 304,
    "start_time": "2023-03-16T14:49:59.750Z"
   },
   {
    "duration": 309,
    "start_time": "2023-03-16T14:50:21.609Z"
   },
   {
    "duration": 286,
    "start_time": "2023-03-16T14:50:32.212Z"
   },
   {
    "duration": 411,
    "start_time": "2023-03-16T14:51:05.408Z"
   },
   {
    "duration": 42,
    "start_time": "2023-03-17T03:21:44.126Z"
   },
   {
    "duration": 388,
    "start_time": "2023-03-17T03:21:55.196Z"
   },
   {
    "duration": 94,
    "start_time": "2023-03-17T03:21:55.585Z"
   },
   {
    "duration": 19,
    "start_time": "2023-03-17T03:21:55.680Z"
   },
   {
    "duration": 11,
    "start_time": "2023-03-17T03:21:55.700Z"
   },
   {
    "duration": 22,
    "start_time": "2023-03-17T03:21:55.712Z"
   },
   {
    "duration": 2,
    "start_time": "2023-03-17T03:21:55.736Z"
   },
   {
    "duration": 1069,
    "start_time": "2023-03-17T03:21:55.740Z"
   },
   {
    "duration": 8,
    "start_time": "2023-03-17T03:21:56.810Z"
   },
   {
    "duration": 16,
    "start_time": "2023-03-17T03:21:56.819Z"
   },
   {
    "duration": 5,
    "start_time": "2023-03-17T03:21:56.838Z"
   },
   {
    "duration": 61,
    "start_time": "2023-03-17T03:21:56.844Z"
   },
   {
    "duration": 11,
    "start_time": "2023-03-17T03:21:56.907Z"
   },
   {
    "duration": 13,
    "start_time": "2023-03-17T03:21:56.919Z"
   },
   {
    "duration": 8,
    "start_time": "2023-03-17T03:21:56.933Z"
   },
   {
    "duration": 19,
    "start_time": "2023-03-17T03:21:56.942Z"
   },
   {
    "duration": 21,
    "start_time": "2023-03-17T03:21:56.962Z"
   },
   {
    "duration": 40230,
    "start_time": "2023-03-17T03:21:56.985Z"
   },
   {
    "duration": 20,
    "start_time": "2023-03-17T03:22:37.217Z"
   },
   {
    "duration": 8,
    "start_time": "2023-03-17T03:22:37.239Z"
   },
   {
    "duration": 7,
    "start_time": "2023-03-17T03:22:37.248Z"
   },
   {
    "duration": 24,
    "start_time": "2023-03-17T03:22:37.256Z"
   },
   {
    "duration": 13,
    "start_time": "2023-03-17T03:22:37.281Z"
   },
   {
    "duration": 11,
    "start_time": "2023-03-17T03:22:37.295Z"
   },
   {
    "duration": 7,
    "start_time": "2023-03-17T03:22:37.307Z"
   },
   {
    "duration": 15,
    "start_time": "2023-03-17T03:22:37.316Z"
   },
   {
    "duration": 8,
    "start_time": "2023-03-17T03:22:37.333Z"
   },
   {
    "duration": 7,
    "start_time": "2023-03-17T03:22:37.343Z"
   },
   {
    "duration": 3,
    "start_time": "2023-03-17T03:22:37.354Z"
   },
   {
    "duration": 24,
    "start_time": "2023-03-17T03:22:37.359Z"
   },
   {
    "duration": 18,
    "start_time": "2023-03-17T03:22:37.385Z"
   },
   {
    "duration": 6,
    "start_time": "2023-03-17T03:22:37.405Z"
   },
   {
    "duration": 24,
    "start_time": "2023-03-17T03:22:37.412Z"
   },
   {
    "duration": 5,
    "start_time": "2023-03-17T03:22:37.438Z"
   },
   {
    "duration": 14,
    "start_time": "2023-03-17T03:22:37.444Z"
   },
   {
    "duration": 21,
    "start_time": "2023-03-17T03:22:37.460Z"
   },
   {
    "duration": 25,
    "start_time": "2023-03-17T03:22:37.482Z"
   },
   {
    "duration": 4,
    "start_time": "2023-03-17T03:22:37.508Z"
   },
   {
    "duration": 7,
    "start_time": "2023-03-17T03:22:37.513Z"
   },
   {
    "duration": 18,
    "start_time": "2023-03-17T03:22:37.521Z"
   },
   {
    "duration": 5,
    "start_time": "2023-03-17T03:22:37.540Z"
   },
   {
    "duration": 11,
    "start_time": "2023-03-17T03:22:37.546Z"
   },
   {
    "duration": 22,
    "start_time": "2023-03-17T03:22:37.559Z"
   },
   {
    "duration": 14,
    "start_time": "2023-03-17T03:22:37.582Z"
   },
   {
    "duration": 7,
    "start_time": "2023-03-17T03:22:37.597Z"
   },
   {
    "duration": 20,
    "start_time": "2023-03-17T03:22:37.606Z"
   },
   {
    "duration": 194,
    "start_time": "2023-03-17T03:22:37.627Z"
   },
   {
    "duration": 301,
    "start_time": "2023-03-17T03:22:37.822Z"
   },
   {
    "duration": 163,
    "start_time": "2023-03-17T03:22:38.125Z"
   },
   {
    "duration": 166,
    "start_time": "2023-03-17T03:22:38.290Z"
   },
   {
    "duration": 160,
    "start_time": "2023-03-17T03:22:38.458Z"
   },
   {
    "duration": 163,
    "start_time": "2023-03-17T03:22:38.620Z"
   },
   {
    "duration": 172,
    "start_time": "2023-03-17T03:22:38.785Z"
   },
   {
    "duration": 174,
    "start_time": "2023-03-17T03:22:38.959Z"
   },
   {
    "duration": 5,
    "start_time": "2023-03-17T03:22:39.135Z"
   },
   {
    "duration": 10,
    "start_time": "2023-03-17T03:22:39.142Z"
   },
   {
    "duration": 10,
    "start_time": "2023-03-17T03:22:39.153Z"
   },
   {
    "duration": 17,
    "start_time": "2023-03-17T03:22:39.164Z"
   },
   {
    "duration": 16,
    "start_time": "2023-03-17T03:22:39.183Z"
   },
   {
    "duration": 18,
    "start_time": "2023-03-17T03:22:39.201Z"
   },
   {
    "duration": 530,
    "start_time": "2023-03-17T03:22:39.220Z"
   },
   {
    "duration": 259,
    "start_time": "2023-03-17T03:22:39.752Z"
   },
   {
    "duration": 26,
    "start_time": "2023-03-17T03:22:40.012Z"
   },
   {
    "duration": 100,
    "start_time": "2023-03-17T03:31:15.434Z"
   },
   {
    "duration": 21,
    "start_time": "2023-03-17T03:31:32.719Z"
   },
   {
    "duration": 24,
    "start_time": "2023-03-17T03:34:15.397Z"
   },
   {
    "duration": 75,
    "start_time": "2023-03-17T03:36:45.666Z"
   },
   {
    "duration": 28,
    "start_time": "2023-03-17T03:38:16.673Z"
   },
   {
    "duration": 6,
    "start_time": "2023-03-17T03:47:57.807Z"
   },
   {
    "duration": 202,
    "start_time": "2023-03-17T03:48:00.956Z"
   },
   {
    "duration": 28,
    "start_time": "2023-03-17T03:48:04.255Z"
   },
   {
    "duration": 6,
    "start_time": "2023-03-17T04:01:00.021Z"
   },
   {
    "duration": 187,
    "start_time": "2023-03-17T04:01:03.071Z"
   },
   {
    "duration": 5,
    "start_time": "2023-03-17T04:04:28.264Z"
   },
   {
    "duration": 185,
    "start_time": "2023-03-17T04:04:30.011Z"
   },
   {
    "duration": 28,
    "start_time": "2023-03-17T04:04:33.994Z"
   },
   {
    "duration": 413,
    "start_time": "2023-03-17T05:33:39.058Z"
   },
   {
    "duration": 92,
    "start_time": "2023-03-17T05:33:39.473Z"
   },
   {
    "duration": 24,
    "start_time": "2023-03-17T05:33:39.566Z"
   },
   {
    "duration": 29,
    "start_time": "2023-03-17T05:33:39.592Z"
   },
   {
    "duration": 25,
    "start_time": "2023-03-17T05:33:39.623Z"
   },
   {
    "duration": 2,
    "start_time": "2023-03-17T05:33:39.649Z"
   },
   {
    "duration": 994,
    "start_time": "2023-03-17T05:33:39.653Z"
   },
   {
    "duration": 8,
    "start_time": "2023-03-17T05:33:40.648Z"
   },
   {
    "duration": 36,
    "start_time": "2023-03-17T05:33:40.658Z"
   },
   {
    "duration": 8,
    "start_time": "2023-03-17T05:33:40.703Z"
   },
   {
    "duration": 21,
    "start_time": "2023-03-17T05:33:40.712Z"
   },
   {
    "duration": 12,
    "start_time": "2023-03-17T05:33:40.735Z"
   },
   {
    "duration": 19,
    "start_time": "2023-03-17T05:33:40.748Z"
   },
   {
    "duration": 28,
    "start_time": "2023-03-17T05:33:40.768Z"
   },
   {
    "duration": 25,
    "start_time": "2023-03-17T05:33:40.801Z"
   },
   {
    "duration": 6,
    "start_time": "2023-03-17T05:33:40.827Z"
   },
   {
    "duration": 46385,
    "start_time": "2023-03-17T05:33:40.834Z"
   },
   {
    "duration": 17,
    "start_time": "2023-03-17T05:34:27.220Z"
   },
   {
    "duration": 4,
    "start_time": "2023-03-17T05:34:27.239Z"
   },
   {
    "duration": 17,
    "start_time": "2023-03-17T05:34:27.244Z"
   },
   {
    "duration": 10,
    "start_time": "2023-03-17T05:34:27.262Z"
   },
   {
    "duration": 41,
    "start_time": "2023-03-17T05:34:27.274Z"
   },
   {
    "duration": 7,
    "start_time": "2023-03-17T05:34:27.316Z"
   },
   {
    "duration": 15,
    "start_time": "2023-03-17T05:34:27.325Z"
   },
   {
    "duration": 19,
    "start_time": "2023-03-17T05:34:27.341Z"
   },
   {
    "duration": 8,
    "start_time": "2023-03-17T05:34:27.361Z"
   },
   {
    "duration": 61,
    "start_time": "2023-03-17T05:34:27.370Z"
   },
   {
    "duration": 22,
    "start_time": "2023-03-17T05:34:27.434Z"
   },
   {
    "duration": 17,
    "start_time": "2023-03-17T05:34:27.458Z"
   },
   {
    "duration": 47,
    "start_time": "2023-03-17T05:34:27.476Z"
   },
   {
    "duration": 5,
    "start_time": "2023-03-17T05:34:27.524Z"
   },
   {
    "duration": 21,
    "start_time": "2023-03-17T05:34:27.531Z"
   },
   {
    "duration": 6,
    "start_time": "2023-03-17T05:34:27.554Z"
   },
   {
    "duration": 6,
    "start_time": "2023-03-17T05:34:27.561Z"
   },
   {
    "duration": 5,
    "start_time": "2023-03-17T05:34:27.568Z"
   },
   {
    "duration": 51,
    "start_time": "2023-03-17T05:34:27.575Z"
   },
   {
    "duration": 5,
    "start_time": "2023-03-17T05:34:27.628Z"
   },
   {
    "duration": 7,
    "start_time": "2023-03-17T05:34:27.634Z"
   },
   {
    "duration": 15,
    "start_time": "2023-03-17T05:34:27.642Z"
   },
   {
    "duration": 6,
    "start_time": "2023-03-17T05:34:27.658Z"
   },
   {
    "duration": 7,
    "start_time": "2023-03-17T05:34:27.665Z"
   },
   {
    "duration": 17,
    "start_time": "2023-03-17T05:34:27.673Z"
   },
   {
    "duration": 15,
    "start_time": "2023-03-17T05:34:27.699Z"
   },
   {
    "duration": 8,
    "start_time": "2023-03-17T05:34:27.715Z"
   },
   {
    "duration": 25,
    "start_time": "2023-03-17T05:34:27.724Z"
   },
   {
    "duration": 216,
    "start_time": "2023-03-17T05:34:27.750Z"
   },
   {
    "duration": 287,
    "start_time": "2023-03-17T05:34:27.968Z"
   },
   {
    "duration": 183,
    "start_time": "2023-03-17T05:34:28.256Z"
   },
   {
    "duration": 160,
    "start_time": "2023-03-17T05:34:28.441Z"
   },
   {
    "duration": 155,
    "start_time": "2023-03-17T05:34:28.603Z"
   },
   {
    "duration": 188,
    "start_time": "2023-03-17T05:34:28.760Z"
   },
   {
    "duration": 182,
    "start_time": "2023-03-17T05:34:28.949Z"
   },
   {
    "duration": 163,
    "start_time": "2023-03-17T05:34:29.133Z"
   },
   {
    "duration": 11,
    "start_time": "2023-03-17T05:34:29.298Z"
   },
   {
    "duration": 21,
    "start_time": "2023-03-17T05:34:29.310Z"
   },
   {
    "duration": 7,
    "start_time": "2023-03-17T05:34:29.333Z"
   },
   {
    "duration": 8,
    "start_time": "2023-03-17T05:34:29.341Z"
   },
   {
    "duration": 24,
    "start_time": "2023-03-17T05:34:29.350Z"
   },
   {
    "duration": 21,
    "start_time": "2023-03-17T05:34:29.375Z"
   },
   {
    "duration": 24,
    "start_time": "2023-03-17T05:34:29.399Z"
   },
   {
    "duration": 509,
    "start_time": "2023-03-17T05:34:29.424Z"
   },
   {
    "duration": 270,
    "start_time": "2023-03-17T05:34:29.934Z"
   },
   {
    "duration": 35,
    "start_time": "2023-03-17T05:34:30.214Z"
   },
   {
    "duration": 215,
    "start_time": "2023-03-17T06:28:24.631Z"
   },
   {
    "duration": 160,
    "start_time": "2023-03-17T06:29:03.413Z"
   },
   {
    "duration": 164,
    "start_time": "2023-03-17T06:29:24.163Z"
   },
   {
    "duration": 167,
    "start_time": "2023-03-17T06:29:38.592Z"
   },
   {
    "duration": 150,
    "start_time": "2023-03-17T06:29:46.517Z"
   },
   {
    "duration": 194,
    "start_time": "2023-03-17T06:30:59.434Z"
   },
   {
    "duration": 891,
    "start_time": "2023-03-17T06:37:19.821Z"
   },
   {
    "duration": 9,
    "start_time": "2023-03-17T06:37:58.998Z"
   },
   {
    "duration": 5,
    "start_time": "2023-03-17T06:38:39.164Z"
   },
   {
    "duration": 169,
    "start_time": "2023-03-17T06:56:14.446Z"
   },
   {
    "duration": 8,
    "start_time": "2023-03-17T06:56:28.252Z"
   },
   {
    "duration": 171,
    "start_time": "2023-03-17T06:57:51.466Z"
   },
   {
    "duration": 7,
    "start_time": "2023-03-17T06:58:11.711Z"
   },
   {
    "duration": 136,
    "start_time": "2023-03-17T06:58:18.765Z"
   },
   {
    "duration": 8,
    "start_time": "2023-03-17T06:58:46.146Z"
   },
   {
    "duration": 182,
    "start_time": "2023-03-17T07:02:32.355Z"
   },
   {
    "duration": 6,
    "start_time": "2023-03-17T07:02:33.936Z"
   },
   {
    "duration": 140,
    "start_time": "2023-03-17T07:02:36.620Z"
   },
   {
    "duration": 6,
    "start_time": "2023-03-17T07:02:37.870Z"
   },
   {
    "duration": 154,
    "start_time": "2023-03-17T11:13:43.989Z"
   },
   {
    "duration": 215,
    "start_time": "2023-03-17T11:16:03.606Z"
   },
   {
    "duration": 181,
    "start_time": "2023-03-17T11:16:15.466Z"
   },
   {
    "duration": 195,
    "start_time": "2023-03-17T11:16:21.022Z"
   },
   {
    "duration": 183,
    "start_time": "2023-03-17T11:16:25.966Z"
   },
   {
    "duration": 177,
    "start_time": "2023-03-17T11:16:38.355Z"
   },
   {
    "duration": 156,
    "start_time": "2023-03-17T11:17:18.216Z"
   },
   {
    "duration": 169,
    "start_time": "2023-03-17T11:17:25.745Z"
   },
   {
    "duration": 163,
    "start_time": "2023-03-17T11:17:32.047Z"
   },
   {
    "duration": 178,
    "start_time": "2023-03-17T11:17:45.439Z"
   },
   {
    "duration": 203,
    "start_time": "2023-03-17T11:17:54.437Z"
   },
   {
    "duration": 241,
    "start_time": "2023-03-17T11:18:04.630Z"
   },
   {
    "duration": 146,
    "start_time": "2023-03-17T11:18:13.513Z"
   },
   {
    "duration": 157,
    "start_time": "2023-03-17T11:18:17.914Z"
   },
   {
    "duration": 147,
    "start_time": "2023-03-17T11:19:02.296Z"
   },
   {
    "duration": 186,
    "start_time": "2023-03-17T11:19:25.005Z"
   },
   {
    "duration": 156,
    "start_time": "2023-03-17T11:19:49.595Z"
   },
   {
    "duration": 145,
    "start_time": "2023-03-17T11:21:10.168Z"
   },
   {
    "duration": 162,
    "start_time": "2023-03-17T11:21:18.559Z"
   },
   {
    "duration": 200,
    "start_time": "2023-03-17T11:28:41.898Z"
   },
   {
    "duration": 7,
    "start_time": "2023-03-17T12:43:26.882Z"
   },
   {
    "duration": 11,
    "start_time": "2023-03-17T14:08:06.245Z"
   },
   {
    "duration": 393,
    "start_time": "2023-03-17T14:08:26.304Z"
   },
   {
    "duration": 115,
    "start_time": "2023-03-17T14:08:26.698Z"
   },
   {
    "duration": 19,
    "start_time": "2023-03-17T14:08:26.815Z"
   },
   {
    "duration": 12,
    "start_time": "2023-03-17T14:08:26.835Z"
   },
   {
    "duration": 24,
    "start_time": "2023-03-17T14:08:26.849Z"
   },
   {
    "duration": 2,
    "start_time": "2023-03-17T14:08:26.874Z"
   },
   {
    "duration": 900,
    "start_time": "2023-03-17T14:08:26.878Z"
   },
   {
    "duration": 9,
    "start_time": "2023-03-17T14:08:27.780Z"
   },
   {
    "duration": 14,
    "start_time": "2023-03-17T14:08:27.791Z"
   },
   {
    "duration": 20,
    "start_time": "2023-03-17T14:08:27.809Z"
   },
   {
    "duration": 30,
    "start_time": "2023-03-17T14:08:27.831Z"
   },
   {
    "duration": 12,
    "start_time": "2023-03-17T14:08:27.863Z"
   },
   {
    "duration": 49,
    "start_time": "2023-03-17T14:08:27.876Z"
   },
   {
    "duration": 11,
    "start_time": "2023-03-17T14:08:27.927Z"
   },
   {
    "duration": 15,
    "start_time": "2023-03-17T14:08:27.940Z"
   },
   {
    "duration": 12,
    "start_time": "2023-03-17T14:08:27.956Z"
   },
   {
    "duration": 44216,
    "start_time": "2023-03-17T14:08:27.969Z"
   },
   {
    "duration": 23,
    "start_time": "2023-03-17T14:09:12.200Z"
   },
   {
    "duration": 6,
    "start_time": "2023-03-17T14:09:12.224Z"
   },
   {
    "duration": 9,
    "start_time": "2023-03-17T14:09:12.231Z"
   },
   {
    "duration": 11,
    "start_time": "2023-03-17T14:09:12.242Z"
   },
   {
    "duration": 9,
    "start_time": "2023-03-17T14:09:12.254Z"
   },
   {
    "duration": 14,
    "start_time": "2023-03-17T14:09:12.264Z"
   },
   {
    "duration": 43,
    "start_time": "2023-03-17T14:09:12.279Z"
   },
   {
    "duration": 18,
    "start_time": "2023-03-17T14:09:12.324Z"
   },
   {
    "duration": 7,
    "start_time": "2023-03-17T14:09:12.344Z"
   },
   {
    "duration": 9,
    "start_time": "2023-03-17T14:09:12.352Z"
   },
   {
    "duration": 5,
    "start_time": "2023-03-17T14:09:12.363Z"
   },
   {
    "duration": 38,
    "start_time": "2023-03-17T14:09:12.369Z"
   },
   {
    "duration": 20,
    "start_time": "2023-03-17T14:09:12.408Z"
   },
   {
    "duration": 6,
    "start_time": "2023-03-17T14:09:12.430Z"
   },
   {
    "duration": 26,
    "start_time": "2023-03-17T14:09:12.438Z"
   },
   {
    "duration": 7,
    "start_time": "2023-03-17T14:09:12.466Z"
   },
   {
    "duration": 38,
    "start_time": "2023-03-17T14:09:12.474Z"
   },
   {
    "duration": 14,
    "start_time": "2023-03-17T14:09:12.513Z"
   },
   {
    "duration": 25,
    "start_time": "2023-03-17T14:09:12.529Z"
   },
   {
    "duration": 5,
    "start_time": "2023-03-17T14:09:12.555Z"
   },
   {
    "duration": 10,
    "start_time": "2023-03-17T14:09:12.562Z"
   },
   {
    "duration": 24,
    "start_time": "2023-03-17T14:09:12.574Z"
   },
   {
    "duration": 23,
    "start_time": "2023-03-17T14:09:12.599Z"
   },
   {
    "duration": 10,
    "start_time": "2023-03-17T14:09:12.626Z"
   },
   {
    "duration": 9,
    "start_time": "2023-03-17T14:09:12.638Z"
   },
   {
    "duration": 13,
    "start_time": "2023-03-17T14:09:12.648Z"
   },
   {
    "duration": 52,
    "start_time": "2023-03-17T14:09:12.662Z"
   },
   {
    "duration": 27,
    "start_time": "2023-03-17T14:09:12.716Z"
   },
   {
    "duration": 273,
    "start_time": "2023-03-17T14:09:12.744Z"
   },
   {
    "duration": 312,
    "start_time": "2023-03-17T14:09:13.019Z"
   },
   {
    "duration": 189,
    "start_time": "2023-03-17T14:09:13.332Z"
   },
   {
    "duration": 177,
    "start_time": "2023-03-17T14:09:13.524Z"
   },
   {
    "duration": 193,
    "start_time": "2023-03-17T14:09:13.703Z"
   },
   {
    "duration": 159,
    "start_time": "2023-03-17T14:09:13.898Z"
   },
   {
    "duration": 167,
    "start_time": "2023-03-17T14:09:14.059Z"
   },
   {
    "duration": 134,
    "start_time": "2023-03-17T14:09:14.227Z"
   },
   {
    "duration": 6,
    "start_time": "2023-03-17T14:09:14.362Z"
   },
   {
    "duration": 41,
    "start_time": "2023-03-17T14:09:14.370Z"
   },
   {
    "duration": 9,
    "start_time": "2023-03-17T14:09:14.412Z"
   },
   {
    "duration": 8,
    "start_time": "2023-03-17T14:09:14.422Z"
   },
   {
    "duration": 21,
    "start_time": "2023-03-17T14:09:14.431Z"
   },
   {
    "duration": 17,
    "start_time": "2023-03-17T14:09:14.454Z"
   },
   {
    "duration": 12,
    "start_time": "2023-03-17T14:09:14.473Z"
   },
   {
    "duration": 522,
    "start_time": "2023-03-17T14:09:14.498Z"
   },
   {
    "duration": 252,
    "start_time": "2023-03-17T14:09:15.022Z"
   },
   {
    "duration": 44,
    "start_time": "2023-03-17T14:09:15.275Z"
   },
   {
    "duration": 141,
    "start_time": "2023-03-17T14:09:15.320Z"
   },
   {
    "duration": 7,
    "start_time": "2023-03-17T14:09:15.462Z"
   },
   {
    "duration": 169,
    "start_time": "2023-03-17T14:09:15.489Z"
   },
   {
    "duration": 7,
    "start_time": "2023-03-17T14:09:15.659Z"
   },
   {
    "duration": 145,
    "start_time": "2023-03-17T14:09:15.667Z"
   },
   {
    "duration": 5,
    "start_time": "2023-03-17T14:09:15.814Z"
   },
   {
    "duration": 155,
    "start_time": "2023-03-17T14:09:15.821Z"
   },
   {
    "duration": 26,
    "start_time": "2023-03-17T14:09:15.979Z"
   },
   {
    "duration": 184,
    "start_time": "2023-03-17T14:09:16.010Z"
   },
   {
    "duration": 6,
    "start_time": "2023-03-17T14:09:16.198Z"
   },
   {
    "duration": 224,
    "start_time": "2023-03-17T14:09:16.206Z"
   },
   {
    "duration": 7,
    "start_time": "2023-03-17T14:09:16.431Z"
   },
   {
    "duration": 117,
    "start_time": "2023-03-17T14:09:16.440Z"
   },
   {
    "duration": 16,
    "start_time": "2023-03-17T14:11:13.690Z"
   },
   {
    "duration": 9,
    "start_time": "2023-03-17T14:11:43.341Z"
   },
   {
    "duration": 65,
    "start_time": "2023-03-17T15:58:09.531Z"
   },
   {
    "duration": 17,
    "start_time": "2023-03-17T15:58:28.119Z"
   },
   {
    "duration": 519,
    "start_time": "2023-03-17T15:58:36.485Z"
   },
   {
    "duration": 221,
    "start_time": "2023-03-17T15:58:37.006Z"
   },
   {
    "duration": 29,
    "start_time": "2023-03-17T15:58:37.234Z"
   },
   {
    "duration": 14,
    "start_time": "2023-03-17T15:58:37.266Z"
   },
   {
    "duration": 41,
    "start_time": "2023-03-17T15:58:37.281Z"
   },
   {
    "duration": 32,
    "start_time": "2023-03-17T15:58:37.325Z"
   },
   {
    "duration": 1554,
    "start_time": "2023-03-17T15:58:37.358Z"
   },
   {
    "duration": 18,
    "start_time": "2023-03-17T15:58:38.914Z"
   },
   {
    "duration": 47,
    "start_time": "2023-03-17T15:58:38.937Z"
   },
   {
    "duration": 22,
    "start_time": "2023-03-17T15:58:38.988Z"
   },
   {
    "duration": 110,
    "start_time": "2023-03-17T15:58:39.012Z"
   },
   {
    "duration": 58,
    "start_time": "2023-03-17T15:58:39.124Z"
   },
   {
    "duration": 87,
    "start_time": "2023-03-17T15:58:39.185Z"
   },
   {
    "duration": 12,
    "start_time": "2023-03-17T15:58:39.274Z"
   },
   {
    "duration": 77,
    "start_time": "2023-03-17T15:58:39.288Z"
   },
   {
    "duration": 12,
    "start_time": "2023-03-17T15:58:39.367Z"
   },
   {
    "duration": 68496,
    "start_time": "2023-03-17T15:58:39.381Z"
   },
   {
    "duration": 40,
    "start_time": "2023-03-17T15:59:47.879Z"
   },
   {
    "duration": 6,
    "start_time": "2023-03-17T15:59:47.920Z"
   },
   {
    "duration": 25,
    "start_time": "2023-03-17T15:59:47.928Z"
   },
   {
    "duration": 7,
    "start_time": "2023-03-17T15:59:47.954Z"
   },
   {
    "duration": 7,
    "start_time": "2023-03-17T15:59:47.963Z"
   },
   {
    "duration": 8,
    "start_time": "2023-03-17T15:59:47.971Z"
   },
   {
    "duration": 8,
    "start_time": "2023-03-17T15:59:47.980Z"
   },
   {
    "duration": 69,
    "start_time": "2023-03-17T15:59:47.989Z"
   },
   {
    "duration": 9,
    "start_time": "2023-03-17T15:59:48.059Z"
   },
   {
    "duration": 10,
    "start_time": "2023-03-17T15:59:48.070Z"
   },
   {
    "duration": 4,
    "start_time": "2023-03-17T15:59:48.085Z"
   },
   {
    "duration": 58,
    "start_time": "2023-03-17T15:59:48.096Z"
   },
   {
    "duration": 18,
    "start_time": "2023-03-17T15:59:48.155Z"
   },
   {
    "duration": 7,
    "start_time": "2023-03-17T15:59:48.175Z"
   },
   {
    "duration": 40,
    "start_time": "2023-03-17T15:59:48.184Z"
   },
   {
    "duration": 31,
    "start_time": "2023-03-17T15:59:48.225Z"
   },
   {
    "duration": 10,
    "start_time": "2023-03-17T15:59:48.258Z"
   },
   {
    "duration": 7,
    "start_time": "2023-03-17T15:59:48.270Z"
   },
   {
    "duration": 52,
    "start_time": "2023-03-17T15:59:48.279Z"
   },
   {
    "duration": 6,
    "start_time": "2023-03-17T15:59:48.339Z"
   },
   {
    "duration": 8,
    "start_time": "2023-03-17T15:59:48.347Z"
   },
   {
    "duration": 21,
    "start_time": "2023-03-17T15:59:48.357Z"
   },
   {
    "duration": 7,
    "start_time": "2023-03-17T15:59:48.379Z"
   },
   {
    "duration": 83,
    "start_time": "2023-03-17T15:59:48.387Z"
   },
   {
    "duration": 10,
    "start_time": "2023-03-17T15:59:48.472Z"
   },
   {
    "duration": 12,
    "start_time": "2023-03-17T15:59:48.483Z"
   },
   {
    "duration": 54,
    "start_time": "2023-03-17T15:59:48.501Z"
   },
   {
    "duration": 21,
    "start_time": "2023-03-17T15:59:48.558Z"
   },
   {
    "duration": 249,
    "start_time": "2023-03-17T15:59:48.581Z"
   },
   {
    "duration": 349,
    "start_time": "2023-03-17T15:59:48.838Z"
   },
   {
    "duration": 212,
    "start_time": "2023-03-17T15:59:49.189Z"
   },
   {
    "duration": 212,
    "start_time": "2023-03-17T15:59:49.408Z"
   },
   {
    "duration": 185,
    "start_time": "2023-03-17T15:59:49.621Z"
   },
   {
    "duration": 210,
    "start_time": "2023-03-17T15:59:49.808Z"
   },
   {
    "duration": 183,
    "start_time": "2023-03-17T15:59:50.024Z"
   },
   {
    "duration": 171,
    "start_time": "2023-03-17T15:59:50.209Z"
   },
   {
    "duration": 13,
    "start_time": "2023-03-17T15:59:50.389Z"
   },
   {
    "duration": 50,
    "start_time": "2023-03-17T15:59:50.404Z"
   },
   {
    "duration": 18,
    "start_time": "2023-03-17T15:59:50.456Z"
   },
   {
    "duration": 12,
    "start_time": "2023-03-17T15:59:50.475Z"
   },
   {
    "duration": 73,
    "start_time": "2023-03-17T15:59:50.488Z"
   },
   {
    "duration": 16,
    "start_time": "2023-03-17T15:59:50.562Z"
   },
   {
    "duration": 5,
    "start_time": "2023-03-17T15:59:50.580Z"
   },
   {
    "duration": 626,
    "start_time": "2023-03-17T15:59:50.587Z"
   },
   {
    "duration": 286,
    "start_time": "2023-03-17T15:59:51.214Z"
   },
   {
    "duration": 46,
    "start_time": "2023-03-17T15:59:51.502Z"
   },
   {
    "duration": 203,
    "start_time": "2023-03-17T15:59:51.550Z"
   },
   {
    "duration": 8,
    "start_time": "2023-03-17T15:59:51.754Z"
   },
   {
    "duration": 207,
    "start_time": "2023-03-17T15:59:51.764Z"
   },
   {
    "duration": 7,
    "start_time": "2023-03-17T15:59:51.973Z"
   },
   {
    "duration": 216,
    "start_time": "2023-03-17T15:59:51.996Z"
   },
   {
    "duration": 7,
    "start_time": "2023-03-17T15:59:52.214Z"
   },
   {
    "duration": 201,
    "start_time": "2023-03-17T15:59:52.225Z"
   },
   {
    "duration": 9,
    "start_time": "2023-03-17T15:59:52.428Z"
   },
   {
    "duration": 318,
    "start_time": "2023-03-17T15:59:52.438Z"
   },
   {
    "duration": 8,
    "start_time": "2023-03-17T15:59:52.758Z"
   },
   {
    "duration": 191,
    "start_time": "2023-03-17T15:59:52.767Z"
   },
   {
    "duration": 7,
    "start_time": "2023-03-17T15:59:52.960Z"
   },
   {
    "duration": 274,
    "start_time": "2023-03-17T15:59:52.969Z"
   },
   {
    "duration": 66,
    "start_time": "2023-03-17T16:07:38.574Z"
   },
   {
    "duration": 37,
    "start_time": "2023-03-17T16:08:51.774Z"
   },
   {
    "duration": 180,
    "start_time": "2023-03-17T16:09:39.679Z"
   },
   {
    "duration": 27,
    "start_time": "2023-03-17T16:09:51.643Z"
   },
   {
    "duration": 25,
    "start_time": "2023-03-17T16:09:57.436Z"
   },
   {
    "duration": 34,
    "start_time": "2023-03-17T16:10:01.820Z"
   },
   {
    "duration": 30,
    "start_time": "2023-03-17T16:10:40.336Z"
   },
   {
    "duration": 27,
    "start_time": "2023-03-17T16:10:46.857Z"
   },
   {
    "duration": 20,
    "start_time": "2023-03-17T16:15:24.751Z"
   },
   {
    "duration": 17,
    "start_time": "2023-03-17T16:16:21.261Z"
   },
   {
    "duration": 10,
    "start_time": "2023-03-17T16:22:29.018Z"
   },
   {
    "duration": 98,
    "start_time": "2023-03-17T16:28:07.221Z"
   },
   {
    "duration": 29,
    "start_time": "2023-03-17T16:28:15.381Z"
   },
   {
    "duration": 392,
    "start_time": "2023-03-17T16:37:05.216Z"
   },
   {
    "duration": 25,
    "start_time": "2023-03-17T16:49:53.907Z"
   },
   {
    "duration": 38,
    "start_time": "2023-03-17T16:50:24.364Z"
   },
   {
    "duration": 412,
    "start_time": "2023-03-17T16:51:28.264Z"
   },
   {
    "duration": 399,
    "start_time": "2023-03-17T17:12:33.683Z"
   },
   {
    "duration": 377,
    "start_time": "2023-03-17T17:12:44.527Z"
   },
   {
    "duration": 519,
    "start_time": "2023-03-17T17:32:22.961Z"
   },
   {
    "duration": 204,
    "start_time": "2023-03-17T18:48:08.050Z"
   },
   {
    "duration": 10,
    "start_time": "2023-03-17T18:58:40.757Z"
   },
   {
    "duration": 10,
    "start_time": "2023-03-17T18:58:49.657Z"
   },
   {
    "duration": 13,
    "start_time": "2023-03-17T19:07:15.461Z"
   },
   {
    "duration": 26,
    "start_time": "2023-03-17T19:07:22.833Z"
   },
   {
    "duration": 27,
    "start_time": "2023-03-17T19:09:03.213Z"
   },
   {
    "duration": 17,
    "start_time": "2023-03-17T19:24:46.040Z"
   },
   {
    "duration": 21,
    "start_time": "2023-03-17T19:29:25.940Z"
   },
   {
    "duration": 18,
    "start_time": "2023-03-17T19:31:03.318Z"
   },
   {
    "duration": 10,
    "start_time": "2023-03-17T19:31:14.155Z"
   },
   {
    "duration": 398,
    "start_time": "2023-03-17T19:32:34.819Z"
   },
   {
    "duration": 13,
    "start_time": "2023-03-17T19:33:46.916Z"
   },
   {
    "duration": 12,
    "start_time": "2023-03-17T19:34:31.903Z"
   },
   {
    "duration": 1615,
    "start_time": "2023-03-17T19:36:33.135Z"
   },
   {
    "duration": 22,
    "start_time": "2023-03-17T19:36:46.163Z"
   },
   {
    "duration": 41,
    "start_time": "2023-03-17T19:44:13.679Z"
   },
   {
    "duration": 15,
    "start_time": "2023-03-17T19:44:15.819Z"
   },
   {
    "duration": 409,
    "start_time": "2023-03-17T19:44:29.219Z"
   },
   {
    "duration": 4,
    "start_time": "2023-03-17T19:44:44.161Z"
   },
   {
    "duration": 4,
    "start_time": "2023-03-17T19:44:47.384Z"
   },
   {
    "duration": 24,
    "start_time": "2023-03-17T19:45:46.016Z"
   },
   {
    "duration": 25,
    "start_time": "2023-03-17T19:49:42.519Z"
   },
   {
    "duration": 23,
    "start_time": "2023-03-17T19:54:15.117Z"
   },
   {
    "duration": 138,
    "start_time": "2023-03-17T19:54:24.639Z"
   },
   {
    "duration": 32,
    "start_time": "2023-03-17T19:55:09.292Z"
   },
   {
    "duration": 156,
    "start_time": "2023-03-17T19:56:29.914Z"
   },
   {
    "duration": 17,
    "start_time": "2023-03-17T19:56:49.120Z"
   },
   {
    "duration": 186,
    "start_time": "2023-03-17T20:09:37.779Z"
   },
   {
    "duration": 20,
    "start_time": "2023-03-17T20:12:50.839Z"
   },
   {
    "duration": 449,
    "start_time": "2023-03-17T20:22:13.328Z"
   },
   {
    "duration": 82,
    "start_time": "2023-03-17T20:22:13.779Z"
   },
   {
    "duration": 22,
    "start_time": "2023-03-17T20:22:13.865Z"
   },
   {
    "duration": 26,
    "start_time": "2023-03-17T20:22:13.888Z"
   },
   {
    "duration": 42,
    "start_time": "2023-03-17T20:22:13.923Z"
   },
   {
    "duration": 3,
    "start_time": "2023-03-17T20:22:13.966Z"
   },
   {
    "duration": 1207,
    "start_time": "2023-03-17T20:22:13.971Z"
   },
   {
    "duration": 14,
    "start_time": "2023-03-17T20:22:15.180Z"
   },
   {
    "duration": 56,
    "start_time": "2023-03-17T20:22:15.196Z"
   },
   {
    "duration": 8,
    "start_time": "2023-03-17T20:22:15.254Z"
   },
   {
    "duration": 20,
    "start_time": "2023-03-17T20:22:15.264Z"
   },
   {
    "duration": 27,
    "start_time": "2023-03-17T20:22:15.286Z"
   },
   {
    "duration": 40,
    "start_time": "2023-03-17T20:22:15.315Z"
   },
   {
    "duration": 10,
    "start_time": "2023-03-17T20:22:15.358Z"
   },
   {
    "duration": 21,
    "start_time": "2023-03-17T20:22:15.370Z"
   },
   {
    "duration": 49,
    "start_time": "2023-03-17T20:22:15.393Z"
   },
   {
    "duration": 61388,
    "start_time": "2023-03-17T20:22:15.443Z"
   },
   {
    "duration": 30,
    "start_time": "2023-03-17T20:23:16.833Z"
   },
   {
    "duration": 6,
    "start_time": "2023-03-17T20:23:16.865Z"
   },
   {
    "duration": 23,
    "start_time": "2023-03-17T20:23:16.873Z"
   },
   {
    "duration": 35,
    "start_time": "2023-03-17T20:23:16.898Z"
   },
   {
    "duration": 9,
    "start_time": "2023-03-17T20:23:16.934Z"
   },
   {
    "duration": 6,
    "start_time": "2023-03-17T20:23:16.945Z"
   },
   {
    "duration": 8,
    "start_time": "2023-03-17T20:23:16.952Z"
   },
   {
    "duration": 18,
    "start_time": "2023-03-17T20:23:16.961Z"
   },
   {
    "duration": 28,
    "start_time": "2023-03-17T20:23:16.980Z"
   },
   {
    "duration": 24,
    "start_time": "2023-03-17T20:23:17.017Z"
   },
   {
    "duration": 5,
    "start_time": "2023-03-17T20:23:17.043Z"
   },
   {
    "duration": 11,
    "start_time": "2023-03-17T20:23:17.050Z"
   },
   {
    "duration": 16,
    "start_time": "2023-03-17T20:23:17.063Z"
   },
   {
    "duration": 5,
    "start_time": "2023-03-17T20:23:17.081Z"
   },
   {
    "duration": 55,
    "start_time": "2023-03-17T20:23:17.088Z"
   },
   {
    "duration": 6,
    "start_time": "2023-03-17T20:23:17.146Z"
   },
   {
    "duration": 7,
    "start_time": "2023-03-17T20:23:17.153Z"
   },
   {
    "duration": 7,
    "start_time": "2023-03-17T20:23:17.161Z"
   },
   {
    "duration": 26,
    "start_time": "2023-03-17T20:23:17.169Z"
   },
   {
    "duration": 6,
    "start_time": "2023-03-17T20:23:17.205Z"
   },
   {
    "duration": 9,
    "start_time": "2023-03-17T20:23:17.213Z"
   },
   {
    "duration": 32,
    "start_time": "2023-03-17T20:23:17.224Z"
   },
   {
    "duration": 7,
    "start_time": "2023-03-17T20:23:17.258Z"
   },
   {
    "duration": 7,
    "start_time": "2023-03-17T20:23:17.267Z"
   },
   {
    "duration": 8,
    "start_time": "2023-03-17T20:23:17.275Z"
   },
   {
    "duration": 16,
    "start_time": "2023-03-17T20:23:17.285Z"
   },
   {
    "duration": 29,
    "start_time": "2023-03-17T20:23:17.308Z"
   },
   {
    "duration": 22,
    "start_time": "2023-03-17T20:23:17.339Z"
   },
   {
    "duration": 281,
    "start_time": "2023-03-17T20:23:17.362Z"
   },
   {
    "duration": 340,
    "start_time": "2023-03-17T20:23:17.645Z"
   },
   {
    "duration": 190,
    "start_time": "2023-03-17T20:23:17.991Z"
   },
   {
    "duration": 188,
    "start_time": "2023-03-17T20:23:18.182Z"
   },
   {
    "duration": 201,
    "start_time": "2023-03-17T20:23:18.372Z"
   },
   {
    "duration": 181,
    "start_time": "2023-03-17T20:23:18.574Z"
   },
   {
    "duration": 184,
    "start_time": "2023-03-17T20:23:18.757Z"
   },
   {
    "duration": 184,
    "start_time": "2023-03-17T20:23:18.943Z"
   },
   {
    "duration": 7,
    "start_time": "2023-03-17T20:23:19.130Z"
   },
   {
    "duration": 8,
    "start_time": "2023-03-17T20:23:19.138Z"
   },
   {
    "duration": 7,
    "start_time": "2023-03-17T20:23:19.148Z"
   },
   {
    "duration": 12,
    "start_time": "2023-03-17T20:23:19.157Z"
   },
   {
    "duration": 35,
    "start_time": "2023-03-17T20:23:19.170Z"
   },
   {
    "duration": 23,
    "start_time": "2023-03-17T20:23:19.211Z"
   },
   {
    "duration": 8,
    "start_time": "2023-03-17T20:23:19.235Z"
   },
   {
    "duration": 580,
    "start_time": "2023-03-17T20:23:19.244Z"
   },
   {
    "duration": 270,
    "start_time": "2023-03-17T20:23:19.826Z"
   },
   {
    "duration": 58,
    "start_time": "2023-03-17T20:23:20.103Z"
   },
   {
    "duration": 190,
    "start_time": "2023-03-17T20:23:20.163Z"
   },
   {
    "duration": 9,
    "start_time": "2023-03-17T20:23:20.355Z"
   },
   {
    "duration": 212,
    "start_time": "2023-03-17T20:23:20.365Z"
   },
   {
    "duration": 13,
    "start_time": "2023-03-17T20:23:20.579Z"
   },
   {
    "duration": 233,
    "start_time": "2023-03-17T20:23:20.594Z"
   },
   {
    "duration": 12,
    "start_time": "2023-03-17T20:23:20.832Z"
   },
   {
    "duration": 200,
    "start_time": "2023-03-17T20:23:20.846Z"
   },
   {
    "duration": 7,
    "start_time": "2023-03-17T20:23:21.047Z"
   },
   {
    "duration": 197,
    "start_time": "2023-03-17T20:23:21.056Z"
   },
   {
    "duration": 8,
    "start_time": "2023-03-17T20:23:21.254Z"
   },
   {
    "duration": 281,
    "start_time": "2023-03-17T20:23:21.263Z"
   },
   {
    "duration": 7,
    "start_time": "2023-03-17T20:23:21.546Z"
   },
   {
    "duration": 247,
    "start_time": "2023-03-17T20:23:21.555Z"
   },
   {
    "duration": 377,
    "start_time": "2023-03-17T20:23:21.807Z"
   },
   {
    "duration": 33,
    "start_time": "2023-03-17T20:23:22.191Z"
   },
   {
    "duration": 22,
    "start_time": "2023-03-17T20:23:22.226Z"
   },
   {
    "duration": 18,
    "start_time": "2023-03-17T20:23:22.250Z"
   },
   {
    "duration": 3,
    "start_time": "2023-03-17T20:23:22.273Z"
   },
   {
    "duration": 5,
    "start_time": "2023-03-17T20:23:22.278Z"
   },
   {
    "duration": 22,
    "start_time": "2023-03-17T20:23:22.284Z"
   },
   {
    "duration": 214,
    "start_time": "2023-03-17T20:23:22.308Z"
   },
   {
    "duration": 14,
    "start_time": "2023-03-17T20:23:22.524Z"
   },
   {
    "duration": 1590,
    "start_time": "2023-03-17T20:23:22.540Z"
   },
   {
    "duration": 0,
    "start_time": "2023-03-17T20:23:24.132Z"
   },
   {
    "duration": 14,
    "start_time": "2023-03-17T20:24:24.265Z"
   },
   {
    "duration": 13,
    "start_time": "2023-03-17T20:24:38.047Z"
   },
   {
    "duration": 12,
    "start_time": "2023-03-17T20:26:40.742Z"
   },
   {
    "duration": 19,
    "start_time": "2023-03-17T20:28:38.920Z"
   },
   {
    "duration": 3,
    "start_time": "2023-03-17T20:29:10.474Z"
   },
   {
    "duration": 9,
    "start_time": "2023-03-17T20:30:03.598Z"
   },
   {
    "duration": 11,
    "start_time": "2023-03-17T20:30:24.776Z"
   },
   {
    "duration": 256,
    "start_time": "2023-03-17T20:30:54.218Z"
   },
   {
    "duration": 6,
    "start_time": "2023-03-17T20:34:12.540Z"
   },
   {
    "duration": 8,
    "start_time": "2023-03-17T20:34:47.628Z"
   },
   {
    "duration": 7,
    "start_time": "2023-03-17T20:35:13.519Z"
   },
   {
    "duration": 8,
    "start_time": "2023-03-17T20:35:20.120Z"
   },
   {
    "duration": 17,
    "start_time": "2023-03-17T20:38:08.717Z"
   },
   {
    "duration": 34,
    "start_time": "2023-03-17T20:38:11.290Z"
   },
   {
    "duration": 4,
    "start_time": "2023-03-17T20:38:12.663Z"
   },
   {
    "duration": 4,
    "start_time": "2023-03-17T20:38:13.625Z"
   },
   {
    "duration": 17,
    "start_time": "2023-03-17T20:38:15.001Z"
   },
   {
    "duration": 269,
    "start_time": "2023-03-17T20:38:19.365Z"
   },
   {
    "duration": 58,
    "start_time": "2023-03-18T06:43:10.710Z"
   },
   {
    "duration": 489,
    "start_time": "2023-03-18T06:43:25.358Z"
   },
   {
    "duration": 111,
    "start_time": "2023-03-18T06:43:25.850Z"
   },
   {
    "duration": 31,
    "start_time": "2023-03-18T06:43:25.962Z"
   },
   {
    "duration": 19,
    "start_time": "2023-03-18T06:43:25.996Z"
   },
   {
    "duration": 34,
    "start_time": "2023-03-18T06:43:26.017Z"
   },
   {
    "duration": 3,
    "start_time": "2023-03-18T06:43:26.053Z"
   },
   {
    "duration": 1410,
    "start_time": "2023-03-18T06:43:26.057Z"
   },
   {
    "duration": 25,
    "start_time": "2023-03-18T06:43:27.470Z"
   },
   {
    "duration": 17,
    "start_time": "2023-03-18T06:43:27.498Z"
   },
   {
    "duration": 9,
    "start_time": "2023-03-18T06:43:27.519Z"
   },
   {
    "duration": 102,
    "start_time": "2023-03-18T06:43:27.529Z"
   },
   {
    "duration": 22,
    "start_time": "2023-03-18T06:43:27.632Z"
   },
   {
    "duration": 38,
    "start_time": "2023-03-18T06:43:27.656Z"
   },
   {
    "duration": 18,
    "start_time": "2023-03-18T06:43:27.697Z"
   },
   {
    "duration": 23,
    "start_time": "2023-03-18T06:43:27.718Z"
   },
   {
    "duration": 9,
    "start_time": "2023-03-18T06:43:27.743Z"
   },
   {
    "duration": 53613,
    "start_time": "2023-03-18T06:43:27.754Z"
   },
   {
    "duration": 26,
    "start_time": "2023-03-18T06:44:21.369Z"
   },
   {
    "duration": 8,
    "start_time": "2023-03-18T06:44:21.397Z"
   },
   {
    "duration": 11,
    "start_time": "2023-03-18T06:44:21.406Z"
   },
   {
    "duration": 9,
    "start_time": "2023-03-18T06:44:21.419Z"
   },
   {
    "duration": 8,
    "start_time": "2023-03-18T06:44:21.429Z"
   },
   {
    "duration": 7,
    "start_time": "2023-03-18T06:44:21.438Z"
   },
   {
    "duration": 8,
    "start_time": "2023-03-18T06:44:21.447Z"
   },
   {
    "duration": 41,
    "start_time": "2023-03-18T06:44:21.457Z"
   },
   {
    "duration": 14,
    "start_time": "2023-03-18T06:44:21.500Z"
   },
   {
    "duration": 8,
    "start_time": "2023-03-18T06:44:21.516Z"
   },
   {
    "duration": 9,
    "start_time": "2023-03-18T06:44:21.529Z"
   },
   {
    "duration": 12,
    "start_time": "2023-03-18T06:44:21.540Z"
   },
   {
    "duration": 42,
    "start_time": "2023-03-18T06:44:21.554Z"
   },
   {
    "duration": 7,
    "start_time": "2023-03-18T06:44:21.598Z"
   },
   {
    "duration": 22,
    "start_time": "2023-03-18T06:44:21.606Z"
   },
   {
    "duration": 6,
    "start_time": "2023-03-18T06:44:21.629Z"
   },
   {
    "duration": 17,
    "start_time": "2023-03-18T06:44:21.637Z"
   },
   {
    "duration": 27,
    "start_time": "2023-03-18T06:44:21.656Z"
   },
   {
    "duration": 27,
    "start_time": "2023-03-18T06:44:21.688Z"
   },
   {
    "duration": 4,
    "start_time": "2023-03-18T06:44:21.717Z"
   },
   {
    "duration": 7,
    "start_time": "2023-03-18T06:44:21.723Z"
   },
   {
    "duration": 25,
    "start_time": "2023-03-18T06:44:21.732Z"
   },
   {
    "duration": 26,
    "start_time": "2023-03-18T06:44:21.759Z"
   },
   {
    "duration": 9,
    "start_time": "2023-03-18T06:44:21.787Z"
   },
   {
    "duration": 11,
    "start_time": "2023-03-18T06:44:21.798Z"
   },
   {
    "duration": 6,
    "start_time": "2023-03-18T06:44:21.811Z"
   },
   {
    "duration": 19,
    "start_time": "2023-03-18T06:44:21.820Z"
   },
   {
    "duration": 49,
    "start_time": "2023-03-18T06:44:21.841Z"
   },
   {
    "duration": 219,
    "start_time": "2023-03-18T06:44:21.892Z"
   },
   {
    "duration": 354,
    "start_time": "2023-03-18T06:44:22.113Z"
   },
   {
    "duration": 224,
    "start_time": "2023-03-18T06:44:22.469Z"
   },
   {
    "duration": 202,
    "start_time": "2023-03-18T06:44:22.695Z"
   },
   {
    "duration": 193,
    "start_time": "2023-03-18T06:44:22.899Z"
   },
   {
    "duration": 170,
    "start_time": "2023-03-18T06:44:23.094Z"
   },
   {
    "duration": 173,
    "start_time": "2023-03-18T06:44:23.266Z"
   },
   {
    "duration": 166,
    "start_time": "2023-03-18T06:44:23.441Z"
   },
   {
    "duration": 7,
    "start_time": "2023-03-18T06:44:23.609Z"
   },
   {
    "duration": 21,
    "start_time": "2023-03-18T06:44:23.617Z"
   },
   {
    "duration": 9,
    "start_time": "2023-03-18T06:44:23.640Z"
   },
   {
    "duration": 19,
    "start_time": "2023-03-18T06:44:23.651Z"
   },
   {
    "duration": 37,
    "start_time": "2023-03-18T06:44:23.672Z"
   },
   {
    "duration": 17,
    "start_time": "2023-03-18T06:44:23.711Z"
   },
   {
    "duration": 13,
    "start_time": "2023-03-18T06:44:23.730Z"
   },
   {
    "duration": 554,
    "start_time": "2023-03-18T06:44:23.745Z"
   },
   {
    "duration": 263,
    "start_time": "2023-03-18T06:44:24.301Z"
   },
   {
    "duration": 45,
    "start_time": "2023-03-18T06:44:24.566Z"
   },
   {
    "duration": 192,
    "start_time": "2023-03-18T06:44:24.613Z"
   },
   {
    "duration": 7,
    "start_time": "2023-03-18T06:44:24.807Z"
   },
   {
    "duration": 212,
    "start_time": "2023-03-18T06:44:24.816Z"
   },
   {
    "duration": 9,
    "start_time": "2023-03-18T06:44:25.030Z"
   },
   {
    "duration": 189,
    "start_time": "2023-03-18T06:44:25.040Z"
   },
   {
    "duration": 8,
    "start_time": "2023-03-18T06:44:25.231Z"
   },
   {
    "duration": 186,
    "start_time": "2023-03-18T06:44:25.241Z"
   },
   {
    "duration": 8,
    "start_time": "2023-03-18T06:44:25.429Z"
   },
   {
    "duration": 285,
    "start_time": "2023-03-18T06:44:25.439Z"
   },
   {
    "duration": 8,
    "start_time": "2023-03-18T06:44:25.727Z"
   },
   {
    "duration": 183,
    "start_time": "2023-03-18T06:44:25.738Z"
   },
   {
    "duration": 8,
    "start_time": "2023-03-18T06:44:25.923Z"
   },
   {
    "duration": 262,
    "start_time": "2023-03-18T06:44:25.933Z"
   },
   {
    "duration": 357,
    "start_time": "2023-03-18T06:44:26.196Z"
   },
   {
    "duration": 31,
    "start_time": "2023-03-18T06:44:26.555Z"
   },
   {
    "duration": 13,
    "start_time": "2023-03-18T06:44:26.587Z"
   },
   {
    "duration": 21,
    "start_time": "2023-03-18T06:44:26.602Z"
   },
   {
    "duration": 8,
    "start_time": "2023-03-18T06:44:26.624Z"
   },
   {
    "duration": 4,
    "start_time": "2023-03-18T06:44:26.638Z"
   },
   {
    "duration": 18,
    "start_time": "2023-03-18T06:44:26.643Z"
   },
   {
    "duration": 202,
    "start_time": "2023-03-18T06:44:26.687Z"
   },
   {
    "duration": 15,
    "start_time": "2023-03-18T06:44:26.891Z"
   },
   {
    "duration": 24,
    "start_time": "2023-03-18T06:44:26.908Z"
   },
   {
    "duration": 29,
    "start_time": "2023-03-18T06:44:26.934Z"
   },
   {
    "duration": 21,
    "start_time": "2023-03-18T06:44:26.964Z"
   },
   {
    "duration": 45,
    "start_time": "2023-03-18T06:44:26.987Z"
   },
   {
    "duration": 8,
    "start_time": "2023-03-18T06:44:27.035Z"
   },
   {
    "duration": 8,
    "start_time": "2023-03-18T06:44:27.045Z"
   },
   {
    "duration": 22,
    "start_time": "2023-03-18T06:44:27.055Z"
   },
   {
    "duration": 263,
    "start_time": "2023-03-18T06:44:27.085Z"
   },
   {
    "duration": 206,
    "start_time": "2023-03-18T06:46:55.337Z"
   },
   {
    "duration": 276,
    "start_time": "2023-03-18T06:47:09.216Z"
   },
   {
    "duration": 279,
    "start_time": "2023-03-18T08:03:27.357Z"
   },
   {
    "duration": 427,
    "start_time": "2023-03-18T08:03:45.540Z"
   },
   {
    "duration": 16,
    "start_time": "2023-03-18T08:09:01.831Z"
   },
   {
    "duration": 25,
    "start_time": "2023-03-18T08:09:02.403Z"
   },
   {
    "duration": 4,
    "start_time": "2023-03-18T08:09:02.940Z"
   },
   {
    "duration": 4,
    "start_time": "2023-03-18T08:09:03.499Z"
   },
   {
    "duration": 11,
    "start_time": "2023-03-18T08:09:03.940Z"
   },
   {
    "duration": 206,
    "start_time": "2023-03-18T08:10:33.162Z"
   },
   {
    "duration": 197,
    "start_time": "2023-03-18T08:11:06.921Z"
   },
   {
    "duration": 92,
    "start_time": "2023-03-18T08:13:13.177Z"
   },
   {
    "duration": 214,
    "start_time": "2023-03-18T08:13:23.951Z"
   },
   {
    "duration": 184,
    "start_time": "2023-03-18T08:14:22.046Z"
   },
   {
    "duration": 197,
    "start_time": "2023-03-18T08:15:37.208Z"
   },
   {
    "duration": 391,
    "start_time": "2023-03-18T08:22:52.279Z"
   },
   {
    "duration": 208,
    "start_time": "2023-03-18T08:25:16.097Z"
   },
   {
    "duration": 213,
    "start_time": "2023-03-18T08:25:31.287Z"
   },
   {
    "duration": 6,
    "start_time": "2023-03-18T09:36:35.691Z"
   },
   {
    "duration": 5,
    "start_time": "2023-03-18T09:36:53.148Z"
   },
   {
    "duration": 6,
    "start_time": "2023-03-18T09:39:07.789Z"
   },
   {
    "duration": 4,
    "start_time": "2023-03-18T09:39:08.290Z"
   },
   {
    "duration": 3,
    "start_time": "2023-03-18T09:39:19.031Z"
   },
   {
    "duration": 4,
    "start_time": "2023-03-18T09:39:20.296Z"
   },
   {
    "duration": 4,
    "start_time": "2023-03-18T09:39:41.592Z"
   },
   {
    "duration": 3,
    "start_time": "2023-03-18T09:41:25.190Z"
   },
   {
    "duration": 4,
    "start_time": "2023-03-18T09:41:25.966Z"
   },
   {
    "duration": 4,
    "start_time": "2023-03-18T09:41:26.973Z"
   },
   {
    "duration": 6,
    "start_time": "2023-03-18T09:41:51.150Z"
   },
   {
    "duration": 6,
    "start_time": "2023-03-18T09:42:08.533Z"
   },
   {
    "duration": 109,
    "start_time": "2023-03-18T09:48:37.368Z"
   },
   {
    "duration": 11,
    "start_time": "2023-03-18T09:52:41.911Z"
   },
   {
    "duration": 511,
    "start_time": "2023-03-18T09:52:59.458Z"
   },
   {
    "duration": 57,
    "start_time": "2023-03-18T09:52:59.971Z"
   },
   {
    "duration": 24,
    "start_time": "2023-03-18T09:53:00.030Z"
   },
   {
    "duration": 25,
    "start_time": "2023-03-18T09:53:00.057Z"
   },
   {
    "duration": 77,
    "start_time": "2023-03-18T09:53:00.084Z"
   },
   {
    "duration": 4,
    "start_time": "2023-03-18T09:53:00.163Z"
   },
   {
    "duration": 1161,
    "start_time": "2023-03-18T09:53:00.169Z"
   },
   {
    "duration": 11,
    "start_time": "2023-03-18T09:53:01.332Z"
   },
   {
    "duration": 38,
    "start_time": "2023-03-18T09:53:01.345Z"
   },
   {
    "duration": 18,
    "start_time": "2023-03-18T09:53:01.387Z"
   },
   {
    "duration": 43,
    "start_time": "2023-03-18T09:53:01.407Z"
   },
   {
    "duration": 22,
    "start_time": "2023-03-18T09:53:01.452Z"
   },
   {
    "duration": 33,
    "start_time": "2023-03-18T09:53:01.475Z"
   },
   {
    "duration": 20,
    "start_time": "2023-03-18T09:53:01.510Z"
   },
   {
    "duration": 39,
    "start_time": "2023-03-18T09:53:01.532Z"
   },
   {
    "duration": 31,
    "start_time": "2023-03-18T09:53:01.573Z"
   },
   {
    "duration": 50735,
    "start_time": "2023-03-18T09:53:01.607Z"
   },
   {
    "duration": 22,
    "start_time": "2023-03-18T09:53:52.343Z"
   },
   {
    "duration": 14,
    "start_time": "2023-03-18T09:53:52.367Z"
   },
   {
    "duration": 25,
    "start_time": "2023-03-18T09:53:52.382Z"
   },
   {
    "duration": 33,
    "start_time": "2023-03-18T09:53:52.409Z"
   },
   {
    "duration": 35,
    "start_time": "2023-03-18T09:53:52.444Z"
   },
   {
    "duration": 21,
    "start_time": "2023-03-18T09:53:52.482Z"
   },
   {
    "duration": 26,
    "start_time": "2023-03-18T09:53:52.505Z"
   },
   {
    "duration": 40,
    "start_time": "2023-03-18T09:53:52.533Z"
   },
   {
    "duration": 16,
    "start_time": "2023-03-18T09:53:52.576Z"
   },
   {
    "duration": 32,
    "start_time": "2023-03-18T09:53:52.593Z"
   },
   {
    "duration": 20,
    "start_time": "2023-03-18T09:53:52.629Z"
   },
   {
    "duration": 20,
    "start_time": "2023-03-18T09:53:52.651Z"
   },
   {
    "duration": 37,
    "start_time": "2023-03-18T09:53:52.673Z"
   },
   {
    "duration": 9,
    "start_time": "2023-03-18T09:53:52.711Z"
   },
   {
    "duration": 30,
    "start_time": "2023-03-18T09:53:52.722Z"
   },
   {
    "duration": 13,
    "start_time": "2023-03-18T09:53:52.754Z"
   },
   {
    "duration": 43,
    "start_time": "2023-03-18T09:53:52.769Z"
   },
   {
    "duration": 29,
    "start_time": "2023-03-18T09:53:52.814Z"
   },
   {
    "duration": 34,
    "start_time": "2023-03-18T09:53:52.845Z"
   },
   {
    "duration": 5,
    "start_time": "2023-03-18T09:53:52.881Z"
   },
   {
    "duration": 24,
    "start_time": "2023-03-18T09:53:52.887Z"
   },
   {
    "duration": 41,
    "start_time": "2023-03-18T09:53:52.913Z"
   },
   {
    "duration": 8,
    "start_time": "2023-03-18T09:53:52.956Z"
   },
   {
    "duration": 19,
    "start_time": "2023-03-18T09:53:52.966Z"
   },
   {
    "duration": 36,
    "start_time": "2023-03-18T09:53:52.987Z"
   },
   {
    "duration": 26,
    "start_time": "2023-03-18T09:53:53.025Z"
   },
   {
    "duration": 14,
    "start_time": "2023-03-18T09:53:53.053Z"
   },
   {
    "duration": 29,
    "start_time": "2023-03-18T09:53:53.069Z"
   },
   {
    "duration": 275,
    "start_time": "2023-03-18T09:53:53.099Z"
   },
   {
    "duration": 320,
    "start_time": "2023-03-18T09:53:53.377Z"
   },
   {
    "duration": 174,
    "start_time": "2023-03-18T09:53:53.698Z"
   },
   {
    "duration": 185,
    "start_time": "2023-03-18T09:53:53.877Z"
   },
   {
    "duration": 186,
    "start_time": "2023-03-18T09:53:54.064Z"
   },
   {
    "duration": 187,
    "start_time": "2023-03-18T09:53:54.252Z"
   },
   {
    "duration": 181,
    "start_time": "2023-03-18T09:53:54.442Z"
   },
   {
    "duration": 171,
    "start_time": "2023-03-18T09:53:54.625Z"
   },
   {
    "duration": 6,
    "start_time": "2023-03-18T09:53:54.798Z"
   },
   {
    "duration": 10,
    "start_time": "2023-03-18T09:53:54.806Z"
   },
   {
    "duration": 10,
    "start_time": "2023-03-18T09:53:54.818Z"
   },
   {
    "duration": 14,
    "start_time": "2023-03-18T09:53:54.830Z"
   },
   {
    "duration": 42,
    "start_time": "2023-03-18T09:53:54.846Z"
   },
   {
    "duration": 17,
    "start_time": "2023-03-18T09:53:54.890Z"
   },
   {
    "duration": 6,
    "start_time": "2023-03-18T09:53:54.909Z"
   },
   {
    "duration": 616,
    "start_time": "2023-03-18T09:53:54.916Z"
   },
   {
    "duration": 256,
    "start_time": "2023-03-18T09:53:55.534Z"
   },
   {
    "duration": 36,
    "start_time": "2023-03-18T09:53:55.792Z"
   },
   {
    "duration": 188,
    "start_time": "2023-03-18T09:53:55.830Z"
   },
   {
    "duration": 7,
    "start_time": "2023-03-18T09:53:56.020Z"
   },
   {
    "duration": 185,
    "start_time": "2023-03-18T09:53:56.029Z"
   },
   {
    "duration": 9,
    "start_time": "2023-03-18T09:53:56.215Z"
   },
   {
    "duration": 195,
    "start_time": "2023-03-18T09:53:56.226Z"
   },
   {
    "duration": 8,
    "start_time": "2023-03-18T09:53:56.423Z"
   },
   {
    "duration": 179,
    "start_time": "2023-03-18T09:53:56.432Z"
   },
   {
    "duration": 7,
    "start_time": "2023-03-18T09:53:56.613Z"
   },
   {
    "duration": 190,
    "start_time": "2023-03-18T09:53:56.622Z"
   },
   {
    "duration": 8,
    "start_time": "2023-03-18T09:53:56.813Z"
   },
   {
    "duration": 261,
    "start_time": "2023-03-18T09:53:56.823Z"
   },
   {
    "duration": 7,
    "start_time": "2023-03-18T09:53:57.086Z"
   },
   {
    "duration": 241,
    "start_time": "2023-03-18T09:53:57.095Z"
   },
   {
    "duration": 350,
    "start_time": "2023-03-18T09:53:57.338Z"
   },
   {
    "duration": 22,
    "start_time": "2023-03-18T09:53:57.689Z"
   },
   {
    "duration": 219,
    "start_time": "2023-03-18T09:53:57.712Z"
   },
   {
    "duration": 14,
    "start_time": "2023-03-18T09:53:57.934Z"
   },
   {
    "duration": 33,
    "start_time": "2023-03-18T09:53:57.950Z"
   },
   {
    "duration": 14,
    "start_time": "2023-03-18T09:53:57.989Z"
   },
   {
    "duration": 13,
    "start_time": "2023-03-18T09:53:58.005Z"
   },
   {
    "duration": 306,
    "start_time": "2023-03-18T09:53:58.020Z"
   },
   {
    "duration": 191,
    "start_time": "2023-03-18T09:53:58.329Z"
   },
   {
    "duration": 3,
    "start_time": "2023-03-18T09:53:58.522Z"
   },
   {
    "duration": 14,
    "start_time": "2023-03-18T09:53:58.526Z"
   },
   {
    "duration": 108,
    "start_time": "2023-03-18T09:53:58.542Z"
   },
   {
    "duration": 0,
    "start_time": "2023-03-18T09:53:58.652Z"
   },
   {
    "duration": 0,
    "start_time": "2023-03-18T09:53:58.653Z"
   },
   {
    "duration": 0,
    "start_time": "2023-03-18T09:53:58.655Z"
   },
   {
    "duration": 0,
    "start_time": "2023-03-18T09:53:58.656Z"
   },
   {
    "duration": 0,
    "start_time": "2023-03-18T09:53:58.657Z"
   },
   {
    "duration": 7,
    "start_time": "2023-03-18T09:54:18.793Z"
   },
   {
    "duration": 8,
    "start_time": "2023-03-18T09:54:35.348Z"
   },
   {
    "duration": 3,
    "start_time": "2023-03-18T09:54:42.968Z"
   },
   {
    "duration": 3,
    "start_time": "2023-03-18T09:54:44.184Z"
   },
   {
    "duration": 5,
    "start_time": "2023-03-18T09:54:44.773Z"
   },
   {
    "duration": 8,
    "start_time": "2023-03-18T09:55:27.873Z"
   },
   {
    "duration": 5,
    "start_time": "2023-03-18T09:56:06.973Z"
   },
   {
    "duration": 4,
    "start_time": "2023-03-18T09:56:15.839Z"
   },
   {
    "duration": 6,
    "start_time": "2023-03-18T09:56:18.334Z"
   },
   {
    "duration": 3,
    "start_time": "2023-03-18T09:56:26.250Z"
   },
   {
    "duration": 4,
    "start_time": "2023-03-18T09:56:26.918Z"
   },
   {
    "duration": 4,
    "start_time": "2023-03-18T09:57:41.416Z"
   },
   {
    "duration": 6,
    "start_time": "2023-03-18T10:18:59.232Z"
   },
   {
    "duration": 6,
    "start_time": "2023-03-18T10:19:28.907Z"
   },
   {
    "duration": 8,
    "start_time": "2023-03-18T10:19:29.477Z"
   },
   {
    "duration": 4,
    "start_time": "2023-03-18T10:20:04.793Z"
   },
   {
    "duration": 7,
    "start_time": "2023-03-18T10:20:12.693Z"
   },
   {
    "duration": 4,
    "start_time": "2023-03-18T10:20:22.762Z"
   },
   {
    "duration": 3,
    "start_time": "2023-03-19T06:32:30.812Z"
   },
   {
    "duration": 5,
    "start_time": "2023-03-19T06:32:47.147Z"
   },
   {
    "duration": 4,
    "start_time": "2023-03-19T06:38:16.522Z"
   },
   {
    "duration": 5,
    "start_time": "2023-03-19T06:38:40.252Z"
   },
   {
    "duration": 4,
    "start_time": "2023-03-19T06:39:44.243Z"
   },
   {
    "duration": 434,
    "start_time": "2023-03-19T07:22:54.121Z"
   },
   {
    "duration": 66,
    "start_time": "2023-03-19T07:22:54.558Z"
   },
   {
    "duration": 26,
    "start_time": "2023-03-19T07:22:54.627Z"
   },
   {
    "duration": 27,
    "start_time": "2023-03-19T07:22:54.655Z"
   },
   {
    "duration": 49,
    "start_time": "2023-03-19T07:22:54.684Z"
   },
   {
    "duration": 40,
    "start_time": "2023-03-19T07:22:54.735Z"
   },
   {
    "duration": 1287,
    "start_time": "2023-03-19T07:22:54.777Z"
   },
   {
    "duration": 18,
    "start_time": "2023-03-19T07:22:56.066Z"
   },
   {
    "duration": 53,
    "start_time": "2023-03-19T07:22:56.086Z"
   },
   {
    "duration": 19,
    "start_time": "2023-03-19T07:22:56.142Z"
   },
   {
    "duration": 47,
    "start_time": "2023-03-19T07:22:56.163Z"
   },
   {
    "duration": 28,
    "start_time": "2023-03-19T07:22:56.212Z"
   },
   {
    "duration": 35,
    "start_time": "2023-03-19T07:22:56.242Z"
   },
   {
    "duration": 53041,
    "start_time": "2023-03-19T07:22:56.279Z"
   },
   {
    "duration": 26,
    "start_time": "2023-03-19T07:23:49.322Z"
   },
   {
    "duration": 8,
    "start_time": "2023-03-19T07:23:49.351Z"
   },
   {
    "duration": 7,
    "start_time": "2023-03-19T07:23:49.378Z"
   },
   {
    "duration": 13,
    "start_time": "2023-03-19T07:23:49.387Z"
   },
   {
    "duration": 13,
    "start_time": "2023-03-19T07:23:49.402Z"
   },
   {
    "duration": 13,
    "start_time": "2023-03-19T07:23:49.417Z"
   },
   {
    "duration": 9,
    "start_time": "2023-03-19T07:23:49.433Z"
   },
   {
    "duration": 36,
    "start_time": "2023-03-19T07:23:49.444Z"
   },
   {
    "duration": 9,
    "start_time": "2023-03-19T07:23:49.482Z"
   },
   {
    "duration": 17,
    "start_time": "2023-03-19T07:23:49.493Z"
   },
   {
    "duration": 7,
    "start_time": "2023-03-19T07:23:49.512Z"
   },
   {
    "duration": 19,
    "start_time": "2023-03-19T07:23:49.521Z"
   },
   {
    "duration": 46,
    "start_time": "2023-03-19T07:23:49.542Z"
   },
   {
    "duration": 7,
    "start_time": "2023-03-19T07:23:49.593Z"
   },
   {
    "duration": 31,
    "start_time": "2023-03-19T07:23:49.602Z"
   },
   {
    "duration": 45,
    "start_time": "2023-03-19T07:23:49.635Z"
   },
   {
    "duration": 18,
    "start_time": "2023-03-19T07:23:49.682Z"
   },
   {
    "duration": 22,
    "start_time": "2023-03-19T07:23:49.702Z"
   },
   {
    "duration": 49,
    "start_time": "2023-03-19T07:23:49.726Z"
   },
   {
    "duration": 5,
    "start_time": "2023-03-19T07:23:49.778Z"
   },
   {
    "duration": 16,
    "start_time": "2023-03-19T07:23:49.785Z"
   },
   {
    "duration": 30,
    "start_time": "2023-03-19T07:23:49.805Z"
   },
   {
    "duration": 8,
    "start_time": "2023-03-19T07:23:49.837Z"
   },
   {
    "duration": 12,
    "start_time": "2023-03-19T07:23:49.847Z"
   },
   {
    "duration": 19,
    "start_time": "2023-03-19T07:23:49.861Z"
   },
   {
    "duration": 10,
    "start_time": "2023-03-19T07:23:49.882Z"
   },
   {
    "duration": 10,
    "start_time": "2023-03-19T07:23:49.895Z"
   },
   {
    "duration": 49,
    "start_time": "2023-03-19T07:23:49.907Z"
   },
   {
    "duration": 311,
    "start_time": "2023-03-19T07:23:49.958Z"
   },
   {
    "duration": 371,
    "start_time": "2023-03-19T07:23:50.277Z"
   },
   {
    "duration": 236,
    "start_time": "2023-03-19T07:23:50.650Z"
   },
   {
    "duration": 220,
    "start_time": "2023-03-19T07:23:50.889Z"
   },
   {
    "duration": 238,
    "start_time": "2023-03-19T07:23:51.111Z"
   },
   {
    "duration": 234,
    "start_time": "2023-03-19T07:23:51.352Z"
   },
   {
    "duration": 206,
    "start_time": "2023-03-19T07:23:51.589Z"
   },
   {
    "duration": 258,
    "start_time": "2023-03-19T07:23:51.798Z"
   },
   {
    "duration": 9,
    "start_time": "2023-03-19T07:23:52.058Z"
   },
   {
    "duration": 26,
    "start_time": "2023-03-19T07:23:52.070Z"
   },
   {
    "duration": 18,
    "start_time": "2023-03-19T07:23:52.098Z"
   },
   {
    "duration": 19,
    "start_time": "2023-03-19T07:23:52.118Z"
   },
   {
    "duration": 38,
    "start_time": "2023-03-19T07:23:52.139Z"
   },
   {
    "duration": 26,
    "start_time": "2023-03-19T07:23:52.179Z"
   },
   {
    "duration": 18,
    "start_time": "2023-03-19T07:23:52.208Z"
   },
   {
    "duration": 754,
    "start_time": "2023-03-19T07:23:52.229Z"
   },
   {
    "duration": 336,
    "start_time": "2023-03-19T07:23:52.985Z"
   },
   {
    "duration": 72,
    "start_time": "2023-03-19T07:23:53.323Z"
   },
   {
    "duration": 216,
    "start_time": "2023-03-19T07:23:53.397Z"
   },
   {
    "duration": 9,
    "start_time": "2023-03-19T07:23:53.615Z"
   },
   {
    "duration": 226,
    "start_time": "2023-03-19T07:23:53.626Z"
   },
   {
    "duration": 8,
    "start_time": "2023-03-19T07:23:53.855Z"
   },
   {
    "duration": 203,
    "start_time": "2023-03-19T07:23:53.864Z"
   },
   {
    "duration": 14,
    "start_time": "2023-03-19T07:23:54.069Z"
   },
   {
    "duration": 194,
    "start_time": "2023-03-19T07:23:54.085Z"
   },
   {
    "duration": 11,
    "start_time": "2023-03-19T07:23:54.282Z"
   },
   {
    "duration": 248,
    "start_time": "2023-03-19T07:23:54.295Z"
   },
   {
    "duration": 10,
    "start_time": "2023-03-19T07:23:54.545Z"
   },
   {
    "duration": 271,
    "start_time": "2023-03-19T07:23:54.558Z"
   },
   {
    "duration": 11,
    "start_time": "2023-03-19T07:23:54.830Z"
   },
   {
    "duration": 277,
    "start_time": "2023-03-19T07:23:54.844Z"
   },
   {
    "duration": 384,
    "start_time": "2023-03-19T07:23:55.124Z"
   },
   {
    "duration": 30,
    "start_time": "2023-03-19T07:23:55.511Z"
   },
   {
    "duration": 237,
    "start_time": "2023-03-19T07:23:55.543Z"
   },
   {
    "duration": 15,
    "start_time": "2023-03-19T07:23:55.782Z"
   },
   {
    "duration": 18,
    "start_time": "2023-03-19T07:23:55.799Z"
   },
   {
    "duration": 22,
    "start_time": "2023-03-19T07:23:55.819Z"
   },
   {
    "duration": 45,
    "start_time": "2023-03-19T07:23:55.843Z"
   },
   {
    "duration": 321,
    "start_time": "2023-03-19T07:23:55.890Z"
   },
   {
    "duration": 196,
    "start_time": "2023-03-19T07:23:56.217Z"
   },
   {
    "duration": 4,
    "start_time": "2023-03-19T07:23:56.415Z"
   },
   {
    "duration": 13,
    "start_time": "2023-03-19T07:23:56.421Z"
   },
   {
    "duration": 11,
    "start_time": "2023-03-19T07:23:56.436Z"
   },
   {
    "duration": 7,
    "start_time": "2023-03-19T07:23:56.449Z"
   },
   {
    "duration": 18,
    "start_time": "2023-03-19T07:23:56.459Z"
   },
   {
    "duration": 12,
    "start_time": "2023-03-19T07:23:56.480Z"
   },
   {
    "duration": 11,
    "start_time": "2023-03-19T07:23:56.494Z"
   },
   {
    "duration": 11,
    "start_time": "2023-03-19T07:23:56.507Z"
   },
   {
    "duration": 11,
    "start_time": "2023-03-19T07:23:56.520Z"
   },
   {
    "duration": 9,
    "start_time": "2023-03-19T07:23:56.534Z"
   },
   {
    "duration": 9,
    "start_time": "2023-03-19T07:23:56.545Z"
   },
   {
    "duration": 9,
    "start_time": "2023-03-19T07:23:56.556Z"
   },
   {
    "duration": 15,
    "start_time": "2023-03-19T07:23:56.567Z"
   },
   {
    "duration": 6,
    "start_time": "2023-03-19T07:25:33.012Z"
   },
   {
    "duration": 15,
    "start_time": "2023-03-19T07:25:47.676Z"
   },
   {
    "duration": 492,
    "start_time": "2023-03-19T18:00:06.913Z"
   },
   {
    "duration": 222,
    "start_time": "2023-03-19T18:00:07.408Z"
   },
   {
    "duration": 37,
    "start_time": "2023-03-19T18:00:07.633Z"
   },
   {
    "duration": 23,
    "start_time": "2023-03-19T18:00:07.673Z"
   },
   {
    "duration": 41,
    "start_time": "2023-03-19T18:00:07.699Z"
   },
   {
    "duration": 4,
    "start_time": "2023-03-19T18:00:07.741Z"
   },
   {
    "duration": 1427,
    "start_time": "2023-03-19T18:00:07.748Z"
   },
   {
    "duration": 26,
    "start_time": "2023-03-19T18:00:09.178Z"
   },
   {
    "duration": 74,
    "start_time": "2023-03-19T18:00:09.206Z"
   },
   {
    "duration": 45,
    "start_time": "2023-03-19T18:00:09.282Z"
   },
   {
    "duration": 83,
    "start_time": "2023-03-19T18:00:09.329Z"
   },
   {
    "duration": 15,
    "start_time": "2023-03-19T18:00:09.414Z"
   },
   {
    "duration": 37,
    "start_time": "2023-03-19T18:00:09.430Z"
   },
   {
    "duration": 54447,
    "start_time": "2023-03-19T18:00:09.469Z"
   },
   {
    "duration": 21,
    "start_time": "2023-03-19T18:01:03.918Z"
   },
   {
    "duration": 18,
    "start_time": "2023-03-19T18:01:03.940Z"
   },
   {
    "duration": 14,
    "start_time": "2023-03-19T18:01:03.960Z"
   },
   {
    "duration": 27,
    "start_time": "2023-03-19T18:01:03.975Z"
   },
   {
    "duration": 25,
    "start_time": "2023-03-19T18:01:04.004Z"
   },
   {
    "duration": 19,
    "start_time": "2023-03-19T18:01:04.030Z"
   },
   {
    "duration": 20,
    "start_time": "2023-03-19T18:01:04.051Z"
   },
   {
    "duration": 28,
    "start_time": "2023-03-19T18:01:04.072Z"
   },
   {
    "duration": 19,
    "start_time": "2023-03-19T18:01:04.102Z"
   },
   {
    "duration": 14,
    "start_time": "2023-03-19T18:01:04.122Z"
   },
   {
    "duration": 33,
    "start_time": "2023-03-19T18:01:04.137Z"
   },
   {
    "duration": 10,
    "start_time": "2023-03-19T18:01:04.172Z"
   },
   {
    "duration": 31,
    "start_time": "2023-03-19T18:01:04.183Z"
   },
   {
    "duration": 20,
    "start_time": "2023-03-19T18:01:04.218Z"
   },
   {
    "duration": 17,
    "start_time": "2023-03-19T18:01:04.239Z"
   },
   {
    "duration": 25,
    "start_time": "2023-03-19T18:01:04.257Z"
   },
   {
    "duration": 6,
    "start_time": "2023-03-19T18:01:04.283Z"
   },
   {
    "duration": 15,
    "start_time": "2023-03-19T18:01:04.291Z"
   },
   {
    "duration": 7,
    "start_time": "2023-03-19T18:01:04.307Z"
   },
   {
    "duration": 41,
    "start_time": "2023-03-19T18:01:04.316Z"
   },
   {
    "duration": 4,
    "start_time": "2023-03-19T18:01:04.359Z"
   },
   {
    "duration": 21,
    "start_time": "2023-03-19T18:01:04.364Z"
   },
   {
    "duration": 28,
    "start_time": "2023-03-19T18:01:04.387Z"
   },
   {
    "duration": 13,
    "start_time": "2023-03-19T18:01:04.417Z"
   },
   {
    "duration": 30,
    "start_time": "2023-03-19T18:01:04.431Z"
   },
   {
    "duration": 13,
    "start_time": "2023-03-19T18:01:04.463Z"
   },
   {
    "duration": 27,
    "start_time": "2023-03-19T18:01:04.478Z"
   },
   {
    "duration": 4,
    "start_time": "2023-03-19T18:01:04.507Z"
   },
   {
    "duration": 42,
    "start_time": "2023-03-19T18:01:04.513Z"
   },
   {
    "duration": 209,
    "start_time": "2023-03-19T18:01:04.557Z"
   },
   {
    "duration": 373,
    "start_time": "2023-03-19T18:01:04.768Z"
   },
   {
    "duration": 195,
    "start_time": "2023-03-19T18:01:05.143Z"
   },
   {
    "duration": 176,
    "start_time": "2023-03-19T18:01:05.340Z"
   },
   {
    "duration": 174,
    "start_time": "2023-03-19T18:01:05.518Z"
   },
   {
    "duration": 181,
    "start_time": "2023-03-19T18:01:05.695Z"
   },
   {
    "duration": 175,
    "start_time": "2023-03-19T18:01:05.878Z"
   },
   {
    "duration": 168,
    "start_time": "2023-03-19T18:01:06.055Z"
   },
   {
    "duration": 6,
    "start_time": "2023-03-19T18:01:06.225Z"
   },
   {
    "duration": 5,
    "start_time": "2023-03-19T18:01:06.233Z"
   },
   {
    "duration": 9,
    "start_time": "2023-03-19T18:01:06.240Z"
   },
   {
    "duration": 11,
    "start_time": "2023-03-19T18:01:06.250Z"
   },
   {
    "duration": 50,
    "start_time": "2023-03-19T18:01:06.263Z"
   },
   {
    "duration": 21,
    "start_time": "2023-03-19T18:01:06.314Z"
   },
   {
    "duration": 6,
    "start_time": "2023-03-19T18:01:06.337Z"
   },
   {
    "duration": 567,
    "start_time": "2023-03-19T18:01:06.344Z"
   },
   {
    "duration": 286,
    "start_time": "2023-03-19T18:01:06.913Z"
   },
   {
    "duration": 37,
    "start_time": "2023-03-19T18:01:07.201Z"
   },
   {
    "duration": 205,
    "start_time": "2023-03-19T18:01:07.240Z"
   },
   {
    "duration": 9,
    "start_time": "2023-03-19T18:01:07.447Z"
   },
   {
    "duration": 254,
    "start_time": "2023-03-19T18:01:07.458Z"
   },
   {
    "duration": 9,
    "start_time": "2023-03-19T18:01:07.714Z"
   },
   {
    "duration": 215,
    "start_time": "2023-03-19T18:01:07.725Z"
   },
   {
    "duration": 9,
    "start_time": "2023-03-19T18:01:07.942Z"
   },
   {
    "duration": 200,
    "start_time": "2023-03-19T18:01:07.952Z"
   },
   {
    "duration": 8,
    "start_time": "2023-03-19T18:01:08.153Z"
   },
   {
    "duration": 296,
    "start_time": "2023-03-19T18:01:08.162Z"
   },
   {
    "duration": 8,
    "start_time": "2023-03-19T18:01:08.460Z"
   },
   {
    "duration": 181,
    "start_time": "2023-03-19T18:01:08.470Z"
   },
   {
    "duration": 9,
    "start_time": "2023-03-19T18:01:08.653Z"
   },
   {
    "duration": 269,
    "start_time": "2023-03-19T18:01:08.664Z"
   },
   {
    "duration": 367,
    "start_time": "2023-03-19T18:01:08.935Z"
   },
   {
    "duration": 21,
    "start_time": "2023-03-19T18:01:09.304Z"
   },
   {
    "duration": 234,
    "start_time": "2023-03-19T18:01:09.327Z"
   },
   {
    "duration": 13,
    "start_time": "2023-03-19T18:01:09.563Z"
   },
   {
    "duration": 21,
    "start_time": "2023-03-19T18:01:09.591Z"
   },
   {
    "duration": 25,
    "start_time": "2023-03-19T18:01:09.614Z"
   },
   {
    "duration": 15,
    "start_time": "2023-03-19T18:01:09.641Z"
   },
   {
    "duration": 329,
    "start_time": "2023-03-19T18:01:09.662Z"
   },
   {
    "duration": 216,
    "start_time": "2023-03-19T18:01:09.993Z"
   },
   {
    "duration": 4,
    "start_time": "2023-03-19T18:01:10.211Z"
   },
   {
    "duration": 14,
    "start_time": "2023-03-19T18:01:10.216Z"
   },
   {
    "duration": 8,
    "start_time": "2023-03-19T18:01:10.231Z"
   },
   {
    "duration": 5,
    "start_time": "2023-03-19T18:01:10.240Z"
   },
   {
    "duration": 8,
    "start_time": "2023-03-19T18:01:10.246Z"
   },
   {
    "duration": 7,
    "start_time": "2023-03-19T18:01:10.257Z"
   },
   {
    "duration": 25,
    "start_time": "2023-03-19T18:01:10.266Z"
   },
   {
    "duration": 8,
    "start_time": "2023-03-19T18:01:10.293Z"
   },
   {
    "duration": 7,
    "start_time": "2023-03-19T18:01:10.303Z"
   },
   {
    "duration": 4,
    "start_time": "2023-03-19T18:01:10.312Z"
   },
   {
    "duration": 6,
    "start_time": "2023-03-19T18:01:10.317Z"
   },
   {
    "duration": 9,
    "start_time": "2023-03-19T18:01:10.324Z"
   },
   {
    "duration": 5,
    "start_time": "2023-03-19T18:01:10.335Z"
   },
   {
    "duration": 51,
    "start_time": "2023-03-20T07:07:59.529Z"
   },
   {
    "duration": 473,
    "start_time": "2023-03-20T07:18:39.174Z"
   },
   {
    "duration": 107,
    "start_time": "2023-03-20T07:18:39.649Z"
   },
   {
    "duration": 27,
    "start_time": "2023-03-20T07:18:39.759Z"
   },
   {
    "duration": 15,
    "start_time": "2023-03-20T07:18:39.788Z"
   },
   {
    "duration": 30,
    "start_time": "2023-03-20T07:18:39.805Z"
   },
   {
    "duration": 4,
    "start_time": "2023-03-20T07:18:39.836Z"
   },
   {
    "duration": 1391,
    "start_time": "2023-03-20T07:18:39.841Z"
   },
   {
    "duration": 11,
    "start_time": "2023-03-20T07:18:41.234Z"
   },
   {
    "duration": 35,
    "start_time": "2023-03-20T07:18:41.247Z"
   },
   {
    "duration": 9,
    "start_time": "2023-03-20T07:18:41.285Z"
   },
   {
    "duration": 109,
    "start_time": "2023-03-20T07:18:41.296Z"
   },
   {
    "duration": 17,
    "start_time": "2023-03-20T07:18:41.407Z"
   },
   {
    "duration": 27,
    "start_time": "2023-03-20T07:18:41.425Z"
   },
   {
    "duration": 48707,
    "start_time": "2023-03-20T07:18:41.453Z"
   },
   {
    "duration": 25,
    "start_time": "2023-03-20T07:19:30.162Z"
   },
   {
    "duration": 19,
    "start_time": "2023-03-20T07:19:30.189Z"
   },
   {
    "duration": 43,
    "start_time": "2023-03-20T07:19:30.210Z"
   },
   {
    "duration": 113,
    "start_time": "2023-03-20T07:19:30.255Z"
   },
   {
    "duration": 74,
    "start_time": "2023-03-20T07:19:30.370Z"
   },
   {
    "duration": 99,
    "start_time": "2023-03-20T07:19:30.446Z"
   },
   {
    "duration": 67,
    "start_time": "2023-03-20T07:19:30.547Z"
   },
   {
    "duration": 44,
    "start_time": "2023-03-20T07:19:30.616Z"
   },
   {
    "duration": 94,
    "start_time": "2023-03-20T07:19:30.663Z"
   },
   {
    "duration": 76,
    "start_time": "2023-03-20T07:19:30.759Z"
   },
   {
    "duration": 111,
    "start_time": "2023-03-20T07:19:30.836Z"
   },
   {
    "duration": 365,
    "start_time": "2023-03-20T07:19:30.949Z"
   },
   {
    "duration": 57,
    "start_time": "2023-03-20T07:19:31.316Z"
   },
   {
    "duration": 42,
    "start_time": "2023-03-20T07:19:31.378Z"
   },
   {
    "duration": 46,
    "start_time": "2023-03-20T07:19:31.422Z"
   },
   {
    "duration": 60,
    "start_time": "2023-03-20T07:19:31.470Z"
   },
   {
    "duration": 27,
    "start_time": "2023-03-20T07:19:31.532Z"
   },
   {
    "duration": 33,
    "start_time": "2023-03-20T07:19:31.561Z"
   },
   {
    "duration": 35,
    "start_time": "2023-03-20T07:19:31.596Z"
   },
   {
    "duration": 72,
    "start_time": "2023-03-20T07:19:31.632Z"
   },
   {
    "duration": 20,
    "start_time": "2023-03-20T07:19:31.706Z"
   },
   {
    "duration": 61,
    "start_time": "2023-03-20T07:19:31.727Z"
   },
   {
    "duration": 173,
    "start_time": "2023-03-20T07:19:31.791Z"
   },
   {
    "duration": 43,
    "start_time": "2023-03-20T07:19:31.965Z"
   },
   {
    "duration": 75,
    "start_time": "2023-03-20T07:19:32.009Z"
   },
   {
    "duration": 72,
    "start_time": "2023-03-20T07:19:32.086Z"
   },
   {
    "duration": 102,
    "start_time": "2023-03-20T07:19:32.160Z"
   },
   {
    "duration": 57,
    "start_time": "2023-03-20T07:19:32.264Z"
   },
   {
    "duration": 12,
    "start_time": "2023-03-20T07:19:32.323Z"
   },
   {
    "duration": 30,
    "start_time": "2023-03-20T07:19:32.337Z"
   },
   {
    "duration": 217,
    "start_time": "2023-03-20T07:19:32.370Z"
   },
   {
    "duration": 374,
    "start_time": "2023-03-20T07:19:32.589Z"
   },
   {
    "duration": 165,
    "start_time": "2023-03-20T07:19:32.966Z"
   },
   {
    "duration": 160,
    "start_time": "2023-03-20T07:19:33.133Z"
   },
   {
    "duration": 167,
    "start_time": "2023-03-20T07:19:33.295Z"
   },
   {
    "duration": 163,
    "start_time": "2023-03-20T07:19:33.464Z"
   },
   {
    "duration": 184,
    "start_time": "2023-03-20T07:19:33.629Z"
   },
   {
    "duration": 158,
    "start_time": "2023-03-20T07:19:33.815Z"
   },
   {
    "duration": 11,
    "start_time": "2023-03-20T07:19:33.974Z"
   },
   {
    "duration": 16,
    "start_time": "2023-03-20T07:19:33.986Z"
   },
   {
    "duration": 24,
    "start_time": "2023-03-20T07:19:34.003Z"
   },
   {
    "duration": 20,
    "start_time": "2023-03-20T07:19:34.028Z"
   },
   {
    "duration": 53,
    "start_time": "2023-03-20T07:19:34.049Z"
   },
   {
    "duration": 24,
    "start_time": "2023-03-20T07:19:34.104Z"
   },
   {
    "duration": 6,
    "start_time": "2023-03-20T07:19:34.130Z"
   },
   {
    "duration": 715,
    "start_time": "2023-03-20T07:19:34.138Z"
   },
   {
    "duration": 248,
    "start_time": "2023-03-20T07:19:34.856Z"
   },
   {
    "duration": 38,
    "start_time": "2023-03-20T07:19:35.106Z"
   },
   {
    "duration": 199,
    "start_time": "2023-03-20T07:19:35.147Z"
   },
   {
    "duration": 9,
    "start_time": "2023-03-20T07:19:35.347Z"
   },
   {
    "duration": 207,
    "start_time": "2023-03-20T07:19:35.357Z"
   },
   {
    "duration": 18,
    "start_time": "2023-03-20T07:19:35.566Z"
   },
   {
    "duration": 185,
    "start_time": "2023-03-20T07:19:35.586Z"
   },
   {
    "duration": 14,
    "start_time": "2023-03-20T07:19:35.773Z"
   },
   {
    "duration": 242,
    "start_time": "2023-03-20T07:19:35.789Z"
   },
   {
    "duration": 10,
    "start_time": "2023-03-20T07:19:36.034Z"
   },
   {
    "duration": 301,
    "start_time": "2023-03-20T07:19:36.046Z"
   },
   {
    "duration": 9,
    "start_time": "2023-03-20T07:19:36.348Z"
   },
   {
    "duration": 181,
    "start_time": "2023-03-20T07:19:36.359Z"
   },
   {
    "duration": 8,
    "start_time": "2023-03-20T07:19:36.542Z"
   },
   {
    "duration": 238,
    "start_time": "2023-03-20T07:19:36.552Z"
   },
   {
    "duration": 335,
    "start_time": "2023-03-20T07:19:36.792Z"
   },
   {
    "duration": 353,
    "start_time": "2023-03-20T07:19:37.130Z"
   },
   {
    "duration": 29,
    "start_time": "2023-03-20T07:19:37.485Z"
   },
   {
    "duration": 232,
    "start_time": "2023-03-20T07:19:37.515Z"
   },
   {
    "duration": 14,
    "start_time": "2023-03-20T07:19:37.749Z"
   },
   {
    "duration": 27,
    "start_time": "2023-03-20T07:19:37.765Z"
   },
   {
    "duration": 17,
    "start_time": "2023-03-20T07:19:37.798Z"
   },
   {
    "duration": 34,
    "start_time": "2023-03-20T07:19:37.817Z"
   },
   {
    "duration": 303,
    "start_time": "2023-03-20T07:19:37.854Z"
   },
   {
    "duration": 201,
    "start_time": "2023-03-20T07:19:38.159Z"
   },
   {
    "duration": 3,
    "start_time": "2023-03-20T07:19:38.363Z"
   },
   {
    "duration": 20,
    "start_time": "2023-03-20T07:19:38.369Z"
   },
   {
    "duration": 12,
    "start_time": "2023-03-20T07:19:38.391Z"
   },
   {
    "duration": 7,
    "start_time": "2023-03-20T07:19:38.406Z"
   },
   {
    "duration": 7,
    "start_time": "2023-03-20T07:19:38.415Z"
   },
   {
    "duration": 21,
    "start_time": "2023-03-20T07:19:38.427Z"
   },
   {
    "duration": 12,
    "start_time": "2023-03-20T07:19:38.451Z"
   },
   {
    "duration": 8,
    "start_time": "2023-03-20T07:19:38.465Z"
   },
   {
    "duration": 19,
    "start_time": "2023-03-20T07:19:38.475Z"
   },
   {
    "duration": 10,
    "start_time": "2023-03-20T07:19:38.497Z"
   },
   {
    "duration": 12,
    "start_time": "2023-03-20T07:19:38.509Z"
   },
   {
    "duration": 21,
    "start_time": "2023-03-20T07:19:38.523Z"
   },
   {
    "duration": 13,
    "start_time": "2023-03-20T07:19:38.547Z"
   },
   {
    "duration": 290,
    "start_time": "2023-03-20T07:25:16.003Z"
   },
   {
    "duration": 417,
    "start_time": "2023-03-20T07:25:24.901Z"
   },
   {
    "duration": 254,
    "start_time": "2023-03-20T07:25:57.662Z"
   },
   {
    "duration": 216,
    "start_time": "2023-03-20T07:26:30.996Z"
   },
   {
    "duration": 329,
    "start_time": "2023-03-20T07:27:05.006Z"
   },
   {
    "duration": 242,
    "start_time": "2023-03-20T07:27:35.382Z"
   },
   {
    "duration": 392,
    "start_time": "2023-03-20T20:01:28.186Z"
   },
   {
    "duration": 434,
    "start_time": "2023-03-20T20:01:28.580Z"
   },
   {
    "duration": 23,
    "start_time": "2023-03-20T20:01:29.015Z"
   },
   {
    "duration": 13,
    "start_time": "2023-03-20T20:01:29.040Z"
   },
   {
    "duration": 25,
    "start_time": "2023-03-20T20:01:29.055Z"
   },
   {
    "duration": 3,
    "start_time": "2023-03-20T20:01:29.082Z"
   },
   {
    "duration": 1035,
    "start_time": "2023-03-20T20:01:29.087Z"
   },
   {
    "duration": 16,
    "start_time": "2023-03-20T20:01:30.124Z"
   },
   {
    "duration": 14,
    "start_time": "2023-03-20T20:01:30.142Z"
   },
   {
    "duration": 7,
    "start_time": "2023-03-20T20:01:30.158Z"
   },
   {
    "duration": 76,
    "start_time": "2023-03-20T20:01:30.166Z"
   },
   {
    "duration": 13,
    "start_time": "2023-03-20T20:01:30.244Z"
   },
   {
    "duration": 21,
    "start_time": "2023-03-20T20:01:30.259Z"
   },
   {
    "duration": 40019,
    "start_time": "2023-03-20T20:01:30.282Z"
   },
   {
    "duration": 20,
    "start_time": "2023-03-20T20:02:10.302Z"
   },
   {
    "duration": 17,
    "start_time": "2023-03-20T20:02:10.323Z"
   },
   {
    "duration": 6,
    "start_time": "2023-03-20T20:02:10.342Z"
   },
   {
    "duration": 10,
    "start_time": "2023-03-20T20:02:10.350Z"
   },
   {
    "duration": 7,
    "start_time": "2023-03-20T20:02:10.361Z"
   },
   {
    "duration": 5,
    "start_time": "2023-03-20T20:02:10.370Z"
   },
   {
    "duration": 6,
    "start_time": "2023-03-20T20:02:10.376Z"
   },
   {
    "duration": 6,
    "start_time": "2023-03-20T20:02:10.383Z"
   },
   {
    "duration": 18,
    "start_time": "2023-03-20T20:02:10.390Z"
   },
   {
    "duration": 37,
    "start_time": "2023-03-20T20:02:10.410Z"
   },
   {
    "duration": 8,
    "start_time": "2023-03-20T20:02:10.449Z"
   },
   {
    "duration": 4,
    "start_time": "2023-03-20T20:02:10.458Z"
   },
   {
    "duration": 10,
    "start_time": "2023-03-20T20:02:10.465Z"
   },
   {
    "duration": 17,
    "start_time": "2023-03-20T20:02:10.480Z"
   },
   {
    "duration": 42,
    "start_time": "2023-03-20T20:02:10.499Z"
   },
   {
    "duration": 17,
    "start_time": "2023-03-20T20:02:10.543Z"
   },
   {
    "duration": 7,
    "start_time": "2023-03-20T20:02:10.562Z"
   },
   {
    "duration": 6,
    "start_time": "2023-03-20T20:02:10.570Z"
   },
   {
    "duration": 5,
    "start_time": "2023-03-20T20:02:10.577Z"
   },
   {
    "duration": 58,
    "start_time": "2023-03-20T20:02:10.583Z"
   },
   {
    "duration": 5,
    "start_time": "2023-03-20T20:02:10.643Z"
   },
   {
    "duration": 7,
    "start_time": "2023-03-20T20:02:10.650Z"
   },
   {
    "duration": 16,
    "start_time": "2023-03-20T20:02:10.658Z"
   },
   {
    "duration": 6,
    "start_time": "2023-03-20T20:02:10.676Z"
   },
   {
    "duration": 6,
    "start_time": "2023-03-20T20:02:10.683Z"
   },
   {
    "duration": 6,
    "start_time": "2023-03-20T20:02:10.690Z"
   },
   {
    "duration": 43,
    "start_time": "2023-03-20T20:02:10.698Z"
   },
   {
    "duration": 4,
    "start_time": "2023-03-20T20:02:10.742Z"
   },
   {
    "duration": 11,
    "start_time": "2023-03-20T20:02:10.748Z"
   },
   {
    "duration": 17,
    "start_time": "2023-03-20T20:02:10.760Z"
   },
   {
    "duration": 188,
    "start_time": "2023-03-20T20:02:10.779Z"
   },
   {
    "duration": 293,
    "start_time": "2023-03-20T20:02:10.969Z"
   },
   {
    "duration": 151,
    "start_time": "2023-03-20T20:02:11.264Z"
   },
   {
    "duration": 143,
    "start_time": "2023-03-20T20:02:11.417Z"
   },
   {
    "duration": 147,
    "start_time": "2023-03-20T20:02:11.562Z"
   },
   {
    "duration": 153,
    "start_time": "2023-03-20T20:02:11.712Z"
   },
   {
    "duration": 161,
    "start_time": "2023-03-20T20:02:11.866Z"
   },
   {
    "duration": 144,
    "start_time": "2023-03-20T20:02:12.028Z"
   },
   {
    "duration": 6,
    "start_time": "2023-03-20T20:02:12.173Z"
   },
   {
    "duration": 7,
    "start_time": "2023-03-20T20:02:12.181Z"
   },
   {
    "duration": 7,
    "start_time": "2023-03-20T20:02:12.190Z"
   },
   {
    "duration": 6,
    "start_time": "2023-03-20T20:02:12.198Z"
   },
   {
    "duration": 46,
    "start_time": "2023-03-20T20:02:12.206Z"
   },
   {
    "duration": 30,
    "start_time": "2023-03-20T20:02:12.254Z"
   },
   {
    "duration": 9,
    "start_time": "2023-03-20T20:02:12.287Z"
   },
   {
    "duration": 579,
    "start_time": "2023-03-20T20:02:12.299Z"
   },
   {
    "duration": 227,
    "start_time": "2023-03-20T20:02:12.880Z"
   },
   {
    "duration": 40,
    "start_time": "2023-03-20T20:02:13.108Z"
   },
   {
    "duration": 161,
    "start_time": "2023-03-20T20:02:13.150Z"
   },
   {
    "duration": 7,
    "start_time": "2023-03-20T20:02:13.313Z"
   },
   {
    "duration": 159,
    "start_time": "2023-03-20T20:02:13.321Z"
   },
   {
    "duration": 7,
    "start_time": "2023-03-20T20:02:13.482Z"
   },
   {
    "duration": 163,
    "start_time": "2023-03-20T20:02:13.492Z"
   },
   {
    "duration": 6,
    "start_time": "2023-03-20T20:02:13.656Z"
   },
   {
    "duration": 158,
    "start_time": "2023-03-20T20:02:13.664Z"
   },
   {
    "duration": 6,
    "start_time": "2023-03-20T20:02:13.823Z"
   },
   {
    "duration": 226,
    "start_time": "2023-03-20T20:02:13.840Z"
   },
   {
    "duration": 7,
    "start_time": "2023-03-20T20:02:14.068Z"
   },
   {
    "duration": 165,
    "start_time": "2023-03-20T20:02:14.076Z"
   },
   {
    "duration": 7,
    "start_time": "2023-03-20T20:02:14.242Z"
   },
   {
    "duration": 215,
    "start_time": "2023-03-20T20:02:14.251Z"
   },
   {
    "duration": 369,
    "start_time": "2023-03-20T20:02:14.468Z"
   },
   {
    "duration": 338,
    "start_time": "2023-03-20T20:02:14.840Z"
   },
   {
    "duration": 25,
    "start_time": "2023-03-20T20:02:15.180Z"
   },
   {
    "duration": 202,
    "start_time": "2023-03-20T20:02:15.206Z"
   },
   {
    "duration": 12,
    "start_time": "2023-03-20T20:02:15.409Z"
   },
   {
    "duration": 26,
    "start_time": "2023-03-20T20:02:15.422Z"
   },
   {
    "duration": 15,
    "start_time": "2023-03-20T20:02:15.453Z"
   },
   {
    "duration": 45,
    "start_time": "2023-03-20T20:02:15.469Z"
   },
   {
    "duration": 282,
    "start_time": "2023-03-20T20:02:15.515Z"
   },
   {
    "duration": 197,
    "start_time": "2023-03-20T20:02:15.799Z"
   },
   {
    "duration": 4,
    "start_time": "2023-03-20T20:02:15.997Z"
   },
   {
    "duration": 5,
    "start_time": "2023-03-20T20:02:16.003Z"
   },
   {
    "duration": 7,
    "start_time": "2023-03-20T20:02:16.010Z"
   },
   {
    "duration": 26,
    "start_time": "2023-03-20T20:02:16.018Z"
   },
   {
    "duration": 17,
    "start_time": "2023-03-20T20:02:16.046Z"
   },
   {
    "duration": 9,
    "start_time": "2023-03-20T20:02:16.064Z"
   },
   {
    "duration": 8,
    "start_time": "2023-03-20T20:02:16.074Z"
   },
   {
    "duration": 6,
    "start_time": "2023-03-20T20:02:16.083Z"
   },
   {
    "duration": 9,
    "start_time": "2023-03-20T20:02:16.090Z"
   },
   {
    "duration": 10,
    "start_time": "2023-03-20T20:02:16.100Z"
   },
   {
    "duration": 11,
    "start_time": "2023-03-20T20:02:16.111Z"
   },
   {
    "duration": 6,
    "start_time": "2023-03-20T20:02:16.124Z"
   },
   {
    "duration": 4,
    "start_time": "2023-03-20T20:02:16.131Z"
   },
   {
    "duration": 162,
    "start_time": "2023-03-20T20:03:35.119Z"
   },
   {
    "duration": 243,
    "start_time": "2023-03-20T20:03:58.522Z"
   },
   {
    "duration": 45,
    "start_time": "2023-03-20T20:04:30.579Z"
   },
   {
    "duration": 150,
    "start_time": "2023-03-20T20:04:46.049Z"
   },
   {
    "duration": 165,
    "start_time": "2023-03-20T20:05:19.079Z"
   },
   {
    "duration": 155,
    "start_time": "2023-03-20T20:05:42.638Z"
   },
   {
    "duration": 149,
    "start_time": "2023-03-20T20:06:08.089Z"
   },
   {
    "duration": 149,
    "start_time": "2023-03-20T20:06:29.479Z"
   },
   {
    "duration": 151,
    "start_time": "2023-03-20T20:06:39.222Z"
   },
   {
    "duration": 136,
    "start_time": "2023-03-20T20:08:10.919Z"
   },
   {
    "duration": 407,
    "start_time": "2023-03-20T20:08:29.675Z"
   },
   {
    "duration": 50,
    "start_time": "2023-03-20T20:08:30.084Z"
   },
   {
    "duration": 21,
    "start_time": "2023-03-20T20:08:30.135Z"
   },
   {
    "duration": 13,
    "start_time": "2023-03-20T20:08:30.158Z"
   },
   {
    "duration": 26,
    "start_time": "2023-03-20T20:08:30.172Z"
   },
   {
    "duration": 3,
    "start_time": "2023-03-20T20:08:30.199Z"
   },
   {
    "duration": 986,
    "start_time": "2023-03-20T20:08:30.203Z"
   },
   {
    "duration": 9,
    "start_time": "2023-03-20T20:08:31.190Z"
   },
   {
    "duration": 38,
    "start_time": "2023-03-20T20:08:31.200Z"
   },
   {
    "duration": 19,
    "start_time": "2023-03-20T20:08:31.242Z"
   },
   {
    "duration": 27,
    "start_time": "2023-03-20T20:08:31.263Z"
   },
   {
    "duration": 13,
    "start_time": "2023-03-20T20:08:31.292Z"
   },
   {
    "duration": 58,
    "start_time": "2023-03-20T20:08:31.306Z"
   },
   {
    "duration": 40569,
    "start_time": "2023-03-20T20:08:31.365Z"
   },
   {
    "duration": 20,
    "start_time": "2023-03-20T20:09:11.936Z"
   },
   {
    "duration": 4,
    "start_time": "2023-03-20T20:09:11.958Z"
   },
   {
    "duration": 10,
    "start_time": "2023-03-20T20:09:11.963Z"
   },
   {
    "duration": 14,
    "start_time": "2023-03-20T20:09:11.974Z"
   },
   {
    "duration": 6,
    "start_time": "2023-03-20T20:09:11.989Z"
   },
   {
    "duration": 5,
    "start_time": "2023-03-20T20:09:11.997Z"
   },
   {
    "duration": 7,
    "start_time": "2023-03-20T20:09:12.004Z"
   },
   {
    "duration": 7,
    "start_time": "2023-03-20T20:09:12.012Z"
   },
   {
    "duration": 24,
    "start_time": "2023-03-20T20:09:12.020Z"
   },
   {
    "duration": 8,
    "start_time": "2023-03-20T20:09:12.046Z"
   },
   {
    "duration": 7,
    "start_time": "2023-03-20T20:09:12.056Z"
   },
   {
    "duration": 3,
    "start_time": "2023-03-20T20:09:12.065Z"
   },
   {
    "duration": 11,
    "start_time": "2023-03-20T20:09:12.070Z"
   },
   {
    "duration": 13,
    "start_time": "2023-03-20T20:09:12.085Z"
   },
   {
    "duration": 5,
    "start_time": "2023-03-20T20:09:12.099Z"
   },
   {
    "duration": 49,
    "start_time": "2023-03-20T20:09:12.105Z"
   },
   {
    "duration": 5,
    "start_time": "2023-03-20T20:09:12.156Z"
   },
   {
    "duration": 26,
    "start_time": "2023-03-20T20:09:12.162Z"
   },
   {
    "duration": 9,
    "start_time": "2023-03-20T20:09:12.190Z"
   },
   {
    "duration": 24,
    "start_time": "2023-03-20T20:09:12.201Z"
   },
   {
    "duration": 12,
    "start_time": "2023-03-20T20:09:12.226Z"
   },
   {
    "duration": 19,
    "start_time": "2023-03-20T20:09:12.239Z"
   },
   {
    "duration": 22,
    "start_time": "2023-03-20T20:09:12.259Z"
   },
   {
    "duration": 5,
    "start_time": "2023-03-20T20:09:12.282Z"
   },
   {
    "duration": 7,
    "start_time": "2023-03-20T20:09:12.288Z"
   },
   {
    "duration": 9,
    "start_time": "2023-03-20T20:09:12.296Z"
   },
   {
    "duration": 16,
    "start_time": "2023-03-20T20:09:12.306Z"
   },
   {
    "duration": 13,
    "start_time": "2023-03-20T20:09:12.324Z"
   },
   {
    "duration": 6,
    "start_time": "2023-03-20T20:09:12.338Z"
   },
   {
    "duration": 22,
    "start_time": "2023-03-20T20:09:12.346Z"
   },
   {
    "duration": 216,
    "start_time": "2023-03-20T20:09:12.369Z"
   },
   {
    "duration": 272,
    "start_time": "2023-03-20T20:09:12.587Z"
   },
   {
    "duration": 136,
    "start_time": "2023-03-20T20:09:12.860Z"
   },
   {
    "duration": 133,
    "start_time": "2023-03-20T20:09:12.997Z"
   },
   {
    "duration": 138,
    "start_time": "2023-03-20T20:09:13.132Z"
   },
   {
    "duration": 129,
    "start_time": "2023-03-20T20:09:13.271Z"
   },
   {
    "duration": 158,
    "start_time": "2023-03-20T20:09:13.401Z"
   },
   {
    "duration": 136,
    "start_time": "2023-03-20T20:09:13.560Z"
   },
   {
    "duration": 5,
    "start_time": "2023-03-20T20:09:13.697Z"
   },
   {
    "duration": 20,
    "start_time": "2023-03-20T20:09:13.704Z"
   },
   {
    "duration": 33,
    "start_time": "2023-03-20T20:09:13.725Z"
   },
   {
    "duration": 39,
    "start_time": "2023-03-20T20:09:13.759Z"
   },
   {
    "duration": 38,
    "start_time": "2023-03-20T20:09:13.799Z"
   },
   {
    "duration": 15,
    "start_time": "2023-03-20T20:09:13.839Z"
   },
   {
    "duration": 16,
    "start_time": "2023-03-20T20:09:13.855Z"
   },
   {
    "duration": 548,
    "start_time": "2023-03-20T20:09:13.872Z"
   },
   {
    "duration": 227,
    "start_time": "2023-03-20T20:09:14.421Z"
   },
   {
    "duration": 32,
    "start_time": "2023-03-20T20:09:14.649Z"
   },
   {
    "duration": 166,
    "start_time": "2023-03-20T20:09:14.683Z"
   },
   {
    "duration": 6,
    "start_time": "2023-03-20T20:09:14.851Z"
   },
   {
    "duration": 162,
    "start_time": "2023-03-20T20:09:14.859Z"
   },
   {
    "duration": 7,
    "start_time": "2023-03-20T20:09:15.022Z"
   },
   {
    "duration": 152,
    "start_time": "2023-03-20T20:09:15.040Z"
   },
   {
    "duration": 6,
    "start_time": "2023-03-20T20:09:15.194Z"
   },
   {
    "duration": 159,
    "start_time": "2023-03-20T20:09:15.201Z"
   },
   {
    "duration": 7,
    "start_time": "2023-03-20T20:09:15.361Z"
   },
   {
    "duration": 158,
    "start_time": "2023-03-20T20:09:15.369Z"
   },
   {
    "duration": 13,
    "start_time": "2023-03-20T20:09:15.529Z"
   },
   {
    "duration": 218,
    "start_time": "2023-03-20T20:09:15.544Z"
   },
   {
    "duration": 7,
    "start_time": "2023-03-20T20:09:15.763Z"
   },
   {
    "duration": 205,
    "start_time": "2023-03-20T20:09:15.771Z"
   },
   {
    "duration": 316,
    "start_time": "2023-03-20T20:09:15.978Z"
   },
   {
    "duration": 325,
    "start_time": "2023-03-20T20:09:16.297Z"
   },
   {
    "duration": 41,
    "start_time": "2023-03-20T20:09:16.623Z"
   },
   {
    "duration": 224,
    "start_time": "2023-03-20T20:09:16.666Z"
   },
   {
    "duration": 14,
    "start_time": "2023-03-20T20:09:16.891Z"
   },
   {
    "duration": 14,
    "start_time": "2023-03-20T20:09:16.907Z"
   },
   {
    "duration": 13,
    "start_time": "2023-03-20T20:09:16.944Z"
   },
   {
    "duration": 21,
    "start_time": "2023-03-20T20:09:16.959Z"
   },
   {
    "duration": 265,
    "start_time": "2023-03-20T20:09:16.981Z"
   },
   {
    "duration": 198,
    "start_time": "2023-03-20T20:09:17.247Z"
   },
   {
    "duration": 3,
    "start_time": "2023-03-20T20:09:17.447Z"
   },
   {
    "duration": 5,
    "start_time": "2023-03-20T20:09:17.451Z"
   },
   {
    "duration": 3,
    "start_time": "2023-03-20T20:09:17.457Z"
   },
   {
    "duration": 2,
    "start_time": "2023-03-20T20:09:17.462Z"
   },
   {
    "duration": 3,
    "start_time": "2023-03-20T20:09:17.466Z"
   },
   {
    "duration": 3,
    "start_time": "2023-03-20T20:09:17.471Z"
   },
   {
    "duration": 10,
    "start_time": "2023-03-20T20:09:17.476Z"
   },
   {
    "duration": 4,
    "start_time": "2023-03-20T20:09:17.488Z"
   },
   {
    "duration": 4,
    "start_time": "2023-03-20T20:09:17.494Z"
   },
   {
    "duration": 41,
    "start_time": "2023-03-20T20:09:17.499Z"
   },
   {
    "duration": 6,
    "start_time": "2023-03-20T20:09:17.542Z"
   },
   {
    "duration": 4,
    "start_time": "2023-03-20T20:09:17.550Z"
   },
   {
    "duration": 4,
    "start_time": "2023-03-20T20:09:17.555Z"
   }
  ],
  "kernelspec": {
   "display_name": "Python 3 (ipykernel)",
   "language": "python",
   "name": "python3"
  },
  "language_info": {
   "codemirror_mode": {
    "name": "ipython",
    "version": 3
   },
   "file_extension": ".py",
   "mimetype": "text/x-python",
   "name": "python",
   "nbconvert_exporter": "python",
   "pygments_lexer": "ipython3",
   "version": "3.9.5"
  },
  "toc": {
   "base_numbering": 1,
   "nav_menu": {},
   "number_sections": true,
   "sideBar": true,
   "skip_h1_title": true,
   "title_cell": "Table of Contents",
   "title_sidebar": "Contents",
   "toc_cell": false,
   "toc_position": {},
   "toc_section_display": true,
   "toc_window_display": false
  }
 },
 "nbformat": 4,
 "nbformat_minor": 2
}
