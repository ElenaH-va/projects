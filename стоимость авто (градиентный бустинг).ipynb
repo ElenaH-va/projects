{
 "cells": [
  {
   "cell_type": "markdown",
   "metadata": {},
   "source": [
    "# Определение стоимости автомобилей"
   ]
  },
  {
   "cell_type": "markdown",
   "metadata": {},
   "source": [
    "Сервис по продаже автомобилей с пробегом «Не бит, не крашен» разрабатывает приложение для привлечения новых клиентов. В нём можно быстро узнать рыночную стоимость своего автомобиля. В вашем распоряжении исторические данные: технические характеристики, комплектации и цены автомобилей. Вам нужно построить модель для определения стоимости. \n",
    "\n",
    "Заказчику важны:\n",
    "\n",
    "- качество предсказания;\n",
    "- скорость предсказания;\n",
    "- время обучения."
   ]
  },
  {
   "cell_type": "markdown",
   "metadata": {},
   "source": [
    "Признаки:\n",
    "\n",
    "- DateCrawled — дата скачивания анкеты из базы\n",
    "- VehicleType — тип автомобильного кузова\n",
    "- RegistrationYear — год регистрации автомобиля\n",
    "- Gearbox — тип коробки передач\n",
    "- Power — мощность (л. с.)\n",
    "- Model — модель автомобиля\n",
    "- Kilometer — пробег (км)\n",
    "- RegistrationMonth — месяц регистрации автомобиля\n",
    "- FuelType — тип топлива\n",
    "- Brand — марка автомобиля\n",
    "- Repaired — была машина в ремонте или нет\n",
    "- DateCreated — дата создания анкеты\n",
    "- NumberOfPictures — количество фотографий автомобиля\n",
    "- PostalCode — почтовый индекс владельца анкеты (пользователя)\n",
    "- LastSeen — дата последней активности пользователя\n",
    "\n",
    "Целевой признак:\n",
    "\n",
    "- Price — цена (евро)"
   ]
  },
  {
   "cell_type": "markdown",
   "metadata": {},
   "source": [
    "## Подготовка данных"
   ]
  },
  {
   "cell_type": "code",
   "execution_count": 1,
   "metadata": {},
   "outputs": [
    {
     "name": "stdout",
     "output_type": "stream",
     "text": [
      "Collecting scikit-learn==1.1.3\n",
      "  Downloading scikit_learn-1.1.3-cp39-cp39-manylinux_2_17_x86_64.manylinux2014_x86_64.whl (30.8 MB)\n",
      "\u001b[K     |████████████████████████████████| 30.8 MB 33 kB/s  eta 0:00:01\n",
      "\u001b[?25hRequirement already satisfied: numpy>=1.17.3 in /opt/conda/lib/python3.9/site-packages (from scikit-learn==1.1.3) (1.21.1)\n",
      "Requirement already satisfied: joblib>=1.0.0 in /opt/conda/lib/python3.9/site-packages (from scikit-learn==1.1.3) (1.1.0)\n",
      "Requirement already satisfied: scipy>=1.3.2 in /opt/conda/lib/python3.9/site-packages (from scikit-learn==1.1.3) (1.9.1)\n",
      "Requirement already satisfied: threadpoolctl>=2.0.0 in /opt/conda/lib/python3.9/site-packages (from scikit-learn==1.1.3) (3.1.0)\n",
      "Installing collected packages: scikit-learn\n",
      "  Attempting uninstall: scikit-learn\n",
      "    Found existing installation: scikit-learn 0.24.1\n",
      "    Uninstalling scikit-learn-0.24.1:\n",
      "      Successfully uninstalled scikit-learn-0.24.1\n",
      "Successfully installed scikit-learn-1.1.3\n"
     ]
    }
   ],
   "source": [
    "!pip install scikit-learn==1.1.3"
   ]
  },
  {
   "cell_type": "code",
   "execution_count": 59,
   "metadata": {},
   "outputs": [],
   "source": [
    "import pandas as pd\n",
    "import matplotlib.pyplot as plt\n",
    "from sklearn.model_selection import train_test_split\n",
    "from sklearn.impute import SimpleImputer\n",
    "from sklearn.pipeline import make_pipeline, Pipeline, FeatureUnion\n",
    "from sklearn.preprocessing import RobustScaler\n",
    "from sklearn.preprocessing import OneHotEncoder, OrdinalEncoder\n",
    "from sklearn.compose import ColumnTransformer\n",
    "from sklearn.preprocessing import FunctionTransformer\n",
    "from sklearn.linear_model import LinearRegression\n",
    "from catboost import CatBoostRegressor\n",
    "from lightgbm import LGBMRegressor\n",
    "from sklearn.model_selection import GridSearchCV\n",
    "from sklearn.metrics import mean_squared_error\n",
    "from sklearn.compose import make_column_transformer\n",
    "from sklearn.preprocessing import StandardScaler"
   ]
  },
  {
   "cell_type": "code",
   "execution_count": 3,
   "metadata": {},
   "outputs": [],
   "source": [
    "data = pd.read_csv('/datasets/autos.csv')"
   ]
  },
  {
   "cell_type": "code",
   "execution_count": 4,
   "metadata": {},
   "outputs": [
    {
     "data": {
      "text/html": [
       "<div>\n",
       "<style scoped>\n",
       "    .dataframe tbody tr th:only-of-type {\n",
       "        vertical-align: middle;\n",
       "    }\n",
       "\n",
       "    .dataframe tbody tr th {\n",
       "        vertical-align: top;\n",
       "    }\n",
       "\n",
       "    .dataframe thead th {\n",
       "        text-align: right;\n",
       "    }\n",
       "</style>\n",
       "<table border=\"1\" class=\"dataframe\">\n",
       "  <thead>\n",
       "    <tr style=\"text-align: right;\">\n",
       "      <th></th>\n",
       "      <th>DateCrawled</th>\n",
       "      <th>Price</th>\n",
       "      <th>VehicleType</th>\n",
       "      <th>RegistrationYear</th>\n",
       "      <th>Gearbox</th>\n",
       "      <th>Power</th>\n",
       "      <th>Model</th>\n",
       "      <th>Kilometer</th>\n",
       "      <th>RegistrationMonth</th>\n",
       "      <th>FuelType</th>\n",
       "      <th>Brand</th>\n",
       "      <th>Repaired</th>\n",
       "      <th>DateCreated</th>\n",
       "      <th>NumberOfPictures</th>\n",
       "      <th>PostalCode</th>\n",
       "      <th>LastSeen</th>\n",
       "    </tr>\n",
       "  </thead>\n",
       "  <tbody>\n",
       "    <tr>\n",
       "      <th>0</th>\n",
       "      <td>2016-03-24 11:52:17</td>\n",
       "      <td>480</td>\n",
       "      <td>NaN</td>\n",
       "      <td>1993</td>\n",
       "      <td>manual</td>\n",
       "      <td>0</td>\n",
       "      <td>golf</td>\n",
       "      <td>150000</td>\n",
       "      <td>0</td>\n",
       "      <td>petrol</td>\n",
       "      <td>volkswagen</td>\n",
       "      <td>NaN</td>\n",
       "      <td>2016-03-24 00:00:00</td>\n",
       "      <td>0</td>\n",
       "      <td>70435</td>\n",
       "      <td>2016-04-07 03:16:57</td>\n",
       "    </tr>\n",
       "    <tr>\n",
       "      <th>1</th>\n",
       "      <td>2016-03-24 10:58:45</td>\n",
       "      <td>18300</td>\n",
       "      <td>coupe</td>\n",
       "      <td>2011</td>\n",
       "      <td>manual</td>\n",
       "      <td>190</td>\n",
       "      <td>NaN</td>\n",
       "      <td>125000</td>\n",
       "      <td>5</td>\n",
       "      <td>gasoline</td>\n",
       "      <td>audi</td>\n",
       "      <td>yes</td>\n",
       "      <td>2016-03-24 00:00:00</td>\n",
       "      <td>0</td>\n",
       "      <td>66954</td>\n",
       "      <td>2016-04-07 01:46:50</td>\n",
       "    </tr>\n",
       "    <tr>\n",
       "      <th>2</th>\n",
       "      <td>2016-03-14 12:52:21</td>\n",
       "      <td>9800</td>\n",
       "      <td>suv</td>\n",
       "      <td>2004</td>\n",
       "      <td>auto</td>\n",
       "      <td>163</td>\n",
       "      <td>grand</td>\n",
       "      <td>125000</td>\n",
       "      <td>8</td>\n",
       "      <td>gasoline</td>\n",
       "      <td>jeep</td>\n",
       "      <td>NaN</td>\n",
       "      <td>2016-03-14 00:00:00</td>\n",
       "      <td>0</td>\n",
       "      <td>90480</td>\n",
       "      <td>2016-04-05 12:47:46</td>\n",
       "    </tr>\n",
       "    <tr>\n",
       "      <th>3</th>\n",
       "      <td>2016-03-17 16:54:04</td>\n",
       "      <td>1500</td>\n",
       "      <td>small</td>\n",
       "      <td>2001</td>\n",
       "      <td>manual</td>\n",
       "      <td>75</td>\n",
       "      <td>golf</td>\n",
       "      <td>150000</td>\n",
       "      <td>6</td>\n",
       "      <td>petrol</td>\n",
       "      <td>volkswagen</td>\n",
       "      <td>no</td>\n",
       "      <td>2016-03-17 00:00:00</td>\n",
       "      <td>0</td>\n",
       "      <td>91074</td>\n",
       "      <td>2016-03-17 17:40:17</td>\n",
       "    </tr>\n",
       "    <tr>\n",
       "      <th>4</th>\n",
       "      <td>2016-03-31 17:25:20</td>\n",
       "      <td>3600</td>\n",
       "      <td>small</td>\n",
       "      <td>2008</td>\n",
       "      <td>manual</td>\n",
       "      <td>69</td>\n",
       "      <td>fabia</td>\n",
       "      <td>90000</td>\n",
       "      <td>7</td>\n",
       "      <td>gasoline</td>\n",
       "      <td>skoda</td>\n",
       "      <td>no</td>\n",
       "      <td>2016-03-31 00:00:00</td>\n",
       "      <td>0</td>\n",
       "      <td>60437</td>\n",
       "      <td>2016-04-06 10:17:21</td>\n",
       "    </tr>\n",
       "  </tbody>\n",
       "</table>\n",
       "</div>"
      ],
      "text/plain": [
       "           DateCrawled  Price VehicleType  RegistrationYear Gearbox  Power  \\\n",
       "0  2016-03-24 11:52:17    480         NaN              1993  manual      0   \n",
       "1  2016-03-24 10:58:45  18300       coupe              2011  manual    190   \n",
       "2  2016-03-14 12:52:21   9800         suv              2004    auto    163   \n",
       "3  2016-03-17 16:54:04   1500       small              2001  manual     75   \n",
       "4  2016-03-31 17:25:20   3600       small              2008  manual     69   \n",
       "\n",
       "   Model  Kilometer  RegistrationMonth  FuelType       Brand Repaired  \\\n",
       "0   golf     150000                  0    petrol  volkswagen      NaN   \n",
       "1    NaN     125000                  5  gasoline        audi      yes   \n",
       "2  grand     125000                  8  gasoline        jeep      NaN   \n",
       "3   golf     150000                  6    petrol  volkswagen       no   \n",
       "4  fabia      90000                  7  gasoline       skoda       no   \n",
       "\n",
       "           DateCreated  NumberOfPictures  PostalCode             LastSeen  \n",
       "0  2016-03-24 00:00:00                 0       70435  2016-04-07 03:16:57  \n",
       "1  2016-03-24 00:00:00                 0       66954  2016-04-07 01:46:50  \n",
       "2  2016-03-14 00:00:00                 0       90480  2016-04-05 12:47:46  \n",
       "3  2016-03-17 00:00:00                 0       91074  2016-03-17 17:40:17  \n",
       "4  2016-03-31 00:00:00                 0       60437  2016-04-06 10:17:21  "
      ]
     },
     "execution_count": 4,
     "metadata": {},
     "output_type": "execute_result"
    }
   ],
   "source": [
    "data.head()"
   ]
  },
  {
   "cell_type": "code",
   "execution_count": 5,
   "metadata": {},
   "outputs": [
    {
     "name": "stdout",
     "output_type": "stream",
     "text": [
      "<class 'pandas.core.frame.DataFrame'>\n",
      "RangeIndex: 354369 entries, 0 to 354368\n",
      "Data columns (total 16 columns):\n",
      " #   Column             Non-Null Count   Dtype \n",
      "---  ------             --------------   ----- \n",
      " 0   DateCrawled        354369 non-null  object\n",
      " 1   Price              354369 non-null  int64 \n",
      " 2   VehicleType        316879 non-null  object\n",
      " 3   RegistrationYear   354369 non-null  int64 \n",
      " 4   Gearbox            334536 non-null  object\n",
      " 5   Power              354369 non-null  int64 \n",
      " 6   Model              334664 non-null  object\n",
      " 7   Kilometer          354369 non-null  int64 \n",
      " 8   RegistrationMonth  354369 non-null  int64 \n",
      " 9   FuelType           321474 non-null  object\n",
      " 10  Brand              354369 non-null  object\n",
      " 11  Repaired           283215 non-null  object\n",
      " 12  DateCreated        354369 non-null  object\n",
      " 13  NumberOfPictures   354369 non-null  int64 \n",
      " 14  PostalCode         354369 non-null  int64 \n",
      " 15  LastSeen           354369 non-null  object\n",
      "dtypes: int64(7), object(9)\n",
      "memory usage: 43.3+ MB\n"
     ]
    }
   ],
   "source": [
    "data.info()"
   ]
  },
  {
   "cell_type": "code",
   "execution_count": 6,
   "metadata": {},
   "outputs": [
    {
     "data": {
      "text/plain": [
       "'Дубликатов в данных:'"
      ]
     },
     "metadata": {},
     "output_type": "display_data"
    },
    {
     "data": {
      "text/plain": [
       "4"
      ]
     },
     "metadata": {},
     "output_type": "display_data"
    }
   ],
   "source": [
    "display('Дубликатов в данных:', data.duplicated().sum())"
   ]
  },
  {
   "cell_type": "code",
   "execution_count": 7,
   "metadata": {},
   "outputs": [],
   "source": [
    "# удалим дубликаты\n",
    "data = data.drop_duplicates(keep='first')"
   ]
  },
  {
   "cell_type": "code",
   "execution_count": 8,
   "metadata": {},
   "outputs": [],
   "source": [
    "# обработка столбца с датой создания анкеты\n",
    "data['DateCreated'] = pd.to_datetime(data['DateCreated'], format='%Y-%m-%d %H:%M:%S')"
   ]
  },
  {
   "cell_type": "code",
   "execution_count": 9,
   "metadata": {},
   "outputs": [
    {
     "data": {
      "text/plain": [
       "array([2016, 2015, 2014])"
      ]
     },
     "execution_count": 9,
     "metadata": {},
     "output_type": "execute_result"
    }
   ],
   "source": [
    "# посмотрим на года публикации объявлений\n",
    "data['DateCreated'].dt.year.unique()"
   ]
  },
  {
   "cell_type": "code",
   "execution_count": 10,
   "metadata": {},
   "outputs": [
    {
     "data": {
      "text/html": [
       "<div>\n",
       "<style scoped>\n",
       "    .dataframe tbody tr th:only-of-type {\n",
       "        vertical-align: middle;\n",
       "    }\n",
       "\n",
       "    .dataframe tbody tr th {\n",
       "        vertical-align: top;\n",
       "    }\n",
       "\n",
       "    .dataframe thead th {\n",
       "        text-align: right;\n",
       "    }\n",
       "</style>\n",
       "<table border=\"1\" class=\"dataframe\">\n",
       "  <thead>\n",
       "    <tr style=\"text-align: right;\">\n",
       "      <th></th>\n",
       "      <th>Price</th>\n",
       "      <th>VehicleType</th>\n",
       "      <th>RegistrationYear</th>\n",
       "      <th>Gearbox</th>\n",
       "      <th>Power</th>\n",
       "      <th>Model</th>\n",
       "      <th>Kilometer</th>\n",
       "      <th>FuelType</th>\n",
       "      <th>Brand</th>\n",
       "      <th>Repaired</th>\n",
       "    </tr>\n",
       "  </thead>\n",
       "  <tbody>\n",
       "    <tr>\n",
       "      <th>0</th>\n",
       "      <td>480</td>\n",
       "      <td>NaN</td>\n",
       "      <td>1993</td>\n",
       "      <td>manual</td>\n",
       "      <td>0</td>\n",
       "      <td>golf</td>\n",
       "      <td>150000</td>\n",
       "      <td>petrol</td>\n",
       "      <td>volkswagen</td>\n",
       "      <td>NaN</td>\n",
       "    </tr>\n",
       "    <tr>\n",
       "      <th>1</th>\n",
       "      <td>18300</td>\n",
       "      <td>coupe</td>\n",
       "      <td>2011</td>\n",
       "      <td>manual</td>\n",
       "      <td>190</td>\n",
       "      <td>NaN</td>\n",
       "      <td>125000</td>\n",
       "      <td>gasoline</td>\n",
       "      <td>audi</td>\n",
       "      <td>yes</td>\n",
       "    </tr>\n",
       "    <tr>\n",
       "      <th>2</th>\n",
       "      <td>9800</td>\n",
       "      <td>suv</td>\n",
       "      <td>2004</td>\n",
       "      <td>auto</td>\n",
       "      <td>163</td>\n",
       "      <td>grand</td>\n",
       "      <td>125000</td>\n",
       "      <td>gasoline</td>\n",
       "      <td>jeep</td>\n",
       "      <td>NaN</td>\n",
       "    </tr>\n",
       "    <tr>\n",
       "      <th>3</th>\n",
       "      <td>1500</td>\n",
       "      <td>small</td>\n",
       "      <td>2001</td>\n",
       "      <td>manual</td>\n",
       "      <td>75</td>\n",
       "      <td>golf</td>\n",
       "      <td>150000</td>\n",
       "      <td>petrol</td>\n",
       "      <td>volkswagen</td>\n",
       "      <td>no</td>\n",
       "    </tr>\n",
       "    <tr>\n",
       "      <th>4</th>\n",
       "      <td>3600</td>\n",
       "      <td>small</td>\n",
       "      <td>2008</td>\n",
       "      <td>manual</td>\n",
       "      <td>69</td>\n",
       "      <td>fabia</td>\n",
       "      <td>90000</td>\n",
       "      <td>gasoline</td>\n",
       "      <td>skoda</td>\n",
       "      <td>no</td>\n",
       "    </tr>\n",
       "    <tr>\n",
       "      <th>...</th>\n",
       "      <td>...</td>\n",
       "      <td>...</td>\n",
       "      <td>...</td>\n",
       "      <td>...</td>\n",
       "      <td>...</td>\n",
       "      <td>...</td>\n",
       "      <td>...</td>\n",
       "      <td>...</td>\n",
       "      <td>...</td>\n",
       "      <td>...</td>\n",
       "    </tr>\n",
       "    <tr>\n",
       "      <th>354364</th>\n",
       "      <td>0</td>\n",
       "      <td>NaN</td>\n",
       "      <td>2005</td>\n",
       "      <td>manual</td>\n",
       "      <td>0</td>\n",
       "      <td>colt</td>\n",
       "      <td>150000</td>\n",
       "      <td>petrol</td>\n",
       "      <td>mitsubishi</td>\n",
       "      <td>yes</td>\n",
       "    </tr>\n",
       "    <tr>\n",
       "      <th>354365</th>\n",
       "      <td>2200</td>\n",
       "      <td>NaN</td>\n",
       "      <td>2005</td>\n",
       "      <td>NaN</td>\n",
       "      <td>0</td>\n",
       "      <td>NaN</td>\n",
       "      <td>20000</td>\n",
       "      <td>NaN</td>\n",
       "      <td>sonstige_autos</td>\n",
       "      <td>NaN</td>\n",
       "    </tr>\n",
       "    <tr>\n",
       "      <th>354366</th>\n",
       "      <td>1199</td>\n",
       "      <td>convertible</td>\n",
       "      <td>2000</td>\n",
       "      <td>auto</td>\n",
       "      <td>101</td>\n",
       "      <td>fortwo</td>\n",
       "      <td>125000</td>\n",
       "      <td>petrol</td>\n",
       "      <td>smart</td>\n",
       "      <td>no</td>\n",
       "    </tr>\n",
       "    <tr>\n",
       "      <th>354367</th>\n",
       "      <td>9200</td>\n",
       "      <td>bus</td>\n",
       "      <td>1996</td>\n",
       "      <td>manual</td>\n",
       "      <td>102</td>\n",
       "      <td>transporter</td>\n",
       "      <td>150000</td>\n",
       "      <td>gasoline</td>\n",
       "      <td>volkswagen</td>\n",
       "      <td>no</td>\n",
       "    </tr>\n",
       "    <tr>\n",
       "      <th>354368</th>\n",
       "      <td>3400</td>\n",
       "      <td>wagon</td>\n",
       "      <td>2002</td>\n",
       "      <td>manual</td>\n",
       "      <td>100</td>\n",
       "      <td>golf</td>\n",
       "      <td>150000</td>\n",
       "      <td>gasoline</td>\n",
       "      <td>volkswagen</td>\n",
       "      <td>NaN</td>\n",
       "    </tr>\n",
       "  </tbody>\n",
       "</table>\n",
       "<p>354365 rows × 10 columns</p>\n",
       "</div>"
      ],
      "text/plain": [
       "        Price  VehicleType  RegistrationYear Gearbox  Power        Model  \\\n",
       "0         480          NaN              1993  manual      0         golf   \n",
       "1       18300        coupe              2011  manual    190          NaN   \n",
       "2        9800          suv              2004    auto    163        grand   \n",
       "3        1500        small              2001  manual     75         golf   \n",
       "4        3600        small              2008  manual     69        fabia   \n",
       "...       ...          ...               ...     ...    ...          ...   \n",
       "354364      0          NaN              2005  manual      0         colt   \n",
       "354365   2200          NaN              2005     NaN      0          NaN   \n",
       "354366   1199  convertible              2000    auto    101       fortwo   \n",
       "354367   9200          bus              1996  manual    102  transporter   \n",
       "354368   3400        wagon              2002  manual    100         golf   \n",
       "\n",
       "        Kilometer  FuelType           Brand Repaired  \n",
       "0          150000    petrol      volkswagen      NaN  \n",
       "1          125000  gasoline            audi      yes  \n",
       "2          125000  gasoline            jeep      NaN  \n",
       "3          150000    petrol      volkswagen       no  \n",
       "4           90000  gasoline           skoda       no  \n",
       "...           ...       ...             ...      ...  \n",
       "354364     150000    petrol      mitsubishi      yes  \n",
       "354365      20000       NaN  sonstige_autos      NaN  \n",
       "354366     125000    petrol           smart       no  \n",
       "354367     150000  gasoline      volkswagen       no  \n",
       "354368     150000  gasoline      volkswagen      NaN  \n",
       "\n",
       "[354365 rows x 10 columns]"
      ]
     },
     "execution_count": 10,
     "metadata": {},
     "output_type": "execute_result"
    }
   ],
   "source": [
    "# удалим столбцы, которые не играют роли в определении цены автомобиля\n",
    "data = data.drop(['DateCrawled', 'DateCreated', 'NumberOfPictures', 'LastSeen', 'PostalCode', 'RegistrationMonth'], axis=1)\n",
    "data"
   ]
  },
  {
   "cell_type": "code",
   "execution_count": 11,
   "metadata": {},
   "outputs": [
    {
     "data": {
      "text/plain": [
       "array([[<AxesSubplot:title={'center':'Price'}>,\n",
       "        <AxesSubplot:title={'center':'RegistrationYear'}>],\n",
       "       [<AxesSubplot:title={'center':'Power'}>,\n",
       "        <AxesSubplot:title={'center':'Kilometer'}>]], dtype=object)"
      ]
     },
     "execution_count": 11,
     "metadata": {},
     "output_type": "execute_result"
    },
    {
     "data": {
      "image/png": "[encoded data removed]",
      "text/plain": [
       "<Figure size 720x720 with 4 Axes>"
      ]
     },
     "metadata": {
      "needs_background": "light"
     },
     "output_type": "display_data"
    }
   ],
   "source": [
    "data.hist(figsize=(10, 10))"
   ]
  },
  {
   "cell_type": "code",
   "execution_count": 12,
   "metadata": {},
   "outputs": [
    {
     "data": {
      "text/html": [
       "<div>\n",
       "<style scoped>\n",
       "    .dataframe tbody tr th:only-of-type {\n",
       "        vertical-align: middle;\n",
       "    }\n",
       "\n",
       "    .dataframe tbody tr th {\n",
       "        vertical-align: top;\n",
       "    }\n",
       "\n",
       "    .dataframe thead th {\n",
       "        text-align: right;\n",
       "    }\n",
       "</style>\n",
       "<table border=\"1\" class=\"dataframe\">\n",
       "  <thead>\n",
       "    <tr style=\"text-align: right;\">\n",
       "      <th></th>\n",
       "      <th>Price</th>\n",
       "      <th>VehicleType</th>\n",
       "      <th>RegistrationYear</th>\n",
       "      <th>Gearbox</th>\n",
       "      <th>Power</th>\n",
       "      <th>Model</th>\n",
       "      <th>Kilometer</th>\n",
       "      <th>FuelType</th>\n",
       "      <th>Brand</th>\n",
       "      <th>Repaired</th>\n",
       "    </tr>\n",
       "  </thead>\n",
       "  <tbody>\n",
       "    <tr>\n",
       "      <th>count</th>\n",
       "      <td>354365.000000</td>\n",
       "      <td>316875</td>\n",
       "      <td>354365.000000</td>\n",
       "      <td>334532</td>\n",
       "      <td>354365.000000</td>\n",
       "      <td>334660</td>\n",
       "      <td>354365.000000</td>\n",
       "      <td>321470</td>\n",
       "      <td>354365</td>\n",
       "      <td>283211</td>\n",
       "    </tr>\n",
       "    <tr>\n",
       "      <th>unique</th>\n",
       "      <td>NaN</td>\n",
       "      <td>8</td>\n",
       "      <td>NaN</td>\n",
       "      <td>2</td>\n",
       "      <td>NaN</td>\n",
       "      <td>250</td>\n",
       "      <td>NaN</td>\n",
       "      <td>7</td>\n",
       "      <td>40</td>\n",
       "      <td>2</td>\n",
       "    </tr>\n",
       "    <tr>\n",
       "      <th>top</th>\n",
       "      <td>NaN</td>\n",
       "      <td>sedan</td>\n",
       "      <td>NaN</td>\n",
       "      <td>manual</td>\n",
       "      <td>NaN</td>\n",
       "      <td>golf</td>\n",
       "      <td>NaN</td>\n",
       "      <td>petrol</td>\n",
       "      <td>volkswagen</td>\n",
       "      <td>no</td>\n",
       "    </tr>\n",
       "    <tr>\n",
       "      <th>freq</th>\n",
       "      <td>NaN</td>\n",
       "      <td>91457</td>\n",
       "      <td>NaN</td>\n",
       "      <td>268249</td>\n",
       "      <td>NaN</td>\n",
       "      <td>29232</td>\n",
       "      <td>NaN</td>\n",
       "      <td>216349</td>\n",
       "      <td>77012</td>\n",
       "      <td>247158</td>\n",
       "    </tr>\n",
       "    <tr>\n",
       "      <th>mean</th>\n",
       "      <td>4416.679830</td>\n",
       "      <td>NaN</td>\n",
       "      <td>2004.234481</td>\n",
       "      <td>NaN</td>\n",
       "      <td>110.093816</td>\n",
       "      <td>NaN</td>\n",
       "      <td>128211.363989</td>\n",
       "      <td>NaN</td>\n",
       "      <td>NaN</td>\n",
       "      <td>NaN</td>\n",
       "    </tr>\n",
       "    <tr>\n",
       "      <th>std</th>\n",
       "      <td>4514.176349</td>\n",
       "      <td>NaN</td>\n",
       "      <td>90.228466</td>\n",
       "      <td>NaN</td>\n",
       "      <td>189.851330</td>\n",
       "      <td>NaN</td>\n",
       "      <td>37905.083858</td>\n",
       "      <td>NaN</td>\n",
       "      <td>NaN</td>\n",
       "      <td>NaN</td>\n",
       "    </tr>\n",
       "    <tr>\n",
       "      <th>min</th>\n",
       "      <td>0.000000</td>\n",
       "      <td>NaN</td>\n",
       "      <td>1000.000000</td>\n",
       "      <td>NaN</td>\n",
       "      <td>0.000000</td>\n",
       "      <td>NaN</td>\n",
       "      <td>5000.000000</td>\n",
       "      <td>NaN</td>\n",
       "      <td>NaN</td>\n",
       "      <td>NaN</td>\n",
       "    </tr>\n",
       "    <tr>\n",
       "      <th>25%</th>\n",
       "      <td>1050.000000</td>\n",
       "      <td>NaN</td>\n",
       "      <td>1999.000000</td>\n",
       "      <td>NaN</td>\n",
       "      <td>69.000000</td>\n",
       "      <td>NaN</td>\n",
       "      <td>125000.000000</td>\n",
       "      <td>NaN</td>\n",
       "      <td>NaN</td>\n",
       "      <td>NaN</td>\n",
       "    </tr>\n",
       "    <tr>\n",
       "      <th>50%</th>\n",
       "      <td>2700.000000</td>\n",
       "      <td>NaN</td>\n",
       "      <td>2003.000000</td>\n",
       "      <td>NaN</td>\n",
       "      <td>105.000000</td>\n",
       "      <td>NaN</td>\n",
       "      <td>150000.000000</td>\n",
       "      <td>NaN</td>\n",
       "      <td>NaN</td>\n",
       "      <td>NaN</td>\n",
       "    </tr>\n",
       "    <tr>\n",
       "      <th>75%</th>\n",
       "      <td>6400.000000</td>\n",
       "      <td>NaN</td>\n",
       "      <td>2008.000000</td>\n",
       "      <td>NaN</td>\n",
       "      <td>143.000000</td>\n",
       "      <td>NaN</td>\n",
       "      <td>150000.000000</td>\n",
       "      <td>NaN</td>\n",
       "      <td>NaN</td>\n",
       "      <td>NaN</td>\n",
       "    </tr>\n",
       "    <tr>\n",
       "      <th>max</th>\n",
       "      <td>20000.000000</td>\n",
       "      <td>NaN</td>\n",
       "      <td>9999.000000</td>\n",
       "      <td>NaN</td>\n",
       "      <td>20000.000000</td>\n",
       "      <td>NaN</td>\n",
       "      <td>150000.000000</td>\n",
       "      <td>NaN</td>\n",
       "      <td>NaN</td>\n",
       "      <td>NaN</td>\n",
       "    </tr>\n",
       "  </tbody>\n",
       "</table>\n",
       "</div>"
      ],
      "text/plain": [
       "                Price VehicleType  RegistrationYear Gearbox          Power  \\\n",
       "count   354365.000000      316875     354365.000000  334532  354365.000000   \n",
       "unique            NaN           8               NaN       2            NaN   \n",
       "top               NaN       sedan               NaN  manual            NaN   \n",
       "freq              NaN       91457               NaN  268249            NaN   \n",
       "mean      4416.679830         NaN       2004.234481     NaN     110.093816   \n",
       "std       4514.176349         NaN         90.228466     NaN     189.851330   \n",
       "min          0.000000         NaN       1000.000000     NaN       0.000000   \n",
       "25%       1050.000000         NaN       1999.000000     NaN      69.000000   \n",
       "50%       2700.000000         NaN       2003.000000     NaN     105.000000   \n",
       "75%       6400.000000         NaN       2008.000000     NaN     143.000000   \n",
       "max      20000.000000         NaN       9999.000000     NaN   20000.000000   \n",
       "\n",
       "         Model      Kilometer FuelType       Brand Repaired  \n",
       "count   334660  354365.000000   321470      354365   283211  \n",
       "unique     250            NaN        7          40        2  \n",
       "top       golf            NaN   petrol  volkswagen       no  \n",
       "freq     29232            NaN   216349       77012   247158  \n",
       "mean       NaN  128211.363989      NaN         NaN      NaN  \n",
       "std        NaN   37905.083858      NaN         NaN      NaN  \n",
       "min        NaN    5000.000000      NaN         NaN      NaN  \n",
       "25%        NaN  125000.000000      NaN         NaN      NaN  \n",
       "50%        NaN  150000.000000      NaN         NaN      NaN  \n",
       "75%        NaN  150000.000000      NaN         NaN      NaN  \n",
       "max        NaN  150000.000000      NaN         NaN      NaN  "
      ]
     },
     "execution_count": 12,
     "metadata": {},
     "output_type": "execute_result"
    }
   ],
   "source": [
    "data.describe(include='all')"
   ]
  },
  {
   "cell_type": "code",
   "execution_count": 13,
   "metadata": {},
   "outputs": [
    {
     "data": {
      "text/plain": [
       "Price                   0\n",
       "VehicleType         37490\n",
       "RegistrationYear        0\n",
       "Gearbox             19833\n",
       "Power                   0\n",
       "Model               19705\n",
       "Kilometer               0\n",
       "FuelType            32895\n",
       "Brand                   0\n",
       "Repaired            71154\n",
       "dtype: int64"
      ]
     },
     "execution_count": 13,
     "metadata": {},
     "output_type": "execute_result"
    }
   ],
   "source": [
    "# посмотрим на пропуски в данных\n",
    "data.isna().sum()"
   ]
  },
  {
   "cell_type": "code",
   "execution_count": 14,
   "metadata": {},
   "outputs": [
    {
     "data": {
      "text/plain": [
       "no     247158\n",
       "yes     36053\n",
       "Name: Repaired, dtype: int64"
      ]
     },
     "execution_count": 14,
     "metadata": {},
     "output_type": "execute_result"
    }
   ],
   "source": [
    "# посмотрим на уникальные значения и их количество по ремонту авто\n",
    "data['Repaired'].value_counts()"
   ]
  },
  {
   "cell_type": "code",
   "execution_count": 15,
   "metadata": {},
   "outputs": [
    {
     "data": {
      "text/plain": [
       "<AxesSubplot:title={'center':'Цена автомобиля в зависимости от года выпуска'}, xlabel='Price', ylabel='RegistrationYear'>"
      ]
     },
     "execution_count": 15,
     "metadata": {},
     "output_type": "execute_result"
    },
    {
     "data": {
      "image/png": "[encoded data removed]",
      "text/plain": [
       "<Figure size 720x432 with 1 Axes>"
      ]
     },
     "metadata": {
      "needs_background": "light"
     },
     "output_type": "display_data"
    }
   ],
   "source": [
    "# посмотрим на выбросы по году автомобиля\n",
    "data.plot(\n",
    "    x='Price', \n",
    "    y='RegistrationYear', \n",
    "    kind='scatter', figsize=(10,6), \n",
    "    ylim=(2016, 10000), \n",
    "    title='Цена автомобиля в зависимости от года выпуска', \n",
    "    alpha=0.98, \n",
    "    grid=True\n",
    ")"
   ]
  },
  {
   "cell_type": "code",
   "execution_count": 16,
   "metadata": {},
   "outputs": [
    {
     "data": {
      "text/html": [
       "<div>\n",
       "<style scoped>\n",
       "    .dataframe tbody tr th:only-of-type {\n",
       "        vertical-align: middle;\n",
       "    }\n",
       "\n",
       "    .dataframe tbody tr th {\n",
       "        vertical-align: top;\n",
       "    }\n",
       "\n",
       "    .dataframe thead th {\n",
       "        text-align: right;\n",
       "    }\n",
       "</style>\n",
       "<table border=\"1\" class=\"dataframe\">\n",
       "  <thead>\n",
       "    <tr style=\"text-align: right;\">\n",
       "      <th></th>\n",
       "      <th>Price</th>\n",
       "      <th>VehicleType</th>\n",
       "      <th>RegistrationYear</th>\n",
       "      <th>Gearbox</th>\n",
       "      <th>Power</th>\n",
       "      <th>Model</th>\n",
       "      <th>Kilometer</th>\n",
       "      <th>FuelType</th>\n",
       "      <th>Brand</th>\n",
       "      <th>Repaired</th>\n",
       "    </tr>\n",
       "  </thead>\n",
       "  <tbody>\n",
       "    <tr>\n",
       "      <th>7</th>\n",
       "      <td>0</td>\n",
       "      <td>sedan</td>\n",
       "      <td>1980</td>\n",
       "      <td>manual</td>\n",
       "      <td>50</td>\n",
       "      <td>other</td>\n",
       "      <td>40000</td>\n",
       "      <td>petrol</td>\n",
       "      <td>volkswagen</td>\n",
       "      <td>no</td>\n",
       "    </tr>\n",
       "    <tr>\n",
       "      <th>40</th>\n",
       "      <td>0</td>\n",
       "      <td>NaN</td>\n",
       "      <td>1990</td>\n",
       "      <td>NaN</td>\n",
       "      <td>0</td>\n",
       "      <td>corsa</td>\n",
       "      <td>150000</td>\n",
       "      <td>petrol</td>\n",
       "      <td>opel</td>\n",
       "      <td>NaN</td>\n",
       "    </tr>\n",
       "    <tr>\n",
       "      <th>59</th>\n",
       "      <td>1</td>\n",
       "      <td>suv</td>\n",
       "      <td>1994</td>\n",
       "      <td>manual</td>\n",
       "      <td>286</td>\n",
       "      <td>NaN</td>\n",
       "      <td>150000</td>\n",
       "      <td>NaN</td>\n",
       "      <td>sonstige_autos</td>\n",
       "      <td>NaN</td>\n",
       "    </tr>\n",
       "    <tr>\n",
       "      <th>89</th>\n",
       "      <td>1</td>\n",
       "      <td>sedan</td>\n",
       "      <td>1995</td>\n",
       "      <td>manual</td>\n",
       "      <td>113</td>\n",
       "      <td>e_klasse</td>\n",
       "      <td>150000</td>\n",
       "      <td>gasoline</td>\n",
       "      <td>mercedes_benz</td>\n",
       "      <td>no</td>\n",
       "    </tr>\n",
       "    <tr>\n",
       "      <th>111</th>\n",
       "      <td>0</td>\n",
       "      <td>NaN</td>\n",
       "      <td>2017</td>\n",
       "      <td>manual</td>\n",
       "      <td>0</td>\n",
       "      <td>golf</td>\n",
       "      <td>5000</td>\n",
       "      <td>petrol</td>\n",
       "      <td>volkswagen</td>\n",
       "      <td>NaN</td>\n",
       "    </tr>\n",
       "    <tr>\n",
       "      <th>...</th>\n",
       "      <td>...</td>\n",
       "      <td>...</td>\n",
       "      <td>...</td>\n",
       "      <td>...</td>\n",
       "      <td>...</td>\n",
       "      <td>...</td>\n",
       "      <td>...</td>\n",
       "      <td>...</td>\n",
       "      <td>...</td>\n",
       "      <td>...</td>\n",
       "    </tr>\n",
       "    <tr>\n",
       "      <th>354238</th>\n",
       "      <td>0</td>\n",
       "      <td>small</td>\n",
       "      <td>2002</td>\n",
       "      <td>manual</td>\n",
       "      <td>60</td>\n",
       "      <td>fiesta</td>\n",
       "      <td>150000</td>\n",
       "      <td>petrol</td>\n",
       "      <td>ford</td>\n",
       "      <td>NaN</td>\n",
       "    </tr>\n",
       "    <tr>\n",
       "      <th>354248</th>\n",
       "      <td>0</td>\n",
       "      <td>small</td>\n",
       "      <td>1999</td>\n",
       "      <td>manual</td>\n",
       "      <td>53</td>\n",
       "      <td>swift</td>\n",
       "      <td>150000</td>\n",
       "      <td>petrol</td>\n",
       "      <td>suzuki</td>\n",
       "      <td>NaN</td>\n",
       "    </tr>\n",
       "    <tr>\n",
       "      <th>354277</th>\n",
       "      <td>0</td>\n",
       "      <td>small</td>\n",
       "      <td>1999</td>\n",
       "      <td>manual</td>\n",
       "      <td>37</td>\n",
       "      <td>arosa</td>\n",
       "      <td>150000</td>\n",
       "      <td>petrol</td>\n",
       "      <td>seat</td>\n",
       "      <td>yes</td>\n",
       "    </tr>\n",
       "    <tr>\n",
       "      <th>354309</th>\n",
       "      <td>99</td>\n",
       "      <td>small</td>\n",
       "      <td>1999</td>\n",
       "      <td>manual</td>\n",
       "      <td>60</td>\n",
       "      <td>arosa</td>\n",
       "      <td>150000</td>\n",
       "      <td>petrol</td>\n",
       "      <td>seat</td>\n",
       "      <td>yes</td>\n",
       "    </tr>\n",
       "    <tr>\n",
       "      <th>354364</th>\n",
       "      <td>0</td>\n",
       "      <td>NaN</td>\n",
       "      <td>2005</td>\n",
       "      <td>manual</td>\n",
       "      <td>0</td>\n",
       "      <td>colt</td>\n",
       "      <td>150000</td>\n",
       "      <td>petrol</td>\n",
       "      <td>mitsubishi</td>\n",
       "      <td>yes</td>\n",
       "    </tr>\n",
       "  </tbody>\n",
       "</table>\n",
       "<p>13314 rows × 10 columns</p>\n",
       "</div>"
      ],
      "text/plain": [
       "        Price VehicleType  RegistrationYear Gearbox  Power     Model  \\\n",
       "7           0       sedan              1980  manual     50     other   \n",
       "40          0         NaN              1990     NaN      0     corsa   \n",
       "59          1         suv              1994  manual    286       NaN   \n",
       "89          1       sedan              1995  manual    113  e_klasse   \n",
       "111         0         NaN              2017  manual      0      golf   \n",
       "...       ...         ...               ...     ...    ...       ...   \n",
       "354238      0       small              2002  manual     60    fiesta   \n",
       "354248      0       small              1999  manual     53     swift   \n",
       "354277      0       small              1999  manual     37     arosa   \n",
       "354309     99       small              1999  manual     60     arosa   \n",
       "354364      0         NaN              2005  manual      0      colt   \n",
       "\n",
       "        Kilometer  FuelType           Brand Repaired  \n",
       "7           40000    petrol      volkswagen       no  \n",
       "40         150000    petrol            opel      NaN  \n",
       "59         150000       NaN  sonstige_autos      NaN  \n",
       "89         150000  gasoline   mercedes_benz       no  \n",
       "111          5000    petrol      volkswagen      NaN  \n",
       "...           ...       ...             ...      ...  \n",
       "354238     150000    petrol            ford      NaN  \n",
       "354248     150000    petrol          suzuki      NaN  \n",
       "354277     150000    petrol            seat      yes  \n",
       "354309     150000    petrol            seat      yes  \n",
       "354364     150000    petrol      mitsubishi      yes  \n",
       "\n",
       "[13314 rows x 10 columns]"
      ]
     },
     "execution_count": 16,
     "metadata": {},
     "output_type": "execute_result"
    }
   ],
   "source": [
    "# посмотрим много ли строк с ценой автомобиля меньше 100 евро\n",
    "data.loc[data['Price'] < 100]"
   ]
  },
  {
   "cell_type": "code",
   "execution_count": 17,
   "metadata": {},
   "outputs": [],
   "source": [
    "# удалим строки с ценой автомобиля менее 100, т.к. их всего 3%\n",
    "data = data.loc[data['Price'] > 100]"
   ]
  },
  {
   "cell_type": "code",
   "execution_count": 18,
   "metadata": {},
   "outputs": [
    {
     "data": {
      "text/plain": [
       "13673"
      ]
     },
     "execution_count": 18,
     "metadata": {},
     "output_type": "execute_result"
    }
   ],
   "source": [
    "#посмотрим на количество автомобилей с годом выпуска более 2016г\n",
    "data.loc[data['RegistrationYear'] > 2016, 'RegistrationYear'].count()"
   ]
  },
  {
   "cell_type": "code",
   "execution_count": 19,
   "metadata": {},
   "outputs": [],
   "source": [
    "# удалим строки с годом выпуска автомобиля более 2016 года, т.к их совсем немного\n",
    "data = data.loc[data['RegistrationYear'] <= 2017]"
   ]
  },
  {
   "cell_type": "code",
   "execution_count": 20,
   "metadata": {},
   "outputs": [
    {
     "data": {
      "text/plain": [
       "40"
      ]
     },
     "execution_count": 20,
     "metadata": {},
     "output_type": "execute_result"
    }
   ],
   "source": [
    "#посмотрим на количество автомобилей с годом выпуска менее 1900г\n",
    "data.loc[data['RegistrationYear'] < 1900, 'RegistrationYear'].count()"
   ]
  },
  {
   "cell_type": "code",
   "execution_count": 21,
   "metadata": {},
   "outputs": [],
   "source": [
    "# удалим строки с годом выпуска автомобиля менее 1900 года, т.к их совсем немного\n",
    "data = data.loc[data['RegistrationYear'] > 1900]"
   ]
  },
  {
   "cell_type": "code",
   "execution_count": 22,
   "metadata": {},
   "outputs": [
    {
     "data": {
      "text/plain": [
       "petrol      207268\n",
       "gasoline     96297\n",
       "lpg           5109\n",
       "cng            544\n",
       "hybrid         225\n",
       "other          151\n",
       "electric        85\n",
       "Name: FuelType, dtype: int64"
      ]
     },
     "execution_count": 22,
     "metadata": {},
     "output_type": "execute_result"
    }
   ],
   "source": [
    "# посмотрим на уникальные значения и их количество по типу топлива\n",
    "data['FuelType'].value_counts()"
   ]
  },
  {
   "cell_type": "code",
   "execution_count": 23,
   "metadata": {},
   "outputs": [
    {
     "data": {
      "text/html": [
       "<div>\n",
       "<style scoped>\n",
       "    .dataframe tbody tr th:only-of-type {\n",
       "        vertical-align: middle;\n",
       "    }\n",
       "\n",
       "    .dataframe tbody tr th {\n",
       "        vertical-align: top;\n",
       "    }\n",
       "\n",
       "    .dataframe thead th {\n",
       "        text-align: right;\n",
       "    }\n",
       "</style>\n",
       "<table border=\"1\" class=\"dataframe\">\n",
       "  <thead>\n",
       "    <tr style=\"text-align: right;\">\n",
       "      <th></th>\n",
       "      <th>Price</th>\n",
       "      <th>VehicleType</th>\n",
       "      <th>RegistrationYear</th>\n",
       "      <th>Gearbox</th>\n",
       "      <th>Power</th>\n",
       "      <th>Model</th>\n",
       "      <th>Kilometer</th>\n",
       "      <th>FuelType</th>\n",
       "      <th>Brand</th>\n",
       "      <th>Repaired</th>\n",
       "    </tr>\n",
       "  </thead>\n",
       "  <tbody>\n",
       "    <tr>\n",
       "      <th>0</th>\n",
       "      <td>480</td>\n",
       "      <td>NaN</td>\n",
       "      <td>1993</td>\n",
       "      <td>manual</td>\n",
       "      <td>0</td>\n",
       "      <td>golf</td>\n",
       "      <td>150000</td>\n",
       "      <td>petrol</td>\n",
       "      <td>volkswagen</td>\n",
       "      <td>NaN</td>\n",
       "    </tr>\n",
       "    <tr>\n",
       "      <th>15</th>\n",
       "      <td>450</td>\n",
       "      <td>small</td>\n",
       "      <td>1910</td>\n",
       "      <td>NaN</td>\n",
       "      <td>0</td>\n",
       "      <td>ka</td>\n",
       "      <td>5000</td>\n",
       "      <td>petrol</td>\n",
       "      <td>ford</td>\n",
       "      <td>NaN</td>\n",
       "    </tr>\n",
       "    <tr>\n",
       "      <th>32</th>\n",
       "      <td>245</td>\n",
       "      <td>sedan</td>\n",
       "      <td>1994</td>\n",
       "      <td>NaN</td>\n",
       "      <td>0</td>\n",
       "      <td>golf</td>\n",
       "      <td>150000</td>\n",
       "      <td>petrol</td>\n",
       "      <td>volkswagen</td>\n",
       "      <td>no</td>\n",
       "    </tr>\n",
       "    <tr>\n",
       "      <th>37</th>\n",
       "      <td>1500</td>\n",
       "      <td>NaN</td>\n",
       "      <td>2016</td>\n",
       "      <td>NaN</td>\n",
       "      <td>0</td>\n",
       "      <td>kangoo</td>\n",
       "      <td>150000</td>\n",
       "      <td>gasoline</td>\n",
       "      <td>renault</td>\n",
       "      <td>no</td>\n",
       "    </tr>\n",
       "    <tr>\n",
       "      <th>54</th>\n",
       "      <td>4700</td>\n",
       "      <td>wagon</td>\n",
       "      <td>2005</td>\n",
       "      <td>manual</td>\n",
       "      <td>0</td>\n",
       "      <td>signum</td>\n",
       "      <td>150000</td>\n",
       "      <td>NaN</td>\n",
       "      <td>opel</td>\n",
       "      <td>no</td>\n",
       "    </tr>\n",
       "    <tr>\n",
       "      <th>...</th>\n",
       "      <td>...</td>\n",
       "      <td>...</td>\n",
       "      <td>...</td>\n",
       "      <td>...</td>\n",
       "      <td>...</td>\n",
       "      <td>...</td>\n",
       "      <td>...</td>\n",
       "      <td>...</td>\n",
       "      <td>...</td>\n",
       "      <td>...</td>\n",
       "    </tr>\n",
       "    <tr>\n",
       "      <th>354336</th>\n",
       "      <td>3299</td>\n",
       "      <td>NaN</td>\n",
       "      <td>2005</td>\n",
       "      <td>auto</td>\n",
       "      <td>0</td>\n",
       "      <td>outlander</td>\n",
       "      <td>150000</td>\n",
       "      <td>petrol</td>\n",
       "      <td>mitsubishi</td>\n",
       "      <td>NaN</td>\n",
       "    </tr>\n",
       "    <tr>\n",
       "      <th>354338</th>\n",
       "      <td>180</td>\n",
       "      <td>NaN</td>\n",
       "      <td>1995</td>\n",
       "      <td>NaN</td>\n",
       "      <td>0</td>\n",
       "      <td>NaN</td>\n",
       "      <td>125000</td>\n",
       "      <td>petrol</td>\n",
       "      <td>opel</td>\n",
       "      <td>NaN</td>\n",
       "    </tr>\n",
       "    <tr>\n",
       "      <th>354346</th>\n",
       "      <td>2600</td>\n",
       "      <td>NaN</td>\n",
       "      <td>2005</td>\n",
       "      <td>auto</td>\n",
       "      <td>0</td>\n",
       "      <td>c_klasse</td>\n",
       "      <td>150000</td>\n",
       "      <td>NaN</td>\n",
       "      <td>mercedes_benz</td>\n",
       "      <td>NaN</td>\n",
       "    </tr>\n",
       "    <tr>\n",
       "      <th>354363</th>\n",
       "      <td>1150</td>\n",
       "      <td>bus</td>\n",
       "      <td>2000</td>\n",
       "      <td>manual</td>\n",
       "      <td>0</td>\n",
       "      <td>zafira</td>\n",
       "      <td>150000</td>\n",
       "      <td>petrol</td>\n",
       "      <td>opel</td>\n",
       "      <td>no</td>\n",
       "    </tr>\n",
       "    <tr>\n",
       "      <th>354365</th>\n",
       "      <td>2200</td>\n",
       "      <td>NaN</td>\n",
       "      <td>2005</td>\n",
       "      <td>NaN</td>\n",
       "      <td>0</td>\n",
       "      <td>NaN</td>\n",
       "      <td>20000</td>\n",
       "      <td>NaN</td>\n",
       "      <td>sonstige_autos</td>\n",
       "      <td>NaN</td>\n",
       "    </tr>\n",
       "  </tbody>\n",
       "</table>\n",
       "<p>33666 rows × 10 columns</p>\n",
       "</div>"
      ],
      "text/plain": [
       "        Price VehicleType  RegistrationYear Gearbox  Power      Model  \\\n",
       "0         480         NaN              1993  manual      0       golf   \n",
       "15        450       small              1910     NaN      0         ka   \n",
       "32        245       sedan              1994     NaN      0       golf   \n",
       "37       1500         NaN              2016     NaN      0     kangoo   \n",
       "54       4700       wagon              2005  manual      0     signum   \n",
       "...       ...         ...               ...     ...    ...        ...   \n",
       "354336   3299         NaN              2005    auto      0  outlander   \n",
       "354338    180         NaN              1995     NaN      0        NaN   \n",
       "354346   2600         NaN              2005    auto      0   c_klasse   \n",
       "354363   1150         bus              2000  manual      0     zafira   \n",
       "354365   2200         NaN              2005     NaN      0        NaN   \n",
       "\n",
       "        Kilometer  FuelType           Brand Repaired  \n",
       "0          150000    petrol      volkswagen      NaN  \n",
       "15           5000    petrol            ford      NaN  \n",
       "32         150000    petrol      volkswagen       no  \n",
       "37         150000  gasoline         renault       no  \n",
       "54         150000       NaN            opel       no  \n",
       "...           ...       ...             ...      ...  \n",
       "354336     150000    petrol      mitsubishi      NaN  \n",
       "354338     125000    petrol            opel      NaN  \n",
       "354346     150000       NaN   mercedes_benz      NaN  \n",
       "354363     150000    petrol            opel       no  \n",
       "354365      20000       NaN  sonstige_autos      NaN  \n",
       "\n",
       "[33666 rows x 10 columns]"
      ]
     },
     "execution_count": 23,
     "metadata": {},
     "output_type": "execute_result"
    }
   ],
   "source": [
    "# есть ли  строки с нулевой мощностью автомобиля\n",
    "data.loc[data['Power'] == 0]"
   ]
  },
  {
   "cell_type": "code",
   "execution_count": 24,
   "metadata": {},
   "outputs": [
    {
     "data": {
      "text/html": [
       "<div>\n",
       "<style scoped>\n",
       "    .dataframe tbody tr th:only-of-type {\n",
       "        vertical-align: middle;\n",
       "    }\n",
       "\n",
       "    .dataframe tbody tr th {\n",
       "        vertical-align: top;\n",
       "    }\n",
       "\n",
       "    .dataframe thead th {\n",
       "        text-align: right;\n",
       "    }\n",
       "</style>\n",
       "<table border=\"1\" class=\"dataframe\">\n",
       "  <thead>\n",
       "    <tr style=\"text-align: right;\">\n",
       "      <th></th>\n",
       "      <th>Price</th>\n",
       "      <th>VehicleType</th>\n",
       "      <th>RegistrationYear</th>\n",
       "      <th>Gearbox</th>\n",
       "      <th>Power</th>\n",
       "      <th>Model</th>\n",
       "      <th>Kilometer</th>\n",
       "      <th>FuelType</th>\n",
       "      <th>Brand</th>\n",
       "      <th>Repaired</th>\n",
       "    </tr>\n",
       "  </thead>\n",
       "  <tbody>\n",
       "    <tr>\n",
       "      <th>1816</th>\n",
       "      <td>3200</td>\n",
       "      <td>small</td>\n",
       "      <td>2004</td>\n",
       "      <td>manual</td>\n",
       "      <td>1398</td>\n",
       "      <td>corolla</td>\n",
       "      <td>5000</td>\n",
       "      <td>petrol</td>\n",
       "      <td>toyota</td>\n",
       "      <td>no</td>\n",
       "    </tr>\n",
       "    <tr>\n",
       "      <th>4060</th>\n",
       "      <td>3100</td>\n",
       "      <td>sedan</td>\n",
       "      <td>2005</td>\n",
       "      <td>manual</td>\n",
       "      <td>953</td>\n",
       "      <td>colt</td>\n",
       "      <td>150000</td>\n",
       "      <td>gasoline</td>\n",
       "      <td>mitsubishi</td>\n",
       "      <td>no</td>\n",
       "    </tr>\n",
       "    <tr>\n",
       "      <th>5328</th>\n",
       "      <td>500</td>\n",
       "      <td>wagon</td>\n",
       "      <td>1999</td>\n",
       "      <td>manual</td>\n",
       "      <td>1001</td>\n",
       "      <td>astra</td>\n",
       "      <td>150000</td>\n",
       "      <td>petrol</td>\n",
       "      <td>opel</td>\n",
       "      <td>NaN</td>\n",
       "    </tr>\n",
       "    <tr>\n",
       "      <th>6296</th>\n",
       "      <td>599</td>\n",
       "      <td>small</td>\n",
       "      <td>2002</td>\n",
       "      <td>manual</td>\n",
       "      <td>603</td>\n",
       "      <td>matiz</td>\n",
       "      <td>5000</td>\n",
       "      <td>petrol</td>\n",
       "      <td>chevrolet</td>\n",
       "      <td>yes</td>\n",
       "    </tr>\n",
       "    <tr>\n",
       "      <th>6504</th>\n",
       "      <td>3000</td>\n",
       "      <td>small</td>\n",
       "      <td>2009</td>\n",
       "      <td>manual</td>\n",
       "      <td>771</td>\n",
       "      <td>punto</td>\n",
       "      <td>125000</td>\n",
       "      <td>petrol</td>\n",
       "      <td>fiat</td>\n",
       "      <td>NaN</td>\n",
       "    </tr>\n",
       "    <tr>\n",
       "      <th>...</th>\n",
       "      <td>...</td>\n",
       "      <td>...</td>\n",
       "      <td>...</td>\n",
       "      <td>...</td>\n",
       "      <td>...</td>\n",
       "      <td>...</td>\n",
       "      <td>...</td>\n",
       "      <td>...</td>\n",
       "      <td>...</td>\n",
       "      <td>...</td>\n",
       "    </tr>\n",
       "    <tr>\n",
       "      <th>348968</th>\n",
       "      <td>250</td>\n",
       "      <td>small</td>\n",
       "      <td>1999</td>\n",
       "      <td>manual</td>\n",
       "      <td>1241</td>\n",
       "      <td>ypsilon</td>\n",
       "      <td>150000</td>\n",
       "      <td>petrol</td>\n",
       "      <td>lancia</td>\n",
       "      <td>yes</td>\n",
       "    </tr>\n",
       "    <tr>\n",
       "      <th>351947</th>\n",
       "      <td>1500</td>\n",
       "      <td>bus</td>\n",
       "      <td>2001</td>\n",
       "      <td>manual</td>\n",
       "      <td>1001</td>\n",
       "      <td>zafira</td>\n",
       "      <td>5000</td>\n",
       "      <td>gasoline</td>\n",
       "      <td>opel</td>\n",
       "      <td>no</td>\n",
       "    </tr>\n",
       "    <tr>\n",
       "      <th>353493</th>\n",
       "      <td>12500</td>\n",
       "      <td>NaN</td>\n",
       "      <td>2017</td>\n",
       "      <td>manual</td>\n",
       "      <td>2000</td>\n",
       "      <td>other</td>\n",
       "      <td>60000</td>\n",
       "      <td>gasoline</td>\n",
       "      <td>chrysler</td>\n",
       "      <td>no</td>\n",
       "    </tr>\n",
       "    <tr>\n",
       "      <th>353633</th>\n",
       "      <td>2400</td>\n",
       "      <td>sedan</td>\n",
       "      <td>2007</td>\n",
       "      <td>manual</td>\n",
       "      <td>650</td>\n",
       "      <td>c2</td>\n",
       "      <td>150000</td>\n",
       "      <td>petrol</td>\n",
       "      <td>citroen</td>\n",
       "      <td>NaN</td>\n",
       "    </tr>\n",
       "    <tr>\n",
       "      <th>354260</th>\n",
       "      <td>399</td>\n",
       "      <td>other</td>\n",
       "      <td>1994</td>\n",
       "      <td>NaN</td>\n",
       "      <td>1103</td>\n",
       "      <td>3er</td>\n",
       "      <td>150000</td>\n",
       "      <td>NaN</td>\n",
       "      <td>bmw</td>\n",
       "      <td>NaN</td>\n",
       "    </tr>\n",
       "  </tbody>\n",
       "</table>\n",
       "<p>408 rows × 10 columns</p>\n",
       "</div>"
      ],
      "text/plain": [
       "        Price VehicleType  RegistrationYear Gearbox  Power    Model  \\\n",
       "1816     3200       small              2004  manual   1398  corolla   \n",
       "4060     3100       sedan              2005  manual    953     colt   \n",
       "5328      500       wagon              1999  manual   1001    astra   \n",
       "6296      599       small              2002  manual    603    matiz   \n",
       "6504     3000       small              2009  manual    771    punto   \n",
       "...       ...         ...               ...     ...    ...      ...   \n",
       "348968    250       small              1999  manual   1241  ypsilon   \n",
       "351947   1500         bus              2001  manual   1001   zafira   \n",
       "353493  12500         NaN              2017  manual   2000    other   \n",
       "353633   2400       sedan              2007  manual    650       c2   \n",
       "354260    399       other              1994     NaN   1103      3er   \n",
       "\n",
       "        Kilometer  FuelType       Brand Repaired  \n",
       "1816         5000    petrol      toyota       no  \n",
       "4060       150000  gasoline  mitsubishi       no  \n",
       "5328       150000    petrol        opel      NaN  \n",
       "6296         5000    petrol   chevrolet      yes  \n",
       "6504       125000    petrol        fiat      NaN  \n",
       "...           ...       ...         ...      ...  \n",
       "348968     150000    petrol      lancia      yes  \n",
       "351947       5000  gasoline        opel       no  \n",
       "353493      60000  gasoline    chrysler       no  \n",
       "353633     150000    petrol     citroen      NaN  \n",
       "354260     150000       NaN         bmw      NaN  \n",
       "\n",
       "[408 rows x 10 columns]"
      ]
     },
     "execution_count": 24,
     "metadata": {},
     "output_type": "execute_result"
    }
   ],
   "source": [
    "# есть ли  строки с мощностью автомобиля более 500\n",
    "data.loc[data['Power'] > 500]"
   ]
  },
  {
   "cell_type": "code",
   "execution_count": 25,
   "metadata": {},
   "outputs": [],
   "source": [
    "# удалим строки с нулевой мощностью автомобиля и более 500\n",
    "data = data.loc[(data['Power'] != 0) & (data['Power'] < 500)]"
   ]
  },
  {
   "cell_type": "code",
   "execution_count": 26,
   "metadata": {},
   "outputs": [
    {
     "data": {
      "text/plain": [
       "sedan          82742\n",
       "small          69392\n",
       "wagon          59037\n",
       "bus            26163\n",
       "convertible    18733\n",
       "coupe          14520\n",
       "suv            10929\n",
       "other           2468\n",
       "Name: VehicleType, dtype: int64"
      ]
     },
     "execution_count": 26,
     "metadata": {},
     "output_type": "execute_result"
    }
   ],
   "source": [
    "# посмотрим на уникальные значения и их количество по типу автомобильного кузова\n",
    "data['VehicleType'].value_counts()"
   ]
  },
  {
   "cell_type": "code",
   "execution_count": 27,
   "metadata": {},
   "outputs": [
    {
     "data": {
      "text/plain": [
       "manual    236583\n",
       "auto       59735\n",
       "Name: Gearbox, dtype: int64"
      ]
     },
     "execution_count": 27,
     "metadata": {},
     "output_type": "execute_result"
    }
   ],
   "source": [
    "# посмотрим на уникальные значения и их количество по типу коробки передач\n",
    "data['Gearbox'].value_counts()"
   ]
  },
  {
   "cell_type": "code",
   "execution_count": 28,
   "metadata": {},
   "outputs": [
    {
     "data": {
      "text/plain": [
       "volkswagen        65751\n",
       "opel              33213\n",
       "bmw               32722\n",
       "mercedes_benz     27746\n",
       "audi              26099\n",
       "ford              21002\n",
       "renault           14254\n",
       "peugeot            9541\n",
       "fiat               7815\n",
       "seat               6008\n",
       "skoda              5013\n",
       "mazda              4812\n",
       "smart              4573\n",
       "citroen            4349\n",
       "nissan             4119\n",
       "toyota             4082\n",
       "hyundai            3167\n",
       "mini               3016\n",
       "volvo              2849\n",
       "mitsubishi         2537\n",
       "honda              2426\n",
       "kia                2133\n",
       "alfa_romeo         2008\n",
       "suzuki             1984\n",
       "sonstige_autos     1859\n",
       "chevrolet          1476\n",
       "chrysler           1177\n",
       "dacia               812\n",
       "subaru              647\n",
       "porsche             620\n",
       "daihatsu            619\n",
       "jeep                588\n",
       "saab                479\n",
       "land_rover          466\n",
       "jaguar              434\n",
       "daewoo              415\n",
       "lancia              388\n",
       "rover               375\n",
       "trabant             291\n",
       "lada                157\n",
       "Name: Brand, dtype: int64"
      ]
     },
     "execution_count": 28,
     "metadata": {},
     "output_type": "execute_result"
    }
   ],
   "source": [
    "# посмотрим на уникальные значения марок автомобилей\n",
    "data['Brand'].value_counts()"
   ]
  },
  {
   "cell_type": "code",
   "execution_count": 29,
   "metadata": {},
   "outputs": [],
   "source": [
    "# после удаления кривых строк обновим индексацию\n",
    "data = data.reset_index(drop=True) "
   ]
  },
  {
   "cell_type": "markdown",
   "metadata": {},
   "source": [
    "**ВЫВОД: Признак, который нужно предсказать, — целевой: в нашей задаче это цена автомобиля (Price). Такие задачи относятся к классу «обучение с учителем». Целевой признак числовой, т.о. мы будем решать задачу регрессии.**"
   ]
  },
  {
   "cell_type": "markdown",
   "metadata": {},
   "source": [
    "## Обучение моделей"
   ]
  },
  {
   "cell_type": "code",
   "execution_count": 30,
   "metadata": {},
   "outputs": [],
   "source": [
    "# выделим целевой признак\n",
    "features = data.drop(['Price'], axis=1)\n",
    "target = data['Price']"
   ]
  },
  {
   "cell_type": "code",
   "execution_count": 31,
   "metadata": {},
   "outputs": [
    {
     "data": {
      "text/plain": [
       "['RegistrationYear', 'Power', 'Kilometer']"
      ]
     },
     "execution_count": 31,
     "metadata": {},
     "output_type": "execute_result"
    }
   ],
   "source": [
    "# создадим список с числовыми столбцами для масштабирования\n",
    "numerical = features.select_dtypes(include='int64').columns.to_list()\n",
    "numerical"
   ]
  },
  {
   "cell_type": "code",
   "execution_count": 32,
   "metadata": {},
   "outputs": [
    {
     "data": {
      "text/plain": [
       "['VehicleType', 'Gearbox', 'Model', 'FuelType', 'Brand', 'Repaired']"
      ]
     },
     "execution_count": 32,
     "metadata": {},
     "output_type": "execute_result"
    }
   ],
   "source": [
    "# создадим список с категориальными столбцами для кодирования\n",
    "to_dummies = features.select_dtypes(include='object').columns.to_list()\n",
    "to_dummies"
   ]
  },
  {
   "cell_type": "code",
   "execution_count": 33,
   "metadata": {},
   "outputs": [],
   "source": [
    "# сначала выделим обучающую выборку\n",
    "features_train, features_valid, target_train, target_valid = train_test_split(\n",
    "    features, target, \n",
    "    test_size=0.4, \n",
    "    random_state=12345)"
   ]
  },
  {
   "cell_type": "code",
   "execution_count": 34,
   "metadata": {},
   "outputs": [],
   "source": [
    "# заменим пропуски на заглушку \"missing\"\n",
    "imputer = SimpleImputer(strategy='constant', fill_value='missing')\n",
    "features_train_imputed = imputer.fit_transform(features_train)"
   ]
  },
  {
   "cell_type": "code",
   "execution_count": 35,
   "metadata": {},
   "outputs": [
    {
     "data": {
      "text/html": [
       "<div>\n",
       "<style scoped>\n",
       "    .dataframe tbody tr th:only-of-type {\n",
       "        vertical-align: middle;\n",
       "    }\n",
       "\n",
       "    .dataframe tbody tr th {\n",
       "        vertical-align: top;\n",
       "    }\n",
       "\n",
       "    .dataframe thead th {\n",
       "        text-align: right;\n",
       "    }\n",
       "</style>\n",
       "<table border=\"1\" class=\"dataframe\">\n",
       "  <thead>\n",
       "    <tr style=\"text-align: right;\">\n",
       "      <th></th>\n",
       "      <th>VehicleType</th>\n",
       "      <th>RegistrationYear</th>\n",
       "      <th>Gearbox</th>\n",
       "      <th>Power</th>\n",
       "      <th>Model</th>\n",
       "      <th>Kilometer</th>\n",
       "      <th>FuelType</th>\n",
       "      <th>Brand</th>\n",
       "      <th>Repaired</th>\n",
       "    </tr>\n",
       "  </thead>\n",
       "  <tbody>\n",
       "    <tr>\n",
       "      <th>0</th>\n",
       "      <td>small</td>\n",
       "      <td>2006</td>\n",
       "      <td>manual</td>\n",
       "      <td>68</td>\n",
       "      <td>1_reihe</td>\n",
       "      <td>100000</td>\n",
       "      <td>petrol</td>\n",
       "      <td>peugeot</td>\n",
       "      <td>no</td>\n",
       "    </tr>\n",
       "    <tr>\n",
       "      <th>1</th>\n",
       "      <td>suv</td>\n",
       "      <td>2007</td>\n",
       "      <td>auto</td>\n",
       "      <td>150</td>\n",
       "      <td>cr_reihe</td>\n",
       "      <td>90000</td>\n",
       "      <td>petrol</td>\n",
       "      <td>honda</td>\n",
       "      <td>no</td>\n",
       "    </tr>\n",
       "    <tr>\n",
       "      <th>2</th>\n",
       "      <td>wagon</td>\n",
       "      <td>1999</td>\n",
       "      <td>auto</td>\n",
       "      <td>116</td>\n",
       "      <td>golf</td>\n",
       "      <td>150000</td>\n",
       "      <td>petrol</td>\n",
       "      <td>volkswagen</td>\n",
       "      <td>no</td>\n",
       "    </tr>\n",
       "    <tr>\n",
       "      <th>3</th>\n",
       "      <td>bus</td>\n",
       "      <td>2005</td>\n",
       "      <td>manual</td>\n",
       "      <td>115</td>\n",
       "      <td>alhambra</td>\n",
       "      <td>150000</td>\n",
       "      <td>gasoline</td>\n",
       "      <td>seat</td>\n",
       "      <td>missing</td>\n",
       "    </tr>\n",
       "    <tr>\n",
       "      <th>4</th>\n",
       "      <td>missing</td>\n",
       "      <td>2017</td>\n",
       "      <td>manual</td>\n",
       "      <td>65</td>\n",
       "      <td>picanto</td>\n",
       "      <td>150000</td>\n",
       "      <td>lpg</td>\n",
       "      <td>kia</td>\n",
       "      <td>yes</td>\n",
       "    </tr>\n",
       "    <tr>\n",
       "      <th>...</th>\n",
       "      <td>...</td>\n",
       "      <td>...</td>\n",
       "      <td>...</td>\n",
       "      <td>...</td>\n",
       "      <td>...</td>\n",
       "      <td>...</td>\n",
       "      <td>...</td>\n",
       "      <td>...</td>\n",
       "      <td>...</td>\n",
       "    </tr>\n",
       "    <tr>\n",
       "      <th>181208</th>\n",
       "      <td>sedan</td>\n",
       "      <td>1985</td>\n",
       "      <td>manual</td>\n",
       "      <td>136</td>\n",
       "      <td>e_klasse</td>\n",
       "      <td>150000</td>\n",
       "      <td>petrol</td>\n",
       "      <td>mercedes_benz</td>\n",
       "      <td>no</td>\n",
       "    </tr>\n",
       "    <tr>\n",
       "      <th>181209</th>\n",
       "      <td>sedan</td>\n",
       "      <td>2000</td>\n",
       "      <td>manual</td>\n",
       "      <td>143</td>\n",
       "      <td>e_klasse</td>\n",
       "      <td>150000</td>\n",
       "      <td>gasoline</td>\n",
       "      <td>mercedes_benz</td>\n",
       "      <td>no</td>\n",
       "    </tr>\n",
       "    <tr>\n",
       "      <th>181210</th>\n",
       "      <td>sedan</td>\n",
       "      <td>2005</td>\n",
       "      <td>auto</td>\n",
       "      <td>306</td>\n",
       "      <td>e_klasse</td>\n",
       "      <td>150000</td>\n",
       "      <td>petrol</td>\n",
       "      <td>mercedes_benz</td>\n",
       "      <td>no</td>\n",
       "    </tr>\n",
       "    <tr>\n",
       "      <th>181211</th>\n",
       "      <td>sedan</td>\n",
       "      <td>1999</td>\n",
       "      <td>manual</td>\n",
       "      <td>150</td>\n",
       "      <td>a6</td>\n",
       "      <td>150000</td>\n",
       "      <td>gasoline</td>\n",
       "      <td>audi</td>\n",
       "      <td>missing</td>\n",
       "    </tr>\n",
       "    <tr>\n",
       "      <th>181212</th>\n",
       "      <td>wagon</td>\n",
       "      <td>2006</td>\n",
       "      <td>manual</td>\n",
       "      <td>163</td>\n",
       "      <td>a4</td>\n",
       "      <td>150000</td>\n",
       "      <td>petrol</td>\n",
       "      <td>audi</td>\n",
       "      <td>no</td>\n",
       "    </tr>\n",
       "  </tbody>\n",
       "</table>\n",
       "<p>181213 rows × 9 columns</p>\n",
       "</div>"
      ],
      "text/plain": [
       "       VehicleType RegistrationYear Gearbox Power     Model Kilometer  \\\n",
       "0            small             2006  manual    68   1_reihe    100000   \n",
       "1              suv             2007    auto   150  cr_reihe     90000   \n",
       "2            wagon             1999    auto   116      golf    150000   \n",
       "3              bus             2005  manual   115  alhambra    150000   \n",
       "4          missing             2017  manual    65   picanto    150000   \n",
       "...            ...              ...     ...   ...       ...       ...   \n",
       "181208       sedan             1985  manual   136  e_klasse    150000   \n",
       "181209       sedan             2000  manual   143  e_klasse    150000   \n",
       "181210       sedan             2005    auto   306  e_klasse    150000   \n",
       "181211       sedan             1999  manual   150        a6    150000   \n",
       "181212       wagon             2006  manual   163        a4    150000   \n",
       "\n",
       "        FuelType          Brand Repaired  \n",
       "0         petrol        peugeot       no  \n",
       "1         petrol          honda       no  \n",
       "2         petrol     volkswagen       no  \n",
       "3       gasoline           seat  missing  \n",
       "4            lpg            kia      yes  \n",
       "...          ...            ...      ...  \n",
       "181208    petrol  mercedes_benz       no  \n",
       "181209  gasoline  mercedes_benz       no  \n",
       "181210    petrol  mercedes_benz       no  \n",
       "181211  gasoline           audi  missing  \n",
       "181212    petrol           audi       no  \n",
       "\n",
       "[181213 rows x 9 columns]"
      ]
     },
     "execution_count": 35,
     "metadata": {},
     "output_type": "execute_result"
    }
   ],
   "source": [
    "features_train = pd.DataFrame(features_train_imputed, columns=features_train.columns)\n",
    "features_train"
   ]
  },
  {
   "cell_type": "code",
   "execution_count": 36,
   "metadata": {},
   "outputs": [],
   "source": [
    "features_valid_imputed = imputer.transform(features_valid)"
   ]
  },
  {
   "cell_type": "code",
   "execution_count": 37,
   "metadata": {},
   "outputs": [
    {
     "data": {
      "text/html": [
       "<div>\n",
       "<style scoped>\n",
       "    .dataframe tbody tr th:only-of-type {\n",
       "        vertical-align: middle;\n",
       "    }\n",
       "\n",
       "    .dataframe tbody tr th {\n",
       "        vertical-align: top;\n",
       "    }\n",
       "\n",
       "    .dataframe thead th {\n",
       "        text-align: right;\n",
       "    }\n",
       "</style>\n",
       "<table border=\"1\" class=\"dataframe\">\n",
       "  <thead>\n",
       "    <tr style=\"text-align: right;\">\n",
       "      <th></th>\n",
       "      <th>VehicleType</th>\n",
       "      <th>RegistrationYear</th>\n",
       "      <th>Gearbox</th>\n",
       "      <th>Power</th>\n",
       "      <th>Model</th>\n",
       "      <th>Kilometer</th>\n",
       "      <th>FuelType</th>\n",
       "      <th>Brand</th>\n",
       "      <th>Repaired</th>\n",
       "    </tr>\n",
       "  </thead>\n",
       "  <tbody>\n",
       "    <tr>\n",
       "      <th>0</th>\n",
       "      <td>bus</td>\n",
       "      <td>2004</td>\n",
       "      <td>manual</td>\n",
       "      <td>101</td>\n",
       "      <td>meriva</td>\n",
       "      <td>125000</td>\n",
       "      <td>petrol</td>\n",
       "      <td>opel</td>\n",
       "      <td>no</td>\n",
       "    </tr>\n",
       "    <tr>\n",
       "      <th>1</th>\n",
       "      <td>missing</td>\n",
       "      <td>2005</td>\n",
       "      <td>manual</td>\n",
       "      <td>140</td>\n",
       "      <td>a3</td>\n",
       "      <td>150000</td>\n",
       "      <td>missing</td>\n",
       "      <td>audi</td>\n",
       "      <td>missing</td>\n",
       "    </tr>\n",
       "    <tr>\n",
       "      <th>2</th>\n",
       "      <td>wagon</td>\n",
       "      <td>2003</td>\n",
       "      <td>manual</td>\n",
       "      <td>75</td>\n",
       "      <td>fabia</td>\n",
       "      <td>150000</td>\n",
       "      <td>petrol</td>\n",
       "      <td>skoda</td>\n",
       "      <td>no</td>\n",
       "    </tr>\n",
       "    <tr>\n",
       "      <th>3</th>\n",
       "      <td>wagon</td>\n",
       "      <td>2006</td>\n",
       "      <td>manual</td>\n",
       "      <td>170</td>\n",
       "      <td>passat</td>\n",
       "      <td>150000</td>\n",
       "      <td>gasoline</td>\n",
       "      <td>volkswagen</td>\n",
       "      <td>no</td>\n",
       "    </tr>\n",
       "    <tr>\n",
       "      <th>4</th>\n",
       "      <td>small</td>\n",
       "      <td>2001</td>\n",
       "      <td>manual</td>\n",
       "      <td>80</td>\n",
       "      <td>punto</td>\n",
       "      <td>100000</td>\n",
       "      <td>petrol</td>\n",
       "      <td>fiat</td>\n",
       "      <td>no</td>\n",
       "    </tr>\n",
       "    <tr>\n",
       "      <th>...</th>\n",
       "      <td>...</td>\n",
       "      <td>...</td>\n",
       "      <td>...</td>\n",
       "      <td>...</td>\n",
       "      <td>...</td>\n",
       "      <td>...</td>\n",
       "      <td>...</td>\n",
       "      <td>...</td>\n",
       "      <td>...</td>\n",
       "    </tr>\n",
       "    <tr>\n",
       "      <th>120804</th>\n",
       "      <td>wagon</td>\n",
       "      <td>1995</td>\n",
       "      <td>manual</td>\n",
       "      <td>192</td>\n",
       "      <td>5er</td>\n",
       "      <td>150000</td>\n",
       "      <td>petrol</td>\n",
       "      <td>bmw</td>\n",
       "      <td>yes</td>\n",
       "    </tr>\n",
       "    <tr>\n",
       "      <th>120805</th>\n",
       "      <td>sedan</td>\n",
       "      <td>1998</td>\n",
       "      <td>manual</td>\n",
       "      <td>75</td>\n",
       "      <td>almera</td>\n",
       "      <td>150000</td>\n",
       "      <td>petrol</td>\n",
       "      <td>nissan</td>\n",
       "      <td>no</td>\n",
       "    </tr>\n",
       "    <tr>\n",
       "      <th>120806</th>\n",
       "      <td>suv</td>\n",
       "      <td>2003</td>\n",
       "      <td>manual</td>\n",
       "      <td>116</td>\n",
       "      <td>pajero</td>\n",
       "      <td>150000</td>\n",
       "      <td>gasoline</td>\n",
       "      <td>mitsubishi</td>\n",
       "      <td>no</td>\n",
       "    </tr>\n",
       "    <tr>\n",
       "      <th>120807</th>\n",
       "      <td>sedan</td>\n",
       "      <td>2006</td>\n",
       "      <td>auto</td>\n",
       "      <td>140</td>\n",
       "      <td>civic</td>\n",
       "      <td>150000</td>\n",
       "      <td>petrol</td>\n",
       "      <td>honda</td>\n",
       "      <td>no</td>\n",
       "    </tr>\n",
       "    <tr>\n",
       "      <th>120808</th>\n",
       "      <td>wagon</td>\n",
       "      <td>2001</td>\n",
       "      <td>manual</td>\n",
       "      <td>131</td>\n",
       "      <td>a4</td>\n",
       "      <td>150000</td>\n",
       "      <td>gasoline</td>\n",
       "      <td>audi</td>\n",
       "      <td>missing</td>\n",
       "    </tr>\n",
       "  </tbody>\n",
       "</table>\n",
       "<p>120809 rows × 9 columns</p>\n",
       "</div>"
      ],
      "text/plain": [
       "       VehicleType RegistrationYear Gearbox Power   Model Kilometer  FuelType  \\\n",
       "0              bus             2004  manual   101  meriva    125000    petrol   \n",
       "1          missing             2005  manual   140      a3    150000   missing   \n",
       "2            wagon             2003  manual    75   fabia    150000    petrol   \n",
       "3            wagon             2006  manual   170  passat    150000  gasoline   \n",
       "4            small             2001  manual    80   punto    100000    petrol   \n",
       "...            ...              ...     ...   ...     ...       ...       ...   \n",
       "120804       wagon             1995  manual   192     5er    150000    petrol   \n",
       "120805       sedan             1998  manual    75  almera    150000    petrol   \n",
       "120806         suv             2003  manual   116  pajero    150000  gasoline   \n",
       "120807       sedan             2006    auto   140   civic    150000    petrol   \n",
       "120808       wagon             2001  manual   131      a4    150000  gasoline   \n",
       "\n",
       "             Brand Repaired  \n",
       "0             opel       no  \n",
       "1             audi  missing  \n",
       "2            skoda       no  \n",
       "3       volkswagen       no  \n",
       "4             fiat       no  \n",
       "...            ...      ...  \n",
       "120804         bmw      yes  \n",
       "120805      nissan       no  \n",
       "120806  mitsubishi       no  \n",
       "120807       honda       no  \n",
       "120808        audi  missing  \n",
       "\n",
       "[120809 rows x 9 columns]"
      ]
     },
     "execution_count": 37,
     "metadata": {},
     "output_type": "execute_result"
    }
   ],
   "source": [
    "features_valid = pd.DataFrame(features_valid_imputed, columns=features_valid.columns)\n",
    "features_valid"
   ]
  },
  {
   "cell_type": "code",
   "execution_count": 38,
   "metadata": {},
   "outputs": [],
   "source": [
    "# приведем признаки к нужному типу\n",
    "features_train[to_dummies] = features_train[to_dummies].astype(str)\n",
    "features_valid[to_dummies] = features_valid[to_dummies].astype(str)\n",
    "features_train[numerical] = features_train[numerical].astype(int)\n",
    "features_valid[numerical] = features_valid[numerical].astype(int)"
   ]
  },
  {
   "cell_type": "code",
   "execution_count": 39,
   "metadata": {},
   "outputs": [],
   "source": [
    "# теперь поделим пополам на валидационную и тестовую\n",
    "features_valid, features_test, target_valid, target_test = train_test_split(\n",
    "    features_valid, target_valid, \n",
    "    test_size=0.5, \n",
    "    random_state=12345)"
   ]
  },
  {
   "cell_type": "code",
   "execution_count": 40,
   "metadata": {},
   "outputs": [
    {
     "name": "stdout",
     "output_type": "stream",
     "text": [
      "(181213, 9)\n",
      "(60404, 9)\n"
     ]
    },
    {
     "data": {
      "text/plain": [
       "(60405, 9)"
      ]
     },
     "execution_count": 40,
     "metadata": {},
     "output_type": "execute_result"
    }
   ],
   "source": [
    "# Проконтролируем корректностью разбиения\n",
    "print(features_train.shape)\n",
    "print(features_valid.shape)\n",
    "features_test.shape"
   ]
  },
  {
   "cell_type": "code",
   "execution_count": 41,
   "metadata": {},
   "outputs": [
    {
     "name": "stdout",
     "output_type": "stream",
     "text": [
      "<class 'pandas.core.frame.DataFrame'>\n",
      "RangeIndex: 181213 entries, 0 to 181212\n",
      "Data columns (total 9 columns):\n",
      " #   Column            Non-Null Count   Dtype \n",
      "---  ------            --------------   ----- \n",
      " 0   VehicleType       181213 non-null  object\n",
      " 1   RegistrationYear  181213 non-null  int64 \n",
      " 2   Gearbox           181213 non-null  object\n",
      " 3   Power             181213 non-null  int64 \n",
      " 4   Model             181213 non-null  object\n",
      " 5   Kilometer         181213 non-null  int64 \n",
      " 6   FuelType          181213 non-null  object\n",
      " 7   Brand             181213 non-null  object\n",
      " 8   Repaired          181213 non-null  object\n",
      "dtypes: int64(3), object(6)\n",
      "memory usage: 12.4+ MB\n"
     ]
    }
   ],
   "source": [
    "features_train.info()"
   ]
  },
  {
   "cell_type": "markdown",
   "metadata": {},
   "source": [
    "**Для линейной регрессии LinearRegression преобразуем все признаки и используем конвейер**"
   ]
  },
  {
   "cell_type": "code",
   "execution_count": 42,
   "metadata": {},
   "outputs": [],
   "source": [
    "# Объявляем scaler и OneHotEncoder() для числовых и категориальных переменных\n",
    "scaler = StandardScaler()\n",
    "ohe = OneHotEncoder(sparse=False, handle_unknown='ignore')"
   ]
  },
  {
   "cell_type": "code",
   "execution_count": 43,
   "metadata": {},
   "outputs": [],
   "source": [
    "# Делаем pipeline для числовых переменных датасета\n",
    "numerical_selector = FunctionTransformer(\n",
    "    lambda features_train: features_train[numerical], validate=False\n",
    ")\n",
    "numerical_preprocessor = Pipeline(\n",
    "    [(\"numerical_selector\", numerical_selector), (\"scaling\", scaler)]\n",
    ")\n",
    "# Делаем pipeline для категориальных переменных датасета\n",
    "dummy_selector = FunctionTransformer(\n",
    "    lambda features_train: features_train[to_dummies], validate=False\n",
    ")\n",
    "dummy_preprocessor = Pipeline(\n",
    "    [(\"dummy_selector\", dummy_selector), (\"ohe\", ohe)]\n",
    ")"
   ]
  },
  {
   "cell_type": "code",
   "execution_count": 44,
   "metadata": {},
   "outputs": [],
   "source": [
    "# Объединяем созданные выше pipeline в один с помощью функции FeatureUnion и затем записываем итоговый pipeline c логистической регрессией\n",
    "feature_union = FeatureUnion([(\"numerical_preprocessor\", numerical_preprocessor),\n",
    "(\"dummy_preprocessor\", dummy_preprocessor)])"
   ]
  },
  {
   "cell_type": "code",
   "execution_count": 45,
   "metadata": {},
   "outputs": [
    {
     "name": "stdout",
     "output_type": "stream",
     "text": [
      "Среднеквадратическая ошибка для модели LinearRegression составляет: 77890881775.23668\n",
      "CPU times: user 16.6 s, sys: 24.5 s, total: 41 s\n",
      "Wall time: 41.1 s\n"
     ]
    }
   ],
   "source": [
    "%%time \n",
    "#Теперь можно обучить модель\n",
    "pipeline = Pipeline(\n",
    "    [(\"preprocessing\", feature_union),\n",
    "    ('model', LinearRegression())]\n",
    ")\n",
    "pipeline.fit(features_train, target_train)\n",
    "\n",
    "# И наконец predict\n",
    "preds = pipeline.predict(features_valid)\n",
    "\n",
    "mse = mean_squared_error(target_valid, preds) \n",
    "rmse = mse**0.5 \n",
    "print('Среднеквадратическая ошибка для модели LinearRegression составляет:', rmse)"
   ]
  },
  {
   "cell_type": "markdown",
   "metadata": {},
   "source": [
    "**Модель градиентного бустинга CatBoost работает с категориальными признаками просто: такса остаётся таксой, а стаффорд — стаффордом. Кодировать в 1 или 0 не нужно. Преобразовывать нужно только числовые. У CatBoost есть свой grid_search.**"
   ]
  },
  {
   "cell_type": "code",
   "execution_count": 46,
   "metadata": {},
   "outputs": [],
   "source": [
    "features_train_cat = features_train.copy()\n",
    "features_valid_cat = features_valid.copy()"
   ]
  },
  {
   "cell_type": "code",
   "execution_count": 47,
   "metadata": {},
   "outputs": [],
   "source": [
    "# Возьмем кодировщик RobustScaler - он не подвержен влиянию выбросов\n",
    "scaler = RobustScaler()\n",
    "scaler.fit(features_train_cat[numerical]) \n",
    "features_train_cat[numerical] = scaler.transform(features_train_cat[numerical])\n",
    "features_valid_cat[numerical] = scaler.transform(features_valid_cat[numerical])\n",
    "features_test[numerical] = scaler.transform(features_test[numerical])"
   ]
  },
  {
   "cell_type": "code",
   "execution_count": 48,
   "metadata": {},
   "outputs": [
    {
     "name": "stdout",
     "output_type": "stream",
     "text": [
      "Learning rate set to 0.5\n",
      "0:\tlearn: 3368.2542056\ttotal: 154ms\tremaining: 2.94s\n",
      "10:\tlearn: 1956.6765498\ttotal: 992ms\tremaining: 812ms\n",
      "19:\tlearn: 1869.9558885\ttotal: 1.69s\tremaining: 0us\n",
      "Среднеквадратическая ошибка для модели CatBoostRegressor составляет: 1884.36584406007\n",
      "CPU times: user 2.03 s, sys: 72.2 ms, total: 2.1 s\n",
      "Wall time: 3.26 s\n"
     ]
    }
   ],
   "source": [
    "%%time \n",
    "model = CatBoostRegressor(loss_function=\"RMSE\", depth=5, iterations=20)\n",
    "model.fit(features_train_cat, target_train, cat_features=to_dummies, verbose=10)\n",
    "# предсказания\n",
    "pred_valid = model.predict(features_valid_cat)\n",
    "# расчет оценки\n",
    "mse = mean_squared_error(target_valid, pred_valid) \n",
    "rmse = mse**0.5 \n",
    "print('Среднеквадратическая ошибка для модели CatBoostRegressor составляет:', rmse)"
   ]
  },
  {
   "cell_type": "markdown",
   "metadata": {},
   "source": []
  },
  {
   "cell_type": "markdown",
   "metadata": {},
   "source": [
    "**LGBMRegressor - это градиентный бустинг над решающими деревьями (\"деревянная\" модель, не линейная). Для неё подойдет порядковое кодирование, так как деревья умеют разделять категориальные признаки, закодированные в любом порядке.**"
   ]
  },
  {
   "cell_type": "code",
   "execution_count": 49,
   "metadata": {},
   "outputs": [],
   "source": [
    "features_train_lg = features_train.copy()\n",
    "features_valid_lg = features_valid.copy()"
   ]
  },
  {
   "cell_type": "code",
   "execution_count": 50,
   "metadata": {},
   "outputs": [],
   "source": [
    "# признак Repaired уже бинарный, его не будем кодировать/масштабировать\n",
    "# добавляем remainder='passthrough, чтобы он не пропал\n",
    "col_transformer_lgbm = make_column_transformer(\n",
    "    (\n",
    "        OrdinalEncoder(handle_unknown='use_encoded_value', unknown_value=-1), \n",
    "        to_dummies\n",
    "    ),\n",
    "    remainder='passthrough'\n",
    ")"
   ]
  },
  {
   "cell_type": "code",
   "execution_count": 51,
   "metadata": {},
   "outputs": [
    {
     "data": {
      "text/html": [
       "<div>\n",
       "<style scoped>\n",
       "    .dataframe tbody tr th:only-of-type {\n",
       "        vertical-align: middle;\n",
       "    }\n",
       "\n",
       "    .dataframe tbody tr th {\n",
       "        vertical-align: top;\n",
       "    }\n",
       "\n",
       "    .dataframe thead th {\n",
       "        text-align: right;\n",
       "    }\n",
       "</style>\n",
       "<table border=\"1\" class=\"dataframe\">\n",
       "  <thead>\n",
       "    <tr style=\"text-align: right;\">\n",
       "      <th></th>\n",
       "      <th>ordinalencoder__VehicleType</th>\n",
       "      <th>ordinalencoder__Gearbox</th>\n",
       "      <th>ordinalencoder__Model</th>\n",
       "      <th>ordinalencoder__FuelType</th>\n",
       "      <th>ordinalencoder__Brand</th>\n",
       "      <th>ordinalencoder__Repaired</th>\n",
       "      <th>remainder__RegistrationYear</th>\n",
       "      <th>remainder__Power</th>\n",
       "      <th>remainder__Kilometer</th>\n",
       "    </tr>\n",
       "  </thead>\n",
       "  <tbody>\n",
       "    <tr>\n",
       "      <th>0</th>\n",
       "      <td>6.0</td>\n",
       "      <td>1.0</td>\n",
       "      <td>5.0</td>\n",
       "      <td>7.0</td>\n",
       "      <td>25.0</td>\n",
       "      <td>1.0</td>\n",
       "      <td>2006.0</td>\n",
       "      <td>68.0</td>\n",
       "      <td>100000.0</td>\n",
       "    </tr>\n",
       "    <tr>\n",
       "      <th>1</th>\n",
       "      <td>7.0</td>\n",
       "      <td>0.0</td>\n",
       "      <td>84.0</td>\n",
       "      <td>7.0</td>\n",
       "      <td>11.0</td>\n",
       "      <td>1.0</td>\n",
       "      <td>2007.0</td>\n",
       "      <td>150.0</td>\n",
       "      <td>90000.0</td>\n",
       "    </tr>\n",
       "    <tr>\n",
       "      <th>2</th>\n",
       "      <td>8.0</td>\n",
       "      <td>0.0</td>\n",
       "      <td>116.0</td>\n",
       "      <td>7.0</td>\n",
       "      <td>38.0</td>\n",
       "      <td>1.0</td>\n",
       "      <td>1999.0</td>\n",
       "      <td>116.0</td>\n",
       "      <td>150000.0</td>\n",
       "    </tr>\n",
       "    <tr>\n",
       "      <th>3</th>\n",
       "      <td>0.0</td>\n",
       "      <td>1.0</td>\n",
       "      <td>36.0</td>\n",
       "      <td>2.0</td>\n",
       "      <td>30.0</td>\n",
       "      <td>0.0</td>\n",
       "      <td>2005.0</td>\n",
       "      <td>115.0</td>\n",
       "      <td>150000.0</td>\n",
       "    </tr>\n",
       "    <tr>\n",
       "      <th>4</th>\n",
       "      <td>3.0</td>\n",
       "      <td>1.0</td>\n",
       "      <td>173.0</td>\n",
       "      <td>4.0</td>\n",
       "      <td>15.0</td>\n",
       "      <td>2.0</td>\n",
       "      <td>2017.0</td>\n",
       "      <td>65.0</td>\n",
       "      <td>150000.0</td>\n",
       "    </tr>\n",
       "  </tbody>\n",
       "</table>\n",
       "</div>"
      ],
      "text/plain": [
       "   ordinalencoder__VehicleType  ordinalencoder__Gearbox  \\\n",
       "0                          6.0                      1.0   \n",
       "1                          7.0                      0.0   \n",
       "2                          8.0                      0.0   \n",
       "3                          0.0                      1.0   \n",
       "4                          3.0                      1.0   \n",
       "\n",
       "   ordinalencoder__Model  ordinalencoder__FuelType  ordinalencoder__Brand  \\\n",
       "0                    5.0                       7.0                   25.0   \n",
       "1                   84.0                       7.0                   11.0   \n",
       "2                  116.0                       7.0                   38.0   \n",
       "3                   36.0                       2.0                   30.0   \n",
       "4                  173.0                       4.0                   15.0   \n",
       "\n",
       "   ordinalencoder__Repaired  remainder__RegistrationYear  remainder__Power  \\\n",
       "0                       1.0                       2006.0              68.0   \n",
       "1                       1.0                       2007.0             150.0   \n",
       "2                       1.0                       1999.0             116.0   \n",
       "3                       0.0                       2005.0             115.0   \n",
       "4                       2.0                       2017.0              65.0   \n",
       "\n",
       "   remainder__Kilometer  \n",
       "0              100000.0  \n",
       "1               90000.0  \n",
       "2              150000.0  \n",
       "3              150000.0  \n",
       "4              150000.0  "
      ]
     },
     "execution_count": 51,
     "metadata": {},
     "output_type": "execute_result"
    }
   ],
   "source": [
    "features_train_lgbm = pd.DataFrame(\n",
    "    col_transformer_lgbm.fit_transform(features_train_lg),\n",
    "    columns=col_transformer_lgbm.get_feature_names_out()\n",
    ") \n",
    "features_train_lgbm.head()"
   ]
  },
  {
   "cell_type": "code",
   "execution_count": 54,
   "metadata": {},
   "outputs": [
    {
     "name": "stdout",
     "output_type": "stream",
     "text": [
      "Лучшая точность: 1701.007\n",
      "Лучшая модель: LGBMRegressor(random_state=12345)\n",
      "Лучшие параметры: {'boosting_type': 'gbdt', 'n_estimators': 100}\n",
      "CPU times: user 2h 4min 9s, sys: 1min 18s, total: 2h 5min 28s\n",
      "Wall time: 2h 6min 16s\n"
     ]
    }
   ],
   "source": [
    "%%time \n",
    "# Найдем наилучшую комбинацию гиперпараметров через GridSearchCV\n",
    "parameters_grid_lgbm = {\n",
    "    'n_estimators': range(80, 110, 10),\n",
    "    'boosting_type': ['gbdt', 'dart']   \n",
    "}\n",
    "lgbm = LGBMRegressor(random_state=12345)\n",
    " \n",
    "lgbm_model_cv = GridSearchCV(lgbm, \n",
    "                            param_grid=parameters_grid_lgbm,\n",
    "                            scoring = 'neg_root_mean_squared_error', \n",
    "                            cv = 3, \n",
    "                            error_score='raise')\n",
    "\n",
    "lgbm_model_cv.fit(features_train_lgbm, target_train)\n",
    "\n",
    "print(f'Лучшая точность: {(-1)*round(lgbm_model_cv.best_score_, 3)}')\n",
    "print(f'Лучшая модель: {lgbm_model_cv.best_estimator_}') \n",
    "print(f'Лучшие параметры: {lgbm_model_cv.best_params_}') "
   ]
  },
  {
   "cell_type": "markdown",
   "metadata": {},
   "source": [
    "## Анализ моделей"
   ]
  },
  {
   "cell_type": "markdown",
   "metadata": {},
   "source": [
    "LinearRegression:\n",
    "- RMSE:77890881775.23668, скорость предсказания: 1 min 7 s\n",
    "\n",
    "CatBoostRegressor:\n",
    "- RMSE:1884.36584406007, скорость предсказания: 3.11 s\n",
    "\n",
    "LGBMRegressor:\n",
    "- RMSE:1701.007, скорость предсказания: 2 h 6 min 16 s\n",
    "\n",
    "**Лучшая модель - по времени CatBoostRegressor**"
   ]
  },
  {
   "cell_type": "code",
   "execution_count": 62,
   "metadata": {},
   "outputs": [
    {
     "name": "stdout",
     "output_type": "stream",
     "text": [
      "CPU times: user 98 ms, sys: 3.76 ms, total: 102 ms\n",
      "Wall time: 179 ms\n"
     ]
    }
   ],
   "source": [
    "%%time\n",
    "final_cat_pred = model.predict(features_test)"
   ]
  },
  {
   "cell_type": "code",
   "execution_count": 63,
   "metadata": {},
   "outputs": [
    {
     "name": "stdout",
     "output_type": "stream",
     "text": [
      "Среднеквадратическая ошибка для модели CatBoostRegressor составляет: 1858.442218116017\n"
     ]
    }
   ],
   "source": [
    "mse = mean_squared_error(target_test, final_cat_pred) \n",
    "rmse = mse**0.5 \n",
    "print('Среднеквадратическая ошибка для модели CatBoostRegressor составляет:', rmse)"
   ]
  },
  {
   "cell_type": "markdown",
   "metadata": {},
   "source": [
    "**ВЫВОД: Для разработки приложения для привлечения новых клиентов, в ктором можно быстро узнать рыночную \n",
    "    стоимость своего автомобиля, мы использовали исторические данные: технические характеристики, комплектации и цены \n",
    "    автомобилей. Мы изучили данные, удалили дубликаты, избавились от выбросов, заменили пропуски, разделили данные \n",
    "    на обучающую, валидационную и тестовую выборки. Исследовали качество разных моделей, преобразовывая категориальные признаки \n",
    "    в численные, приводя числовые признаки к одному масштабу, меняя гиперпараметры. \n",
    "    Из использованных моделей: LogisticRegression(), CatBoostRegressor(), LGBMRegressor(), лучший результат показала модель \n",
    "        - CatBoostRegressor() с depth=5, iterations=20. При проверке качества модели на тестовой выборке мы получили rmse 1858.442218116017**"
   ]
  },
  {
   "cell_type": "code",
   "execution_count": null,
   "metadata": {},
   "outputs": [],
   "source": []
  }
 ],
 "metadata": {
  "ExecuteTimeLog": [
   {
    "duration": 85,
    "start_time": "2023-06-10T18:06:08.901Z"
   },
   {
    "duration": 498,
    "start_time": "2023-06-10T18:06:26.786Z"
   },
   {
    "duration": 4937,
    "start_time": "2023-06-10T18:06:27.352Z"
   },
   {
    "duration": 38,
    "start_time": "2023-06-10T18:07:23.760Z"
   },
   {
    "duration": 14,
    "start_time": "2023-06-10T18:10:38.288Z"
   },
   {
    "duration": 295,
    "start_time": "2023-06-10T18:10:45.199Z"
   },
   {
    "duration": 214,
    "start_time": "2023-06-10T18:13:19.276Z"
   },
   {
    "duration": 1998,
    "start_time": "2023-06-10T18:15:36.873Z"
   },
   {
    "duration": 1003,
    "start_time": "2023-06-14T19:47:01.989Z"
   },
   {
    "duration": 4613,
    "start_time": "2023-06-14T19:47:02.995Z"
   },
   {
    "duration": 20,
    "start_time": "2023-06-14T19:47:07.609Z"
   },
   {
    "duration": 191,
    "start_time": "2023-06-14T19:47:07.631Z"
   },
   {
    "duration": 171,
    "start_time": "2023-06-14T19:47:07.828Z"
   },
   {
    "duration": 1196,
    "start_time": "2023-06-14T19:47:08.003Z"
   },
   {
    "duration": 87,
    "start_time": "2023-06-14T19:47:09.204Z"
   },
   {
    "duration": 7,
    "start_time": "2023-06-14T19:51:59.427Z"
   },
   {
    "duration": 0,
    "start_time": "2023-06-14T19:53:55.999Z"
   },
   {
    "duration": 906,
    "start_time": "2023-06-14T19:54:07.517Z"
   },
   {
    "duration": 1197,
    "start_time": "2023-06-14T19:54:08.426Z"
   },
   {
    "duration": 25,
    "start_time": "2023-06-14T19:54:09.625Z"
   },
   {
    "duration": 216,
    "start_time": "2023-06-14T19:54:09.653Z"
   },
   {
    "duration": 206,
    "start_time": "2023-06-14T19:54:09.872Z"
   },
   {
    "duration": 1589,
    "start_time": "2023-06-14T19:54:10.091Z"
   },
   {
    "duration": 0,
    "start_time": "2023-06-14T19:56:06.222Z"
   },
   {
    "duration": 9992,
    "start_time": "2023-06-14T20:17:09.121Z"
   },
   {
    "duration": 61,
    "start_time": "2023-06-14T20:37:14.577Z"
   },
   {
    "duration": 1001,
    "start_time": "2023-06-14T20:39:55.423Z"
   },
   {
    "duration": 1039,
    "start_time": "2023-06-14T20:42:04.888Z"
   },
   {
    "duration": 910,
    "start_time": "2023-06-14T20:43:18.989Z"
   },
   {
    "duration": 24,
    "start_time": "2023-06-14T20:45:18.921Z"
   },
   {
    "duration": 29,
    "start_time": "2023-06-14T20:50:10.219Z"
   },
   {
    "duration": 53,
    "start_time": "2023-06-14T20:56:43.499Z"
   },
   {
    "duration": 110,
    "start_time": "2023-06-14T20:56:54.455Z"
   },
   {
    "duration": 94,
    "start_time": "2023-06-14T20:58:06.343Z"
   },
   {
    "duration": 871,
    "start_time": "2023-06-15T08:20:34.265Z"
   },
   {
    "duration": 1358,
    "start_time": "2023-06-15T08:20:35.138Z"
   },
   {
    "duration": 19,
    "start_time": "2023-06-15T08:20:36.497Z"
   },
   {
    "duration": 130,
    "start_time": "2023-06-15T08:20:36.518Z"
   },
   {
    "duration": 149,
    "start_time": "2023-06-15T08:20:36.650Z"
   },
   {
    "duration": 1060,
    "start_time": "2023-06-15T08:20:36.801Z"
   },
   {
    "duration": 1214,
    "start_time": "2023-06-15T08:20:37.863Z"
   },
   {
    "duration": 995,
    "start_time": "2023-06-15T08:20:39.079Z"
   },
   {
    "duration": 28,
    "start_time": "2023-06-15T08:20:40.076Z"
   },
   {
    "duration": 69,
    "start_time": "2023-06-15T08:20:40.106Z"
   },
   {
    "duration": 68,
    "start_time": "2023-06-15T08:20:40.177Z"
   },
   {
    "duration": 56,
    "start_time": "2023-06-15T08:20:40.248Z"
   },
   {
    "duration": 682,
    "start_time": "2023-06-15T08:22:17.623Z"
   },
   {
    "duration": 905,
    "start_time": "2023-06-15T08:22:18.307Z"
   },
   {
    "duration": 17,
    "start_time": "2023-06-15T08:22:19.214Z"
   },
   {
    "duration": 135,
    "start_time": "2023-06-15T08:22:19.233Z"
   },
   {
    "duration": 117,
    "start_time": "2023-06-15T08:22:19.370Z"
   },
   {
    "duration": 1050,
    "start_time": "2023-06-15T08:22:19.489Z"
   },
   {
    "duration": 60,
    "start_time": "2023-06-15T08:22:20.541Z"
   },
   {
    "duration": 927,
    "start_time": "2023-06-15T08:22:20.603Z"
   },
   {
    "duration": 846,
    "start_time": "2023-06-15T08:22:21.532Z"
   },
   {
    "duration": 23,
    "start_time": "2023-06-15T08:22:22.380Z"
   },
   {
    "duration": 48,
    "start_time": "2023-06-15T08:22:22.405Z"
   },
   {
    "duration": 48,
    "start_time": "2023-06-15T08:22:22.455Z"
   },
   {
    "duration": 97,
    "start_time": "2023-06-15T08:22:39.593Z"
   },
   {
    "duration": 819,
    "start_time": "2023-06-15T08:23:20.821Z"
   },
   {
    "duration": 861,
    "start_time": "2023-06-15T11:11:12.581Z"
   },
   {
    "duration": 1099,
    "start_time": "2023-06-15T11:11:13.444Z"
   },
   {
    "duration": 25,
    "start_time": "2023-06-15T11:11:14.545Z"
   },
   {
    "duration": 210,
    "start_time": "2023-06-15T11:11:14.575Z"
   },
   {
    "duration": 163,
    "start_time": "2023-06-15T11:11:14.790Z"
   },
   {
    "duration": 1282,
    "start_time": "2023-06-15T11:11:14.954Z"
   },
   {
    "duration": 54,
    "start_time": "2023-06-15T11:11:16.237Z"
   },
   {
    "duration": 1367,
    "start_time": "2023-06-15T11:11:16.292Z"
   },
   {
    "duration": 1055,
    "start_time": "2023-06-15T11:11:17.661Z"
   },
   {
    "duration": 44,
    "start_time": "2023-06-15T11:11:18.726Z"
   },
   {
    "duration": 60,
    "start_time": "2023-06-15T11:11:18.775Z"
   },
   {
    "duration": 160,
    "start_time": "2023-06-15T11:11:18.838Z"
   },
   {
    "duration": 1025,
    "start_time": "2023-06-15T11:11:39.698Z"
   },
   {
    "duration": 1187,
    "start_time": "2023-06-15T11:11:40.736Z"
   },
   {
    "duration": 32,
    "start_time": "2023-06-15T11:11:41.931Z"
   },
   {
    "duration": 245,
    "start_time": "2023-06-15T11:11:41.966Z"
   },
   {
    "duration": 212,
    "start_time": "2023-06-15T11:11:42.213Z"
   },
   {
    "duration": 67,
    "start_time": "2023-06-15T11:11:42.427Z"
   },
   {
    "duration": 1772,
    "start_time": "2023-06-15T11:11:42.500Z"
   },
   {
    "duration": 1398,
    "start_time": "2023-06-15T11:11:44.280Z"
   },
   {
    "duration": 1107,
    "start_time": "2023-06-15T11:11:45.687Z"
   },
   {
    "duration": 34,
    "start_time": "2023-06-15T11:11:46.800Z"
   },
   {
    "duration": 52,
    "start_time": "2023-06-15T11:11:46.836Z"
   },
   {
    "duration": 104,
    "start_time": "2023-06-15T11:11:46.889Z"
   },
   {
    "duration": 58,
    "start_time": "2023-06-15T11:12:23.270Z"
   },
   {
    "duration": 1001,
    "start_time": "2023-06-15T11:12:27.480Z"
   },
   {
    "duration": 544,
    "start_time": "2023-06-15T11:12:28.484Z"
   },
   {
    "duration": 980,
    "start_time": "2023-06-15T11:12:33.031Z"
   },
   {
    "duration": 38,
    "start_time": "2023-06-15T11:12:38.523Z"
   },
   {
    "duration": 35,
    "start_time": "2023-06-15T11:12:39.714Z"
   },
   {
    "duration": 94,
    "start_time": "2023-06-15T11:12:40.815Z"
   },
   {
    "duration": 67,
    "start_time": "2023-06-15T13:31:42.030Z"
   },
   {
    "duration": 1112,
    "start_time": "2023-06-15T18:52:55.900Z"
   },
   {
    "duration": 4330,
    "start_time": "2023-06-15T18:52:57.029Z"
   },
   {
    "duration": 22,
    "start_time": "2023-06-15T18:53:01.362Z"
   },
   {
    "duration": 269,
    "start_time": "2023-06-15T18:53:01.386Z"
   },
   {
    "duration": 142,
    "start_time": "2023-06-15T18:53:01.662Z"
   },
   {
    "duration": 155,
    "start_time": "2023-06-15T18:53:01.806Z"
   },
   {
    "duration": 671,
    "start_time": "2023-06-15T18:53:01.966Z"
   },
   {
    "duration": 416,
    "start_time": "2023-06-15T18:53:02.653Z"
   },
   {
    "duration": 854,
    "start_time": "2023-06-15T18:53:03.071Z"
   },
   {
    "duration": 41,
    "start_time": "2023-06-15T18:53:03.933Z"
   },
   {
    "duration": 50,
    "start_time": "2023-06-15T18:53:03.976Z"
   },
   {
    "duration": 60,
    "start_time": "2023-06-15T18:53:04.029Z"
   },
   {
    "duration": 70,
    "start_time": "2023-06-15T18:53:04.091Z"
   },
   {
    "duration": 9,
    "start_time": "2023-06-15T18:53:04.164Z"
   },
   {
    "duration": 64,
    "start_time": "2023-06-15T18:53:04.176Z"
   },
   {
    "duration": 25,
    "start_time": "2023-06-15T18:59:24.356Z"
   },
   {
    "duration": 27,
    "start_time": "2023-06-15T19:00:48.733Z"
   },
   {
    "duration": 122,
    "start_time": "2023-06-15T19:12:08.215Z"
   },
   {
    "duration": 24,
    "start_time": "2023-06-15T19:17:47.927Z"
   },
   {
    "duration": 724,
    "start_time": "2023-06-15T19:18:08.502Z"
   },
   {
    "duration": 126,
    "start_time": "2023-06-15T19:18:13.926Z"
   },
   {
    "duration": 38,
    "start_time": "2023-06-15T19:22:37.229Z"
   },
   {
    "duration": 390,
    "start_time": "2023-06-15T19:23:08.798Z"
   },
   {
    "duration": 82,
    "start_time": "2023-06-15T19:23:20.842Z"
   },
   {
    "duration": 65,
    "start_time": "2023-06-15T19:23:49.173Z"
   },
   {
    "duration": 80,
    "start_time": "2023-06-15T19:25:02.948Z"
   },
   {
    "duration": 14,
    "start_time": "2023-06-15T19:25:14.529Z"
   },
   {
    "duration": 78,
    "start_time": "2023-06-15T19:25:54.439Z"
   },
   {
    "duration": 110,
    "start_time": "2023-06-15T19:25:55.111Z"
   },
   {
    "duration": 21,
    "start_time": "2023-06-15T19:26:47.788Z"
   },
   {
    "duration": 67,
    "start_time": "2023-06-15T19:28:29.827Z"
   },
   {
    "duration": 21,
    "start_time": "2023-06-15T19:29:41.450Z"
   },
   {
    "duration": 28,
    "start_time": "2023-06-15T19:34:28.010Z"
   },
   {
    "duration": 10,
    "start_time": "2023-06-15T19:34:32.291Z"
   },
   {
    "duration": 1373,
    "start_time": "2023-06-15T19:35:48.986Z"
   },
   {
    "duration": 808,
    "start_time": "2023-06-15T19:35:50.361Z"
   },
   {
    "duration": 18,
    "start_time": "2023-06-15T19:35:51.171Z"
   },
   {
    "duration": 157,
    "start_time": "2023-06-15T19:35:51.190Z"
   },
   {
    "duration": 38,
    "start_time": "2023-06-15T19:35:51.350Z"
   },
   {
    "duration": 541,
    "start_time": "2023-06-15T19:35:51.389Z"
   },
   {
    "duration": 294,
    "start_time": "2023-06-15T19:35:51.931Z"
   },
   {
    "duration": 64,
    "start_time": "2023-06-15T19:35:52.229Z"
   },
   {
    "duration": 60,
    "start_time": "2023-06-15T19:35:52.295Z"
   },
   {
    "duration": 63,
    "start_time": "2023-06-15T19:35:52.357Z"
   },
   {
    "duration": 46,
    "start_time": "2023-06-15T19:35:52.421Z"
   },
   {
    "duration": 49,
    "start_time": "2023-06-15T19:35:52.469Z"
   },
   {
    "duration": 718,
    "start_time": "2023-06-15T19:35:52.519Z"
   },
   {
    "duration": 17,
    "start_time": "2023-06-15T19:35:53.239Z"
   },
   {
    "duration": 19,
    "start_time": "2023-06-15T19:35:53.258Z"
   },
   {
    "duration": 48,
    "start_time": "2023-06-15T19:35:53.278Z"
   },
   {
    "duration": 102,
    "start_time": "2023-06-15T19:35:53.335Z"
   },
   {
    "duration": 321,
    "start_time": "2023-06-15T19:35:53.439Z"
   },
   {
    "duration": 79,
    "start_time": "2023-06-15T19:35:53.762Z"
   },
   {
    "duration": 61,
    "start_time": "2023-06-15T19:40:55.894Z"
   },
   {
    "duration": 33,
    "start_time": "2023-06-15T19:40:57.844Z"
   },
   {
    "duration": 10,
    "start_time": "2023-06-15T19:42:09.084Z"
   },
   {
    "duration": 97,
    "start_time": "2023-06-15T19:42:09.891Z"
   },
   {
    "duration": 63,
    "start_time": "2023-06-15T19:42:15.039Z"
   },
   {
    "duration": 64,
    "start_time": "2023-06-15T19:42:25.999Z"
   },
   {
    "duration": 6,
    "start_time": "2023-06-15T20:04:03.024Z"
   },
   {
    "duration": 68,
    "start_time": "2023-06-15T20:13:44.727Z"
   },
   {
    "duration": 3,
    "start_time": "2023-06-15T20:16:08.231Z"
   },
   {
    "duration": 2,
    "start_time": "2023-06-15T20:16:08.892Z"
   },
   {
    "duration": 23,
    "start_time": "2023-06-15T20:19:33.860Z"
   },
   {
    "duration": 3,
    "start_time": "2023-06-15T20:19:44.131Z"
   },
   {
    "duration": 8,
    "start_time": "2023-06-15T21:06:01.834Z"
   },
   {
    "duration": 110,
    "start_time": "2023-06-15T21:09:19.490Z"
   },
   {
    "duration": 3,
    "start_time": "2023-06-15T21:13:49.046Z"
   },
   {
    "duration": 10,
    "start_time": "2023-06-15T21:13:54.167Z"
   },
   {
    "duration": 4,
    "start_time": "2023-06-15T21:14:46.085Z"
   },
   {
    "duration": 11,
    "start_time": "2023-06-15T21:14:52.245Z"
   },
   {
    "duration": 7,
    "start_time": "2023-06-15T21:19:57.805Z"
   },
   {
    "duration": 17,
    "start_time": "2023-06-15T21:20:12.345Z"
   },
   {
    "duration": 10,
    "start_time": "2023-06-15T21:24:15.045Z"
   },
   {
    "duration": 5,
    "start_time": "2023-06-15T21:24:34.438Z"
   },
   {
    "duration": 72,
    "start_time": "2023-06-15T21:24:46.920Z"
   },
   {
    "duration": 4,
    "start_time": "2023-06-15T21:29:42.694Z"
   },
   {
    "duration": 26,
    "start_time": "2023-06-15T21:29:45.902Z"
   },
   {
    "duration": 1473,
    "start_time": "2023-06-16T06:11:40.371Z"
   },
   {
    "duration": 1000,
    "start_time": "2023-06-16T06:11:41.845Z"
   },
   {
    "duration": 19,
    "start_time": "2023-06-16T06:11:42.847Z"
   },
   {
    "duration": 139,
    "start_time": "2023-06-16T06:11:42.868Z"
   },
   {
    "duration": 39,
    "start_time": "2023-06-16T06:11:43.009Z"
   },
   {
    "duration": 523,
    "start_time": "2023-06-16T06:11:43.050Z"
   },
   {
    "duration": 380,
    "start_time": "2023-06-16T06:11:43.575Z"
   },
   {
    "duration": 117,
    "start_time": "2023-06-16T06:11:43.957Z"
   },
   {
    "duration": 38,
    "start_time": "2023-06-16T06:11:44.075Z"
   },
   {
    "duration": 59,
    "start_time": "2023-06-16T06:11:44.115Z"
   },
   {
    "duration": 48,
    "start_time": "2023-06-16T06:11:44.176Z"
   },
   {
    "duration": 56,
    "start_time": "2023-06-16T06:11:44.225Z"
   },
   {
    "duration": 679,
    "start_time": "2023-06-16T06:11:44.283Z"
   },
   {
    "duration": 16,
    "start_time": "2023-06-16T06:11:44.964Z"
   },
   {
    "duration": 33,
    "start_time": "2023-06-16T06:11:44.981Z"
   },
   {
    "duration": 20,
    "start_time": "2023-06-16T06:11:45.015Z"
   },
   {
    "duration": 101,
    "start_time": "2023-06-16T06:11:45.037Z"
   },
   {
    "duration": 136,
    "start_time": "2023-06-16T06:11:45.140Z"
   },
   {
    "duration": 0,
    "start_time": "2023-06-16T06:11:45.277Z"
   },
   {
    "duration": 0,
    "start_time": "2023-06-16T06:11:45.278Z"
   },
   {
    "duration": 0,
    "start_time": "2023-06-16T06:11:45.279Z"
   },
   {
    "duration": 0,
    "start_time": "2023-06-16T06:11:45.350Z"
   },
   {
    "duration": 0,
    "start_time": "2023-06-16T06:11:45.352Z"
   },
   {
    "duration": 0,
    "start_time": "2023-06-16T06:11:45.354Z"
   },
   {
    "duration": 0,
    "start_time": "2023-06-16T06:11:45.355Z"
   },
   {
    "duration": 0,
    "start_time": "2023-06-16T06:11:45.356Z"
   },
   {
    "duration": 0,
    "start_time": "2023-06-16T06:11:45.358Z"
   },
   {
    "duration": 0,
    "start_time": "2023-06-16T06:11:45.359Z"
   },
   {
    "duration": 0,
    "start_time": "2023-06-16T06:11:45.360Z"
   },
   {
    "duration": 0,
    "start_time": "2023-06-16T06:11:45.361Z"
   },
   {
    "duration": 1368,
    "start_time": "2023-06-16T06:12:05.707Z"
   },
   {
    "duration": 736,
    "start_time": "2023-06-16T06:12:07.077Z"
   },
   {
    "duration": 16,
    "start_time": "2023-06-16T06:12:07.814Z"
   },
   {
    "duration": 120,
    "start_time": "2023-06-16T06:12:07.831Z"
   },
   {
    "duration": 58,
    "start_time": "2023-06-16T06:12:07.954Z"
   },
   {
    "duration": 476,
    "start_time": "2023-06-16T06:12:08.014Z"
   },
   {
    "duration": 298,
    "start_time": "2023-06-16T06:12:08.492Z"
   },
   {
    "duration": 90,
    "start_time": "2023-06-16T06:12:08.792Z"
   },
   {
    "duration": 43,
    "start_time": "2023-06-16T06:12:08.884Z"
   },
   {
    "duration": 53,
    "start_time": "2023-06-16T06:12:08.929Z"
   },
   {
    "duration": 70,
    "start_time": "2023-06-16T06:12:08.984Z"
   },
   {
    "duration": 218,
    "start_time": "2023-06-16T06:12:09.056Z"
   },
   {
    "duration": 722,
    "start_time": "2023-06-16T06:12:09.276Z"
   },
   {
    "duration": 24,
    "start_time": "2023-06-16T06:12:10.000Z"
   },
   {
    "duration": 53,
    "start_time": "2023-06-16T06:12:10.026Z"
   },
   {
    "duration": 30,
    "start_time": "2023-06-16T06:12:10.081Z"
   },
   {
    "duration": 153,
    "start_time": "2023-06-16T06:12:10.113Z"
   },
   {
    "duration": 0,
    "start_time": "2023-06-16T06:12:10.269Z"
   },
   {
    "duration": 0,
    "start_time": "2023-06-16T06:12:10.270Z"
   },
   {
    "duration": 0,
    "start_time": "2023-06-16T06:12:10.271Z"
   },
   {
    "duration": 0,
    "start_time": "2023-06-16T06:12:10.273Z"
   },
   {
    "duration": 0,
    "start_time": "2023-06-16T06:12:10.274Z"
   },
   {
    "duration": 0,
    "start_time": "2023-06-16T06:12:10.275Z"
   },
   {
    "duration": 0,
    "start_time": "2023-06-16T06:12:10.276Z"
   },
   {
    "duration": 0,
    "start_time": "2023-06-16T06:12:10.277Z"
   },
   {
    "duration": 0,
    "start_time": "2023-06-16T06:12:10.278Z"
   },
   {
    "duration": 0,
    "start_time": "2023-06-16T06:12:10.279Z"
   },
   {
    "duration": 0,
    "start_time": "2023-06-16T06:12:10.280Z"
   },
   {
    "duration": 0,
    "start_time": "2023-06-16T06:12:10.300Z"
   },
   {
    "duration": 27,
    "start_time": "2023-06-16T06:15:21.133Z"
   },
   {
    "duration": 39,
    "start_time": "2023-06-16T06:15:22.332Z"
   },
   {
    "duration": 1402,
    "start_time": "2023-06-16T06:16:42.238Z"
   },
   {
    "duration": 743,
    "start_time": "2023-06-16T06:16:43.642Z"
   },
   {
    "duration": 21,
    "start_time": "2023-06-16T06:16:44.387Z"
   },
   {
    "duration": 108,
    "start_time": "2023-06-16T06:16:44.409Z"
   },
   {
    "duration": 35,
    "start_time": "2023-06-16T06:16:44.518Z"
   },
   {
    "duration": 459,
    "start_time": "2023-06-16T06:16:44.555Z"
   },
   {
    "duration": 286,
    "start_time": "2023-06-16T06:16:45.015Z"
   },
   {
    "duration": 71,
    "start_time": "2023-06-16T06:16:45.302Z"
   },
   {
    "duration": 49,
    "start_time": "2023-06-16T06:16:45.375Z"
   },
   {
    "duration": 44,
    "start_time": "2023-06-16T06:16:45.427Z"
   },
   {
    "duration": 43,
    "start_time": "2023-06-16T06:16:45.472Z"
   },
   {
    "duration": 34,
    "start_time": "2023-06-16T06:16:45.516Z"
   },
   {
    "duration": 780,
    "start_time": "2023-06-16T06:16:45.552Z"
   },
   {
    "duration": 19,
    "start_time": "2023-06-16T06:16:46.334Z"
   },
   {
    "duration": 33,
    "start_time": "2023-06-16T06:16:46.355Z"
   },
   {
    "duration": 31,
    "start_time": "2023-06-16T06:16:46.390Z"
   },
   {
    "duration": 21,
    "start_time": "2023-06-16T06:16:46.423Z"
   },
   {
    "duration": 163,
    "start_time": "2023-06-16T06:16:46.445Z"
   },
   {
    "duration": 0,
    "start_time": "2023-06-16T06:16:46.610Z"
   },
   {
    "duration": 0,
    "start_time": "2023-06-16T06:16:46.611Z"
   },
   {
    "duration": 0,
    "start_time": "2023-06-16T06:16:46.612Z"
   },
   {
    "duration": 0,
    "start_time": "2023-06-16T06:16:46.612Z"
   },
   {
    "duration": 0,
    "start_time": "2023-06-16T06:16:46.614Z"
   },
   {
    "duration": 1,
    "start_time": "2023-06-16T06:16:46.614Z"
   },
   {
    "duration": 0,
    "start_time": "2023-06-16T06:16:46.615Z"
   },
   {
    "duration": 0,
    "start_time": "2023-06-16T06:16:46.616Z"
   },
   {
    "duration": 0,
    "start_time": "2023-06-16T06:16:46.616Z"
   },
   {
    "duration": 0,
    "start_time": "2023-06-16T06:16:46.619Z"
   },
   {
    "duration": 0,
    "start_time": "2023-06-16T06:16:46.620Z"
   },
   {
    "duration": 0,
    "start_time": "2023-06-16T06:16:46.621Z"
   },
   {
    "duration": 57,
    "start_time": "2023-06-16T06:17:00.224Z"
   },
   {
    "duration": 236,
    "start_time": "2023-06-16T07:54:12.077Z"
   },
   {
    "duration": 27,
    "start_time": "2023-06-16T07:54:12.611Z"
   },
   {
    "duration": 60,
    "start_time": "2023-06-16T07:54:13.890Z"
   },
   {
    "duration": 30,
    "start_time": "2023-06-16T07:54:16.572Z"
   },
   {
    "duration": 20,
    "start_time": "2023-06-16T07:54:23.043Z"
   },
   {
    "duration": 26,
    "start_time": "2023-06-16T07:54:31.260Z"
   },
   {
    "duration": 5,
    "start_time": "2023-06-16T07:54:33.548Z"
   },
   {
    "duration": 1215,
    "start_time": "2023-06-16T12:13:18.349Z"
   },
   {
    "duration": 8574,
    "start_time": "2023-06-16T12:13:19.565Z"
   },
   {
    "duration": 1002,
    "start_time": "2023-06-16T12:13:28.145Z"
   },
   {
    "duration": 16,
    "start_time": "2023-06-16T12:13:29.148Z"
   },
   {
    "duration": 164,
    "start_time": "2023-06-16T12:13:29.166Z"
   },
   {
    "duration": 55,
    "start_time": "2023-06-16T12:13:29.335Z"
   },
   {
    "duration": 481,
    "start_time": "2023-06-16T12:13:29.391Z"
   },
   {
    "duration": 355,
    "start_time": "2023-06-16T12:13:29.874Z"
   },
   {
    "duration": 116,
    "start_time": "2023-06-16T12:13:30.236Z"
   },
   {
    "duration": 115,
    "start_time": "2023-06-16T12:13:30.355Z"
   },
   {
    "duration": 170,
    "start_time": "2023-06-16T12:13:30.471Z"
   },
   {
    "duration": 86,
    "start_time": "2023-06-16T12:13:30.643Z"
   },
   {
    "duration": 137,
    "start_time": "2023-06-16T12:13:30.731Z"
   },
   {
    "duration": 966,
    "start_time": "2023-06-16T12:13:30.870Z"
   },
   {
    "duration": 22,
    "start_time": "2023-06-16T12:13:31.838Z"
   },
   {
    "duration": 307,
    "start_time": "2023-06-16T12:13:31.862Z"
   },
   {
    "duration": 117,
    "start_time": "2023-06-16T12:13:32.171Z"
   },
   {
    "duration": 88,
    "start_time": "2023-06-16T12:13:32.290Z"
   },
   {
    "duration": 166,
    "start_time": "2023-06-16T12:13:32.379Z"
   },
   {
    "duration": 246,
    "start_time": "2023-06-16T12:13:32.546Z"
   },
   {
    "duration": 49,
    "start_time": "2023-06-16T12:13:32.794Z"
   },
   {
    "duration": 242,
    "start_time": "2023-06-16T12:13:32.845Z"
   },
   {
    "duration": 38,
    "start_time": "2023-06-16T12:13:33.089Z"
   },
   {
    "duration": 26,
    "start_time": "2023-06-16T12:13:33.129Z"
   },
   {
    "duration": 5,
    "start_time": "2023-06-16T12:13:33.156Z"
   },
   {
    "duration": 30,
    "start_time": "2023-06-16T12:13:33.162Z"
   },
   {
    "duration": 54,
    "start_time": "2023-06-16T12:13:33.194Z"
   },
   {
    "duration": 77,
    "start_time": "2023-06-16T12:13:33.250Z"
   },
   {
    "duration": 35,
    "start_time": "2023-06-16T12:13:33.329Z"
   },
   {
    "duration": 29,
    "start_time": "2023-06-16T12:13:33.366Z"
   },
   {
    "duration": 162,
    "start_time": "2023-06-16T12:13:33.397Z"
   },
   {
    "duration": 50,
    "start_time": "2023-06-16T12:19:44.489Z"
   },
   {
    "duration": 5,
    "start_time": "2023-06-16T12:19:49.238Z"
   },
   {
    "duration": 32,
    "start_time": "2023-06-16T12:19:50.194Z"
   },
   {
    "duration": 1128,
    "start_time": "2023-06-16T12:58:54.597Z"
   },
   {
    "duration": 2306,
    "start_time": "2023-06-16T12:58:55.728Z"
   },
   {
    "duration": 728,
    "start_time": "2023-06-16T12:58:58.036Z"
   },
   {
    "duration": 17,
    "start_time": "2023-06-16T12:58:58.765Z"
   },
   {
    "duration": 140,
    "start_time": "2023-06-16T12:58:58.784Z"
   },
   {
    "duration": 34,
    "start_time": "2023-06-16T12:58:58.926Z"
   },
   {
    "duration": 466,
    "start_time": "2023-06-16T12:58:58.962Z"
   },
   {
    "duration": 289,
    "start_time": "2023-06-16T12:58:59.429Z"
   },
   {
    "duration": 68,
    "start_time": "2023-06-16T12:58:59.719Z"
   },
   {
    "duration": 38,
    "start_time": "2023-06-16T12:58:59.789Z"
   },
   {
    "duration": 39,
    "start_time": "2023-06-16T12:58:59.829Z"
   },
   {
    "duration": 29,
    "start_time": "2023-06-16T12:58:59.869Z"
   },
   {
    "duration": 52,
    "start_time": "2023-06-16T12:58:59.903Z"
   },
   {
    "duration": 704,
    "start_time": "2023-06-16T12:58:59.957Z"
   },
   {
    "duration": 14,
    "start_time": "2023-06-16T12:59:00.662Z"
   },
   {
    "duration": 147,
    "start_time": "2023-06-16T12:59:00.678Z"
   },
   {
    "duration": 118,
    "start_time": "2023-06-16T12:59:00.826Z"
   },
   {
    "duration": 69,
    "start_time": "2023-06-16T12:59:00.945Z"
   },
   {
    "duration": 97,
    "start_time": "2023-06-16T12:59:01.016Z"
   },
   {
    "duration": 255,
    "start_time": "2023-06-16T12:59:01.115Z"
   },
   {
    "duration": 53,
    "start_time": "2023-06-16T12:59:01.372Z"
   },
   {
    "duration": 105,
    "start_time": "2023-06-16T12:59:01.427Z"
   },
   {
    "duration": 26,
    "start_time": "2023-06-16T12:59:01.534Z"
   },
   {
    "duration": 64,
    "start_time": "2023-06-16T12:59:01.562Z"
   },
   {
    "duration": 33,
    "start_time": "2023-06-16T12:59:01.627Z"
   },
   {
    "duration": 36,
    "start_time": "2023-06-16T12:59:01.661Z"
   },
   {
    "duration": 53,
    "start_time": "2023-06-16T12:59:01.698Z"
   },
   {
    "duration": 134,
    "start_time": "2023-06-16T12:59:01.753Z"
   },
   {
    "duration": 100,
    "start_time": "2023-06-16T12:59:01.888Z"
   },
   {
    "duration": 179,
    "start_time": "2023-06-16T12:59:01.990Z"
   },
   {
    "duration": 0,
    "start_time": "2023-06-16T12:59:02.171Z"
   },
   {
    "duration": 0,
    "start_time": "2023-06-16T12:59:02.172Z"
   },
   {
    "duration": 3,
    "start_time": "2023-06-16T12:59:48.356Z"
   },
   {
    "duration": 29,
    "start_time": "2023-06-16T12:59:55.633Z"
   },
   {
    "duration": 189,
    "start_time": "2023-06-16T14:47:10.384Z"
   },
   {
    "duration": 2821,
    "start_time": "2023-06-16T14:51:09.150Z"
   },
   {
    "duration": 1180,
    "start_time": "2023-06-16T14:51:11.973Z"
   },
   {
    "duration": 891,
    "start_time": "2023-06-16T14:51:13.155Z"
   },
   {
    "duration": 21,
    "start_time": "2023-06-16T14:51:14.048Z"
   },
   {
    "duration": 146,
    "start_time": "2023-06-16T14:51:14.070Z"
   },
   {
    "duration": 41,
    "start_time": "2023-06-16T14:51:14.233Z"
   },
   {
    "duration": 498,
    "start_time": "2023-06-16T14:51:14.275Z"
   },
   {
    "duration": 493,
    "start_time": "2023-06-16T14:51:14.775Z"
   },
   {
    "duration": 168,
    "start_time": "2023-06-16T14:51:15.269Z"
   },
   {
    "duration": 140,
    "start_time": "2023-06-16T14:51:15.451Z"
   },
   {
    "duration": 140,
    "start_time": "2023-06-16T14:51:15.593Z"
   },
   {
    "duration": 110,
    "start_time": "2023-06-16T14:51:15.735Z"
   },
   {
    "duration": 78,
    "start_time": "2023-06-16T14:51:15.847Z"
   },
   {
    "duration": 1032,
    "start_time": "2023-06-16T14:51:15.927Z"
   },
   {
    "duration": 15,
    "start_time": "2023-06-16T14:51:16.962Z"
   },
   {
    "duration": 35,
    "start_time": "2023-06-16T14:51:16.978Z"
   },
   {
    "duration": 39,
    "start_time": "2023-06-16T14:51:17.014Z"
   },
   {
    "duration": 34,
    "start_time": "2023-06-16T14:51:17.054Z"
   },
   {
    "duration": 91,
    "start_time": "2023-06-16T14:51:17.090Z"
   },
   {
    "duration": 285,
    "start_time": "2023-06-16T14:51:17.182Z"
   },
   {
    "duration": 44,
    "start_time": "2023-06-16T14:51:17.469Z"
   },
   {
    "duration": 77,
    "start_time": "2023-06-16T14:51:17.514Z"
   },
   {
    "duration": 59,
    "start_time": "2023-06-16T14:51:17.592Z"
   },
   {
    "duration": 28,
    "start_time": "2023-06-16T14:51:17.657Z"
   },
   {
    "duration": 270,
    "start_time": "2023-06-16T14:51:17.687Z"
   },
   {
    "duration": 37,
    "start_time": "2023-06-16T14:51:17.959Z"
   },
   {
    "duration": 6,
    "start_time": "2023-06-16T14:51:18.002Z"
   },
   {
    "duration": 46,
    "start_time": "2023-06-16T14:51:18.012Z"
   },
   {
    "duration": 23,
    "start_time": "2023-06-16T14:51:18.060Z"
   },
   {
    "duration": 9,
    "start_time": "2023-06-16T14:51:18.085Z"
   },
   {
    "duration": 64,
    "start_time": "2023-06-16T14:51:18.096Z"
   },
   {
    "duration": 11,
    "start_time": "2023-06-16T14:51:18.162Z"
   },
   {
    "duration": 218,
    "start_time": "2023-06-16T14:51:18.175Z"
   },
   {
    "duration": 0,
    "start_time": "2023-06-16T14:51:18.394Z"
   },
   {
    "duration": 0,
    "start_time": "2023-06-16T14:51:18.395Z"
   },
   {
    "duration": 0,
    "start_time": "2023-06-16T14:51:18.396Z"
   },
   {
    "duration": 56701,
    "start_time": "2023-06-16T15:01:32.049Z"
   },
   {
    "duration": 6,
    "start_time": "2023-06-16T15:05:26.855Z"
   },
   {
    "duration": 4,
    "start_time": "2023-06-16T15:06:27.124Z"
   },
   {
    "duration": 2339,
    "start_time": "2023-06-16T15:07:50.421Z"
   },
   {
    "duration": 1047,
    "start_time": "2023-06-16T15:07:52.762Z"
   },
   {
    "duration": 741,
    "start_time": "2023-06-16T15:07:53.810Z"
   },
   {
    "duration": 14,
    "start_time": "2023-06-16T15:07:54.554Z"
   },
   {
    "duration": 165,
    "start_time": "2023-06-16T15:07:54.570Z"
   },
   {
    "duration": 36,
    "start_time": "2023-06-16T15:07:54.736Z"
   },
   {
    "duration": 478,
    "start_time": "2023-06-16T15:07:54.773Z"
   },
   {
    "duration": 303,
    "start_time": "2023-06-16T15:07:55.252Z"
   },
   {
    "duration": 78,
    "start_time": "2023-06-16T15:07:55.556Z"
   },
   {
    "duration": 54,
    "start_time": "2023-06-16T15:07:55.637Z"
   },
   {
    "duration": 68,
    "start_time": "2023-06-16T15:07:55.693Z"
   },
   {
    "duration": 58,
    "start_time": "2023-06-16T15:07:55.763Z"
   },
   {
    "duration": 48,
    "start_time": "2023-06-16T15:07:55.823Z"
   },
   {
    "duration": 788,
    "start_time": "2023-06-16T15:07:55.873Z"
   },
   {
    "duration": 15,
    "start_time": "2023-06-16T15:07:56.663Z"
   },
   {
    "duration": 40,
    "start_time": "2023-06-16T15:07:56.679Z"
   },
   {
    "duration": 29,
    "start_time": "2023-06-16T15:07:56.720Z"
   },
   {
    "duration": 29,
    "start_time": "2023-06-16T15:07:56.751Z"
   },
   {
    "duration": 95,
    "start_time": "2023-06-16T15:07:56.781Z"
   },
   {
    "duration": 264,
    "start_time": "2023-06-16T15:07:56.878Z"
   },
   {
    "duration": 26,
    "start_time": "2023-06-16T15:07:57.144Z"
   },
   {
    "duration": 86,
    "start_time": "2023-06-16T15:07:57.172Z"
   },
   {
    "duration": 31,
    "start_time": "2023-06-16T15:07:57.260Z"
   },
   {
    "duration": 16,
    "start_time": "2023-06-16T15:07:57.299Z"
   },
   {
    "duration": 14,
    "start_time": "2023-06-16T15:07:57.317Z"
   },
   {
    "duration": 38,
    "start_time": "2023-06-16T15:07:57.333Z"
   },
   {
    "duration": 5,
    "start_time": "2023-06-16T15:07:57.372Z"
   },
   {
    "duration": 7,
    "start_time": "2023-06-16T15:07:57.381Z"
   },
   {
    "duration": 27,
    "start_time": "2023-06-16T15:07:57.390Z"
   },
   {
    "duration": 19,
    "start_time": "2023-06-16T15:07:57.419Z"
   },
   {
    "duration": 31,
    "start_time": "2023-06-16T15:07:57.440Z"
   },
   {
    "duration": 15,
    "start_time": "2023-06-16T15:07:57.473Z"
   },
   {
    "duration": 47554,
    "start_time": "2023-06-16T15:07:57.489Z"
   },
   {
    "duration": 10,
    "start_time": "2023-06-16T15:08:45.100Z"
   },
   {
    "duration": 123,
    "start_time": "2023-06-16T15:08:45.112Z"
   },
   {
    "duration": 183,
    "start_time": "2023-06-16T15:08:45.237Z"
   },
   {
    "duration": 0,
    "start_time": "2023-06-16T15:08:45.422Z"
   },
   {
    "duration": 8,
    "start_time": "2023-06-16T15:11:52.314Z"
   },
   {
    "duration": 72,
    "start_time": "2023-06-16T15:14:44.259Z"
   },
   {
    "duration": 2605,
    "start_time": "2023-06-16T15:16:30.920Z"
   },
   {
    "duration": 2154,
    "start_time": "2023-06-16T15:16:33.527Z"
   },
   {
    "duration": 1256,
    "start_time": "2023-06-16T15:16:35.683Z"
   },
   {
    "duration": 15,
    "start_time": "2023-06-16T15:16:36.940Z"
   },
   {
    "duration": 263,
    "start_time": "2023-06-16T15:16:36.958Z"
   },
   {
    "duration": 37,
    "start_time": "2023-06-16T15:16:37.223Z"
   },
   {
    "duration": 511,
    "start_time": "2023-06-16T15:16:37.261Z"
   },
   {
    "duration": 332,
    "start_time": "2023-06-16T15:16:37.773Z"
   },
   {
    "duration": 87,
    "start_time": "2023-06-16T15:16:38.113Z"
   },
   {
    "duration": 38,
    "start_time": "2023-06-16T15:16:38.202Z"
   },
   {
    "duration": 80,
    "start_time": "2023-06-16T15:16:38.241Z"
   },
   {
    "duration": 82,
    "start_time": "2023-06-16T15:16:38.323Z"
   },
   {
    "duration": 131,
    "start_time": "2023-06-16T15:16:38.413Z"
   },
   {
    "duration": 882,
    "start_time": "2023-06-16T15:16:38.548Z"
   },
   {
    "duration": 22,
    "start_time": "2023-06-16T15:16:39.431Z"
   },
   {
    "duration": 57,
    "start_time": "2023-06-16T15:16:39.455Z"
   },
   {
    "duration": 83,
    "start_time": "2023-06-16T15:16:39.515Z"
   },
   {
    "duration": 84,
    "start_time": "2023-06-16T15:16:39.600Z"
   },
   {
    "duration": 381,
    "start_time": "2023-06-16T15:16:39.685Z"
   },
   {
    "duration": 358,
    "start_time": "2023-06-16T15:16:40.067Z"
   },
   {
    "duration": 36,
    "start_time": "2023-06-16T15:16:40.427Z"
   },
   {
    "duration": 82,
    "start_time": "2023-06-16T15:16:40.464Z"
   },
   {
    "duration": 32,
    "start_time": "2023-06-16T15:16:40.548Z"
   },
   {
    "duration": 2,
    "start_time": "2023-06-16T15:16:40.582Z"
   },
   {
    "duration": 41,
    "start_time": "2023-06-16T15:16:40.586Z"
   },
   {
    "duration": 52,
    "start_time": "2023-06-16T15:16:40.629Z"
   },
   {
    "duration": 5,
    "start_time": "2023-06-16T15:16:40.683Z"
   },
   {
    "duration": 9,
    "start_time": "2023-06-16T15:16:40.689Z"
   },
   {
    "duration": 28,
    "start_time": "2023-06-16T15:16:40.699Z"
   },
   {
    "duration": 9,
    "start_time": "2023-06-16T15:16:40.729Z"
   },
   {
    "duration": 12,
    "start_time": "2023-06-16T15:16:40.740Z"
   },
   {
    "duration": 21,
    "start_time": "2023-06-16T15:16:40.754Z"
   },
   {
    "duration": 50,
    "start_time": "2023-06-16T15:16:40.777Z"
   },
   {
    "duration": 45183,
    "start_time": "2023-06-16T15:16:40.828Z"
   },
   {
    "duration": 8,
    "start_time": "2023-06-16T15:17:26.014Z"
   },
   {
    "duration": 115,
    "start_time": "2023-06-16T15:17:26.029Z"
   },
   {
    "duration": 12,
    "start_time": "2023-06-16T15:17:26.146Z"
   },
   {
    "duration": 13,
    "start_time": "2023-06-16T15:17:26.160Z"
   },
   {
    "duration": 7,
    "start_time": "2023-06-16T15:18:32.497Z"
   },
   {
    "duration": 76,
    "start_time": "2023-06-16T15:27:19.548Z"
   },
   {
    "duration": 161,
    "start_time": "2023-06-16T15:32:26.796Z"
   },
   {
    "duration": 2328,
    "start_time": "2023-06-16T15:33:15.302Z"
   },
   {
    "duration": 1094,
    "start_time": "2023-06-16T15:33:17.633Z"
   },
   {
    "duration": 714,
    "start_time": "2023-06-16T15:33:18.729Z"
   },
   {
    "duration": 14,
    "start_time": "2023-06-16T15:33:19.445Z"
   },
   {
    "duration": 116,
    "start_time": "2023-06-16T15:33:19.461Z"
   },
   {
    "duration": 40,
    "start_time": "2023-06-16T15:33:19.578Z"
   },
   {
    "duration": 442,
    "start_time": "2023-06-16T15:33:19.619Z"
   },
   {
    "duration": 285,
    "start_time": "2023-06-16T15:33:20.063Z"
   },
   {
    "duration": 65,
    "start_time": "2023-06-16T15:33:20.350Z"
   },
   {
    "duration": 80,
    "start_time": "2023-06-16T15:33:20.418Z"
   },
   {
    "duration": 104,
    "start_time": "2023-06-16T15:33:20.500Z"
   },
   {
    "duration": 39,
    "start_time": "2023-06-16T15:33:20.605Z"
   },
   {
    "duration": 31,
    "start_time": "2023-06-16T15:33:20.645Z"
   },
   {
    "duration": 715,
    "start_time": "2023-06-16T15:33:20.678Z"
   },
   {
    "duration": 18,
    "start_time": "2023-06-16T15:33:21.394Z"
   },
   {
    "duration": 23,
    "start_time": "2023-06-16T15:33:21.413Z"
   },
   {
    "duration": 25,
    "start_time": "2023-06-16T15:33:21.437Z"
   },
   {
    "duration": 37,
    "start_time": "2023-06-16T15:33:21.463Z"
   },
   {
    "duration": 73,
    "start_time": "2023-06-16T15:33:21.502Z"
   },
   {
    "duration": 249,
    "start_time": "2023-06-16T15:33:21.577Z"
   },
   {
    "duration": 28,
    "start_time": "2023-06-16T15:33:21.828Z"
   },
   {
    "duration": 93,
    "start_time": "2023-06-16T15:33:21.857Z"
   },
   {
    "duration": 26,
    "start_time": "2023-06-16T15:33:21.951Z"
   },
   {
    "duration": 3,
    "start_time": "2023-06-16T15:33:21.978Z"
   },
   {
    "duration": 190,
    "start_time": "2023-06-16T15:33:21.983Z"
   },
   {
    "duration": 35,
    "start_time": "2023-06-16T15:33:22.174Z"
   },
   {
    "duration": 5,
    "start_time": "2023-06-16T15:33:22.210Z"
   },
   {
    "duration": 16,
    "start_time": "2023-06-16T15:33:22.218Z"
   },
   {
    "duration": 12,
    "start_time": "2023-06-16T15:33:22.236Z"
   },
   {
    "duration": 22,
    "start_time": "2023-06-16T15:33:22.250Z"
   },
   {
    "duration": 17,
    "start_time": "2023-06-16T15:33:22.273Z"
   },
   {
    "duration": 18,
    "start_time": "2023-06-16T15:33:22.292Z"
   },
   {
    "duration": 21700,
    "start_time": "2023-06-16T15:33:22.312Z"
   },
   {
    "duration": 86,
    "start_time": "2023-06-16T15:33:44.014Z"
   },
   {
    "duration": 4221,
    "start_time": "2023-06-16T15:33:44.101Z"
   },
   {
    "duration": 2,
    "start_time": "2023-06-16T15:33:48.324Z"
   },
   {
    "duration": 9,
    "start_time": "2023-06-16T15:33:48.327Z"
   },
   {
    "duration": 11,
    "start_time": "2023-06-16T15:33:48.337Z"
   },
   {
    "duration": 21,
    "start_time": "2023-06-16T15:46:32.835Z"
   },
   {
    "duration": 168,
    "start_time": "2023-06-16T15:57:32.748Z"
   },
   {
    "duration": 4,
    "start_time": "2023-06-16T15:59:42.247Z"
   },
   {
    "duration": 10,
    "start_time": "2023-06-16T15:59:47.573Z"
   },
   {
    "duration": 3,
    "start_time": "2023-06-16T16:00:27.498Z"
   },
   {
    "duration": 11,
    "start_time": "2023-06-16T16:00:29.447Z"
   },
   {
    "duration": 4,
    "start_time": "2023-06-16T16:01:11.571Z"
   },
   {
    "duration": 12,
    "start_time": "2023-06-16T16:01:17.392Z"
   },
   {
    "duration": 5,
    "start_time": "2023-06-16T16:03:07.699Z"
   },
   {
    "duration": 11,
    "start_time": "2023-06-16T16:03:12.521Z"
   },
   {
    "duration": 3,
    "start_time": "2023-06-16T16:03:17.895Z"
   },
   {
    "duration": 13,
    "start_time": "2023-06-16T16:03:18.453Z"
   },
   {
    "duration": 609,
    "start_time": "2023-06-16T16:05:01.496Z"
   },
   {
    "duration": 563,
    "start_time": "2023-06-16T16:22:10.668Z"
   },
   {
    "duration": 6,
    "start_time": "2023-06-16T16:28:19.536Z"
   },
   {
    "duration": 56,
    "start_time": "2023-06-16T16:28:22.061Z"
   },
   {
    "duration": 87,
    "start_time": "2023-06-16T16:29:20.431Z"
   },
   {
    "duration": 2504,
    "start_time": "2023-06-16T16:30:47.693Z"
   },
   {
    "duration": 1213,
    "start_time": "2023-06-16T16:30:50.210Z"
   },
   {
    "duration": 809,
    "start_time": "2023-06-16T16:30:51.424Z"
   },
   {
    "duration": 16,
    "start_time": "2023-06-16T16:30:52.235Z"
   },
   {
    "duration": 209,
    "start_time": "2023-06-16T16:30:52.253Z"
   },
   {
    "duration": 51,
    "start_time": "2023-06-16T16:30:52.464Z"
   },
   {
    "duration": 482,
    "start_time": "2023-06-16T16:30:52.516Z"
   },
   {
    "duration": 333,
    "start_time": "2023-06-16T16:30:53.005Z"
   },
   {
    "duration": 92,
    "start_time": "2023-06-16T16:30:53.340Z"
   },
   {
    "duration": 98,
    "start_time": "2023-06-16T16:30:53.436Z"
   },
   {
    "duration": 96,
    "start_time": "2023-06-16T16:30:53.538Z"
   },
   {
    "duration": 63,
    "start_time": "2023-06-16T16:30:53.636Z"
   },
   {
    "duration": 79,
    "start_time": "2023-06-16T16:30:53.702Z"
   },
   {
    "duration": 765,
    "start_time": "2023-06-16T16:30:53.782Z"
   },
   {
    "duration": 15,
    "start_time": "2023-06-16T16:30:54.548Z"
   },
   {
    "duration": 32,
    "start_time": "2023-06-16T16:30:54.564Z"
   },
   {
    "duration": 59,
    "start_time": "2023-06-16T16:30:54.598Z"
   },
   {
    "duration": 21,
    "start_time": "2023-06-16T16:30:54.659Z"
   },
   {
    "duration": 88,
    "start_time": "2023-06-16T16:30:54.681Z"
   },
   {
    "duration": 277,
    "start_time": "2023-06-16T16:30:54.770Z"
   },
   {
    "duration": 28,
    "start_time": "2023-06-16T16:30:55.048Z"
   },
   {
    "duration": 88,
    "start_time": "2023-06-16T16:30:55.077Z"
   },
   {
    "duration": 26,
    "start_time": "2023-06-16T16:30:55.166Z"
   },
   {
    "duration": 17,
    "start_time": "2023-06-16T16:30:55.199Z"
   },
   {
    "duration": 227,
    "start_time": "2023-06-16T16:30:55.229Z"
   },
   {
    "duration": 29,
    "start_time": "2023-06-16T16:30:55.458Z"
   },
   {
    "duration": 20,
    "start_time": "2023-06-16T16:30:55.489Z"
   },
   {
    "duration": 130,
    "start_time": "2023-06-16T16:30:55.515Z"
   },
   {
    "duration": 4,
    "start_time": "2023-06-16T16:30:55.647Z"
   },
   {
    "duration": 10,
    "start_time": "2023-06-16T16:30:55.652Z"
   },
   {
    "duration": 12,
    "start_time": "2023-06-16T16:30:55.663Z"
   },
   {
    "duration": 5,
    "start_time": "2023-06-16T16:30:55.677Z"
   },
   {
    "duration": 61,
    "start_time": "2023-06-16T16:30:55.684Z"
   },
   {
    "duration": 65817,
    "start_time": "2023-06-16T16:30:55.746Z"
   },
   {
    "duration": 0,
    "start_time": "2023-06-16T16:32:01.564Z"
   },
   {
    "duration": 0,
    "start_time": "2023-06-16T16:32:01.565Z"
   },
   {
    "duration": 0,
    "start_time": "2023-06-16T16:32:01.566Z"
   },
   {
    "duration": 0,
    "start_time": "2023-06-16T16:32:01.566Z"
   },
   {
    "duration": 0,
    "start_time": "2023-06-16T16:32:01.567Z"
   },
   {
    "duration": 0,
    "start_time": "2023-06-16T16:32:01.568Z"
   },
   {
    "duration": 0,
    "start_time": "2023-06-16T16:32:01.569Z"
   },
   {
    "duration": 0,
    "start_time": "2023-06-16T16:32:01.569Z"
   },
   {
    "duration": 2527,
    "start_time": "2023-06-16T16:33:21.429Z"
   },
   {
    "duration": 1188,
    "start_time": "2023-06-16T16:33:23.958Z"
   },
   {
    "duration": 838,
    "start_time": "2023-06-16T16:33:25.147Z"
   },
   {
    "duration": 56,
    "start_time": "2023-06-16T16:33:25.987Z"
   },
   {
    "duration": 200,
    "start_time": "2023-06-16T16:33:26.045Z"
   },
   {
    "duration": 46,
    "start_time": "2023-06-16T16:33:26.247Z"
   },
   {
    "duration": 486,
    "start_time": "2023-06-16T16:33:26.295Z"
   },
   {
    "duration": 360,
    "start_time": "2023-06-16T16:33:26.783Z"
   },
   {
    "duration": 107,
    "start_time": "2023-06-16T16:33:27.144Z"
   },
   {
    "duration": 78,
    "start_time": "2023-06-16T16:33:27.253Z"
   },
   {
    "duration": 46,
    "start_time": "2023-06-16T16:33:27.338Z"
   },
   {
    "duration": 93,
    "start_time": "2023-06-16T16:33:27.386Z"
   },
   {
    "duration": 49,
    "start_time": "2023-06-16T16:33:27.480Z"
   },
   {
    "duration": 788,
    "start_time": "2023-06-16T16:33:27.531Z"
   },
   {
    "duration": 20,
    "start_time": "2023-06-16T16:33:28.322Z"
   },
   {
    "duration": 73,
    "start_time": "2023-06-16T16:33:28.345Z"
   },
   {
    "duration": 47,
    "start_time": "2023-06-16T16:33:28.419Z"
   },
   {
    "duration": 22,
    "start_time": "2023-06-16T16:33:28.468Z"
   },
   {
    "duration": 130,
    "start_time": "2023-06-16T16:33:28.491Z"
   },
   {
    "duration": 280,
    "start_time": "2023-06-16T16:33:28.622Z"
   },
   {
    "duration": 33,
    "start_time": "2023-06-16T16:33:28.903Z"
   },
   {
    "duration": 129,
    "start_time": "2023-06-16T16:33:28.937Z"
   },
   {
    "duration": 31,
    "start_time": "2023-06-16T16:33:29.068Z"
   },
   {
    "duration": 66,
    "start_time": "2023-06-16T16:33:29.100Z"
   },
   {
    "duration": 99,
    "start_time": "2023-06-16T16:33:29.167Z"
   },
   {
    "duration": 187,
    "start_time": "2023-06-16T16:33:29.268Z"
   },
   {
    "duration": 25,
    "start_time": "2023-06-16T16:33:29.457Z"
   },
   {
    "duration": 12,
    "start_time": "2023-06-16T16:33:29.484Z"
   },
   {
    "duration": 92,
    "start_time": "2023-06-16T16:33:29.498Z"
   },
   {
    "duration": 4,
    "start_time": "2023-06-16T16:33:29.591Z"
   },
   {
    "duration": 53,
    "start_time": "2023-06-16T16:33:29.597Z"
   },
   {
    "duration": 127,
    "start_time": "2023-06-16T16:33:29.652Z"
   },
   {
    "duration": 8,
    "start_time": "2023-06-16T16:33:29.781Z"
   },
   {
    "duration": 65,
    "start_time": "2023-06-16T16:33:29.791Z"
   },
   {
    "duration": 71022,
    "start_time": "2023-06-16T16:33:29.858Z"
   },
   {
    "duration": 0,
    "start_time": "2023-06-16T16:34:40.881Z"
   },
   {
    "duration": 0,
    "start_time": "2023-06-16T16:34:40.882Z"
   },
   {
    "duration": 0,
    "start_time": "2023-06-16T16:34:40.883Z"
   },
   {
    "duration": 0,
    "start_time": "2023-06-16T16:34:40.884Z"
   },
   {
    "duration": 0,
    "start_time": "2023-06-16T16:34:40.885Z"
   },
   {
    "duration": 0,
    "start_time": "2023-06-16T16:34:40.886Z"
   },
   {
    "duration": 0,
    "start_time": "2023-06-16T16:34:40.887Z"
   },
   {
    "duration": 0,
    "start_time": "2023-06-16T16:34:40.888Z"
   },
   {
    "duration": 2589,
    "start_time": "2023-06-16T16:37:05.583Z"
   },
   {
    "duration": 1239,
    "start_time": "2023-06-16T16:37:08.174Z"
   },
   {
    "duration": 931,
    "start_time": "2023-06-16T16:37:09.415Z"
   },
   {
    "duration": 25,
    "start_time": "2023-06-16T16:37:10.349Z"
   },
   {
    "duration": 215,
    "start_time": "2023-06-16T16:37:10.375Z"
   },
   {
    "duration": 53,
    "start_time": "2023-06-16T16:37:10.592Z"
   },
   {
    "duration": 559,
    "start_time": "2023-06-16T16:37:10.646Z"
   },
   {
    "duration": 371,
    "start_time": "2023-06-16T16:37:11.218Z"
   },
   {
    "duration": 101,
    "start_time": "2023-06-16T16:37:11.590Z"
   },
   {
    "duration": 59,
    "start_time": "2023-06-16T16:37:11.693Z"
   },
   {
    "duration": 31,
    "start_time": "2023-06-16T16:37:11.755Z"
   },
   {
    "duration": 95,
    "start_time": "2023-06-16T16:37:11.787Z"
   },
   {
    "duration": 69,
    "start_time": "2023-06-16T16:37:11.884Z"
   },
   {
    "duration": 852,
    "start_time": "2023-06-16T16:37:11.954Z"
   },
   {
    "duration": 32,
    "start_time": "2023-06-16T16:37:12.830Z"
   },
   {
    "duration": 18,
    "start_time": "2023-06-16T16:37:12.864Z"
   },
   {
    "duration": 32,
    "start_time": "2023-06-16T16:37:12.884Z"
   },
   {
    "duration": 26,
    "start_time": "2023-06-16T16:37:12.918Z"
   },
   {
    "duration": 124,
    "start_time": "2023-06-16T16:37:12.946Z"
   },
   {
    "duration": 309,
    "start_time": "2023-06-16T16:37:13.071Z"
   },
   {
    "duration": 63,
    "start_time": "2023-06-16T16:37:13.381Z"
   },
   {
    "duration": 100,
    "start_time": "2023-06-16T16:37:13.446Z"
   },
   {
    "duration": 36,
    "start_time": "2023-06-16T16:37:13.550Z"
   },
   {
    "duration": 110,
    "start_time": "2023-06-16T16:37:13.588Z"
   },
   {
    "duration": 155,
    "start_time": "2023-06-16T16:37:13.699Z"
   },
   {
    "duration": 206,
    "start_time": "2023-06-16T16:37:13.855Z"
   },
   {
    "duration": 20,
    "start_time": "2023-06-16T16:37:14.063Z"
   },
   {
    "duration": 48,
    "start_time": "2023-06-16T16:37:14.086Z"
   },
   {
    "duration": 52,
    "start_time": "2023-06-16T16:37:14.144Z"
   },
   {
    "duration": 29,
    "start_time": "2023-06-16T16:37:14.205Z"
   },
   {
    "duration": 8,
    "start_time": "2023-06-16T16:37:14.239Z"
   },
   {
    "duration": 17,
    "start_time": "2023-06-16T16:37:14.248Z"
   },
   {
    "duration": 27,
    "start_time": "2023-06-16T16:37:14.266Z"
   },
   {
    "duration": 3,
    "start_time": "2023-06-16T16:37:14.295Z"
   },
   {
    "duration": 73357,
    "start_time": "2023-06-16T16:37:14.299Z"
   },
   {
    "duration": 55,
    "start_time": "2023-06-16T16:38:27.658Z"
   },
   {
    "duration": 3045,
    "start_time": "2023-06-16T16:38:27.714Z"
   },
   {
    "duration": 2,
    "start_time": "2023-06-16T16:38:30.761Z"
   },
   {
    "duration": 76,
    "start_time": "2023-06-16T16:38:30.764Z"
   },
   {
    "duration": 167,
    "start_time": "2023-06-16T16:38:30.842Z"
   },
   {
    "duration": 77,
    "start_time": "2023-06-16T16:38:31.011Z"
   },
   {
    "duration": 253,
    "start_time": "2023-06-16T16:38:31.090Z"
   },
   {
    "duration": 0,
    "start_time": "2023-06-16T16:38:31.346Z"
   },
   {
    "duration": 81,
    "start_time": "2023-06-16T16:39:38.750Z"
   },
   {
    "duration": 48,
    "start_time": "2023-06-16T16:39:39.726Z"
   },
   {
    "duration": 13,
    "start_time": "2023-06-16T16:39:44.096Z"
   },
   {
    "duration": 49,
    "start_time": "2023-06-16T16:39:45.326Z"
   },
   {
    "duration": 120,
    "start_time": "2023-06-16T16:42:06.228Z"
   },
   {
    "duration": 109,
    "start_time": "2023-06-16T16:43:47.979Z"
   },
   {
    "duration": 111,
    "start_time": "2023-06-16T16:45:02.162Z"
   },
   {
    "duration": 74,
    "start_time": "2023-06-16T16:45:06.524Z"
   },
   {
    "duration": 35,
    "start_time": "2023-06-16T16:45:14.048Z"
   },
   {
    "duration": 3,
    "start_time": "2023-06-16T16:45:37.960Z"
   },
   {
    "duration": 14,
    "start_time": "2023-06-16T16:45:39.126Z"
   },
   {
    "duration": 7627,
    "start_time": "2023-06-17T07:18:04.338Z"
   },
   {
    "duration": 1749,
    "start_time": "2023-06-17T07:18:11.968Z"
   },
   {
    "duration": 3872,
    "start_time": "2023-06-17T07:18:13.720Z"
   },
   {
    "duration": 18,
    "start_time": "2023-06-17T07:18:17.594Z"
   },
   {
    "duration": 165,
    "start_time": "2023-06-17T07:18:17.615Z"
   },
   {
    "duration": 851,
    "start_time": "2023-06-17T07:18:17.783Z"
   },
   {
    "duration": 0,
    "start_time": "2023-06-17T07:18:18.637Z"
   },
   {
    "duration": 0,
    "start_time": "2023-06-17T07:18:18.639Z"
   },
   {
    "duration": 0,
    "start_time": "2023-06-17T07:18:18.641Z"
   },
   {
    "duration": 0,
    "start_time": "2023-06-17T07:18:18.642Z"
   },
   {
    "duration": 0,
    "start_time": "2023-06-17T07:18:18.643Z"
   },
   {
    "duration": 0,
    "start_time": "2023-06-17T07:18:18.644Z"
   },
   {
    "duration": 0,
    "start_time": "2023-06-17T07:18:18.645Z"
   },
   {
    "duration": 0,
    "start_time": "2023-06-17T07:18:18.646Z"
   },
   {
    "duration": 0,
    "start_time": "2023-06-17T07:18:18.648Z"
   },
   {
    "duration": 0,
    "start_time": "2023-06-17T07:18:18.648Z"
   },
   {
    "duration": 0,
    "start_time": "2023-06-17T07:18:18.651Z"
   },
   {
    "duration": 0,
    "start_time": "2023-06-17T07:18:18.652Z"
   },
   {
    "duration": 0,
    "start_time": "2023-06-17T07:18:18.653Z"
   },
   {
    "duration": 0,
    "start_time": "2023-06-17T07:18:18.655Z"
   },
   {
    "duration": 0,
    "start_time": "2023-06-17T07:18:18.656Z"
   },
   {
    "duration": 0,
    "start_time": "2023-06-17T07:18:18.657Z"
   },
   {
    "duration": 0,
    "start_time": "2023-06-17T07:18:18.658Z"
   },
   {
    "duration": 0,
    "start_time": "2023-06-17T07:18:18.659Z"
   },
   {
    "duration": 0,
    "start_time": "2023-06-17T07:18:18.660Z"
   },
   {
    "duration": 0,
    "start_time": "2023-06-17T07:18:18.662Z"
   },
   {
    "duration": 0,
    "start_time": "2023-06-17T07:18:18.663Z"
   },
   {
    "duration": 0,
    "start_time": "2023-06-17T07:18:18.664Z"
   },
   {
    "duration": 0,
    "start_time": "2023-06-17T07:18:18.665Z"
   },
   {
    "duration": 0,
    "start_time": "2023-06-17T07:18:18.666Z"
   },
   {
    "duration": 0,
    "start_time": "2023-06-17T07:18:18.667Z"
   },
   {
    "duration": 1,
    "start_time": "2023-06-17T07:18:18.667Z"
   },
   {
    "duration": 0,
    "start_time": "2023-06-17T07:18:18.669Z"
   },
   {
    "duration": 0,
    "start_time": "2023-06-17T07:18:18.670Z"
   },
   {
    "duration": 0,
    "start_time": "2023-06-17T07:18:18.671Z"
   },
   {
    "duration": 0,
    "start_time": "2023-06-17T07:18:18.672Z"
   },
   {
    "duration": 0,
    "start_time": "2023-06-17T07:18:18.716Z"
   },
   {
    "duration": 0,
    "start_time": "2023-06-17T07:18:18.716Z"
   },
   {
    "duration": 0,
    "start_time": "2023-06-17T07:18:18.717Z"
   },
   {
    "duration": 0,
    "start_time": "2023-06-17T07:18:18.718Z"
   },
   {
    "duration": 0,
    "start_time": "2023-06-17T07:18:18.718Z"
   },
   {
    "duration": 0,
    "start_time": "2023-06-17T07:18:18.719Z"
   },
   {
    "duration": 0,
    "start_time": "2023-06-17T07:18:18.719Z"
   },
   {
    "duration": 0,
    "start_time": "2023-06-17T07:18:18.722Z"
   },
   {
    "duration": 0,
    "start_time": "2023-06-17T07:18:18.723Z"
   },
   {
    "duration": 0,
    "start_time": "2023-06-17T07:18:18.724Z"
   },
   {
    "duration": 0,
    "start_time": "2023-06-17T07:18:18.727Z"
   },
   {
    "duration": 0,
    "start_time": "2023-06-17T07:18:18.728Z"
   },
   {
    "duration": 116,
    "start_time": "2023-06-17T07:19:03.705Z"
   },
   {
    "duration": 66,
    "start_time": "2023-06-17T07:19:10.061Z"
   },
   {
    "duration": 113,
    "start_time": "2023-06-17T07:30:48.064Z"
   },
   {
    "duration": 976,
    "start_time": "2023-06-17T07:30:53.532Z"
   },
   {
    "duration": 589,
    "start_time": "2023-06-17T07:30:59.504Z"
   },
   {
    "duration": 165,
    "start_time": "2023-06-17T07:31:00.880Z"
   },
   {
    "duration": 73,
    "start_time": "2023-06-17T07:31:03.131Z"
   },
   {
    "duration": 52,
    "start_time": "2023-06-17T07:32:29.011Z"
   },
   {
    "duration": 87,
    "start_time": "2023-06-17T07:32:30.614Z"
   },
   {
    "duration": 71,
    "start_time": "2023-06-17T07:56:54.629Z"
   },
   {
    "duration": 103,
    "start_time": "2023-06-17T07:59:28.850Z"
   },
   {
    "duration": 256,
    "start_time": "2023-06-17T07:59:41.198Z"
   },
   {
    "duration": 122,
    "start_time": "2023-06-17T07:59:49.135Z"
   },
   {
    "duration": 30,
    "start_time": "2023-06-17T08:15:59.051Z"
   },
   {
    "duration": 29,
    "start_time": "2023-06-17T08:17:45.467Z"
   },
   {
    "duration": 138,
    "start_time": "2023-06-17T08:17:51.551Z"
   },
   {
    "duration": 69,
    "start_time": "2023-06-17T08:18:58.496Z"
   },
   {
    "duration": 243,
    "start_time": "2023-06-17T08:51:12.567Z"
   },
   {
    "duration": 31,
    "start_time": "2023-06-17T08:51:18.538Z"
   },
   {
    "duration": 79,
    "start_time": "2023-06-17T08:51:48.302Z"
   },
   {
    "duration": 11,
    "start_time": "2023-06-17T08:52:00.907Z"
   },
   {
    "duration": 26,
    "start_time": "2023-06-17T09:21:07.240Z"
   },
   {
    "duration": 37,
    "start_time": "2023-06-17T09:21:28.558Z"
   },
   {
    "duration": 38,
    "start_time": "2023-06-17T09:22:00.211Z"
   },
   {
    "duration": 66,
    "start_time": "2023-06-17T09:23:40.809Z"
   },
   {
    "duration": 23,
    "start_time": "2023-06-17T09:24:20.480Z"
   },
   {
    "duration": 17,
    "start_time": "2023-06-17T09:24:23.255Z"
   },
   {
    "duration": 10,
    "start_time": "2023-06-17T09:24:59.300Z"
   },
   {
    "duration": 24,
    "start_time": "2023-06-17T09:27:36.178Z"
   },
   {
    "duration": 1780,
    "start_time": "2023-06-17T09:27:47.155Z"
   },
   {
    "duration": 16,
    "start_time": "2023-06-17T09:28:08.569Z"
   },
   {
    "duration": 26,
    "start_time": "2023-06-17T09:28:44.439Z"
   },
   {
    "duration": 26,
    "start_time": "2023-06-17T09:31:11.312Z"
   },
   {
    "duration": 138,
    "start_time": "2023-06-17T09:31:54.060Z"
   },
   {
    "duration": 1382,
    "start_time": "2023-06-17T09:32:35.163Z"
   },
   {
    "duration": 1386,
    "start_time": "2023-06-17T09:33:10.793Z"
   },
   {
    "duration": 2816,
    "start_time": "2023-06-17T09:37:35.333Z"
   },
   {
    "duration": 23,
    "start_time": "2023-06-17T09:38:55.797Z"
   },
   {
    "duration": 57,
    "start_time": "2023-06-17T09:45:59.518Z"
   },
   {
    "duration": 72,
    "start_time": "2023-06-17T09:51:58.405Z"
   },
   {
    "duration": 99,
    "start_time": "2023-06-17T09:56:26.438Z"
   },
   {
    "duration": 67,
    "start_time": "2023-06-17T09:57:27.163Z"
   },
   {
    "duration": 78,
    "start_time": "2023-06-17T09:57:43.239Z"
   },
   {
    "duration": 37,
    "start_time": "2023-06-17T09:59:55.612Z"
   },
   {
    "duration": 34,
    "start_time": "2023-06-17T10:00:19.847Z"
   },
   {
    "duration": 3598,
    "start_time": "2023-06-17T10:05:05.063Z"
   },
   {
    "duration": 3665,
    "start_time": "2023-06-17T10:07:20.712Z"
   },
   {
    "duration": 108,
    "start_time": "2023-06-17T10:08:35.305Z"
   },
   {
    "duration": 109,
    "start_time": "2023-06-17T10:09:32.540Z"
   },
   {
    "duration": 105,
    "start_time": "2023-06-17T10:11:02.320Z"
   },
   {
    "duration": 86,
    "start_time": "2023-06-17T10:26:46.415Z"
   },
   {
    "duration": 164,
    "start_time": "2023-06-17T10:26:55.765Z"
   },
   {
    "duration": 3433,
    "start_time": "2023-06-17T10:27:10.968Z"
   },
   {
    "duration": 3707,
    "start_time": "2023-06-17T10:27:48.741Z"
   },
   {
    "duration": 2172,
    "start_time": "2023-06-17T10:36:46.834Z"
   },
   {
    "duration": 15,
    "start_time": "2023-06-17T10:39:12.252Z"
   },
   {
    "duration": 3700,
    "start_time": "2023-06-17T10:39:39.413Z"
   },
   {
    "duration": 51,
    "start_time": "2023-06-17T10:41:40.238Z"
   },
   {
    "duration": 31,
    "start_time": "2023-06-17T10:42:10.042Z"
   },
   {
    "duration": 27,
    "start_time": "2023-06-17T10:47:19.108Z"
   },
   {
    "duration": 62,
    "start_time": "2023-06-17T10:47:39.819Z"
   },
   {
    "duration": 38,
    "start_time": "2023-06-17T10:47:40.647Z"
   },
   {
    "duration": 57,
    "start_time": "2023-06-17T10:47:41.235Z"
   },
   {
    "duration": 72,
    "start_time": "2023-06-17T10:48:31.196Z"
   },
   {
    "duration": 3874,
    "start_time": "2023-06-17T10:52:07.560Z"
   },
   {
    "duration": 2609,
    "start_time": "2023-06-17T10:52:11.441Z"
   },
   {
    "duration": 6060,
    "start_time": "2023-06-17T10:52:14.054Z"
   },
   {
    "duration": 38,
    "start_time": "2023-06-17T10:52:20.120Z"
   },
   {
    "duration": 183,
    "start_time": "2023-06-17T10:52:20.165Z"
   },
   {
    "duration": 120,
    "start_time": "2023-06-17T10:52:20.353Z"
   },
   {
    "duration": 85,
    "start_time": "2023-06-17T10:52:20.481Z"
   },
   {
    "duration": 66,
    "start_time": "2023-06-17T10:52:20.572Z"
   },
   {
    "duration": 797,
    "start_time": "2023-06-17T10:52:20.645Z"
   },
   {
    "duration": 431,
    "start_time": "2023-06-17T10:52:21.448Z"
   },
   {
    "duration": 118,
    "start_time": "2023-06-17T10:52:21.886Z"
   },
   {
    "duration": 49,
    "start_time": "2023-06-17T10:52:22.010Z"
   },
   {
    "duration": 34,
    "start_time": "2023-06-17T10:52:22.065Z"
   },
   {
    "duration": 32,
    "start_time": "2023-06-17T10:52:22.112Z"
   },
   {
    "duration": 56,
    "start_time": "2023-06-17T10:52:22.151Z"
   },
   {
    "duration": 49,
    "start_time": "2023-06-17T10:52:22.215Z"
   },
   {
    "duration": 966,
    "start_time": "2023-06-17T10:52:22.272Z"
   },
   {
    "duration": 26,
    "start_time": "2023-06-17T10:52:23.245Z"
   },
   {
    "duration": 34,
    "start_time": "2023-06-17T10:52:23.277Z"
   },
   {
    "duration": 49,
    "start_time": "2023-06-17T10:52:23.322Z"
   },
   {
    "duration": 36,
    "start_time": "2023-06-17T10:52:23.377Z"
   },
   {
    "duration": 15,
    "start_time": "2023-06-17T10:52:23.419Z"
   },
   {
    "duration": 157,
    "start_time": "2023-06-17T10:52:23.440Z"
   },
   {
    "duration": 14,
    "start_time": "2023-06-17T10:52:23.604Z"
   },
   {
    "duration": 185,
    "start_time": "2023-06-17T10:52:23.625Z"
   },
   {
    "duration": 0,
    "start_time": "2023-06-17T10:52:23.818Z"
   },
   {
    "duration": 0,
    "start_time": "2023-06-17T10:52:23.829Z"
   },
   {
    "duration": 0,
    "start_time": "2023-06-17T10:52:23.837Z"
   },
   {
    "duration": 0,
    "start_time": "2023-06-17T10:52:23.847Z"
   },
   {
    "duration": 0,
    "start_time": "2023-06-17T10:52:23.857Z"
   },
   {
    "duration": 0,
    "start_time": "2023-06-17T10:52:23.859Z"
   },
   {
    "duration": 0,
    "start_time": "2023-06-17T10:52:23.871Z"
   },
   {
    "duration": 0,
    "start_time": "2023-06-17T10:52:23.880Z"
   },
   {
    "duration": 0,
    "start_time": "2023-06-17T10:52:23.882Z"
   },
   {
    "duration": 0,
    "start_time": "2023-06-17T10:52:23.883Z"
   },
   {
    "duration": 0,
    "start_time": "2023-06-17T10:52:23.885Z"
   },
   {
    "duration": 0,
    "start_time": "2023-06-17T10:52:23.890Z"
   },
   {
    "duration": 0,
    "start_time": "2023-06-17T10:52:23.894Z"
   },
   {
    "duration": 0,
    "start_time": "2023-06-17T10:52:23.896Z"
   },
   {
    "duration": 0,
    "start_time": "2023-06-17T10:52:23.897Z"
   },
   {
    "duration": 0,
    "start_time": "2023-06-17T10:52:23.906Z"
   },
   {
    "duration": 0,
    "start_time": "2023-06-17T10:52:23.907Z"
   },
   {
    "duration": 0,
    "start_time": "2023-06-17T10:52:23.909Z"
   },
   {
    "duration": 0,
    "start_time": "2023-06-17T10:52:23.922Z"
   },
   {
    "duration": 0,
    "start_time": "2023-06-17T10:52:23.924Z"
   },
   {
    "duration": 0,
    "start_time": "2023-06-17T10:52:23.925Z"
   },
   {
    "duration": 0,
    "start_time": "2023-06-17T10:52:23.927Z"
   },
   {
    "duration": 0,
    "start_time": "2023-06-17T10:52:23.929Z"
   },
   {
    "duration": 0,
    "start_time": "2023-06-17T10:52:23.930Z"
   },
   {
    "duration": 0,
    "start_time": "2023-06-17T10:52:23.932Z"
   },
   {
    "duration": 0,
    "start_time": "2023-06-17T10:52:23.934Z"
   },
   {
    "duration": 0,
    "start_time": "2023-06-17T10:52:23.935Z"
   },
   {
    "duration": 0,
    "start_time": "2023-06-17T10:52:23.937Z"
   },
   {
    "duration": 0,
    "start_time": "2023-06-17T10:52:23.942Z"
   },
   {
    "duration": 0,
    "start_time": "2023-06-17T10:52:23.944Z"
   },
   {
    "duration": 0,
    "start_time": "2023-06-17T10:52:23.949Z"
   },
   {
    "duration": 12,
    "start_time": "2023-06-17T10:53:24.240Z"
   },
   {
    "duration": 4037,
    "start_time": "2023-06-17T10:59:01.884Z"
   },
   {
    "duration": 1762,
    "start_time": "2023-06-17T10:59:05.924Z"
   },
   {
    "duration": 1248,
    "start_time": "2023-06-17T10:59:07.697Z"
   },
   {
    "duration": 31,
    "start_time": "2023-06-17T10:59:08.947Z"
   },
   {
    "duration": 275,
    "start_time": "2023-06-17T10:59:08.983Z"
   },
   {
    "duration": 164,
    "start_time": "2023-06-17T10:59:09.266Z"
   },
   {
    "duration": 63,
    "start_time": "2023-06-17T10:59:09.438Z"
   },
   {
    "duration": 89,
    "start_time": "2023-06-17T10:59:09.504Z"
   },
   {
    "duration": 757,
    "start_time": "2023-06-17T10:59:09.599Z"
   },
   {
    "duration": 466,
    "start_time": "2023-06-17T10:59:10.361Z"
   },
   {
    "duration": 130,
    "start_time": "2023-06-17T10:59:10.829Z"
   },
   {
    "duration": 54,
    "start_time": "2023-06-17T10:59:10.965Z"
   },
   {
    "duration": 36,
    "start_time": "2023-06-17T10:59:11.026Z"
   },
   {
    "duration": 32,
    "start_time": "2023-06-17T10:59:11.072Z"
   },
   {
    "duration": 44,
    "start_time": "2023-06-17T10:59:11.111Z"
   },
   {
    "duration": 44,
    "start_time": "2023-06-17T10:59:11.161Z"
   },
   {
    "duration": 985,
    "start_time": "2023-06-17T10:59:11.212Z"
   },
   {
    "duration": 10,
    "start_time": "2023-06-17T10:59:12.205Z"
   },
   {
    "duration": 39,
    "start_time": "2023-06-17T10:59:12.221Z"
   },
   {
    "duration": 55,
    "start_time": "2023-06-17T10:59:12.267Z"
   },
   {
    "duration": 38,
    "start_time": "2023-06-17T10:59:12.333Z"
   },
   {
    "duration": 16,
    "start_time": "2023-06-17T10:59:12.377Z"
   },
   {
    "duration": 131,
    "start_time": "2023-06-17T10:59:12.399Z"
   },
   {
    "duration": 22,
    "start_time": "2023-06-17T10:59:12.537Z"
   },
   {
    "duration": 138,
    "start_time": "2023-06-17T10:59:12.565Z"
   },
   {
    "duration": 0,
    "start_time": "2023-06-17T10:59:12.711Z"
   },
   {
    "duration": 0,
    "start_time": "2023-06-17T10:59:12.718Z"
   },
   {
    "duration": 0,
    "start_time": "2023-06-17T10:59:12.729Z"
   },
   {
    "duration": 0,
    "start_time": "2023-06-17T10:59:12.734Z"
   },
   {
    "duration": 0,
    "start_time": "2023-06-17T10:59:12.739Z"
   },
   {
    "duration": 0,
    "start_time": "2023-06-17T10:59:12.744Z"
   },
   {
    "duration": 0,
    "start_time": "2023-06-17T10:59:12.753Z"
   },
   {
    "duration": 0,
    "start_time": "2023-06-17T10:59:12.755Z"
   },
   {
    "duration": 0,
    "start_time": "2023-06-17T10:59:12.756Z"
   },
   {
    "duration": 0,
    "start_time": "2023-06-17T10:59:12.758Z"
   },
   {
    "duration": 0,
    "start_time": "2023-06-17T10:59:12.762Z"
   },
   {
    "duration": 0,
    "start_time": "2023-06-17T10:59:12.764Z"
   },
   {
    "duration": 0,
    "start_time": "2023-06-17T10:59:12.765Z"
   },
   {
    "duration": 0,
    "start_time": "2023-06-17T10:59:12.770Z"
   },
   {
    "duration": 0,
    "start_time": "2023-06-17T10:59:12.772Z"
   },
   {
    "duration": 0,
    "start_time": "2023-06-17T10:59:12.774Z"
   },
   {
    "duration": 0,
    "start_time": "2023-06-17T10:59:12.780Z"
   },
   {
    "duration": 0,
    "start_time": "2023-06-17T10:59:12.782Z"
   },
   {
    "duration": 0,
    "start_time": "2023-06-17T10:59:12.790Z"
   },
   {
    "duration": 0,
    "start_time": "2023-06-17T10:59:12.792Z"
   },
   {
    "duration": 0,
    "start_time": "2023-06-17T10:59:12.793Z"
   },
   {
    "duration": 0,
    "start_time": "2023-06-17T10:59:12.795Z"
   },
   {
    "duration": 0,
    "start_time": "2023-06-17T10:59:12.796Z"
   },
   {
    "duration": 0,
    "start_time": "2023-06-17T10:59:12.797Z"
   },
   {
    "duration": 0,
    "start_time": "2023-06-17T10:59:12.799Z"
   },
   {
    "duration": 0,
    "start_time": "2023-06-17T10:59:12.800Z"
   },
   {
    "duration": 0,
    "start_time": "2023-06-17T10:59:12.802Z"
   },
   {
    "duration": 0,
    "start_time": "2023-06-17T10:59:12.806Z"
   },
   {
    "duration": 0,
    "start_time": "2023-06-17T10:59:12.811Z"
   },
   {
    "duration": 0,
    "start_time": "2023-06-17T10:59:12.813Z"
   },
   {
    "duration": 0,
    "start_time": "2023-06-17T10:59:12.818Z"
   },
   {
    "duration": 564863,
    "start_time": "2023-06-17T11:08:44.710Z"
   },
   {
    "duration": 5152,
    "start_time": "2023-06-17T11:27:27.155Z"
   },
   {
    "duration": 2133,
    "start_time": "2023-06-17T11:27:32.309Z"
   },
   {
    "duration": 2200,
    "start_time": "2023-06-17T11:27:34.454Z"
   },
   {
    "duration": 57,
    "start_time": "2023-06-17T11:27:36.659Z"
   },
   {
    "duration": 333,
    "start_time": "2023-06-17T11:27:36.720Z"
   },
   {
    "duration": 162,
    "start_time": "2023-06-17T11:27:37.059Z"
   },
   {
    "duration": 49,
    "start_time": "2023-06-17T11:27:37.230Z"
   },
   {
    "duration": 150,
    "start_time": "2023-06-17T11:27:37.297Z"
   },
   {
    "duration": 1192,
    "start_time": "2023-06-17T11:27:37.454Z"
   },
   {
    "duration": 515,
    "start_time": "2023-06-17T11:27:38.652Z"
   },
   {
    "duration": 207,
    "start_time": "2023-06-17T11:27:39.174Z"
   },
   {
    "duration": 74,
    "start_time": "2023-06-17T11:27:39.392Z"
   },
   {
    "duration": 41,
    "start_time": "2023-06-17T11:27:39.472Z"
   },
   {
    "duration": 34,
    "start_time": "2023-06-17T11:27:39.522Z"
   },
   {
    "duration": 36,
    "start_time": "2023-06-17T11:27:39.563Z"
   },
   {
    "duration": 44,
    "start_time": "2023-06-17T11:27:39.604Z"
   },
   {
    "duration": 1036,
    "start_time": "2023-06-17T11:27:39.655Z"
   },
   {
    "duration": 22,
    "start_time": "2023-06-17T11:27:40.697Z"
   },
   {
    "duration": 53,
    "start_time": "2023-06-17T11:27:40.725Z"
   },
   {
    "duration": 89,
    "start_time": "2023-06-17T11:27:40.788Z"
   },
   {
    "duration": 67,
    "start_time": "2023-06-17T11:27:40.884Z"
   },
   {
    "duration": 25,
    "start_time": "2023-06-17T11:27:40.961Z"
   },
   {
    "duration": 17,
    "start_time": "2023-06-17T11:27:40.996Z"
   },
   {
    "duration": 0,
    "start_time": "2023-06-17T11:27:41.021Z"
   },
   {
    "duration": 0,
    "start_time": "2023-06-17T11:27:41.031Z"
   },
   {
    "duration": 0,
    "start_time": "2023-06-17T11:27:41.042Z"
   },
   {
    "duration": 0,
    "start_time": "2023-06-17T11:27:41.047Z"
   },
   {
    "duration": 0,
    "start_time": "2023-06-17T11:27:41.061Z"
   },
   {
    "duration": 0,
    "start_time": "2023-06-17T11:27:41.064Z"
   },
   {
    "duration": 0,
    "start_time": "2023-06-17T11:27:41.078Z"
   },
   {
    "duration": 0,
    "start_time": "2023-06-17T11:27:41.079Z"
   },
   {
    "duration": 0,
    "start_time": "2023-06-17T11:27:41.081Z"
   },
   {
    "duration": 0,
    "start_time": "2023-06-17T11:27:41.089Z"
   },
   {
    "duration": 0,
    "start_time": "2023-06-17T11:27:41.095Z"
   },
   {
    "duration": 0,
    "start_time": "2023-06-17T11:27:41.097Z"
   },
   {
    "duration": 0,
    "start_time": "2023-06-17T11:27:41.098Z"
   },
   {
    "duration": 0,
    "start_time": "2023-06-17T11:27:41.101Z"
   },
   {
    "duration": 0,
    "start_time": "2023-06-17T11:27:41.103Z"
   },
   {
    "duration": 0,
    "start_time": "2023-06-17T11:27:41.110Z"
   },
   {
    "duration": 0,
    "start_time": "2023-06-17T11:27:41.121Z"
   },
   {
    "duration": 0,
    "start_time": "2023-06-17T11:27:41.123Z"
   },
   {
    "duration": 0,
    "start_time": "2023-06-17T11:27:41.124Z"
   },
   {
    "duration": 0,
    "start_time": "2023-06-17T11:27:41.126Z"
   },
   {
    "duration": 0,
    "start_time": "2023-06-17T11:27:41.127Z"
   },
   {
    "duration": 0,
    "start_time": "2023-06-17T11:27:41.129Z"
   },
   {
    "duration": 0,
    "start_time": "2023-06-17T11:27:41.146Z"
   },
   {
    "duration": 0,
    "start_time": "2023-06-17T11:27:41.148Z"
   },
   {
    "duration": 0,
    "start_time": "2023-06-17T11:27:41.149Z"
   },
   {
    "duration": 0,
    "start_time": "2023-06-17T11:27:41.151Z"
   },
   {
    "duration": 0,
    "start_time": "2023-06-17T11:27:41.153Z"
   },
   {
    "duration": 0,
    "start_time": "2023-06-17T11:27:41.163Z"
   },
   {
    "duration": 0,
    "start_time": "2023-06-17T11:27:41.164Z"
   },
   {
    "duration": 0,
    "start_time": "2023-06-17T11:27:41.170Z"
   },
   {
    "duration": 1,
    "start_time": "2023-06-17T11:27:41.171Z"
   },
   {
    "duration": 0,
    "start_time": "2023-06-17T11:27:41.177Z"
   },
   {
    "duration": 0,
    "start_time": "2023-06-17T11:27:41.179Z"
   },
   {
    "duration": 278,
    "start_time": "2023-06-17T11:28:00.827Z"
   },
   {
    "duration": 40,
    "start_time": "2023-06-17T11:28:03.441Z"
   },
   {
    "duration": 234,
    "start_time": "2023-06-17T11:28:04.762Z"
   },
   {
    "duration": 8082,
    "start_time": "2023-06-17T11:29:07.355Z"
   },
   {
    "duration": 8250,
    "start_time": "2023-06-17T11:30:37.627Z"
   },
   {
    "duration": 185,
    "start_time": "2023-06-17T11:32:35.372Z"
   },
   {
    "duration": 151,
    "start_time": "2023-06-17T11:32:40.709Z"
   },
   {
    "duration": 3245,
    "start_time": "2023-06-17T11:32:53.735Z"
   },
   {
    "duration": 7657,
    "start_time": "2023-06-17T11:33:42.544Z"
   },
   {
    "duration": 3276,
    "start_time": "2023-06-17T11:34:21.142Z"
   },
   {
    "duration": 95,
    "start_time": "2023-06-17T11:34:41.174Z"
   },
   {
    "duration": 151,
    "start_time": "2023-06-17T11:34:45.902Z"
   },
   {
    "duration": 83,
    "start_time": "2023-06-17T11:34:50.118Z"
   },
   {
    "duration": 4502,
    "start_time": "2023-06-17T11:36:28.889Z"
   },
   {
    "duration": 2500,
    "start_time": "2023-06-17T11:36:33.393Z"
   },
   {
    "duration": 1652,
    "start_time": "2023-06-17T11:36:35.910Z"
   },
   {
    "duration": 70,
    "start_time": "2023-06-17T11:36:37.571Z"
   },
   {
    "duration": 289,
    "start_time": "2023-06-17T11:36:37.664Z"
   },
   {
    "duration": 196,
    "start_time": "2023-06-17T11:36:37.959Z"
   },
   {
    "duration": 67,
    "start_time": "2023-06-17T11:36:38.162Z"
   },
   {
    "duration": 100,
    "start_time": "2023-06-17T11:36:38.235Z"
   },
   {
    "duration": 888,
    "start_time": "2023-06-17T11:36:38.340Z"
   },
   {
    "duration": 511,
    "start_time": "2023-06-17T11:36:39.236Z"
   },
   {
    "duration": 143,
    "start_time": "2023-06-17T11:36:39.754Z"
   },
   {
    "duration": 74,
    "start_time": "2023-06-17T11:36:39.903Z"
   },
   {
    "duration": 77,
    "start_time": "2023-06-17T11:36:39.984Z"
   },
   {
    "duration": 68,
    "start_time": "2023-06-17T11:36:40.069Z"
   },
   {
    "duration": 111,
    "start_time": "2023-06-17T11:36:40.154Z"
   },
   {
    "duration": 109,
    "start_time": "2023-06-17T11:36:40.280Z"
   },
   {
    "duration": 1282,
    "start_time": "2023-06-17T11:36:40.402Z"
   },
   {
    "duration": 15,
    "start_time": "2023-06-17T11:36:41.686Z"
   },
   {
    "duration": 50,
    "start_time": "2023-06-17T11:36:41.703Z"
   },
   {
    "duration": 102,
    "start_time": "2023-06-17T11:36:41.755Z"
   },
   {
    "duration": 69,
    "start_time": "2023-06-17T11:36:41.859Z"
   },
   {
    "duration": 21,
    "start_time": "2023-06-17T11:36:41.932Z"
   },
   {
    "duration": 187,
    "start_time": "2023-06-17T11:36:41.961Z"
   },
   {
    "duration": 35,
    "start_time": "2023-06-17T11:36:42.154Z"
   },
   {
    "duration": 182,
    "start_time": "2023-06-17T11:36:42.199Z"
   },
   {
    "duration": 51,
    "start_time": "2023-06-17T11:36:42.390Z"
   },
   {
    "duration": 5250,
    "start_time": "2023-06-17T12:09:39.059Z"
   },
   {
    "duration": 2646,
    "start_time": "2023-06-17T12:09:44.312Z"
   },
   {
    "duration": 1821,
    "start_time": "2023-06-17T12:09:46.964Z"
   },
   {
    "duration": 81,
    "start_time": "2023-06-17T12:09:48.795Z"
   },
   {
    "duration": 344,
    "start_time": "2023-06-17T12:09:48.885Z"
   },
   {
    "duration": 185,
    "start_time": "2023-06-17T12:09:49.236Z"
   },
   {
    "duration": 81,
    "start_time": "2023-06-17T12:09:49.428Z"
   },
   {
    "duration": 109,
    "start_time": "2023-06-17T12:09:49.520Z"
   },
   {
    "duration": 1280,
    "start_time": "2023-06-17T12:09:49.635Z"
   },
   {
    "duration": 756,
    "start_time": "2023-06-17T12:09:50.917Z"
   },
   {
    "duration": 301,
    "start_time": "2023-06-17T12:09:51.675Z"
   },
   {
    "duration": 144,
    "start_time": "2023-06-17T12:09:51.987Z"
   },
   {
    "duration": 71,
    "start_time": "2023-06-17T12:09:52.134Z"
   },
   {
    "duration": 99,
    "start_time": "2023-06-17T12:09:52.214Z"
   },
   {
    "duration": 85,
    "start_time": "2023-06-17T12:09:52.316Z"
   },
   {
    "duration": 86,
    "start_time": "2023-06-17T12:09:52.403Z"
   },
   {
    "duration": 1411,
    "start_time": "2023-06-17T12:09:52.492Z"
   },
   {
    "duration": 27,
    "start_time": "2023-06-17T12:09:53.911Z"
   },
   {
    "duration": 126,
    "start_time": "2023-06-17T12:09:53.954Z"
   },
   {
    "duration": 122,
    "start_time": "2023-06-17T12:09:54.092Z"
   },
   {
    "duration": 60,
    "start_time": "2023-06-17T12:09:54.216Z"
   },
   {
    "duration": 19,
    "start_time": "2023-06-17T12:09:54.283Z"
   },
   {
    "duration": 293,
    "start_time": "2023-06-17T12:09:54.308Z"
   },
   {
    "duration": 30,
    "start_time": "2023-06-17T12:09:54.603Z"
   },
   {
    "duration": 5205,
    "start_time": "2023-06-17T12:31:48.498Z"
   },
   {
    "duration": 1908,
    "start_time": "2023-06-17T12:31:53.705Z"
   },
   {
    "duration": 1205,
    "start_time": "2023-06-17T12:31:55.630Z"
   },
   {
    "duration": 30,
    "start_time": "2023-06-17T12:31:56.843Z"
   },
   {
    "duration": 197,
    "start_time": "2023-06-17T12:31:56.878Z"
   },
   {
    "duration": 163,
    "start_time": "2023-06-17T12:31:57.084Z"
   },
   {
    "duration": 55,
    "start_time": "2023-06-17T12:31:57.257Z"
   },
   {
    "duration": 72,
    "start_time": "2023-06-17T12:31:57.325Z"
   },
   {
    "duration": 887,
    "start_time": "2023-06-17T12:31:57.400Z"
   },
   {
    "duration": 511,
    "start_time": "2023-06-17T12:31:58.299Z"
   },
   {
    "duration": 153,
    "start_time": "2023-06-17T12:31:58.824Z"
   },
   {
    "duration": 82,
    "start_time": "2023-06-17T12:31:58.990Z"
   },
   {
    "duration": 42,
    "start_time": "2023-06-17T12:31:59.085Z"
   },
   {
    "duration": 34,
    "start_time": "2023-06-17T12:31:59.129Z"
   },
   {
    "duration": 47,
    "start_time": "2023-06-17T12:31:59.165Z"
   },
   {
    "duration": 37,
    "start_time": "2023-06-17T12:31:59.214Z"
   },
   {
    "duration": 909,
    "start_time": "2023-06-17T12:31:59.256Z"
   },
   {
    "duration": 11,
    "start_time": "2023-06-17T12:32:00.171Z"
   },
   {
    "duration": 94,
    "start_time": "2023-06-17T12:32:00.187Z"
   },
   {
    "duration": 80,
    "start_time": "2023-06-17T12:32:00.290Z"
   },
   {
    "duration": 45,
    "start_time": "2023-06-17T12:32:00.380Z"
   },
   {
    "duration": 15,
    "start_time": "2023-06-17T12:32:00.427Z"
   },
   {
    "duration": 183,
    "start_time": "2023-06-17T12:32:00.444Z"
   },
   {
    "duration": 15,
    "start_time": "2023-06-17T12:32:00.629Z"
   },
   {
    "duration": 3490,
    "start_time": "2023-06-17T12:38:37.934Z"
   },
   {
    "duration": 1704,
    "start_time": "2023-06-17T12:38:41.427Z"
   },
   {
    "duration": 1104,
    "start_time": "2023-06-17T12:38:43.133Z"
   },
   {
    "duration": 29,
    "start_time": "2023-06-17T12:38:44.239Z"
   },
   {
    "duration": 220,
    "start_time": "2023-06-17T12:38:44.272Z"
   },
   {
    "duration": 123,
    "start_time": "2023-06-17T12:38:44.498Z"
   },
   {
    "duration": 71,
    "start_time": "2023-06-17T12:38:44.627Z"
   },
   {
    "duration": 90,
    "start_time": "2023-06-17T12:38:44.703Z"
   },
   {
    "duration": 703,
    "start_time": "2023-06-17T12:38:44.798Z"
   },
   {
    "duration": 452,
    "start_time": "2023-06-17T12:38:45.512Z"
   },
   {
    "duration": 123,
    "start_time": "2023-06-17T12:38:45.966Z"
   },
   {
    "duration": 71,
    "start_time": "2023-06-17T12:38:46.093Z"
   },
   {
    "duration": 34,
    "start_time": "2023-06-17T12:38:46.170Z"
   },
   {
    "duration": 51,
    "start_time": "2023-06-17T12:38:46.210Z"
   },
   {
    "duration": 58,
    "start_time": "2023-06-17T12:38:46.263Z"
   },
   {
    "duration": 72,
    "start_time": "2023-06-17T12:38:46.331Z"
   },
   {
    "duration": 975,
    "start_time": "2023-06-17T12:38:46.406Z"
   },
   {
    "duration": 17,
    "start_time": "2023-06-17T12:38:47.383Z"
   },
   {
    "duration": 39,
    "start_time": "2023-06-17T12:38:47.404Z"
   },
   {
    "duration": 70,
    "start_time": "2023-06-17T12:38:47.450Z"
   },
   {
    "duration": 57,
    "start_time": "2023-06-17T12:38:47.522Z"
   },
   {
    "duration": 56,
    "start_time": "2023-06-17T12:38:47.583Z"
   },
   {
    "duration": 85,
    "start_time": "2023-06-17T12:38:47.644Z"
   },
   {
    "duration": 73,
    "start_time": "2023-06-17T12:38:47.737Z"
   },
   {
    "duration": 202,
    "start_time": "2023-06-17T12:38:47.815Z"
   },
   {
    "duration": 0,
    "start_time": "2023-06-17T12:38:48.024Z"
   },
   {
    "duration": 0,
    "start_time": "2023-06-17T12:38:48.032Z"
   },
   {
    "duration": 0,
    "start_time": "2023-06-17T12:38:48.041Z"
   },
   {
    "duration": 0,
    "start_time": "2023-06-17T12:38:48.045Z"
   },
   {
    "duration": 0,
    "start_time": "2023-06-17T12:38:48.050Z"
   },
   {
    "duration": 0,
    "start_time": "2023-06-17T12:38:48.055Z"
   },
   {
    "duration": 1,
    "start_time": "2023-06-17T12:38:48.057Z"
   },
   {
    "duration": 0,
    "start_time": "2023-06-17T12:38:48.064Z"
   },
   {
    "duration": 0,
    "start_time": "2023-06-17T12:38:48.065Z"
   },
   {
    "duration": 0,
    "start_time": "2023-06-17T12:38:48.067Z"
   },
   {
    "duration": 0,
    "start_time": "2023-06-17T12:38:48.072Z"
   },
   {
    "duration": 0,
    "start_time": "2023-06-17T12:38:48.073Z"
   },
   {
    "duration": 0,
    "start_time": "2023-06-17T12:38:48.079Z"
   },
   {
    "duration": 0,
    "start_time": "2023-06-17T12:38:48.080Z"
   },
   {
    "duration": 0,
    "start_time": "2023-06-17T12:38:48.081Z"
   },
   {
    "duration": 0,
    "start_time": "2023-06-17T12:38:48.083Z"
   },
   {
    "duration": 0,
    "start_time": "2023-06-17T12:38:48.085Z"
   },
   {
    "duration": 0,
    "start_time": "2023-06-17T12:38:48.089Z"
   },
   {
    "duration": 0,
    "start_time": "2023-06-17T12:38:48.090Z"
   },
   {
    "duration": 0,
    "start_time": "2023-06-17T12:38:48.091Z"
   },
   {
    "duration": 0,
    "start_time": "2023-06-17T12:38:48.097Z"
   },
   {
    "duration": 0,
    "start_time": "2023-06-17T12:38:48.099Z"
   },
   {
    "duration": 0,
    "start_time": "2023-06-17T12:38:48.100Z"
   },
   {
    "duration": 0,
    "start_time": "2023-06-17T12:38:48.101Z"
   },
   {
    "duration": 0,
    "start_time": "2023-06-17T12:38:48.103Z"
   },
   {
    "duration": 0,
    "start_time": "2023-06-17T12:38:48.108Z"
   },
   {
    "duration": 386,
    "start_time": "2023-06-17T12:39:40.708Z"
   },
   {
    "duration": 311,
    "start_time": "2023-06-17T12:45:55.462Z"
   },
   {
    "duration": 52,
    "start_time": "2023-06-17T12:47:01.077Z"
   },
   {
    "duration": 3877,
    "start_time": "2023-06-17T12:48:22.925Z"
   },
   {
    "duration": 1815,
    "start_time": "2023-06-17T12:48:26.806Z"
   },
   {
    "duration": 1184,
    "start_time": "2023-06-17T12:48:28.623Z"
   },
   {
    "duration": 47,
    "start_time": "2023-06-17T12:48:29.812Z"
   },
   {
    "duration": 287,
    "start_time": "2023-06-17T12:48:29.872Z"
   },
   {
    "duration": 178,
    "start_time": "2023-06-17T12:48:30.165Z"
   },
   {
    "duration": 64,
    "start_time": "2023-06-17T12:48:30.353Z"
   },
   {
    "duration": 142,
    "start_time": "2023-06-17T12:48:30.423Z"
   },
   {
    "duration": 949,
    "start_time": "2023-06-17T12:48:30.569Z"
   },
   {
    "duration": 453,
    "start_time": "2023-06-17T12:48:31.519Z"
   },
   {
    "duration": 171,
    "start_time": "2023-06-17T12:48:31.978Z"
   },
   {
    "duration": 86,
    "start_time": "2023-06-17T12:48:32.152Z"
   },
   {
    "duration": 36,
    "start_time": "2023-06-17T12:48:32.244Z"
   },
   {
    "duration": 62,
    "start_time": "2023-06-17T12:48:32.290Z"
   },
   {
    "duration": 61,
    "start_time": "2023-06-17T12:48:32.360Z"
   },
   {
    "duration": 1033,
    "start_time": "2023-06-17T12:48:32.431Z"
   },
   {
    "duration": 11,
    "start_time": "2023-06-17T12:48:33.470Z"
   },
   {
    "duration": 49,
    "start_time": "2023-06-17T12:48:33.491Z"
   },
   {
    "duration": 115,
    "start_time": "2023-06-17T12:48:33.550Z"
   },
   {
    "duration": 89,
    "start_time": "2023-06-17T12:48:33.667Z"
   },
   {
    "duration": 78,
    "start_time": "2023-06-17T12:48:33.758Z"
   },
   {
    "duration": 59,
    "start_time": "2023-06-17T12:48:33.838Z"
   },
   {
    "duration": 101,
    "start_time": "2023-06-17T12:48:33.899Z"
   },
   {
    "duration": 301,
    "start_time": "2023-06-17T12:48:34.005Z"
   },
   {
    "duration": 220,
    "start_time": "2023-06-17T12:48:34.311Z"
   },
   {
    "duration": 35,
    "start_time": "2023-06-17T12:48:34.537Z"
   },
   {
    "duration": 32,
    "start_time": "2023-06-17T12:48:34.578Z"
   },
   {
    "duration": 178,
    "start_time": "2023-06-17T12:48:34.615Z"
   },
   {
    "duration": 316,
    "start_time": "2023-06-17T12:48:34.812Z"
   },
   {
    "duration": 70,
    "start_time": "2023-06-17T12:48:35.130Z"
   },
   {
    "duration": 87,
    "start_time": "2023-06-17T12:48:35.202Z"
   },
   {
    "duration": 71,
    "start_time": "2023-06-17T12:48:35.290Z"
   },
   {
    "duration": 6,
    "start_time": "2023-06-17T12:48:35.362Z"
   },
   {
    "duration": 188,
    "start_time": "2023-06-17T12:48:35.370Z"
   },
   {
    "duration": 250,
    "start_time": "2023-06-17T12:48:35.566Z"
   },
   {
    "duration": 56,
    "start_time": "2023-06-17T12:48:35.825Z"
   },
   {
    "duration": 5,
    "start_time": "2023-06-17T12:48:35.887Z"
   },
   {
    "duration": 111,
    "start_time": "2023-06-17T12:48:35.894Z"
   },
   {
    "duration": 128,
    "start_time": "2023-06-17T12:48:36.007Z"
   },
   {
    "duration": 26,
    "start_time": "2023-06-17T12:48:36.138Z"
   },
   {
    "duration": 8,
    "start_time": "2023-06-17T12:48:36.173Z"
   },
   {
    "duration": 25,
    "start_time": "2023-06-17T12:48:36.186Z"
   },
   {
    "duration": 29,
    "start_time": "2023-06-17T12:48:36.227Z"
   },
   {
    "duration": 36838,
    "start_time": "2023-06-17T12:48:36.260Z"
   },
   {
    "duration": 49,
    "start_time": "2023-06-17T12:49:13.099Z"
   },
   {
    "duration": 3390,
    "start_time": "2023-06-17T12:49:13.163Z"
   },
   {
    "duration": 11,
    "start_time": "2023-06-17T12:49:16.564Z"
   },
   {
    "duration": 93,
    "start_time": "2023-06-17T12:49:16.583Z"
   },
   {
    "duration": 130,
    "start_time": "2023-06-17T12:49:16.680Z"
   },
   {
    "duration": 34,
    "start_time": "2023-06-17T12:49:16.812Z"
   },
   {
    "duration": 290,
    "start_time": "2023-06-17T12:49:16.857Z"
   },
   {
    "duration": 0,
    "start_time": "2023-06-17T12:49:17.153Z"
   },
   {
    "duration": 3,
    "start_time": "2023-06-17T12:52:27.403Z"
   },
   {
    "duration": 3745,
    "start_time": "2023-06-17T12:52:48.204Z"
   },
   {
    "duration": 3720,
    "start_time": "2023-06-17T12:52:51.951Z"
   },
   {
    "duration": 1139,
    "start_time": "2023-06-17T12:52:55.677Z"
   },
   {
    "duration": 60,
    "start_time": "2023-06-17T12:52:56.828Z"
   },
   {
    "duration": 226,
    "start_time": "2023-06-17T12:52:56.893Z"
   },
   {
    "duration": 178,
    "start_time": "2023-06-17T12:52:57.134Z"
   },
   {
    "duration": 50,
    "start_time": "2023-06-17T12:52:57.318Z"
   },
   {
    "duration": 67,
    "start_time": "2023-06-17T12:52:57.375Z"
   },
   {
    "duration": 825,
    "start_time": "2023-06-17T12:52:57.444Z"
   },
   {
    "duration": 533,
    "start_time": "2023-06-17T12:52:58.272Z"
   },
   {
    "duration": 148,
    "start_time": "2023-06-17T12:52:58.811Z"
   },
   {
    "duration": 58,
    "start_time": "2023-06-17T12:52:58.964Z"
   },
   {
    "duration": 32,
    "start_time": "2023-06-17T12:52:59.029Z"
   },
   {
    "duration": 40,
    "start_time": "2023-06-17T12:52:59.067Z"
   },
   {
    "duration": 64,
    "start_time": "2023-06-17T12:52:59.109Z"
   },
   {
    "duration": 989,
    "start_time": "2023-06-17T12:52:59.179Z"
   },
   {
    "duration": 9,
    "start_time": "2023-06-17T12:53:00.170Z"
   },
   {
    "duration": 71,
    "start_time": "2023-06-17T12:53:00.181Z"
   },
   {
    "duration": 84,
    "start_time": "2023-06-17T12:53:00.266Z"
   },
   {
    "duration": 37,
    "start_time": "2023-06-17T12:53:00.354Z"
   },
   {
    "duration": 37,
    "start_time": "2023-06-17T12:53:00.396Z"
   },
   {
    "duration": 59,
    "start_time": "2023-06-17T12:53:00.439Z"
   },
   {
    "duration": 98,
    "start_time": "2023-06-17T12:53:00.503Z"
   },
   {
    "duration": 275,
    "start_time": "2023-06-17T12:53:00.607Z"
   },
   {
    "duration": 226,
    "start_time": "2023-06-17T12:53:00.884Z"
   },
   {
    "duration": 37,
    "start_time": "2023-06-17T12:53:01.112Z"
   },
   {
    "duration": 22,
    "start_time": "2023-06-17T12:53:01.150Z"
   },
   {
    "duration": 99,
    "start_time": "2023-06-17T12:53:01.180Z"
   },
   {
    "duration": 239,
    "start_time": "2023-06-17T12:53:01.281Z"
   },
   {
    "duration": 51,
    "start_time": "2023-06-17T12:53:01.526Z"
   },
   {
    "duration": 100,
    "start_time": "2023-06-17T12:53:01.588Z"
   },
   {
    "duration": 47,
    "start_time": "2023-06-17T12:53:01.695Z"
   },
   {
    "duration": 37,
    "start_time": "2023-06-17T12:53:01.748Z"
   },
   {
    "duration": 186,
    "start_time": "2023-06-17T12:53:01.791Z"
   },
   {
    "duration": 184,
    "start_time": "2023-06-17T12:53:01.979Z"
   },
   {
    "duration": 49,
    "start_time": "2023-06-17T12:53:02.164Z"
   },
   {
    "duration": 36,
    "start_time": "2023-06-17T12:53:02.221Z"
   },
   {
    "duration": 94,
    "start_time": "2023-06-17T12:53:02.269Z"
   },
   {
    "duration": 27,
    "start_time": "2023-06-17T12:53:02.368Z"
   },
   {
    "duration": 30,
    "start_time": "2023-06-17T12:53:02.401Z"
   },
   {
    "duration": 45,
    "start_time": "2023-06-17T12:53:02.442Z"
   },
   {
    "duration": 21,
    "start_time": "2023-06-17T12:53:02.504Z"
   },
   {
    "duration": 32245,
    "start_time": "2023-06-17T12:53:02.531Z"
   },
   {
    "duration": 3042,
    "start_time": "2023-06-17T12:53:34.789Z"
   },
   {
    "duration": 4,
    "start_time": "2023-06-17T12:53:37.832Z"
   },
   {
    "duration": 72,
    "start_time": "2023-06-17T12:53:37.837Z"
   },
   {
    "duration": 6,
    "start_time": "2023-06-17T12:53:37.911Z"
   },
   {
    "duration": 16,
    "start_time": "2023-06-17T12:53:37.919Z"
   },
   {
    "duration": 237,
    "start_time": "2023-06-17T12:53:37.937Z"
   },
   {
    "duration": 0,
    "start_time": "2023-06-17T12:53:38.180Z"
   },
   {
    "duration": 4126,
    "start_time": "2023-06-17T12:57:16.007Z"
   },
   {
    "duration": 2411,
    "start_time": "2023-06-17T12:57:20.136Z"
   },
   {
    "duration": 1309,
    "start_time": "2023-06-17T12:57:22.553Z"
   },
   {
    "duration": 25,
    "start_time": "2023-06-17T12:57:23.868Z"
   },
   {
    "duration": 350,
    "start_time": "2023-06-17T12:57:23.899Z"
   },
   {
    "duration": 185,
    "start_time": "2023-06-17T12:57:24.263Z"
   },
   {
    "duration": 72,
    "start_time": "2023-06-17T12:57:24.454Z"
   },
   {
    "duration": 84,
    "start_time": "2023-06-17T12:57:24.534Z"
   },
   {
    "duration": 766,
    "start_time": "2023-06-17T12:57:24.624Z"
   },
   {
    "duration": 502,
    "start_time": "2023-06-17T12:57:25.395Z"
   },
   {
    "duration": 142,
    "start_time": "2023-06-17T12:57:25.899Z"
   },
   {
    "duration": 122,
    "start_time": "2023-06-17T12:57:26.046Z"
   },
   {
    "duration": 83,
    "start_time": "2023-06-17T12:57:26.181Z"
   },
   {
    "duration": 76,
    "start_time": "2023-06-17T12:57:26.277Z"
   },
   {
    "duration": 72,
    "start_time": "2023-06-17T12:57:26.359Z"
   },
   {
    "duration": 936,
    "start_time": "2023-06-17T12:57:26.441Z"
   },
   {
    "duration": 10,
    "start_time": "2023-06-17T12:57:27.379Z"
   },
   {
    "duration": 26,
    "start_time": "2023-06-17T12:57:27.391Z"
   },
   {
    "duration": 65,
    "start_time": "2023-06-17T12:57:27.425Z"
   },
   {
    "duration": 31,
    "start_time": "2023-06-17T12:57:27.499Z"
   },
   {
    "duration": 113,
    "start_time": "2023-06-17T12:57:27.532Z"
   },
   {
    "duration": 80,
    "start_time": "2023-06-17T12:57:27.646Z"
   },
   {
    "duration": 67,
    "start_time": "2023-06-17T12:57:27.728Z"
   },
   {
    "duration": 224,
    "start_time": "2023-06-17T12:57:27.803Z"
   },
   {
    "duration": 219,
    "start_time": "2023-06-17T12:57:28.029Z"
   },
   {
    "duration": 29,
    "start_time": "2023-06-17T12:57:28.250Z"
   },
   {
    "duration": 19,
    "start_time": "2023-06-17T12:57:28.280Z"
   },
   {
    "duration": 140,
    "start_time": "2023-06-17T12:57:28.301Z"
   },
   {
    "duration": 232,
    "start_time": "2023-06-17T12:57:28.443Z"
   },
   {
    "duration": 36,
    "start_time": "2023-06-17T12:57:28.677Z"
   },
   {
    "duration": 157,
    "start_time": "2023-06-17T12:57:28.715Z"
   },
   {
    "duration": 138,
    "start_time": "2023-06-17T12:57:28.899Z"
   },
   {
    "duration": 8,
    "start_time": "2023-06-17T12:57:29.040Z"
   },
   {
    "duration": 348,
    "start_time": "2023-06-17T12:57:29.050Z"
   },
   {
    "duration": 377,
    "start_time": "2023-06-17T12:57:29.400Z"
   },
   {
    "duration": 35,
    "start_time": "2023-06-17T12:57:29.783Z"
   },
   {
    "duration": 26,
    "start_time": "2023-06-17T12:57:29.827Z"
   },
   {
    "duration": 163,
    "start_time": "2023-06-17T12:57:29.863Z"
   },
   {
    "duration": 371,
    "start_time": "2023-06-17T12:57:30.036Z"
   },
   {
    "duration": 28,
    "start_time": "2023-06-17T12:57:30.412Z"
   },
   {
    "duration": 16,
    "start_time": "2023-06-17T12:57:30.455Z"
   },
   {
    "duration": 86,
    "start_time": "2023-06-17T12:57:30.479Z"
   },
   {
    "duration": 44,
    "start_time": "2023-06-17T12:57:30.580Z"
   },
   {
    "duration": 28813,
    "start_time": "2023-06-17T12:57:30.633Z"
   },
   {
    "duration": 179,
    "start_time": "2023-06-17T12:57:59.466Z"
   },
   {
    "duration": 0,
    "start_time": "2023-06-17T12:57:59.662Z"
   },
   {
    "duration": 0,
    "start_time": "2023-06-17T12:57:59.664Z"
   },
   {
    "duration": 0,
    "start_time": "2023-06-17T12:57:59.670Z"
   },
   {
    "duration": 0,
    "start_time": "2023-06-17T12:57:59.671Z"
   },
   {
    "duration": 0,
    "start_time": "2023-06-17T12:57:59.672Z"
   },
   {
    "duration": 0,
    "start_time": "2023-06-17T12:57:59.676Z"
   },
   {
    "duration": 0,
    "start_time": "2023-06-17T12:57:59.677Z"
   },
   {
    "duration": 19,
    "start_time": "2023-06-17T12:59:07.298Z"
   },
   {
    "duration": 33,
    "start_time": "2023-06-17T12:59:50.614Z"
   },
   {
    "duration": 5433,
    "start_time": "2023-06-17T13:01:09.756Z"
   },
   {
    "duration": 2249,
    "start_time": "2023-06-17T13:01:15.193Z"
   },
   {
    "duration": 1999,
    "start_time": "2023-06-17T13:01:17.444Z"
   },
   {
    "duration": 44,
    "start_time": "2023-06-17T13:01:19.445Z"
   },
   {
    "duration": 578,
    "start_time": "2023-06-17T13:01:19.491Z"
   },
   {
    "duration": 305,
    "start_time": "2023-06-17T13:01:20.072Z"
   },
   {
    "duration": 107,
    "start_time": "2023-06-17T13:01:20.394Z"
   },
   {
    "duration": 137,
    "start_time": "2023-06-17T13:01:20.504Z"
   },
   {
    "duration": 1031,
    "start_time": "2023-06-17T13:01:20.643Z"
   },
   {
    "duration": 664,
    "start_time": "2023-06-17T13:01:21.690Z"
   },
   {
    "duration": 128,
    "start_time": "2023-06-17T13:01:22.361Z"
   },
   {
    "duration": 50,
    "start_time": "2023-06-17T13:01:22.494Z"
   },
   {
    "duration": 35,
    "start_time": "2023-06-17T13:01:22.550Z"
   },
   {
    "duration": 65,
    "start_time": "2023-06-17T13:01:22.591Z"
   },
   {
    "duration": 102,
    "start_time": "2023-06-17T13:01:22.663Z"
   },
   {
    "duration": 1569,
    "start_time": "2023-06-17T13:01:22.782Z"
   },
   {
    "duration": 20,
    "start_time": "2023-06-17T13:01:24.358Z"
   },
   {
    "duration": 69,
    "start_time": "2023-06-17T13:01:24.383Z"
   },
   {
    "duration": 105,
    "start_time": "2023-06-17T13:01:24.458Z"
   },
   {
    "duration": 77,
    "start_time": "2023-06-17T13:01:24.575Z"
   },
   {
    "duration": 119,
    "start_time": "2023-06-17T13:01:24.662Z"
   },
   {
    "duration": 108,
    "start_time": "2023-06-17T13:01:24.793Z"
   },
   {
    "duration": 97,
    "start_time": "2023-06-17T13:01:24.907Z"
   },
   {
    "duration": 361,
    "start_time": "2023-06-17T13:01:25.011Z"
   },
   {
    "duration": 332,
    "start_time": "2023-06-17T13:01:25.378Z"
   },
   {
    "duration": 27,
    "start_time": "2023-06-17T13:01:25.721Z"
   },
   {
    "duration": 33,
    "start_time": "2023-06-17T13:01:25.755Z"
   },
   {
    "duration": 127,
    "start_time": "2023-06-17T13:01:25.804Z"
   },
   {
    "duration": 423,
    "start_time": "2023-06-17T13:01:25.938Z"
   },
   {
    "duration": 79,
    "start_time": "2023-06-17T13:01:26.368Z"
   },
   {
    "duration": 103,
    "start_time": "2023-06-17T13:01:26.453Z"
   },
   {
    "duration": 56,
    "start_time": "2023-06-17T13:01:26.563Z"
   },
   {
    "duration": 8,
    "start_time": "2023-06-17T13:01:26.625Z"
   },
   {
    "duration": 164,
    "start_time": "2023-06-17T13:01:26.637Z"
   },
   {
    "duration": 247,
    "start_time": "2023-06-17T13:01:26.808Z"
   },
   {
    "duration": 49,
    "start_time": "2023-06-17T13:01:27.066Z"
   },
   {
    "duration": 22,
    "start_time": "2023-06-17T13:01:27.123Z"
   },
   {
    "duration": 137,
    "start_time": "2023-06-17T13:01:27.153Z"
   },
   {
    "duration": 41,
    "start_time": "2023-06-17T13:01:27.296Z"
   },
   {
    "duration": 13,
    "start_time": "2023-06-17T13:01:27.348Z"
   },
   {
    "duration": 10,
    "start_time": "2023-06-17T13:01:27.367Z"
   },
   {
    "duration": 17,
    "start_time": "2023-06-17T13:01:27.395Z"
   },
   {
    "duration": 31,
    "start_time": "2023-06-17T13:01:27.420Z"
   },
   {
    "duration": 30874,
    "start_time": "2023-06-17T13:01:27.453Z"
   },
   {
    "duration": 30,
    "start_time": "2023-06-17T13:01:58.339Z"
   },
   {
    "duration": 221,
    "start_time": "2023-06-17T13:01:58.382Z"
   },
   {
    "duration": 0,
    "start_time": "2023-06-17T13:01:58.606Z"
   },
   {
    "duration": 0,
    "start_time": "2023-06-17T13:01:58.614Z"
   },
   {
    "duration": 0,
    "start_time": "2023-06-17T13:01:58.615Z"
   },
   {
    "duration": 0,
    "start_time": "2023-06-17T13:01:58.622Z"
   },
   {
    "duration": 0,
    "start_time": "2023-06-17T13:01:58.624Z"
   },
   {
    "duration": 0,
    "start_time": "2023-06-17T13:01:58.631Z"
   },
   {
    "duration": 0,
    "start_time": "2023-06-17T13:01:58.633Z"
   },
   {
    "duration": 6,
    "start_time": "2023-06-17T13:02:59.198Z"
   },
   {
    "duration": 6274,
    "start_time": "2023-06-17T13:11:39.942Z"
   },
   {
    "duration": 2944,
    "start_time": "2023-06-17T13:11:46.219Z"
   },
   {
    "duration": 2087,
    "start_time": "2023-06-17T13:11:49.165Z"
   },
   {
    "duration": 51,
    "start_time": "2023-06-17T13:11:51.260Z"
   },
   {
    "duration": 310,
    "start_time": "2023-06-17T13:11:51.329Z"
   },
   {
    "duration": 182,
    "start_time": "2023-06-17T13:11:51.647Z"
   },
   {
    "duration": 90,
    "start_time": "2023-06-17T13:11:51.837Z"
   },
   {
    "duration": 121,
    "start_time": "2023-06-17T13:11:51.937Z"
   },
   {
    "duration": 1509,
    "start_time": "2023-06-17T13:11:52.073Z"
   },
   {
    "duration": 714,
    "start_time": "2023-06-17T13:11:53.589Z"
   },
   {
    "duration": 175,
    "start_time": "2023-06-17T13:11:54.313Z"
   },
   {
    "duration": 98,
    "start_time": "2023-06-17T13:11:54.499Z"
   },
   {
    "duration": 58,
    "start_time": "2023-06-17T13:11:54.619Z"
   },
   {
    "duration": 84,
    "start_time": "2023-06-17T13:11:54.695Z"
   },
   {
    "duration": 88,
    "start_time": "2023-06-17T13:11:54.789Z"
   },
   {
    "duration": 1474,
    "start_time": "2023-06-17T13:11:54.883Z"
   },
   {
    "duration": 55,
    "start_time": "2023-06-17T13:11:56.370Z"
   },
   {
    "duration": 80,
    "start_time": "2023-06-17T13:11:56.438Z"
   },
   {
    "duration": 99,
    "start_time": "2023-06-17T13:11:56.530Z"
   },
   {
    "duration": 97,
    "start_time": "2023-06-17T13:11:56.632Z"
   },
   {
    "duration": 109,
    "start_time": "2023-06-17T13:11:56.732Z"
   },
   {
    "duration": 122,
    "start_time": "2023-06-17T13:11:56.856Z"
   },
   {
    "duration": 111,
    "start_time": "2023-06-17T13:11:56.994Z"
   },
   {
    "duration": 126,
    "start_time": "2023-06-17T13:11:57.107Z"
   },
   {
    "duration": 458,
    "start_time": "2023-06-17T13:11:57.247Z"
   },
   {
    "duration": 416,
    "start_time": "2023-06-17T13:11:57.722Z"
   },
   {
    "duration": 28,
    "start_time": "2023-06-17T13:11:58.146Z"
   },
   {
    "duration": 35,
    "start_time": "2023-06-17T13:11:58.191Z"
   },
   {
    "duration": 175,
    "start_time": "2023-06-17T13:11:58.235Z"
   },
   {
    "duration": 482,
    "start_time": "2023-06-17T13:11:58.415Z"
   },
   {
    "duration": 86,
    "start_time": "2023-06-17T13:11:58.907Z"
   },
   {
    "duration": 168,
    "start_time": "2023-06-17T13:11:59.003Z"
   },
   {
    "duration": 71,
    "start_time": "2023-06-17T13:11:59.179Z"
   },
   {
    "duration": 7,
    "start_time": "2023-06-17T13:11:59.253Z"
   },
   {
    "duration": 263,
    "start_time": "2023-06-17T13:11:59.262Z"
   },
   {
    "duration": 397,
    "start_time": "2023-06-17T13:11:59.528Z"
   },
   {
    "duration": 66,
    "start_time": "2023-06-17T13:11:59.928Z"
   },
   {
    "duration": 19,
    "start_time": "2023-06-17T13:12:00.004Z"
   },
   {
    "duration": 131,
    "start_time": "2023-06-17T13:12:00.031Z"
   },
   {
    "duration": 48,
    "start_time": "2023-06-17T13:12:00.171Z"
   },
   {
    "duration": 15,
    "start_time": "2023-06-17T13:12:00.232Z"
   },
   {
    "duration": 167,
    "start_time": "2023-06-17T13:12:00.252Z"
   },
   {
    "duration": 61,
    "start_time": "2023-06-17T13:12:00.421Z"
   },
   {
    "duration": 22,
    "start_time": "2023-06-17T13:12:00.488Z"
   },
   {
    "duration": 34417,
    "start_time": "2023-06-17T13:12:00.518Z"
   },
   {
    "duration": 17,
    "start_time": "2023-06-17T13:12:34.956Z"
   },
   {
    "duration": 14,
    "start_time": "2023-06-17T13:12:34.989Z"
   },
   {
    "duration": 3698,
    "start_time": "2023-06-17T13:12:35.019Z"
   },
   {
    "duration": 27,
    "start_time": "2023-06-17T13:12:38.730Z"
   },
   {
    "duration": 173,
    "start_time": "2023-06-17T13:12:38.774Z"
   },
   {
    "duration": 37,
    "start_time": "2023-06-17T13:12:38.964Z"
   },
   {
    "duration": 35,
    "start_time": "2023-06-17T13:12:39.034Z"
   },
   {
    "duration": 437,
    "start_time": "2023-06-17T13:12:39.078Z"
   },
   {
    "duration": 0,
    "start_time": "2023-06-17T13:12:39.526Z"
   },
   {
    "duration": 5599,
    "start_time": "2023-06-17T13:18:39.489Z"
   },
   {
    "duration": 3045,
    "start_time": "2023-06-17T13:18:45.096Z"
   },
   {
    "duration": 2434,
    "start_time": "2023-06-17T13:18:48.148Z"
   },
   {
    "duration": 102,
    "start_time": "2023-06-17T13:18:50.591Z"
   },
   {
    "duration": 613,
    "start_time": "2023-06-17T13:18:50.700Z"
   },
   {
    "duration": 253,
    "start_time": "2023-06-17T13:18:51.320Z"
   },
   {
    "duration": 81,
    "start_time": "2023-06-17T13:18:51.583Z"
   },
   {
    "duration": 129,
    "start_time": "2023-06-17T13:18:51.672Z"
   },
   {
    "duration": 1472,
    "start_time": "2023-06-17T13:18:51.817Z"
   },
   {
    "duration": 926,
    "start_time": "2023-06-17T13:18:53.303Z"
   },
   {
    "duration": 261,
    "start_time": "2023-06-17T13:18:54.236Z"
   },
   {
    "duration": 157,
    "start_time": "2023-06-17T13:18:54.504Z"
   },
   {
    "duration": 106,
    "start_time": "2023-06-17T13:18:54.668Z"
   },
   {
    "duration": 117,
    "start_time": "2023-06-17T13:18:54.800Z"
   },
   {
    "duration": 85,
    "start_time": "2023-06-17T13:18:54.924Z"
   },
   {
    "duration": 1861,
    "start_time": "2023-06-17T13:18:55.016Z"
   },
   {
    "duration": 39,
    "start_time": "2023-06-17T13:18:56.884Z"
   },
   {
    "duration": 90,
    "start_time": "2023-06-17T13:18:56.943Z"
   },
   {
    "duration": 107,
    "start_time": "2023-06-17T13:18:57.046Z"
   },
   {
    "duration": 80,
    "start_time": "2023-06-17T13:18:57.161Z"
   },
   {
    "duration": 76,
    "start_time": "2023-06-17T13:18:57.248Z"
   },
   {
    "duration": 111,
    "start_time": "2023-06-17T13:18:57.335Z"
   },
   {
    "duration": 84,
    "start_time": "2023-06-17T13:18:57.466Z"
   },
   {
    "duration": 96,
    "start_time": "2023-06-17T13:18:57.559Z"
   },
   {
    "duration": 415,
    "start_time": "2023-06-17T13:18:57.662Z"
   },
   {
    "duration": 361,
    "start_time": "2023-06-17T13:18:58.086Z"
   },
   {
    "duration": 23,
    "start_time": "2023-06-17T13:18:58.450Z"
   },
   {
    "duration": 60,
    "start_time": "2023-06-17T13:18:58.481Z"
   },
   {
    "duration": 147,
    "start_time": "2023-06-17T13:18:58.544Z"
   },
   {
    "duration": 416,
    "start_time": "2023-06-17T13:18:58.694Z"
   },
   {
    "duration": 110,
    "start_time": "2023-06-17T13:18:59.115Z"
   },
   {
    "duration": 185,
    "start_time": "2023-06-17T13:18:59.232Z"
   },
   {
    "duration": 105,
    "start_time": "2023-06-17T13:18:59.436Z"
   },
   {
    "duration": 15,
    "start_time": "2023-06-17T13:18:59.555Z"
   },
   {
    "duration": 284,
    "start_time": "2023-06-17T13:18:59.573Z"
   },
   {
    "duration": 19,
    "start_time": "2023-06-17T13:18:59.874Z"
   },
   {
    "duration": 134,
    "start_time": "2023-06-17T13:18:59.895Z"
   },
   {
    "duration": 28,
    "start_time": "2023-06-17T13:19:00.033Z"
   },
   {
    "duration": 227,
    "start_time": "2023-06-17T13:19:00.064Z"
   },
   {
    "duration": 59,
    "start_time": "2023-06-17T13:19:00.300Z"
   },
   {
    "duration": 24,
    "start_time": "2023-06-17T13:19:00.373Z"
   },
   {
    "duration": 44,
    "start_time": "2023-06-17T13:19:00.401Z"
   },
   {
    "duration": 48,
    "start_time": "2023-06-17T13:19:00.453Z"
   },
   {
    "duration": 19,
    "start_time": "2023-06-17T13:19:00.506Z"
   },
   {
    "duration": 36840,
    "start_time": "2023-06-17T13:19:00.528Z"
   },
   {
    "duration": 43,
    "start_time": "2023-06-17T13:19:37.392Z"
   },
   {
    "duration": 17,
    "start_time": "2023-06-17T13:19:37.448Z"
   },
   {
    "duration": 3569,
    "start_time": "2023-06-17T13:19:37.472Z"
   },
   {
    "duration": 7,
    "start_time": "2023-06-17T13:19:41.046Z"
   },
   {
    "duration": 90,
    "start_time": "2023-06-17T13:19:41.059Z"
   },
   {
    "duration": 9,
    "start_time": "2023-06-17T13:19:41.155Z"
   },
   {
    "duration": 11,
    "start_time": "2023-06-17T13:19:41.170Z"
   },
   {
    "duration": 266,
    "start_time": "2023-06-17T13:19:41.187Z"
   },
   {
    "duration": 0,
    "start_time": "2023-06-17T13:19:41.464Z"
   },
   {
    "duration": 4174,
    "start_time": "2023-06-17T13:20:29.531Z"
   },
   {
    "duration": 10,
    "start_time": "2023-06-17T13:21:29.147Z"
   },
   {
    "duration": 6,
    "start_time": "2023-06-17T13:21:40.335Z"
   },
   {
    "duration": 11,
    "start_time": "2023-06-17T13:22:01.986Z"
   },
   {
    "duration": 37529,
    "start_time": "2023-06-17T13:23:52.562Z"
   },
   {
    "duration": 108,
    "start_time": "2023-06-17T13:31:53.845Z"
   },
   {
    "duration": 18,
    "start_time": "2023-06-17T13:31:56.919Z"
   },
   {
    "duration": 109,
    "start_time": "2023-06-17T13:31:57.731Z"
   },
   {
    "duration": 9840,
    "start_time": "2023-06-18T19:35:34.070Z"
   },
   {
    "duration": 2676,
    "start_time": "2023-06-18T19:35:43.913Z"
   },
   {
    "duration": 3297,
    "start_time": "2023-06-18T19:35:46.591Z"
   },
   {
    "duration": 18,
    "start_time": "2023-06-18T19:35:49.890Z"
   },
   {
    "duration": 131,
    "start_time": "2023-06-18T19:35:49.910Z"
   },
   {
    "duration": 71,
    "start_time": "2023-06-18T19:35:50.043Z"
   },
   {
    "duration": 50,
    "start_time": "2023-06-18T19:35:50.116Z"
   },
   {
    "duration": 50,
    "start_time": "2023-06-18T19:35:50.169Z"
   },
   {
    "duration": 597,
    "start_time": "2023-06-18T19:35:50.220Z"
   },
   {
    "duration": 390,
    "start_time": "2023-06-18T19:35:50.818Z"
   },
   {
    "duration": 94,
    "start_time": "2023-06-18T19:35:51.210Z"
   },
   {
    "duration": 28,
    "start_time": "2023-06-18T19:35:51.306Z"
   },
   {
    "duration": 32,
    "start_time": "2023-06-18T19:35:51.352Z"
   },
   {
    "duration": 802,
    "start_time": "2023-06-18T19:35:51.387Z"
   },
   {
    "duration": 21,
    "start_time": "2023-06-18T19:35:52.191Z"
   },
   {
    "duration": 39,
    "start_time": "2023-06-18T19:35:52.213Z"
   },
   {
    "duration": 30,
    "start_time": "2023-06-18T19:35:52.254Z"
   },
   {
    "duration": 6,
    "start_time": "2023-06-18T19:35:52.286Z"
   },
   {
    "duration": 45,
    "start_time": "2023-06-18T19:35:52.293Z"
   },
   {
    "duration": 50,
    "start_time": "2023-06-18T19:35:52.340Z"
   },
   {
    "duration": 27,
    "start_time": "2023-06-18T19:35:52.391Z"
   },
   {
    "duration": 16,
    "start_time": "2023-06-18T19:35:52.420Z"
   },
   {
    "duration": 34,
    "start_time": "2023-06-18T19:35:52.449Z"
   },
   {
    "duration": 28,
    "start_time": "2023-06-18T19:35:52.485Z"
   },
   {
    "duration": 60,
    "start_time": "2023-06-18T19:35:52.514Z"
   },
   {
    "duration": 149,
    "start_time": "2023-06-18T19:35:52.577Z"
   },
   {
    "duration": 173,
    "start_time": "2023-06-18T19:35:52.728Z"
   },
   {
    "duration": 10,
    "start_time": "2023-06-18T19:35:52.903Z"
   },
   {
    "duration": 13,
    "start_time": "2023-06-18T19:35:52.915Z"
   },
   {
    "duration": 76,
    "start_time": "2023-06-18T19:35:52.929Z"
   },
   {
    "duration": 188,
    "start_time": "2023-06-18T19:35:53.006Z"
   },
   {
    "duration": 28,
    "start_time": "2023-06-18T19:35:53.195Z"
   },
   {
    "duration": 80,
    "start_time": "2023-06-18T19:35:53.225Z"
   },
   {
    "duration": 27,
    "start_time": "2023-06-18T19:35:53.307Z"
   },
   {
    "duration": 154,
    "start_time": "2023-06-18T19:35:53.335Z"
   },
   {
    "duration": 0,
    "start_time": "2023-06-18T19:35:53.491Z"
   },
   {
    "duration": 0,
    "start_time": "2023-06-18T19:35:53.493Z"
   },
   {
    "duration": 0,
    "start_time": "2023-06-18T19:35:53.494Z"
   },
   {
    "duration": 0,
    "start_time": "2023-06-18T19:35:53.495Z"
   },
   {
    "duration": 0,
    "start_time": "2023-06-18T19:35:53.496Z"
   },
   {
    "duration": 0,
    "start_time": "2023-06-18T19:35:53.497Z"
   },
   {
    "duration": 0,
    "start_time": "2023-06-18T19:35:53.498Z"
   },
   {
    "duration": 0,
    "start_time": "2023-06-18T19:35:53.499Z"
   },
   {
    "duration": 0,
    "start_time": "2023-06-18T19:35:53.501Z"
   },
   {
    "duration": 0,
    "start_time": "2023-06-18T19:35:53.502Z"
   },
   {
    "duration": 0,
    "start_time": "2023-06-18T19:35:53.503Z"
   },
   {
    "duration": 0,
    "start_time": "2023-06-18T19:35:53.504Z"
   },
   {
    "duration": 0,
    "start_time": "2023-06-18T19:35:53.505Z"
   },
   {
    "duration": 0,
    "start_time": "2023-06-18T19:35:53.506Z"
   },
   {
    "duration": 0,
    "start_time": "2023-06-18T19:35:53.507Z"
   },
   {
    "duration": 0,
    "start_time": "2023-06-18T19:35:53.508Z"
   },
   {
    "duration": 9,
    "start_time": "2023-06-18T19:37:24.996Z"
   },
   {
    "duration": 20,
    "start_time": "2023-06-18T19:38:07.765Z"
   },
   {
    "duration": 2328,
    "start_time": "2023-06-18T19:41:39.019Z"
   },
   {
    "duration": 1342,
    "start_time": "2023-06-18T19:41:41.351Z"
   },
   {
    "duration": 844,
    "start_time": "2023-06-18T19:41:42.695Z"
   },
   {
    "duration": 20,
    "start_time": "2023-06-18T19:41:43.542Z"
   },
   {
    "duration": 141,
    "start_time": "2023-06-18T19:41:43.564Z"
   },
   {
    "duration": 91,
    "start_time": "2023-06-18T19:41:43.706Z"
   },
   {
    "duration": 35,
    "start_time": "2023-06-18T19:41:43.799Z"
   },
   {
    "duration": 49,
    "start_time": "2023-06-18T19:41:43.849Z"
   },
   {
    "duration": 712,
    "start_time": "2023-06-18T19:41:43.900Z"
   },
   {
    "duration": 301,
    "start_time": "2023-06-18T19:41:44.614Z"
   },
   {
    "duration": 71,
    "start_time": "2023-06-18T19:41:44.916Z"
   },
   {
    "duration": 35,
    "start_time": "2023-06-18T19:41:44.989Z"
   },
   {
    "duration": 43,
    "start_time": "2023-06-18T19:41:45.026Z"
   },
   {
    "duration": 721,
    "start_time": "2023-06-18T19:41:45.071Z"
   },
   {
    "duration": 22,
    "start_time": "2023-06-18T19:41:45.794Z"
   },
   {
    "duration": 40,
    "start_time": "2023-06-18T19:41:45.817Z"
   },
   {
    "duration": 7,
    "start_time": "2023-06-18T19:41:45.859Z"
   },
   {
    "duration": 34,
    "start_time": "2023-06-18T19:41:45.867Z"
   },
   {
    "duration": 29,
    "start_time": "2023-06-18T19:41:45.903Z"
   },
   {
    "duration": 24,
    "start_time": "2023-06-18T19:41:45.949Z"
   },
   {
    "duration": 18,
    "start_time": "2023-06-18T19:41:45.974Z"
   },
   {
    "duration": 56,
    "start_time": "2023-06-18T19:41:45.994Z"
   },
   {
    "duration": 26,
    "start_time": "2023-06-18T19:41:46.052Z"
   },
   {
    "duration": 33,
    "start_time": "2023-06-18T19:41:46.080Z"
   },
   {
    "duration": 153,
    "start_time": "2023-06-18T19:41:46.114Z"
   },
   {
    "duration": 144,
    "start_time": "2023-06-18T19:41:46.269Z"
   },
   {
    "duration": 11,
    "start_time": "2023-06-18T19:41:46.415Z"
   },
   {
    "duration": 72,
    "start_time": "2023-06-18T19:41:46.429Z"
   },
   {
    "duration": 0,
    "start_time": "2023-06-18T19:41:46.503Z"
   },
   {
    "duration": 0,
    "start_time": "2023-06-18T19:41:46.504Z"
   },
   {
    "duration": 0,
    "start_time": "2023-06-18T19:41:46.506Z"
   },
   {
    "duration": 0,
    "start_time": "2023-06-18T19:41:46.507Z"
   },
   {
    "duration": 0,
    "start_time": "2023-06-18T19:41:46.508Z"
   },
   {
    "duration": 0,
    "start_time": "2023-06-18T19:41:46.510Z"
   },
   {
    "duration": 0,
    "start_time": "2023-06-18T19:41:46.511Z"
   },
   {
    "duration": 0,
    "start_time": "2023-06-18T19:41:46.512Z"
   },
   {
    "duration": 0,
    "start_time": "2023-06-18T19:41:46.513Z"
   },
   {
    "duration": 0,
    "start_time": "2023-06-18T19:41:46.514Z"
   },
   {
    "duration": 0,
    "start_time": "2023-06-18T19:41:46.515Z"
   },
   {
    "duration": 0,
    "start_time": "2023-06-18T19:41:46.516Z"
   },
   {
    "duration": 0,
    "start_time": "2023-06-18T19:41:46.517Z"
   },
   {
    "duration": 0,
    "start_time": "2023-06-18T19:41:46.518Z"
   },
   {
    "duration": 0,
    "start_time": "2023-06-18T19:41:46.520Z"
   },
   {
    "duration": 0,
    "start_time": "2023-06-18T19:41:46.521Z"
   },
   {
    "duration": 0,
    "start_time": "2023-06-18T19:41:46.522Z"
   },
   {
    "duration": 0,
    "start_time": "2023-06-18T19:41:46.523Z"
   },
   {
    "duration": 0,
    "start_time": "2023-06-18T19:41:46.524Z"
   },
   {
    "duration": 0,
    "start_time": "2023-06-18T19:41:46.525Z"
   },
   {
    "duration": 0,
    "start_time": "2023-06-18T19:41:46.526Z"
   },
   {
    "duration": 0,
    "start_time": "2023-06-18T19:41:46.528Z"
   },
   {
    "duration": 13,
    "start_time": "2023-06-18T19:41:53.295Z"
   },
   {
    "duration": 71,
    "start_time": "2023-06-18T19:41:55.577Z"
   },
   {
    "duration": 24,
    "start_time": "2023-06-18T19:41:59.231Z"
   },
   {
    "duration": 5,
    "start_time": "2023-06-18T19:42:00.496Z"
   },
   {
    "duration": 3,
    "start_time": "2023-06-18T19:42:04.483Z"
   },
   {
    "duration": 2,
    "start_time": "2023-06-18T19:42:06.982Z"
   },
   {
    "duration": 3,
    "start_time": "2023-06-18T19:42:08.183Z"
   },
   {
    "duration": 3,
    "start_time": "2023-06-18T19:42:08.920Z"
   },
   {
    "duration": 3,
    "start_time": "2023-06-18T19:42:10.039Z"
   },
   {
    "duration": 21120,
    "start_time": "2023-06-18T19:42:12.242Z"
   },
   {
    "duration": 1821,
    "start_time": "2023-06-18T19:43:12.175Z"
   },
   {
    "duration": 2395,
    "start_time": "2023-06-18T19:43:40.983Z"
   },
   {
    "duration": 1207,
    "start_time": "2023-06-18T19:43:43.380Z"
   },
   {
    "duration": 802,
    "start_time": "2023-06-18T19:43:44.589Z"
   },
   {
    "duration": 19,
    "start_time": "2023-06-18T19:43:45.392Z"
   },
   {
    "duration": 122,
    "start_time": "2023-06-18T19:43:45.413Z"
   },
   {
    "duration": 94,
    "start_time": "2023-06-18T19:43:45.537Z"
   },
   {
    "duration": 40,
    "start_time": "2023-06-18T19:43:45.633Z"
   },
   {
    "duration": 50,
    "start_time": "2023-06-18T19:43:45.674Z"
   },
   {
    "duration": 518,
    "start_time": "2023-06-18T19:43:45.726Z"
   },
   {
    "duration": 276,
    "start_time": "2023-06-18T19:43:46.246Z"
   },
   {
    "duration": 67,
    "start_time": "2023-06-18T19:43:46.524Z"
   },
   {
    "duration": 29,
    "start_time": "2023-06-18T19:43:46.593Z"
   },
   {
    "duration": 35,
    "start_time": "2023-06-18T19:43:46.623Z"
   },
   {
    "duration": 696,
    "start_time": "2023-06-18T19:43:46.661Z"
   },
   {
    "duration": 22,
    "start_time": "2023-06-18T19:43:47.359Z"
   },
   {
    "duration": 26,
    "start_time": "2023-06-18T19:43:47.383Z"
   },
   {
    "duration": 6,
    "start_time": "2023-06-18T19:43:47.410Z"
   },
   {
    "duration": 55,
    "start_time": "2023-06-18T19:43:47.418Z"
   },
   {
    "duration": 27,
    "start_time": "2023-06-18T19:43:47.475Z"
   },
   {
    "duration": 23,
    "start_time": "2023-06-18T19:43:47.504Z"
   },
   {
    "duration": 32,
    "start_time": "2023-06-18T19:43:47.528Z"
   },
   {
    "duration": 22,
    "start_time": "2023-06-18T19:43:47.562Z"
   },
   {
    "duration": 25,
    "start_time": "2023-06-18T19:43:47.586Z"
   },
   {
    "duration": 44,
    "start_time": "2023-06-18T19:43:47.612Z"
   },
   {
    "duration": 135,
    "start_time": "2023-06-18T19:43:47.658Z"
   },
   {
    "duration": 152,
    "start_time": "2023-06-18T19:43:47.795Z"
   },
   {
    "duration": 12,
    "start_time": "2023-06-18T19:43:47.948Z"
   },
   {
    "duration": 13,
    "start_time": "2023-06-18T19:43:47.962Z"
   },
   {
    "duration": 51,
    "start_time": "2023-06-18T19:43:47.976Z"
   },
   {
    "duration": 179,
    "start_time": "2023-06-18T19:43:48.029Z"
   },
   {
    "duration": 42,
    "start_time": "2023-06-18T19:43:48.210Z"
   },
   {
    "duration": 56,
    "start_time": "2023-06-18T19:43:48.254Z"
   },
   {
    "duration": 39,
    "start_time": "2023-06-18T19:43:48.312Z"
   },
   {
    "duration": 29,
    "start_time": "2023-06-18T19:43:48.353Z"
   },
   {
    "duration": 5,
    "start_time": "2023-06-18T19:43:48.384Z"
   },
   {
    "duration": 4,
    "start_time": "2023-06-18T19:43:48.390Z"
   },
   {
    "duration": 8,
    "start_time": "2023-06-18T19:43:48.395Z"
   },
   {
    "duration": 12,
    "start_time": "2023-06-18T19:43:48.405Z"
   },
   {
    "duration": 4,
    "start_time": "2023-06-18T19:43:48.419Z"
   },
   {
    "duration": 4,
    "start_time": "2023-06-18T19:43:48.425Z"
   },
   {
    "duration": 3,
    "start_time": "2023-06-18T19:43:48.450Z"
   },
   {
    "duration": 16699,
    "start_time": "2023-06-18T19:43:48.455Z"
   },
   {
    "duration": 3,
    "start_time": "2023-06-18T19:44:05.156Z"
   },
   {
    "duration": 1924,
    "start_time": "2023-06-18T19:44:05.251Z"
   },
   {
    "duration": 47,
    "start_time": "2023-06-18T19:44:07.177Z"
   },
   {
    "duration": 3,
    "start_time": "2023-06-18T19:44:07.225Z"
   },
   {
    "duration": 47,
    "start_time": "2023-06-18T19:44:07.229Z"
   },
   {
    "duration": 3,
    "start_time": "2023-06-18T19:44:07.278Z"
   },
   {
    "duration": 167,
    "start_time": "2023-06-18T19:44:07.282Z"
   },
   {
    "duration": 0,
    "start_time": "2023-06-18T19:44:07.451Z"
   },
   {
    "duration": 16,
    "start_time": "2023-06-18T19:53:14.892Z"
   },
   {
    "duration": 65,
    "start_time": "2023-06-18T19:54:10.281Z"
   },
   {
    "duration": 14,
    "start_time": "2023-06-18T19:54:12.343Z"
   },
   {
    "duration": 10,
    "start_time": "2023-06-18T19:55:56.619Z"
   },
   {
    "duration": 5,
    "start_time": "2023-06-18T19:57:05.082Z"
   },
   {
    "duration": 10,
    "start_time": "2023-06-18T19:57:12.095Z"
   },
   {
    "duration": 5,
    "start_time": "2023-06-18T19:58:51.231Z"
   },
   {
    "duration": 3,
    "start_time": "2023-06-18T19:58:57.385Z"
   },
   {
    "duration": 212,
    "start_time": "2023-06-18T20:03:06.193Z"
   },
   {
    "duration": 3,
    "start_time": "2023-06-18T20:03:09.130Z"
   },
   {
    "duration": 432569,
    "start_time": "2023-06-18T20:03:28.095Z"
   },
   {
    "duration": 4,
    "start_time": "2023-06-18T20:10:58.194Z"
   },
   {
    "duration": 6270,
    "start_time": "2023-06-19T11:39:42.430Z"
   },
   {
    "duration": 1584,
    "start_time": "2023-06-19T11:39:48.703Z"
   },
   {
    "duration": 984,
    "start_time": "2023-06-19T11:39:50.289Z"
   },
   {
    "duration": 16,
    "start_time": "2023-06-19T11:39:51.276Z"
   },
   {
    "duration": 119,
    "start_time": "2023-06-19T11:39:51.294Z"
   },
   {
    "duration": 85,
    "start_time": "2023-06-19T11:39:51.415Z"
   },
   {
    "duration": 24,
    "start_time": "2023-06-19T11:39:51.501Z"
   },
   {
    "duration": 37,
    "start_time": "2023-06-19T11:39:51.527Z"
   },
   {
    "duration": 464,
    "start_time": "2023-06-19T11:39:51.566Z"
   },
   {
    "duration": 341,
    "start_time": "2023-06-19T11:39:52.032Z"
   },
   {
    "duration": 69,
    "start_time": "2023-06-19T11:39:52.375Z"
   },
   {
    "duration": 52,
    "start_time": "2023-06-19T11:39:52.446Z"
   },
   {
    "duration": 54,
    "start_time": "2023-06-19T11:39:52.499Z"
   },
   {
    "duration": 730,
    "start_time": "2023-06-19T11:39:52.555Z"
   },
   {
    "duration": 19,
    "start_time": "2023-06-19T11:39:53.287Z"
   },
   {
    "duration": 53,
    "start_time": "2023-06-19T11:39:53.308Z"
   },
   {
    "duration": 40,
    "start_time": "2023-06-19T11:39:53.362Z"
   },
   {
    "duration": 68,
    "start_time": "2023-06-19T11:39:53.406Z"
   },
   {
    "duration": 31,
    "start_time": "2023-06-19T11:39:53.476Z"
   },
   {
    "duration": 40,
    "start_time": "2023-06-19T11:39:53.509Z"
   },
   {
    "duration": 43,
    "start_time": "2023-06-19T11:39:53.550Z"
   },
   {
    "duration": 55,
    "start_time": "2023-06-19T11:39:53.595Z"
   },
   {
    "duration": 36,
    "start_time": "2023-06-19T11:39:53.652Z"
   },
   {
    "duration": 52,
    "start_time": "2023-06-19T11:39:53.690Z"
   },
   {
    "duration": 171,
    "start_time": "2023-06-19T11:39:53.744Z"
   },
   {
    "duration": 157,
    "start_time": "2023-06-19T11:39:53.916Z"
   },
   {
    "duration": 10,
    "start_time": "2023-06-19T11:39:54.074Z"
   },
   {
    "duration": 37,
    "start_time": "2023-06-19T11:39:54.088Z"
   },
   {
    "duration": 44,
    "start_time": "2023-06-19T11:39:54.127Z"
   },
   {
    "duration": 147,
    "start_time": "2023-06-19T11:39:54.173Z"
   },
   {
    "duration": 26,
    "start_time": "2023-06-19T11:39:54.321Z"
   },
   {
    "duration": 117,
    "start_time": "2023-06-19T11:39:54.349Z"
   },
   {
    "duration": 29,
    "start_time": "2023-06-19T11:39:54.468Z"
   },
   {
    "duration": 27,
    "start_time": "2023-06-19T11:39:54.498Z"
   },
   {
    "duration": 4,
    "start_time": "2023-06-19T11:39:54.527Z"
   },
   {
    "duration": 17,
    "start_time": "2023-06-19T11:39:54.533Z"
   },
   {
    "duration": 30,
    "start_time": "2023-06-19T11:39:54.551Z"
   },
   {
    "duration": 53,
    "start_time": "2023-06-19T11:39:54.583Z"
   },
   {
    "duration": 160,
    "start_time": "2023-06-19T11:39:54.637Z"
   },
   {
    "duration": 125,
    "start_time": "2023-06-19T11:39:54.799Z"
   },
   {
    "duration": 35628,
    "start_time": "2023-06-19T11:39:54.926Z"
   },
   {
    "duration": 65,
    "start_time": "2023-06-19T11:40:30.556Z"
   },
   {
    "duration": 329,
    "start_time": "2023-06-19T11:40:30.622Z"
   },
   {
    "duration": 130,
    "start_time": "2023-06-19T11:40:30.952Z"
   },
   {
    "duration": 2606,
    "start_time": "2023-06-19T11:40:31.084Z"
   },
   {
    "duration": 50,
    "start_time": "2023-06-19T11:40:33.692Z"
   },
   {
    "duration": 106,
    "start_time": "2023-06-19T11:40:33.744Z"
   },
   {
    "duration": 12,
    "start_time": "2023-06-19T11:40:33.852Z"
   },
   {
    "duration": 13,
    "start_time": "2023-06-19T11:40:33.865Z"
   },
   {
    "duration": 356,
    "start_time": "2023-06-19T11:40:33.880Z"
   },
   {
    "duration": 0,
    "start_time": "2023-06-19T11:40:34.237Z"
   },
   {
    "duration": 2486,
    "start_time": "2023-06-19T11:43:28.058Z"
   },
   {
    "duration": 246,
    "start_time": "2023-06-19T11:43:36.700Z"
   },
   {
    "duration": 258,
    "start_time": "2023-06-19T12:12:33.496Z"
   },
   {
    "duration": 259,
    "start_time": "2023-06-19T12:12:49.775Z"
   },
   {
    "duration": 123,
    "start_time": "2023-06-19T12:13:23.549Z"
   },
   {
    "duration": 305,
    "start_time": "2023-06-19T12:15:21.010Z"
   },
   {
    "duration": 24,
    "start_time": "2023-06-19T12:16:26.028Z"
   },
   {
    "duration": 9,
    "start_time": "2023-06-19T12:19:34.765Z"
   },
   {
    "duration": 8,
    "start_time": "2023-06-19T12:20:03.543Z"
   },
   {
    "duration": 6704,
    "start_time": "2023-06-19T20:26:53.933Z"
   },
   {
    "duration": 1867,
    "start_time": "2023-06-19T20:27:00.640Z"
   },
   {
    "duration": 3272,
    "start_time": "2023-06-19T20:27:02.510Z"
   },
   {
    "duration": 17,
    "start_time": "2023-06-19T20:27:05.784Z"
   },
   {
    "duration": 132,
    "start_time": "2023-06-19T20:27:05.803Z"
   },
   {
    "duration": 101,
    "start_time": "2023-06-19T20:27:05.937Z"
   },
   {
    "duration": 43,
    "start_time": "2023-06-19T20:27:06.040Z"
   },
   {
    "duration": 47,
    "start_time": "2023-06-19T20:27:06.085Z"
   },
   {
    "duration": 554,
    "start_time": "2023-06-19T20:27:06.133Z"
   },
   {
    "duration": 390,
    "start_time": "2023-06-19T20:27:06.690Z"
   },
   {
    "duration": 79,
    "start_time": "2023-06-19T20:27:07.082Z"
   },
   {
    "duration": 44,
    "start_time": "2023-06-19T20:27:07.166Z"
   },
   {
    "duration": 32,
    "start_time": "2023-06-19T20:27:07.212Z"
   },
   {
    "duration": 754,
    "start_time": "2023-06-19T20:27:07.247Z"
   },
   {
    "duration": 22,
    "start_time": "2023-06-19T20:27:08.003Z"
   },
   {
    "duration": 42,
    "start_time": "2023-06-19T20:27:08.026Z"
   },
   {
    "duration": 7,
    "start_time": "2023-06-19T20:27:08.077Z"
   },
   {
    "duration": 26,
    "start_time": "2023-06-19T20:27:08.086Z"
   },
   {
    "duration": 29,
    "start_time": "2023-06-19T20:27:08.114Z"
   },
   {
    "duration": 26,
    "start_time": "2023-06-19T20:27:08.160Z"
   },
   {
    "duration": 18,
    "start_time": "2023-06-19T20:27:08.188Z"
   },
   {
    "duration": 51,
    "start_time": "2023-06-19T20:27:08.208Z"
   },
   {
    "duration": 31,
    "start_time": "2023-06-19T20:27:08.262Z"
   },
   {
    "duration": 25,
    "start_time": "2023-06-19T20:27:08.295Z"
   },
   {
    "duration": 169,
    "start_time": "2023-06-19T20:27:08.322Z"
   },
   {
    "duration": 161,
    "start_time": "2023-06-19T20:27:08.493Z"
   },
   {
    "duration": 19,
    "start_time": "2023-06-19T20:27:08.656Z"
   },
   {
    "duration": 36,
    "start_time": "2023-06-19T20:27:08.679Z"
   },
   {
    "duration": 68,
    "start_time": "2023-06-19T20:27:08.717Z"
   },
   {
    "duration": 166,
    "start_time": "2023-06-19T20:27:08.786Z"
   },
   {
    "duration": 42,
    "start_time": "2023-06-19T20:27:08.954Z"
   },
   {
    "duration": 74,
    "start_time": "2023-06-19T20:27:08.998Z"
   },
   {
    "duration": 29,
    "start_time": "2023-06-19T20:27:09.074Z"
   },
   {
    "duration": 58,
    "start_time": "2023-06-19T20:27:09.105Z"
   },
   {
    "duration": 12,
    "start_time": "2023-06-19T20:27:09.165Z"
   },
   {
    "duration": 3,
    "start_time": "2023-06-19T20:27:09.181Z"
   },
   {
    "duration": 7,
    "start_time": "2023-06-19T20:27:09.185Z"
   },
   {
    "duration": 8,
    "start_time": "2023-06-19T20:27:09.194Z"
   },
   {
    "duration": 7,
    "start_time": "2023-06-19T20:27:09.204Z"
   },
   {
    "duration": 6,
    "start_time": "2023-06-19T20:27:09.213Z"
   },
   {
    "duration": 34340,
    "start_time": "2023-06-19T20:27:09.221Z"
   },
   {
    "duration": 8,
    "start_time": "2023-06-19T20:27:43.569Z"
   },
   {
    "duration": 55,
    "start_time": "2023-06-19T20:27:43.655Z"
   },
   {
    "duration": 118,
    "start_time": "2023-06-19T20:27:43.713Z"
   },
   {
    "duration": 1948,
    "start_time": "2023-06-19T20:27:43.832Z"
   },
   {
    "duration": 44,
    "start_time": "2023-06-19T20:27:45.782Z"
   },
   {
    "duration": 115,
    "start_time": "2023-06-19T20:27:45.828Z"
   },
   {
    "duration": 16,
    "start_time": "2023-06-19T20:27:45.945Z"
   },
   {
    "duration": 3,
    "start_time": "2023-06-19T20:27:45.963Z"
   },
   {
    "duration": 23,
    "start_time": "2023-06-19T20:27:45.969Z"
   },
   {
    "duration": 8,
    "start_time": "2023-06-19T20:27:45.993Z"
   },
   {
    "duration": 348,
    "start_time": "2023-06-19T20:27:46.003Z"
   },
   {
    "duration": 0,
    "start_time": "2023-06-19T20:27:46.358Z"
   },
   {
    "duration": 4,
    "start_time": "2023-06-19T21:00:38.604Z"
   },
   {
    "duration": 2210,
    "start_time": "2023-06-19T21:00:38.611Z"
   },
   {
    "duration": 1322,
    "start_time": "2023-06-19T21:00:40.824Z"
   },
   {
    "duration": 850,
    "start_time": "2023-06-19T21:00:42.148Z"
   },
   {
    "duration": 21,
    "start_time": "2023-06-19T21:00:43.001Z"
   },
   {
    "duration": 147,
    "start_time": "2023-06-19T21:00:43.024Z"
   },
   {
    "duration": 98,
    "start_time": "2023-06-19T21:00:43.177Z"
   },
   {
    "duration": 35,
    "start_time": "2023-06-19T21:00:43.278Z"
   },
   {
    "duration": 74,
    "start_time": "2023-06-19T21:00:43.315Z"
   },
   {
    "duration": 529,
    "start_time": "2023-06-19T21:00:43.391Z"
   },
   {
    "duration": 302,
    "start_time": "2023-06-19T21:00:43.922Z"
   },
   {
    "duration": 78,
    "start_time": "2023-06-19T21:00:44.226Z"
   },
   {
    "duration": 28,
    "start_time": "2023-06-19T21:00:44.305Z"
   },
   {
    "duration": 29,
    "start_time": "2023-06-19T21:00:44.357Z"
   },
   {
    "duration": 745,
    "start_time": "2023-06-19T21:00:44.388Z"
   },
   {
    "duration": 36,
    "start_time": "2023-06-19T21:00:45.135Z"
   },
   {
    "duration": 26,
    "start_time": "2023-06-19T21:00:45.173Z"
   },
   {
    "duration": 7,
    "start_time": "2023-06-19T21:00:45.202Z"
   },
   {
    "duration": 59,
    "start_time": "2023-06-19T21:00:45.211Z"
   },
   {
    "duration": 52,
    "start_time": "2023-06-19T21:00:45.273Z"
   },
   {
    "duration": 49,
    "start_time": "2023-06-19T21:00:45.326Z"
   },
   {
    "duration": 18,
    "start_time": "2023-06-19T21:00:45.377Z"
   },
   {
    "duration": 28,
    "start_time": "2023-06-19T21:00:45.397Z"
   },
   {
    "duration": 48,
    "start_time": "2023-06-19T21:00:45.427Z"
   },
   {
    "duration": 39,
    "start_time": "2023-06-19T21:00:45.477Z"
   },
   {
    "duration": 156,
    "start_time": "2023-06-19T21:00:45.518Z"
   },
   {
    "duration": 166,
    "start_time": "2023-06-19T21:00:45.679Z"
   },
   {
    "duration": 22,
    "start_time": "2023-06-19T21:00:45.847Z"
   },
   {
    "duration": 14,
    "start_time": "2023-06-19T21:00:45.875Z"
   },
   {
    "duration": 73,
    "start_time": "2023-06-19T21:00:45.890Z"
   },
   {
    "duration": 199,
    "start_time": "2023-06-19T21:00:45.971Z"
   },
   {
    "duration": 36,
    "start_time": "2023-06-19T21:00:46.179Z"
   },
   {
    "duration": 72,
    "start_time": "2023-06-19T21:00:46.217Z"
   },
   {
    "duration": 34,
    "start_time": "2023-06-19T21:00:46.291Z"
   },
   {
    "duration": 63,
    "start_time": "2023-06-19T21:00:46.327Z"
   },
   {
    "duration": 7,
    "start_time": "2023-06-19T21:00:46.392Z"
   },
   {
    "duration": 71,
    "start_time": "2023-06-19T21:00:46.401Z"
   },
   {
    "duration": 14,
    "start_time": "2023-06-19T21:00:46.477Z"
   },
   {
    "duration": 7,
    "start_time": "2023-06-19T21:00:46.493Z"
   },
   {
    "duration": 7,
    "start_time": "2023-06-19T21:00:46.502Z"
   },
   {
    "duration": 21,
    "start_time": "2023-06-19T21:00:46.513Z"
   },
   {
    "duration": 15,
    "start_time": "2023-06-19T21:00:46.536Z"
   },
   {
    "duration": 9,
    "start_time": "2023-06-19T21:00:46.552Z"
   },
   {
    "duration": 37503,
    "start_time": "2023-06-19T21:00:46.562Z"
   },
   {
    "duration": 143,
    "start_time": "2023-06-19T21:01:24.068Z"
   },
   {
    "duration": 170,
    "start_time": "2023-06-19T21:01:24.212Z"
   },
   {
    "duration": 1987,
    "start_time": "2023-06-19T21:01:24.385Z"
   },
   {
    "duration": 100,
    "start_time": "2023-06-19T21:01:26.374Z"
   },
   {
    "duration": 111,
    "start_time": "2023-06-19T21:01:26.481Z"
   },
   {
    "duration": 13,
    "start_time": "2023-06-19T21:01:26.594Z"
   },
   {
    "duration": 5,
    "start_time": "2023-06-19T21:01:26.610Z"
   },
   {
    "duration": 12,
    "start_time": "2023-06-19T21:01:26.617Z"
   },
   {
    "duration": 4,
    "start_time": "2023-06-19T21:01:26.631Z"
   },
   {
    "duration": 272,
    "start_time": "2023-06-19T21:01:26.637Z"
   },
   {
    "duration": 5,
    "start_time": "2023-06-19T21:04:18.762Z"
   },
   {
    "duration": 2108,
    "start_time": "2023-06-19T21:04:18.769Z"
   },
   {
    "duration": 1304,
    "start_time": "2023-06-19T21:04:20.880Z"
   },
   {
    "duration": 877,
    "start_time": "2023-06-19T21:04:22.186Z"
   },
   {
    "duration": 31,
    "start_time": "2023-06-19T21:04:23.069Z"
   },
   {
    "duration": 145,
    "start_time": "2023-06-19T21:04:23.102Z"
   },
   {
    "duration": 124,
    "start_time": "2023-06-19T21:04:23.249Z"
   },
   {
    "duration": 34,
    "start_time": "2023-06-19T21:04:23.375Z"
   },
   {
    "duration": 67,
    "start_time": "2023-06-19T21:04:23.411Z"
   },
   {
    "duration": 556,
    "start_time": "2023-06-19T21:04:23.480Z"
   },
   {
    "duration": 307,
    "start_time": "2023-06-19T21:04:24.039Z"
   },
   {
    "duration": 78,
    "start_time": "2023-06-19T21:04:24.348Z"
   },
   {
    "duration": 42,
    "start_time": "2023-06-19T21:04:24.428Z"
   },
   {
    "duration": 20,
    "start_time": "2023-06-19T21:04:24.472Z"
   },
   {
    "duration": 743,
    "start_time": "2023-06-19T21:04:24.494Z"
   },
   {
    "duration": 42,
    "start_time": "2023-06-19T21:04:25.239Z"
   },
   {
    "duration": 26,
    "start_time": "2023-06-19T21:04:25.283Z"
   },
   {
    "duration": 5,
    "start_time": "2023-06-19T21:04:25.311Z"
   },
   {
    "duration": 56,
    "start_time": "2023-06-19T21:04:25.318Z"
   },
   {
    "duration": 36,
    "start_time": "2023-06-19T21:04:25.375Z"
   },
   {
    "duration": 38,
    "start_time": "2023-06-19T21:04:25.413Z"
   },
   {
    "duration": 27,
    "start_time": "2023-06-19T21:04:25.453Z"
   },
   {
    "duration": 28,
    "start_time": "2023-06-19T21:04:25.482Z"
   },
   {
    "duration": 25,
    "start_time": "2023-06-19T21:04:25.512Z"
   },
   {
    "duration": 54,
    "start_time": "2023-06-19T21:04:25.539Z"
   },
   {
    "duration": 147,
    "start_time": "2023-06-19T21:04:25.594Z"
   },
   {
    "duration": 160,
    "start_time": "2023-06-19T21:04:25.743Z"
   },
   {
    "duration": 12,
    "start_time": "2023-06-19T21:04:25.906Z"
   },
   {
    "duration": 15,
    "start_time": "2023-06-19T21:04:25.923Z"
   },
   {
    "duration": 75,
    "start_time": "2023-06-19T21:04:25.941Z"
   },
   {
    "duration": 175,
    "start_time": "2023-06-19T21:04:26.018Z"
   },
   {
    "duration": 30,
    "start_time": "2023-06-19T21:04:26.194Z"
   },
   {
    "duration": 74,
    "start_time": "2023-06-19T21:04:26.226Z"
   },
   {
    "duration": 27,
    "start_time": "2023-06-19T21:04:26.302Z"
   },
   {
    "duration": 2,
    "start_time": "2023-06-19T21:04:26.331Z"
   },
   {
    "duration": 6,
    "start_time": "2023-06-19T21:04:26.335Z"
   },
   {
    "duration": 151,
    "start_time": "2023-06-19T21:04:26.342Z"
   },
   {
    "duration": 22,
    "start_time": "2023-06-19T21:04:26.495Z"
   },
   {
    "duration": 5,
    "start_time": "2023-06-19T21:04:26.519Z"
   },
   {
    "duration": 66,
    "start_time": "2023-06-19T21:04:26.526Z"
   },
   {
    "duration": 4,
    "start_time": "2023-06-19T21:04:26.594Z"
   },
   {
    "duration": 5,
    "start_time": "2023-06-19T21:04:26.600Z"
   },
   {
    "duration": 7,
    "start_time": "2023-06-19T21:04:26.607Z"
   },
   {
    "duration": 33257,
    "start_time": "2023-06-19T21:04:26.616Z"
   },
   {
    "duration": 87,
    "start_time": "2023-06-19T21:04:59.875Z"
   },
   {
    "duration": 121,
    "start_time": "2023-06-19T21:04:59.967Z"
   },
   {
    "duration": 2238,
    "start_time": "2023-06-19T21:05:00.090Z"
   },
   {
    "duration": 41,
    "start_time": "2023-06-19T21:05:02.330Z"
   },
   {
    "duration": 24,
    "start_time": "2023-06-19T21:05:02.373Z"
   },
   {
    "duration": 5,
    "start_time": "2023-06-19T21:05:02.399Z"
   },
   {
    "duration": 15,
    "start_time": "2023-06-19T21:05:02.406Z"
   },
   {
    "duration": 10,
    "start_time": "2023-06-19T21:05:02.423Z"
   },
   {
    "duration": 265,
    "start_time": "2023-06-19T21:05:02.435Z"
   },
   {
    "duration": 1864790,
    "start_time": "2023-06-19T21:05:02.701Z"
   },
   {
    "duration": 5,
    "start_time": "2023-06-19T21:36:15.991Z"
   },
   {
    "duration": 2878,
    "start_time": "2023-06-19T21:36:15.998Z"
   },
   {
    "duration": 1464,
    "start_time": "2023-06-19T21:36:18.879Z"
   },
   {
    "duration": 854,
    "start_time": "2023-06-19T21:36:20.345Z"
   },
   {
    "duration": 23,
    "start_time": "2023-06-19T21:36:21.201Z"
   },
   {
    "duration": 131,
    "start_time": "2023-06-19T21:36:21.226Z"
   },
   {
    "duration": 85,
    "start_time": "2023-06-19T21:36:21.358Z"
   },
   {
    "duration": 40,
    "start_time": "2023-06-19T21:36:21.445Z"
   },
   {
    "duration": 55,
    "start_time": "2023-06-19T21:36:21.486Z"
   },
   {
    "duration": 492,
    "start_time": "2023-06-19T21:36:21.557Z"
   },
   {
    "duration": 266,
    "start_time": "2023-06-19T21:36:22.050Z"
   },
   {
    "duration": 70,
    "start_time": "2023-06-19T21:36:22.318Z"
   },
   {
    "duration": 32,
    "start_time": "2023-06-19T21:36:22.390Z"
   },
   {
    "duration": 33,
    "start_time": "2023-06-19T21:36:22.425Z"
   },
   {
    "duration": 707,
    "start_time": "2023-06-19T21:36:22.459Z"
   },
   {
    "duration": 25,
    "start_time": "2023-06-19T21:36:23.168Z"
   },
   {
    "duration": 24,
    "start_time": "2023-06-19T21:36:23.195Z"
   },
   {
    "duration": 39,
    "start_time": "2023-06-19T21:36:23.221Z"
   },
   {
    "duration": 39,
    "start_time": "2023-06-19T21:36:23.262Z"
   },
   {
    "duration": 54,
    "start_time": "2023-06-19T21:36:23.303Z"
   },
   {
    "duration": 25,
    "start_time": "2023-06-19T21:36:23.359Z"
   },
   {
    "duration": 21,
    "start_time": "2023-06-19T21:36:23.385Z"
   },
   {
    "duration": 48,
    "start_time": "2023-06-19T21:36:23.408Z"
   },
   {
    "duration": 25,
    "start_time": "2023-06-19T21:36:23.458Z"
   },
   {
    "duration": 33,
    "start_time": "2023-06-19T21:36:23.485Z"
   },
   {
    "duration": 142,
    "start_time": "2023-06-19T21:36:23.520Z"
   },
   {
    "duration": 149,
    "start_time": "2023-06-19T21:36:23.664Z"
   },
   {
    "duration": 11,
    "start_time": "2023-06-19T21:36:23.815Z"
   },
   {
    "duration": 30,
    "start_time": "2023-06-19T21:36:23.828Z"
   },
   {
    "duration": 53,
    "start_time": "2023-06-19T21:36:23.859Z"
   },
   {
    "duration": 184,
    "start_time": "2023-06-19T21:36:23.914Z"
   },
   {
    "duration": 29,
    "start_time": "2023-06-19T21:36:24.100Z"
   },
   {
    "duration": 82,
    "start_time": "2023-06-19T21:36:24.131Z"
   },
   {
    "duration": 29,
    "start_time": "2023-06-19T21:36:24.215Z"
   },
   {
    "duration": 13,
    "start_time": "2023-06-19T21:36:24.245Z"
   },
   {
    "duration": 26,
    "start_time": "2023-06-19T21:36:24.260Z"
   },
   {
    "duration": 260,
    "start_time": "2023-06-19T21:36:24.288Z"
   },
   {
    "duration": 56,
    "start_time": "2023-06-19T21:36:24.550Z"
   },
   {
    "duration": 5,
    "start_time": "2023-06-19T21:36:24.609Z"
   },
   {
    "duration": 66,
    "start_time": "2023-06-19T21:36:24.616Z"
   },
   {
    "duration": 3,
    "start_time": "2023-06-19T21:36:24.686Z"
   },
   {
    "duration": 8,
    "start_time": "2023-06-19T21:36:24.690Z"
   },
   {
    "duration": 9,
    "start_time": "2023-06-19T21:36:24.700Z"
   },
   {
    "duration": 201,
    "start_time": "2023-06-19T21:36:24.710Z"
   },
   {
    "duration": 96,
    "start_time": "2023-06-19T21:36:24.913Z"
   },
   {
    "duration": 0,
    "start_time": "2023-06-19T21:36:25.011Z"
   },
   {
    "duration": 0,
    "start_time": "2023-06-19T21:36:25.013Z"
   },
   {
    "duration": 0,
    "start_time": "2023-06-19T21:36:25.014Z"
   },
   {
    "duration": 0,
    "start_time": "2023-06-19T21:36:25.016Z"
   },
   {
    "duration": 0,
    "start_time": "2023-06-19T21:36:25.017Z"
   },
   {
    "duration": 0,
    "start_time": "2023-06-19T21:36:25.018Z"
   },
   {
    "duration": 6,
    "start_time": "2023-06-19T21:39:08.324Z"
   },
   {
    "duration": 4,
    "start_time": "2023-06-19T21:43:57.187Z"
   },
   {
    "duration": 2045,
    "start_time": "2023-06-19T21:43:57.193Z"
   },
   {
    "duration": 1237,
    "start_time": "2023-06-19T21:43:59.241Z"
   },
   {
    "duration": 884,
    "start_time": "2023-06-19T21:44:00.480Z"
   },
   {
    "duration": 28,
    "start_time": "2023-06-19T21:44:01.367Z"
   },
   {
    "duration": 159,
    "start_time": "2023-06-19T21:44:01.397Z"
   },
   {
    "duration": 112,
    "start_time": "2023-06-19T21:44:01.559Z"
   },
   {
    "duration": 33,
    "start_time": "2023-06-19T21:44:01.673Z"
   },
   {
    "duration": 71,
    "start_time": "2023-06-19T21:44:01.707Z"
   },
   {
    "duration": 590,
    "start_time": "2023-06-19T21:44:01.780Z"
   },
   {
    "duration": 297,
    "start_time": "2023-06-19T21:44:02.372Z"
   },
   {
    "duration": 68,
    "start_time": "2023-06-19T21:44:02.671Z"
   },
   {
    "duration": 39,
    "start_time": "2023-06-19T21:44:02.741Z"
   },
   {
    "duration": 20,
    "start_time": "2023-06-19T21:44:02.782Z"
   },
   {
    "duration": 733,
    "start_time": "2023-06-19T21:44:02.804Z"
   },
   {
    "duration": 37,
    "start_time": "2023-06-19T21:44:03.539Z"
   },
   {
    "duration": 28,
    "start_time": "2023-06-19T21:44:03.578Z"
   },
   {
    "duration": 6,
    "start_time": "2023-06-19T21:44:03.608Z"
   },
   {
    "duration": 64,
    "start_time": "2023-06-19T21:44:03.616Z"
   },
   {
    "duration": 48,
    "start_time": "2023-06-19T21:44:03.682Z"
   },
   {
    "duration": 33,
    "start_time": "2023-06-19T21:44:03.732Z"
   },
   {
    "duration": 16,
    "start_time": "2023-06-19T21:44:03.767Z"
   },
   {
    "duration": 28,
    "start_time": "2023-06-19T21:44:03.785Z"
   },
   {
    "duration": 47,
    "start_time": "2023-06-19T21:44:03.814Z"
   },
   {
    "duration": 30,
    "start_time": "2023-06-19T21:44:03.862Z"
   },
   {
    "duration": 131,
    "start_time": "2023-06-19T21:44:03.893Z"
   },
   {
    "duration": 155,
    "start_time": "2023-06-19T21:44:04.025Z"
   },
   {
    "duration": 12,
    "start_time": "2023-06-19T21:44:04.182Z"
   },
   {
    "duration": 13,
    "start_time": "2023-06-19T21:44:04.196Z"
   },
   {
    "duration": 8,
    "start_time": "2023-06-19T21:44:04.210Z"
   },
   {
    "duration": 39,
    "start_time": "2023-06-19T21:44:04.219Z"
   },
   {
    "duration": 55,
    "start_time": "2023-06-19T21:44:04.260Z"
   },
   {
    "duration": 185,
    "start_time": "2023-06-19T21:44:04.316Z"
   },
   {
    "duration": 29,
    "start_time": "2023-06-19T21:44:04.502Z"
   },
   {
    "duration": 65,
    "start_time": "2023-06-19T21:44:04.533Z"
   },
   {
    "duration": 28,
    "start_time": "2023-06-19T21:44:04.600Z"
   },
   {
    "duration": 149,
    "start_time": "2023-06-19T21:44:04.629Z"
   },
   {
    "duration": 23,
    "start_time": "2023-06-19T21:44:04.780Z"
   },
   {
    "duration": 10,
    "start_time": "2023-06-19T21:44:04.805Z"
   },
   {
    "duration": 75,
    "start_time": "2023-06-19T21:44:04.816Z"
   },
   {
    "duration": 3,
    "start_time": "2023-06-19T21:44:04.896Z"
   },
   {
    "duration": 10,
    "start_time": "2023-06-19T21:44:04.901Z"
   },
   {
    "duration": 6,
    "start_time": "2023-06-19T21:44:04.913Z"
   },
   {
    "duration": 218,
    "start_time": "2023-06-19T21:44:04.921Z"
   },
   {
    "duration": 133,
    "start_time": "2023-06-19T21:44:05.140Z"
   },
   {
    "duration": 1735,
    "start_time": "2023-06-19T21:44:05.274Z"
   },
   {
    "duration": 12,
    "start_time": "2023-06-19T21:44:07.010Z"
   },
   {
    "duration": 3,
    "start_time": "2023-06-19T21:44:07.024Z"
   },
   {
    "duration": 5,
    "start_time": "2023-06-19T21:44:07.028Z"
   },
   {
    "duration": 248,
    "start_time": "2023-06-19T21:44:07.034Z"
   },
   {
    "duration": 2597159,
    "start_time": "2023-06-19T21:44:07.284Z"
   },
   {
    "duration": 25418,
    "start_time": "2023-06-19T22:27:24.446Z"
   },
   {
    "duration": 3,
    "start_time": "2023-06-19T22:28:03.821Z"
   },
   {
    "duration": 1886,
    "start_time": "2023-06-19T22:28:03.826Z"
   },
   {
    "duration": 1139,
    "start_time": "2023-06-19T22:28:05.714Z"
   },
   {
    "duration": 800,
    "start_time": "2023-06-19T22:28:06.857Z"
   },
   {
    "duration": 18,
    "start_time": "2023-06-19T22:28:07.659Z"
   },
   {
    "duration": 126,
    "start_time": "2023-06-19T22:28:07.679Z"
   },
   {
    "duration": 94,
    "start_time": "2023-06-19T22:28:07.807Z"
   },
   {
    "duration": 33,
    "start_time": "2023-06-19T22:28:07.902Z"
   },
   {
    "duration": 63,
    "start_time": "2023-06-19T22:28:07.936Z"
   },
   {
    "duration": 497,
    "start_time": "2023-06-19T22:28:08.002Z"
   },
   {
    "duration": 270,
    "start_time": "2023-06-19T22:28:08.501Z"
   },
   {
    "duration": 86,
    "start_time": "2023-06-19T22:28:08.773Z"
   },
   {
    "duration": 37,
    "start_time": "2023-06-19T22:28:08.860Z"
   },
   {
    "duration": 25,
    "start_time": "2023-06-19T22:28:08.899Z"
   },
   {
    "duration": 712,
    "start_time": "2023-06-19T22:28:08.927Z"
   },
   {
    "duration": 31,
    "start_time": "2023-06-19T22:28:09.641Z"
   },
   {
    "duration": 31,
    "start_time": "2023-06-19T22:28:09.675Z"
   },
   {
    "duration": 6,
    "start_time": "2023-06-19T22:28:09.708Z"
   },
   {
    "duration": 49,
    "start_time": "2023-06-19T22:28:09.715Z"
   },
   {
    "duration": 28,
    "start_time": "2023-06-19T22:28:09.766Z"
   },
   {
    "duration": 25,
    "start_time": "2023-06-19T22:28:09.795Z"
   },
   {
    "duration": 35,
    "start_time": "2023-06-19T22:28:09.822Z"
   },
   {
    "duration": 28,
    "start_time": "2023-06-19T22:28:09.859Z"
   },
   {
    "duration": 24,
    "start_time": "2023-06-19T22:28:09.889Z"
   },
   {
    "duration": 43,
    "start_time": "2023-06-19T22:28:09.914Z"
   },
   {
    "duration": 129,
    "start_time": "2023-06-19T22:28:09.959Z"
   },
   {
    "duration": 145,
    "start_time": "2023-06-19T22:28:10.090Z"
   },
   {
    "duration": 17,
    "start_time": "2023-06-19T22:28:10.239Z"
   },
   {
    "duration": 14,
    "start_time": "2023-06-19T22:28:10.258Z"
   },
   {
    "duration": 10,
    "start_time": "2023-06-19T22:28:10.274Z"
   },
   {
    "duration": 27,
    "start_time": "2023-06-19T22:28:10.286Z"
   },
   {
    "duration": 90,
    "start_time": "2023-06-19T22:28:10.316Z"
   },
   {
    "duration": 176,
    "start_time": "2023-06-19T22:28:10.408Z"
   },
   {
    "duration": 29,
    "start_time": "2023-06-19T22:28:10.585Z"
   },
   {
    "duration": 69,
    "start_time": "2023-06-19T22:28:10.616Z"
   },
   {
    "duration": 26,
    "start_time": "2023-06-19T22:28:10.687Z"
   },
   {
    "duration": 137,
    "start_time": "2023-06-19T22:28:10.714Z"
   },
   {
    "duration": 23,
    "start_time": "2023-06-19T22:28:10.856Z"
   },
   {
    "duration": 5,
    "start_time": "2023-06-19T22:28:10.881Z"
   },
   {
    "duration": 44,
    "start_time": "2023-06-19T22:28:10.888Z"
   },
   {
    "duration": 2,
    "start_time": "2023-06-19T22:28:10.934Z"
   },
   {
    "duration": 19,
    "start_time": "2023-06-19T22:28:10.938Z"
   },
   {
    "duration": 11,
    "start_time": "2023-06-19T22:28:10.959Z"
   },
   {
    "duration": 21789,
    "start_time": "2023-06-19T22:28:10.971Z"
   },
   {
    "duration": 98,
    "start_time": "2023-06-19T22:28:32.762Z"
   },
   {
    "duration": 134,
    "start_time": "2023-06-19T22:28:32.863Z"
   },
   {
    "duration": 1696,
    "start_time": "2023-06-19T22:28:32.999Z"
   },
   {
    "duration": 8,
    "start_time": "2023-06-19T22:28:34.697Z"
   },
   {
    "duration": 2,
    "start_time": "2023-06-19T22:28:34.706Z"
   },
   {
    "duration": 122,
    "start_time": "2023-06-19T22:28:34.710Z"
   },
   {
    "duration": 0,
    "start_time": "2023-06-19T22:28:34.834Z"
   },
   {
    "duration": 0,
    "start_time": "2023-06-19T22:28:34.835Z"
   },
   {
    "duration": 0,
    "start_time": "2023-06-19T22:28:34.837Z"
   },
   {
    "duration": 3,
    "start_time": "2023-06-19T22:29:30.655Z"
   },
   {
    "duration": 196,
    "start_time": "2023-06-19T22:29:35.881Z"
   },
   {
    "duration": 1338216,
    "start_time": "2023-06-19T22:29:39.246Z"
   },
   {
    "duration": 3,
    "start_time": "2023-06-20T05:28:15.143Z"
   },
   {
    "duration": 1889,
    "start_time": "2023-06-20T05:28:15.149Z"
   },
   {
    "duration": 1222,
    "start_time": "2023-06-20T05:28:17.040Z"
   },
   {
    "duration": 826,
    "start_time": "2023-06-20T05:28:18.263Z"
   },
   {
    "duration": 18,
    "start_time": "2023-06-20T05:28:19.091Z"
   },
   {
    "duration": 128,
    "start_time": "2023-06-20T05:28:19.110Z"
   },
   {
    "duration": 95,
    "start_time": "2023-06-20T05:28:19.240Z"
   },
   {
    "duration": 40,
    "start_time": "2023-06-20T05:28:19.337Z"
   },
   {
    "duration": 54,
    "start_time": "2023-06-20T05:28:19.379Z"
   },
   {
    "duration": 511,
    "start_time": "2023-06-20T05:28:19.434Z"
   },
   {
    "duration": 265,
    "start_time": "2023-06-20T05:28:19.947Z"
   },
   {
    "duration": 69,
    "start_time": "2023-06-20T05:28:20.214Z"
   },
   {
    "duration": 35,
    "start_time": "2023-06-20T05:28:20.285Z"
   },
   {
    "duration": 26,
    "start_time": "2023-06-20T05:28:20.321Z"
   },
   {
    "duration": 665,
    "start_time": "2023-06-20T05:28:20.349Z"
   },
   {
    "duration": 21,
    "start_time": "2023-06-20T05:28:21.016Z"
   },
   {
    "duration": 41,
    "start_time": "2023-06-20T05:28:21.039Z"
   },
   {
    "duration": 6,
    "start_time": "2023-06-20T05:28:21.082Z"
   },
   {
    "duration": 31,
    "start_time": "2023-06-20T05:28:21.089Z"
   },
   {
    "duration": 46,
    "start_time": "2023-06-20T05:28:21.122Z"
   },
   {
    "duration": 23,
    "start_time": "2023-06-20T05:28:21.170Z"
   },
   {
    "duration": 19,
    "start_time": "2023-06-20T05:28:21.195Z"
   },
   {
    "duration": 57,
    "start_time": "2023-06-20T05:28:21.215Z"
   },
   {
    "duration": 26,
    "start_time": "2023-06-20T05:28:21.274Z"
   },
   {
    "duration": 27,
    "start_time": "2023-06-20T05:28:21.301Z"
   },
   {
    "duration": 145,
    "start_time": "2023-06-20T05:28:21.330Z"
   },
   {
    "duration": 147,
    "start_time": "2023-06-20T05:28:21.476Z"
   },
   {
    "duration": 12,
    "start_time": "2023-06-20T05:28:21.625Z"
   },
   {
    "duration": 22,
    "start_time": "2023-06-20T05:28:21.640Z"
   },
   {
    "duration": 6,
    "start_time": "2023-06-20T05:28:21.664Z"
   },
   {
    "duration": 15,
    "start_time": "2023-06-20T05:28:21.672Z"
   },
   {
    "duration": 78,
    "start_time": "2023-06-20T05:28:21.689Z"
   },
   {
    "duration": 176,
    "start_time": "2023-06-20T05:28:21.768Z"
   },
   {
    "duration": 32,
    "start_time": "2023-06-20T05:28:21.945Z"
   },
   {
    "duration": 52,
    "start_time": "2023-06-20T05:28:21.979Z"
   },
   {
    "duration": 37,
    "start_time": "2023-06-20T05:28:22.033Z"
   },
   {
    "duration": 131,
    "start_time": "2023-06-20T05:28:22.071Z"
   },
   {
    "duration": 23,
    "start_time": "2023-06-20T05:28:22.203Z"
   },
   {
    "duration": 5,
    "start_time": "2023-06-20T05:28:22.227Z"
   },
   {
    "duration": 48,
    "start_time": "2023-06-20T05:28:22.234Z"
   },
   {
    "duration": 7,
    "start_time": "2023-06-20T05:28:22.284Z"
   },
   {
    "duration": 5,
    "start_time": "2023-06-20T05:28:22.292Z"
   },
   {
    "duration": 6,
    "start_time": "2023-06-20T05:28:22.298Z"
   },
   {
    "duration": 17656,
    "start_time": "2023-06-20T05:28:22.305Z"
   },
   {
    "duration": 98,
    "start_time": "2023-06-20T05:28:39.963Z"
   },
   {
    "duration": 224,
    "start_time": "2023-06-20T05:28:40.063Z"
   },
   {
    "duration": 1806,
    "start_time": "2023-06-20T05:28:40.288Z"
   },
   {
    "duration": 9,
    "start_time": "2023-06-20T05:28:42.096Z"
   },
   {
    "duration": 4,
    "start_time": "2023-06-20T05:28:42.106Z"
   },
   {
    "duration": 8,
    "start_time": "2023-06-20T05:28:42.112Z"
   },
   {
    "duration": 228,
    "start_time": "2023-06-20T05:28:42.122Z"
   },
   {
    "duration": 17208,
    "start_time": "2023-06-20T05:28:42.352Z"
   },
   {
    "duration": 100,
    "start_time": "2023-06-20T05:28:59.562Z"
   },
   {
    "duration": 4,
    "start_time": "2023-06-20T05:32:54.267Z"
   },
   {
    "duration": 6,
    "start_time": "2023-06-20T05:40:50.662Z"
   },
   {
    "duration": 85175,
    "start_time": "2023-06-20T05:41:04.684Z"
   },
   {
    "duration": 24,
    "start_time": "2023-06-20T05:50:25.646Z"
   },
   {
    "duration": 1921,
    "start_time": "2023-06-20T05:53:50.941Z"
   },
   {
    "duration": 1302,
    "start_time": "2023-06-20T05:53:52.865Z"
   },
   {
    "duration": 792,
    "start_time": "2023-06-20T05:53:54.169Z"
   },
   {
    "duration": 17,
    "start_time": "2023-06-20T05:53:54.963Z"
   },
   {
    "duration": 122,
    "start_time": "2023-06-20T05:53:54.981Z"
   },
   {
    "duration": 94,
    "start_time": "2023-06-20T05:53:55.104Z"
   },
   {
    "duration": 38,
    "start_time": "2023-06-20T05:53:55.199Z"
   },
   {
    "duration": 61,
    "start_time": "2023-06-20T05:53:55.239Z"
   },
   {
    "duration": 528,
    "start_time": "2023-06-20T05:53:55.301Z"
   },
   {
    "duration": 270,
    "start_time": "2023-06-20T05:53:55.832Z"
   },
   {
    "duration": 67,
    "start_time": "2023-06-20T05:53:56.104Z"
   },
   {
    "duration": 30,
    "start_time": "2023-06-20T05:53:56.173Z"
   },
   {
    "duration": 20,
    "start_time": "2023-06-20T05:53:56.205Z"
   },
   {
    "duration": 710,
    "start_time": "2023-06-20T05:53:56.227Z"
   },
   {
    "duration": 30,
    "start_time": "2023-06-20T05:53:56.939Z"
   },
   {
    "duration": 25,
    "start_time": "2023-06-20T05:53:56.970Z"
   },
   {
    "duration": 6,
    "start_time": "2023-06-20T05:53:56.997Z"
   },
   {
    "duration": 29,
    "start_time": "2023-06-20T05:53:57.005Z"
   },
   {
    "duration": 44,
    "start_time": "2023-06-20T05:53:57.036Z"
   },
   {
    "duration": 24,
    "start_time": "2023-06-20T05:53:57.081Z"
   },
   {
    "duration": 15,
    "start_time": "2023-06-20T05:53:57.107Z"
   },
   {
    "duration": 51,
    "start_time": "2023-06-20T05:53:57.124Z"
   },
   {
    "duration": 24,
    "start_time": "2023-06-20T05:53:57.177Z"
   },
   {
    "duration": 26,
    "start_time": "2023-06-20T05:53:57.203Z"
   },
   {
    "duration": 41,
    "start_time": "2023-06-20T05:53:57.231Z"
   },
   {
    "duration": 135,
    "start_time": "2023-06-20T05:53:57.274Z"
   },
   {
    "duration": 150,
    "start_time": "2023-06-20T05:53:57.411Z"
   },
   {
    "duration": 12,
    "start_time": "2023-06-20T05:53:57.565Z"
   },
   {
    "duration": 14,
    "start_time": "2023-06-20T05:53:57.579Z"
   },
   {
    "duration": 8,
    "start_time": "2023-06-20T05:53:57.595Z"
   },
   {
    "duration": 27,
    "start_time": "2023-06-20T05:53:57.604Z"
   },
   {
    "duration": 76,
    "start_time": "2023-06-20T05:53:57.633Z"
   },
   {
    "duration": 182,
    "start_time": "2023-06-20T05:53:57.711Z"
   },
   {
    "duration": 30,
    "start_time": "2023-06-20T05:53:57.895Z"
   },
   {
    "duration": 75,
    "start_time": "2023-06-20T05:53:57.927Z"
   },
   {
    "duration": 28,
    "start_time": "2023-06-20T05:53:58.004Z"
   },
   {
    "duration": 137,
    "start_time": "2023-06-20T05:53:58.034Z"
   },
   {
    "duration": 23,
    "start_time": "2023-06-20T05:53:58.173Z"
   },
   {
    "duration": 9,
    "start_time": "2023-06-20T05:53:58.198Z"
   },
   {
    "duration": 51,
    "start_time": "2023-06-20T05:53:58.209Z"
   },
   {
    "duration": 3,
    "start_time": "2023-06-20T05:53:58.262Z"
   },
   {
    "duration": 8,
    "start_time": "2023-06-20T05:53:58.267Z"
   },
   {
    "duration": 9,
    "start_time": "2023-06-20T05:53:58.277Z"
   },
   {
    "duration": 18902,
    "start_time": "2023-06-20T05:53:58.287Z"
   },
   {
    "duration": 99,
    "start_time": "2023-06-20T05:54:17.258Z"
   },
   {
    "duration": 140,
    "start_time": "2023-06-20T05:54:17.359Z"
   },
   {
    "duration": 1889,
    "start_time": "2023-06-20T05:54:17.501Z"
   },
   {
    "duration": 9,
    "start_time": "2023-06-20T05:54:19.392Z"
   },
   {
    "duration": 4,
    "start_time": "2023-06-20T05:54:19.403Z"
   },
   {
    "duration": 221,
    "start_time": "2023-06-20T05:54:19.409Z"
   },
   {
    "duration": 83828,
    "start_time": "2023-06-20T05:54:19.632Z"
   },
   {
    "duration": 58,
    "start_time": "2023-06-20T05:55:43.461Z"
   },
   {
    "duration": 5,
    "start_time": "2023-06-20T05:55:43.521Z"
   },
   {
    "duration": 85682,
    "start_time": "2023-06-20T06:34:29.380Z"
   },
   {
    "duration": 7522,
    "start_time": "2023-06-20T11:41:56.194Z"
   },
   {
    "duration": 1402,
    "start_time": "2023-06-20T11:42:03.719Z"
   },
   {
    "duration": 1032,
    "start_time": "2023-06-20T11:42:05.123Z"
   },
   {
    "duration": 21,
    "start_time": "2023-06-20T11:42:06.157Z"
   },
   {
    "duration": 142,
    "start_time": "2023-06-20T11:42:06.180Z"
   },
   {
    "duration": 94,
    "start_time": "2023-06-20T11:42:06.323Z"
   },
   {
    "duration": 36,
    "start_time": "2023-06-20T11:42:06.419Z"
   },
   {
    "duration": 65,
    "start_time": "2023-06-20T11:42:06.456Z"
   },
   {
    "duration": 529,
    "start_time": "2023-06-20T11:42:06.523Z"
   },
   {
    "duration": 293,
    "start_time": "2023-06-20T11:42:07.055Z"
   },
   {
    "duration": 78,
    "start_time": "2023-06-20T11:42:07.349Z"
   },
   {
    "duration": 52,
    "start_time": "2023-06-20T11:42:07.429Z"
   },
   {
    "duration": 53,
    "start_time": "2023-06-20T11:42:07.483Z"
   },
   {
    "duration": 691,
    "start_time": "2023-06-20T11:42:07.538Z"
   },
   {
    "duration": 24,
    "start_time": "2023-06-20T11:42:08.232Z"
   },
   {
    "duration": 45,
    "start_time": "2023-06-20T11:42:08.258Z"
   },
   {
    "duration": 7,
    "start_time": "2023-06-20T11:42:08.305Z"
   },
   {
    "duration": 32,
    "start_time": "2023-06-20T11:42:08.314Z"
   },
   {
    "duration": 28,
    "start_time": "2023-06-20T11:42:08.347Z"
   },
   {
    "duration": 46,
    "start_time": "2023-06-20T11:42:08.377Z"
   },
   {
    "duration": 16,
    "start_time": "2023-06-20T11:42:08.425Z"
   },
   {
    "duration": 35,
    "start_time": "2023-06-20T11:42:08.443Z"
   },
   {
    "duration": 34,
    "start_time": "2023-06-20T11:42:08.479Z"
   },
   {
    "duration": 33,
    "start_time": "2023-06-20T11:42:08.515Z"
   },
   {
    "duration": 68,
    "start_time": "2023-06-20T11:42:08.550Z"
   },
   {
    "duration": 175,
    "start_time": "2023-06-20T11:42:08.620Z"
   },
   {
    "duration": 139,
    "start_time": "2023-06-20T11:42:08.796Z"
   },
   {
    "duration": 11,
    "start_time": "2023-06-20T11:42:08.939Z"
   },
   {
    "duration": 54,
    "start_time": "2023-06-20T11:42:14.896Z"
   },
   {
    "duration": 52,
    "start_time": "2023-06-20T11:42:59.362Z"
   },
   {
    "duration": 52,
    "start_time": "2023-06-20T11:43:01.495Z"
   },
   {
    "duration": 14,
    "start_time": "2023-06-20T11:44:10.586Z"
   },
   {
    "duration": 8,
    "start_time": "2023-06-20T11:44:11.130Z"
   },
   {
    "duration": 15,
    "start_time": "2023-06-20T11:44:12.896Z"
   },
   {
    "duration": 63,
    "start_time": "2023-06-20T11:44:15.365Z"
   },
   {
    "duration": 20,
    "start_time": "2023-06-20T11:47:33.239Z"
   },
   {
    "duration": 8,
    "start_time": "2023-06-20T11:47:33.687Z"
   },
   {
    "duration": 15,
    "start_time": "2023-06-20T11:47:34.120Z"
   },
   {
    "duration": 70,
    "start_time": "2023-06-20T11:47:34.667Z"
   },
   {
    "duration": 137,
    "start_time": "2023-06-20T11:47:35.223Z"
   },
   {
    "duration": 27,
    "start_time": "2023-06-20T11:47:35.808Z"
   },
   {
    "duration": 46,
    "start_time": "2023-06-20T11:47:36.139Z"
   },
   {
    "duration": 31,
    "start_time": "2023-06-20T11:47:36.542Z"
   },
   {
    "duration": 121,
    "start_time": "2023-06-20T11:47:37.390Z"
   },
   {
    "duration": 24,
    "start_time": "2023-06-20T11:47:37.807Z"
   },
   {
    "duration": 6,
    "start_time": "2023-06-20T11:47:38.295Z"
   },
   {
    "duration": 41,
    "start_time": "2023-06-20T11:47:38.846Z"
   },
   {
    "duration": 4,
    "start_time": "2023-06-20T11:47:40.696Z"
   },
   {
    "duration": 3,
    "start_time": "2023-06-20T11:47:43.908Z"
   },
   {
    "duration": 3,
    "start_time": "2023-06-20T11:47:45.145Z"
   },
   {
    "duration": 17755,
    "start_time": "2023-06-20T11:47:46.148Z"
   },
   {
    "duration": 18,
    "start_time": "2023-06-20T11:48:16.312Z"
   },
   {
    "duration": 11,
    "start_time": "2023-06-20T11:48:21.219Z"
   },
   {
    "duration": 10,
    "start_time": "2023-06-20T11:48:31.696Z"
   },
   {
    "duration": 111,
    "start_time": "2023-06-20T11:48:43.425Z"
   },
   {
    "duration": 5,
    "start_time": "2023-06-20T11:48:44.855Z"
   },
   {
    "duration": 6,
    "start_time": "2023-06-20T11:48:52.437Z"
   },
   {
    "duration": 4,
    "start_time": "2023-06-20T11:49:05.944Z"
   },
   {
    "duration": 5,
    "start_time": "2023-06-20T11:49:29.720Z"
   },
   {
    "duration": 5,
    "start_time": "2023-06-20T11:49:33.511Z"
   },
   {
    "duration": 5,
    "start_time": "2023-06-20T11:49:37.211Z"
   },
   {
    "duration": 7,
    "start_time": "2023-06-20T11:49:40.540Z"
   },
   {
    "duration": 5,
    "start_time": "2023-06-20T11:49:46.346Z"
   },
   {
    "duration": 5,
    "start_time": "2023-06-20T11:49:56.639Z"
   },
   {
    "duration": 5,
    "start_time": "2023-06-20T11:50:03.287Z"
   },
   {
    "duration": 5,
    "start_time": "2023-06-20T11:50:22.800Z"
   },
   {
    "duration": 8,
    "start_time": "2023-06-20T11:51:46.040Z"
   },
   {
    "duration": 123,
    "start_time": "2023-06-20T11:51:46.396Z"
   },
   {
    "duration": 2248,
    "start_time": "2023-06-20T11:51:47.043Z"
   },
   {
    "duration": 16962,
    "start_time": "2023-06-20T20:02:16.169Z"
   },
   {
    "duration": 1573,
    "start_time": "2023-06-20T20:02:33.136Z"
   },
   {
    "duration": 1387,
    "start_time": "2023-06-20T20:02:34.710Z"
   },
   {
    "duration": 45,
    "start_time": "2023-06-20T20:02:36.100Z"
   },
   {
    "duration": 199,
    "start_time": "2023-06-20T20:02:36.151Z"
   },
   {
    "duration": 492,
    "start_time": "2023-06-20T20:02:36.352Z"
   },
   {
    "duration": 491,
    "start_time": "2023-06-20T20:02:36.850Z"
   },
   {
    "duration": 107,
    "start_time": "2023-06-20T20:02:37.342Z"
   },
   {
    "duration": 27,
    "start_time": "2023-06-20T20:02:37.450Z"
   },
   {
    "duration": 60,
    "start_time": "2023-06-20T20:02:37.481Z"
   },
   {
    "duration": 538,
    "start_time": "2023-06-20T20:02:37.542Z"
   },
   {
    "duration": 367,
    "start_time": "2023-06-20T20:02:38.082Z"
   },
   {
    "duration": 94,
    "start_time": "2023-06-20T20:02:38.451Z"
   },
   {
    "duration": 29,
    "start_time": "2023-06-20T20:02:38.546Z"
   },
   {
    "duration": 739,
    "start_time": "2023-06-20T20:02:38.577Z"
   },
   {
    "duration": 22,
    "start_time": "2023-06-20T20:02:39.321Z"
   },
   {
    "duration": 26,
    "start_time": "2023-06-20T20:02:39.344Z"
   },
   {
    "duration": 7,
    "start_time": "2023-06-20T20:02:39.372Z"
   },
   {
    "duration": 53,
    "start_time": "2023-06-20T20:02:39.380Z"
   },
   {
    "duration": 7,
    "start_time": "2023-06-20T20:02:39.438Z"
   },
   {
    "duration": 205,
    "start_time": "2023-06-20T20:02:39.447Z"
   },
   {
    "duration": 0,
    "start_time": "2023-06-20T20:02:39.654Z"
   },
   {
    "duration": 0,
    "start_time": "2023-06-20T20:02:39.655Z"
   },
   {
    "duration": 0,
    "start_time": "2023-06-20T20:02:39.656Z"
   },
   {
    "duration": 0,
    "start_time": "2023-06-20T20:02:39.656Z"
   },
   {
    "duration": 0,
    "start_time": "2023-06-20T20:02:39.657Z"
   },
   {
    "duration": 0,
    "start_time": "2023-06-20T20:02:39.658Z"
   },
   {
    "duration": 0,
    "start_time": "2023-06-20T20:02:39.659Z"
   },
   {
    "duration": 0,
    "start_time": "2023-06-20T20:02:39.660Z"
   },
   {
    "duration": 0,
    "start_time": "2023-06-20T20:02:39.661Z"
   },
   {
    "duration": 0,
    "start_time": "2023-06-20T20:02:39.662Z"
   },
   {
    "duration": 0,
    "start_time": "2023-06-20T20:02:39.662Z"
   },
   {
    "duration": 0,
    "start_time": "2023-06-20T20:02:39.663Z"
   },
   {
    "duration": 0,
    "start_time": "2023-06-20T20:02:39.664Z"
   },
   {
    "duration": 0,
    "start_time": "2023-06-20T20:02:39.665Z"
   },
   {
    "duration": 0,
    "start_time": "2023-06-20T20:02:39.666Z"
   },
   {
    "duration": 0,
    "start_time": "2023-06-20T20:02:39.666Z"
   },
   {
    "duration": 0,
    "start_time": "2023-06-20T20:02:39.667Z"
   },
   {
    "duration": 0,
    "start_time": "2023-06-20T20:02:39.668Z"
   },
   {
    "duration": 0,
    "start_time": "2023-06-20T20:02:39.669Z"
   },
   {
    "duration": 0,
    "start_time": "2023-06-20T20:02:39.670Z"
   },
   {
    "duration": 0,
    "start_time": "2023-06-20T20:02:39.671Z"
   },
   {
    "duration": 0,
    "start_time": "2023-06-20T20:02:39.672Z"
   },
   {
    "duration": 0,
    "start_time": "2023-06-20T20:02:39.673Z"
   },
   {
    "duration": 0,
    "start_time": "2023-06-20T20:02:39.673Z"
   },
   {
    "duration": 0,
    "start_time": "2023-06-20T20:02:39.674Z"
   },
   {
    "duration": 0,
    "start_time": "2023-06-20T20:02:39.675Z"
   },
   {
    "duration": 0,
    "start_time": "2023-06-20T20:02:39.676Z"
   },
   {
    "duration": 0,
    "start_time": "2023-06-20T20:02:39.677Z"
   },
   {
    "duration": 0,
    "start_time": "2023-06-20T20:02:39.678Z"
   },
   {
    "duration": 0,
    "start_time": "2023-06-20T20:02:39.678Z"
   },
   {
    "duration": 0,
    "start_time": "2023-06-20T20:02:39.679Z"
   },
   {
    "duration": 0,
    "start_time": "2023-06-20T20:02:39.680Z"
   },
   {
    "duration": 41,
    "start_time": "2023-06-20T20:03:55.618Z"
   },
   {
    "duration": 6,
    "start_time": "2023-06-20T20:04:15.816Z"
   },
   {
    "duration": 24,
    "start_time": "2023-06-20T20:05:24.329Z"
   },
   {
    "duration": 23,
    "start_time": "2023-06-20T20:05:28.244Z"
   },
   {
    "duration": 24,
    "start_time": "2023-06-20T20:05:29.121Z"
   },
   {
    "duration": 35,
    "start_time": "2023-06-20T20:05:29.680Z"
   },
   {
    "duration": 37,
    "start_time": "2023-06-20T20:05:32.431Z"
   },
   {
    "duration": 45,
    "start_time": "2023-06-20T20:05:33.210Z"
   },
   {
    "duration": 50,
    "start_time": "2023-06-20T20:05:33.818Z"
   },
   {
    "duration": 11,
    "start_time": "2023-06-20T20:05:38.543Z"
   },
   {
    "duration": 13,
    "start_time": "2023-06-20T20:05:42.657Z"
   },
   {
    "duration": 23,
    "start_time": "2023-06-20T20:05:43.698Z"
   },
   {
    "duration": 19,
    "start_time": "2023-06-20T20:05:44.437Z"
   },
   {
    "duration": 70,
    "start_time": "2023-06-20T20:05:45.320Z"
   },
   {
    "duration": 234,
    "start_time": "2023-06-20T20:05:47.606Z"
   },
   {
    "duration": 45,
    "start_time": "2023-06-20T20:05:48.230Z"
   },
   {
    "duration": 75,
    "start_time": "2023-06-20T20:05:50.046Z"
   },
   {
    "duration": 29,
    "start_time": "2023-06-20T20:05:50.729Z"
   },
   {
    "duration": 132,
    "start_time": "2023-06-20T20:05:53.138Z"
   },
   {
    "duration": 24,
    "start_time": "2023-06-20T20:05:53.826Z"
   },
   {
    "duration": 16,
    "start_time": "2023-06-20T20:05:54.526Z"
   },
   {
    "duration": 56,
    "start_time": "2023-06-20T20:05:57.526Z"
   },
   {
    "duration": 3,
    "start_time": "2023-06-20T20:06:00.954Z"
   },
   {
    "duration": 5,
    "start_time": "2023-06-20T20:06:01.570Z"
   },
   {
    "duration": 3,
    "start_time": "2023-06-20T20:06:02.392Z"
   },
   {
    "duration": 65907,
    "start_time": "2023-06-20T20:06:05.426Z"
   },
   {
    "duration": 172,
    "start_time": "2023-06-20T20:09:05.799Z"
   },
   {
    "duration": 5,
    "start_time": "2023-06-20T20:09:47.028Z"
   },
   {
    "duration": 3,
    "start_time": "2023-06-20T20:09:55.059Z"
   },
   {
    "duration": 5,
    "start_time": "2023-06-20T20:09:57.525Z"
   },
   {
    "duration": 2,
    "start_time": "2023-06-20T20:10:05.747Z"
   },
   {
    "duration": 67936,
    "start_time": "2023-06-20T20:10:06.797Z"
   },
   {
    "duration": 8,
    "start_time": "2023-06-20T20:16:45.752Z"
   },
   {
    "duration": 162,
    "start_time": "2023-06-20T20:16:46.424Z"
   },
   {
    "duration": 3118,
    "start_time": "2023-06-20T20:16:47.161Z"
   },
   {
    "duration": 44,
    "start_time": "2023-06-20T20:17:23.024Z"
   },
   {
    "duration": 15,
    "start_time": "2023-06-20T20:18:33.945Z"
   },
   {
    "duration": 6,
    "start_time": "2023-06-20T20:18:34.827Z"
   },
   {
    "duration": 286,
    "start_time": "2023-06-20T20:18:35.619Z"
   },
   {
    "duration": 10898,
    "start_time": "2023-06-21T05:15:00.090Z"
   },
   {
    "duration": 1494,
    "start_time": "2023-06-21T05:15:10.991Z"
   },
   {
    "duration": 3225,
    "start_time": "2023-06-21T05:15:12.487Z"
   },
   {
    "duration": 20,
    "start_time": "2023-06-21T05:15:15.731Z"
   },
   {
    "duration": 151,
    "start_time": "2023-06-21T05:15:15.753Z"
   },
   {
    "duration": 538,
    "start_time": "2023-06-21T05:15:15.906Z"
   },
   {
    "duration": 561,
    "start_time": "2023-06-21T05:15:16.447Z"
   },
   {
    "duration": 118,
    "start_time": "2023-06-21T05:15:17.010Z"
   },
   {
    "duration": 49,
    "start_time": "2023-06-21T05:15:17.134Z"
   },
   {
    "duration": 81,
    "start_time": "2023-06-21T05:15:17.187Z"
   },
   {
    "duration": 603,
    "start_time": "2023-06-21T05:15:17.270Z"
   },
   {
    "duration": 366,
    "start_time": "2023-06-21T05:15:17.875Z"
   },
   {
    "duration": 109,
    "start_time": "2023-06-21T05:15:18.243Z"
   },
   {
    "duration": 71,
    "start_time": "2023-06-21T05:15:18.354Z"
   },
   {
    "duration": 768,
    "start_time": "2023-06-21T05:15:18.430Z"
   },
   {
    "duration": 38,
    "start_time": "2023-06-21T05:15:19.200Z"
   },
   {
    "duration": 24,
    "start_time": "2023-06-21T05:15:19.241Z"
   },
   {
    "duration": 7,
    "start_time": "2023-06-21T05:15:19.268Z"
   },
   {
    "duration": 63,
    "start_time": "2023-06-21T05:15:19.277Z"
   },
   {
    "duration": 6,
    "start_time": "2023-06-21T05:15:19.342Z"
   },
   {
    "duration": 24,
    "start_time": "2023-06-21T05:15:19.350Z"
   },
   {
    "duration": 58,
    "start_time": "2023-06-21T05:15:19.376Z"
   },
   {
    "duration": 32,
    "start_time": "2023-06-21T05:15:19.436Z"
   },
   {
    "duration": 27,
    "start_time": "2023-06-21T05:15:19.470Z"
   },
   {
    "duration": 28,
    "start_time": "2023-06-21T05:15:19.513Z"
   },
   {
    "duration": 41,
    "start_time": "2023-06-21T05:15:19.543Z"
   },
   {
    "duration": 68,
    "start_time": "2023-06-21T05:15:19.585Z"
   },
   {
    "duration": 38,
    "start_time": "2023-06-21T05:15:19.662Z"
   },
   {
    "duration": 16,
    "start_time": "2023-06-21T05:15:19.703Z"
   },
   {
    "duration": 18,
    "start_time": "2023-06-21T05:15:19.721Z"
   },
   {
    "duration": 20,
    "start_time": "2023-06-21T05:15:19.741Z"
   },
   {
    "duration": 30,
    "start_time": "2023-06-21T05:15:19.762Z"
   },
   {
    "duration": 204,
    "start_time": "2023-06-21T05:15:19.795Z"
   },
   {
    "duration": 232,
    "start_time": "2023-06-21T05:15:20.001Z"
   },
   {
    "duration": 31,
    "start_time": "2023-06-21T05:15:20.234Z"
   },
   {
    "duration": 80,
    "start_time": "2023-06-21T05:15:20.267Z"
   },
   {
    "duration": 183,
    "start_time": "2023-06-21T05:15:20.349Z"
   },
   {
    "duration": 387,
    "start_time": "2023-06-21T05:15:20.534Z"
   },
   {
    "duration": 47,
    "start_time": "2023-06-21T05:15:20.923Z"
   },
   {
    "duration": 31,
    "start_time": "2023-06-21T05:15:20.972Z"
   },
   {
    "duration": 86,
    "start_time": "2023-06-21T05:15:21.005Z"
   },
   {
    "duration": 23,
    "start_time": "2023-06-21T05:15:21.093Z"
   },
   {
    "duration": 31,
    "start_time": "2023-06-21T05:15:21.117Z"
   },
   {
    "duration": 28,
    "start_time": "2023-06-21T05:15:21.150Z"
   },
   {
    "duration": 41139,
    "start_time": "2023-06-21T05:15:21.180Z"
   },
   {
    "duration": 16,
    "start_time": "2023-06-21T05:16:02.321Z"
   },
   {
    "duration": 273,
    "start_time": "2023-06-21T05:16:02.415Z"
   },
   {
    "duration": 3260,
    "start_time": "2023-06-21T05:16:02.690Z"
   },
   {
    "duration": 9,
    "start_time": "2023-06-21T05:16:05.953Z"
   },
   {
    "duration": 315,
    "start_time": "2023-06-21T05:16:05.964Z"
   },
   {
    "duration": 361,
    "start_time": "2023-06-21T05:16:06.281Z"
   },
   {
    "duration": 2785157,
    "start_time": "2023-06-21T05:16:06.644Z"
   },
   {
    "duration": 19,
    "start_time": "2023-06-21T06:02:31.804Z"
   },
   {
    "duration": 0,
    "start_time": "2023-06-21T06:02:31.829Z"
   },
   {
    "duration": 0,
    "start_time": "2023-06-21T06:02:31.831Z"
   },
   {
    "duration": 7576294,
    "start_time": "2023-06-21T06:02:51.531Z"
   },
   {
    "duration": 138,
    "start_time": "2023-06-21T08:09:07.831Z"
   },
   {
    "duration": 291,
    "start_time": "2023-06-21T09:46:50.258Z"
   },
   {
    "duration": 130,
    "start_time": "2023-06-21T09:47:48.735Z"
   },
   {
    "duration": 187,
    "start_time": "2023-06-21T09:50:02.998Z"
   },
   {
    "duration": 5,
    "start_time": "2023-06-21T09:50:16.416Z"
   },
   {
    "duration": 96,
    "start_time": "2023-06-21T09:50:23.339Z"
   },
   {
    "duration": 136,
    "start_time": "2023-06-21T09:50:39.939Z"
   },
   {
    "duration": 188,
    "start_time": "2023-06-21T09:52:13.570Z"
   },
   {
    "duration": 9,
    "start_time": "2023-06-21T09:52:15.598Z"
   },
   {
    "duration": 50,
    "start_time": "2023-06-21T11:07:21.735Z"
   }
  ],
  "kernelspec": {
   "display_name": "Python 3 (ipykernel)",
   "language": "python",
   "name": "python3"
  },
  "language_info": {
   "codemirror_mode": {
    "name": "ipython",
    "version": 3
   },
   "file_extension": ".py",
   "mimetype": "text/x-python",
   "name": "python",
   "nbconvert_exporter": "python",
   "pygments_lexer": "ipython3",
   "version": "3.9.5"
  },
  "toc": {
   "base_numbering": 1,
   "nav_menu": {},
   "number_sections": true,
   "sideBar": true,
   "skip_h1_title": true,
   "title_cell": "Table of Contents",
   "title_sidebar": "Contents",
   "toc_cell": false,
   "toc_position": {},
   "toc_section_display": true,
   "toc_window_display": false
  }
 },
 "nbformat": 4,
 "nbformat_minor": 2
}
