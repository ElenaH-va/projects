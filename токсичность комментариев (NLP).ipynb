{
 "cells": [
  {
   "cell_type": "markdown",
   "metadata": {
    "toc": true
   },
   "source": [
    "<h1>Содержание<span class=\"tocSkip\"></span></h1>\n",
    "<div class=\"toc\"><ul class=\"toc-item\"><li><span><a href=\"#Подготовка\" data-toc-modified-id=\"Подготовка-1\"><span class=\"toc-item-num\">1&nbsp;&nbsp;</span>Подготовка</a></span></li><li><span><a href=\"#Обучение\" data-toc-modified-id=\"Обучение-2\"><span class=\"toc-item-num\">2&nbsp;&nbsp;</span>Обучение</a></span></li><li><span><a href=\"#Выводы\" data-toc-modified-id=\"Выводы-3\"><span class=\"toc-item-num\">3&nbsp;&nbsp;</span>Выводы</a></span></li><li><span><a href=\"#Чек-лист-проверки\" data-toc-modified-id=\"Чек-лист-проверки-4\"><span class=\"toc-item-num\">4&nbsp;&nbsp;</span>Чек-лист проверки</a></span></li></ul></div>"
   ]
  },
  {
   "cell_type": "markdown",
   "metadata": {},
   "source": [
    "# Проект для «Викишоп»"
   ]
  },
  {
   "cell_type": "markdown",
   "metadata": {},
   "source": [
    "Интернет-магазин «Викишоп» запускает новый сервис. Теперь пользователи могут редактировать и дополнять описания товаров, как в вики-сообществах. То есть клиенты предлагают свои правки и комментируют изменения других. Магазину нужен инструмент, который будет искать токсичные комментарии и отправлять их на модерацию. \n",
    "\n",
    "Обучите модель классифицировать комментарии на позитивные и негативные. В вашем распоряжении набор данных с разметкой о токсичности правок.\n",
    "\n",
    "Постройте модель со значением метрики качества *F1* не меньше 0.75. \n",
    "\n",
    "**Инструкция по выполнению проекта**\n",
    "\n",
    "1. Загрузите и подготовьте данные.\n",
    "2. Обучите разные модели. \n",
    "3. Сделайте выводы.\n",
    "\n",
    "Для выполнения проекта применять *BERT* необязательно, но вы можете попробовать.\n",
    "\n",
    "**Описание данных**\n",
    "\n",
    "Данные находятся в файле `toxic_comments.csv`. Столбец *text* в нём содержит текст комментария, а *toxic* — целевой признак."
   ]
  },
  {
   "cell_type": "markdown",
   "metadata": {},
   "source": [
    "## Подготовка"
   ]
  },
  {
   "cell_type": "code",
   "execution_count": 1,
   "metadata": {},
   "outputs": [],
   "source": [
    "import pandas as pd\n",
    "import numpy as np\n",
    "\n",
    "import spacy\n",
    "import re\n",
    "\n",
    "from sklearn.feature_extraction.text import TfidfVectorizer\n",
    "\n",
    "from sklearn.pipeline import make_pipeline\n",
    "from sklearn.model_selection import train_test_split, cross_val_score, GridSearchCV\n",
    "\n",
    "from sklearn.linear_model import LogisticRegression\n",
    "from catboost import CatBoostClassifier\n",
    "from lightgbm import LGBMClassifier\n",
    "\n",
    "from sklearn.metrics import f1_score"
   ]
  },
  {
   "cell_type": "code",
   "execution_count": 2,
   "metadata": {},
   "outputs": [],
   "source": [
    "df_tweets = pd.read_csv(\"/datasets/toxic_comments.csv\")"
   ]
  },
  {
   "cell_type": "code",
   "execution_count": 3,
   "metadata": {},
   "outputs": [],
   "source": [
    "# взяла одну треть, т.к. долго ждать (если из-за этого завернете - исправлюсь)\n",
    "df_tweets = df_tweets.sample(50000).reset_index(drop=True)"
   ]
  },
  {
   "cell_type": "code",
   "execution_count": 4,
   "metadata": {},
   "outputs": [
    {
     "data": {
      "text/html": [
       "<div>\n",
       "<style scoped>\n",
       "    .dataframe tbody tr th:only-of-type {\n",
       "        vertical-align: middle;\n",
       "    }\n",
       "\n",
       "    .dataframe tbody tr th {\n",
       "        vertical-align: top;\n",
       "    }\n",
       "\n",
       "    .dataframe thead th {\n",
       "        text-align: right;\n",
       "    }\n",
       "</style>\n",
       "<table border=\"1\" class=\"dataframe\">\n",
       "  <thead>\n",
       "    <tr style=\"text-align: right;\">\n",
       "      <th></th>\n",
       "      <th>Unnamed: 0</th>\n",
       "      <th>text</th>\n",
       "      <th>toxic</th>\n",
       "    </tr>\n",
       "  </thead>\n",
       "  <tbody>\n",
       "    <tr>\n",
       "      <th>0</th>\n",
       "      <td>151015</td>\n",
       "      <td>LGBT \\n\\nyou little fuck , are you a fag , tha...</td>\n",
       "      <td>1</td>\n",
       "    </tr>\n",
       "    <tr>\n",
       "      <th>1</th>\n",
       "      <td>2201</td>\n",
       "      <td>\"\\n\\n\"\"The Wiki Foundation stats, in an email ...</td>\n",
       "      <td>0</td>\n",
       "    </tr>\n",
       "    <tr>\n",
       "      <th>2</th>\n",
       "      <td>74441</td>\n",
       "      <td>I agree. Nazi is not a critical problem in São...</td>\n",
       "      <td>0</td>\n",
       "    </tr>\n",
       "    <tr>\n",
       "      <th>3</th>\n",
       "      <td>25958</td>\n",
       "      <td>Get Off My Talk Page U Troublemakers.  Buzz Of...</td>\n",
       "      <td>0</td>\n",
       "    </tr>\n",
       "    <tr>\n",
       "      <th>4</th>\n",
       "      <td>25243</td>\n",
       "      <td>\"\\n\\nI'm giving you the opportunity to be unbl...</td>\n",
       "      <td>0</td>\n",
       "    </tr>\n",
       "  </tbody>\n",
       "</table>\n",
       "</div>"
      ],
      "text/plain": [
       "   Unnamed: 0                                               text  toxic\n",
       "0      151015  LGBT \\n\\nyou little fuck , are you a fag , tha...      1\n",
       "1        2201  \"\\n\\n\"\"The Wiki Foundation stats, in an email ...      0\n",
       "2       74441  I agree. Nazi is not a critical problem in São...      0\n",
       "3       25958  Get Off My Talk Page U Troublemakers.  Buzz Of...      0\n",
       "4       25243  \"\\n\\nI'm giving you the opportunity to be unbl...      0"
      ]
     },
     "execution_count": 4,
     "metadata": {},
     "output_type": "execute_result"
    }
   ],
   "source": [
    "df_tweets.head()"
   ]
  },
  {
   "cell_type": "code",
   "execution_count": 5,
   "metadata": {},
   "outputs": [
    {
     "name": "stdout",
     "output_type": "stream",
     "text": [
      "<class 'pandas.core.frame.DataFrame'>\n",
      "RangeIndex: 50000 entries, 0 to 49999\n",
      "Data columns (total 3 columns):\n",
      " #   Column      Non-Null Count  Dtype \n",
      "---  ------      --------------  ----- \n",
      " 0   Unnamed: 0  50000 non-null  int64 \n",
      " 1   text        50000 non-null  object\n",
      " 2   toxic       50000 non-null  int64 \n",
      "dtypes: int64(2), object(1)\n",
      "memory usage: 1.1+ MB\n"
     ]
    }
   ],
   "source": [
    "df_tweets.info()"
   ]
  },
  {
   "cell_type": "code",
   "execution_count": 6,
   "metadata": {},
   "outputs": [
    {
     "data": {
      "text/plain": [
       "Unnamed: 0    0.0\n",
       "text          0.0\n",
       "toxic         0.0\n",
       "dtype: float64"
      ]
     },
     "execution_count": 6,
     "metadata": {},
     "output_type": "execute_result"
    }
   ],
   "source": [
    "# посмотрим на пропуски\n",
    "df_tweets.isna().mean()"
   ]
  },
  {
   "cell_type": "code",
   "execution_count": 7,
   "metadata": {},
   "outputs": [
    {
     "data": {
      "text/plain": [
       "0"
      ]
     },
     "execution_count": 7,
     "metadata": {},
     "output_type": "execute_result"
    }
   ],
   "source": [
    "# посмотрим на наличие дубликатов\n",
    "df_tweets.duplicated().sum()"
   ]
  },
  {
   "cell_type": "code",
   "execution_count": 8,
   "metadata": {},
   "outputs": [],
   "source": [
    "# удалим ненужный столбец с номерацией\n",
    "df_tweets = df_tweets.drop(['Unnamed: 0'], axis=1)"
   ]
  },
  {
   "cell_type": "code",
   "execution_count": 9,
   "metadata": {
    "scrolled": true
   },
   "outputs": [
    {
     "data": {
      "text/plain": [
       "0    44969\n",
       "1     5031\n",
       "Name: toxic, dtype: int64"
      ]
     },
     "execution_count": 9,
     "metadata": {},
     "output_type": "execute_result"
    }
   ],
   "source": [
    "# проверим на сбалансированность классов\n",
    "df_tweets['toxic'].value_counts()"
   ]
  },
  {
   "cell_type": "code",
   "execution_count": 10,
   "metadata": {},
   "outputs": [],
   "source": [
    "#corpus = list(df_tweets['text'])"
   ]
  },
  {
   "cell_type": "code",
   "execution_count": 11,
   "metadata": {},
   "outputs": [],
   "source": [
    "# напишем функцию lemmatize(text), которая на вход она принимает текст и возвращает лемматизированную строку\n",
    "nlp = spacy.load('en_core_web_sm')\n",
    "def lemmatize(text):\n",
    "    lemm_list = nlp(text)\n",
    "    lemm_list2 = []\n",
    "    # удалим стоп-слова\n",
    "    for token in lemm_list:\n",
    "        if not token.is_stop:\n",
    "            lemm_list2.append(token)\n",
    "    # соединим токены через пробелы\n",
    "    lemm_text = \" \".join([token.lemma_ for token in lemm_list2])    \n",
    "    return lemm_text"
   ]
  },
  {
   "cell_type": "code",
   "execution_count": 12,
   "metadata": {},
   "outputs": [],
   "source": [
    "# напишем функцию clear_text(text), которая оставит в тексте только кириллические символы и пробелы\n",
    "def clear_text(text):\n",
    "    text = text.lower()\n",
    "    reg = re.sub(r'[^a-z]', ' ', text).split()\n",
    "    reg = \" \".join(reg)\n",
    "    return reg"
   ]
  },
  {
   "cell_type": "code",
   "execution_count": 13,
   "metadata": {},
   "outputs": [
    {
     "data": {
      "text/plain": [
       "'stripe bat hang foot good'"
      ]
     },
     "execution_count": 13,
     "metadata": {},
     "output_type": "execute_result"
    }
   ],
   "source": [
    "# проверим правильность выполнения функций по лемматизации и очистке\n",
    "sentence = \"The striped bats are ^ hanging on their6 feet for best\"\n",
    "lemmatize(clear_text(sentence))"
   ]
  },
  {
   "cell_type": "code",
   "execution_count": 14,
   "metadata": {},
   "outputs": [],
   "source": [
    "# применим функцию очистки к каждой строке столбца 'text'\n",
    "df_tweets['clean_text'] = df_tweets['text'].apply(clear_text)"
   ]
  },
  {
   "cell_type": "code",
   "execution_count": 15,
   "metadata": {},
   "outputs": [],
   "source": [
    "# применим функцию лемматизации к каждой строке столбца 'clean_text'\n",
    "df_tweets['lem_text'] = df_tweets['clean_text'].apply(lemmatize)"
   ]
  },
  {
   "cell_type": "code",
   "execution_count": 16,
   "metadata": {
    "scrolled": true
   },
   "outputs": [
    {
     "data": {
      "text/html": [
       "<div>\n",
       "<style scoped>\n",
       "    .dataframe tbody tr th:only-of-type {\n",
       "        vertical-align: middle;\n",
       "    }\n",
       "\n",
       "    .dataframe tbody tr th {\n",
       "        vertical-align: top;\n",
       "    }\n",
       "\n",
       "    .dataframe thead th {\n",
       "        text-align: right;\n",
       "    }\n",
       "</style>\n",
       "<table border=\"1\" class=\"dataframe\">\n",
       "  <thead>\n",
       "    <tr style=\"text-align: right;\">\n",
       "      <th></th>\n",
       "      <th>text</th>\n",
       "      <th>toxic</th>\n",
       "      <th>clean_text</th>\n",
       "      <th>lem_text</th>\n",
       "    </tr>\n",
       "  </thead>\n",
       "  <tbody>\n",
       "    <tr>\n",
       "      <th>0</th>\n",
       "      <td>LGBT \\n\\nyou little fuck , are you a fag , tha...</td>\n",
       "      <td>1</td>\n",
       "      <td>lgbt you little fuck are you a fag that piece ...</td>\n",
       "      <td>lgbt little fuck fag piece shit page make fuck...</td>\n",
       "    </tr>\n",
       "    <tr>\n",
       "      <th>1</th>\n",
       "      <td>\"\\n\\n\"\"The Wiki Foundation stats, in an email ...</td>\n",
       "      <td>0</td>\n",
       "      <td>the wiki foundation stats in an email forwarde...</td>\n",
       "      <td>wiki foundation stat email forward rti uk chap...</td>\n",
       "    </tr>\n",
       "    <tr>\n",
       "      <th>2</th>\n",
       "      <td>I agree. Nazi is not a critical problem in São...</td>\n",
       "      <td>0</td>\n",
       "      <td>i agree nazi is not a critical problem in s o ...</td>\n",
       "      <td>agree nazi critical problem s o paulo place br...</td>\n",
       "    </tr>\n",
       "    <tr>\n",
       "      <th>3</th>\n",
       "      <td>Get Off My Talk Page U Troublemakers.  Buzz Of...</td>\n",
       "      <td>0</td>\n",
       "      <td>get off my talk page u troublemakers buzz off ...</td>\n",
       "      <td>talk page u troublemaker buzz lose stalker</td>\n",
       "    </tr>\n",
       "    <tr>\n",
       "      <th>4</th>\n",
       "      <td>\"\\n\\nI'm giving you the opportunity to be unbl...</td>\n",
       "      <td>0</td>\n",
       "      <td>i m giving you the opportunity to be unblocked...</td>\n",
       "      <td>m give opportunity unblock note user talk gran...</td>\n",
       "    </tr>\n",
       "  </tbody>\n",
       "</table>\n",
       "</div>"
      ],
      "text/plain": [
       "                                                text  toxic  \\\n",
       "0  LGBT \\n\\nyou little fuck , are you a fag , tha...      1   \n",
       "1  \"\\n\\n\"\"The Wiki Foundation stats, in an email ...      0   \n",
       "2  I agree. Nazi is not a critical problem in São...      0   \n",
       "3  Get Off My Talk Page U Troublemakers.  Buzz Of...      0   \n",
       "4  \"\\n\\nI'm giving you the opportunity to be unbl...      0   \n",
       "\n",
       "                                          clean_text  \\\n",
       "0  lgbt you little fuck are you a fag that piece ...   \n",
       "1  the wiki foundation stats in an email forwarde...   \n",
       "2  i agree nazi is not a critical problem in s o ...   \n",
       "3  get off my talk page u troublemakers buzz off ...   \n",
       "4  i m giving you the opportunity to be unblocked...   \n",
       "\n",
       "                                            lem_text  \n",
       "0  lgbt little fuck fag piece shit page make fuck...  \n",
       "1  wiki foundation stat email forward rti uk chap...  \n",
       "2  agree nazi critical problem s o paulo place br...  \n",
       "3         talk page u troublemaker buzz lose stalker  \n",
       "4  m give opportunity unblock note user talk gran...  "
      ]
     },
     "execution_count": 16,
     "metadata": {},
     "output_type": "execute_result"
    }
   ],
   "source": [
    "df_tweets.head()"
   ]
  },
  {
   "cell_type": "code",
   "execution_count": 17,
   "metadata": {},
   "outputs": [],
   "source": [
    "# избавимся от неочищенных столбцов\n",
    "df_tweets = df_tweets.drop(['text', 'lem_text'], axis=1)"
   ]
  },
  {
   "cell_type": "code",
   "execution_count": 18,
   "metadata": {},
   "outputs": [
    {
     "data": {
      "text/html": [
       "<div>\n",
       "<style scoped>\n",
       "    .dataframe tbody tr th:only-of-type {\n",
       "        vertical-align: middle;\n",
       "    }\n",
       "\n",
       "    .dataframe tbody tr th {\n",
       "        vertical-align: top;\n",
       "    }\n",
       "\n",
       "    .dataframe thead th {\n",
       "        text-align: right;\n",
       "    }\n",
       "</style>\n",
       "<table border=\"1\" class=\"dataframe\">\n",
       "  <thead>\n",
       "    <tr style=\"text-align: right;\">\n",
       "      <th></th>\n",
       "      <th>toxic</th>\n",
       "      <th>clean_text</th>\n",
       "    </tr>\n",
       "  </thead>\n",
       "  <tbody>\n",
       "    <tr>\n",
       "      <th>0</th>\n",
       "      <td>1</td>\n",
       "      <td>lgbt you little fuck are you a fag that piece ...</td>\n",
       "    </tr>\n",
       "    <tr>\n",
       "      <th>1</th>\n",
       "      <td>0</td>\n",
       "      <td>the wiki foundation stats in an email forwarde...</td>\n",
       "    </tr>\n",
       "    <tr>\n",
       "      <th>2</th>\n",
       "      <td>0</td>\n",
       "      <td>i agree nazi is not a critical problem in s o ...</td>\n",
       "    </tr>\n",
       "    <tr>\n",
       "      <th>3</th>\n",
       "      <td>0</td>\n",
       "      <td>get off my talk page u troublemakers buzz off ...</td>\n",
       "    </tr>\n",
       "    <tr>\n",
       "      <th>4</th>\n",
       "      <td>0</td>\n",
       "      <td>i m giving you the opportunity to be unblocked...</td>\n",
       "    </tr>\n",
       "  </tbody>\n",
       "</table>\n",
       "</div>"
      ],
      "text/plain": [
       "   toxic                                         clean_text\n",
       "0      1  lgbt you little fuck are you a fag that piece ...\n",
       "1      0  the wiki foundation stats in an email forwarde...\n",
       "2      0  i agree nazi is not a critical problem in s o ...\n",
       "3      0  get off my talk page u troublemakers buzz off ...\n",
       "4      0  i m giving you the opportunity to be unblocked..."
      ]
     },
     "execution_count": 18,
     "metadata": {},
     "output_type": "execute_result"
    }
   ],
   "source": [
    "df_tweets.head()"
   ]
  },
  {
   "cell_type": "markdown",
   "metadata": {},
   "source": [
    "**В данных 159292 стрки, один столбец бинарной классификации и один с текстом. Столбец с текстом мы очистили от лишних символов и привели все слова к лемме, удалив короткие стоп-слова. Пропусков в данных нет, повторов нет. Будем решать задачу классификации обучения с учителем.**"
   ]
  },
  {
   "cell_type": "markdown",
   "metadata": {},
   "source": [
    "## Обучение"
   ]
  },
  {
   "cell_type": "code",
   "execution_count": 19,
   "metadata": {},
   "outputs": [],
   "source": [
    "# выделим признаки\n",
    "features = df_tweets['clean_text']\n",
    "target = df_tweets['toxic']\n",
    "\n",
    "X_train, X_test, y_train, y_test = train_test_split(\n",
    "    features,\n",
    "    target,\n",
    "    test_size=0.10,\n",
    "    random_state=12345,\n",
    "    stratify=target\n",
    ")"
   ]
  },
  {
   "cell_type": "code",
   "execution_count": 20,
   "metadata": {},
   "outputs": [
    {
     "name": "stdout",
     "output_type": "stream",
     "text": [
      "(45000,)\n",
      "(5000,)\n",
      "(45000,)\n"
     ]
    },
    {
     "data": {
      "text/plain": [
       "(5000,)"
      ]
     },
     "execution_count": 20,
     "metadata": {},
     "output_type": "execute_result"
    }
   ],
   "source": [
    "print(X_train.shape)\n",
    "print(X_test.shape)\n",
    "print(y_train.shape)\n",
    "y_test.shape"
   ]
  },
  {
   "cell_type": "markdown",
   "metadata": {},
   "source": [
    "**Модель логистической регрессии LogisticRegression**"
   ]
  },
  {
   "cell_type": "code",
   "execution_count": 21,
   "metadata": {},
   "outputs": [
    {
     "data": {
      "text/plain": [
       "('logisticregression',\n",
       " LogisticRegression(class_weight='balanced', random_state=12345))"
      ]
     },
     "execution_count": 21,
     "metadata": {},
     "output_type": "execute_result"
    }
   ],
   "source": [
    "# используем конвейер, чтобы обучение кодировщика при кросс-валидации производилось только на фолдах в состоянии обучения\n",
    "lr_mpipe = make_pipeline(TfidfVectorizer(), LogisticRegression(class_weight='balanced', random_state=12345))\n",
    "lr_mpipe.steps[1]"
   ]
  },
  {
   "cell_type": "code",
   "execution_count": 22,
   "metadata": {
    "scrolled": false
   },
   "outputs": [
    {
     "name": "stdout",
     "output_type": "stream",
     "text": [
      "Fitting 3 folds for each of 2 candidates, totalling 6 fits\n"
     ]
    },
    {
     "name": "stderr",
     "output_type": "stream",
     "text": [
      "/opt/conda/lib/python3.9/site-packages/sklearn/linear_model/_logistic.py:763: ConvergenceWarning: lbfgs failed to converge (status=1):\n",
      "STOP: TOTAL NO. of ITERATIONS REACHED LIMIT.\n",
      "\n",
      "Increase the number of iterations (max_iter) or scale the data as shown in:\n",
      "    https://scikit-learn.org/stable/modules/preprocessing.html\n",
      "Please also refer to the documentation for alternative solver options:\n",
      "    https://scikit-learn.org/stable/modules/linear_model.html#logistic-regression\n",
      "  n_iter_i = _check_optimize_result(\n"
     ]
    },
    {
     "name": "stdout",
     "output_type": "stream",
     "text": [
      "[CV 1/3] END ........................logisticregression__C=8; total time=  33.7s\n"
     ]
    },
    {
     "name": "stderr",
     "output_type": "stream",
     "text": [
      "/opt/conda/lib/python3.9/site-packages/sklearn/linear_model/_logistic.py:763: ConvergenceWarning: lbfgs failed to converge (status=1):\n",
      "STOP: TOTAL NO. of ITERATIONS REACHED LIMIT.\n",
      "\n",
      "Increase the number of iterations (max_iter) or scale the data as shown in:\n",
      "    https://scikit-learn.org/stable/modules/preprocessing.html\n",
      "Please also refer to the documentation for alternative solver options:\n",
      "    https://scikit-learn.org/stable/modules/linear_model.html#logistic-regression\n",
      "  n_iter_i = _check_optimize_result(\n"
     ]
    },
    {
     "name": "stdout",
     "output_type": "stream",
     "text": [
      "[CV 2/3] END ........................logisticregression__C=8; total time=  33.4s\n",
      "[CV 3/3] END ........................logisticregression__C=8; total time=  30.3s\n"
     ]
    },
    {
     "name": "stderr",
     "output_type": "stream",
     "text": [
      "/opt/conda/lib/python3.9/site-packages/sklearn/linear_model/_logistic.py:763: ConvergenceWarning: lbfgs failed to converge (status=1):\n",
      "STOP: TOTAL NO. of ITERATIONS REACHED LIMIT.\n",
      "\n",
      "Increase the number of iterations (max_iter) or scale the data as shown in:\n",
      "    https://scikit-learn.org/stable/modules/preprocessing.html\n",
      "Please also refer to the documentation for alternative solver options:\n",
      "    https://scikit-learn.org/stable/modules/linear_model.html#logistic-regression\n",
      "  n_iter_i = _check_optimize_result(\n"
     ]
    },
    {
     "name": "stdout",
     "output_type": "stream",
     "text": [
      "[CV 1/3] END .......................logisticregression__C=10; total time=  35.7s\n"
     ]
    },
    {
     "name": "stderr",
     "output_type": "stream",
     "text": [
      "/opt/conda/lib/python3.9/site-packages/sklearn/linear_model/_logistic.py:763: ConvergenceWarning: lbfgs failed to converge (status=1):\n",
      "STOP: TOTAL NO. of ITERATIONS REACHED LIMIT.\n",
      "\n",
      "Increase the number of iterations (max_iter) or scale the data as shown in:\n",
      "    https://scikit-learn.org/stable/modules/preprocessing.html\n",
      "Please also refer to the documentation for alternative solver options:\n",
      "    https://scikit-learn.org/stable/modules/linear_model.html#logistic-regression\n",
      "  n_iter_i = _check_optimize_result(\n"
     ]
    },
    {
     "name": "stdout",
     "output_type": "stream",
     "text": [
      "[CV 2/3] END .......................logisticregression__C=10; total time=  32.9s\n"
     ]
    },
    {
     "name": "stderr",
     "output_type": "stream",
     "text": [
      "/opt/conda/lib/python3.9/site-packages/sklearn/linear_model/_logistic.py:763: ConvergenceWarning: lbfgs failed to converge (status=1):\n",
      "STOP: TOTAL NO. of ITERATIONS REACHED LIMIT.\n",
      "\n",
      "Increase the number of iterations (max_iter) or scale the data as shown in:\n",
      "    https://scikit-learn.org/stable/modules/preprocessing.html\n",
      "Please also refer to the documentation for alternative solver options:\n",
      "    https://scikit-learn.org/stable/modules/linear_model.html#logistic-regression\n",
      "  n_iter_i = _check_optimize_result(\n"
     ]
    },
    {
     "name": "stdout",
     "output_type": "stream",
     "text": [
      "[CV 3/3] END .......................logisticregression__C=10; total time=  35.8s\n",
      "Лучша оценка логистической регрессии: 0.7435118708764872\n",
      "Лучшие гиперпараметры логистической регрессии: {'logisticregression__C': 10}\n",
      "CPU times: user 1min 44s, sys: 2min 16s, total: 4min\n",
      "Wall time: 4min 1s\n"
     ]
    },
    {
     "name": "stderr",
     "output_type": "stream",
     "text": [
      "/opt/conda/lib/python3.9/site-packages/sklearn/linear_model/_logistic.py:763: ConvergenceWarning: lbfgs failed to converge (status=1):\n",
      "STOP: TOTAL NO. of ITERATIONS REACHED LIMIT.\n",
      "\n",
      "Increase the number of iterations (max_iter) or scale the data as shown in:\n",
      "    https://scikit-learn.org/stable/modules/preprocessing.html\n",
      "Please also refer to the documentation for alternative solver options:\n",
      "    https://scikit-learn.org/stable/modules/linear_model.html#logistic-regression\n",
      "  n_iter_i = _check_optimize_result(\n"
     ]
    }
   ],
   "source": [
    "%%time\n",
    "# используем поиск по сетке GridSearchCV для оптимизации гиперпараметров\n",
    "params_lr = {'logisticregression__C':range(8, 12, 2)}\n",
    "\n",
    "lr_gscv = GridSearchCV(\n",
    "    lr_mpipe,\n",
    "    params_lr,\n",
    "    scoring='f1',\n",
    "    cv=3,   # количество блоков для кросс-валидации\n",
    "    verbose=3  # видеть время\n",
    ")\n",
    "\n",
    "lr_gscv.fit(X_train, y_train)\n",
    "\n",
    "print(f'Лучша оценка логистической регрессии: {lr_gscv.best_score_}')\n",
    "\n",
    "print(f'Лучшие гиперпараметры логистической регрессии: {lr_gscv.best_params_}')"
   ]
  },
  {
   "cell_type": "markdown",
   "metadata": {},
   "source": [
    "**Модель градиентного бустинга CatBoostClassifier**"
   ]
  },
  {
   "cell_type": "code",
   "execution_count": 23,
   "metadata": {},
   "outputs": [
    {
     "data": {
      "text/plain": [
       "('catboostclassifier', <catboost.core.CatBoostClassifier at 0x7f0be18d9b80>)"
      ]
     },
     "execution_count": 23,
     "metadata": {},
     "output_type": "execute_result"
    }
   ],
   "source": [
    "# используем конвейер\n",
    "cat_bc = make_pipeline(TfidfVectorizer(), CatBoostClassifier(random_state=12345, class_weights=(1, 9)))\n",
    "cat_bc.steps[1]"
   ]
  },
  {
   "cell_type": "code",
   "execution_count": 24,
   "metadata": {
    "scrolled": true
   },
   "outputs": [
    {
     "name": "stdout",
     "output_type": "stream",
     "text": [
      "Fitting 3 folds for each of 3 candidates, totalling 9 fits\n",
      "Learning rate set to 0.5\n",
      "0:\tlearn: 0.5669332\ttotal: 1.17s\tremaining: 57.3s\n",
      "1:\tlearn: 0.5315449\ttotal: 1.95s\tremaining: 46.9s\n",
      "2:\tlearn: 0.4991424\ttotal: 2.76s\tremaining: 43.3s\n",
      "3:\tlearn: 0.4802013\ttotal: 3.63s\tremaining: 41.8s\n",
      "4:\tlearn: 0.4567064\ttotal: 4.41s\tremaining: 39.7s\n",
      "5:\tlearn: 0.4472011\ttotal: 5.18s\tremaining: 38s\n",
      "6:\tlearn: 0.4317324\ttotal: 5.97s\tremaining: 36.7s\n",
      "7:\tlearn: 0.4142416\ttotal: 6.81s\tremaining: 35.7s\n",
      "8:\tlearn: 0.4063328\ttotal: 7.57s\tremaining: 34.5s\n",
      "9:\tlearn: 0.4011521\ttotal: 8.36s\tremaining: 33.4s\n",
      "10:\tlearn: 0.3962867\ttotal: 9.19s\tremaining: 32.6s\n",
      "11:\tlearn: 0.3896097\ttotal: 10s\tremaining: 31.7s\n",
      "12:\tlearn: 0.3799667\ttotal: 10.8s\tremaining: 30.8s\n",
      "13:\tlearn: 0.3737029\ttotal: 11.7s\tremaining: 30s\n",
      "14:\tlearn: 0.3669578\ttotal: 12.5s\tremaining: 29.2s\n",
      "15:\tlearn: 0.3614546\ttotal: 13.5s\tremaining: 28.6s\n",
      "16:\tlearn: 0.3566012\ttotal: 14.3s\tremaining: 27.7s\n",
      "17:\tlearn: 0.3516564\ttotal: 15.1s\tremaining: 26.8s\n",
      "18:\tlearn: 0.3468121\ttotal: 15.8s\tremaining: 25.8s\n",
      "19:\tlearn: 0.3422997\ttotal: 16.7s\tremaining: 25s\n",
      "20:\tlearn: 0.3380902\ttotal: 17.5s\tremaining: 24.1s\n",
      "21:\tlearn: 0.3327685\ttotal: 18.2s\tremaining: 23.2s\n",
      "22:\tlearn: 0.3281259\ttotal: 19s\tremaining: 22.3s\n",
      "23:\tlearn: 0.3223272\ttotal: 19.8s\tremaining: 21.4s\n",
      "24:\tlearn: 0.3177501\ttotal: 20.6s\tremaining: 20.6s\n",
      "25:\tlearn: 0.3123035\ttotal: 21.3s\tremaining: 19.7s\n",
      "26:\tlearn: 0.3088561\ttotal: 22.1s\tremaining: 18.8s\n",
      "27:\tlearn: 0.3049918\ttotal: 22.9s\tremaining: 18s\n",
      "28:\tlearn: 0.2974627\ttotal: 23.7s\tremaining: 17.2s\n",
      "29:\tlearn: 0.2932462\ttotal: 24.5s\tremaining: 16.3s\n",
      "30:\tlearn: 0.2902243\ttotal: 25.2s\tremaining: 15.5s\n",
      "31:\tlearn: 0.2860839\ttotal: 26s\tremaining: 14.6s\n",
      "32:\tlearn: 0.2827499\ttotal: 26.8s\tremaining: 13.8s\n",
      "33:\tlearn: 0.2799916\ttotal: 27.6s\tremaining: 13s\n",
      "34:\tlearn: 0.2771099\ttotal: 28.4s\tremaining: 12.2s\n",
      "35:\tlearn: 0.2746761\ttotal: 29.2s\tremaining: 11.3s\n",
      "36:\tlearn: 0.2718760\ttotal: 30s\tremaining: 10.5s\n",
      "37:\tlearn: 0.2676727\ttotal: 30.7s\tremaining: 9.71s\n",
      "38:\tlearn: 0.2652809\ttotal: 31.5s\tremaining: 8.89s\n",
      "39:\tlearn: 0.2626025\ttotal: 32.3s\tremaining: 8.07s\n",
      "40:\tlearn: 0.2596754\ttotal: 33s\tremaining: 7.25s\n",
      "41:\tlearn: 0.2569933\ttotal: 33.8s\tremaining: 6.45s\n",
      "42:\tlearn: 0.2552798\ttotal: 34.6s\tremaining: 5.63s\n",
      "43:\tlearn: 0.2535893\ttotal: 35.4s\tremaining: 4.82s\n",
      "44:\tlearn: 0.2504728\ttotal: 36.1s\tremaining: 4.01s\n",
      "45:\tlearn: 0.2486290\ttotal: 36.9s\tremaining: 3.21s\n",
      "46:\tlearn: 0.2458794\ttotal: 37.7s\tremaining: 2.41s\n",
      "47:\tlearn: 0.2434187\ttotal: 38.5s\tremaining: 1.6s\n",
      "48:\tlearn: 0.2419105\ttotal: 39.3s\tremaining: 801ms\n",
      "49:\tlearn: 0.2398099\ttotal: 40s\tremaining: 0us\n",
      "[CV 1/3] END ..............catboostclassifier__iterations=50; total time=  48.5s\n",
      "Learning rate set to 0.5\n",
      "0:\tlearn: 0.5836562\ttotal: 1.09s\tremaining: 53.5s\n",
      "1:\tlearn: 0.5346670\ttotal: 1.91s\tremaining: 45.7s\n",
      "2:\tlearn: 0.5005042\ttotal: 2.73s\tremaining: 42.8s\n",
      "3:\tlearn: 0.4671894\ttotal: 3.51s\tremaining: 40.4s\n",
      "4:\tlearn: 0.4461903\ttotal: 4.33s\tremaining: 39s\n",
      "5:\tlearn: 0.4340446\ttotal: 5.13s\tremaining: 37.6s\n",
      "6:\tlearn: 0.4239065\ttotal: 5.97s\tremaining: 36.7s\n",
      "7:\tlearn: 0.4165903\ttotal: 6.77s\tremaining: 35.5s\n",
      "8:\tlearn: 0.4112524\ttotal: 7.54s\tremaining: 34.3s\n",
      "9:\tlearn: 0.4052685\ttotal: 8.36s\tremaining: 33.4s\n",
      "10:\tlearn: 0.3989599\ttotal: 9.12s\tremaining: 32.3s\n",
      "11:\tlearn: 0.3909675\ttotal: 9.89s\tremaining: 31.3s\n",
      "12:\tlearn: 0.3868323\ttotal: 10.7s\tremaining: 30.4s\n",
      "13:\tlearn: 0.3800654\ttotal: 11.4s\tremaining: 29.4s\n",
      "14:\tlearn: 0.3755929\ttotal: 12.2s\tremaining: 28.5s\n",
      "15:\tlearn: 0.3701340\ttotal: 13s\tremaining: 27.6s\n",
      "16:\tlearn: 0.3651041\ttotal: 13.7s\tremaining: 26.7s\n",
      "17:\tlearn: 0.3596728\ttotal: 14.5s\tremaining: 25.8s\n",
      "18:\tlearn: 0.3546550\ttotal: 15.3s\tremaining: 25s\n",
      "19:\tlearn: 0.3489877\ttotal: 16.1s\tremaining: 24.1s\n",
      "20:\tlearn: 0.3445454\ttotal: 16.9s\tremaining: 23.3s\n",
      "21:\tlearn: 0.3392067\ttotal: 17.6s\tremaining: 22.5s\n",
      "22:\tlearn: 0.3343482\ttotal: 18.5s\tremaining: 21.7s\n",
      "23:\tlearn: 0.3286311\ttotal: 19.2s\tremaining: 20.8s\n",
      "24:\tlearn: 0.3236282\ttotal: 20s\tremaining: 20s\n",
      "25:\tlearn: 0.3188759\ttotal: 20.8s\tremaining: 19.2s\n",
      "26:\tlearn: 0.3144252\ttotal: 21.5s\tremaining: 18.3s\n",
      "27:\tlearn: 0.3111069\ttotal: 22.3s\tremaining: 17.5s\n",
      "28:\tlearn: 0.3067068\ttotal: 23.1s\tremaining: 16.7s\n",
      "29:\tlearn: 0.3035716\ttotal: 23.9s\tremaining: 15.9s\n",
      "30:\tlearn: 0.2967903\ttotal: 24.7s\tremaining: 15.1s\n",
      "31:\tlearn: 0.2933609\ttotal: 25.6s\tremaining: 14.4s\n",
      "32:\tlearn: 0.2895649\ttotal: 26.4s\tremaining: 13.6s\n",
      "33:\tlearn: 0.2861157\ttotal: 27.2s\tremaining: 12.8s\n",
      "34:\tlearn: 0.2825433\ttotal: 28s\tremaining: 12s\n",
      "35:\tlearn: 0.2793336\ttotal: 28.8s\tremaining: 11.2s\n",
      "36:\tlearn: 0.2770325\ttotal: 29.5s\tremaining: 10.4s\n",
      "37:\tlearn: 0.2743358\ttotal: 30.2s\tremaining: 9.54s\n",
      "38:\tlearn: 0.2716044\ttotal: 31s\tremaining: 8.73s\n",
      "39:\tlearn: 0.2685349\ttotal: 31.7s\tremaining: 7.93s\n",
      "40:\tlearn: 0.2659311\ttotal: 32.5s\tremaining: 7.12s\n",
      "41:\tlearn: 0.2632364\ttotal: 33.3s\tremaining: 6.33s\n",
      "42:\tlearn: 0.2603338\ttotal: 34.1s\tremaining: 5.54s\n",
      "43:\tlearn: 0.2567463\ttotal: 34.8s\tremaining: 4.75s\n",
      "44:\tlearn: 0.2546339\ttotal: 35.6s\tremaining: 3.96s\n",
      "45:\tlearn: 0.2518185\ttotal: 36.4s\tremaining: 3.16s\n",
      "46:\tlearn: 0.2502794\ttotal: 37.1s\tremaining: 2.37s\n",
      "47:\tlearn: 0.2484449\ttotal: 37.9s\tremaining: 1.58s\n",
      "48:\tlearn: 0.2468646\ttotal: 38.7s\tremaining: 789ms\n",
      "49:\tlearn: 0.2444078\ttotal: 39.4s\tremaining: 0us\n",
      "[CV 2/3] END ..............catboostclassifier__iterations=50; total time=  47.6s\n",
      "Learning rate set to 0.5\n",
      "0:\tlearn: 0.5838075\ttotal: 1.17s\tremaining: 57.1s\n",
      "1:\tlearn: 0.5227426\ttotal: 1.97s\tremaining: 47.3s\n",
      "2:\tlearn: 0.4955946\ttotal: 2.77s\tremaining: 43.5s\n",
      "3:\tlearn: 0.4650038\ttotal: 3.57s\tremaining: 41s\n",
      "4:\tlearn: 0.4500893\ttotal: 4.37s\tremaining: 39.3s\n",
      "5:\tlearn: 0.4378690\ttotal: 5.16s\tremaining: 37.9s\n",
      "6:\tlearn: 0.4191909\ttotal: 5.97s\tremaining: 36.7s\n",
      "7:\tlearn: 0.4091126\ttotal: 6.78s\tremaining: 35.6s\n",
      "8:\tlearn: 0.4019027\ttotal: 7.58s\tremaining: 34.6s\n",
      "9:\tlearn: 0.3954738\ttotal: 8.43s\tremaining: 33.7s\n",
      "10:\tlearn: 0.3910427\ttotal: 9.2s\tremaining: 32.6s\n",
      "11:\tlearn: 0.3781377\ttotal: 9.98s\tremaining: 31.6s\n",
      "12:\tlearn: 0.3715982\ttotal: 10.8s\tremaining: 30.7s\n",
      "13:\tlearn: 0.3661502\ttotal: 11.6s\tremaining: 29.8s\n",
      "14:\tlearn: 0.3616448\ttotal: 12.4s\tremaining: 28.8s\n",
      "15:\tlearn: 0.3569793\ttotal: 13.1s\tremaining: 27.9s\n",
      "16:\tlearn: 0.3544279\ttotal: 13.9s\tremaining: 27s\n",
      "17:\tlearn: 0.3504311\ttotal: 14.7s\tremaining: 26.1s\n",
      "18:\tlearn: 0.3455580\ttotal: 15.5s\tremaining: 25.2s\n",
      "19:\tlearn: 0.3420118\ttotal: 16.2s\tremaining: 24.4s\n",
      "20:\tlearn: 0.3391628\ttotal: 17s\tremaining: 23.5s\n",
      "21:\tlearn: 0.3335439\ttotal: 17.9s\tremaining: 22.7s\n",
      "22:\tlearn: 0.3282956\ttotal: 18.6s\tremaining: 21.9s\n",
      "23:\tlearn: 0.3224886\ttotal: 19.4s\tremaining: 21s\n",
      "24:\tlearn: 0.3188190\ttotal: 20.2s\tremaining: 20.2s\n",
      "25:\tlearn: 0.3135768\ttotal: 21.1s\tremaining: 19.5s\n",
      "26:\tlearn: 0.3086983\ttotal: 21.9s\tremaining: 18.6s\n",
      "27:\tlearn: 0.3045739\ttotal: 22.6s\tremaining: 17.8s\n",
      "28:\tlearn: 0.2981417\ttotal: 23.4s\tremaining: 16.9s\n",
      "29:\tlearn: 0.2939538\ttotal: 24.1s\tremaining: 16.1s\n",
      "30:\tlearn: 0.2908677\ttotal: 24.9s\tremaining: 15.3s\n",
      "31:\tlearn: 0.2852841\ttotal: 25.7s\tremaining: 14.4s\n",
      "32:\tlearn: 0.2817138\ttotal: 26.4s\tremaining: 13.6s\n",
      "33:\tlearn: 0.2789696\ttotal: 27.2s\tremaining: 12.8s\n",
      "34:\tlearn: 0.2753816\ttotal: 28s\tremaining: 12s\n",
      "35:\tlearn: 0.2723688\ttotal: 28.8s\tremaining: 11.2s\n",
      "36:\tlearn: 0.2699999\ttotal: 29.6s\tremaining: 10.4s\n",
      "37:\tlearn: 0.2669817\ttotal: 30.3s\tremaining: 9.58s\n",
      "38:\tlearn: 0.2646245\ttotal: 31.1s\tremaining: 8.77s\n",
      "39:\tlearn: 0.2614560\ttotal: 31.9s\tremaining: 7.97s\n",
      "40:\tlearn: 0.2577680\ttotal: 32.7s\tremaining: 7.17s\n",
      "41:\tlearn: 0.2551889\ttotal: 33.5s\tremaining: 6.37s\n",
      "42:\tlearn: 0.2531929\ttotal: 34.2s\tremaining: 5.57s\n",
      "43:\tlearn: 0.2502328\ttotal: 35s\tremaining: 4.77s\n",
      "44:\tlearn: 0.2483876\ttotal: 35.8s\tremaining: 3.98s\n",
      "45:\tlearn: 0.2454861\ttotal: 36.6s\tremaining: 3.18s\n",
      "46:\tlearn: 0.2439577\ttotal: 37.4s\tremaining: 2.39s\n",
      "47:\tlearn: 0.2418691\ttotal: 38.3s\tremaining: 1.59s\n",
      "48:\tlearn: 0.2394117\ttotal: 39s\tremaining: 797ms\n",
      "49:\tlearn: 0.2371547\ttotal: 39.8s\tremaining: 0us\n",
      "[CV 3/3] END ..............catboostclassifier__iterations=50; total time=  48.0s\n",
      "Learning rate set to 0.363634\n",
      "0:\tlearn: 0.5843187\ttotal: 1.14s\tremaining: 1m 52s\n",
      "1:\tlearn: 0.5532471\ttotal: 1.98s\tremaining: 1m 36s\n",
      "2:\tlearn: 0.5325103\ttotal: 2.84s\tremaining: 1m 31s\n",
      "3:\tlearn: 0.5038306\ttotal: 3.68s\tremaining: 1m 28s\n",
      "4:\tlearn: 0.4854639\ttotal: 4.54s\tremaining: 1m 26s\n",
      "5:\tlearn: 0.4690491\ttotal: 5.34s\tremaining: 1m 23s\n",
      "6:\tlearn: 0.4551033\ttotal: 6.2s\tremaining: 1m 22s\n",
      "7:\tlearn: 0.4455713\ttotal: 7.05s\tremaining: 1m 21s\n",
      "8:\tlearn: 0.4389564\ttotal: 7.86s\tremaining: 1m 19s\n",
      "9:\tlearn: 0.4321146\ttotal: 8.7s\tremaining: 1m 18s\n",
      "10:\tlearn: 0.4277751\ttotal: 9.54s\tremaining: 1m 17s\n",
      "11:\tlearn: 0.4215709\ttotal: 10.3s\tremaining: 1m 15s\n",
      "12:\tlearn: 0.4115024\ttotal: 11.1s\tremaining: 1m 14s\n",
      "13:\tlearn: 0.4035316\ttotal: 11.9s\tremaining: 1m 13s\n",
      "14:\tlearn: 0.3975010\ttotal: 12.7s\tremaining: 1m 11s\n",
      "15:\tlearn: 0.3922807\ttotal: 13.5s\tremaining: 1m 10s\n",
      "16:\tlearn: 0.3822501\ttotal: 14.3s\tremaining: 1m 9s\n",
      "17:\tlearn: 0.3764347\ttotal: 15.1s\tremaining: 1m 8s\n",
      "18:\tlearn: 0.3718182\ttotal: 15.9s\tremaining: 1m 7s\n",
      "19:\tlearn: 0.3662279\ttotal: 16.7s\tremaining: 1m 6s\n",
      "20:\tlearn: 0.3624708\ttotal: 17.5s\tremaining: 1m 5s\n",
      "21:\tlearn: 0.3593698\ttotal: 18.3s\tremaining: 1m 4s\n",
      "22:\tlearn: 0.3567357\ttotal: 19.1s\tremaining: 1m 3s\n",
      "23:\tlearn: 0.3535138\ttotal: 19.9s\tremaining: 1m 3s\n",
      "24:\tlearn: 0.3508544\ttotal: 20.7s\tremaining: 1m 2s\n",
      "25:\tlearn: 0.3482038\ttotal: 21.5s\tremaining: 1m 1s\n",
      "26:\tlearn: 0.3441518\ttotal: 22.3s\tremaining: 1m\n",
      "27:\tlearn: 0.3413312\ttotal: 23.1s\tremaining: 59.3s\n",
      "28:\tlearn: 0.3374472\ttotal: 23.8s\tremaining: 58.4s\n",
      "29:\tlearn: 0.3344879\ttotal: 24.7s\tremaining: 57.6s\n",
      "30:\tlearn: 0.3290465\ttotal: 25.5s\tremaining: 56.7s\n",
      "31:\tlearn: 0.3250769\ttotal: 26.2s\tremaining: 55.8s\n",
      "32:\tlearn: 0.3220150\ttotal: 27s\tremaining: 54.8s\n",
      "33:\tlearn: 0.3191338\ttotal: 27.8s\tremaining: 53.9s\n",
      "34:\tlearn: 0.3156920\ttotal: 28.5s\tremaining: 53s\n",
      "35:\tlearn: 0.3120155\ttotal: 29.4s\tremaining: 52.2s\n",
      "36:\tlearn: 0.3089231\ttotal: 30.2s\tremaining: 51.4s\n",
      "37:\tlearn: 0.3059855\ttotal: 31s\tremaining: 50.6s\n",
      "38:\tlearn: 0.3031621\ttotal: 31.8s\tremaining: 49.8s\n",
      "39:\tlearn: 0.2988308\ttotal: 32.6s\tremaining: 48.9s\n",
      "40:\tlearn: 0.2965352\ttotal: 33.4s\tremaining: 48.1s\n",
      "41:\tlearn: 0.2938517\ttotal: 34.1s\tremaining: 47.2s\n",
      "42:\tlearn: 0.2909075\ttotal: 35s\tremaining: 46.3s\n",
      "43:\tlearn: 0.2885783\ttotal: 35.7s\tremaining: 45.5s\n",
      "44:\tlearn: 0.2864595\ttotal: 36.5s\tremaining: 44.6s\n",
      "45:\tlearn: 0.2841967\ttotal: 37.2s\tremaining: 43.7s\n",
      "46:\tlearn: 0.2812646\ttotal: 38s\tremaining: 42.9s\n",
      "47:\tlearn: 0.2790802\ttotal: 38.8s\tremaining: 42s\n",
      "48:\tlearn: 0.2765617\ttotal: 39.6s\tremaining: 41.2s\n",
      "49:\tlearn: 0.2743933\ttotal: 40.4s\tremaining: 40.4s\n",
      "50:\tlearn: 0.2727980\ttotal: 41.2s\tremaining: 39.5s\n",
      "51:\tlearn: 0.2706375\ttotal: 41.9s\tremaining: 38.7s\n",
      "52:\tlearn: 0.2674909\ttotal: 42.7s\tremaining: 37.9s\n",
      "53:\tlearn: 0.2655708\ttotal: 43.5s\tremaining: 37s\n",
      "54:\tlearn: 0.2634916\ttotal: 44.3s\tremaining: 36.2s\n",
      "55:\tlearn: 0.2621291\ttotal: 45s\tremaining: 35.4s\n",
      "56:\tlearn: 0.2608800\ttotal: 45.8s\tremaining: 34.5s\n",
      "57:\tlearn: 0.2594888\ttotal: 46.6s\tremaining: 33.7s\n",
      "58:\tlearn: 0.2583508\ttotal: 47.3s\tremaining: 32.9s\n",
      "59:\tlearn: 0.2563211\ttotal: 48.1s\tremaining: 32.1s\n",
      "60:\tlearn: 0.2540941\ttotal: 48.9s\tremaining: 31.3s\n",
      "61:\tlearn: 0.2521281\ttotal: 49.8s\tremaining: 30.5s\n",
      "62:\tlearn: 0.2505223\ttotal: 50.6s\tremaining: 29.7s\n",
      "63:\tlearn: 0.2480585\ttotal: 51.4s\tremaining: 28.9s\n",
      "64:\tlearn: 0.2468742\ttotal: 52.2s\tremaining: 28.1s\n",
      "65:\tlearn: 0.2456967\ttotal: 52.9s\tremaining: 27.3s\n",
      "66:\tlearn: 0.2439868\ttotal: 53.7s\tremaining: 26.4s\n",
      "67:\tlearn: 0.2430182\ttotal: 54.4s\tremaining: 25.6s\n",
      "68:\tlearn: 0.2416217\ttotal: 55.2s\tremaining: 24.8s\n",
      "69:\tlearn: 0.2400834\ttotal: 56s\tremaining: 24s\n",
      "70:\tlearn: 0.2381274\ttotal: 56.7s\tremaining: 23.2s\n",
      "71:\tlearn: 0.2372347\ttotal: 57.5s\tremaining: 22.4s\n",
      "72:\tlearn: 0.2358608\ttotal: 58.3s\tremaining: 21.6s\n",
      "73:\tlearn: 0.2343169\ttotal: 59.1s\tremaining: 20.8s\n",
      "74:\tlearn: 0.2327595\ttotal: 59.9s\tremaining: 20s\n",
      "75:\tlearn: 0.2295688\ttotal: 1m\tremaining: 19.2s\n",
      "76:\tlearn: 0.2278689\ttotal: 1m 1s\tremaining: 18.4s\n",
      "77:\tlearn: 0.2269892\ttotal: 1m 2s\tremaining: 17.5s\n",
      "78:\tlearn: 0.2254485\ttotal: 1m 3s\tremaining: 16.7s\n",
      "79:\tlearn: 0.2240575\ttotal: 1m 3s\tremaining: 15.9s\n",
      "80:\tlearn: 0.2228161\ttotal: 1m 4s\tremaining: 15.1s\n",
      "81:\tlearn: 0.2219413\ttotal: 1m 5s\tremaining: 14.3s\n",
      "82:\tlearn: 0.2206046\ttotal: 1m 6s\tremaining: 13.6s\n",
      "83:\tlearn: 0.2193044\ttotal: 1m 7s\tremaining: 12.8s\n",
      "84:\tlearn: 0.2185069\ttotal: 1m 7s\tremaining: 12s\n",
      "85:\tlearn: 0.2166780\ttotal: 1m 8s\tremaining: 11.2s\n",
      "86:\tlearn: 0.2136441\ttotal: 1m 9s\tremaining: 10.4s\n",
      "87:\tlearn: 0.2120187\ttotal: 1m 10s\tremaining: 9.56s\n",
      "88:\tlearn: 0.2104684\ttotal: 1m 10s\tremaining: 8.76s\n",
      "89:\tlearn: 0.2089004\ttotal: 1m 11s\tremaining: 7.96s\n",
      "90:\tlearn: 0.2082247\ttotal: 1m 12s\tremaining: 7.16s\n",
      "91:\tlearn: 0.2075612\ttotal: 1m 13s\tremaining: 6.36s\n",
      "92:\tlearn: 0.2060761\ttotal: 1m 13s\tremaining: 5.57s\n",
      "93:\tlearn: 0.2047443\ttotal: 1m 14s\tremaining: 4.77s\n",
      "94:\tlearn: 0.2041182\ttotal: 1m 15s\tremaining: 3.97s\n",
      "95:\tlearn: 0.2027213\ttotal: 1m 16s\tremaining: 3.18s\n",
      "96:\tlearn: 0.2016165\ttotal: 1m 17s\tremaining: 2.38s\n",
      "97:\tlearn: 0.2003356\ttotal: 1m 17s\tremaining: 1.59s\n",
      "98:\tlearn: 0.1997544\ttotal: 1m 18s\tremaining: 794ms\n",
      "99:\tlearn: 0.1983759\ttotal: 1m 19s\tremaining: 0us\n",
      "[CV 1/3] END .............catboostclassifier__iterations=100; total time= 1.5min\n",
      "Learning rate set to 0.363634\n",
      "0:\tlearn: 0.5974051\ttotal: 1.1s\tremaining: 1m 49s\n",
      "1:\tlearn: 0.5527575\ttotal: 1.93s\tremaining: 1m 34s\n",
      "2:\tlearn: 0.5279940\ttotal: 2.8s\tremaining: 1m 30s\n",
      "3:\tlearn: 0.4975115\ttotal: 3.62s\tremaining: 1m 26s\n",
      "4:\tlearn: 0.4788547\ttotal: 4.43s\tremaining: 1m 24s\n",
      "5:\tlearn: 0.4651608\ttotal: 5.21s\tremaining: 1m 21s\n",
      "6:\tlearn: 0.4525154\ttotal: 6.03s\tremaining: 1m 20s\n",
      "7:\tlearn: 0.4447835\ttotal: 6.83s\tremaining: 1m 18s\n",
      "8:\tlearn: 0.4382279\ttotal: 7.64s\tremaining: 1m 17s\n",
      "9:\tlearn: 0.4309016\ttotal: 8.44s\tremaining: 1m 15s\n",
      "10:\tlearn: 0.4241145\ttotal: 9.29s\tremaining: 1m 15s\n",
      "11:\tlearn: 0.4156518\ttotal: 10.1s\tremaining: 1m 13s\n",
      "12:\tlearn: 0.4090200\ttotal: 10.9s\tremaining: 1m 12s\n",
      "13:\tlearn: 0.4027258\ttotal: 11.6s\tremaining: 1m 11s\n",
      "14:\tlearn: 0.3950082\ttotal: 12.5s\tremaining: 1m 10s\n",
      "15:\tlearn: 0.3893854\ttotal: 13.3s\tremaining: 1m 10s\n",
      "16:\tlearn: 0.3840159\ttotal: 14.2s\tremaining: 1m 9s\n",
      "17:\tlearn: 0.3799324\ttotal: 15.1s\tremaining: 1m 8s\n",
      "18:\tlearn: 0.3751741\ttotal: 15.9s\tremaining: 1m 7s\n",
      "19:\tlearn: 0.3708397\ttotal: 16.8s\tremaining: 1m 7s\n",
      "20:\tlearn: 0.3668157\ttotal: 17.5s\tremaining: 1m 5s\n",
      "21:\tlearn: 0.3631760\ttotal: 18.3s\tremaining: 1m 5s\n",
      "22:\tlearn: 0.3595998\ttotal: 19.1s\tremaining: 1m 3s\n",
      "23:\tlearn: 0.3574129\ttotal: 19.9s\tremaining: 1m 3s\n",
      "24:\tlearn: 0.3531265\ttotal: 20.7s\tremaining: 1m 2s\n",
      "25:\tlearn: 0.3507815\ttotal: 21.5s\tremaining: 1m 1s\n",
      "26:\tlearn: 0.3481686\ttotal: 22.4s\tremaining: 1m\n",
      "27:\tlearn: 0.3455705\ttotal: 23.2s\tremaining: 59.8s\n",
      "28:\tlearn: 0.3417800\ttotal: 24.1s\tremaining: 58.9s\n",
      "29:\tlearn: 0.3372412\ttotal: 24.8s\tremaining: 58s\n",
      "30:\tlearn: 0.3333197\ttotal: 25.6s\tremaining: 57.1s\n",
      "31:\tlearn: 0.3300005\ttotal: 26.4s\tremaining: 56.1s\n",
      "32:\tlearn: 0.3265373\ttotal: 27.2s\tremaining: 55.2s\n",
      "33:\tlearn: 0.3229440\ttotal: 28s\tremaining: 54.3s\n",
      "34:\tlearn: 0.3198025\ttotal: 28.8s\tremaining: 53.4s\n",
      "35:\tlearn: 0.3150599\ttotal: 29.5s\tremaining: 52.5s\n",
      "36:\tlearn: 0.3118197\ttotal: 30.3s\tremaining: 51.6s\n",
      "37:\tlearn: 0.3087281\ttotal: 31.1s\tremaining: 50.7s\n",
      "38:\tlearn: 0.3053243\ttotal: 31.9s\tremaining: 49.9s\n",
      "39:\tlearn: 0.3020235\ttotal: 32.7s\tremaining: 49.1s\n",
      "40:\tlearn: 0.2999833\ttotal: 33.5s\tremaining: 48.2s\n",
      "41:\tlearn: 0.2974581\ttotal: 34.3s\tremaining: 47.4s\n",
      "42:\tlearn: 0.2946751\ttotal: 35.1s\tremaining: 46.5s\n",
      "43:\tlearn: 0.2920761\ttotal: 35.9s\tremaining: 45.7s\n",
      "44:\tlearn: 0.2896317\ttotal: 36.7s\tremaining: 44.8s\n",
      "45:\tlearn: 0.2864404\ttotal: 37.5s\tremaining: 44s\n",
      "46:\tlearn: 0.2843553\ttotal: 38.2s\tremaining: 43.1s\n",
      "47:\tlearn: 0.2820134\ttotal: 39s\tremaining: 42.3s\n",
      "48:\tlearn: 0.2785908\ttotal: 39.8s\tremaining: 41.5s\n",
      "49:\tlearn: 0.2770467\ttotal: 40.6s\tremaining: 40.6s\n",
      "50:\tlearn: 0.2750139\ttotal: 41.4s\tremaining: 39.7s\n",
      "51:\tlearn: 0.2728961\ttotal: 42.1s\tremaining: 38.9s\n",
      "52:\tlearn: 0.2712899\ttotal: 42.9s\tremaining: 38s\n",
      "53:\tlearn: 0.2693100\ttotal: 43.7s\tremaining: 37.2s\n",
      "54:\tlearn: 0.2678586\ttotal: 44.4s\tremaining: 36.4s\n",
      "55:\tlearn: 0.2658425\ttotal: 45.3s\tremaining: 35.6s\n",
      "56:\tlearn: 0.2644146\ttotal: 46.1s\tremaining: 34.8s\n",
      "57:\tlearn: 0.2625867\ttotal: 46.8s\tremaining: 33.9s\n",
      "58:\tlearn: 0.2614891\ttotal: 47.6s\tremaining: 33.1s\n",
      "59:\tlearn: 0.2588483\ttotal: 48.4s\tremaining: 32.3s\n",
      "60:\tlearn: 0.2559362\ttotal: 49.2s\tremaining: 31.4s\n",
      "61:\tlearn: 0.2538504\ttotal: 49.9s\tremaining: 30.6s\n",
      "62:\tlearn: 0.2520193\ttotal: 50.7s\tremaining: 29.8s\n",
      "63:\tlearn: 0.2501162\ttotal: 51.5s\tremaining: 29s\n",
      "64:\tlearn: 0.2489790\ttotal: 52.3s\tremaining: 28.1s\n",
      "65:\tlearn: 0.2480552\ttotal: 53s\tremaining: 27.3s\n",
      "66:\tlearn: 0.2460820\ttotal: 53.8s\tremaining: 26.5s\n",
      "67:\tlearn: 0.2435797\ttotal: 54.6s\tremaining: 25.7s\n",
      "68:\tlearn: 0.2423254\ttotal: 55.4s\tremaining: 24.9s\n",
      "69:\tlearn: 0.2408167\ttotal: 56.2s\tremaining: 24.1s\n",
      "70:\tlearn: 0.2372282\ttotal: 57s\tremaining: 23.3s\n",
      "71:\tlearn: 0.2362611\ttotal: 57.7s\tremaining: 22.4s\n",
      "72:\tlearn: 0.2348104\ttotal: 58.5s\tremaining: 21.6s\n",
      "73:\tlearn: 0.2337552\ttotal: 59.2s\tremaining: 20.8s\n",
      "74:\tlearn: 0.2327020\ttotal: 60s\tremaining: 20s\n",
      "75:\tlearn: 0.2318531\ttotal: 1m\tremaining: 19.2s\n",
      "76:\tlearn: 0.2305892\ttotal: 1m 1s\tremaining: 18.4s\n",
      "77:\tlearn: 0.2291414\ttotal: 1m 2s\tremaining: 17.6s\n",
      "78:\tlearn: 0.2278164\ttotal: 1m 3s\tremaining: 16.8s\n",
      "79:\tlearn: 0.2266723\ttotal: 1m 3s\tremaining: 16s\n",
      "80:\tlearn: 0.2251038\ttotal: 1m 4s\tremaining: 15.2s\n",
      "81:\tlearn: 0.2236587\ttotal: 1m 5s\tremaining: 14.4s\n",
      "82:\tlearn: 0.2229521\ttotal: 1m 6s\tremaining: 13.6s\n",
      "83:\tlearn: 0.2216051\ttotal: 1m 7s\tremaining: 12.8s\n",
      "84:\tlearn: 0.2201092\ttotal: 1m 7s\tremaining: 12s\n",
      "85:\tlearn: 0.2191494\ttotal: 1m 8s\tremaining: 11.2s\n",
      "86:\tlearn: 0.2184570\ttotal: 1m 9s\tremaining: 10.3s\n",
      "87:\tlearn: 0.2167783\ttotal: 1m 10s\tremaining: 9.55s\n",
      "88:\tlearn: 0.2150943\ttotal: 1m 10s\tremaining: 8.75s\n",
      "89:\tlearn: 0.2137078\ttotal: 1m 11s\tremaining: 7.96s\n",
      "90:\tlearn: 0.2129944\ttotal: 1m 12s\tremaining: 7.16s\n",
      "91:\tlearn: 0.2114407\ttotal: 1m 13s\tremaining: 6.37s\n",
      "92:\tlearn: 0.2107547\ttotal: 1m 13s\tremaining: 5.57s\n",
      "93:\tlearn: 0.2095743\ttotal: 1m 14s\tremaining: 4.77s\n",
      "94:\tlearn: 0.2082923\ttotal: 1m 15s\tremaining: 3.98s\n",
      "95:\tlearn: 0.2069482\ttotal: 1m 16s\tremaining: 3.18s\n",
      "96:\tlearn: 0.2054132\ttotal: 1m 17s\tremaining: 2.38s\n",
      "97:\tlearn: 0.2048069\ttotal: 1m 17s\tremaining: 1.59s\n",
      "98:\tlearn: 0.2038977\ttotal: 1m 18s\tremaining: 794ms\n",
      "99:\tlearn: 0.2033067\ttotal: 1m 19s\tremaining: 0us\n",
      "[CV 2/3] END .............catboostclassifier__iterations=100; total time= 1.5min\n",
      "Learning rate set to 0.363634\n",
      "0:\tlearn: 0.5977192\ttotal: 1.1s\tremaining: 1m 49s\n",
      "1:\tlearn: 0.5499650\ttotal: 1.93s\tremaining: 1m 34s\n",
      "2:\tlearn: 0.5164739\ttotal: 2.78s\tremaining: 1m 30s\n",
      "3:\tlearn: 0.4955489\ttotal: 3.63s\tremaining: 1m 27s\n",
      "4:\tlearn: 0.4763533\ttotal: 4.42s\tremaining: 1m 24s\n",
      "5:\tlearn: 0.4643694\ttotal: 5.21s\tremaining: 1m 21s\n",
      "6:\tlearn: 0.4502816\ttotal: 6.01s\tremaining: 1m 19s\n",
      "7:\tlearn: 0.4371591\ttotal: 6.85s\tremaining: 1m 18s\n",
      "8:\tlearn: 0.4298903\ttotal: 7.66s\tremaining: 1m 17s\n",
      "9:\tlearn: 0.4216715\ttotal: 8.47s\tremaining: 1m 16s\n",
      "10:\tlearn: 0.4165921\ttotal: 9.3s\tremaining: 1m 15s\n",
      "11:\tlearn: 0.4108895\ttotal: 10.1s\tremaining: 1m 14s\n",
      "12:\tlearn: 0.4035353\ttotal: 10.9s\tremaining: 1m 12s\n",
      "13:\tlearn: 0.3997270\ttotal: 11.7s\tremaining: 1m 11s\n",
      "14:\tlearn: 0.3908559\ttotal: 12.5s\tremaining: 1m 10s\n",
      "15:\tlearn: 0.3864423\ttotal: 13.3s\tremaining: 1m 10s\n",
      "16:\tlearn: 0.3830537\ttotal: 14.2s\tremaining: 1m 9s\n",
      "17:\tlearn: 0.3802756\ttotal: 14.9s\tremaining: 1m 7s\n",
      "18:\tlearn: 0.3756988\ttotal: 15.8s\tremaining: 1m 7s\n",
      "19:\tlearn: 0.3728861\ttotal: 16.6s\tremaining: 1m 6s\n",
      "20:\tlearn: 0.3694076\ttotal: 17.4s\tremaining: 1m 5s\n",
      "21:\tlearn: 0.3653026\ttotal: 18.2s\tremaining: 1m 4s\n",
      "22:\tlearn: 0.3609920\ttotal: 18.9s\tremaining: 1m 3s\n",
      "23:\tlearn: 0.3573508\ttotal: 19.7s\tremaining: 1m 2s\n",
      "24:\tlearn: 0.3522785\ttotal: 20.5s\tremaining: 1m 1s\n",
      "25:\tlearn: 0.3485319\ttotal: 21.3s\tremaining: 1m\n",
      "26:\tlearn: 0.3468995\ttotal: 22.1s\tremaining: 59.8s\n",
      "27:\tlearn: 0.3425766\ttotal: 23s\tremaining: 59s\n",
      "28:\tlearn: 0.3384231\ttotal: 23.8s\tremaining: 58.3s\n",
      "29:\tlearn: 0.3356249\ttotal: 24.6s\tremaining: 57.4s\n",
      "30:\tlearn: 0.3297434\ttotal: 25.4s\tremaining: 56.5s\n",
      "31:\tlearn: 0.3256654\ttotal: 26.2s\tremaining: 55.6s\n",
      "32:\tlearn: 0.3225076\ttotal: 27s\tremaining: 54.7s\n",
      "33:\tlearn: 0.3188308\ttotal: 27.8s\tremaining: 53.9s\n",
      "34:\tlearn: 0.3149360\ttotal: 28.5s\tremaining: 53s\n",
      "35:\tlearn: 0.3117082\ttotal: 29.3s\tremaining: 52.1s\n",
      "36:\tlearn: 0.3080335\ttotal: 30.1s\tremaining: 51.2s\n",
      "37:\tlearn: 0.3043654\ttotal: 30.9s\tremaining: 50.3s\n",
      "38:\tlearn: 0.3014885\ttotal: 31.6s\tremaining: 49.5s\n",
      "39:\tlearn: 0.2970795\ttotal: 32.4s\tremaining: 48.6s\n",
      "40:\tlearn: 0.2949110\ttotal: 33.1s\tremaining: 47.7s\n",
      "41:\tlearn: 0.2922292\ttotal: 34s\tremaining: 46.9s\n",
      "42:\tlearn: 0.2894872\ttotal: 34.8s\tremaining: 46.1s\n",
      "43:\tlearn: 0.2868005\ttotal: 35.5s\tremaining: 45.2s\n",
      "44:\tlearn: 0.2840529\ttotal: 36.4s\tremaining: 44.5s\n",
      "45:\tlearn: 0.2819464\ttotal: 37.2s\tremaining: 43.6s\n",
      "46:\tlearn: 0.2779447\ttotal: 38s\tremaining: 42.8s\n",
      "47:\tlearn: 0.2758826\ttotal: 38.7s\tremaining: 42s\n",
      "48:\tlearn: 0.2730272\ttotal: 39.5s\tremaining: 41.1s\n",
      "49:\tlearn: 0.2703156\ttotal: 40.3s\tremaining: 40.3s\n",
      "50:\tlearn: 0.2680839\ttotal: 41.1s\tremaining: 39.4s\n",
      "51:\tlearn: 0.2666463\ttotal: 41.8s\tremaining: 38.6s\n",
      "52:\tlearn: 0.2641509\ttotal: 42.6s\tremaining: 37.8s\n",
      "53:\tlearn: 0.2625039\ttotal: 43.4s\tremaining: 37s\n",
      "54:\tlearn: 0.2602935\ttotal: 44.3s\tremaining: 36.2s\n",
      "55:\tlearn: 0.2579403\ttotal: 45s\tremaining: 35.4s\n",
      "56:\tlearn: 0.2566522\ttotal: 45.8s\tremaining: 34.5s\n",
      "57:\tlearn: 0.2544447\ttotal: 46.5s\tremaining: 33.7s\n",
      "58:\tlearn: 0.2524733\ttotal: 47.3s\tremaining: 32.9s\n",
      "59:\tlearn: 0.2510296\ttotal: 48.1s\tremaining: 32s\n",
      "60:\tlearn: 0.2489631\ttotal: 48.8s\tremaining: 31.2s\n",
      "61:\tlearn: 0.2477692\ttotal: 49.6s\tremaining: 30.4s\n",
      "62:\tlearn: 0.2459659\ttotal: 50.4s\tremaining: 29.6s\n",
      "63:\tlearn: 0.2446227\ttotal: 51.1s\tremaining: 28.8s\n",
      "64:\tlearn: 0.2433256\ttotal: 51.9s\tremaining: 28s\n",
      "65:\tlearn: 0.2423870\ttotal: 52.7s\tremaining: 27.2s\n",
      "66:\tlearn: 0.2406633\ttotal: 53.6s\tremaining: 26.4s\n",
      "67:\tlearn: 0.2395308\ttotal: 54.3s\tremaining: 25.6s\n",
      "68:\tlearn: 0.2377773\ttotal: 55.1s\tremaining: 24.8s\n",
      "69:\tlearn: 0.2360540\ttotal: 55.9s\tremaining: 24s\n",
      "70:\tlearn: 0.2342601\ttotal: 56.7s\tremaining: 23.1s\n",
      "71:\tlearn: 0.2323589\ttotal: 57.5s\tremaining: 22.3s\n",
      "72:\tlearn: 0.2314538\ttotal: 58.2s\tremaining: 21.5s\n",
      "73:\tlearn: 0.2300661\ttotal: 59s\tremaining: 20.7s\n",
      "74:\tlearn: 0.2283857\ttotal: 59.7s\tremaining: 19.9s\n",
      "75:\tlearn: 0.2274325\ttotal: 1m\tremaining: 19.1s\n",
      "76:\tlearn: 0.2256780\ttotal: 1m 1s\tremaining: 18.3s\n",
      "77:\tlearn: 0.2240373\ttotal: 1m 2s\tremaining: 17.5s\n",
      "78:\tlearn: 0.2232302\ttotal: 1m 2s\tremaining: 16.7s\n",
      "79:\tlearn: 0.2214226\ttotal: 1m 3s\tremaining: 15.9s\n",
      "80:\tlearn: 0.2200776\ttotal: 1m 4s\tremaining: 15.1s\n",
      "81:\tlearn: 0.2192982\ttotal: 1m 5s\tremaining: 14.3s\n",
      "82:\tlearn: 0.2184023\ttotal: 1m 5s\tremaining: 13.5s\n",
      "83:\tlearn: 0.2169162\ttotal: 1m 6s\tremaining: 12.7s\n",
      "84:\tlearn: 0.2157424\ttotal: 1m 7s\tremaining: 11.9s\n",
      "85:\tlearn: 0.2150384\ttotal: 1m 8s\tremaining: 11.1s\n",
      "86:\tlearn: 0.2136976\ttotal: 1m 9s\tremaining: 10.3s\n",
      "87:\tlearn: 0.2129777\ttotal: 1m 9s\tremaining: 9.51s\n",
      "88:\tlearn: 0.2117671\ttotal: 1m 10s\tremaining: 8.72s\n",
      "89:\tlearn: 0.2110916\ttotal: 1m 11s\tremaining: 7.92s\n",
      "90:\tlearn: 0.2096843\ttotal: 1m 12s\tremaining: 7.13s\n",
      "91:\tlearn: 0.2090361\ttotal: 1m 12s\tremaining: 6.33s\n",
      "92:\tlearn: 0.2076427\ttotal: 1m 13s\tremaining: 5.54s\n",
      "93:\tlearn: 0.2061663\ttotal: 1m 14s\tremaining: 4.75s\n",
      "94:\tlearn: 0.2046208\ttotal: 1m 15s\tremaining: 3.96s\n",
      "95:\tlearn: 0.2020511\ttotal: 1m 15s\tremaining: 3.17s\n",
      "96:\tlearn: 0.2012947\ttotal: 1m 16s\tremaining: 2.38s\n",
      "97:\tlearn: 0.2006672\ttotal: 1m 17s\tremaining: 1.58s\n",
      "98:\tlearn: 0.1998944\ttotal: 1m 18s\tremaining: 793ms\n",
      "99:\tlearn: 0.1990762\ttotal: 1m 19s\tremaining: 0us\n",
      "[CV 3/3] END .............catboostclassifier__iterations=100; total time= 1.5min\n",
      "Learning rate set to 0.25072\n",
      "0:\tlearn: 0.6059914\ttotal: 1.15s\tremaining: 2m 51s\n",
      "1:\tlearn: 0.5814690\ttotal: 1.95s\tremaining: 2m 24s\n",
      "2:\tlearn: 0.5575486\ttotal: 2.75s\tremaining: 2m 14s\n",
      "3:\tlearn: 0.5273659\ttotal: 3.55s\tremaining: 2m 9s\n",
      "4:\tlearn: 0.5096159\ttotal: 4.35s\tremaining: 2m 6s\n",
      "5:\tlearn: 0.4994826\ttotal: 5.17s\tremaining: 2m 4s\n",
      "6:\tlearn: 0.4879331\ttotal: 6.01s\tremaining: 2m 2s\n",
      "7:\tlearn: 0.4748715\ttotal: 6.87s\tremaining: 2m 1s\n",
      "8:\tlearn: 0.4665295\ttotal: 7.66s\tremaining: 1m 59s\n",
      "9:\tlearn: 0.4591328\ttotal: 8.45s\tremaining: 1m 58s\n",
      "10:\tlearn: 0.4551111\ttotal: 9.29s\tremaining: 1m 57s\n",
      "11:\tlearn: 0.4468711\ttotal: 10.1s\tremaining: 1m 56s\n",
      "12:\tlearn: 0.4376358\ttotal: 10.9s\tremaining: 1m 54s\n",
      "13:\tlearn: 0.4293715\ttotal: 11.7s\tremaining: 1m 53s\n",
      "14:\tlearn: 0.4240502\ttotal: 12.4s\tremaining: 1m 51s\n",
      "15:\tlearn: 0.4159616\ttotal: 13.2s\tremaining: 1m 50s\n",
      "16:\tlearn: 0.4110192\ttotal: 14s\tremaining: 1m 49s\n",
      "17:\tlearn: 0.4068035\ttotal: 14.8s\tremaining: 1m 48s\n",
      "18:\tlearn: 0.4022580\ttotal: 15.6s\tremaining: 1m 47s\n",
      "19:\tlearn: 0.3986916\ttotal: 16.5s\tremaining: 1m 47s\n",
      "20:\tlearn: 0.3956548\ttotal: 17.3s\tremaining: 1m 46s\n",
      "21:\tlearn: 0.3922356\ttotal: 18.1s\tremaining: 1m 45s\n",
      "22:\tlearn: 0.3885125\ttotal: 18.8s\tremaining: 1m 44s\n",
      "23:\tlearn: 0.3856203\ttotal: 19.7s\tremaining: 1m 43s\n",
      "24:\tlearn: 0.3828746\ttotal: 20.5s\tremaining: 1m 42s\n",
      "25:\tlearn: 0.3809808\ttotal: 21.3s\tremaining: 1m 41s\n",
      "26:\tlearn: 0.3782035\ttotal: 22s\tremaining: 1m 40s\n",
      "27:\tlearn: 0.3755608\ttotal: 22.8s\tremaining: 1m 39s\n",
      "28:\tlearn: 0.3723001\ttotal: 23.7s\tremaining: 1m 38s\n",
      "29:\tlearn: 0.3690722\ttotal: 24.4s\tremaining: 1m 37s\n",
      "30:\tlearn: 0.3661606\ttotal: 25.2s\tremaining: 1m 36s\n",
      "31:\tlearn: 0.3630587\ttotal: 26.1s\tremaining: 1m 36s\n",
      "32:\tlearn: 0.3610653\ttotal: 26.9s\tremaining: 1m 35s\n",
      "33:\tlearn: 0.3595431\ttotal: 27.7s\tremaining: 1m 34s\n",
      "34:\tlearn: 0.3575653\ttotal: 28.5s\tremaining: 1m 33s\n",
      "35:\tlearn: 0.3548612\ttotal: 29.3s\tremaining: 1m 32s\n",
      "36:\tlearn: 0.3531139\ttotal: 30.2s\tremaining: 1m 32s\n",
      "37:\tlearn: 0.3507115\ttotal: 31s\tremaining: 1m 31s\n",
      "38:\tlearn: 0.3477698\ttotal: 31.7s\tremaining: 1m 30s\n",
      "39:\tlearn: 0.3453976\ttotal: 32.5s\tremaining: 1m 29s\n",
      "40:\tlearn: 0.3426656\ttotal: 33.3s\tremaining: 1m 28s\n",
      "41:\tlearn: 0.3398271\ttotal: 34.1s\tremaining: 1m 27s\n",
      "42:\tlearn: 0.3371430\ttotal: 35s\tremaining: 1m 26s\n",
      "43:\tlearn: 0.3330457\ttotal: 35.7s\tremaining: 1m 26s\n",
      "44:\tlearn: 0.3294337\ttotal: 36.6s\tremaining: 1m 25s\n",
      "45:\tlearn: 0.3263990\ttotal: 37.4s\tremaining: 1m 24s\n",
      "46:\tlearn: 0.3231236\ttotal: 38.2s\tremaining: 1m 23s\n",
      "47:\tlearn: 0.3202620\ttotal: 39s\tremaining: 1m 22s\n",
      "48:\tlearn: 0.3182040\ttotal: 39.8s\tremaining: 1m 21s\n",
      "49:\tlearn: 0.3163842\ttotal: 40.5s\tremaining: 1m 21s\n",
      "50:\tlearn: 0.3140092\ttotal: 41.3s\tremaining: 1m 20s\n",
      "51:\tlearn: 0.3110697\ttotal: 42.1s\tremaining: 1m 19s\n",
      "52:\tlearn: 0.3092625\ttotal: 42.9s\tremaining: 1m 18s\n",
      "53:\tlearn: 0.3068721\ttotal: 43.7s\tremaining: 1m 17s\n",
      "54:\tlearn: 0.3046491\ttotal: 44.5s\tremaining: 1m 16s\n",
      "55:\tlearn: 0.3028920\ttotal: 45.3s\tremaining: 1m 16s\n",
      "56:\tlearn: 0.3009258\ttotal: 46.1s\tremaining: 1m 15s\n",
      "57:\tlearn: 0.2988698\ttotal: 46.9s\tremaining: 1m 14s\n",
      "58:\tlearn: 0.2970311\ttotal: 47.7s\tremaining: 1m 13s\n",
      "59:\tlearn: 0.2950143\ttotal: 48.5s\tremaining: 1m 12s\n",
      "60:\tlearn: 0.2931840\ttotal: 49.2s\tremaining: 1m 11s\n",
      "61:\tlearn: 0.2910001\ttotal: 50s\tremaining: 1m 11s\n",
      "62:\tlearn: 0.2895251\ttotal: 50.8s\tremaining: 1m 10s\n",
      "63:\tlearn: 0.2880090\ttotal: 51.5s\tremaining: 1m 9s\n",
      "64:\tlearn: 0.2864817\ttotal: 52.3s\tremaining: 1m 8s\n",
      "65:\tlearn: 0.2847753\ttotal: 53.1s\tremaining: 1m 7s\n",
      "66:\tlearn: 0.2832584\ttotal: 53.9s\tremaining: 1m 6s\n",
      "67:\tlearn: 0.2816137\ttotal: 54.8s\tremaining: 1m 6s\n",
      "68:\tlearn: 0.2800571\ttotal: 55.6s\tremaining: 1m 5s\n",
      "69:\tlearn: 0.2779775\ttotal: 56.4s\tremaining: 1m 4s\n",
      "70:\tlearn: 0.2767201\ttotal: 57.2s\tremaining: 1m 3s\n",
      "71:\tlearn: 0.2754657\ttotal: 58s\tremaining: 1m 2s\n",
      "72:\tlearn: 0.2736960\ttotal: 58.7s\tremaining: 1m 1s\n",
      "73:\tlearn: 0.2718888\ttotal: 59.5s\tremaining: 1m 1s\n",
      "74:\tlearn: 0.2701902\ttotal: 1m\tremaining: 1m\n",
      "75:\tlearn: 0.2679999\ttotal: 1m 1s\tremaining: 59.5s\n",
      "76:\tlearn: 0.2671539\ttotal: 1m 1s\tremaining: 58.6s\n",
      "77:\tlearn: 0.2656655\ttotal: 1m 2s\tremaining: 57.8s\n",
      "78:\tlearn: 0.2641678\ttotal: 1m 3s\tremaining: 57s\n",
      "79:\tlearn: 0.2628104\ttotal: 1m 4s\tremaining: 56.2s\n",
      "80:\tlearn: 0.2611666\ttotal: 1m 5s\tremaining: 55.4s\n",
      "81:\tlearn: 0.2588138\ttotal: 1m 5s\tremaining: 54.6s\n",
      "82:\tlearn: 0.2580101\ttotal: 1m 6s\tremaining: 53.7s\n",
      "83:\tlearn: 0.2571079\ttotal: 1m 7s\tremaining: 52.9s\n",
      "84:\tlearn: 0.2560113\ttotal: 1m 8s\tremaining: 52.1s\n",
      "85:\tlearn: 0.2545355\ttotal: 1m 8s\tremaining: 51.3s\n",
      "86:\tlearn: 0.2533278\ttotal: 1m 9s\tremaining: 50.5s\n",
      "87:\tlearn: 0.2516408\ttotal: 1m 10s\tremaining: 49.7s\n",
      "88:\tlearn: 0.2509322\ttotal: 1m 11s\tremaining: 48.9s\n",
      "89:\tlearn: 0.2489861\ttotal: 1m 12s\tremaining: 48.1s\n",
      "90:\tlearn: 0.2477564\ttotal: 1m 12s\tremaining: 47.2s\n",
      "91:\tlearn: 0.2465105\ttotal: 1m 13s\tremaining: 46.4s\n",
      "92:\tlearn: 0.2454627\ttotal: 1m 14s\tremaining: 45.6s\n",
      "93:\tlearn: 0.2442282\ttotal: 1m 15s\tremaining: 44.8s\n",
      "94:\tlearn: 0.2433659\ttotal: 1m 16s\tremaining: 44.1s\n",
      "95:\tlearn: 0.2420701\ttotal: 1m 16s\tremaining: 43.3s\n",
      "96:\tlearn: 0.2412306\ttotal: 1m 17s\tremaining: 42.4s\n",
      "97:\tlearn: 0.2406323\ttotal: 1m 18s\tremaining: 41.6s\n",
      "98:\tlearn: 0.2390473\ttotal: 1m 19s\tremaining: 40.8s\n",
      "99:\tlearn: 0.2378239\ttotal: 1m 19s\tremaining: 40s\n",
      "100:\tlearn: 0.2370849\ttotal: 1m 20s\tremaining: 39.2s\n",
      "101:\tlearn: 0.2352130\ttotal: 1m 21s\tremaining: 38.4s\n",
      "102:\tlearn: 0.2344336\ttotal: 1m 22s\tremaining: 37.5s\n",
      "103:\tlearn: 0.2332879\ttotal: 1m 23s\tremaining: 36.7s\n",
      "104:\tlearn: 0.2324384\ttotal: 1m 23s\tremaining: 36s\n",
      "105:\tlearn: 0.2318493\ttotal: 1m 24s\tremaining: 35.1s\n",
      "106:\tlearn: 0.2308183\ttotal: 1m 25s\tremaining: 34.4s\n",
      "107:\tlearn: 0.2297693\ttotal: 1m 26s\tremaining: 33.6s\n",
      "108:\tlearn: 0.2281814\ttotal: 1m 27s\tremaining: 32.8s\n",
      "109:\tlearn: 0.2273345\ttotal: 1m 27s\tremaining: 32s\n",
      "110:\tlearn: 0.2261571\ttotal: 1m 28s\tremaining: 31.2s\n",
      "111:\tlearn: 0.2255960\ttotal: 1m 29s\tremaining: 30.3s\n",
      "112:\tlearn: 0.2246505\ttotal: 1m 30s\tremaining: 29.5s\n",
      "113:\tlearn: 0.2230155\ttotal: 1m 31s\tremaining: 28.8s\n",
      "114:\tlearn: 0.2223200\ttotal: 1m 31s\tremaining: 27.9s\n",
      "115:\tlearn: 0.2212409\ttotal: 1m 32s\tremaining: 27.1s\n",
      "116:\tlearn: 0.2201603\ttotal: 1m 33s\tremaining: 26.3s\n",
      "117:\tlearn: 0.2186335\ttotal: 1m 34s\tremaining: 25.5s\n",
      "118:\tlearn: 0.2180844\ttotal: 1m 34s\tremaining: 24.7s\n",
      "119:\tlearn: 0.2174031\ttotal: 1m 35s\tremaining: 23.9s\n",
      "120:\tlearn: 0.2166105\ttotal: 1m 36s\tremaining: 23.1s\n",
      "121:\tlearn: 0.2155793\ttotal: 1m 37s\tremaining: 22.3s\n",
      "122:\tlearn: 0.2147243\ttotal: 1m 38s\tremaining: 21.5s\n",
      "123:\tlearn: 0.2142683\ttotal: 1m 38s\tremaining: 20.7s\n",
      "124:\tlearn: 0.2129062\ttotal: 1m 39s\tremaining: 19.9s\n",
      "125:\tlearn: 0.2122994\ttotal: 1m 40s\tremaining: 19.1s\n",
      "126:\tlearn: 0.2113228\ttotal: 1m 41s\tremaining: 18.3s\n",
      "127:\tlearn: 0.2103521\ttotal: 1m 41s\tremaining: 17.5s\n",
      "128:\tlearn: 0.2093529\ttotal: 1m 42s\tremaining: 16.7s\n",
      "129:\tlearn: 0.2089358\ttotal: 1m 43s\tremaining: 15.9s\n",
      "130:\tlearn: 0.2083671\ttotal: 1m 44s\tremaining: 15.1s\n",
      "131:\tlearn: 0.2074272\ttotal: 1m 45s\tremaining: 14.3s\n",
      "132:\tlearn: 0.2069425\ttotal: 1m 45s\tremaining: 13.5s\n",
      "133:\tlearn: 0.2060528\ttotal: 1m 46s\tremaining: 12.7s\n",
      "134:\tlearn: 0.2055548\ttotal: 1m 47s\tremaining: 11.9s\n",
      "135:\tlearn: 0.2047506\ttotal: 1m 48s\tremaining: 11.1s\n",
      "136:\tlearn: 0.2037936\ttotal: 1m 48s\tremaining: 10.3s\n",
      "137:\tlearn: 0.2033802\ttotal: 1m 49s\tremaining: 9.54s\n",
      "138:\tlearn: 0.2028687\ttotal: 1m 50s\tremaining: 8.74s\n",
      "139:\tlearn: 0.2023582\ttotal: 1m 51s\tremaining: 7.94s\n",
      "140:\tlearn: 0.2019531\ttotal: 1m 51s\tremaining: 7.14s\n",
      "141:\tlearn: 0.2013739\ttotal: 1m 52s\tremaining: 6.35s\n",
      "142:\tlearn: 0.2009346\ttotal: 1m 53s\tremaining: 5.56s\n",
      "143:\tlearn: 0.2005351\ttotal: 1m 54s\tremaining: 4.77s\n",
      "144:\tlearn: 0.1989572\ttotal: 1m 55s\tremaining: 3.98s\n",
      "145:\tlearn: 0.1979728\ttotal: 1m 56s\tremaining: 3.19s\n",
      "146:\tlearn: 0.1975893\ttotal: 1m 57s\tremaining: 2.39s\n",
      "147:\tlearn: 0.1965975\ttotal: 1m 57s\tremaining: 1.59s\n",
      "148:\tlearn: 0.1958786\ttotal: 1m 58s\tremaining: 797ms\n",
      "149:\tlearn: 0.1951151\ttotal: 1m 59s\tremaining: 0us\n",
      "[CV 1/3] END .............catboostclassifier__iterations=150; total time= 2.1min\n",
      "Learning rate set to 0.25072\n",
      "0:\tlearn: 0.6152820\ttotal: 1.17s\tremaining: 2m 54s\n",
      "1:\tlearn: 0.5829940\ttotal: 2.02s\tremaining: 2m 29s\n",
      "2:\tlearn: 0.5567949\ttotal: 2.85s\tremaining: 2m 19s\n",
      "3:\tlearn: 0.5320838\ttotal: 3.7s\tremaining: 2m 15s\n",
      "4:\tlearn: 0.5163553\ttotal: 4.56s\tremaining: 2m 12s\n",
      "5:\tlearn: 0.5005043\ttotal: 5.42s\tremaining: 2m 10s\n",
      "6:\tlearn: 0.4891344\ttotal: 6.27s\tremaining: 2m 8s\n",
      "7:\tlearn: 0.4767850\ttotal: 7.14s\tremaining: 2m 6s\n",
      "8:\tlearn: 0.4690812\ttotal: 7.96s\tremaining: 2m 4s\n",
      "9:\tlearn: 0.4564002\ttotal: 8.78s\tremaining: 2m 2s\n",
      "10:\tlearn: 0.4493750\ttotal: 9.56s\tremaining: 2m\n",
      "11:\tlearn: 0.4438005\ttotal: 10.3s\tremaining: 1m 59s\n",
      "12:\tlearn: 0.4374315\ttotal: 11.1s\tremaining: 1m 57s\n",
      "13:\tlearn: 0.4329350\ttotal: 11.9s\tremaining: 1m 55s\n",
      "14:\tlearn: 0.4293655\ttotal: 12.7s\tremaining: 1m 54s\n",
      "15:\tlearn: 0.4243490\ttotal: 13.5s\tremaining: 1m 53s\n",
      "16:\tlearn: 0.4195337\ttotal: 14.3s\tremaining: 1m 52s\n",
      "17:\tlearn: 0.4143990\ttotal: 15.2s\tremaining: 1m 51s\n",
      "18:\tlearn: 0.4091180\ttotal: 16s\tremaining: 1m 50s\n",
      "19:\tlearn: 0.4041707\ttotal: 16.8s\tremaining: 1m 49s\n",
      "20:\tlearn: 0.3994766\ttotal: 17.8s\tremaining: 1m 49s\n",
      "21:\tlearn: 0.3971138\ttotal: 18.6s\tremaining: 1m 48s\n",
      "22:\tlearn: 0.3944137\ttotal: 19.4s\tremaining: 1m 47s\n",
      "23:\tlearn: 0.3911958\ttotal: 20.2s\tremaining: 1m 45s\n",
      "24:\tlearn: 0.3884931\ttotal: 21s\tremaining: 1m 44s\n",
      "25:\tlearn: 0.3837526\ttotal: 21.8s\tremaining: 1m 43s\n",
      "26:\tlearn: 0.3818448\ttotal: 22.6s\tremaining: 1m 42s\n",
      "27:\tlearn: 0.3794015\ttotal: 23.3s\tremaining: 1m 41s\n",
      "28:\tlearn: 0.3777091\ttotal: 24.1s\tremaining: 1m 40s\n",
      "29:\tlearn: 0.3752876\ttotal: 24.9s\tremaining: 1m 39s\n",
      "30:\tlearn: 0.3728741\ttotal: 25.7s\tremaining: 1m 38s\n",
      "31:\tlearn: 0.3705921\ttotal: 26.5s\tremaining: 1m 37s\n",
      "32:\tlearn: 0.3677461\ttotal: 27.3s\tremaining: 1m 36s\n",
      "33:\tlearn: 0.3649798\ttotal: 28.1s\tremaining: 1m 35s\n",
      "34:\tlearn: 0.3635176\ttotal: 28.9s\tremaining: 1m 34s\n",
      "35:\tlearn: 0.3613755\ttotal: 29.7s\tremaining: 1m 34s\n",
      "36:\tlearn: 0.3597979\ttotal: 30.5s\tremaining: 1m 33s\n",
      "37:\tlearn: 0.3572531\ttotal: 31.4s\tremaining: 1m 32s\n",
      "38:\tlearn: 0.3552591\ttotal: 32.1s\tremaining: 1m 31s\n",
      "39:\tlearn: 0.3518083\ttotal: 33s\tremaining: 1m 30s\n",
      "40:\tlearn: 0.3504906\ttotal: 33.7s\tremaining: 1m 29s\n",
      "41:\tlearn: 0.3480104\ttotal: 34.6s\tremaining: 1m 28s\n",
      "42:\tlearn: 0.3446043\ttotal: 35.5s\tremaining: 1m 28s\n",
      "43:\tlearn: 0.3411388\ttotal: 36.3s\tremaining: 1m 27s\n",
      "44:\tlearn: 0.3385036\ttotal: 37s\tremaining: 1m 26s\n",
      "45:\tlearn: 0.3360910\ttotal: 37.8s\tremaining: 1m 25s\n",
      "46:\tlearn: 0.3318063\ttotal: 38.6s\tremaining: 1m 24s\n",
      "47:\tlearn: 0.3285137\ttotal: 39.4s\tremaining: 1m 23s\n",
      "48:\tlearn: 0.3263772\ttotal: 40.2s\tremaining: 1m 22s\n",
      "49:\tlearn: 0.3242699\ttotal: 41s\tremaining: 1m 21s\n",
      "50:\tlearn: 0.3218372\ttotal: 41.7s\tremaining: 1m 20s\n",
      "51:\tlearn: 0.3196160\ttotal: 42.5s\tremaining: 1m 20s\n",
      "52:\tlearn: 0.3178698\ttotal: 43.3s\tremaining: 1m 19s\n",
      "53:\tlearn: 0.3157578\ttotal: 44.1s\tremaining: 1m 18s\n",
      "54:\tlearn: 0.3135562\ttotal: 44.9s\tremaining: 1m 17s\n",
      "55:\tlearn: 0.3114632\ttotal: 45.7s\tremaining: 1m 16s\n",
      "56:\tlearn: 0.3092961\ttotal: 46.5s\tremaining: 1m 15s\n",
      "57:\tlearn: 0.3076560\ttotal: 47.3s\tremaining: 1m 15s\n",
      "58:\tlearn: 0.3061721\ttotal: 48.1s\tremaining: 1m 14s\n",
      "59:\tlearn: 0.3040438\ttotal: 48.9s\tremaining: 1m 13s\n",
      "60:\tlearn: 0.3028018\ttotal: 49.6s\tremaining: 1m 12s\n",
      "61:\tlearn: 0.3003390\ttotal: 50.5s\tremaining: 1m 11s\n",
      "62:\tlearn: 0.2985542\ttotal: 51.3s\tremaining: 1m 10s\n",
      "63:\tlearn: 0.2969937\ttotal: 52s\tremaining: 1m 9s\n",
      "64:\tlearn: 0.2947346\ttotal: 52.8s\tremaining: 1m 9s\n",
      "65:\tlearn: 0.2926376\ttotal: 53.6s\tremaining: 1m 8s\n",
      "66:\tlearn: 0.2903838\ttotal: 54.4s\tremaining: 1m 7s\n",
      "67:\tlearn: 0.2892384\ttotal: 55.1s\tremaining: 1m 6s\n",
      "68:\tlearn: 0.2859932\ttotal: 56s\tremaining: 1m 5s\n",
      "69:\tlearn: 0.2846216\ttotal: 56.8s\tremaining: 1m 4s\n",
      "70:\tlearn: 0.2830672\ttotal: 57.7s\tremaining: 1m 4s\n",
      "71:\tlearn: 0.2814763\ttotal: 58.4s\tremaining: 1m 3s\n",
      "72:\tlearn: 0.2778237\ttotal: 59.2s\tremaining: 1m 2s\n",
      "73:\tlearn: 0.2758879\ttotal: 1m\tremaining: 1m 1s\n",
      "74:\tlearn: 0.2743946\ttotal: 1m\tremaining: 1m\n",
      "75:\tlearn: 0.2728306\ttotal: 1m 1s\tremaining: 60s\n",
      "76:\tlearn: 0.2711210\ttotal: 1m 2s\tremaining: 59.1s\n",
      "77:\tlearn: 0.2698830\ttotal: 1m 3s\tremaining: 58.3s\n",
      "78:\tlearn: 0.2682585\ttotal: 1m 3s\tremaining: 57.5s\n",
      "79:\tlearn: 0.2672678\ttotal: 1m 4s\tremaining: 56.7s\n",
      "80:\tlearn: 0.2656372\ttotal: 1m 5s\tremaining: 55.8s\n",
      "81:\tlearn: 0.2641081\ttotal: 1m 6s\tremaining: 55s\n",
      "82:\tlearn: 0.2629880\ttotal: 1m 7s\tremaining: 54.2s\n",
      "83:\tlearn: 0.2619158\ttotal: 1m 7s\tremaining: 53.4s\n",
      "84:\tlearn: 0.2611324\ttotal: 1m 8s\tremaining: 52.5s\n",
      "85:\tlearn: 0.2595689\ttotal: 1m 9s\tremaining: 51.7s\n",
      "86:\tlearn: 0.2579507\ttotal: 1m 10s\tremaining: 50.9s\n",
      "87:\tlearn: 0.2566528\ttotal: 1m 11s\tremaining: 50.1s\n",
      "88:\tlearn: 0.2555700\ttotal: 1m 11s\tremaining: 49.3s\n",
      "89:\tlearn: 0.2542788\ttotal: 1m 12s\tremaining: 48.5s\n",
      "90:\tlearn: 0.2530964\ttotal: 1m 13s\tremaining: 47.7s\n",
      "91:\tlearn: 0.2514095\ttotal: 1m 14s\tremaining: 47s\n",
      "92:\tlearn: 0.2504754\ttotal: 1m 15s\tremaining: 46.2s\n",
      "93:\tlearn: 0.2480984\ttotal: 1m 16s\tremaining: 45.3s\n",
      "94:\tlearn: 0.2469084\ttotal: 1m 16s\tremaining: 44.5s\n",
      "95:\tlearn: 0.2451891\ttotal: 1m 17s\tremaining: 43.8s\n",
      "96:\tlearn: 0.2439574\ttotal: 1m 18s\tremaining: 43s\n",
      "97:\tlearn: 0.2427948\ttotal: 1m 19s\tremaining: 42.1s\n",
      "98:\tlearn: 0.2421543\ttotal: 1m 20s\tremaining: 41.3s\n",
      "99:\tlearn: 0.2409878\ttotal: 1m 20s\tremaining: 40.5s\n",
      "100:\tlearn: 0.2402509\ttotal: 1m 21s\tremaining: 39.6s\n",
      "101:\tlearn: 0.2389868\ttotal: 1m 22s\tremaining: 38.8s\n",
      "102:\tlearn: 0.2378306\ttotal: 1m 23s\tremaining: 38s\n",
      "103:\tlearn: 0.2371612\ttotal: 1m 24s\tremaining: 37.2s\n",
      "104:\tlearn: 0.2355538\ttotal: 1m 24s\tremaining: 36.4s\n",
      "105:\tlearn: 0.2347507\ttotal: 1m 25s\tremaining: 35.6s\n",
      "106:\tlearn: 0.2342037\ttotal: 1m 26s\tremaining: 34.8s\n",
      "107:\tlearn: 0.2332912\ttotal: 1m 27s\tremaining: 33.9s\n",
      "108:\tlearn: 0.2326365\ttotal: 1m 28s\tremaining: 33.1s\n",
      "109:\tlearn: 0.2315608\ttotal: 1m 28s\tremaining: 32.3s\n",
      "110:\tlearn: 0.2303572\ttotal: 1m 29s\tremaining: 31.5s\n",
      "111:\tlearn: 0.2294946\ttotal: 1m 30s\tremaining: 30.7s\n",
      "112:\tlearn: 0.2285007\ttotal: 1m 31s\tremaining: 29.9s\n",
      "113:\tlearn: 0.2278874\ttotal: 1m 32s\tremaining: 29.1s\n",
      "114:\tlearn: 0.2273857\ttotal: 1m 32s\tremaining: 28.3s\n",
      "115:\tlearn: 0.2259424\ttotal: 1m 33s\tremaining: 27.5s\n",
      "116:\tlearn: 0.2254428\ttotal: 1m 34s\tremaining: 26.7s\n",
      "117:\tlearn: 0.2244372\ttotal: 1m 35s\tremaining: 25.9s\n",
      "118:\tlearn: 0.2231289\ttotal: 1m 36s\tremaining: 25.2s\n",
      "119:\tlearn: 0.2222182\ttotal: 1m 37s\tremaining: 24.4s\n",
      "120:\tlearn: 0.2215658\ttotal: 1m 38s\tremaining: 23.6s\n",
      "121:\tlearn: 0.2210786\ttotal: 1m 39s\tremaining: 22.8s\n",
      "122:\tlearn: 0.2199752\ttotal: 1m 40s\tremaining: 22s\n",
      "123:\tlearn: 0.2193028\ttotal: 1m 41s\tremaining: 21.2s\n",
      "124:\tlearn: 0.2182619\ttotal: 1m 41s\tremaining: 20.4s\n",
      "125:\tlearn: 0.2175150\ttotal: 1m 42s\tremaining: 19.6s\n",
      "126:\tlearn: 0.2167312\ttotal: 1m 43s\tremaining: 18.8s\n",
      "127:\tlearn: 0.2162529\ttotal: 1m 44s\tremaining: 18s\n",
      "128:\tlearn: 0.2151963\ttotal: 1m 45s\tremaining: 17.1s\n",
      "129:\tlearn: 0.2144372\ttotal: 1m 46s\tremaining: 16.3s\n",
      "130:\tlearn: 0.2137177\ttotal: 1m 46s\tremaining: 15.5s\n",
      "131:\tlearn: 0.2128322\ttotal: 1m 47s\tremaining: 14.7s\n",
      "132:\tlearn: 0.2123936\ttotal: 1m 48s\tremaining: 13.9s\n",
      "133:\tlearn: 0.2113560\ttotal: 1m 49s\tremaining: 13s\n",
      "134:\tlearn: 0.2106189\ttotal: 1m 49s\tremaining: 12.2s\n",
      "135:\tlearn: 0.2099381\ttotal: 1m 50s\tremaining: 11.4s\n",
      "136:\tlearn: 0.2095165\ttotal: 1m 51s\tremaining: 10.6s\n",
      "137:\tlearn: 0.2089947\ttotal: 1m 52s\tremaining: 9.76s\n",
      "138:\tlearn: 0.2085971\ttotal: 1m 53s\tremaining: 8.94s\n",
      "139:\tlearn: 0.2076586\ttotal: 1m 53s\tremaining: 8.13s\n",
      "140:\tlearn: 0.2068059\ttotal: 1m 54s\tremaining: 7.31s\n",
      "141:\tlearn: 0.2061503\ttotal: 1m 55s\tremaining: 6.5s\n",
      "142:\tlearn: 0.2057465\ttotal: 1m 56s\tremaining: 5.69s\n",
      "143:\tlearn: 0.2049904\ttotal: 1m 56s\tremaining: 4.87s\n",
      "144:\tlearn: 0.2039408\ttotal: 1m 57s\tremaining: 4.06s\n",
      "145:\tlearn: 0.2032941\ttotal: 1m 58s\tremaining: 3.25s\n",
      "146:\tlearn: 0.2025280\ttotal: 1m 59s\tremaining: 2.44s\n",
      "147:\tlearn: 0.2021257\ttotal: 2m\tremaining: 1.62s\n",
      "148:\tlearn: 0.2013044\ttotal: 2m\tremaining: 812ms\n",
      "149:\tlearn: 0.2009169\ttotal: 2m 1s\tremaining: 0us\n",
      "[CV 2/3] END .............catboostclassifier__iterations=150; total time= 2.2min\n",
      "Learning rate set to 0.25072\n",
      "0:\tlearn: 0.6157603\ttotal: 1.15s\tremaining: 2m 51s\n",
      "1:\tlearn: 0.5715912\ttotal: 2s\tremaining: 2m 27s\n",
      "2:\tlearn: 0.5483756\ttotal: 2.85s\tremaining: 2m 19s\n",
      "3:\tlearn: 0.5284154\ttotal: 3.73s\tremaining: 2m 16s\n",
      "4:\tlearn: 0.5137860\ttotal: 4.59s\tremaining: 2m 13s\n",
      "5:\tlearn: 0.4929590\ttotal: 5.42s\tremaining: 2m 10s\n",
      "6:\tlearn: 0.4799766\ttotal: 6.37s\tremaining: 2m 10s\n",
      "7:\tlearn: 0.4716482\ttotal: 7.24s\tremaining: 2m 8s\n",
      "8:\tlearn: 0.4621008\ttotal: 8.06s\tremaining: 2m 6s\n",
      "9:\tlearn: 0.4550667\ttotal: 8.89s\tremaining: 2m 4s\n",
      "10:\tlearn: 0.4460142\ttotal: 9.68s\tremaining: 2m 2s\n",
      "11:\tlearn: 0.4399630\ttotal: 10.5s\tremaining: 2m\n",
      "12:\tlearn: 0.4325633\ttotal: 11.3s\tremaining: 1m 58s\n",
      "13:\tlearn: 0.4281766\ttotal: 12.1s\tremaining: 1m 57s\n",
      "14:\tlearn: 0.4190647\ttotal: 12.9s\tremaining: 1m 55s\n",
      "15:\tlearn: 0.4137329\ttotal: 13.7s\tremaining: 1m 54s\n",
      "16:\tlearn: 0.4119496\ttotal: 14.5s\tremaining: 1m 53s\n",
      "17:\tlearn: 0.4101682\ttotal: 15.3s\tremaining: 1m 52s\n",
      "18:\tlearn: 0.4050307\ttotal: 16.2s\tremaining: 1m 51s\n",
      "19:\tlearn: 0.4019469\ttotal: 17s\tremaining: 1m 50s\n",
      "20:\tlearn: 0.3978148\ttotal: 17.8s\tremaining: 1m 49s\n",
      "21:\tlearn: 0.3933414\ttotal: 18.6s\tremaining: 1m 48s\n",
      "22:\tlearn: 0.3907327\ttotal: 19.4s\tremaining: 1m 47s\n",
      "23:\tlearn: 0.3868994\ttotal: 20.3s\tremaining: 1m 46s\n",
      "24:\tlearn: 0.3844444\ttotal: 21.1s\tremaining: 1m 45s\n",
      "25:\tlearn: 0.3779961\ttotal: 21.9s\tremaining: 1m 44s\n",
      "26:\tlearn: 0.3744003\ttotal: 22.7s\tremaining: 1m 43s\n",
      "27:\tlearn: 0.3717334\ttotal: 23.5s\tremaining: 1m 42s\n",
      "28:\tlearn: 0.3681944\ttotal: 24.3s\tremaining: 1m 41s\n",
      "29:\tlearn: 0.3656076\ttotal: 25.1s\tremaining: 1m 40s\n",
      "30:\tlearn: 0.3632699\ttotal: 26s\tremaining: 1m 39s\n",
      "31:\tlearn: 0.3622023\ttotal: 26.8s\tremaining: 1m 38s\n",
      "32:\tlearn: 0.3607520\ttotal: 27.6s\tremaining: 1m 37s\n",
      "33:\tlearn: 0.3580557\ttotal: 28.4s\tremaining: 1m 37s\n",
      "34:\tlearn: 0.3553345\ttotal: 29.3s\tremaining: 1m 36s\n",
      "35:\tlearn: 0.3520213\ttotal: 30.1s\tremaining: 1m 35s\n",
      "36:\tlearn: 0.3495176\ttotal: 30.9s\tremaining: 1m 34s\n",
      "37:\tlearn: 0.3476107\ttotal: 31.7s\tremaining: 1m 33s\n",
      "38:\tlearn: 0.3456513\ttotal: 32.6s\tremaining: 1m 32s\n",
      "39:\tlearn: 0.3432322\ttotal: 33.5s\tremaining: 1m 32s\n",
      "40:\tlearn: 0.3406856\ttotal: 34.3s\tremaining: 1m 31s\n",
      "41:\tlearn: 0.3383115\ttotal: 35.1s\tremaining: 1m 30s\n",
      "42:\tlearn: 0.3357100\ttotal: 35.9s\tremaining: 1m 29s\n",
      "43:\tlearn: 0.3330072\ttotal: 36.7s\tremaining: 1m 28s\n",
      "44:\tlearn: 0.3299367\ttotal: 37.5s\tremaining: 1m 27s\n",
      "45:\tlearn: 0.3276118\ttotal: 38.3s\tremaining: 1m 26s\n",
      "46:\tlearn: 0.3247317\ttotal: 39.2s\tremaining: 1m 25s\n",
      "47:\tlearn: 0.3218394\ttotal: 40s\tremaining: 1m 24s\n",
      "48:\tlearn: 0.3197133\ttotal: 40.8s\tremaining: 1m 24s\n",
      "49:\tlearn: 0.3176665\ttotal: 41.5s\tremaining: 1m 23s\n",
      "50:\tlearn: 0.3154700\ttotal: 42.4s\tremaining: 1m 22s\n",
      "51:\tlearn: 0.3131126\ttotal: 43.2s\tremaining: 1m 21s\n",
      "52:\tlearn: 0.3102323\ttotal: 44s\tremaining: 1m 20s\n",
      "53:\tlearn: 0.3072160\ttotal: 44.8s\tremaining: 1m 19s\n",
      "54:\tlearn: 0.3042520\ttotal: 45.6s\tremaining: 1m 18s\n",
      "55:\tlearn: 0.3022598\ttotal: 46.4s\tremaining: 1m 17s\n",
      "56:\tlearn: 0.3003174\ttotal: 47.3s\tremaining: 1m 17s\n",
      "57:\tlearn: 0.2986481\ttotal: 48.1s\tremaining: 1m 16s\n",
      "58:\tlearn: 0.2968184\ttotal: 48.9s\tremaining: 1m 15s\n",
      "59:\tlearn: 0.2946197\ttotal: 49.7s\tremaining: 1m 14s\n",
      "60:\tlearn: 0.2927477\ttotal: 50.5s\tremaining: 1m 13s\n",
      "61:\tlearn: 0.2908489\ttotal: 51.3s\tremaining: 1m 12s\n",
      "62:\tlearn: 0.2886924\ttotal: 52.1s\tremaining: 1m 12s\n",
      "63:\tlearn: 0.2852776\ttotal: 53s\tremaining: 1m 11s\n",
      "64:\tlearn: 0.2837624\ttotal: 53.7s\tremaining: 1m 10s\n",
      "65:\tlearn: 0.2822928\ttotal: 54.5s\tremaining: 1m 9s\n",
      "66:\tlearn: 0.2810485\ttotal: 55.3s\tremaining: 1m 8s\n",
      "67:\tlearn: 0.2792501\ttotal: 56.1s\tremaining: 1m 7s\n",
      "68:\tlearn: 0.2782919\ttotal: 56.9s\tremaining: 1m 6s\n",
      "69:\tlearn: 0.2767341\ttotal: 57.7s\tremaining: 1m 5s\n",
      "70:\tlearn: 0.2750921\ttotal: 58.5s\tremaining: 1m 5s\n",
      "71:\tlearn: 0.2727795\ttotal: 59.4s\tremaining: 1m 4s\n",
      "72:\tlearn: 0.2716151\ttotal: 1m\tremaining: 1m 3s\n",
      "73:\tlearn: 0.2704576\ttotal: 1m\tremaining: 1m 2s\n",
      "74:\tlearn: 0.2684107\ttotal: 1m 1s\tremaining: 1m 1s\n",
      "75:\tlearn: 0.2672078\ttotal: 1m 2s\tremaining: 1m\n",
      "76:\tlearn: 0.2654738\ttotal: 1m 3s\tremaining: 1m\n",
      "77:\tlearn: 0.2640860\ttotal: 1m 4s\tremaining: 59.4s\n",
      "78:\tlearn: 0.2630673\ttotal: 1m 5s\tremaining: 58.5s\n",
      "79:\tlearn: 0.2612813\ttotal: 1m 6s\tremaining: 57.8s\n",
      "80:\tlearn: 0.2603077\ttotal: 1m 6s\tremaining: 57s\n",
      "81:\tlearn: 0.2586089\ttotal: 1m 7s\tremaining: 56.2s\n",
      "82:\tlearn: 0.2568074\ttotal: 1m 8s\tremaining: 55.3s\n",
      "83:\tlearn: 0.2557467\ttotal: 1m 9s\tremaining: 54.5s\n",
      "84:\tlearn: 0.2544398\ttotal: 1m 10s\tremaining: 53.7s\n",
      "85:\tlearn: 0.2534094\ttotal: 1m 10s\tremaining: 52.8s\n",
      "86:\tlearn: 0.2519530\ttotal: 1m 11s\tremaining: 52s\n",
      "87:\tlearn: 0.2507093\ttotal: 1m 12s\tremaining: 51.1s\n",
      "88:\tlearn: 0.2499395\ttotal: 1m 13s\tremaining: 50.2s\n",
      "89:\tlearn: 0.2487144\ttotal: 1m 14s\tremaining: 49.4s\n",
      "90:\tlearn: 0.2480115\ttotal: 1m 14s\tremaining: 48.6s\n",
      "91:\tlearn: 0.2458539\ttotal: 1m 15s\tremaining: 47.8s\n",
      "92:\tlearn: 0.2451988\ttotal: 1m 16s\tremaining: 46.9s\n",
      "93:\tlearn: 0.2434358\ttotal: 1m 17s\tremaining: 46.1s\n",
      "94:\tlearn: 0.2425273\ttotal: 1m 18s\tremaining: 45.2s\n",
      "95:\tlearn: 0.2414608\ttotal: 1m 18s\tremaining: 44.4s\n",
      "96:\tlearn: 0.2400966\ttotal: 1m 19s\tremaining: 43.6s\n",
      "97:\tlearn: 0.2388125\ttotal: 1m 20s\tremaining: 42.7s\n",
      "98:\tlearn: 0.2382284\ttotal: 1m 21s\tremaining: 41.9s\n",
      "99:\tlearn: 0.2373824\ttotal: 1m 22s\tremaining: 41.1s\n",
      "100:\tlearn: 0.2361533\ttotal: 1m 22s\tremaining: 40.3s\n",
      "101:\tlearn: 0.2353644\ttotal: 1m 23s\tremaining: 39.4s\n",
      "102:\tlearn: 0.2342770\ttotal: 1m 24s\tremaining: 38.6s\n",
      "103:\tlearn: 0.2337066\ttotal: 1m 25s\tremaining: 37.7s\n",
      "104:\tlearn: 0.2328044\ttotal: 1m 26s\tremaining: 36.9s\n",
      "105:\tlearn: 0.2318993\ttotal: 1m 26s\tremaining: 36.1s\n",
      "106:\tlearn: 0.2309102\ttotal: 1m 27s\tremaining: 35.3s\n",
      "107:\tlearn: 0.2296120\ttotal: 1m 28s\tremaining: 34.4s\n",
      "108:\tlearn: 0.2290777\ttotal: 1m 29s\tremaining: 33.6s\n",
      "109:\tlearn: 0.2277908\ttotal: 1m 30s\tremaining: 32.8s\n",
      "110:\tlearn: 0.2269299\ttotal: 1m 30s\tremaining: 32s\n",
      "111:\tlearn: 0.2259645\ttotal: 1m 31s\tremaining: 31.1s\n",
      "112:\tlearn: 0.2251093\ttotal: 1m 32s\tremaining: 30.3s\n",
      "113:\tlearn: 0.2240996\ttotal: 1m 33s\tremaining: 29.5s\n",
      "114:\tlearn: 0.2229989\ttotal: 1m 34s\tremaining: 28.7s\n",
      "115:\tlearn: 0.2224904\ttotal: 1m 35s\tremaining: 27.9s\n",
      "116:\tlearn: 0.2219744\ttotal: 1m 35s\tremaining: 27s\n",
      "117:\tlearn: 0.2204852\ttotal: 1m 36s\tremaining: 26.2s\n",
      "118:\tlearn: 0.2196203\ttotal: 1m 37s\tremaining: 25.4s\n",
      "119:\tlearn: 0.2183437\ttotal: 1m 38s\tremaining: 24.6s\n",
      "120:\tlearn: 0.2178543\ttotal: 1m 39s\tremaining: 23.8s\n",
      "121:\tlearn: 0.2168181\ttotal: 1m 39s\tremaining: 22.9s\n",
      "122:\tlearn: 0.2157564\ttotal: 1m 40s\tremaining: 22.1s\n",
      "123:\tlearn: 0.2148711\ttotal: 1m 41s\tremaining: 21.3s\n",
      "124:\tlearn: 0.2142680\ttotal: 1m 42s\tremaining: 20.5s\n",
      "125:\tlearn: 0.2136433\ttotal: 1m 43s\tremaining: 19.7s\n",
      "126:\tlearn: 0.2131952\ttotal: 1m 43s\tremaining: 18.8s\n",
      "127:\tlearn: 0.2123707\ttotal: 1m 44s\tremaining: 18s\n",
      "128:\tlearn: 0.2114534\ttotal: 1m 45s\tremaining: 17.2s\n",
      "129:\tlearn: 0.2101930\ttotal: 1m 46s\tremaining: 16.4s\n",
      "130:\tlearn: 0.2093816\ttotal: 1m 47s\tremaining: 15.6s\n",
      "131:\tlearn: 0.2086992\ttotal: 1m 48s\tremaining: 14.7s\n",
      "132:\tlearn: 0.2082646\ttotal: 1m 48s\tremaining: 13.9s\n",
      "133:\tlearn: 0.2073824\ttotal: 1m 49s\tremaining: 13.1s\n",
      "134:\tlearn: 0.2067963\ttotal: 1m 50s\tremaining: 12.3s\n",
      "135:\tlearn: 0.2060856\ttotal: 1m 51s\tremaining: 11.5s\n",
      "136:\tlearn: 0.2056661\ttotal: 1m 52s\tremaining: 10.6s\n",
      "137:\tlearn: 0.2046241\ttotal: 1m 52s\tremaining: 9.81s\n",
      "138:\tlearn: 0.2039179\ttotal: 1m 53s\tremaining: 8.99s\n",
      "139:\tlearn: 0.2030472\ttotal: 1m 54s\tremaining: 8.18s\n",
      "140:\tlearn: 0.2026325\ttotal: 1m 55s\tremaining: 7.36s\n",
      "141:\tlearn: 0.2020517\ttotal: 1m 56s\tremaining: 6.54s\n",
      "142:\tlearn: 0.2009609\ttotal: 1m 56s\tremaining: 5.72s\n",
      "143:\tlearn: 0.2000935\ttotal: 1m 57s\tremaining: 4.91s\n",
      "144:\tlearn: 0.1996525\ttotal: 1m 58s\tremaining: 4.09s\n",
      "145:\tlearn: 0.1992747\ttotal: 1m 59s\tremaining: 3.27s\n",
      "146:\tlearn: 0.1984845\ttotal: 2m\tremaining: 2.45s\n",
      "147:\tlearn: 0.1972202\ttotal: 2m\tremaining: 1.63s\n",
      "148:\tlearn: 0.1968406\ttotal: 2m 1s\tremaining: 817ms\n",
      "149:\tlearn: 0.1960336\ttotal: 2m 2s\tremaining: 0us\n",
      "[CV 3/3] END .............catboostclassifier__iterations=150; total time= 2.2min\n",
      "Learning rate set to 0.298112\n",
      "0:\tlearn: 0.5996457\ttotal: 1.58s\tremaining: 3m 55s\n",
      "1:\tlearn: 0.5604585\ttotal: 2.73s\tremaining: 3m 21s\n",
      "2:\tlearn: 0.5272179\ttotal: 3.88s\tremaining: 3m 10s\n",
      "3:\tlearn: 0.5006336\ttotal: 4.99s\tremaining: 3m 2s\n",
      "4:\tlearn: 0.4861221\ttotal: 6.22s\tremaining: 3m\n",
      "5:\tlearn: 0.4732356\ttotal: 7.39s\tremaining: 2m 57s\n",
      "6:\tlearn: 0.4646327\ttotal: 8.52s\tremaining: 2m 54s\n",
      "7:\tlearn: 0.4528530\ttotal: 9.63s\tremaining: 2m 50s\n",
      "8:\tlearn: 0.4427386\ttotal: 10.7s\tremaining: 2m 48s\n",
      "9:\tlearn: 0.4335103\ttotal: 11.8s\tremaining: 2m 45s\n",
      "10:\tlearn: 0.4265528\ttotal: 12.9s\tremaining: 2m 43s\n",
      "11:\tlearn: 0.4210065\ttotal: 14.1s\tremaining: 2m 41s\n",
      "12:\tlearn: 0.4129328\ttotal: 15.2s\tremaining: 2m 39s\n",
      "13:\tlearn: 0.4073856\ttotal: 16.3s\tremaining: 2m 38s\n",
      "14:\tlearn: 0.4002845\ttotal: 17.4s\tremaining: 2m 36s\n",
      "15:\tlearn: 0.3966357\ttotal: 18.6s\tremaining: 2m 35s\n",
      "16:\tlearn: 0.3932605\ttotal: 19.7s\tremaining: 2m 34s\n",
      "17:\tlearn: 0.3901280\ttotal: 20.9s\tremaining: 2m 33s\n",
      "18:\tlearn: 0.3848157\ttotal: 22s\tremaining: 2m 31s\n",
      "19:\tlearn: 0.3831560\ttotal: 23.1s\tremaining: 2m 30s\n",
      "20:\tlearn: 0.3815824\ttotal: 24.2s\tremaining: 2m 28s\n",
      "21:\tlearn: 0.3778982\ttotal: 25.3s\tremaining: 2m 27s\n",
      "22:\tlearn: 0.3741065\ttotal: 26.4s\tremaining: 2m 25s\n",
      "23:\tlearn: 0.3711439\ttotal: 27.5s\tremaining: 2m 24s\n",
      "24:\tlearn: 0.3687561\ttotal: 28.6s\tremaining: 2m 22s\n",
      "25:\tlearn: 0.3661807\ttotal: 29.7s\tremaining: 2m 21s\n",
      "26:\tlearn: 0.3629583\ttotal: 30.8s\tremaining: 2m 20s\n",
      "27:\tlearn: 0.3608242\ttotal: 31.9s\tremaining: 2m 19s\n",
      "28:\tlearn: 0.3575511\ttotal: 33.1s\tremaining: 2m 18s\n",
      "29:\tlearn: 0.3559651\ttotal: 34.3s\tremaining: 2m 17s\n",
      "30:\tlearn: 0.3539103\ttotal: 35.4s\tremaining: 2m 15s\n",
      "31:\tlearn: 0.3517670\ttotal: 36.6s\tremaining: 2m 14s\n",
      "32:\tlearn: 0.3485553\ttotal: 37.7s\tremaining: 2m 13s\n",
      "33:\tlearn: 0.3458683\ttotal: 38.9s\tremaining: 2m 12s\n",
      "34:\tlearn: 0.3430021\ttotal: 40s\tremaining: 2m 11s\n",
      "35:\tlearn: 0.3410096\ttotal: 41.1s\tremaining: 2m 10s\n",
      "36:\tlearn: 0.3380098\ttotal: 42.2s\tremaining: 2m 8s\n",
      "37:\tlearn: 0.3354617\ttotal: 43.3s\tremaining: 2m 7s\n",
      "38:\tlearn: 0.3319948\ttotal: 44.4s\tremaining: 2m 6s\n",
      "39:\tlearn: 0.3297779\ttotal: 45.5s\tremaining: 2m 5s\n",
      "40:\tlearn: 0.3257672\ttotal: 46.6s\tremaining: 2m 3s\n",
      "41:\tlearn: 0.3234788\ttotal: 47.7s\tremaining: 2m 2s\n",
      "42:\tlearn: 0.3209363\ttotal: 48.9s\tremaining: 2m 1s\n",
      "43:\tlearn: 0.3186255\ttotal: 50s\tremaining: 2m\n",
      "44:\tlearn: 0.3162585\ttotal: 51.2s\tremaining: 1m 59s\n",
      "45:\tlearn: 0.3138082\ttotal: 52.4s\tremaining: 1m 58s\n",
      "46:\tlearn: 0.3106861\ttotal: 53.5s\tremaining: 1m 57s\n",
      "47:\tlearn: 0.3086362\ttotal: 54.6s\tremaining: 1m 55s\n",
      "48:\tlearn: 0.3062064\ttotal: 55.7s\tremaining: 1m 54s\n",
      "49:\tlearn: 0.3036208\ttotal: 56.8s\tremaining: 1m 53s\n",
      "50:\tlearn: 0.3015123\ttotal: 57.9s\tremaining: 1m 52s\n",
      "51:\tlearn: 0.2972498\ttotal: 59.1s\tremaining: 1m 51s\n",
      "52:\tlearn: 0.2957693\ttotal: 1m\tremaining: 1m 50s\n",
      "53:\tlearn: 0.2940027\ttotal: 1m 1s\tremaining: 1m 48s\n",
      "54:\tlearn: 0.2926374\ttotal: 1m 2s\tremaining: 1m 47s\n",
      "55:\tlearn: 0.2913649\ttotal: 1m 3s\tremaining: 1m 46s\n",
      "56:\tlearn: 0.2893134\ttotal: 1m 4s\tremaining: 1m 45s\n",
      "57:\tlearn: 0.2878764\ttotal: 1m 5s\tremaining: 1m 44s\n",
      "58:\tlearn: 0.2860443\ttotal: 1m 6s\tremaining: 1m 43s\n",
      "59:\tlearn: 0.2843229\ttotal: 1m 7s\tremaining: 1m 41s\n",
      "60:\tlearn: 0.2826095\ttotal: 1m 9s\tremaining: 1m 40s\n",
      "61:\tlearn: 0.2804107\ttotal: 1m 10s\tremaining: 1m 39s\n",
      "62:\tlearn: 0.2790587\ttotal: 1m 11s\tremaining: 1m 38s\n",
      "63:\tlearn: 0.2777608\ttotal: 1m 12s\tremaining: 1m 37s\n",
      "64:\tlearn: 0.2762901\ttotal: 1m 13s\tremaining: 1m 36s\n",
      "65:\tlearn: 0.2753308\ttotal: 1m 15s\tremaining: 1m 35s\n",
      "66:\tlearn: 0.2734005\ttotal: 1m 16s\tremaining: 1m 34s\n",
      "67:\tlearn: 0.2720908\ttotal: 1m 17s\tremaining: 1m 33s\n",
      "68:\tlearn: 0.2706604\ttotal: 1m 18s\tremaining: 1m 32s\n",
      "69:\tlearn: 0.2692856\ttotal: 1m 19s\tremaining: 1m 31s\n",
      "70:\tlearn: 0.2681189\ttotal: 1m 21s\tremaining: 1m 30s\n",
      "71:\tlearn: 0.2672239\ttotal: 1m 22s\tremaining: 1m 28s\n",
      "72:\tlearn: 0.2663078\ttotal: 1m 23s\tremaining: 1m 27s\n",
      "73:\tlearn: 0.2645454\ttotal: 1m 24s\tremaining: 1m 26s\n",
      "74:\tlearn: 0.2635133\ttotal: 1m 25s\tremaining: 1m 25s\n",
      "75:\tlearn: 0.2619668\ttotal: 1m 26s\tremaining: 1m 24s\n",
      "76:\tlearn: 0.2608179\ttotal: 1m 27s\tremaining: 1m 23s\n",
      "77:\tlearn: 0.2597917\ttotal: 1m 28s\tremaining: 1m 21s\n",
      "78:\tlearn: 0.2584581\ttotal: 1m 29s\tremaining: 1m 20s\n",
      "79:\tlearn: 0.2577419\ttotal: 1m 30s\tremaining: 1m 19s\n",
      "80:\tlearn: 0.2565596\ttotal: 1m 31s\tremaining: 1m 18s\n",
      "81:\tlearn: 0.2555335\ttotal: 1m 33s\tremaining: 1m 17s\n",
      "82:\tlearn: 0.2545009\ttotal: 1m 34s\tremaining: 1m 16s\n",
      "83:\tlearn: 0.2531720\ttotal: 1m 35s\tremaining: 1m 14s\n",
      "84:\tlearn: 0.2517508\ttotal: 1m 36s\tremaining: 1m 13s\n",
      "85:\tlearn: 0.2507156\ttotal: 1m 37s\tremaining: 1m 12s\n",
      "86:\tlearn: 0.2496775\ttotal: 1m 38s\tremaining: 1m 11s\n",
      "87:\tlearn: 0.2482287\ttotal: 1m 39s\tremaining: 1m 10s\n",
      "88:\tlearn: 0.2469868\ttotal: 1m 40s\tremaining: 1m 9s\n",
      "89:\tlearn: 0.2463855\ttotal: 1m 42s\tremaining: 1m 8s\n",
      "90:\tlearn: 0.2453893\ttotal: 1m 43s\tremaining: 1m 6s\n",
      "91:\tlearn: 0.2431241\ttotal: 1m 44s\tremaining: 1m 5s\n",
      "92:\tlearn: 0.2424381\ttotal: 1m 45s\tremaining: 1m 4s\n",
      "93:\tlearn: 0.2415283\ttotal: 1m 46s\tremaining: 1m 3s\n",
      "94:\tlearn: 0.2401629\ttotal: 1m 47s\tremaining: 1m 2s\n",
      "95:\tlearn: 0.2394181\ttotal: 1m 48s\tremaining: 1m 1s\n",
      "96:\tlearn: 0.2384064\ttotal: 1m 49s\tremaining: 59.9s\n",
      "97:\tlearn: 0.2374580\ttotal: 1m 51s\tremaining: 58.9s\n",
      "98:\tlearn: 0.2368347\ttotal: 1m 52s\tremaining: 57.8s\n",
      "99:\tlearn: 0.2358914\ttotal: 1m 53s\tremaining: 56.6s\n",
      "100:\tlearn: 0.2352898\ttotal: 1m 54s\tremaining: 55.4s\n",
      "101:\tlearn: 0.2347843\ttotal: 1m 55s\tremaining: 54.2s\n",
      "102:\tlearn: 0.2337752\ttotal: 1m 56s\tremaining: 53.1s\n",
      "103:\tlearn: 0.2326267\ttotal: 1m 57s\tremaining: 52s\n",
      "104:\tlearn: 0.2315453\ttotal: 1m 58s\tremaining: 50.8s\n",
      "105:\tlearn: 0.2308658\ttotal: 1m 59s\tremaining: 49.7s\n",
      "106:\tlearn: 0.2289786\ttotal: 2m\tremaining: 48.6s\n",
      "107:\tlearn: 0.2271884\ttotal: 2m 1s\tremaining: 47.4s\n",
      "108:\tlearn: 0.2264016\ttotal: 2m 3s\tremaining: 46.3s\n",
      "109:\tlearn: 0.2259086\ttotal: 2m 4s\tremaining: 45.2s\n",
      "110:\tlearn: 0.2243708\ttotal: 2m 5s\tremaining: 44s\n",
      "111:\tlearn: 0.2235872\ttotal: 2m 6s\tremaining: 42.9s\n",
      "112:\tlearn: 0.2231482\ttotal: 2m 7s\tremaining: 41.8s\n",
      "113:\tlearn: 0.2223206\ttotal: 2m 8s\tremaining: 40.6s\n",
      "114:\tlearn: 0.2216356\ttotal: 2m 9s\tremaining: 39.5s\n",
      "115:\tlearn: 0.2211989\ttotal: 2m 10s\tremaining: 38.4s\n",
      "116:\tlearn: 0.2206439\ttotal: 2m 11s\tremaining: 37.2s\n",
      "117:\tlearn: 0.2199134\ttotal: 2m 12s\tremaining: 36.1s\n",
      "118:\tlearn: 0.2190049\ttotal: 2m 14s\tremaining: 34.9s\n",
      "119:\tlearn: 0.2180992\ttotal: 2m 15s\tremaining: 33.8s\n",
      "120:\tlearn: 0.2175288\ttotal: 2m 16s\tremaining: 32.6s\n",
      "121:\tlearn: 0.2165823\ttotal: 2m 17s\tremaining: 31.5s\n",
      "122:\tlearn: 0.2161589\ttotal: 2m 18s\tremaining: 30.4s\n",
      "123:\tlearn: 0.2152370\ttotal: 2m 19s\tremaining: 29.3s\n",
      "124:\tlearn: 0.2143454\ttotal: 2m 20s\tremaining: 28.1s\n",
      "125:\tlearn: 0.2133061\ttotal: 2m 21s\tremaining: 27s\n",
      "126:\tlearn: 0.2124775\ttotal: 2m 22s\tremaining: 25.9s\n",
      "127:\tlearn: 0.2118670\ttotal: 2m 23s\tremaining: 24.7s\n",
      "128:\tlearn: 0.2111826\ttotal: 2m 25s\tremaining: 23.6s\n",
      "129:\tlearn: 0.2105336\ttotal: 2m 26s\tremaining: 22.5s\n",
      "130:\tlearn: 0.2096008\ttotal: 2m 27s\tremaining: 21.3s\n",
      "131:\tlearn: 0.2091913\ttotal: 2m 28s\tremaining: 20.2s\n",
      "132:\tlearn: 0.2083069\ttotal: 2m 29s\tremaining: 19.1s\n",
      "133:\tlearn: 0.2079076\ttotal: 2m 30s\tremaining: 18s\n",
      "134:\tlearn: 0.2072649\ttotal: 2m 31s\tremaining: 16.8s\n",
      "135:\tlearn: 0.2063484\ttotal: 2m 32s\tremaining: 15.7s\n",
      "136:\tlearn: 0.2058203\ttotal: 2m 33s\tremaining: 14.6s\n",
      "137:\tlearn: 0.2054366\ttotal: 2m 34s\tremaining: 13.4s\n",
      "138:\tlearn: 0.2047446\ttotal: 2m 35s\tremaining: 12.3s\n",
      "139:\tlearn: 0.2040613\ttotal: 2m 36s\tremaining: 11.2s\n",
      "140:\tlearn: 0.2032163\ttotal: 2m 37s\tremaining: 10.1s\n",
      "141:\tlearn: 0.2028520\ttotal: 2m 38s\tremaining: 8.94s\n",
      "142:\tlearn: 0.2019727\ttotal: 2m 39s\tremaining: 7.83s\n",
      "143:\tlearn: 0.2014877\ttotal: 2m 40s\tremaining: 6.71s\n",
      "144:\tlearn: 0.2009968\ttotal: 2m 42s\tremaining: 5.59s\n",
      "145:\tlearn: 0.2006401\ttotal: 2m 43s\tremaining: 4.47s\n",
      "146:\tlearn: 0.1999124\ttotal: 2m 44s\tremaining: 3.35s\n",
      "147:\tlearn: 0.1990694\ttotal: 2m 45s\tremaining: 2.23s\n",
      "148:\tlearn: 0.1986390\ttotal: 2m 46s\tremaining: 1.12s\n",
      "149:\tlearn: 0.1978342\ttotal: 2m 47s\tremaining: 0us\n",
      "Лучша оценка логистической регрессии: 0.6868457376488263\n",
      "Лучшие гиперпараметры логистической регрессии: {'catboostclassifier__iterations': 150}\n",
      "CPU times: user 15min 51s, sys: 10.5 s, total: 16min 1s\n",
      "Wall time: 16min 18s\n"
     ]
    }
   ],
   "source": [
    "%%time\n",
    "# используем поиск по сетке GridSearchCV\n",
    "params_cat = {'catboostclassifier__iterations': [50, 100, 150]}\n",
    "\n",
    "cat_gscv = GridSearchCV(\n",
    "    cat_bc,\n",
    "    params_cat,\n",
    "    scoring='f1',\n",
    "    cv=3,   # количество блоков для кросс-валидации\n",
    "    verbose=3  # видеть время\n",
    ")\n",
    "\n",
    "cat_gscv.fit(X_train, y_train)\n",
    "\n",
    "print(f'Лучша оценка логистической регрессии: {cat_gscv.best_score_}')\n",
    "\n",
    "print(f'Лучшие гиперпараметры логистической регрессии: {cat_gscv.best_params_}')"
   ]
  },
  {
   "cell_type": "markdown",
   "metadata": {},
   "source": [
    "**Градиентный бустинг над решающими деревьями LGBMClassifier**"
   ]
  },
  {
   "cell_type": "code",
   "execution_count": 25,
   "metadata": {},
   "outputs": [
    {
     "data": {
      "text/plain": [
       "('lgbmclassifier', LGBMClassifier(random_state=12345))"
      ]
     },
     "execution_count": 25,
     "metadata": {},
     "output_type": "execute_result"
    }
   ],
   "source": [
    "# используем конвейер\n",
    "lgbm_cl = make_pipeline(TfidfVectorizer(), LGBMClassifier(random_state=12345))\n",
    "lgbm_cl.steps[1]"
   ]
  },
  {
   "cell_type": "code",
   "execution_count": 26,
   "metadata": {
    "scrolled": true
   },
   "outputs": [
    {
     "name": "stdout",
     "output_type": "stream",
     "text": [
      "Fitting 3 folds for each of 1 candidates, totalling 3 fits\n",
      "[CV 1/3] END lgbmclassifier__max_depth=20, lgbmclassifier__n_estimators=300; total time= 1.5min\n",
      "[CV 2/3] END lgbmclassifier__max_depth=20, lgbmclassifier__n_estimators=300; total time= 1.5min\n",
      "[CV 3/3] END lgbmclassifier__max_depth=20, lgbmclassifier__n_estimators=300; total time= 1.6min\n",
      "Лучша оценка логистической регрессии: 0.7314689877996535\n",
      "Лучшие гиперпараметры логистической регрессии: {'lgbmclassifier__max_depth': 20, 'lgbmclassifier__n_estimators': 300}\n",
      "CPU times: user 6min 55s, sys: 0 ns, total: 6min 55s\n",
      "Wall time: 6min 58s\n"
     ]
    }
   ],
   "source": [
    "%%time\n",
    "# используем поиск по сетке GridSearchCV\n",
    "params_lgbm = {\n",
    "    'lgbmclassifier__n_estimators':[300],\n",
    "    'lgbmclassifier__max_depth':[20]\n",
    "}\n",
    "\n",
    "lgbm_gscv = GridSearchCV(\n",
    "    lgbm_r,\n",
    "    params_lgbm,\n",
    "    scoring='f1',\n",
    "    cv=3,   # количество блоков для кросс-валидации\n",
    "    verbose=3  # видеть время\n",
    ")\n",
    "\n",
    "lgbm_gscv.fit(X_train, y_train)\n",
    "\n",
    "print(f'Лучша оценка логистической регрессии: {lgbm_gscv.best_score_}')\n",
    "\n",
    "print(f'Лучшие гиперпараметры логистической регрессии: {lgbm_gscv.best_params_}')"
   ]
  },
  {
   "cell_type": "markdown",
   "metadata": {},
   "source": [
    "**Лучший результат показала модель LogisticRegression, её и проверим на тесте**"
   ]
  },
  {
   "cell_type": "code",
   "execution_count": 27,
   "metadata": {
    "scrolled": true
   },
   "outputs": [
    {
     "name": "stdout",
     "output_type": "stream",
     "text": [
      "CPU times: user 234 ms, sys: 0 ns, total: 234 ms\n",
      "Wall time: 236 ms\n"
     ]
    },
    {
     "data": {
      "text/plain": [
       "0.7576036866359448"
      ]
     },
     "execution_count": 27,
     "metadata": {},
     "output_type": "execute_result"
    }
   ],
   "source": [
    "%%time\n",
    "lr_predict = lr_gscv.predict(X_test)\n",
    "f1_test = f1_score(y_test, lr_predict)\n",
    "f1_test"
   ]
  },
  {
   "cell_type": "markdown",
   "metadata": {},
   "source": [
    "## Выводы"
   ]
  },
  {
   "cell_type": "markdown",
   "metadata": {},
   "source": [
    "Проанализирован датасет с токсичными комментариями:\n",
    "пропусков и дублей не обнаружено, выявлен дисбаланс классов, проведена очистка и лемматизация текста.\n",
    "\n",
    "Данные разделены на две выборки с учетом равномерного распределения количества классов. Обучены три модели на предмет классификации комментариев на позитивные и негативные (0 или 1) с использованием кросс-валидации и поиском по сетке гиперпараметров.\n",
    "\n",
    "На основе наибольшей оценки f1 выбрана модель логистической регрессии, и она проверена на тестовых данных. Получен f1>0,75"
   ]
  }
 ],
 "metadata": {
  "ExecuteTimeLog": [
   {
    "duration": 2532,
    "start_time": "2023-07-09T11:37:58.539Z"
   },
   {
    "duration": 3642,
    "start_time": "2023-07-09T11:38:40.972Z"
   },
   {
    "duration": 18,
    "start_time": "2023-07-09T11:39:04.219Z"
   },
   {
    "duration": 15,
    "start_time": "2023-07-09T11:39:42.818Z"
   },
   {
    "duration": 12,
    "start_time": "2023-07-09T11:40:34.474Z"
   },
   {
    "duration": 9,
    "start_time": "2023-07-09T11:41:14.518Z"
   },
   {
    "duration": 501,
    "start_time": "2023-07-09T11:48:37.402Z"
   },
   {
    "duration": 1530,
    "start_time": "2023-07-09T11:48:48.108Z"
   },
   {
    "duration": 981,
    "start_time": "2023-07-09T11:48:49.640Z"
   },
   {
    "duration": 19,
    "start_time": "2023-07-09T11:48:50.623Z"
   },
   {
    "duration": 20,
    "start_time": "2023-07-09T11:48:50.655Z"
   },
   {
    "duration": 12,
    "start_time": "2023-07-09T11:48:50.678Z"
   },
   {
    "duration": 15,
    "start_time": "2023-07-09T11:48:50.692Z"
   },
   {
    "duration": 475,
    "start_time": "2023-07-09T11:48:50.709Z"
   },
   {
    "duration": 4,
    "start_time": "2023-07-09T11:50:21.798Z"
   },
   {
    "duration": 3,
    "start_time": "2023-07-09T11:50:33.922Z"
   },
   {
    "duration": 5,
    "start_time": "2023-07-09T11:52:55.310Z"
   },
   {
    "duration": 35,
    "start_time": "2023-07-09T11:54:06.981Z"
   },
   {
    "duration": 1678,
    "start_time": "2023-07-09T12:02:37.715Z"
   },
   {
    "duration": 938,
    "start_time": "2023-07-09T12:02:39.396Z"
   },
   {
    "duration": 29,
    "start_time": "2023-07-09T12:02:40.336Z"
   },
   {
    "duration": 24,
    "start_time": "2023-07-09T12:02:40.368Z"
   },
   {
    "duration": 16,
    "start_time": "2023-07-09T12:02:40.395Z"
   },
   {
    "duration": 11,
    "start_time": "2023-07-09T12:02:40.413Z"
   },
   {
    "duration": 29,
    "start_time": "2023-07-09T12:02:40.426Z"
   },
   {
    "duration": 6,
    "start_time": "2023-07-09T12:02:40.457Z"
   },
   {
    "duration": 4,
    "start_time": "2023-07-09T12:02:40.465Z"
   },
   {
    "duration": 32,
    "start_time": "2023-07-09T12:02:40.470Z"
   },
   {
    "duration": 2993,
    "start_time": "2023-07-09T12:23:31.508Z"
   },
   {
    "duration": 862,
    "start_time": "2023-07-09T12:23:34.504Z"
   },
   {
    "duration": 19,
    "start_time": "2023-07-09T12:23:35.367Z"
   },
   {
    "duration": 17,
    "start_time": "2023-07-09T12:23:35.387Z"
   },
   {
    "duration": 12,
    "start_time": "2023-07-09T12:23:35.406Z"
   },
   {
    "duration": 36,
    "start_time": "2023-07-09T12:23:35.420Z"
   },
   {
    "duration": 6,
    "start_time": "2023-07-09T12:23:35.458Z"
   },
   {
    "duration": 7,
    "start_time": "2023-07-09T12:23:35.465Z"
   },
   {
    "duration": 22,
    "start_time": "2023-07-09T12:23:35.474Z"
   },
   {
    "duration": 8,
    "start_time": "2023-07-09T12:23:35.497Z"
   },
   {
    "duration": 1871,
    "start_time": "2023-07-09T12:23:35.506Z"
   },
   {
    "duration": 621,
    "start_time": "2023-07-09T12:23:37.380Z"
   },
   {
    "duration": 4,
    "start_time": "2023-07-09T12:23:38.003Z"
   },
   {
    "duration": 338,
    "start_time": "2023-07-09T12:23:38.010Z"
   },
   {
    "duration": 0,
    "start_time": "2023-07-09T12:23:38.350Z"
   },
   {
    "duration": 0,
    "start_time": "2023-07-09T12:23:38.354Z"
   },
   {
    "duration": 0,
    "start_time": "2023-07-09T12:23:38.355Z"
   },
   {
    "duration": 0,
    "start_time": "2023-07-09T12:23:38.357Z"
   },
   {
    "duration": 0,
    "start_time": "2023-07-09T12:23:38.358Z"
   },
   {
    "duration": 6,
    "start_time": "2023-07-09T12:24:12.608Z"
   },
   {
    "duration": 36,
    "start_time": "2023-07-09T12:24:32.671Z"
   },
   {
    "duration": 6,
    "start_time": "2023-07-09T12:24:34.501Z"
   },
   {
    "duration": 29110,
    "start_time": "2023-07-09T12:24:35.726Z"
   },
   {
    "duration": 94,
    "start_time": "2023-07-09T12:25:11.103Z"
   },
   {
    "duration": 49,
    "start_time": "2023-07-09T12:26:51.202Z"
   },
   {
    "duration": 7,
    "start_time": "2023-07-09T12:29:13.616Z"
   },
   {
    "duration": 52,
    "start_time": "2023-07-09T12:34:04.743Z"
   },
   {
    "duration": 3023,
    "start_time": "2023-07-09T12:34:25.363Z"
   },
   {
    "duration": 906,
    "start_time": "2023-07-09T12:34:28.389Z"
   },
   {
    "duration": 20,
    "start_time": "2023-07-09T12:34:29.297Z"
   },
   {
    "duration": 14,
    "start_time": "2023-07-09T12:34:29.320Z"
   },
   {
    "duration": 27,
    "start_time": "2023-07-09T12:34:29.336Z"
   },
   {
    "duration": 9,
    "start_time": "2023-07-09T12:34:29.365Z"
   },
   {
    "duration": 7,
    "start_time": "2023-07-09T12:34:29.376Z"
   },
   {
    "duration": 7,
    "start_time": "2023-07-09T12:34:29.385Z"
   },
   {
    "duration": 4,
    "start_time": "2023-07-09T12:34:29.394Z"
   },
   {
    "duration": 4,
    "start_time": "2023-07-09T12:34:29.400Z"
   },
   {
    "duration": 1922,
    "start_time": "2023-07-09T12:34:29.406Z"
   },
   {
    "duration": 675,
    "start_time": "2023-07-09T12:34:31.330Z"
   },
   {
    "duration": 3,
    "start_time": "2023-07-09T12:34:32.007Z"
   },
   {
    "duration": 67,
    "start_time": "2023-07-09T12:34:32.012Z"
   },
   {
    "duration": 18,
    "start_time": "2023-07-09T12:34:32.081Z"
   },
   {
    "duration": 2543,
    "start_time": "2023-07-09T12:34:32.101Z"
   },
   {
    "duration": 409,
    "start_time": "2023-07-09T12:34:34.646Z"
   },
   {
    "duration": 0,
    "start_time": "2023-07-09T12:34:35.057Z"
   },
   {
    "duration": 5,
    "start_time": "2023-07-09T12:44:26.842Z"
   },
   {
    "duration": 2007,
    "start_time": "2023-07-10T08:20:23.947Z"
   },
   {
    "duration": 3907,
    "start_time": "2023-07-10T08:20:25.956Z"
   },
   {
    "duration": 21,
    "start_time": "2023-07-10T08:20:29.865Z"
   },
   {
    "duration": 21,
    "start_time": "2023-07-10T08:20:29.889Z"
   },
   {
    "duration": 14,
    "start_time": "2023-07-10T08:20:29.912Z"
   },
   {
    "duration": 41,
    "start_time": "2023-07-10T08:20:29.927Z"
   },
   {
    "duration": 20,
    "start_time": "2023-07-10T08:20:29.969Z"
   },
   {
    "duration": 46,
    "start_time": "2023-07-10T08:20:29.991Z"
   },
   {
    "duration": 49,
    "start_time": "2023-07-10T08:20:30.039Z"
   },
   {
    "duration": 29,
    "start_time": "2023-07-10T08:20:30.090Z"
   },
   {
    "duration": 60,
    "start_time": "2023-07-10T08:20:30.120Z"
   },
   {
    "duration": 7,
    "start_time": "2023-07-10T08:20:30.182Z"
   },
   {
    "duration": 3052,
    "start_time": "2023-07-10T08:55:15.999Z"
   },
   {
    "duration": 6,
    "start_time": "2023-07-10T09:06:12.328Z"
   },
   {
    "duration": 5,
    "start_time": "2023-07-10T09:06:16.795Z"
   },
   {
    "duration": 608,
    "start_time": "2023-07-10T09:06:33.114Z"
   },
   {
    "duration": 4,
    "start_time": "2023-07-10T09:06:36.178Z"
   },
   {
    "duration": 2767,
    "start_time": "2023-07-10T09:06:37.404Z"
   },
   {
    "duration": 3,
    "start_time": "2023-07-10T09:08:10.075Z"
   },
   {
    "duration": 20,
    "start_time": "2023-07-10T09:08:12.955Z"
   },
   {
    "duration": 5,
    "start_time": "2023-07-10T09:08:42.780Z"
   },
   {
    "duration": 2,
    "start_time": "2023-07-10T09:08:44.544Z"
   },
   {
    "duration": 30,
    "start_time": "2023-07-10T09:08:46.688Z"
   },
   {
    "duration": 8,
    "start_time": "2023-07-10T09:08:51.697Z"
   },
   {
    "duration": 45,
    "start_time": "2023-07-10T09:20:14.370Z"
   },
   {
    "duration": 1327,
    "start_time": "2023-07-10T09:22:11.083Z"
   },
   {
    "duration": 8073,
    "start_time": "2023-07-10T09:22:22.516Z"
   },
   {
    "duration": 11,
    "start_time": "2023-07-10T09:23:08.652Z"
   },
   {
    "duration": 5047,
    "start_time": "2023-07-10T09:23:56.448Z"
   },
   {
    "duration": 1022,
    "start_time": "2023-07-10T09:24:01.498Z"
   },
   {
    "duration": 38,
    "start_time": "2023-07-10T09:24:02.522Z"
   },
   {
    "duration": 31,
    "start_time": "2023-07-10T09:24:02.564Z"
   },
   {
    "duration": 31,
    "start_time": "2023-07-10T09:24:02.600Z"
   },
   {
    "duration": 48,
    "start_time": "2023-07-10T09:24:02.633Z"
   },
   {
    "duration": 7,
    "start_time": "2023-07-10T09:24:02.685Z"
   },
   {
    "duration": 34,
    "start_time": "2023-07-10T09:24:02.694Z"
   },
   {
    "duration": 22,
    "start_time": "2023-07-10T09:24:02.730Z"
   },
   {
    "duration": 827,
    "start_time": "2023-07-10T09:24:02.756Z"
   },
   {
    "duration": 7,
    "start_time": "2023-07-10T09:24:03.585Z"
   },
   {
    "duration": 9501,
    "start_time": "2023-07-10T09:24:03.595Z"
   },
   {
    "duration": 9,
    "start_time": "2023-07-10T09:24:13.098Z"
   },
   {
    "duration": 4,
    "start_time": "2023-07-10T09:24:13.110Z"
   },
   {
    "duration": 4,
    "start_time": "2023-07-10T09:24:13.115Z"
   },
   {
    "duration": 84,
    "start_time": "2023-07-10T09:24:13.120Z"
   },
   {
    "duration": 9,
    "start_time": "2023-07-10T09:24:13.206Z"
   },
   {
    "duration": 5376,
    "start_time": "2023-07-10T09:27:14.075Z"
   },
   {
    "duration": 1038,
    "start_time": "2023-07-10T09:27:19.453Z"
   },
   {
    "duration": 4,
    "start_time": "2023-07-10T09:27:20.498Z"
   },
   {
    "duration": 20,
    "start_time": "2023-07-10T09:27:20.504Z"
   },
   {
    "duration": 43,
    "start_time": "2023-07-10T09:27:20.526Z"
   },
   {
    "duration": 36,
    "start_time": "2023-07-10T09:27:20.576Z"
   },
   {
    "duration": 10,
    "start_time": "2023-07-10T09:27:20.613Z"
   },
   {
    "duration": 20,
    "start_time": "2023-07-10T09:27:20.625Z"
   },
   {
    "duration": 44,
    "start_time": "2023-07-10T09:27:20.647Z"
   },
   {
    "duration": 870,
    "start_time": "2023-07-10T09:27:20.700Z"
   },
   {
    "duration": 16,
    "start_time": "2023-07-10T09:27:21.572Z"
   },
   {
    "duration": 1092433,
    "start_time": "2023-07-10T09:27:21.596Z"
   },
   {
    "duration": 0,
    "start_time": "2023-07-10T09:45:34.031Z"
   },
   {
    "duration": 0,
    "start_time": "2023-07-10T09:45:34.032Z"
   },
   {
    "duration": 0,
    "start_time": "2023-07-10T09:45:34.033Z"
   },
   {
    "duration": 0,
    "start_time": "2023-07-10T09:45:34.035Z"
   },
   {
    "duration": 0,
    "start_time": "2023-07-10T09:45:34.035Z"
   },
   {
    "duration": 4867,
    "start_time": "2023-07-10T09:46:22.127Z"
   },
   {
    "duration": 1040,
    "start_time": "2023-07-10T09:46:26.997Z"
   },
   {
    "duration": 37,
    "start_time": "2023-07-10T09:46:28.039Z"
   },
   {
    "duration": 25,
    "start_time": "2023-07-10T09:46:28.081Z"
   },
   {
    "duration": 15,
    "start_time": "2023-07-10T09:46:28.109Z"
   },
   {
    "duration": 9,
    "start_time": "2023-07-10T09:46:28.127Z"
   },
   {
    "duration": 36,
    "start_time": "2023-07-10T09:46:28.138Z"
   },
   {
    "duration": 11,
    "start_time": "2023-07-10T09:46:28.179Z"
   },
   {
    "duration": 4,
    "start_time": "2023-07-10T09:46:28.194Z"
   },
   {
    "duration": 805,
    "start_time": "2023-07-10T09:46:28.201Z"
   },
   {
    "duration": 3,
    "start_time": "2023-07-10T09:46:29.008Z"
   },
   {
    "duration": 21713,
    "start_time": "2023-07-10T09:46:29.013Z"
   },
   {
    "duration": 50,
    "start_time": "2023-07-10T09:46:50.728Z"
   },
   {
    "duration": 12,
    "start_time": "2023-07-10T09:46:50.780Z"
   },
   {
    "duration": 35,
    "start_time": "2023-07-10T09:46:50.793Z"
   },
   {
    "duration": 48,
    "start_time": "2023-07-10T09:46:50.830Z"
   },
   {
    "duration": 90,
    "start_time": "2023-07-10T09:46:50.880Z"
   },
   {
    "duration": 14,
    "start_time": "2023-07-10T09:46:50.972Z"
   },
   {
    "duration": 66,
    "start_time": "2023-07-10T09:49:04.432Z"
   },
   {
    "duration": 12,
    "start_time": "2023-07-10T09:49:05.442Z"
   },
   {
    "duration": 505,
    "start_time": "2023-07-10T09:50:07.231Z"
   },
   {
    "duration": 4,
    "start_time": "2023-07-10T09:50:12.698Z"
   },
   {
    "duration": 62,
    "start_time": "2023-07-10T09:50:47.463Z"
   },
   {
    "duration": 27,
    "start_time": "2023-07-10T09:51:03.114Z"
   },
   {
    "duration": 5,
    "start_time": "2023-07-10T09:51:11.695Z"
   },
   {
    "duration": 27,
    "start_time": "2023-07-10T09:54:15.324Z"
   },
   {
    "duration": 3,
    "start_time": "2023-07-10T09:54:21.649Z"
   },
   {
    "duration": 14,
    "start_time": "2023-07-10T09:54:22.324Z"
   },
   {
    "duration": 18,
    "start_time": "2023-07-10T09:55:54.241Z"
   },
   {
    "duration": 5,
    "start_time": "2023-07-10T09:57:53.208Z"
   },
   {
    "duration": 14,
    "start_time": "2023-07-10T09:57:59.275Z"
   },
   {
    "duration": 6203,
    "start_time": "2023-07-10T10:33:03.142Z"
   },
   {
    "duration": 1292,
    "start_time": "2023-07-10T10:33:09.348Z"
   },
   {
    "duration": 39,
    "start_time": "2023-07-10T10:33:10.643Z"
   },
   {
    "duration": 33,
    "start_time": "2023-07-10T10:33:10.695Z"
   },
   {
    "duration": 14,
    "start_time": "2023-07-10T10:33:10.733Z"
   },
   {
    "duration": 22,
    "start_time": "2023-07-10T10:33:10.748Z"
   },
   {
    "duration": 21,
    "start_time": "2023-07-10T10:33:10.773Z"
   },
   {
    "duration": 16,
    "start_time": "2023-07-10T10:33:10.796Z"
   },
   {
    "duration": 14,
    "start_time": "2023-07-10T10:33:10.814Z"
   },
   {
    "duration": 1090,
    "start_time": "2023-07-10T10:33:10.834Z"
   },
   {
    "duration": 5,
    "start_time": "2023-07-10T10:33:11.926Z"
   },
   {
    "duration": 27241,
    "start_time": "2023-07-10T10:33:11.933Z"
   },
   {
    "duration": 49,
    "start_time": "2023-07-10T10:33:39.177Z"
   },
   {
    "duration": 31,
    "start_time": "2023-07-10T10:33:39.238Z"
   },
   {
    "duration": 40,
    "start_time": "2023-07-10T10:33:39.271Z"
   },
   {
    "duration": 7,
    "start_time": "2023-07-10T10:33:39.325Z"
   },
   {
    "duration": 8,
    "start_time": "2023-07-10T11:55:46.523Z"
   },
   {
    "duration": 4594,
    "start_time": "2023-07-10T12:53:03.891Z"
   },
   {
    "duration": 22,
    "start_time": "2023-07-10T12:53:28.082Z"
   },
   {
    "duration": 4,
    "start_time": "2023-07-10T13:30:32.006Z"
   },
   {
    "duration": 25901,
    "start_time": "2023-07-10T13:30:40.535Z"
   },
   {
    "duration": 6058,
    "start_time": "2023-07-10T13:31:06.441Z"
   },
   {
    "duration": 28,
    "start_time": "2023-07-10T13:31:12.501Z"
   },
   {
    "duration": 26,
    "start_time": "2023-07-10T13:31:12.531Z"
   },
   {
    "duration": 31,
    "start_time": "2023-07-10T13:31:12.567Z"
   },
   {
    "duration": 10,
    "start_time": "2023-07-10T13:31:12.601Z"
   },
   {
    "duration": 11,
    "start_time": "2023-07-10T13:31:12.616Z"
   },
   {
    "duration": 6,
    "start_time": "2023-07-10T13:31:12.629Z"
   },
   {
    "duration": 7,
    "start_time": "2023-07-10T13:31:12.638Z"
   },
   {
    "duration": 33,
    "start_time": "2023-07-10T13:31:12.648Z"
   },
   {
    "duration": 1104,
    "start_time": "2023-07-10T13:31:12.689Z"
   },
   {
    "duration": 8,
    "start_time": "2023-07-10T13:31:13.796Z"
   },
   {
    "duration": 39,
    "start_time": "2023-07-10T13:31:13.808Z"
   },
   {
    "duration": 27727,
    "start_time": "2023-07-10T13:31:13.850Z"
   },
   {
    "duration": 49,
    "start_time": "2023-07-10T13:31:41.579Z"
   },
   {
    "duration": 15,
    "start_time": "2023-07-10T13:31:41.634Z"
   },
   {
    "duration": 8,
    "start_time": "2023-07-10T13:31:41.654Z"
   },
   {
    "duration": 12,
    "start_time": "2023-07-10T13:31:41.668Z"
   },
   {
    "duration": 10,
    "start_time": "2023-07-10T16:24:59.596Z"
   },
   {
    "duration": 604,
    "start_time": "2023-07-10T16:35:34.393Z"
   },
   {
    "duration": 6,
    "start_time": "2023-07-10T16:37:40.091Z"
   },
   {
    "duration": 284,
    "start_time": "2023-07-10T16:37:45.235Z"
   },
   {
    "duration": 11,
    "start_time": "2023-07-10T16:38:23.514Z"
   },
   {
    "duration": 299,
    "start_time": "2023-07-10T16:39:11.426Z"
   },
   {
    "duration": 4,
    "start_time": "2023-07-10T16:41:15.591Z"
   },
   {
    "duration": 4,
    "start_time": "2023-07-10T16:42:08.595Z"
   },
   {
    "duration": 142,
    "start_time": "2023-07-10T16:42:14.093Z"
   },
   {
    "duration": 7,
    "start_time": "2023-07-10T16:42:42.282Z"
   },
   {
    "duration": 189,
    "start_time": "2023-07-10T16:42:43.004Z"
   },
   {
    "duration": 278,
    "start_time": "2023-07-10T16:46:52.220Z"
   },
   {
    "duration": 327,
    "start_time": "2023-07-10T16:50:17.878Z"
   },
   {
    "duration": 232,
    "start_time": "2023-07-10T16:50:38.014Z"
   },
   {
    "duration": 5,
    "start_time": "2023-07-10T16:51:08.724Z"
   },
   {
    "duration": 49,
    "start_time": "2023-07-10T16:51:48.344Z"
   },
   {
    "duration": 8149,
    "start_time": "2023-07-10T16:52:54.765Z"
   },
   {
    "duration": 4894,
    "start_time": "2023-07-10T16:53:02.917Z"
   },
   {
    "duration": 23,
    "start_time": "2023-07-10T16:53:07.813Z"
   },
   {
    "duration": 37,
    "start_time": "2023-07-10T16:53:07.839Z"
   },
   {
    "duration": 30,
    "start_time": "2023-07-10T16:53:07.884Z"
   },
   {
    "duration": 11,
    "start_time": "2023-07-10T16:53:07.916Z"
   },
   {
    "duration": 22,
    "start_time": "2023-07-10T16:53:07.929Z"
   },
   {
    "duration": 17,
    "start_time": "2023-07-10T16:53:07.954Z"
   },
   {
    "duration": 22,
    "start_time": "2023-07-10T16:53:07.977Z"
   },
   {
    "duration": 7,
    "start_time": "2023-07-10T16:53:08.002Z"
   },
   {
    "duration": 796,
    "start_time": "2023-07-10T16:53:08.011Z"
   },
   {
    "duration": 4,
    "start_time": "2023-07-10T16:53:08.808Z"
   },
   {
    "duration": 45,
    "start_time": "2023-07-10T16:53:08.814Z"
   },
   {
    "duration": 23957,
    "start_time": "2023-07-10T16:53:08.863Z"
   },
   {
    "duration": 43,
    "start_time": "2023-07-10T16:53:32.823Z"
   },
   {
    "duration": 24,
    "start_time": "2023-07-10T16:53:32.869Z"
   },
   {
    "duration": 6,
    "start_time": "2023-07-10T16:53:32.895Z"
   },
   {
    "duration": 8,
    "start_time": "2023-07-10T16:53:32.904Z"
   },
   {
    "duration": 10,
    "start_time": "2023-07-10T16:53:32.916Z"
   },
   {
    "duration": 9,
    "start_time": "2023-07-10T16:53:32.928Z"
   },
   {
    "duration": 10,
    "start_time": "2023-07-10T16:53:32.959Z"
   },
   {
    "duration": 452,
    "start_time": "2023-07-10T16:53:32.971Z"
   },
   {
    "duration": 0,
    "start_time": "2023-07-10T16:53:33.425Z"
   },
   {
    "duration": 40,
    "start_time": "2023-07-10T16:54:10.460Z"
   },
   {
    "duration": 33,
    "start_time": "2023-07-10T16:54:59.480Z"
   },
   {
    "duration": 44,
    "start_time": "2023-07-10T16:55:04.140Z"
   },
   {
    "duration": 10,
    "start_time": "2023-07-10T16:55:07.887Z"
   },
   {
    "duration": 5263,
    "start_time": "2023-07-10T17:10:41.401Z"
   },
   {
    "duration": 1286,
    "start_time": "2023-07-10T17:10:46.666Z"
   },
   {
    "duration": 63,
    "start_time": "2023-07-10T17:10:47.961Z"
   },
   {
    "duration": 25,
    "start_time": "2023-07-10T17:10:48.031Z"
   },
   {
    "duration": 23,
    "start_time": "2023-07-10T17:10:48.064Z"
   },
   {
    "duration": 15,
    "start_time": "2023-07-10T17:10:48.094Z"
   },
   {
    "duration": 12,
    "start_time": "2023-07-10T17:10:48.117Z"
   },
   {
    "duration": 5,
    "start_time": "2023-07-10T17:10:48.135Z"
   },
   {
    "duration": 20,
    "start_time": "2023-07-10T17:10:48.143Z"
   },
   {
    "duration": 7,
    "start_time": "2023-07-10T17:10:48.165Z"
   },
   {
    "duration": 887,
    "start_time": "2023-07-10T17:10:48.177Z"
   },
   {
    "duration": 11,
    "start_time": "2023-07-10T17:10:49.066Z"
   },
   {
    "duration": 44,
    "start_time": "2023-07-10T17:10:49.079Z"
   },
   {
    "duration": 25164,
    "start_time": "2023-07-10T17:10:49.131Z"
   },
   {
    "duration": 44,
    "start_time": "2023-07-10T17:11:14.305Z"
   },
   {
    "duration": 37,
    "start_time": "2023-07-10T17:11:14.352Z"
   },
   {
    "duration": 20,
    "start_time": "2023-07-10T17:11:14.391Z"
   },
   {
    "duration": 19,
    "start_time": "2023-07-10T17:11:14.418Z"
   },
   {
    "duration": 29,
    "start_time": "2023-07-10T17:11:14.439Z"
   },
   {
    "duration": 20,
    "start_time": "2023-07-10T17:11:14.472Z"
   },
   {
    "duration": 15,
    "start_time": "2023-07-10T17:11:14.499Z"
   },
   {
    "duration": 609,
    "start_time": "2023-07-10T17:11:14.516Z"
   },
   {
    "duration": 20,
    "start_time": "2023-07-10T17:11:15.127Z"
   },
   {
    "duration": 0,
    "start_time": "2023-07-10T17:11:15.149Z"
   },
   {
    "duration": 6,
    "start_time": "2023-07-10T17:11:25.135Z"
   },
   {
    "duration": 9,
    "start_time": "2023-07-10T17:11:33.134Z"
   },
   {
    "duration": 601,
    "start_time": "2023-07-10T17:11:35.086Z"
   },
   {
    "duration": 13,
    "start_time": "2023-07-10T17:11:39.083Z"
   },
   {
    "duration": 131,
    "start_time": "2023-07-10T17:15:43.045Z"
   },
   {
    "duration": 2108,
    "start_time": "2023-07-10T17:16:00.567Z"
   },
   {
    "duration": 0,
    "start_time": "2023-07-10T17:16:02.678Z"
   },
   {
    "duration": 0,
    "start_time": "2023-07-10T17:16:02.680Z"
   },
   {
    "duration": 0,
    "start_time": "2023-07-10T17:16:02.681Z"
   },
   {
    "duration": 0,
    "start_time": "2023-07-10T17:16:02.682Z"
   },
   {
    "duration": 0,
    "start_time": "2023-07-10T17:16:02.683Z"
   },
   {
    "duration": 0,
    "start_time": "2023-07-10T17:16:02.685Z"
   },
   {
    "duration": 0,
    "start_time": "2023-07-10T17:16:02.686Z"
   },
   {
    "duration": 1,
    "start_time": "2023-07-10T17:16:02.687Z"
   },
   {
    "duration": 0,
    "start_time": "2023-07-10T17:16:02.689Z"
   },
   {
    "duration": 0,
    "start_time": "2023-07-10T17:16:02.691Z"
   },
   {
    "duration": 0,
    "start_time": "2023-07-10T17:16:02.693Z"
   },
   {
    "duration": 0,
    "start_time": "2023-07-10T17:16:02.695Z"
   },
   {
    "duration": 0,
    "start_time": "2023-07-10T17:16:02.696Z"
   },
   {
    "duration": 0,
    "start_time": "2023-07-10T17:16:02.698Z"
   },
   {
    "duration": 0,
    "start_time": "2023-07-10T17:16:02.699Z"
   },
   {
    "duration": 0,
    "start_time": "2023-07-10T17:16:02.701Z"
   },
   {
    "duration": 0,
    "start_time": "2023-07-10T17:16:02.702Z"
   },
   {
    "duration": 0,
    "start_time": "2023-07-10T17:16:02.703Z"
   },
   {
    "duration": 0,
    "start_time": "2023-07-10T17:16:02.705Z"
   },
   {
    "duration": 0,
    "start_time": "2023-07-10T17:16:02.707Z"
   },
   {
    "duration": 0,
    "start_time": "2023-07-10T17:16:02.711Z"
   },
   {
    "duration": 0,
    "start_time": "2023-07-10T17:16:02.712Z"
   },
   {
    "duration": 4899,
    "start_time": "2023-07-10T17:16:28.140Z"
   },
   {
    "duration": 1097,
    "start_time": "2023-07-10T17:16:33.042Z"
   },
   {
    "duration": 42,
    "start_time": "2023-07-10T17:16:34.141Z"
   },
   {
    "duration": 24,
    "start_time": "2023-07-10T17:16:34.185Z"
   },
   {
    "duration": 17,
    "start_time": "2023-07-10T17:16:34.213Z"
   },
   {
    "duration": 33,
    "start_time": "2023-07-10T17:16:34.233Z"
   },
   {
    "duration": 14,
    "start_time": "2023-07-10T17:16:34.269Z"
   },
   {
    "duration": 9,
    "start_time": "2023-07-10T17:16:34.286Z"
   },
   {
    "duration": 8,
    "start_time": "2023-07-10T17:16:34.297Z"
   },
   {
    "duration": 5,
    "start_time": "2023-07-10T17:16:34.308Z"
   },
   {
    "duration": 671,
    "start_time": "2023-07-10T17:16:34.315Z"
   },
   {
    "duration": 4,
    "start_time": "2023-07-10T17:16:34.988Z"
   },
   {
    "duration": 24,
    "start_time": "2023-07-10T17:16:34.994Z"
   },
   {
    "duration": 23054,
    "start_time": "2023-07-10T17:16:35.021Z"
   },
   {
    "duration": 40,
    "start_time": "2023-07-10T17:16:58.081Z"
   },
   {
    "duration": 8,
    "start_time": "2023-07-10T17:16:58.123Z"
   },
   {
    "duration": 7,
    "start_time": "2023-07-10T17:16:58.134Z"
   },
   {
    "duration": 26,
    "start_time": "2023-07-10T17:16:58.143Z"
   },
   {
    "duration": 7,
    "start_time": "2023-07-10T17:16:58.186Z"
   },
   {
    "duration": 5,
    "start_time": "2023-07-10T17:16:58.195Z"
   },
   {
    "duration": 3,
    "start_time": "2023-07-10T17:16:58.202Z"
   },
   {
    "duration": 610,
    "start_time": "2023-07-10T17:16:58.207Z"
   },
   {
    "duration": 690,
    "start_time": "2023-07-10T17:16:58.819Z"
   },
   {
    "duration": 599,
    "start_time": "2023-07-10T17:18:28.288Z"
   },
   {
    "duration": 512,
    "start_time": "2023-07-10T17:18:50.839Z"
   },
   {
    "duration": 662,
    "start_time": "2023-07-10T17:19:04.633Z"
   },
   {
    "duration": 740,
    "start_time": "2023-07-10T17:22:01.541Z"
   },
   {
    "duration": 4,
    "start_time": "2023-07-10T17:32:02.305Z"
   },
   {
    "duration": 5,
    "start_time": "2023-07-10T17:32:12.591Z"
   },
   {
    "duration": 6,
    "start_time": "2023-07-10T17:32:19.632Z"
   },
   {
    "duration": 55,
    "start_time": "2023-07-10T17:32:58.778Z"
   },
   {
    "duration": 2,
    "start_time": "2023-07-10T17:33:31.789Z"
   },
   {
    "duration": 34,
    "start_time": "2023-07-10T17:35:35.608Z"
   },
   {
    "duration": 4,
    "start_time": "2023-07-10T17:39:49.715Z"
   },
   {
    "duration": 702,
    "start_time": "2023-07-10T17:39:50.933Z"
   },
   {
    "duration": 5449,
    "start_time": "2023-07-10T17:41:24.249Z"
   },
   {
    "duration": 1318,
    "start_time": "2023-07-10T17:41:29.705Z"
   },
   {
    "duration": 39,
    "start_time": "2023-07-10T17:41:31.025Z"
   },
   {
    "duration": 59,
    "start_time": "2023-07-10T17:41:31.071Z"
   },
   {
    "duration": 76,
    "start_time": "2023-07-10T17:41:31.133Z"
   },
   {
    "duration": 71,
    "start_time": "2023-07-10T17:41:31.215Z"
   },
   {
    "duration": 43,
    "start_time": "2023-07-10T17:41:31.288Z"
   },
   {
    "duration": 62,
    "start_time": "2023-07-10T17:41:31.333Z"
   },
   {
    "duration": 57,
    "start_time": "2023-07-10T17:41:31.398Z"
   },
   {
    "duration": 54,
    "start_time": "2023-07-10T17:41:31.463Z"
   },
   {
    "duration": 822,
    "start_time": "2023-07-10T17:41:31.520Z"
   },
   {
    "duration": 7,
    "start_time": "2023-07-10T17:41:32.345Z"
   },
   {
    "duration": 33,
    "start_time": "2023-07-10T17:41:32.355Z"
   },
   {
    "duration": 24457,
    "start_time": "2023-07-10T17:41:32.391Z"
   },
   {
    "duration": 38,
    "start_time": "2023-07-10T17:41:56.850Z"
   },
   {
    "duration": 13,
    "start_time": "2023-07-10T17:41:56.894Z"
   },
   {
    "duration": 8,
    "start_time": "2023-07-10T17:41:56.910Z"
   },
   {
    "duration": 16,
    "start_time": "2023-07-10T17:41:56.920Z"
   },
   {
    "duration": 34,
    "start_time": "2023-07-10T17:41:56.939Z"
   },
   {
    "duration": 7,
    "start_time": "2023-07-10T17:41:56.979Z"
   },
   {
    "duration": 12,
    "start_time": "2023-07-10T17:41:56.988Z"
   },
   {
    "duration": 808,
    "start_time": "2023-07-10T17:41:57.002Z"
   },
   {
    "duration": 787,
    "start_time": "2023-07-10T17:41:57.823Z"
   },
   {
    "duration": 786,
    "start_time": "2023-07-10T17:42:29.206Z"
   },
   {
    "duration": 890,
    "start_time": "2023-07-10T17:42:38.314Z"
   },
   {
    "duration": 47,
    "start_time": "2023-07-10T17:57:25.606Z"
   },
   {
    "duration": 5440,
    "start_time": "2023-07-10T17:58:43.484Z"
   },
   {
    "duration": 1140,
    "start_time": "2023-07-10T17:58:48.929Z"
   },
   {
    "duration": 36,
    "start_time": "2023-07-10T17:58:50.071Z"
   },
   {
    "duration": 25,
    "start_time": "2023-07-10T17:58:50.109Z"
   },
   {
    "duration": 34,
    "start_time": "2023-07-10T17:58:50.137Z"
   },
   {
    "duration": 23,
    "start_time": "2023-07-10T17:58:50.173Z"
   },
   {
    "duration": 23,
    "start_time": "2023-07-10T17:58:50.198Z"
   },
   {
    "duration": 5,
    "start_time": "2023-07-10T17:58:50.225Z"
   },
   {
    "duration": 11,
    "start_time": "2023-07-10T17:58:50.232Z"
   },
   {
    "duration": 3,
    "start_time": "2023-07-10T17:58:50.246Z"
   },
   {
    "duration": 752,
    "start_time": "2023-07-10T17:58:50.251Z"
   },
   {
    "duration": 4,
    "start_time": "2023-07-10T17:58:51.005Z"
   },
   {
    "duration": 17,
    "start_time": "2023-07-10T17:58:51.012Z"
   },
   {
    "duration": 4964,
    "start_time": "2023-07-10T17:58:54.800Z"
   },
   {
    "duration": 1197,
    "start_time": "2023-07-10T17:58:59.772Z"
   },
   {
    "duration": 30,
    "start_time": "2023-07-10T17:59:00.975Z"
   },
   {
    "duration": 22,
    "start_time": "2023-07-10T17:59:01.011Z"
   },
   {
    "duration": 55,
    "start_time": "2023-07-10T17:59:01.037Z"
   },
   {
    "duration": 42,
    "start_time": "2023-07-10T17:59:01.095Z"
   },
   {
    "duration": 29,
    "start_time": "2023-07-10T17:59:01.140Z"
   },
   {
    "duration": 20,
    "start_time": "2023-07-10T17:59:01.171Z"
   },
   {
    "duration": 34,
    "start_time": "2023-07-10T17:59:01.194Z"
   },
   {
    "duration": 62,
    "start_time": "2023-07-10T17:59:01.231Z"
   },
   {
    "duration": 769,
    "start_time": "2023-07-10T17:59:01.295Z"
   },
   {
    "duration": 9,
    "start_time": "2023-07-10T17:59:02.073Z"
   },
   {
    "duration": 42,
    "start_time": "2023-07-10T17:59:02.085Z"
   },
   {
    "duration": 24915,
    "start_time": "2023-07-10T17:59:02.130Z"
   },
   {
    "duration": 60,
    "start_time": "2023-07-10T17:59:27.047Z"
   },
   {
    "duration": 10,
    "start_time": "2023-07-10T17:59:27.109Z"
   },
   {
    "duration": 10,
    "start_time": "2023-07-10T17:59:27.121Z"
   },
   {
    "duration": 33,
    "start_time": "2023-07-10T17:59:27.133Z"
   },
   {
    "duration": 17,
    "start_time": "2023-07-10T17:59:27.168Z"
   },
   {
    "duration": 29,
    "start_time": "2023-07-10T17:59:27.187Z"
   },
   {
    "duration": 13,
    "start_time": "2023-07-10T17:59:27.221Z"
   },
   {
    "duration": 602,
    "start_time": "2023-07-10T17:59:27.237Z"
   },
   {
    "duration": 26,
    "start_time": "2023-07-10T18:01:22.379Z"
   },
   {
    "duration": 27,
    "start_time": "2023-07-10T18:39:05.090Z"
   },
   {
    "duration": 457,
    "start_time": "2023-07-10T18:50:15.274Z"
   },
   {
    "duration": 6,
    "start_time": "2023-07-10T18:50:26.419Z"
   },
   {
    "duration": 32,
    "start_time": "2023-07-10T18:50:28.690Z"
   },
   {
    "duration": 26,
    "start_time": "2023-07-10T18:50:44.610Z"
   },
   {
    "duration": 3,
    "start_time": "2023-07-10T19:08:29.032Z"
   },
   {
    "duration": 410,
    "start_time": "2023-07-10T19:08:33.675Z"
   },
   {
    "duration": 43,
    "start_time": "2023-07-10T19:09:14.979Z"
   },
   {
    "duration": 4471,
    "start_time": "2023-07-10T19:09:45.364Z"
   },
   {
    "duration": 996,
    "start_time": "2023-07-10T19:09:49.837Z"
   },
   {
    "duration": 40,
    "start_time": "2023-07-10T19:09:50.835Z"
   },
   {
    "duration": 16,
    "start_time": "2023-07-10T19:09:50.883Z"
   },
   {
    "duration": 15,
    "start_time": "2023-07-10T19:09:50.902Z"
   },
   {
    "duration": 20,
    "start_time": "2023-07-10T19:09:50.919Z"
   },
   {
    "duration": 20,
    "start_time": "2023-07-10T19:09:50.941Z"
   },
   {
    "duration": 7,
    "start_time": "2023-07-10T19:09:50.968Z"
   },
   {
    "duration": 10,
    "start_time": "2023-07-10T19:09:50.982Z"
   },
   {
    "duration": 5,
    "start_time": "2023-07-10T19:09:50.993Z"
   },
   {
    "duration": 590,
    "start_time": "2023-07-10T19:09:50.999Z"
   },
   {
    "duration": 4,
    "start_time": "2023-07-10T19:09:51.591Z"
   },
   {
    "duration": 15,
    "start_time": "2023-07-10T19:09:51.597Z"
   },
   {
    "duration": 20807,
    "start_time": "2023-07-10T19:09:51.615Z"
   },
   {
    "duration": 36,
    "start_time": "2023-07-10T19:10:12.424Z"
   },
   {
    "duration": 23,
    "start_time": "2023-07-10T19:10:12.463Z"
   },
   {
    "duration": 5,
    "start_time": "2023-07-10T19:10:12.488Z"
   },
   {
    "duration": 16,
    "start_time": "2023-07-10T19:10:12.495Z"
   },
   {
    "duration": 14,
    "start_time": "2023-07-10T19:10:12.513Z"
   },
   {
    "duration": 7,
    "start_time": "2023-07-10T19:10:12.529Z"
   },
   {
    "duration": 14,
    "start_time": "2023-07-10T19:10:12.538Z"
   },
   {
    "duration": 20,
    "start_time": "2023-07-10T19:10:12.554Z"
   },
   {
    "duration": 423,
    "start_time": "2023-07-10T19:10:12.576Z"
   },
   {
    "duration": 4,
    "start_time": "2023-07-10T19:10:13.001Z"
   },
   {
    "duration": 426,
    "start_time": "2023-07-10T19:10:13.007Z"
   },
   {
    "duration": 0,
    "start_time": "2023-07-10T19:10:13.435Z"
   },
   {
    "duration": 5,
    "start_time": "2023-07-10T19:10:47.989Z"
   },
   {
    "duration": 37,
    "start_time": "2023-07-10T19:10:55.524Z"
   },
   {
    "duration": 5,
    "start_time": "2023-07-10T19:11:58.897Z"
   },
   {
    "duration": 45,
    "start_time": "2023-07-10T19:12:22.628Z"
   },
   {
    "duration": 4150,
    "start_time": "2023-07-10T19:13:07.945Z"
   },
   {
    "duration": 920,
    "start_time": "2023-07-10T19:13:12.097Z"
   },
   {
    "duration": 17,
    "start_time": "2023-07-10T19:13:13.019Z"
   },
   {
    "duration": 40,
    "start_time": "2023-07-10T19:13:13.038Z"
   },
   {
    "duration": 13,
    "start_time": "2023-07-10T19:13:13.080Z"
   },
   {
    "duration": 9,
    "start_time": "2023-07-10T19:13:13.095Z"
   },
   {
    "duration": 7,
    "start_time": "2023-07-10T19:13:13.106Z"
   },
   {
    "duration": 4,
    "start_time": "2023-07-10T19:13:13.115Z"
   },
   {
    "duration": 9,
    "start_time": "2023-07-10T19:13:13.120Z"
   },
   {
    "duration": 3,
    "start_time": "2023-07-10T19:13:13.131Z"
   },
   {
    "duration": 563,
    "start_time": "2023-07-10T19:13:13.159Z"
   },
   {
    "duration": 4,
    "start_time": "2023-07-10T19:13:13.723Z"
   },
   {
    "duration": 38,
    "start_time": "2023-07-10T19:13:13.729Z"
   },
   {
    "duration": 20043,
    "start_time": "2023-07-10T19:13:13.770Z"
   },
   {
    "duration": 25,
    "start_time": "2023-07-10T19:13:33.814Z"
   },
   {
    "duration": 38,
    "start_time": "2023-07-10T19:13:33.840Z"
   },
   {
    "duration": 5,
    "start_time": "2023-07-10T19:13:33.881Z"
   },
   {
    "duration": 9,
    "start_time": "2023-07-10T19:13:33.887Z"
   },
   {
    "duration": 6,
    "start_time": "2023-07-10T19:13:33.897Z"
   },
   {
    "duration": 5,
    "start_time": "2023-07-10T19:13:33.904Z"
   },
   {
    "duration": 6,
    "start_time": "2023-07-10T19:13:33.911Z"
   },
   {
    "duration": 6,
    "start_time": "2023-07-10T19:13:33.919Z"
   },
   {
    "duration": 397,
    "start_time": "2023-07-10T19:13:33.926Z"
   },
   {
    "duration": 5,
    "start_time": "2023-07-10T19:13:34.325Z"
   },
   {
    "duration": 405,
    "start_time": "2023-07-10T19:13:34.332Z"
   },
   {
    "duration": 0,
    "start_time": "2023-07-10T19:13:34.739Z"
   },
   {
    "duration": 41953,
    "start_time": "2023-07-10T19:13:37.234Z"
   },
   {
    "duration": 4,
    "start_time": "2023-07-10T19:14:35.905Z"
   },
   {
    "duration": 41,
    "start_time": "2023-07-10T19:14:50.905Z"
   },
   {
    "duration": 4811,
    "start_time": "2023-07-10T19:15:12.730Z"
   },
   {
    "duration": 1046,
    "start_time": "2023-07-10T19:15:17.543Z"
   },
   {
    "duration": 19,
    "start_time": "2023-07-10T19:15:18.591Z"
   },
   {
    "duration": 20,
    "start_time": "2023-07-10T19:15:18.612Z"
   },
   {
    "duration": 38,
    "start_time": "2023-07-10T19:15:18.634Z"
   },
   {
    "duration": 10,
    "start_time": "2023-07-10T19:15:18.674Z"
   },
   {
    "duration": 11,
    "start_time": "2023-07-10T19:15:18.685Z"
   },
   {
    "duration": 13,
    "start_time": "2023-07-10T19:15:18.697Z"
   },
   {
    "duration": 28,
    "start_time": "2023-07-10T19:15:18.711Z"
   },
   {
    "duration": 12,
    "start_time": "2023-07-10T19:15:18.740Z"
   },
   {
    "duration": 582,
    "start_time": "2023-07-10T19:15:18.756Z"
   },
   {
    "duration": 3,
    "start_time": "2023-07-10T19:15:19.340Z"
   },
   {
    "duration": 40,
    "start_time": "2023-07-10T19:15:19.345Z"
   },
   {
    "duration": 21142,
    "start_time": "2023-07-10T19:15:19.388Z"
   },
   {
    "duration": 41,
    "start_time": "2023-07-10T19:15:40.532Z"
   },
   {
    "duration": 10,
    "start_time": "2023-07-10T19:15:40.574Z"
   },
   {
    "duration": 8,
    "start_time": "2023-07-10T19:15:40.585Z"
   },
   {
    "duration": 10,
    "start_time": "2023-07-10T19:15:40.595Z"
   },
   {
    "duration": 13,
    "start_time": "2023-07-10T19:15:40.607Z"
   },
   {
    "duration": 8,
    "start_time": "2023-07-10T19:15:40.622Z"
   },
   {
    "duration": 34,
    "start_time": "2023-07-10T19:15:40.631Z"
   },
   {
    "duration": 7,
    "start_time": "2023-07-10T19:15:40.667Z"
   },
   {
    "duration": 359,
    "start_time": "2023-07-10T19:15:40.675Z"
   },
   {
    "duration": 5,
    "start_time": "2023-07-10T19:15:41.036Z"
   },
   {
    "duration": 405,
    "start_time": "2023-07-10T19:15:41.043Z"
   },
   {
    "duration": 40791,
    "start_time": "2023-07-10T19:15:56.795Z"
   },
   {
    "duration": 109,
    "start_time": "2023-07-10T19:20:25.113Z"
   },
   {
    "duration": 5,
    "start_time": "2023-07-10T19:20:36.082Z"
   },
   {
    "duration": 7,
    "start_time": "2023-07-10T19:21:38.899Z"
   },
   {
    "duration": 6788,
    "start_time": "2023-07-10T19:25:15.586Z"
   },
   {
    "duration": 18,
    "start_time": "2023-07-10T19:30:24.843Z"
   },
   {
    "duration": 4566,
    "start_time": "2023-07-10T19:43:52.476Z"
   },
   {
    "duration": 1152,
    "start_time": "2023-07-10T19:43:57.044Z"
   },
   {
    "duration": 21,
    "start_time": "2023-07-10T19:43:58.198Z"
   },
   {
    "duration": 25,
    "start_time": "2023-07-10T19:43:58.222Z"
   },
   {
    "duration": 27,
    "start_time": "2023-07-10T19:43:58.250Z"
   },
   {
    "duration": 10,
    "start_time": "2023-07-10T19:43:58.293Z"
   },
   {
    "duration": 32,
    "start_time": "2023-07-10T19:43:58.304Z"
   },
   {
    "duration": 35,
    "start_time": "2023-07-10T19:43:58.338Z"
   },
   {
    "duration": 9,
    "start_time": "2023-07-10T19:43:58.382Z"
   },
   {
    "duration": 15,
    "start_time": "2023-07-10T19:43:58.394Z"
   },
   {
    "duration": 631,
    "start_time": "2023-07-10T19:43:58.411Z"
   },
   {
    "duration": 15,
    "start_time": "2023-07-10T19:43:59.044Z"
   },
   {
    "duration": 37,
    "start_time": "2023-07-10T19:43:59.063Z"
   },
   {
    "duration": 216751,
    "start_time": "2023-07-10T19:43:59.103Z"
   },
   {
    "duration": 249,
    "start_time": "2023-07-10T19:47:35.857Z"
   },
   {
    "duration": 9,
    "start_time": "2023-07-10T19:47:36.108Z"
   },
   {
    "duration": 8,
    "start_time": "2023-07-10T19:47:36.119Z"
   },
   {
    "duration": 13,
    "start_time": "2023-07-10T19:47:36.129Z"
   },
   {
    "duration": 21,
    "start_time": "2023-07-10T19:47:36.143Z"
   },
   {
    "duration": 26,
    "start_time": "2023-07-10T19:47:36.167Z"
   },
   {
    "duration": 16,
    "start_time": "2023-07-10T19:47:36.195Z"
   },
   {
    "duration": 19,
    "start_time": "2023-07-10T19:47:36.213Z"
   },
   {
    "duration": 61337,
    "start_time": "2023-07-10T19:47:36.234Z"
   },
   {
    "duration": 10,
    "start_time": "2023-07-10T19:48:37.577Z"
   },
   {
    "duration": 247240,
    "start_time": "2023-07-10T19:48:37.594Z"
   },
   {
    "duration": 4,
    "start_time": "2023-07-10T19:52:44.836Z"
   },
   {
    "duration": 109235,
    "start_time": "2023-07-10T19:52:44.842Z"
   },
   {
    "duration": 87,
    "start_time": "2023-07-10T19:54:34.080Z"
   },
   {
    "duration": 4341,
    "start_time": "2023-07-10T19:55:29.551Z"
   },
   {
    "duration": 994,
    "start_time": "2023-07-10T19:55:33.894Z"
   },
   {
    "duration": 37,
    "start_time": "2023-07-10T19:55:34.891Z"
   },
   {
    "duration": 33,
    "start_time": "2023-07-10T19:55:34.932Z"
   },
   {
    "duration": 27,
    "start_time": "2023-07-10T19:55:34.967Z"
   },
   {
    "duration": 25,
    "start_time": "2023-07-10T19:55:34.995Z"
   },
   {
    "duration": 127,
    "start_time": "2023-07-10T19:55:35.022Z"
   },
   {
    "duration": 17,
    "start_time": "2023-07-10T19:55:35.150Z"
   },
   {
    "duration": 27,
    "start_time": "2023-07-10T19:55:35.172Z"
   },
   {
    "duration": 15,
    "start_time": "2023-07-10T19:55:35.201Z"
   },
   {
    "duration": 612,
    "start_time": "2023-07-10T19:55:35.218Z"
   },
   {
    "duration": 3,
    "start_time": "2023-07-10T19:55:35.832Z"
   },
   {
    "duration": 46,
    "start_time": "2023-07-10T19:55:35.837Z"
   },
   {
    "duration": 1002447,
    "start_time": "2023-07-10T19:55:35.884Z"
   },
   {
    "duration": 1163,
    "start_time": "2023-07-10T20:12:18.333Z"
   },
   {
    "duration": 9,
    "start_time": "2023-07-10T20:12:19.498Z"
   },
   {
    "duration": 42,
    "start_time": "2023-07-10T20:12:19.508Z"
   },
   {
    "duration": 25,
    "start_time": "2023-07-10T20:12:19.552Z"
   },
   {
    "duration": 29,
    "start_time": "2023-07-10T20:12:19.583Z"
   },
   {
    "duration": 5,
    "start_time": "2023-07-10T20:12:19.614Z"
   },
   {
    "duration": 6,
    "start_time": "2023-07-10T20:12:19.621Z"
   },
   {
    "duration": 6,
    "start_time": "2023-07-10T20:12:19.629Z"
   },
   {
    "duration": 183527,
    "start_time": "2023-07-10T20:12:19.636Z"
   },
   {
    "duration": 23,
    "start_time": "2023-07-10T20:15:23.176Z"
   },
   {
    "duration": 1295702,
    "start_time": "2023-07-10T20:15:23.207Z"
   },
   {
    "duration": 6,
    "start_time": "2023-07-10T20:36:58.911Z"
   },
   {
    "duration": 794537,
    "start_time": "2023-07-10T20:36:58.918Z"
   },
   {
    "duration": 524,
    "start_time": "2023-07-10T20:50:13.483Z"
   },
   {
    "duration": 363,
    "start_time": "2023-07-10T20:53:42.846Z"
   },
   {
    "duration": 5387,
    "start_time": "2023-07-11T07:26:57.679Z"
   },
   {
    "duration": 2527,
    "start_time": "2023-07-11T07:27:03.068Z"
   },
   {
    "duration": 17,
    "start_time": "2023-07-11T07:27:05.597Z"
   },
   {
    "duration": 44,
    "start_time": "2023-07-11T07:27:05.617Z"
   },
   {
    "duration": 21,
    "start_time": "2023-07-11T07:27:05.663Z"
   },
   {
    "duration": 28,
    "start_time": "2023-07-11T07:27:05.686Z"
   },
   {
    "duration": 36,
    "start_time": "2023-07-11T07:27:05.715Z"
   },
   {
    "duration": 11,
    "start_time": "2023-07-11T07:27:05.753Z"
   },
   {
    "duration": 26,
    "start_time": "2023-07-11T07:27:05.766Z"
   },
   {
    "duration": 29,
    "start_time": "2023-07-11T07:27:05.795Z"
   },
   {
    "duration": 532,
    "start_time": "2023-07-11T07:27:05.826Z"
   },
   {
    "duration": 3,
    "start_time": "2023-07-11T07:27:06.360Z"
   },
   {
    "duration": 20,
    "start_time": "2023-07-11T07:27:06.364Z"
   },
   {
    "duration": 112064,
    "start_time": "2023-07-11T07:27:06.385Z"
   },
   {
    "duration": 0,
    "start_time": "2023-07-11T07:28:58.450Z"
   },
   {
    "duration": 0,
    "start_time": "2023-07-11T07:28:58.452Z"
   },
   {
    "duration": 0,
    "start_time": "2023-07-11T07:28:58.453Z"
   },
   {
    "duration": 0,
    "start_time": "2023-07-11T07:28:58.453Z"
   },
   {
    "duration": 0,
    "start_time": "2023-07-11T07:28:58.454Z"
   },
   {
    "duration": 0,
    "start_time": "2023-07-11T07:28:58.455Z"
   },
   {
    "duration": 0,
    "start_time": "2023-07-11T07:28:58.456Z"
   },
   {
    "duration": 0,
    "start_time": "2023-07-11T07:28:58.457Z"
   },
   {
    "duration": 0,
    "start_time": "2023-07-11T07:28:58.458Z"
   },
   {
    "duration": 0,
    "start_time": "2023-07-11T07:28:58.459Z"
   },
   {
    "duration": 0,
    "start_time": "2023-07-11T07:28:58.460Z"
   },
   {
    "duration": 0,
    "start_time": "2023-07-11T07:28:58.461Z"
   },
   {
    "duration": 0,
    "start_time": "2023-07-11T07:28:58.462Z"
   },
   {
    "duration": 0,
    "start_time": "2023-07-11T07:28:58.463Z"
   },
   {
    "duration": 3667,
    "start_time": "2023-07-11T07:30:34.341Z"
   },
   {
    "duration": 825,
    "start_time": "2023-07-11T07:30:38.010Z"
   },
   {
    "duration": 22,
    "start_time": "2023-07-11T07:30:38.837Z"
   },
   {
    "duration": 14,
    "start_time": "2023-07-11T07:30:38.862Z"
   },
   {
    "duration": 22,
    "start_time": "2023-07-11T07:30:38.877Z"
   },
   {
    "duration": 23,
    "start_time": "2023-07-11T07:30:38.900Z"
   },
   {
    "duration": 42,
    "start_time": "2023-07-11T07:30:38.924Z"
   },
   {
    "duration": 3,
    "start_time": "2023-07-11T07:30:38.968Z"
   },
   {
    "duration": 20,
    "start_time": "2023-07-11T07:30:38.973Z"
   },
   {
    "duration": 9,
    "start_time": "2023-07-11T07:30:38.995Z"
   },
   {
    "duration": 529,
    "start_time": "2023-07-11T07:30:39.006Z"
   },
   {
    "duration": 6,
    "start_time": "2023-07-11T07:30:39.536Z"
   },
   {
    "duration": 70,
    "start_time": "2023-07-11T07:30:39.543Z"
   },
   {
    "duration": 2149,
    "start_time": "2023-07-11T07:30:39.614Z"
   },
   {
    "duration": 0,
    "start_time": "2023-07-11T07:30:41.764Z"
   },
   {
    "duration": 0,
    "start_time": "2023-07-11T07:30:41.765Z"
   },
   {
    "duration": 0,
    "start_time": "2023-07-11T07:30:41.766Z"
   },
   {
    "duration": 0,
    "start_time": "2023-07-11T07:30:41.767Z"
   },
   {
    "duration": 0,
    "start_time": "2023-07-11T07:30:41.768Z"
   },
   {
    "duration": 0,
    "start_time": "2023-07-11T07:30:41.769Z"
   },
   {
    "duration": 0,
    "start_time": "2023-07-11T07:30:41.770Z"
   },
   {
    "duration": 0,
    "start_time": "2023-07-11T07:30:41.771Z"
   },
   {
    "duration": 0,
    "start_time": "2023-07-11T07:30:41.772Z"
   },
   {
    "duration": 0,
    "start_time": "2023-07-11T07:30:41.773Z"
   },
   {
    "duration": 0,
    "start_time": "2023-07-11T07:30:41.775Z"
   },
   {
    "duration": 0,
    "start_time": "2023-07-11T07:30:41.776Z"
   },
   {
    "duration": 0,
    "start_time": "2023-07-11T07:30:41.777Z"
   },
   {
    "duration": 0,
    "start_time": "2023-07-11T07:30:41.777Z"
   },
   {
    "duration": 0,
    "start_time": "2023-07-11T07:30:41.778Z"
   },
   {
    "duration": 292,
    "start_time": "2023-07-11T07:31:22.208Z"
   },
   {
    "duration": 144695,
    "start_time": "2023-07-11T07:31:23.704Z"
   },
   {
    "duration": 147,
    "start_time": "2023-07-11T07:33:48.400Z"
   },
   {
    "duration": 0,
    "start_time": "2023-07-11T07:33:48.549Z"
   },
   {
    "duration": 0,
    "start_time": "2023-07-11T07:33:48.550Z"
   },
   {
    "duration": 0,
    "start_time": "2023-07-11T07:33:48.552Z"
   },
   {
    "duration": 0,
    "start_time": "2023-07-11T07:33:48.553Z"
   },
   {
    "duration": 0,
    "start_time": "2023-07-11T07:33:48.554Z"
   },
   {
    "duration": 0,
    "start_time": "2023-07-11T07:33:48.555Z"
   },
   {
    "duration": 0,
    "start_time": "2023-07-11T07:33:48.556Z"
   },
   {
    "duration": 0,
    "start_time": "2023-07-11T07:33:48.557Z"
   },
   {
    "duration": 0,
    "start_time": "2023-07-11T07:33:48.558Z"
   },
   {
    "duration": 1,
    "start_time": "2023-07-11T07:33:48.558Z"
   },
   {
    "duration": 0,
    "start_time": "2023-07-11T07:33:48.560Z"
   },
   {
    "duration": 0,
    "start_time": "2023-07-11T07:33:48.561Z"
   },
   {
    "duration": 0,
    "start_time": "2023-07-11T07:33:48.562Z"
   },
   {
    "duration": 188,
    "start_time": "2023-07-11T07:38:01.091Z"
   },
   {
    "duration": 145,
    "start_time": "2023-07-11T07:38:31.002Z"
   },
   {
    "duration": 196,
    "start_time": "2023-07-11T07:38:36.387Z"
   },
   {
    "duration": 15,
    "start_time": "2023-07-11T07:39:33.127Z"
   },
   {
    "duration": 7,
    "start_time": "2023-07-11T07:39:37.208Z"
   },
   {
    "duration": 7,
    "start_time": "2023-07-11T07:39:38.160Z"
   },
   {
    "duration": 11,
    "start_time": "2023-07-11T07:39:48.824Z"
   },
   {
    "duration": 4,
    "start_time": "2023-07-11T07:39:49.752Z"
   },
   {
    "duration": 4,
    "start_time": "2023-07-11T07:39:51.679Z"
   },
   {
    "duration": 5,
    "start_time": "2023-07-11T07:40:03.311Z"
   },
   {
    "duration": 97859,
    "start_time": "2023-07-11T07:40:07.985Z"
   },
   {
    "duration": 89,
    "start_time": "2023-07-11T07:41:45.850Z"
   },
   {
    "duration": 287570,
    "start_time": "2023-07-11T07:41:45.946Z"
   },
   {
    "duration": 4,
    "start_time": "2023-07-11T07:46:33.518Z"
   },
   {
    "duration": 90124,
    "start_time": "2023-07-11T07:46:33.524Z"
   },
   {
    "duration": 53,
    "start_time": "2023-07-11T07:48:03.650Z"
   },
   {
    "duration": 3839,
    "start_time": "2023-07-11T07:49:11.015Z"
   },
   {
    "duration": 802,
    "start_time": "2023-07-11T07:49:14.856Z"
   },
   {
    "duration": 26,
    "start_time": "2023-07-11T07:49:15.660Z"
   },
   {
    "duration": 28,
    "start_time": "2023-07-11T07:49:15.689Z"
   },
   {
    "duration": 32,
    "start_time": "2023-07-11T07:49:15.718Z"
   },
   {
    "duration": 20,
    "start_time": "2023-07-11T07:49:15.752Z"
   },
   {
    "duration": 81,
    "start_time": "2023-07-11T07:49:15.773Z"
   },
   {
    "duration": 5,
    "start_time": "2023-07-11T07:49:15.856Z"
   },
   {
    "duration": 24,
    "start_time": "2023-07-11T07:49:15.863Z"
   },
   {
    "duration": 4,
    "start_time": "2023-07-11T07:49:15.889Z"
   },
   {
    "duration": 485,
    "start_time": "2023-07-11T07:49:15.894Z"
   },
   {
    "duration": 4,
    "start_time": "2023-07-11T07:49:16.380Z"
   },
   {
    "duration": 18,
    "start_time": "2023-07-11T07:49:16.385Z"
   },
   {
    "duration": 1372,
    "start_time": "2023-07-11T07:49:16.404Z"
   },
   {
    "duration": 684773,
    "start_time": "2023-07-11T07:49:17.778Z"
   },
   {
    "duration": 9,
    "start_time": "2023-07-11T08:00:42.552Z"
   },
   {
    "duration": 28,
    "start_time": "2023-07-11T08:00:42.562Z"
   },
   {
    "duration": 11,
    "start_time": "2023-07-11T08:00:42.592Z"
   },
   {
    "duration": 46,
    "start_time": "2023-07-11T08:00:42.605Z"
   },
   {
    "duration": 26,
    "start_time": "2023-07-11T08:00:42.653Z"
   },
   {
    "duration": 31,
    "start_time": "2023-07-11T08:00:42.681Z"
   },
   {
    "duration": 241138,
    "start_time": "2023-07-11T08:00:42.714Z"
   },
   {
    "duration": 94,
    "start_time": "2023-07-11T08:04:43.944Z"
   },
   {
    "duration": 978774,
    "start_time": "2023-07-11T08:04:44.041Z"
   },
   {
    "duration": 5,
    "start_time": "2023-07-11T08:21:02.816Z"
   },
   {
    "duration": 418324,
    "start_time": "2023-07-11T08:21:02.822Z"
   },
   {
    "duration": 240,
    "start_time": "2023-07-11T08:28:01.148Z"
   }
  ],
  "kernelspec": {
   "display_name": "Python 3 (ipykernel)",
   "language": "python",
   "name": "python3"
  },
  "language_info": {
   "codemirror_mode": {
    "name": "ipython",
    "version": 3
   },
   "file_extension": ".py",
   "mimetype": "text/x-python",
   "name": "python",
   "nbconvert_exporter": "python",
   "pygments_lexer": "ipython3",
   "version": "3.9.5"
  },
  "toc": {
   "base_numbering": 1,
   "nav_menu": {},
   "number_sections": true,
   "sideBar": true,
   "skip_h1_title": true,
   "title_cell": "Содержание",
   "title_sidebar": "Contents",
   "toc_cell": true,
   "toc_position": {
    "height": "calc(100% - 180px)",
    "left": "10px",
    "top": "150px",
    "width": "302.391px"
   },
   "toc_section_display": true,
   "toc_window_display": false
  }
 },
 "nbformat": 4,
 "nbformat_minor": 2
}
