{
 "cells": [
  {
   "cell_type": "markdown",
   "metadata": {
    "toc": true
   },
   "source": [
    "<h1>Содержание<span class=\"tocSkip\"></span></h1>\n",
    "<div class=\"toc\"><ul class=\"toc-item\"><li><span><a href=\"#Подготовка-данных\" data-toc-modified-id=\"Подготовка-данных-1\"><span class=\"toc-item-num\">1&nbsp;&nbsp;</span>Подготовка данных</a></span><ul class=\"toc-item\"><li><span><a href=\"#Откроем-файлы-и-изучим-их.\" data-toc-modified-id=\"Откроем-файлы-и-изучим-их.-1.1\"><span class=\"toc-item-num\">1.1&nbsp;&nbsp;</span>Откроем файлы и изучим их.</a></span></li><li><span><a href=\"#Проверим,-что-эффективность-обогащения-рассчитана-правильно.\" data-toc-modified-id=\"Проверим,-что-эффективность-обогащения-рассчитана-правильно.-1.2\"><span class=\"toc-item-num\">1.2&nbsp;&nbsp;</span>Проверим, что эффективность обогащения рассчитана правильно.</a></span></li><li><span><a href=\"#Проанализируем-признаки,-недоступные-в-тестовой-выборке.\" data-toc-modified-id=\"Проанализируем-признаки,-недоступные-в-тестовой-выборке.-1.3\"><span class=\"toc-item-num\">1.3&nbsp;&nbsp;</span>Проанализируем признаки, недоступные в тестовой выборке.</a></span></li><li><span><a href=\"#Проведем-предобработку-данных\" data-toc-modified-id=\"Проведем-предобработку-данных-1.4\"><span class=\"toc-item-num\">1.4&nbsp;&nbsp;</span>Проведем предобработку данных</a></span></li></ul></li><li><span><a href=\"#Анализ-данных\" data-toc-modified-id=\"Анализ-данных-2\"><span class=\"toc-item-num\">2&nbsp;&nbsp;</span>Анализ данных</a></span><ul class=\"toc-item\"><li><span><a href=\"#Посмотрим,-как-меняется-концентрация-металлов-(Au,-Ag,-Pb)-на-различных-этапах\" data-toc-modified-id=\"Посмотрим,-как-меняется-концентрация-металлов-(Au,-Ag,-Pb)-на-различных-этапах-2.1\"><span class=\"toc-item-num\">2.1&nbsp;&nbsp;</span>Посмотрим, как меняется концентрация металлов (Au, Ag, Pb) на различных этапах</a></span></li><li><span><a href=\"#Сравним-распределения-размеров-гранул-исходного-сырья-на-обучающей-и-тестовой-выборках\" data-toc-modified-id=\"Сравним-распределения-размеров-гранул-исходного-сырья-на-обучающей-и-тестовой-выборках-2.2\"><span class=\"toc-item-num\">2.2&nbsp;&nbsp;</span>Сравним распределения размеров гранул исходного сырья на обучающей и тестовой выборках</a></span></li><li><span><a href=\"#Исследуем-суммарную-концентрацию-металлов-на-разных-стадиях\" data-toc-modified-id=\"Исследуем-суммарную-концентрацию-металлов-на-разных-стадиях-2.3\"><span class=\"toc-item-num\">2.3&nbsp;&nbsp;</span>Исследуем суммарную концентрацию металлов на разных стадиях</a></span></li></ul></li><li><span><a href=\"#Модель\" data-toc-modified-id=\"Модель-3\"><span class=\"toc-item-num\">3&nbsp;&nbsp;</span>Модель</a></span><ul class=\"toc-item\"><li><span><a href=\"#Напишем-функцию-для-вычисления-итоговой-sMAPE.\" data-toc-modified-id=\"Напишем-функцию-для-вычисления-итоговой-sMAPE.-3.1\"><span class=\"toc-item-num\">3.1&nbsp;&nbsp;</span>Напишем функцию для вычисления итоговой sMAPE.</a></span></li><li><span><a href=\"#Обучим-разные-модели-и-оценим-их-качество-кросс-валидацией.\" data-toc-modified-id=\"Обучим-разные-модели-и-оценим-их-качество-кросс-валидацией.-3.2\"><span class=\"toc-item-num\">3.2&nbsp;&nbsp;</span>Обучим разные модели и оценим их качество кросс-валидацией.</a></span><ul class=\"toc-item\"><li><span><a href=\"#Подготовим-данные\" data-toc-modified-id=\"Подготовим-данные-3.2.1\"><span class=\"toc-item-num\">3.2.1&nbsp;&nbsp;</span>Подготовим данные</a></span></li><li><span><a href=\"#Дерево-решений-в-регрессии\" data-toc-modified-id=\"Дерево-решений-в-регрессии-3.2.2\"><span class=\"toc-item-num\">3.2.2&nbsp;&nbsp;</span>Дерево решений в регрессии</a></span></li><li><span><a href=\"#Случайный-лес-в-регрессии\" data-toc-modified-id=\"Случайный-лес-в-регрессии-3.2.3\"><span class=\"toc-item-num\">3.2.3&nbsp;&nbsp;</span>Случайный лес в регрессии</a></span></li><li><span><a href=\"#Линейная-регрессия\" data-toc-modified-id=\"Линейная-регрессия-3.2.4\"><span class=\"toc-item-num\">3.2.4&nbsp;&nbsp;</span>Линейная регрессия</a></span></li></ul></li><li><span><a href=\"#Выберем-лучшую-модель,-посчитаем-оценку-на-тестовой-выборке-и-проверим-на-адекватность.\" data-toc-modified-id=\"Выберем-лучшую-модель,-посчитаем-оценку-на-тестовой-выборке-и-проверим-на-адекватность.-3.3\"><span class=\"toc-item-num\">3.3&nbsp;&nbsp;</span>Выберем лучшую модель, посчитаем оценку на тестовой выборке и проверим на адекватность.</a></span></li></ul></li></ul></div>"
   ]
  },
  {
   "cell_type": "markdown",
   "metadata": {},
   "source": [
    "# Восстановление золота из руды"
   ]
  },
  {
   "cell_type": "markdown",
   "metadata": {},
   "source": [
    "Подготовьте прототип модели машинного обучения для «Цифры». Компания разрабатывает решения для эффективной работы промышленных предприятий.\n",
    "\n",
    "Модель должна предсказать коэффициент восстановления золота из золотосодержащей руды. Используйте данные с параметрами добычи и очистки. \n",
    "\n",
    "Модель поможет оптимизировать производство, чтобы не запускать предприятие с убыточными характеристиками.\n",
    "\n",
    "Вам нужно:\n",
    "\n",
    "1. Подготовить данные;\n",
    "2. Провести исследовательский анализ данных;\n",
    "3. Построить и обучить модель.\n",
    "\n",
    "Чтобы выполнить проект, обращайтесь к библиотекам *pandas*, *matplotlib* и *sklearn.* Вам поможет их документация."
   ]
  },
  {
   "cell_type": "markdown",
   "metadata": {},
   "source": [
    "**Описание данных**"
   ]
  },
  {
   "cell_type": "markdown",
   "metadata": {},
   "source": [
    "Технологический процесс:\n",
    "\n",
    "- Rougher feed — исходное сырье;\n",
    "- Rougher additions (или reagent additions) — флотационные реагенты: Xanthate, Sulphate, Depressant:\n",
    "- Rougher process (англ. «грубый процесс») — флотация;\n",
    "- Rougher tails — отвальные хвосты;\n",
    "- Float banks — флотационная установка;\n",
    "- Cleaner process — очистка;\n",
    "- Rougher Au — черновой концентрат золота;\n",
    "- Final Au — финальный концентрат золота.\n",
    "\n",
    "Параметры этапов:\n",
    "\n",
    "- air amount — объём воздуха;\n",
    "- fluid levels — уровень жидкости;\n",
    "- feed size — размер гранул сырья;\n",
    "- feed rate — скорость подачи.\n",
    "\n",
    "Наименование признаков должно быть такое: [этап].[тип_параметра].[название_параметра]\n",
    "\n",
    "Возможные значения для блока [этап]:\n",
    "\n",
    "- rougher — флотация;\n",
    "- primary_cleaner — первичная очистка;\n",
    "- secondary_cleaner — вторичная очистка;\n",
    "- final — финальные характеристики.\n",
    "\n",
    "Возможные значения для блока [тип_параметра]:\n",
    "\n",
    "- input — параметры сырья;\n",
    "- output — параметры продукта;\n",
    "- state — параметры, характеризующие текущее состояние этапа;\n",
    "- calculation — расчётные характеристики.\n",
    "\n",
    "Данные находятся в трёх файлах:\n",
    "\n",
    "- gold_industry_train.csv — обучающая выборка;\n",
    "- gold_industry_test.csv — тестовая выборка;\n",
    "- gold_industry_full.csv — исходные данные."
   ]
  },
  {
   "cell_type": "markdown",
   "metadata": {},
   "source": [
    "## Подготовка данных"
   ]
  },
  {
   "cell_type": "markdown",
   "metadata": {},
   "source": [
    "### Откроем файлы и изучим их."
   ]
  },
  {
   "cell_type": "code",
   "execution_count": 1,
   "metadata": {},
   "outputs": [],
   "source": [
    "import pandas as pd\n",
    "import numpy as np\n",
    "from sklearn.metrics import mean_absolute_error\n",
    "import matplotlib.pyplot as plt\n",
    "from sklearn.preprocessing import StandardScaler\n",
    "from sklearn.model_selection import cross_val_score\n",
    "from sklearn.metrics import make_scorer\n",
    "from sklearn.model_selection import GridSearchCV\n",
    "from sklearn.tree import DecisionTreeRegressor\n",
    "from sklearn.ensemble import RandomForestRegressor\n",
    "from sklearn.linear_model import LinearRegression\n",
    "from sklearn.dummy import DummyRegressor\n",
    "plt.rcParams[\"figure.figsize\"] = (15,8)"
   ]
  },
  {
   "cell_type": "code",
   "execution_count": 2,
   "metadata": {},
   "outputs": [],
   "source": [
    "data_train = pd.read_csv('/datasets/gold_industry_train.csv')\n",
    "data_test = pd.read_csv('/datasets/gold_industry_test.csv')\n",
    "data_total = pd.read_csv('/datasets/gold_industry_full.csv')"
   ]
  },
  {
   "cell_type": "code",
   "execution_count": 3,
   "metadata": {},
   "outputs": [],
   "source": [
    "def data_info(data):\n",
    "    pd.set_option('max_columns', None)\n",
    "    display(data.head())\n",
    "    display(data.shape)\n",
    "    display(data.info())\n",
    "    display(data.describe())\n",
    "    display('Пропусков по столбцам:', data.isna().sum(), 'Всего колонок с пропусками:', (data.isna().sum() > 0).sum())\n",
    "    display('Дубликатов по дате:', data['date'].duplicated().sum())"
   ]
  },
  {
   "cell_type": "code",
   "execution_count": 4,
   "metadata": {
    "scrolled": false
   },
   "outputs": [
    {
     "data": {
      "text/html": [
       "<div>\n",
       "<style scoped>\n",
       "    .dataframe tbody tr th:only-of-type {\n",
       "        vertical-align: middle;\n",
       "    }\n",
       "\n",
       "    .dataframe tbody tr th {\n",
       "        vertical-align: top;\n",
       "    }\n",
       "\n",
       "    .dataframe thead th {\n",
       "        text-align: right;\n",
       "    }\n",
       "</style>\n",
       "<table border=\"1\" class=\"dataframe\">\n",
       "  <thead>\n",
       "    <tr style=\"text-align: right;\">\n",
       "      <th></th>\n",
       "      <th>date</th>\n",
       "      <th>rougher.input.feed_au</th>\n",
       "      <th>rougher.input.feed_ag</th>\n",
       "      <th>rougher.input.feed_pb</th>\n",
       "      <th>rougher.input.feed_sol</th>\n",
       "      <th>rougher.input.feed_rate</th>\n",
       "      <th>rougher.input.feed_size</th>\n",
       "      <th>rougher.input.floatbank10_sulfate</th>\n",
       "      <th>rougher.input.floatbank10_xanthate</th>\n",
       "      <th>rougher.state.floatbank10_a_air</th>\n",
       "      <th>rougher.state.floatbank10_a_level</th>\n",
       "      <th>rougher.state.floatbank10_b_air</th>\n",
       "      <th>rougher.state.floatbank10_b_level</th>\n",
       "      <th>rougher.state.floatbank10_c_air</th>\n",
       "      <th>rougher.state.floatbank10_c_level</th>\n",
       "      <th>rougher.state.floatbank10_d_air</th>\n",
       "      <th>rougher.state.floatbank10_d_level</th>\n",
       "      <th>rougher.state.floatbank10_e_air</th>\n",
       "      <th>rougher.state.floatbank10_e_level</th>\n",
       "      <th>rougher.state.floatbank10_f_air</th>\n",
       "      <th>rougher.state.floatbank10_f_level</th>\n",
       "      <th>rougher.input.floatbank11_sulfate</th>\n",
       "      <th>rougher.input.floatbank11_xanthate</th>\n",
       "      <th>rougher.calculation.sulfate_to_au_concentrate</th>\n",
       "      <th>rougher.calculation.floatbank10_sulfate_to_au_feed</th>\n",
       "      <th>rougher.calculation.floatbank11_sulfate_to_au_feed</th>\n",
       "      <th>rougher.calculation.au_pb_ratio</th>\n",
       "      <th>rougher.output.concentrate_au</th>\n",
       "      <th>rougher.output.concentrate_ag</th>\n",
       "      <th>rougher.output.concentrate_pb</th>\n",
       "      <th>rougher.output.concentrate_sol</th>\n",
       "      <th>rougher.output.recovery</th>\n",
       "      <th>rougher.output.tail_au</th>\n",
       "      <th>rougher.output.tail_ag</th>\n",
       "      <th>rougher.output.tail_pb</th>\n",
       "      <th>rougher.output.tail_sol</th>\n",
       "      <th>primary_cleaner.input.sulfate</th>\n",
       "      <th>primary_cleaner.input.depressant</th>\n",
       "      <th>primary_cleaner.input.feed_size</th>\n",
       "      <th>primary_cleaner.input.xanthate</th>\n",
       "      <th>primary_cleaner.state.floatbank8_a_air</th>\n",
       "      <th>primary_cleaner.state.floatbank8_a_level</th>\n",
       "      <th>primary_cleaner.state.floatbank8_b_air</th>\n",
       "      <th>primary_cleaner.state.floatbank8_b_level</th>\n",
       "      <th>primary_cleaner.state.floatbank8_c_air</th>\n",
       "      <th>primary_cleaner.state.floatbank8_c_level</th>\n",
       "      <th>primary_cleaner.state.floatbank8_d_air</th>\n",
       "      <th>primary_cleaner.state.floatbank8_d_level</th>\n",
       "      <th>primary_cleaner.output.concentrate_au</th>\n",
       "      <th>primary_cleaner.output.concentrate_ag</th>\n",
       "      <th>primary_cleaner.output.concentrate_pb</th>\n",
       "      <th>primary_cleaner.output.concentrate_sol</th>\n",
       "      <th>primary_cleaner.output.tail_au</th>\n",
       "      <th>primary_cleaner.output.tail_ag</th>\n",
       "      <th>primary_cleaner.output.tail_pb</th>\n",
       "      <th>primary_cleaner.output.tail_sol</th>\n",
       "      <th>secondary_cleaner.state.floatbank2_a_air</th>\n",
       "      <th>secondary_cleaner.state.floatbank2_a_level</th>\n",
       "      <th>secondary_cleaner.state.floatbank2_b_air</th>\n",
       "      <th>secondary_cleaner.state.floatbank2_b_level</th>\n",
       "      <th>secondary_cleaner.state.floatbank3_a_air</th>\n",
       "      <th>secondary_cleaner.state.floatbank3_a_level</th>\n",
       "      <th>secondary_cleaner.state.floatbank3_b_air</th>\n",
       "      <th>secondary_cleaner.state.floatbank3_b_level</th>\n",
       "      <th>secondary_cleaner.state.floatbank4_a_air</th>\n",
       "      <th>secondary_cleaner.state.floatbank4_a_level</th>\n",
       "      <th>secondary_cleaner.state.floatbank4_b_air</th>\n",
       "      <th>secondary_cleaner.state.floatbank4_b_level</th>\n",
       "      <th>secondary_cleaner.state.floatbank5_a_air</th>\n",
       "      <th>secondary_cleaner.state.floatbank5_a_level</th>\n",
       "      <th>secondary_cleaner.state.floatbank5_b_air</th>\n",
       "      <th>secondary_cleaner.state.floatbank5_b_level</th>\n",
       "      <th>secondary_cleaner.state.floatbank6_a_air</th>\n",
       "      <th>secondary_cleaner.state.floatbank6_a_level</th>\n",
       "      <th>secondary_cleaner.output.tail_au</th>\n",
       "      <th>secondary_cleaner.output.tail_ag</th>\n",
       "      <th>secondary_cleaner.output.tail_pb</th>\n",
       "      <th>secondary_cleaner.output.tail_sol</th>\n",
       "      <th>final.output.concentrate_au</th>\n",
       "      <th>final.output.concentrate_ag</th>\n",
       "      <th>final.output.concentrate_pb</th>\n",
       "      <th>final.output.concentrate_sol</th>\n",
       "      <th>final.output.recovery</th>\n",
       "      <th>final.output.tail_au</th>\n",
       "      <th>final.output.tail_ag</th>\n",
       "      <th>final.output.tail_pb</th>\n",
       "      <th>final.output.tail_sol</th>\n",
       "    </tr>\n",
       "  </thead>\n",
       "  <tbody>\n",
       "    <tr>\n",
       "      <th>0</th>\n",
       "      <td>2016-01-15 00:00:00</td>\n",
       "      <td>6.486150</td>\n",
       "      <td>6.100378</td>\n",
       "      <td>2.284912</td>\n",
       "      <td>36.808594</td>\n",
       "      <td>523.546326</td>\n",
       "      <td>55.486599</td>\n",
       "      <td>11.986616</td>\n",
       "      <td>6.007990</td>\n",
       "      <td>999.706909</td>\n",
       "      <td>-404.066986</td>\n",
       "      <td>1603.011353</td>\n",
       "      <td>-434.715027</td>\n",
       "      <td>1602.375000</td>\n",
       "      <td>-442.204468</td>\n",
       "      <td>1598.937256</td>\n",
       "      <td>-451.294128</td>\n",
       "      <td>1404.472046</td>\n",
       "      <td>-455.462982</td>\n",
       "      <td>1416.354980</td>\n",
       "      <td>-451.939636</td>\n",
       "      <td>11.836743</td>\n",
       "      <td>6.005818</td>\n",
       "      <td>41885.707031</td>\n",
       "      <td>3481.779053</td>\n",
       "      <td>3520.337158</td>\n",
       "      <td>2.838687</td>\n",
       "      <td>19.793808</td>\n",
       "      <td>11.500771</td>\n",
       "      <td>7.101074</td>\n",
       "      <td>28.029297</td>\n",
       "      <td>87.107763</td>\n",
       "      <td>1.170244</td>\n",
       "      <td>5.008018</td>\n",
       "      <td>0.508728</td>\n",
       "      <td>19.154297</td>\n",
       "      <td>127.092003</td>\n",
       "      <td>10.128295</td>\n",
       "      <td>7.25</td>\n",
       "      <td>0.988759</td>\n",
       "      <td>1549.775757</td>\n",
       "      <td>-498.912140</td>\n",
       "      <td>1551.434204</td>\n",
       "      <td>-516.403442</td>\n",
       "      <td>1549.873901</td>\n",
       "      <td>-498.666595</td>\n",
       "      <td>1554.367432</td>\n",
       "      <td>-493.428131</td>\n",
       "      <td>34.174427</td>\n",
       "      <td>8.547551</td>\n",
       "      <td>10.389648</td>\n",
       "      <td>19.529297</td>\n",
       "      <td>2.106679</td>\n",
       "      <td>14.936526</td>\n",
       "      <td>2.534912</td>\n",
       "      <td>7.476074</td>\n",
       "      <td>25.853109</td>\n",
       "      <td>-498.526489</td>\n",
       "      <td>23.893660</td>\n",
       "      <td>-501.406281</td>\n",
       "      <td>23.961798</td>\n",
       "      <td>-495.262817</td>\n",
       "      <td>21.940409</td>\n",
       "      <td>-499.340973</td>\n",
       "      <td>14.016835</td>\n",
       "      <td>-502.488007</td>\n",
       "      <td>12.099931</td>\n",
       "      <td>-504.715942</td>\n",
       "      <td>9.925633</td>\n",
       "      <td>-498.310211</td>\n",
       "      <td>8.079666</td>\n",
       "      <td>-500.470978</td>\n",
       "      <td>14.151341</td>\n",
       "      <td>-605.841980</td>\n",
       "      <td>2.606185</td>\n",
       "      <td>14.500184</td>\n",
       "      <td>4.694824</td>\n",
       "      <td>8.764648</td>\n",
       "      <td>42.192020</td>\n",
       "      <td>6.055403</td>\n",
       "      <td>9.889648</td>\n",
       "      <td>5.507324</td>\n",
       "      <td>70.541216</td>\n",
       "      <td>2.143149</td>\n",
       "      <td>10.411962</td>\n",
       "      <td>0.895447</td>\n",
       "      <td>16.904297</td>\n",
       "    </tr>\n",
       "    <tr>\n",
       "      <th>1</th>\n",
       "      <td>2016-01-15 01:00:00</td>\n",
       "      <td>6.478583</td>\n",
       "      <td>6.161113</td>\n",
       "      <td>2.266033</td>\n",
       "      <td>35.753385</td>\n",
       "      <td>525.290581</td>\n",
       "      <td>57.278666</td>\n",
       "      <td>11.971193</td>\n",
       "      <td>6.005766</td>\n",
       "      <td>1000.286398</td>\n",
       "      <td>-400.065196</td>\n",
       "      <td>1600.754587</td>\n",
       "      <td>-449.953435</td>\n",
       "      <td>1600.479580</td>\n",
       "      <td>-449.830646</td>\n",
       "      <td>1600.527589</td>\n",
       "      <td>-449.953649</td>\n",
       "      <td>1399.227084</td>\n",
       "      <td>-450.869848</td>\n",
       "      <td>1399.719514</td>\n",
       "      <td>-450.119001</td>\n",
       "      <td>11.996163</td>\n",
       "      <td>6.012594</td>\n",
       "      <td>42050.861809</td>\n",
       "      <td>3498.370979</td>\n",
       "      <td>3489.981857</td>\n",
       "      <td>2.858998</td>\n",
       "      <td>20.050975</td>\n",
       "      <td>11.615865</td>\n",
       "      <td>7.278807</td>\n",
       "      <td>28.067063</td>\n",
       "      <td>86.843261</td>\n",
       "      <td>1.184827</td>\n",
       "      <td>4.955378</td>\n",
       "      <td>0.536689</td>\n",
       "      <td>18.965234</td>\n",
       "      <td>125.629232</td>\n",
       "      <td>10.296251</td>\n",
       "      <td>7.25</td>\n",
       "      <td>1.002663</td>\n",
       "      <td>1576.166671</td>\n",
       "      <td>-500.904965</td>\n",
       "      <td>1575.950626</td>\n",
       "      <td>-499.865889</td>\n",
       "      <td>1575.994189</td>\n",
       "      <td>-499.315107</td>\n",
       "      <td>1574.479259</td>\n",
       "      <td>-498.931665</td>\n",
       "      <td>34.118526</td>\n",
       "      <td>8.558743</td>\n",
       "      <td>10.497069</td>\n",
       "      <td>19.369147</td>\n",
       "      <td>2.353017</td>\n",
       "      <td>16.250511</td>\n",
       "      <td>3.049646</td>\n",
       "      <td>6.733907</td>\n",
       "      <td>25.880539</td>\n",
       "      <td>-499.989656</td>\n",
       "      <td>23.889530</td>\n",
       "      <td>-500.372428</td>\n",
       "      <td>23.970550</td>\n",
       "      <td>-500.085473</td>\n",
       "      <td>22.085714</td>\n",
       "      <td>-499.446897</td>\n",
       "      <td>13.992281</td>\n",
       "      <td>-505.503262</td>\n",
       "      <td>11.950531</td>\n",
       "      <td>-501.331529</td>\n",
       "      <td>10.039245</td>\n",
       "      <td>-500.169983</td>\n",
       "      <td>7.984757</td>\n",
       "      <td>-500.582168</td>\n",
       "      <td>13.998353</td>\n",
       "      <td>-599.787184</td>\n",
       "      <td>2.488248</td>\n",
       "      <td>14.265474</td>\n",
       "      <td>4.592547</td>\n",
       "      <td>9.001494</td>\n",
       "      <td>42.701629</td>\n",
       "      <td>6.029369</td>\n",
       "      <td>9.968944</td>\n",
       "      <td>5.257781</td>\n",
       "      <td>69.266198</td>\n",
       "      <td>2.224930</td>\n",
       "      <td>10.462676</td>\n",
       "      <td>0.927452</td>\n",
       "      <td>16.634514</td>\n",
       "    </tr>\n",
       "    <tr>\n",
       "      <th>2</th>\n",
       "      <td>2016-01-15 02:00:00</td>\n",
       "      <td>6.362222</td>\n",
       "      <td>6.116455</td>\n",
       "      <td>2.159622</td>\n",
       "      <td>35.971630</td>\n",
       "      <td>530.026610</td>\n",
       "      <td>57.510649</td>\n",
       "      <td>11.920603</td>\n",
       "      <td>6.197377</td>\n",
       "      <td>999.719565</td>\n",
       "      <td>-400.074028</td>\n",
       "      <td>1599.337330</td>\n",
       "      <td>-450.008530</td>\n",
       "      <td>1599.672797</td>\n",
       "      <td>-449.954491</td>\n",
       "      <td>1599.849325</td>\n",
       "      <td>-449.954185</td>\n",
       "      <td>1399.180945</td>\n",
       "      <td>-449.937588</td>\n",
       "      <td>1400.316682</td>\n",
       "      <td>-450.527147</td>\n",
       "      <td>11.920305</td>\n",
       "      <td>6.204633</td>\n",
       "      <td>42018.101184</td>\n",
       "      <td>3495.348910</td>\n",
       "      <td>3502.359819</td>\n",
       "      <td>2.945989</td>\n",
       "      <td>19.737170</td>\n",
       "      <td>11.695753</td>\n",
       "      <td>7.216833</td>\n",
       "      <td>27.454037</td>\n",
       "      <td>86.842308</td>\n",
       "      <td>1.162562</td>\n",
       "      <td>4.843460</td>\n",
       "      <td>0.546416</td>\n",
       "      <td>18.808533</td>\n",
       "      <td>123.819808</td>\n",
       "      <td>11.316280</td>\n",
       "      <td>7.25</td>\n",
       "      <td>0.991265</td>\n",
       "      <td>1601.556163</td>\n",
       "      <td>-499.997791</td>\n",
       "      <td>1600.386685</td>\n",
       "      <td>-500.607762</td>\n",
       "      <td>1602.003542</td>\n",
       "      <td>-500.870069</td>\n",
       "      <td>1599.541515</td>\n",
       "      <td>-499.827444</td>\n",
       "      <td>33.969464</td>\n",
       "      <td>8.603505</td>\n",
       "      <td>10.354494</td>\n",
       "      <td>19.167579</td>\n",
       "      <td>2.416800</td>\n",
       "      <td>16.491823</td>\n",
       "      <td>3.124664</td>\n",
       "      <td>6.471768</td>\n",
       "      <td>26.005245</td>\n",
       "      <td>-499.929616</td>\n",
       "      <td>23.886657</td>\n",
       "      <td>-499.951928</td>\n",
       "      <td>23.913535</td>\n",
       "      <td>-499.442343</td>\n",
       "      <td>23.957717</td>\n",
       "      <td>-499.901982</td>\n",
       "      <td>14.015015</td>\n",
       "      <td>-502.520901</td>\n",
       "      <td>11.912783</td>\n",
       "      <td>-501.133383</td>\n",
       "      <td>10.070913</td>\n",
       "      <td>-500.129135</td>\n",
       "      <td>8.013877</td>\n",
       "      <td>-500.517572</td>\n",
       "      <td>14.028663</td>\n",
       "      <td>-601.427363</td>\n",
       "      <td>2.458187</td>\n",
       "      <td>14.115662</td>\n",
       "      <td>4.624775</td>\n",
       "      <td>8.842896</td>\n",
       "      <td>42.657501</td>\n",
       "      <td>6.055926</td>\n",
       "      <td>10.213995</td>\n",
       "      <td>5.383759</td>\n",
       "      <td>68.116445</td>\n",
       "      <td>2.257889</td>\n",
       "      <td>10.507046</td>\n",
       "      <td>0.953716</td>\n",
       "      <td>16.208849</td>\n",
       "    </tr>\n",
       "    <tr>\n",
       "      <th>3</th>\n",
       "      <td>2016-01-15 03:00:00</td>\n",
       "      <td>6.118189</td>\n",
       "      <td>6.043309</td>\n",
       "      <td>2.037807</td>\n",
       "      <td>36.862241</td>\n",
       "      <td>542.590390</td>\n",
       "      <td>57.792734</td>\n",
       "      <td>11.630094</td>\n",
       "      <td>6.203177</td>\n",
       "      <td>999.814770</td>\n",
       "      <td>-400.200179</td>\n",
       "      <td>1600.059442</td>\n",
       "      <td>-450.619948</td>\n",
       "      <td>1600.012842</td>\n",
       "      <td>-449.910497</td>\n",
       "      <td>1597.725177</td>\n",
       "      <td>-450.130127</td>\n",
       "      <td>1400.943157</td>\n",
       "      <td>-450.030142</td>\n",
       "      <td>1400.234743</td>\n",
       "      <td>-449.790835</td>\n",
       "      <td>11.692450</td>\n",
       "      <td>6.196578</td>\n",
       "      <td>42029.447991</td>\n",
       "      <td>3498.578313</td>\n",
       "      <td>3499.162912</td>\n",
       "      <td>3.002340</td>\n",
       "      <td>19.320810</td>\n",
       "      <td>11.915047</td>\n",
       "      <td>7.175616</td>\n",
       "      <td>27.341277</td>\n",
       "      <td>87.226430</td>\n",
       "      <td>1.079755</td>\n",
       "      <td>4.655288</td>\n",
       "      <td>0.542525</td>\n",
       "      <td>19.330200</td>\n",
       "      <td>122.270188</td>\n",
       "      <td>11.322140</td>\n",
       "      <td>7.25</td>\n",
       "      <td>0.996739</td>\n",
       "      <td>1599.968720</td>\n",
       "      <td>-500.951778</td>\n",
       "      <td>1600.659236</td>\n",
       "      <td>-499.677094</td>\n",
       "      <td>1600.304144</td>\n",
       "      <td>-500.727997</td>\n",
       "      <td>1600.449520</td>\n",
       "      <td>-500.052575</td>\n",
       "      <td>28.260743</td>\n",
       "      <td>7.221879</td>\n",
       "      <td>8.496563</td>\n",
       "      <td>15.978538</td>\n",
       "      <td>2.262051</td>\n",
       "      <td>16.024359</td>\n",
       "      <td>2.960362</td>\n",
       "      <td>6.843791</td>\n",
       "      <td>25.942508</td>\n",
       "      <td>-499.176749</td>\n",
       "      <td>23.955516</td>\n",
       "      <td>-499.848796</td>\n",
       "      <td>23.966838</td>\n",
       "      <td>-500.008812</td>\n",
       "      <td>23.954443</td>\n",
       "      <td>-499.944710</td>\n",
       "      <td>14.036510</td>\n",
       "      <td>-500.857308</td>\n",
       "      <td>11.999550</td>\n",
       "      <td>-501.193686</td>\n",
       "      <td>9.970366</td>\n",
       "      <td>-499.201640</td>\n",
       "      <td>7.977324</td>\n",
       "      <td>-500.255908</td>\n",
       "      <td>14.005551</td>\n",
       "      <td>-599.996129</td>\n",
       "      <td>2.322062</td>\n",
       "      <td>13.732071</td>\n",
       "      <td>4.482453</td>\n",
       "      <td>9.122857</td>\n",
       "      <td>42.689819</td>\n",
       "      <td>6.047977</td>\n",
       "      <td>9.977019</td>\n",
       "      <td>4.858634</td>\n",
       "      <td>68.347543</td>\n",
       "      <td>2.146849</td>\n",
       "      <td>10.422762</td>\n",
       "      <td>0.883763</td>\n",
       "      <td>16.532835</td>\n",
       "    </tr>\n",
       "    <tr>\n",
       "      <th>4</th>\n",
       "      <td>2016-01-15 04:00:00</td>\n",
       "      <td>5.663707</td>\n",
       "      <td>6.060915</td>\n",
       "      <td>1.786875</td>\n",
       "      <td>34.347666</td>\n",
       "      <td>540.531893</td>\n",
       "      <td>56.047189</td>\n",
       "      <td>10.957755</td>\n",
       "      <td>6.198826</td>\n",
       "      <td>999.678690</td>\n",
       "      <td>-399.752729</td>\n",
       "      <td>1600.208824</td>\n",
       "      <td>-449.599614</td>\n",
       "      <td>1600.357732</td>\n",
       "      <td>-450.034364</td>\n",
       "      <td>1599.759049</td>\n",
       "      <td>-449.909799</td>\n",
       "      <td>1401.560902</td>\n",
       "      <td>-448.877187</td>\n",
       "      <td>1401.160227</td>\n",
       "      <td>-450.407128</td>\n",
       "      <td>10.960521</td>\n",
       "      <td>6.194897</td>\n",
       "      <td>42125.354245</td>\n",
       "      <td>3494.800771</td>\n",
       "      <td>3506.679315</td>\n",
       "      <td>3.169615</td>\n",
       "      <td>19.216101</td>\n",
       "      <td>12.411054</td>\n",
       "      <td>7.240205</td>\n",
       "      <td>27.041023</td>\n",
       "      <td>86.688794</td>\n",
       "      <td>1.012642</td>\n",
       "      <td>4.552800</td>\n",
       "      <td>0.515438</td>\n",
       "      <td>19.267422</td>\n",
       "      <td>117.988169</td>\n",
       "      <td>11.913613</td>\n",
       "      <td>7.25</td>\n",
       "      <td>1.009869</td>\n",
       "      <td>1601.339707</td>\n",
       "      <td>-498.975456</td>\n",
       "      <td>1601.437854</td>\n",
       "      <td>-500.323246</td>\n",
       "      <td>1599.581894</td>\n",
       "      <td>-500.888152</td>\n",
       "      <td>1602.649541</td>\n",
       "      <td>-500.593010</td>\n",
       "      <td>33.044932</td>\n",
       "      <td>9.089428</td>\n",
       "      <td>9.986786</td>\n",
       "      <td>19.199864</td>\n",
       "      <td>2.277073</td>\n",
       "      <td>16.480185</td>\n",
       "      <td>3.112100</td>\n",
       "      <td>6.550154</td>\n",
       "      <td>26.024787</td>\n",
       "      <td>-500.279091</td>\n",
       "      <td>23.955345</td>\n",
       "      <td>-500.593614</td>\n",
       "      <td>23.985703</td>\n",
       "      <td>-500.083811</td>\n",
       "      <td>23.958945</td>\n",
       "      <td>-499.990309</td>\n",
       "      <td>14.027298</td>\n",
       "      <td>-499.838632</td>\n",
       "      <td>11.953070</td>\n",
       "      <td>-501.053894</td>\n",
       "      <td>9.925709</td>\n",
       "      <td>-501.686727</td>\n",
       "      <td>7.894242</td>\n",
       "      <td>-500.356035</td>\n",
       "      <td>13.996647</td>\n",
       "      <td>-601.496691</td>\n",
       "      <td>2.330448</td>\n",
       "      <td>14.079996</td>\n",
       "      <td>4.470737</td>\n",
       "      <td>8.871028</td>\n",
       "      <td>42.774141</td>\n",
       "      <td>6.148599</td>\n",
       "      <td>10.142511</td>\n",
       "      <td>4.939416</td>\n",
       "      <td>66.927016</td>\n",
       "      <td>2.055292</td>\n",
       "      <td>10.360302</td>\n",
       "      <td>0.792826</td>\n",
       "      <td>16.525686</td>\n",
       "    </tr>\n",
       "  </tbody>\n",
       "</table>\n",
       "</div>"
      ],
      "text/plain": [
       "                  date  rougher.input.feed_au  rougher.input.feed_ag  \\\n",
       "0  2016-01-15 00:00:00               6.486150               6.100378   \n",
       "1  2016-01-15 01:00:00               6.478583               6.161113   \n",
       "2  2016-01-15 02:00:00               6.362222               6.116455   \n",
       "3  2016-01-15 03:00:00               6.118189               6.043309   \n",
       "4  2016-01-15 04:00:00               5.663707               6.060915   \n",
       "\n",
       "   rougher.input.feed_pb  rougher.input.feed_sol  rougher.input.feed_rate  \\\n",
       "0               2.284912               36.808594               523.546326   \n",
       "1               2.266033               35.753385               525.290581   \n",
       "2               2.159622               35.971630               530.026610   \n",
       "3               2.037807               36.862241               542.590390   \n",
       "4               1.786875               34.347666               540.531893   \n",
       "\n",
       "   rougher.input.feed_size  rougher.input.floatbank10_sulfate  \\\n",
       "0                55.486599                          11.986616   \n",
       "1                57.278666                          11.971193   \n",
       "2                57.510649                          11.920603   \n",
       "3                57.792734                          11.630094   \n",
       "4                56.047189                          10.957755   \n",
       "\n",
       "   rougher.input.floatbank10_xanthate  rougher.state.floatbank10_a_air  \\\n",
       "0                            6.007990                       999.706909   \n",
       "1                            6.005766                      1000.286398   \n",
       "2                            6.197377                       999.719565   \n",
       "3                            6.203177                       999.814770   \n",
       "4                            6.198826                       999.678690   \n",
       "\n",
       "   rougher.state.floatbank10_a_level  rougher.state.floatbank10_b_air  \\\n",
       "0                        -404.066986                      1603.011353   \n",
       "1                        -400.065196                      1600.754587   \n",
       "2                        -400.074028                      1599.337330   \n",
       "3                        -400.200179                      1600.059442   \n",
       "4                        -399.752729                      1600.208824   \n",
       "\n",
       "   rougher.state.floatbank10_b_level  rougher.state.floatbank10_c_air  \\\n",
       "0                        -434.715027                      1602.375000   \n",
       "1                        -449.953435                      1600.479580   \n",
       "2                        -450.008530                      1599.672797   \n",
       "3                        -450.619948                      1600.012842   \n",
       "4                        -449.599614                      1600.357732   \n",
       "\n",
       "   rougher.state.floatbank10_c_level  rougher.state.floatbank10_d_air  \\\n",
       "0                        -442.204468                      1598.937256   \n",
       "1                        -449.830646                      1600.527589   \n",
       "2                        -449.954491                      1599.849325   \n",
       "3                        -449.910497                      1597.725177   \n",
       "4                        -450.034364                      1599.759049   \n",
       "\n",
       "   rougher.state.floatbank10_d_level  rougher.state.floatbank10_e_air  \\\n",
       "0                        -451.294128                      1404.472046   \n",
       "1                        -449.953649                      1399.227084   \n",
       "2                        -449.954185                      1399.180945   \n",
       "3                        -450.130127                      1400.943157   \n",
       "4                        -449.909799                      1401.560902   \n",
       "\n",
       "   rougher.state.floatbank10_e_level  rougher.state.floatbank10_f_air  \\\n",
       "0                        -455.462982                      1416.354980   \n",
       "1                        -450.869848                      1399.719514   \n",
       "2                        -449.937588                      1400.316682   \n",
       "3                        -450.030142                      1400.234743   \n",
       "4                        -448.877187                      1401.160227   \n",
       "\n",
       "   rougher.state.floatbank10_f_level  rougher.input.floatbank11_sulfate  \\\n",
       "0                        -451.939636                          11.836743   \n",
       "1                        -450.119001                          11.996163   \n",
       "2                        -450.527147                          11.920305   \n",
       "3                        -449.790835                          11.692450   \n",
       "4                        -450.407128                          10.960521   \n",
       "\n",
       "   rougher.input.floatbank11_xanthate  \\\n",
       "0                            6.005818   \n",
       "1                            6.012594   \n",
       "2                            6.204633   \n",
       "3                            6.196578   \n",
       "4                            6.194897   \n",
       "\n",
       "   rougher.calculation.sulfate_to_au_concentrate  \\\n",
       "0                                   41885.707031   \n",
       "1                                   42050.861809   \n",
       "2                                   42018.101184   \n",
       "3                                   42029.447991   \n",
       "4                                   42125.354245   \n",
       "\n",
       "   rougher.calculation.floatbank10_sulfate_to_au_feed  \\\n",
       "0                                        3481.779053    \n",
       "1                                        3498.370979    \n",
       "2                                        3495.348910    \n",
       "3                                        3498.578313    \n",
       "4                                        3494.800771    \n",
       "\n",
       "   rougher.calculation.floatbank11_sulfate_to_au_feed  \\\n",
       "0                                        3520.337158    \n",
       "1                                        3489.981857    \n",
       "2                                        3502.359819    \n",
       "3                                        3499.162912    \n",
       "4                                        3506.679315    \n",
       "\n",
       "   rougher.calculation.au_pb_ratio  rougher.output.concentrate_au  \\\n",
       "0                         2.838687                      19.793808   \n",
       "1                         2.858998                      20.050975   \n",
       "2                         2.945989                      19.737170   \n",
       "3                         3.002340                      19.320810   \n",
       "4                         3.169615                      19.216101   \n",
       "\n",
       "   rougher.output.concentrate_ag  rougher.output.concentrate_pb  \\\n",
       "0                      11.500771                       7.101074   \n",
       "1                      11.615865                       7.278807   \n",
       "2                      11.695753                       7.216833   \n",
       "3                      11.915047                       7.175616   \n",
       "4                      12.411054                       7.240205   \n",
       "\n",
       "   rougher.output.concentrate_sol  rougher.output.recovery  \\\n",
       "0                       28.029297                87.107763   \n",
       "1                       28.067063                86.843261   \n",
       "2                       27.454037                86.842308   \n",
       "3                       27.341277                87.226430   \n",
       "4                       27.041023                86.688794   \n",
       "\n",
       "   rougher.output.tail_au  rougher.output.tail_ag  rougher.output.tail_pb  \\\n",
       "0                1.170244                5.008018                0.508728   \n",
       "1                1.184827                4.955378                0.536689   \n",
       "2                1.162562                4.843460                0.546416   \n",
       "3                1.079755                4.655288                0.542525   \n",
       "4                1.012642                4.552800                0.515438   \n",
       "\n",
       "   rougher.output.tail_sol  primary_cleaner.input.sulfate  \\\n",
       "0                19.154297                     127.092003   \n",
       "1                18.965234                     125.629232   \n",
       "2                18.808533                     123.819808   \n",
       "3                19.330200                     122.270188   \n",
       "4                19.267422                     117.988169   \n",
       "\n",
       "   primary_cleaner.input.depressant  primary_cleaner.input.feed_size  \\\n",
       "0                         10.128295                             7.25   \n",
       "1                         10.296251                             7.25   \n",
       "2                         11.316280                             7.25   \n",
       "3                         11.322140                             7.25   \n",
       "4                         11.913613                             7.25   \n",
       "\n",
       "   primary_cleaner.input.xanthate  primary_cleaner.state.floatbank8_a_air  \\\n",
       "0                        0.988759                             1549.775757   \n",
       "1                        1.002663                             1576.166671   \n",
       "2                        0.991265                             1601.556163   \n",
       "3                        0.996739                             1599.968720   \n",
       "4                        1.009869                             1601.339707   \n",
       "\n",
       "   primary_cleaner.state.floatbank8_a_level  \\\n",
       "0                               -498.912140   \n",
       "1                               -500.904965   \n",
       "2                               -499.997791   \n",
       "3                               -500.951778   \n",
       "4                               -498.975456   \n",
       "\n",
       "   primary_cleaner.state.floatbank8_b_air  \\\n",
       "0                             1551.434204   \n",
       "1                             1575.950626   \n",
       "2                             1600.386685   \n",
       "3                             1600.659236   \n",
       "4                             1601.437854   \n",
       "\n",
       "   primary_cleaner.state.floatbank8_b_level  \\\n",
       "0                               -516.403442   \n",
       "1                               -499.865889   \n",
       "2                               -500.607762   \n",
       "3                               -499.677094   \n",
       "4                               -500.323246   \n",
       "\n",
       "   primary_cleaner.state.floatbank8_c_air  \\\n",
       "0                             1549.873901   \n",
       "1                             1575.994189   \n",
       "2                             1602.003542   \n",
       "3                             1600.304144   \n",
       "4                             1599.581894   \n",
       "\n",
       "   primary_cleaner.state.floatbank8_c_level  \\\n",
       "0                               -498.666595   \n",
       "1                               -499.315107   \n",
       "2                               -500.870069   \n",
       "3                               -500.727997   \n",
       "4                               -500.888152   \n",
       "\n",
       "   primary_cleaner.state.floatbank8_d_air  \\\n",
       "0                             1554.367432   \n",
       "1                             1574.479259   \n",
       "2                             1599.541515   \n",
       "3                             1600.449520   \n",
       "4                             1602.649541   \n",
       "\n",
       "   primary_cleaner.state.floatbank8_d_level  \\\n",
       "0                               -493.428131   \n",
       "1                               -498.931665   \n",
       "2                               -499.827444   \n",
       "3                               -500.052575   \n",
       "4                               -500.593010   \n",
       "\n",
       "   primary_cleaner.output.concentrate_au  \\\n",
       "0                              34.174427   \n",
       "1                              34.118526   \n",
       "2                              33.969464   \n",
       "3                              28.260743   \n",
       "4                              33.044932   \n",
       "\n",
       "   primary_cleaner.output.concentrate_ag  \\\n",
       "0                               8.547551   \n",
       "1                               8.558743   \n",
       "2                               8.603505   \n",
       "3                               7.221879   \n",
       "4                               9.089428   \n",
       "\n",
       "   primary_cleaner.output.concentrate_pb  \\\n",
       "0                              10.389648   \n",
       "1                              10.497069   \n",
       "2                              10.354494   \n",
       "3                               8.496563   \n",
       "4                               9.986786   \n",
       "\n",
       "   primary_cleaner.output.concentrate_sol  primary_cleaner.output.tail_au  \\\n",
       "0                               19.529297                        2.106679   \n",
       "1                               19.369147                        2.353017   \n",
       "2                               19.167579                        2.416800   \n",
       "3                               15.978538                        2.262051   \n",
       "4                               19.199864                        2.277073   \n",
       "\n",
       "   primary_cleaner.output.tail_ag  primary_cleaner.output.tail_pb  \\\n",
       "0                       14.936526                        2.534912   \n",
       "1                       16.250511                        3.049646   \n",
       "2                       16.491823                        3.124664   \n",
       "3                       16.024359                        2.960362   \n",
       "4                       16.480185                        3.112100   \n",
       "\n",
       "   primary_cleaner.output.tail_sol  secondary_cleaner.state.floatbank2_a_air  \\\n",
       "0                         7.476074                                 25.853109   \n",
       "1                         6.733907                                 25.880539   \n",
       "2                         6.471768                                 26.005245   \n",
       "3                         6.843791                                 25.942508   \n",
       "4                         6.550154                                 26.024787   \n",
       "\n",
       "   secondary_cleaner.state.floatbank2_a_level  \\\n",
       "0                                 -498.526489   \n",
       "1                                 -499.989656   \n",
       "2                                 -499.929616   \n",
       "3                                 -499.176749   \n",
       "4                                 -500.279091   \n",
       "\n",
       "   secondary_cleaner.state.floatbank2_b_air  \\\n",
       "0                                 23.893660   \n",
       "1                                 23.889530   \n",
       "2                                 23.886657   \n",
       "3                                 23.955516   \n",
       "4                                 23.955345   \n",
       "\n",
       "   secondary_cleaner.state.floatbank2_b_level  \\\n",
       "0                                 -501.406281   \n",
       "1                                 -500.372428   \n",
       "2                                 -499.951928   \n",
       "3                                 -499.848796   \n",
       "4                                 -500.593614   \n",
       "\n",
       "   secondary_cleaner.state.floatbank3_a_air  \\\n",
       "0                                 23.961798   \n",
       "1                                 23.970550   \n",
       "2                                 23.913535   \n",
       "3                                 23.966838   \n",
       "4                                 23.985703   \n",
       "\n",
       "   secondary_cleaner.state.floatbank3_a_level  \\\n",
       "0                                 -495.262817   \n",
       "1                                 -500.085473   \n",
       "2                                 -499.442343   \n",
       "3                                 -500.008812   \n",
       "4                                 -500.083811   \n",
       "\n",
       "   secondary_cleaner.state.floatbank3_b_air  \\\n",
       "0                                 21.940409   \n",
       "1                                 22.085714   \n",
       "2                                 23.957717   \n",
       "3                                 23.954443   \n",
       "4                                 23.958945   \n",
       "\n",
       "   secondary_cleaner.state.floatbank3_b_level  \\\n",
       "0                                 -499.340973   \n",
       "1                                 -499.446897   \n",
       "2                                 -499.901982   \n",
       "3                                 -499.944710   \n",
       "4                                 -499.990309   \n",
       "\n",
       "   secondary_cleaner.state.floatbank4_a_air  \\\n",
       "0                                 14.016835   \n",
       "1                                 13.992281   \n",
       "2                                 14.015015   \n",
       "3                                 14.036510   \n",
       "4                                 14.027298   \n",
       "\n",
       "   secondary_cleaner.state.floatbank4_a_level  \\\n",
       "0                                 -502.488007   \n",
       "1                                 -505.503262   \n",
       "2                                 -502.520901   \n",
       "3                                 -500.857308   \n",
       "4                                 -499.838632   \n",
       "\n",
       "   secondary_cleaner.state.floatbank4_b_air  \\\n",
       "0                                 12.099931   \n",
       "1                                 11.950531   \n",
       "2                                 11.912783   \n",
       "3                                 11.999550   \n",
       "4                                 11.953070   \n",
       "\n",
       "   secondary_cleaner.state.floatbank4_b_level  \\\n",
       "0                                 -504.715942   \n",
       "1                                 -501.331529   \n",
       "2                                 -501.133383   \n",
       "3                                 -501.193686   \n",
       "4                                 -501.053894   \n",
       "\n",
       "   secondary_cleaner.state.floatbank5_a_air  \\\n",
       "0                                  9.925633   \n",
       "1                                 10.039245   \n",
       "2                                 10.070913   \n",
       "3                                  9.970366   \n",
       "4                                  9.925709   \n",
       "\n",
       "   secondary_cleaner.state.floatbank5_a_level  \\\n",
       "0                                 -498.310211   \n",
       "1                                 -500.169983   \n",
       "2                                 -500.129135   \n",
       "3                                 -499.201640   \n",
       "4                                 -501.686727   \n",
       "\n",
       "   secondary_cleaner.state.floatbank5_b_air  \\\n",
       "0                                  8.079666   \n",
       "1                                  7.984757   \n",
       "2                                  8.013877   \n",
       "3                                  7.977324   \n",
       "4                                  7.894242   \n",
       "\n",
       "   secondary_cleaner.state.floatbank5_b_level  \\\n",
       "0                                 -500.470978   \n",
       "1                                 -500.582168   \n",
       "2                                 -500.517572   \n",
       "3                                 -500.255908   \n",
       "4                                 -500.356035   \n",
       "\n",
       "   secondary_cleaner.state.floatbank6_a_air  \\\n",
       "0                                 14.151341   \n",
       "1                                 13.998353   \n",
       "2                                 14.028663   \n",
       "3                                 14.005551   \n",
       "4                                 13.996647   \n",
       "\n",
       "   secondary_cleaner.state.floatbank6_a_level  \\\n",
       "0                                 -605.841980   \n",
       "1                                 -599.787184   \n",
       "2                                 -601.427363   \n",
       "3                                 -599.996129   \n",
       "4                                 -601.496691   \n",
       "\n",
       "   secondary_cleaner.output.tail_au  secondary_cleaner.output.tail_ag  \\\n",
       "0                          2.606185                         14.500184   \n",
       "1                          2.488248                         14.265474   \n",
       "2                          2.458187                         14.115662   \n",
       "3                          2.322062                         13.732071   \n",
       "4                          2.330448                         14.079996   \n",
       "\n",
       "   secondary_cleaner.output.tail_pb  secondary_cleaner.output.tail_sol  \\\n",
       "0                          4.694824                           8.764648   \n",
       "1                          4.592547                           9.001494   \n",
       "2                          4.624775                           8.842896   \n",
       "3                          4.482453                           9.122857   \n",
       "4                          4.470737                           8.871028   \n",
       "\n",
       "   final.output.concentrate_au  final.output.concentrate_ag  \\\n",
       "0                    42.192020                     6.055403   \n",
       "1                    42.701629                     6.029369   \n",
       "2                    42.657501                     6.055926   \n",
       "3                    42.689819                     6.047977   \n",
       "4                    42.774141                     6.148599   \n",
       "\n",
       "   final.output.concentrate_pb  final.output.concentrate_sol  \\\n",
       "0                     9.889648                      5.507324   \n",
       "1                     9.968944                      5.257781   \n",
       "2                    10.213995                      5.383759   \n",
       "3                     9.977019                      4.858634   \n",
       "4                    10.142511                      4.939416   \n",
       "\n",
       "   final.output.recovery  final.output.tail_au  final.output.tail_ag  \\\n",
       "0              70.541216              2.143149             10.411962   \n",
       "1              69.266198              2.224930             10.462676   \n",
       "2              68.116445              2.257889             10.507046   \n",
       "3              68.347543              2.146849             10.422762   \n",
       "4              66.927016              2.055292             10.360302   \n",
       "\n",
       "   final.output.tail_pb  final.output.tail_sol  \n",
       "0              0.895447              16.904297  \n",
       "1              0.927452              16.634514  \n",
       "2              0.953716              16.208849  \n",
       "3              0.883763              16.532835  \n",
       "4              0.792826              16.525686  "
      ]
     },
     "metadata": {},
     "output_type": "display_data"
    },
    {
     "data": {
      "text/plain": [
       "(14579, 87)"
      ]
     },
     "metadata": {},
     "output_type": "display_data"
    },
    {
     "name": "stdout",
     "output_type": "stream",
     "text": [
      "<class 'pandas.core.frame.DataFrame'>\n",
      "RangeIndex: 14579 entries, 0 to 14578\n",
      "Data columns (total 87 columns):\n",
      " #   Column                                              Non-Null Count  Dtype  \n",
      "---  ------                                              --------------  -----  \n",
      " 0   date                                                14579 non-null  object \n",
      " 1   rougher.input.feed_au                               14579 non-null  float64\n",
      " 2   rougher.input.feed_ag                               14579 non-null  float64\n",
      " 3   rougher.input.feed_pb                               14507 non-null  float64\n",
      " 4   rougher.input.feed_sol                              14502 non-null  float64\n",
      " 5   rougher.input.feed_rate                             14572 non-null  float64\n",
      " 6   rougher.input.feed_size                             14478 non-null  float64\n",
      " 7   rougher.input.floatbank10_sulfate                   14548 non-null  float64\n",
      " 8   rougher.input.floatbank10_xanthate                  14572 non-null  float64\n",
      " 9   rougher.state.floatbank10_a_air                     14579 non-null  float64\n",
      " 10  rougher.state.floatbank10_a_level                   14579 non-null  float64\n",
      " 11  rougher.state.floatbank10_b_air                     14579 non-null  float64\n",
      " 12  rougher.state.floatbank10_b_level                   14579 non-null  float64\n",
      " 13  rougher.state.floatbank10_c_air                     14579 non-null  float64\n",
      " 14  rougher.state.floatbank10_c_level                   14579 non-null  float64\n",
      " 15  rougher.state.floatbank10_d_air                     14579 non-null  float64\n",
      " 16  rougher.state.floatbank10_d_level                   14579 non-null  float64\n",
      " 17  rougher.state.floatbank10_e_air                     14150 non-null  float64\n",
      " 18  rougher.state.floatbank10_e_level                   14579 non-null  float64\n",
      " 19  rougher.state.floatbank10_f_air                     14579 non-null  float64\n",
      " 20  rougher.state.floatbank10_f_level                   14579 non-null  float64\n",
      " 21  rougher.input.floatbank11_sulfate                   14543 non-null  float64\n",
      " 22  rougher.input.floatbank11_xanthate                  14172 non-null  float64\n",
      " 23  rougher.calculation.sulfate_to_au_concentrate       14578 non-null  float64\n",
      " 24  rougher.calculation.floatbank10_sulfate_to_au_feed  14578 non-null  float64\n",
      " 25  rougher.calculation.floatbank11_sulfate_to_au_feed  14578 non-null  float64\n",
      " 26  rougher.calculation.au_pb_ratio                     14579 non-null  float64\n",
      " 27  rougher.output.concentrate_au                       14579 non-null  float64\n",
      " 28  rougher.output.concentrate_ag                       14579 non-null  float64\n",
      " 29  rougher.output.concentrate_pb                       14579 non-null  float64\n",
      " 30  rougher.output.concentrate_sol                      14561 non-null  float64\n",
      " 31  rougher.output.recovery                             14579 non-null  float64\n",
      " 32  rougher.output.tail_au                              14579 non-null  float64\n",
      " 33  rougher.output.tail_ag                              14578 non-null  float64\n",
      " 34  rougher.output.tail_pb                              14579 non-null  float64\n",
      " 35  rougher.output.tail_sol                             14579 non-null  float64\n",
      " 36  primary_cleaner.input.sulfate                       14556 non-null  float64\n",
      " 37  primary_cleaner.input.depressant                    14551 non-null  float64\n",
      " 38  primary_cleaner.input.feed_size                     14579 non-null  float64\n",
      " 39  primary_cleaner.input.xanthate                      14518 non-null  float64\n",
      " 40  primary_cleaner.state.floatbank8_a_air              14576 non-null  float64\n",
      " 41  primary_cleaner.state.floatbank8_a_level            14579 non-null  float64\n",
      " 42  primary_cleaner.state.floatbank8_b_air              14576 non-null  float64\n",
      " 43  primary_cleaner.state.floatbank8_b_level            14579 non-null  float64\n",
      " 44  primary_cleaner.state.floatbank8_c_air              14579 non-null  float64\n",
      " 45  primary_cleaner.state.floatbank8_c_level            14579 non-null  float64\n",
      " 46  primary_cleaner.state.floatbank8_d_air              14578 non-null  float64\n",
      " 47  primary_cleaner.state.floatbank8_d_level            14579 non-null  float64\n",
      " 48  primary_cleaner.output.concentrate_au               14579 non-null  float64\n",
      " 49  primary_cleaner.output.concentrate_ag               14579 non-null  float64\n",
      " 50  primary_cleaner.output.concentrate_pb               14491 non-null  float64\n",
      " 51  primary_cleaner.output.concentrate_sol              14314 non-null  float64\n",
      " 52  primary_cleaner.output.tail_au                      14579 non-null  float64\n",
      " 53  primary_cleaner.output.tail_ag                      14575 non-null  float64\n",
      " 54  primary_cleaner.output.tail_pb                      14573 non-null  float64\n",
      " 55  primary_cleaner.output.tail_sol                     14534 non-null  float64\n",
      " 56  secondary_cleaner.state.floatbank2_a_air            14485 non-null  float64\n",
      " 57  secondary_cleaner.state.floatbank2_a_level          14579 non-null  float64\n",
      " 58  secondary_cleaner.state.floatbank2_b_air            14557 non-null  float64\n",
      " 59  secondary_cleaner.state.floatbank2_b_level          14579 non-null  float64\n",
      " 60  secondary_cleaner.state.floatbank3_a_air            14567 non-null  float64\n",
      " 61  secondary_cleaner.state.floatbank3_a_level          14579 non-null  float64\n",
      " 62  secondary_cleaner.state.floatbank3_b_air            14579 non-null  float64\n",
      " 63  secondary_cleaner.state.floatbank3_b_level          14579 non-null  float64\n",
      " 64  secondary_cleaner.state.floatbank4_a_air            14574 non-null  float64\n",
      " 65  secondary_cleaner.state.floatbank4_a_level          14579 non-null  float64\n",
      " 66  secondary_cleaner.state.floatbank4_b_air            14579 non-null  float64\n",
      " 67  secondary_cleaner.state.floatbank4_b_level          14579 non-null  float64\n",
      " 68  secondary_cleaner.state.floatbank5_a_air            14579 non-null  float64\n",
      " 69  secondary_cleaner.state.floatbank5_a_level          14579 non-null  float64\n",
      " 70  secondary_cleaner.state.floatbank5_b_air            14579 non-null  float64\n",
      " 71  secondary_cleaner.state.floatbank5_b_level          14579 non-null  float64\n",
      " 72  secondary_cleaner.state.floatbank6_a_air            14578 non-null  float64\n",
      " 73  secondary_cleaner.state.floatbank6_a_level          14579 non-null  float64\n",
      " 74  secondary_cleaner.output.tail_au                    14579 non-null  float64\n",
      " 75  secondary_cleaner.output.tail_ag                    14578 non-null  float64\n",
      " 76  secondary_cleaner.output.tail_pb                    14575 non-null  float64\n",
      " 77  secondary_cleaner.output.tail_sol                   13659 non-null  float64\n",
      " 78  final.output.concentrate_au                         14579 non-null  float64\n",
      " 79  final.output.concentrate_ag                         14578 non-null  float64\n",
      " 80  final.output.concentrate_pb                         14578 non-null  float64\n",
      " 81  final.output.concentrate_sol                        14387 non-null  float64\n",
      " 82  final.output.recovery                               14579 non-null  float64\n",
      " 83  final.output.tail_au                                14579 non-null  float64\n",
      " 84  final.output.tail_ag                                14578 non-null  float64\n",
      " 85  final.output.tail_pb                                14504 non-null  float64\n",
      " 86  final.output.tail_sol                               14574 non-null  float64\n",
      "dtypes: float64(86), object(1)\n",
      "memory usage: 9.7+ MB\n"
     ]
    },
    {
     "data": {
      "text/plain": [
       "None"
      ]
     },
     "metadata": {},
     "output_type": "display_data"
    },
    {
     "data": {
      "text/html": [
       "<div>\n",
       "<style scoped>\n",
       "    .dataframe tbody tr th:only-of-type {\n",
       "        vertical-align: middle;\n",
       "    }\n",
       "\n",
       "    .dataframe tbody tr th {\n",
       "        vertical-align: top;\n",
       "    }\n",
       "\n",
       "    .dataframe thead th {\n",
       "        text-align: right;\n",
       "    }\n",
       "</style>\n",
       "<table border=\"1\" class=\"dataframe\">\n",
       "  <thead>\n",
       "    <tr style=\"text-align: right;\">\n",
       "      <th></th>\n",
       "      <th>rougher.input.feed_au</th>\n",
       "      <th>rougher.input.feed_ag</th>\n",
       "      <th>rougher.input.feed_pb</th>\n",
       "      <th>rougher.input.feed_sol</th>\n",
       "      <th>rougher.input.feed_rate</th>\n",
       "      <th>rougher.input.feed_size</th>\n",
       "      <th>rougher.input.floatbank10_sulfate</th>\n",
       "      <th>rougher.input.floatbank10_xanthate</th>\n",
       "      <th>rougher.state.floatbank10_a_air</th>\n",
       "      <th>rougher.state.floatbank10_a_level</th>\n",
       "      <th>rougher.state.floatbank10_b_air</th>\n",
       "      <th>rougher.state.floatbank10_b_level</th>\n",
       "      <th>rougher.state.floatbank10_c_air</th>\n",
       "      <th>rougher.state.floatbank10_c_level</th>\n",
       "      <th>rougher.state.floatbank10_d_air</th>\n",
       "      <th>rougher.state.floatbank10_d_level</th>\n",
       "      <th>rougher.state.floatbank10_e_air</th>\n",
       "      <th>rougher.state.floatbank10_e_level</th>\n",
       "      <th>rougher.state.floatbank10_f_air</th>\n",
       "      <th>rougher.state.floatbank10_f_level</th>\n",
       "      <th>rougher.input.floatbank11_sulfate</th>\n",
       "      <th>rougher.input.floatbank11_xanthate</th>\n",
       "      <th>rougher.calculation.sulfate_to_au_concentrate</th>\n",
       "      <th>rougher.calculation.floatbank10_sulfate_to_au_feed</th>\n",
       "      <th>rougher.calculation.floatbank11_sulfate_to_au_feed</th>\n",
       "      <th>rougher.calculation.au_pb_ratio</th>\n",
       "      <th>rougher.output.concentrate_au</th>\n",
       "      <th>rougher.output.concentrate_ag</th>\n",
       "      <th>rougher.output.concentrate_pb</th>\n",
       "      <th>rougher.output.concentrate_sol</th>\n",
       "      <th>rougher.output.recovery</th>\n",
       "      <th>rougher.output.tail_au</th>\n",
       "      <th>rougher.output.tail_ag</th>\n",
       "      <th>rougher.output.tail_pb</th>\n",
       "      <th>rougher.output.tail_sol</th>\n",
       "      <th>primary_cleaner.input.sulfate</th>\n",
       "      <th>primary_cleaner.input.depressant</th>\n",
       "      <th>primary_cleaner.input.feed_size</th>\n",
       "      <th>primary_cleaner.input.xanthate</th>\n",
       "      <th>primary_cleaner.state.floatbank8_a_air</th>\n",
       "      <th>primary_cleaner.state.floatbank8_a_level</th>\n",
       "      <th>primary_cleaner.state.floatbank8_b_air</th>\n",
       "      <th>primary_cleaner.state.floatbank8_b_level</th>\n",
       "      <th>primary_cleaner.state.floatbank8_c_air</th>\n",
       "      <th>primary_cleaner.state.floatbank8_c_level</th>\n",
       "      <th>primary_cleaner.state.floatbank8_d_air</th>\n",
       "      <th>primary_cleaner.state.floatbank8_d_level</th>\n",
       "      <th>primary_cleaner.output.concentrate_au</th>\n",
       "      <th>primary_cleaner.output.concentrate_ag</th>\n",
       "      <th>primary_cleaner.output.concentrate_pb</th>\n",
       "      <th>primary_cleaner.output.concentrate_sol</th>\n",
       "      <th>primary_cleaner.output.tail_au</th>\n",
       "      <th>primary_cleaner.output.tail_ag</th>\n",
       "      <th>primary_cleaner.output.tail_pb</th>\n",
       "      <th>primary_cleaner.output.tail_sol</th>\n",
       "      <th>secondary_cleaner.state.floatbank2_a_air</th>\n",
       "      <th>secondary_cleaner.state.floatbank2_a_level</th>\n",
       "      <th>secondary_cleaner.state.floatbank2_b_air</th>\n",
       "      <th>secondary_cleaner.state.floatbank2_b_level</th>\n",
       "      <th>secondary_cleaner.state.floatbank3_a_air</th>\n",
       "      <th>secondary_cleaner.state.floatbank3_a_level</th>\n",
       "      <th>secondary_cleaner.state.floatbank3_b_air</th>\n",
       "      <th>secondary_cleaner.state.floatbank3_b_level</th>\n",
       "      <th>secondary_cleaner.state.floatbank4_a_air</th>\n",
       "      <th>secondary_cleaner.state.floatbank4_a_level</th>\n",
       "      <th>secondary_cleaner.state.floatbank4_b_air</th>\n",
       "      <th>secondary_cleaner.state.floatbank4_b_level</th>\n",
       "      <th>secondary_cleaner.state.floatbank5_a_air</th>\n",
       "      <th>secondary_cleaner.state.floatbank5_a_level</th>\n",
       "      <th>secondary_cleaner.state.floatbank5_b_air</th>\n",
       "      <th>secondary_cleaner.state.floatbank5_b_level</th>\n",
       "      <th>secondary_cleaner.state.floatbank6_a_air</th>\n",
       "      <th>secondary_cleaner.state.floatbank6_a_level</th>\n",
       "      <th>secondary_cleaner.output.tail_au</th>\n",
       "      <th>secondary_cleaner.output.tail_ag</th>\n",
       "      <th>secondary_cleaner.output.tail_pb</th>\n",
       "      <th>secondary_cleaner.output.tail_sol</th>\n",
       "      <th>final.output.concentrate_au</th>\n",
       "      <th>final.output.concentrate_ag</th>\n",
       "      <th>final.output.concentrate_pb</th>\n",
       "      <th>final.output.concentrate_sol</th>\n",
       "      <th>final.output.recovery</th>\n",
       "      <th>final.output.tail_au</th>\n",
       "      <th>final.output.tail_ag</th>\n",
       "      <th>final.output.tail_pb</th>\n",
       "      <th>final.output.tail_sol</th>\n",
       "    </tr>\n",
       "  </thead>\n",
       "  <tbody>\n",
       "    <tr>\n",
       "      <th>count</th>\n",
       "      <td>14579.000000</td>\n",
       "      <td>14579.000000</td>\n",
       "      <td>14507.000000</td>\n",
       "      <td>14502.000000</td>\n",
       "      <td>14572.000000</td>\n",
       "      <td>14478.000000</td>\n",
       "      <td>14548.000000</td>\n",
       "      <td>14572.000000</td>\n",
       "      <td>14579.000000</td>\n",
       "      <td>14579.000000</td>\n",
       "      <td>14579.000000</td>\n",
       "      <td>14579.000000</td>\n",
       "      <td>14579.000000</td>\n",
       "      <td>14579.000000</td>\n",
       "      <td>14579.000000</td>\n",
       "      <td>14579.000000</td>\n",
       "      <td>14150.000000</td>\n",
       "      <td>14579.000000</td>\n",
       "      <td>14579.000000</td>\n",
       "      <td>14579.000000</td>\n",
       "      <td>14543.000000</td>\n",
       "      <td>14172.000000</td>\n",
       "      <td>1.457800e+04</td>\n",
       "      <td>14578.000000</td>\n",
       "      <td>14578.000000</td>\n",
       "      <td>14579.000000</td>\n",
       "      <td>14579.000000</td>\n",
       "      <td>14579.000000</td>\n",
       "      <td>14579.000000</td>\n",
       "      <td>14561.000000</td>\n",
       "      <td>14579.000000</td>\n",
       "      <td>14579.000000</td>\n",
       "      <td>14578.000000</td>\n",
       "      <td>14579.000000</td>\n",
       "      <td>14579.000000</td>\n",
       "      <td>14556.000000</td>\n",
       "      <td>14551.000000</td>\n",
       "      <td>14579.000000</td>\n",
       "      <td>14518.000000</td>\n",
       "      <td>1.457600e+04</td>\n",
       "      <td>14579.000000</td>\n",
       "      <td>1.457600e+04</td>\n",
       "      <td>14579.000000</td>\n",
       "      <td>1.457900e+04</td>\n",
       "      <td>14579.000000</td>\n",
       "      <td>1.457800e+04</td>\n",
       "      <td>14579.000000</td>\n",
       "      <td>14579.000000</td>\n",
       "      <td>14579.000000</td>\n",
       "      <td>14491.000000</td>\n",
       "      <td>14314.000000</td>\n",
       "      <td>14579.000000</td>\n",
       "      <td>14575.000000</td>\n",
       "      <td>14573.000000</td>\n",
       "      <td>14534.000000</td>\n",
       "      <td>14485.000000</td>\n",
       "      <td>14579.000000</td>\n",
       "      <td>14557.000000</td>\n",
       "      <td>14579.000000</td>\n",
       "      <td>14567.000000</td>\n",
       "      <td>14579.000000</td>\n",
       "      <td>14579.000000</td>\n",
       "      <td>14579.000000</td>\n",
       "      <td>14574.000000</td>\n",
       "      <td>14579.000000</td>\n",
       "      <td>14579.000000</td>\n",
       "      <td>14579.000000</td>\n",
       "      <td>14579.000000</td>\n",
       "      <td>14579.000000</td>\n",
       "      <td>14579.000000</td>\n",
       "      <td>14579.000000</td>\n",
       "      <td>14578.000000</td>\n",
       "      <td>14579.000000</td>\n",
       "      <td>14579.000000</td>\n",
       "      <td>14578.000000</td>\n",
       "      <td>14575.000000</td>\n",
       "      <td>13659.000000</td>\n",
       "      <td>14579.000000</td>\n",
       "      <td>14578.000000</td>\n",
       "      <td>14578.000000</td>\n",
       "      <td>14387.000000</td>\n",
       "      <td>14579.000000</td>\n",
       "      <td>14579.000000</td>\n",
       "      <td>14578.000000</td>\n",
       "      <td>14504.000000</td>\n",
       "      <td>14574.000000</td>\n",
       "    </tr>\n",
       "    <tr>\n",
       "      <th>mean</th>\n",
       "      <td>8.352941</td>\n",
       "      <td>8.877460</td>\n",
       "      <td>3.604221</td>\n",
       "      <td>36.561420</td>\n",
       "      <td>474.332784</td>\n",
       "      <td>58.922712</td>\n",
       "      <td>12.427399</td>\n",
       "      <td>5.994854</td>\n",
       "      <td>1104.208278</td>\n",
       "      <td>-379.367166</td>\n",
       "      <td>1322.845805</td>\n",
       "      <td>-465.495165</td>\n",
       "      <td>1302.745258</td>\n",
       "      <td>-465.988660</td>\n",
       "      <td>1214.062375</td>\n",
       "      <td>-466.526202</td>\n",
       "      <td>1082.778201</td>\n",
       "      <td>-464.228268</td>\n",
       "      <td>1025.775819</td>\n",
       "      <td>-464.549373</td>\n",
       "      <td>12.095857</td>\n",
       "      <td>6.047261</td>\n",
       "      <td>4.435219e+04</td>\n",
       "      <td>3440.548437</td>\n",
       "      <td>3276.812427</td>\n",
       "      <td>2.436506</td>\n",
       "      <td>19.717470</td>\n",
       "      <td>11.944253</td>\n",
       "      <td>7.498953</td>\n",
       "      <td>28.653422</td>\n",
       "      <td>82.521200</td>\n",
       "      <td>1.852849</td>\n",
       "      <td>5.649646</td>\n",
       "      <td>0.654742</td>\n",
       "      <td>18.019755</td>\n",
       "      <td>145.099826</td>\n",
       "      <td>8.858575</td>\n",
       "      <td>7.307600</td>\n",
       "      <td>1.026512</td>\n",
       "      <td>1.589676e+03</td>\n",
       "      <td>-492.185489</td>\n",
       "      <td>1.592027e+03</td>\n",
       "      <td>-492.838585</td>\n",
       "      <td>1.585924e+03</td>\n",
       "      <td>-492.726140</td>\n",
       "      <td>1.547119e+03</td>\n",
       "      <td>-488.724249</td>\n",
       "      <td>32.007535</td>\n",
       "      <td>8.468626</td>\n",
       "      <td>9.750567</td>\n",
       "      <td>10.576880</td>\n",
       "      <td>3.974004</td>\n",
       "      <td>16.069960</td>\n",
       "      <td>3.403764</td>\n",
       "      <td>8.025747</td>\n",
       "      <td>28.449700</td>\n",
       "      <td>-503.321444</td>\n",
       "      <td>23.898016</td>\n",
       "      <td>-504.455206</td>\n",
       "      <td>27.966801</td>\n",
       "      <td>-485.112844</td>\n",
       "      <td>22.056638</td>\n",
       "      <td>-493.400930</td>\n",
       "      <td>18.697604</td>\n",
       "      <td>-484.971102</td>\n",
       "      <td>14.823764</td>\n",
       "      <td>-460.046154</td>\n",
       "      <td>15.394610</td>\n",
       "      <td>-487.973768</td>\n",
       "      <td>11.949009</td>\n",
       "      <td>-486.338692</td>\n",
       "      <td>18.927405</td>\n",
       "      <td>-505.688730</td>\n",
       "      <td>4.373067</td>\n",
       "      <td>14.441265</td>\n",
       "      <td>5.617182</td>\n",
       "      <td>7.111347</td>\n",
       "      <td>43.979499</td>\n",
       "      <td>5.192145</td>\n",
       "      <td>9.923809</td>\n",
       "      <td>9.566676</td>\n",
       "      <td>66.759066</td>\n",
       "      <td>3.087939</td>\n",
       "      <td>9.731972</td>\n",
       "      <td>2.719985</td>\n",
       "      <td>10.612745</td>\n",
       "    </tr>\n",
       "    <tr>\n",
       "      <th>std</th>\n",
       "      <td>1.934376</td>\n",
       "      <td>1.922536</td>\n",
       "      <td>1.056063</td>\n",
       "      <td>5.209823</td>\n",
       "      <td>108.503552</td>\n",
       "      <td>22.407410</td>\n",
       "      <td>3.428939</td>\n",
       "      <td>1.152873</td>\n",
       "      <td>162.235606</td>\n",
       "      <td>94.652311</td>\n",
       "      <td>181.612353</td>\n",
       "      <td>56.220206</td>\n",
       "      <td>209.728859</td>\n",
       "      <td>55.261827</td>\n",
       "      <td>210.056163</td>\n",
       "      <td>55.701015</td>\n",
       "      <td>176.092308</td>\n",
       "      <td>59.132193</td>\n",
       "      <td>169.680255</td>\n",
       "      <td>59.622879</td>\n",
       "      <td>3.887128</td>\n",
       "      <td>1.115055</td>\n",
       "      <td>1.325109e+05</td>\n",
       "      <td>5676.976735</td>\n",
       "      <td>6654.751076</td>\n",
       "      <td>0.747964</td>\n",
       "      <td>4.086618</td>\n",
       "      <td>2.916323</td>\n",
       "      <td>1.851631</td>\n",
       "      <td>6.427589</td>\n",
       "      <td>15.797521</td>\n",
       "      <td>0.671844</td>\n",
       "      <td>1.079950</td>\n",
       "      <td>0.251685</td>\n",
       "      <td>3.492621</td>\n",
       "      <td>45.136018</td>\n",
       "      <td>3.323216</td>\n",
       "      <td>0.621609</td>\n",
       "      <td>0.519205</td>\n",
       "      <td>1.303228e+02</td>\n",
       "      <td>30.827141</td>\n",
       "      <td>1.317109e+02</td>\n",
       "      <td>33.288228</td>\n",
       "      <td>1.372292e+02</td>\n",
       "      <td>32.359161</td>\n",
       "      <td>2.426145e+02</td>\n",
       "      <td>44.157594</td>\n",
       "      <td>5.891272</td>\n",
       "      <td>2.082271</td>\n",
       "      <td>2.556602</td>\n",
       "      <td>3.964761</td>\n",
       "      <td>1.604410</td>\n",
       "      <td>3.557775</td>\n",
       "      <td>1.394091</td>\n",
       "      <td>2.176478</td>\n",
       "      <td>5.467326</td>\n",
       "      <td>56.555780</td>\n",
       "      <td>5.820755</td>\n",
       "      <td>60.219739</td>\n",
       "      <td>6.109365</td>\n",
       "      <td>55.205693</td>\n",
       "      <td>5.605309</td>\n",
       "      <td>44.228650</td>\n",
       "      <td>5.200943</td>\n",
       "      <td>48.795359</td>\n",
       "      <td>4.863659</td>\n",
       "      <td>67.933026</td>\n",
       "      <td>5.405045</td>\n",
       "      <td>35.231439</td>\n",
       "      <td>5.241169</td>\n",
       "      <td>38.726292</td>\n",
       "      <td>5.550829</td>\n",
       "      <td>37.347370</td>\n",
       "      <td>2.394328</td>\n",
       "      <td>4.416497</td>\n",
       "      <td>2.704951</td>\n",
       "      <td>3.909951</td>\n",
       "      <td>5.471437</td>\n",
       "      <td>1.388014</td>\n",
       "      <td>1.706976</td>\n",
       "      <td>2.805654</td>\n",
       "      <td>10.619709</td>\n",
       "      <td>0.915187</td>\n",
       "      <td>2.358143</td>\n",
       "      <td>0.958929</td>\n",
       "      <td>2.871075</td>\n",
       "    </tr>\n",
       "    <tr>\n",
       "      <th>min</th>\n",
       "      <td>0.010000</td>\n",
       "      <td>0.010000</td>\n",
       "      <td>0.010000</td>\n",
       "      <td>0.010000</td>\n",
       "      <td>0.002986</td>\n",
       "      <td>0.049194</td>\n",
       "      <td>0.001083</td>\n",
       "      <td>0.000568</td>\n",
       "      <td>-0.042069</td>\n",
       "      <td>-657.949759</td>\n",
       "      <td>-0.721806</td>\n",
       "      <td>-650.260008</td>\n",
       "      <td>-0.056636</td>\n",
       "      <td>-647.544439</td>\n",
       "      <td>-0.992219</td>\n",
       "      <td>-648.390665</td>\n",
       "      <td>-1.982295</td>\n",
       "      <td>-649.443911</td>\n",
       "      <td>-2.593390</td>\n",
       "      <td>-649.949283</td>\n",
       "      <td>0.000077</td>\n",
       "      <td>0.000290</td>\n",
       "      <td>-1.548858e+07</td>\n",
       "      <td>-486.598675</td>\n",
       "      <td>-264.982785</td>\n",
       "      <td>-0.010548</td>\n",
       "      <td>0.000000</td>\n",
       "      <td>0.000000</td>\n",
       "      <td>0.000000</td>\n",
       "      <td>0.000000</td>\n",
       "      <td>0.000000</td>\n",
       "      <td>0.020676</td>\n",
       "      <td>2.316530</td>\n",
       "      <td>0.007566</td>\n",
       "      <td>10.014648</td>\n",
       "      <td>0.003112</td>\n",
       "      <td>0.000000</td>\n",
       "      <td>1.080000</td>\n",
       "      <td>0.000005</td>\n",
       "      <td>5.445860e-32</td>\n",
       "      <td>-798.641662</td>\n",
       "      <td>6.647490e-32</td>\n",
       "      <td>-799.997015</td>\n",
       "      <td>4.033736e-32</td>\n",
       "      <td>-799.960571</td>\n",
       "      <td>4.039220e-32</td>\n",
       "      <td>-799.794250</td>\n",
       "      <td>0.000000</td>\n",
       "      <td>0.000000</td>\n",
       "      <td>0.000000</td>\n",
       "      <td>0.000000</td>\n",
       "      <td>0.000000</td>\n",
       "      <td>0.000000</td>\n",
       "      <td>0.000000</td>\n",
       "      <td>0.000000</td>\n",
       "      <td>0.077503</td>\n",
       "      <td>-799.605762</td>\n",
       "      <td>0.000000</td>\n",
       "      <td>-799.870292</td>\n",
       "      <td>0.000000</td>\n",
       "      <td>-799.755798</td>\n",
       "      <td>0.000000</td>\n",
       "      <td>-809.333008</td>\n",
       "      <td>0.000000</td>\n",
       "      <td>-799.798523</td>\n",
       "      <td>0.000000</td>\n",
       "      <td>-800.836914</td>\n",
       "      <td>-0.372054</td>\n",
       "      <td>-797.323986</td>\n",
       "      <td>0.528083</td>\n",
       "      <td>-800.220337</td>\n",
       "      <td>-0.079426</td>\n",
       "      <td>-809.741464</td>\n",
       "      <td>0.000000</td>\n",
       "      <td>0.000000</td>\n",
       "      <td>0.000000</td>\n",
       "      <td>0.000000</td>\n",
       "      <td>0.000000</td>\n",
       "      <td>0.000000</td>\n",
       "      <td>0.000000</td>\n",
       "      <td>0.000000</td>\n",
       "      <td>0.000000</td>\n",
       "      <td>0.000000</td>\n",
       "      <td>0.000000</td>\n",
       "      <td>0.000000</td>\n",
       "      <td>0.000000</td>\n",
       "    </tr>\n",
       "    <tr>\n",
       "      <th>25%</th>\n",
       "      <td>6.932996</td>\n",
       "      <td>7.341922</td>\n",
       "      <td>2.880490</td>\n",
       "      <td>34.093951</td>\n",
       "      <td>411.048483</td>\n",
       "      <td>47.278490</td>\n",
       "      <td>10.002832</td>\n",
       "      <td>5.304167</td>\n",
       "      <td>999.644856</td>\n",
       "      <td>-499.861797</td>\n",
       "      <td>1199.563063</td>\n",
       "      <td>-500.195180</td>\n",
       "      <td>1150.739645</td>\n",
       "      <td>-500.214580</td>\n",
       "      <td>1060.476511</td>\n",
       "      <td>-500.369461</td>\n",
       "      <td>998.562148</td>\n",
       "      <td>-500.220652</td>\n",
       "      <td>900.713144</td>\n",
       "      <td>-500.518102</td>\n",
       "      <td>9.999625</td>\n",
       "      <td>5.399770</td>\n",
       "      <td>4.077084e+04</td>\n",
       "      <td>2597.574879</td>\n",
       "      <td>2528.351956</td>\n",
       "      <td>2.050078</td>\n",
       "      <td>18.908919</td>\n",
       "      <td>10.611551</td>\n",
       "      <td>6.682731</td>\n",
       "      <td>27.149641</td>\n",
       "      <td>80.558542</td>\n",
       "      <td>1.455205</td>\n",
       "      <td>5.023787</td>\n",
       "      <td>0.490217</td>\n",
       "      <td>15.753976</td>\n",
       "      <td>114.273934</td>\n",
       "      <td>6.194337</td>\n",
       "      <td>6.940000</td>\n",
       "      <td>0.696098</td>\n",
       "      <td>1.504949e+03</td>\n",
       "      <td>-500.320169</td>\n",
       "      <td>1.505230e+03</td>\n",
       "      <td>-500.440327</td>\n",
       "      <td>1.500845e+03</td>\n",
       "      <td>-500.709838</td>\n",
       "      <td>1.497960e+03</td>\n",
       "      <td>-500.464464</td>\n",
       "      <td>30.409669</td>\n",
       "      <td>7.360525</td>\n",
       "      <td>8.668289</td>\n",
       "      <td>7.964614</td>\n",
       "      <td>2.960094</td>\n",
       "      <td>13.978468</td>\n",
       "      <td>2.494448</td>\n",
       "      <td>6.826706</td>\n",
       "      <td>25.034882</td>\n",
       "      <td>-500.240915</td>\n",
       "      <td>20.083738</td>\n",
       "      <td>-500.264871</td>\n",
       "      <td>24.879889</td>\n",
       "      <td>-500.214111</td>\n",
       "      <td>18.990660</td>\n",
       "      <td>-500.123568</td>\n",
       "      <td>14.963312</td>\n",
       "      <td>-500.704937</td>\n",
       "      <td>11.889685</td>\n",
       "      <td>-500.184081</td>\n",
       "      <td>10.977413</td>\n",
       "      <td>-500.451167</td>\n",
       "      <td>8.947381</td>\n",
       "      <td>-500.129137</td>\n",
       "      <td>14.985721</td>\n",
       "      <td>-500.755346</td>\n",
       "      <td>3.216855</td>\n",
       "      <td>12.479139</td>\n",
       "      <td>3.801206</td>\n",
       "      <td>3.784897</td>\n",
       "      <td>43.345906</td>\n",
       "      <td>4.283347</td>\n",
       "      <td>9.103183</td>\n",
       "      <td>7.860030</td>\n",
       "      <td>63.114596</td>\n",
       "      <td>2.505287</td>\n",
       "      <td>8.088928</td>\n",
       "      <td>2.036512</td>\n",
       "      <td>9.013412</td>\n",
       "    </tr>\n",
       "    <tr>\n",
       "      <th>50%</th>\n",
       "      <td>8.225284</td>\n",
       "      <td>8.715859</td>\n",
       "      <td>3.532399</td>\n",
       "      <td>37.097511</td>\n",
       "      <td>498.187968</td>\n",
       "      <td>54.361187</td>\n",
       "      <td>12.003320</td>\n",
       "      <td>6.003053</td>\n",
       "      <td>1000.982624</td>\n",
       "      <td>-300.314199</td>\n",
       "      <td>1302.379807</td>\n",
       "      <td>-499.767998</td>\n",
       "      <td>1300.639429</td>\n",
       "      <td>-499.693772</td>\n",
       "      <td>1202.656040</td>\n",
       "      <td>-499.511621</td>\n",
       "      <td>1050.081856</td>\n",
       "      <td>-499.640275</td>\n",
       "      <td>999.870453</td>\n",
       "      <td>-499.451154</td>\n",
       "      <td>12.000777</td>\n",
       "      <td>6.096038</td>\n",
       "      <td>4.487892e+04</td>\n",
       "      <td>3055.912455</td>\n",
       "      <td>3006.139692</td>\n",
       "      <td>2.326922</td>\n",
       "      <td>20.329736</td>\n",
       "      <td>12.136445</td>\n",
       "      <td>7.705023</td>\n",
       "      <td>29.917369</td>\n",
       "      <td>85.946497</td>\n",
       "      <td>1.840333</td>\n",
       "      <td>5.819341</td>\n",
       "      <td>0.623074</td>\n",
       "      <td>18.060998</td>\n",
       "      <td>144.627539</td>\n",
       "      <td>8.055245</td>\n",
       "      <td>7.280000</td>\n",
       "      <td>0.957958</td>\n",
       "      <td>1.600683e+03</td>\n",
       "      <td>-499.935617</td>\n",
       "      <td>1.600561e+03</td>\n",
       "      <td>-499.962584</td>\n",
       "      <td>1.600226e+03</td>\n",
       "      <td>-499.914492</td>\n",
       "      <td>1.599493e+03</td>\n",
       "      <td>-499.916753</td>\n",
       "      <td>32.837748</td>\n",
       "      <td>8.555670</td>\n",
       "      <td>10.121250</td>\n",
       "      <td>10.479225</td>\n",
       "      <td>3.693812</td>\n",
       "      <td>15.773016</td>\n",
       "      <td>3.229651</td>\n",
       "      <td>8.235004</td>\n",
       "      <td>28.968533</td>\n",
       "      <td>-499.975415</td>\n",
       "      <td>24.988575</td>\n",
       "      <td>-500.017709</td>\n",
       "      <td>27.966517</td>\n",
       "      <td>-499.922655</td>\n",
       "      <td>21.995308</td>\n",
       "      <td>-499.980765</td>\n",
       "      <td>18.005468</td>\n",
       "      <td>-499.820809</td>\n",
       "      <td>14.957945</td>\n",
       "      <td>-499.424528</td>\n",
       "      <td>14.963654</td>\n",
       "      <td>-499.772653</td>\n",
       "      <td>11.000057</td>\n",
       "      <td>-499.926255</td>\n",
       "      <td>19.960798</td>\n",
       "      <td>-500.054273</td>\n",
       "      <td>4.097589</td>\n",
       "      <td>15.448510</td>\n",
       "      <td>5.227419</td>\n",
       "      <td>7.629968</td>\n",
       "      <td>44.975014</td>\n",
       "      <td>5.118647</td>\n",
       "      <td>10.046455</td>\n",
       "      <td>9.301970</td>\n",
       "      <td>67.962788</td>\n",
       "      <td>3.029238</td>\n",
       "      <td>9.818512</td>\n",
       "      <td>2.774847</td>\n",
       "      <td>10.670515</td>\n",
       "    </tr>\n",
       "    <tr>\n",
       "      <th>75%</th>\n",
       "      <td>9.832210</td>\n",
       "      <td>10.255843</td>\n",
       "      <td>4.257282</td>\n",
       "      <td>39.899799</td>\n",
       "      <td>549.586552</td>\n",
       "      <td>64.464926</td>\n",
       "      <td>14.929903</td>\n",
       "      <td>6.796632</td>\n",
       "      <td>1292.663971</td>\n",
       "      <td>-299.989315</td>\n",
       "      <td>1449.971526</td>\n",
       "      <td>-400.490924</td>\n",
       "      <td>1450.429812</td>\n",
       "      <td>-400.793268</td>\n",
       "      <td>1387.579519</td>\n",
       "      <td>-401.231087</td>\n",
       "      <td>1199.518951</td>\n",
       "      <td>-400.842206</td>\n",
       "      <td>1099.789243</td>\n",
       "      <td>-401.190552</td>\n",
       "      <td>14.821675</td>\n",
       "      <td>6.800713</td>\n",
       "      <td>4.838894e+04</td>\n",
       "      <td>3711.123079</td>\n",
       "      <td>3621.306274</td>\n",
       "      <td>2.746607</td>\n",
       "      <td>21.767391</td>\n",
       "      <td>13.771614</td>\n",
       "      <td>8.507136</td>\n",
       "      <td>32.300398</td>\n",
       "      <td>89.960375</td>\n",
       "      <td>2.227136</td>\n",
       "      <td>6.407298</td>\n",
       "      <td>0.780414</td>\n",
       "      <td>20.064557</td>\n",
       "      <td>176.161883</td>\n",
       "      <td>11.061619</td>\n",
       "      <td>7.689666</td>\n",
       "      <td>1.224756</td>\n",
       "      <td>1.697830e+03</td>\n",
       "      <td>-499.457104</td>\n",
       "      <td>1.699149e+03</td>\n",
       "      <td>-499.383154</td>\n",
       "      <td>1.699482e+03</td>\n",
       "      <td>-498.899663</td>\n",
       "      <td>1.698395e+03</td>\n",
       "      <td>-499.137048</td>\n",
       "      <td>35.027165</td>\n",
       "      <td>9.815695</td>\n",
       "      <td>11.362268</td>\n",
       "      <td>13.588618</td>\n",
       "      <td>4.648610</td>\n",
       "      <td>17.908623</td>\n",
       "      <td>4.115288</td>\n",
       "      <td>9.562956</td>\n",
       "      <td>32.250615</td>\n",
       "      <td>-499.668396</td>\n",
       "      <td>27.996854</td>\n",
       "      <td>-499.786233</td>\n",
       "      <td>32.981447</td>\n",
       "      <td>-499.233769</td>\n",
       "      <td>25.979469</td>\n",
       "      <td>-499.808121</td>\n",
       "      <td>22.977019</td>\n",
       "      <td>-498.048862</td>\n",
       "      <td>17.125406</td>\n",
       "      <td>-400.083087</td>\n",
       "      <td>18.012762</td>\n",
       "      <td>-498.182011</td>\n",
       "      <td>14.002573</td>\n",
       "      <td>-499.285414</td>\n",
       "      <td>23.038231</td>\n",
       "      <td>-499.506135</td>\n",
       "      <td>5.108658</td>\n",
       "      <td>17.349683</td>\n",
       "      <td>7.609340</td>\n",
       "      <td>10.367050</td>\n",
       "      <td>46.275153</td>\n",
       "      <td>5.925380</td>\n",
       "      <td>10.981203</td>\n",
       "      <td>11.001573</td>\n",
       "      <td>72.598187</td>\n",
       "      <td>3.614098</td>\n",
       "      <td>11.169187</td>\n",
       "      <td>3.353845</td>\n",
       "      <td>12.130827</td>\n",
       "    </tr>\n",
       "    <tr>\n",
       "      <th>max</th>\n",
       "      <td>13.731330</td>\n",
       "      <td>14.596026</td>\n",
       "      <td>7.052325</td>\n",
       "      <td>53.475325</td>\n",
       "      <td>717.508837</td>\n",
       "      <td>484.967466</td>\n",
       "      <td>36.118275</td>\n",
       "      <td>9.703448</td>\n",
       "      <td>1512.299531</td>\n",
       "      <td>-273.776101</td>\n",
       "      <td>1809.194008</td>\n",
       "      <td>-296.383080</td>\n",
       "      <td>2499.129174</td>\n",
       "      <td>-292.155509</td>\n",
       "      <td>1817.199290</td>\n",
       "      <td>-76.397327</td>\n",
       "      <td>1922.636637</td>\n",
       "      <td>-139.753025</td>\n",
       "      <td>1706.307502</td>\n",
       "      <td>-191.718480</td>\n",
       "      <td>37.980648</td>\n",
       "      <td>9.698407</td>\n",
       "      <td>3.428099e+06</td>\n",
       "      <td>629638.977914</td>\n",
       "      <td>718684.955855</td>\n",
       "      <td>27.231374</td>\n",
       "      <td>28.824507</td>\n",
       "      <td>24.480271</td>\n",
       "      <td>13.091679</td>\n",
       "      <td>38.351193</td>\n",
       "      <td>100.000000</td>\n",
       "      <td>9.688980</td>\n",
       "      <td>12.719177</td>\n",
       "      <td>3.778064</td>\n",
       "      <td>66.117188</td>\n",
       "      <td>265.983123</td>\n",
       "      <td>40.000000</td>\n",
       "      <td>15.500000</td>\n",
       "      <td>4.102454</td>\n",
       "      <td>2.103104e+03</td>\n",
       "      <td>-57.195404</td>\n",
       "      <td>2.114907e+03</td>\n",
       "      <td>-142.527229</td>\n",
       "      <td>2.013156e+03</td>\n",
       "      <td>-150.937035</td>\n",
       "      <td>2.398904e+03</td>\n",
       "      <td>-30.601828</td>\n",
       "      <td>45.933934</td>\n",
       "      <td>16.081632</td>\n",
       "      <td>17.081278</td>\n",
       "      <td>22.458114</td>\n",
       "      <td>17.788925</td>\n",
       "      <td>29.459575</td>\n",
       "      <td>9.634565</td>\n",
       "      <td>22.276364</td>\n",
       "      <td>52.651399</td>\n",
       "      <td>-127.875565</td>\n",
       "      <td>35.152122</td>\n",
       "      <td>-211.999273</td>\n",
       "      <td>44.260464</td>\n",
       "      <td>-191.678810</td>\n",
       "      <td>35.072841</td>\n",
       "      <td>-159.742331</td>\n",
       "      <td>30.115735</td>\n",
       "      <td>-245.239184</td>\n",
       "      <td>31.269706</td>\n",
       "      <td>-6.506986</td>\n",
       "      <td>43.709931</td>\n",
       "      <td>-244.483566</td>\n",
       "      <td>27.926001</td>\n",
       "      <td>-137.740004</td>\n",
       "      <td>32.188906</td>\n",
       "      <td>-123.307487</td>\n",
       "      <td>26.811643</td>\n",
       "      <td>23.264738</td>\n",
       "      <td>17.042505</td>\n",
       "      <td>26.000772</td>\n",
       "      <td>52.756638</td>\n",
       "      <td>16.001945</td>\n",
       "      <td>16.705297</td>\n",
       "      <td>19.423912</td>\n",
       "      <td>100.000000</td>\n",
       "      <td>8.245022</td>\n",
       "      <td>19.552149</td>\n",
       "      <td>5.804178</td>\n",
       "      <td>22.317730</td>\n",
       "    </tr>\n",
       "  </tbody>\n",
       "</table>\n",
       "</div>"
      ],
      "text/plain": [
       "       rougher.input.feed_au  rougher.input.feed_ag  rougher.input.feed_pb  \\\n",
       "count           14579.000000           14579.000000           14507.000000   \n",
       "mean                8.352941               8.877460               3.604221   \n",
       "std                 1.934376               1.922536               1.056063   \n",
       "min                 0.010000               0.010000               0.010000   \n",
       "25%                 6.932996               7.341922               2.880490   \n",
       "50%                 8.225284               8.715859               3.532399   \n",
       "75%                 9.832210              10.255843               4.257282   \n",
       "max                13.731330              14.596026               7.052325   \n",
       "\n",
       "       rougher.input.feed_sol  rougher.input.feed_rate  \\\n",
       "count            14502.000000             14572.000000   \n",
       "mean                36.561420               474.332784   \n",
       "std                  5.209823               108.503552   \n",
       "min                  0.010000                 0.002986   \n",
       "25%                 34.093951               411.048483   \n",
       "50%                 37.097511               498.187968   \n",
       "75%                 39.899799               549.586552   \n",
       "max                 53.475325               717.508837   \n",
       "\n",
       "       rougher.input.feed_size  rougher.input.floatbank10_sulfate  \\\n",
       "count             14478.000000                       14548.000000   \n",
       "mean                 58.922712                          12.427399   \n",
       "std                  22.407410                           3.428939   \n",
       "min                   0.049194                           0.001083   \n",
       "25%                  47.278490                          10.002832   \n",
       "50%                  54.361187                          12.003320   \n",
       "75%                  64.464926                          14.929903   \n",
       "max                 484.967466                          36.118275   \n",
       "\n",
       "       rougher.input.floatbank10_xanthate  rougher.state.floatbank10_a_air  \\\n",
       "count                        14572.000000                     14579.000000   \n",
       "mean                             5.994854                      1104.208278   \n",
       "std                              1.152873                       162.235606   \n",
       "min                              0.000568                        -0.042069   \n",
       "25%                              5.304167                       999.644856   \n",
       "50%                              6.003053                      1000.982624   \n",
       "75%                              6.796632                      1292.663971   \n",
       "max                              9.703448                      1512.299531   \n",
       "\n",
       "       rougher.state.floatbank10_a_level  rougher.state.floatbank10_b_air  \\\n",
       "count                       14579.000000                     14579.000000   \n",
       "mean                         -379.367166                      1322.845805   \n",
       "std                            94.652311                       181.612353   \n",
       "min                          -657.949759                        -0.721806   \n",
       "25%                          -499.861797                      1199.563063   \n",
       "50%                          -300.314199                      1302.379807   \n",
       "75%                          -299.989315                      1449.971526   \n",
       "max                          -273.776101                      1809.194008   \n",
       "\n",
       "       rougher.state.floatbank10_b_level  rougher.state.floatbank10_c_air  \\\n",
       "count                       14579.000000                     14579.000000   \n",
       "mean                         -465.495165                      1302.745258   \n",
       "std                            56.220206                       209.728859   \n",
       "min                          -650.260008                        -0.056636   \n",
       "25%                          -500.195180                      1150.739645   \n",
       "50%                          -499.767998                      1300.639429   \n",
       "75%                          -400.490924                      1450.429812   \n",
       "max                          -296.383080                      2499.129174   \n",
       "\n",
       "       rougher.state.floatbank10_c_level  rougher.state.floatbank10_d_air  \\\n",
       "count                       14579.000000                     14579.000000   \n",
       "mean                         -465.988660                      1214.062375   \n",
       "std                            55.261827                       210.056163   \n",
       "min                          -647.544439                        -0.992219   \n",
       "25%                          -500.214580                      1060.476511   \n",
       "50%                          -499.693772                      1202.656040   \n",
       "75%                          -400.793268                      1387.579519   \n",
       "max                          -292.155509                      1817.199290   \n",
       "\n",
       "       rougher.state.floatbank10_d_level  rougher.state.floatbank10_e_air  \\\n",
       "count                       14579.000000                     14150.000000   \n",
       "mean                         -466.526202                      1082.778201   \n",
       "std                            55.701015                       176.092308   \n",
       "min                          -648.390665                        -1.982295   \n",
       "25%                          -500.369461                       998.562148   \n",
       "50%                          -499.511621                      1050.081856   \n",
       "75%                          -401.231087                      1199.518951   \n",
       "max                           -76.397327                      1922.636637   \n",
       "\n",
       "       rougher.state.floatbank10_e_level  rougher.state.floatbank10_f_air  \\\n",
       "count                       14579.000000                     14579.000000   \n",
       "mean                         -464.228268                      1025.775819   \n",
       "std                            59.132193                       169.680255   \n",
       "min                          -649.443911                        -2.593390   \n",
       "25%                          -500.220652                       900.713144   \n",
       "50%                          -499.640275                       999.870453   \n",
       "75%                          -400.842206                      1099.789243   \n",
       "max                          -139.753025                      1706.307502   \n",
       "\n",
       "       rougher.state.floatbank10_f_level  rougher.input.floatbank11_sulfate  \\\n",
       "count                       14579.000000                       14543.000000   \n",
       "mean                         -464.549373                          12.095857   \n",
       "std                            59.622879                           3.887128   \n",
       "min                          -649.949283                           0.000077   \n",
       "25%                          -500.518102                           9.999625   \n",
       "50%                          -499.451154                          12.000777   \n",
       "75%                          -401.190552                          14.821675   \n",
       "max                          -191.718480                          37.980648   \n",
       "\n",
       "       rougher.input.floatbank11_xanthate  \\\n",
       "count                        14172.000000   \n",
       "mean                             6.047261   \n",
       "std                              1.115055   \n",
       "min                              0.000290   \n",
       "25%                              5.399770   \n",
       "50%                              6.096038   \n",
       "75%                              6.800713   \n",
       "max                              9.698407   \n",
       "\n",
       "       rougher.calculation.sulfate_to_au_concentrate  \\\n",
       "count                                   1.457800e+04   \n",
       "mean                                    4.435219e+04   \n",
       "std                                     1.325109e+05   \n",
       "min                                    -1.548858e+07   \n",
       "25%                                     4.077084e+04   \n",
       "50%                                     4.487892e+04   \n",
       "75%                                     4.838894e+04   \n",
       "max                                     3.428099e+06   \n",
       "\n",
       "       rougher.calculation.floatbank10_sulfate_to_au_feed  \\\n",
       "count                                       14578.000000    \n",
       "mean                                         3440.548437    \n",
       "std                                          5676.976735    \n",
       "min                                          -486.598675    \n",
       "25%                                          2597.574879    \n",
       "50%                                          3055.912455    \n",
       "75%                                          3711.123079    \n",
       "max                                        629638.977914    \n",
       "\n",
       "       rougher.calculation.floatbank11_sulfate_to_au_feed  \\\n",
       "count                                       14578.000000    \n",
       "mean                                         3276.812427    \n",
       "std                                          6654.751076    \n",
       "min                                          -264.982785    \n",
       "25%                                          2528.351956    \n",
       "50%                                          3006.139692    \n",
       "75%                                          3621.306274    \n",
       "max                                        718684.955855    \n",
       "\n",
       "       rougher.calculation.au_pb_ratio  rougher.output.concentrate_au  \\\n",
       "count                     14579.000000                   14579.000000   \n",
       "mean                          2.436506                      19.717470   \n",
       "std                           0.747964                       4.086618   \n",
       "min                          -0.010548                       0.000000   \n",
       "25%                           2.050078                      18.908919   \n",
       "50%                           2.326922                      20.329736   \n",
       "75%                           2.746607                      21.767391   \n",
       "max                          27.231374                      28.824507   \n",
       "\n",
       "       rougher.output.concentrate_ag  rougher.output.concentrate_pb  \\\n",
       "count                   14579.000000                   14579.000000   \n",
       "mean                       11.944253                       7.498953   \n",
       "std                         2.916323                       1.851631   \n",
       "min                         0.000000                       0.000000   \n",
       "25%                        10.611551                       6.682731   \n",
       "50%                        12.136445                       7.705023   \n",
       "75%                        13.771614                       8.507136   \n",
       "max                        24.480271                      13.091679   \n",
       "\n",
       "       rougher.output.concentrate_sol  rougher.output.recovery  \\\n",
       "count                    14561.000000             14579.000000   \n",
       "mean                        28.653422                82.521200   \n",
       "std                          6.427589                15.797521   \n",
       "min                          0.000000                 0.000000   \n",
       "25%                         27.149641                80.558542   \n",
       "50%                         29.917369                85.946497   \n",
       "75%                         32.300398                89.960375   \n",
       "max                         38.351193               100.000000   \n",
       "\n",
       "       rougher.output.tail_au  rougher.output.tail_ag  rougher.output.tail_pb  \\\n",
       "count            14579.000000            14578.000000            14579.000000   \n",
       "mean                 1.852849                5.649646                0.654742   \n",
       "std                  0.671844                1.079950                0.251685   \n",
       "min                  0.020676                2.316530                0.007566   \n",
       "25%                  1.455205                5.023787                0.490217   \n",
       "50%                  1.840333                5.819341                0.623074   \n",
       "75%                  2.227136                6.407298                0.780414   \n",
       "max                  9.688980               12.719177                3.778064   \n",
       "\n",
       "       rougher.output.tail_sol  primary_cleaner.input.sulfate  \\\n",
       "count             14579.000000                   14556.000000   \n",
       "mean                 18.019755                     145.099826   \n",
       "std                   3.492621                      45.136018   \n",
       "min                  10.014648                       0.003112   \n",
       "25%                  15.753976                     114.273934   \n",
       "50%                  18.060998                     144.627539   \n",
       "75%                  20.064557                     176.161883   \n",
       "max                  66.117188                     265.983123   \n",
       "\n",
       "       primary_cleaner.input.depressant  primary_cleaner.input.feed_size  \\\n",
       "count                      14551.000000                     14579.000000   \n",
       "mean                           8.858575                         7.307600   \n",
       "std                            3.323216                         0.621609   \n",
       "min                            0.000000                         1.080000   \n",
       "25%                            6.194337                         6.940000   \n",
       "50%                            8.055245                         7.280000   \n",
       "75%                           11.061619                         7.689666   \n",
       "max                           40.000000                        15.500000   \n",
       "\n",
       "       primary_cleaner.input.xanthate  primary_cleaner.state.floatbank8_a_air  \\\n",
       "count                    14518.000000                            1.457600e+04   \n",
       "mean                         1.026512                            1.589676e+03   \n",
       "std                          0.519205                            1.303228e+02   \n",
       "min                          0.000005                            5.445860e-32   \n",
       "25%                          0.696098                            1.504949e+03   \n",
       "50%                          0.957958                            1.600683e+03   \n",
       "75%                          1.224756                            1.697830e+03   \n",
       "max                          4.102454                            2.103104e+03   \n",
       "\n",
       "       primary_cleaner.state.floatbank8_a_level  \\\n",
       "count                              14579.000000   \n",
       "mean                                -492.185489   \n",
       "std                                   30.827141   \n",
       "min                                 -798.641662   \n",
       "25%                                 -500.320169   \n",
       "50%                                 -499.935617   \n",
       "75%                                 -499.457104   \n",
       "max                                  -57.195404   \n",
       "\n",
       "       primary_cleaner.state.floatbank8_b_air  \\\n",
       "count                            1.457600e+04   \n",
       "mean                             1.592027e+03   \n",
       "std                              1.317109e+02   \n",
       "min                              6.647490e-32   \n",
       "25%                              1.505230e+03   \n",
       "50%                              1.600561e+03   \n",
       "75%                              1.699149e+03   \n",
       "max                              2.114907e+03   \n",
       "\n",
       "       primary_cleaner.state.floatbank8_b_level  \\\n",
       "count                              14579.000000   \n",
       "mean                                -492.838585   \n",
       "std                                   33.288228   \n",
       "min                                 -799.997015   \n",
       "25%                                 -500.440327   \n",
       "50%                                 -499.962584   \n",
       "75%                                 -499.383154   \n",
       "max                                 -142.527229   \n",
       "\n",
       "       primary_cleaner.state.floatbank8_c_air  \\\n",
       "count                            1.457900e+04   \n",
       "mean                             1.585924e+03   \n",
       "std                              1.372292e+02   \n",
       "min                              4.033736e-32   \n",
       "25%                              1.500845e+03   \n",
       "50%                              1.600226e+03   \n",
       "75%                              1.699482e+03   \n",
       "max                              2.013156e+03   \n",
       "\n",
       "       primary_cleaner.state.floatbank8_c_level  \\\n",
       "count                              14579.000000   \n",
       "mean                                -492.726140   \n",
       "std                                   32.359161   \n",
       "min                                 -799.960571   \n",
       "25%                                 -500.709838   \n",
       "50%                                 -499.914492   \n",
       "75%                                 -498.899663   \n",
       "max                                 -150.937035   \n",
       "\n",
       "       primary_cleaner.state.floatbank8_d_air  \\\n",
       "count                            1.457800e+04   \n",
       "mean                             1.547119e+03   \n",
       "std                              2.426145e+02   \n",
       "min                              4.039220e-32   \n",
       "25%                              1.497960e+03   \n",
       "50%                              1.599493e+03   \n",
       "75%                              1.698395e+03   \n",
       "max                              2.398904e+03   \n",
       "\n",
       "       primary_cleaner.state.floatbank8_d_level  \\\n",
       "count                              14579.000000   \n",
       "mean                                -488.724249   \n",
       "std                                   44.157594   \n",
       "min                                 -799.794250   \n",
       "25%                                 -500.464464   \n",
       "50%                                 -499.916753   \n",
       "75%                                 -499.137048   \n",
       "max                                  -30.601828   \n",
       "\n",
       "       primary_cleaner.output.concentrate_au  \\\n",
       "count                           14579.000000   \n",
       "mean                               32.007535   \n",
       "std                                 5.891272   \n",
       "min                                 0.000000   \n",
       "25%                                30.409669   \n",
       "50%                                32.837748   \n",
       "75%                                35.027165   \n",
       "max                                45.933934   \n",
       "\n",
       "       primary_cleaner.output.concentrate_ag  \\\n",
       "count                           14579.000000   \n",
       "mean                                8.468626   \n",
       "std                                 2.082271   \n",
       "min                                 0.000000   \n",
       "25%                                 7.360525   \n",
       "50%                                 8.555670   \n",
       "75%                                 9.815695   \n",
       "max                                16.081632   \n",
       "\n",
       "       primary_cleaner.output.concentrate_pb  \\\n",
       "count                           14491.000000   \n",
       "mean                                9.750567   \n",
       "std                                 2.556602   \n",
       "min                                 0.000000   \n",
       "25%                                 8.668289   \n",
       "50%                                10.121250   \n",
       "75%                                11.362268   \n",
       "max                                17.081278   \n",
       "\n",
       "       primary_cleaner.output.concentrate_sol  primary_cleaner.output.tail_au  \\\n",
       "count                            14314.000000                    14579.000000   \n",
       "mean                                10.576880                        3.974004   \n",
       "std                                  3.964761                        1.604410   \n",
       "min                                  0.000000                        0.000000   \n",
       "25%                                  7.964614                        2.960094   \n",
       "50%                                 10.479225                        3.693812   \n",
       "75%                                 13.588618                        4.648610   \n",
       "max                                 22.458114                       17.788925   \n",
       "\n",
       "       primary_cleaner.output.tail_ag  primary_cleaner.output.tail_pb  \\\n",
       "count                    14575.000000                    14573.000000   \n",
       "mean                        16.069960                        3.403764   \n",
       "std                          3.557775                        1.394091   \n",
       "min                          0.000000                        0.000000   \n",
       "25%                         13.978468                        2.494448   \n",
       "50%                         15.773016                        3.229651   \n",
       "75%                         17.908623                        4.115288   \n",
       "max                         29.459575                        9.634565   \n",
       "\n",
       "       primary_cleaner.output.tail_sol  \\\n",
       "count                     14534.000000   \n",
       "mean                          8.025747   \n",
       "std                           2.176478   \n",
       "min                           0.000000   \n",
       "25%                           6.826706   \n",
       "50%                           8.235004   \n",
       "75%                           9.562956   \n",
       "max                          22.276364   \n",
       "\n",
       "       secondary_cleaner.state.floatbank2_a_air  \\\n",
       "count                              14485.000000   \n",
       "mean                                  28.449700   \n",
       "std                                    5.467326   \n",
       "min                                    0.077503   \n",
       "25%                                   25.034882   \n",
       "50%                                   28.968533   \n",
       "75%                                   32.250615   \n",
       "max                                   52.651399   \n",
       "\n",
       "       secondary_cleaner.state.floatbank2_a_level  \\\n",
       "count                                14579.000000   \n",
       "mean                                  -503.321444   \n",
       "std                                     56.555780   \n",
       "min                                   -799.605762   \n",
       "25%                                   -500.240915   \n",
       "50%                                   -499.975415   \n",
       "75%                                   -499.668396   \n",
       "max                                   -127.875565   \n",
       "\n",
       "       secondary_cleaner.state.floatbank2_b_air  \\\n",
       "count                              14557.000000   \n",
       "mean                                  23.898016   \n",
       "std                                    5.820755   \n",
       "min                                    0.000000   \n",
       "25%                                   20.083738   \n",
       "50%                                   24.988575   \n",
       "75%                                   27.996854   \n",
       "max                                   35.152122   \n",
       "\n",
       "       secondary_cleaner.state.floatbank2_b_level  \\\n",
       "count                                14579.000000   \n",
       "mean                                  -504.455206   \n",
       "std                                     60.219739   \n",
       "min                                   -799.870292   \n",
       "25%                                   -500.264871   \n",
       "50%                                   -500.017709   \n",
       "75%                                   -499.786233   \n",
       "max                                   -211.999273   \n",
       "\n",
       "       secondary_cleaner.state.floatbank3_a_air  \\\n",
       "count                              14567.000000   \n",
       "mean                                  27.966801   \n",
       "std                                    6.109365   \n",
       "min                                    0.000000   \n",
       "25%                                   24.879889   \n",
       "50%                                   27.966517   \n",
       "75%                                   32.981447   \n",
       "max                                   44.260464   \n",
       "\n",
       "       secondary_cleaner.state.floatbank3_a_level  \\\n",
       "count                                14579.000000   \n",
       "mean                                  -485.112844   \n",
       "std                                     55.205693   \n",
       "min                                   -799.755798   \n",
       "25%                                   -500.214111   \n",
       "50%                                   -499.922655   \n",
       "75%                                   -499.233769   \n",
       "max                                   -191.678810   \n",
       "\n",
       "       secondary_cleaner.state.floatbank3_b_air  \\\n",
       "count                              14579.000000   \n",
       "mean                                  22.056638   \n",
       "std                                    5.605309   \n",
       "min                                    0.000000   \n",
       "25%                                   18.990660   \n",
       "50%                                   21.995308   \n",
       "75%                                   25.979469   \n",
       "max                                   35.072841   \n",
       "\n",
       "       secondary_cleaner.state.floatbank3_b_level  \\\n",
       "count                                14579.000000   \n",
       "mean                                  -493.400930   \n",
       "std                                     44.228650   \n",
       "min                                   -809.333008   \n",
       "25%                                   -500.123568   \n",
       "50%                                   -499.980765   \n",
       "75%                                   -499.808121   \n",
       "max                                   -159.742331   \n",
       "\n",
       "       secondary_cleaner.state.floatbank4_a_air  \\\n",
       "count                              14574.000000   \n",
       "mean                                  18.697604   \n",
       "std                                    5.200943   \n",
       "min                                    0.000000   \n",
       "25%                                   14.963312   \n",
       "50%                                   18.005468   \n",
       "75%                                   22.977019   \n",
       "max                                   30.115735   \n",
       "\n",
       "       secondary_cleaner.state.floatbank4_a_level  \\\n",
       "count                                14579.000000   \n",
       "mean                                  -484.971102   \n",
       "std                                     48.795359   \n",
       "min                                   -799.798523   \n",
       "25%                                   -500.704937   \n",
       "50%                                   -499.820809   \n",
       "75%                                   -498.048862   \n",
       "max                                   -245.239184   \n",
       "\n",
       "       secondary_cleaner.state.floatbank4_b_air  \\\n",
       "count                              14579.000000   \n",
       "mean                                  14.823764   \n",
       "std                                    4.863659   \n",
       "min                                    0.000000   \n",
       "25%                                   11.889685   \n",
       "50%                                   14.957945   \n",
       "75%                                   17.125406   \n",
       "max                                   31.269706   \n",
       "\n",
       "       secondary_cleaner.state.floatbank4_b_level  \\\n",
       "count                                14579.000000   \n",
       "mean                                  -460.046154   \n",
       "std                                     67.933026   \n",
       "min                                   -800.836914   \n",
       "25%                                   -500.184081   \n",
       "50%                                   -499.424528   \n",
       "75%                                   -400.083087   \n",
       "max                                     -6.506986   \n",
       "\n",
       "       secondary_cleaner.state.floatbank5_a_air  \\\n",
       "count                              14579.000000   \n",
       "mean                                  15.394610   \n",
       "std                                    5.405045   \n",
       "min                                   -0.372054   \n",
       "25%                                   10.977413   \n",
       "50%                                   14.963654   \n",
       "75%                                   18.012762   \n",
       "max                                   43.709931   \n",
       "\n",
       "       secondary_cleaner.state.floatbank5_a_level  \\\n",
       "count                                14579.000000   \n",
       "mean                                  -487.973768   \n",
       "std                                     35.231439   \n",
       "min                                   -797.323986   \n",
       "25%                                   -500.451167   \n",
       "50%                                   -499.772653   \n",
       "75%                                   -498.182011   \n",
       "max                                   -244.483566   \n",
       "\n",
       "       secondary_cleaner.state.floatbank5_b_air  \\\n",
       "count                              14579.000000   \n",
       "mean                                  11.949009   \n",
       "std                                    5.241169   \n",
       "min                                    0.528083   \n",
       "25%                                    8.947381   \n",
       "50%                                   11.000057   \n",
       "75%                                   14.002573   \n",
       "max                                   27.926001   \n",
       "\n",
       "       secondary_cleaner.state.floatbank5_b_level  \\\n",
       "count                                14579.000000   \n",
       "mean                                  -486.338692   \n",
       "std                                     38.726292   \n",
       "min                                   -800.220337   \n",
       "25%                                   -500.129137   \n",
       "50%                                   -499.926255   \n",
       "75%                                   -499.285414   \n",
       "max                                   -137.740004   \n",
       "\n",
       "       secondary_cleaner.state.floatbank6_a_air  \\\n",
       "count                              14578.000000   \n",
       "mean                                  18.927405   \n",
       "std                                    5.550829   \n",
       "min                                   -0.079426   \n",
       "25%                                   14.985721   \n",
       "50%                                   19.960798   \n",
       "75%                                   23.038231   \n",
       "max                                   32.188906   \n",
       "\n",
       "       secondary_cleaner.state.floatbank6_a_level  \\\n",
       "count                                14579.000000   \n",
       "mean                                  -505.688730   \n",
       "std                                     37.347370   \n",
       "min                                   -809.741464   \n",
       "25%                                   -500.755346   \n",
       "50%                                   -500.054273   \n",
       "75%                                   -499.506135   \n",
       "max                                   -123.307487   \n",
       "\n",
       "       secondary_cleaner.output.tail_au  secondary_cleaner.output.tail_ag  \\\n",
       "count                      14579.000000                      14578.000000   \n",
       "mean                           4.373067                         14.441265   \n",
       "std                            2.394328                          4.416497   \n",
       "min                            0.000000                          0.000000   \n",
       "25%                            3.216855                         12.479139   \n",
       "50%                            4.097589                         15.448510   \n",
       "75%                            5.108658                         17.349683   \n",
       "max                           26.811643                         23.264738   \n",
       "\n",
       "       secondary_cleaner.output.tail_pb  secondary_cleaner.output.tail_sol  \\\n",
       "count                      14575.000000                       13659.000000   \n",
       "mean                           5.617182                           7.111347   \n",
       "std                            2.704951                           3.909951   \n",
       "min                            0.000000                           0.000000   \n",
       "25%                            3.801206                           3.784897   \n",
       "50%                            5.227419                           7.629968   \n",
       "75%                            7.609340                          10.367050   \n",
       "max                           17.042505                          26.000772   \n",
       "\n",
       "       final.output.concentrate_au  final.output.concentrate_ag  \\\n",
       "count                 14579.000000                 14578.000000   \n",
       "mean                     43.979499                     5.192145   \n",
       "std                       5.471437                     1.388014   \n",
       "min                       0.000000                     0.000000   \n",
       "25%                      43.345906                     4.283347   \n",
       "50%                      44.975014                     5.118647   \n",
       "75%                      46.275153                     5.925380   \n",
       "max                      52.756638                    16.001945   \n",
       "\n",
       "       final.output.concentrate_pb  final.output.concentrate_sol  \\\n",
       "count                 14578.000000                  14387.000000   \n",
       "mean                      9.923809                      9.566676   \n",
       "std                       1.706976                      2.805654   \n",
       "min                       0.000000                      0.000000   \n",
       "25%                       9.103183                      7.860030   \n",
       "50%                      10.046455                      9.301970   \n",
       "75%                      10.981203                     11.001573   \n",
       "max                      16.705297                     19.423912   \n",
       "\n",
       "       final.output.recovery  final.output.tail_au  final.output.tail_ag  \\\n",
       "count           14579.000000          14579.000000          14578.000000   \n",
       "mean               66.759066              3.087939              9.731972   \n",
       "std                10.619709              0.915187              2.358143   \n",
       "min                 0.000000              0.000000              0.000000   \n",
       "25%                63.114596              2.505287              8.088928   \n",
       "50%                67.962788              3.029238              9.818512   \n",
       "75%                72.598187              3.614098             11.169187   \n",
       "max               100.000000              8.245022             19.552149   \n",
       "\n",
       "       final.output.tail_pb  final.output.tail_sol  \n",
       "count          14504.000000           14574.000000  \n",
       "mean               2.719985              10.612745  \n",
       "std                0.958929               2.871075  \n",
       "min                0.000000               0.000000  \n",
       "25%                2.036512               9.013412  \n",
       "50%                2.774847              10.670515  \n",
       "75%                3.353845              12.130827  \n",
       "max                5.804178              22.317730  "
      ]
     },
     "metadata": {},
     "output_type": "display_data"
    },
    {
     "data": {
      "text/plain": [
       "'Пропусков по столбцам:'"
      ]
     },
     "metadata": {},
     "output_type": "display_data"
    },
    {
     "data": {
      "text/plain": [
       "date                       0\n",
       "rougher.input.feed_au      0\n",
       "rougher.input.feed_ag      0\n",
       "rougher.input.feed_pb     72\n",
       "rougher.input.feed_sol    77\n",
       "                          ..\n",
       "final.output.recovery      0\n",
       "final.output.tail_au       0\n",
       "final.output.tail_ag       1\n",
       "final.output.tail_pb      75\n",
       "final.output.tail_sol      5\n",
       "Length: 87, dtype: int64"
      ]
     },
     "metadata": {},
     "output_type": "display_data"
    },
    {
     "data": {
      "text/plain": [
       "'Всего колонок с пропусками:'"
      ]
     },
     "metadata": {},
     "output_type": "display_data"
    },
    {
     "data": {
      "text/plain": [
       "39"
      ]
     },
     "metadata": {},
     "output_type": "display_data"
    },
    {
     "data": {
      "text/plain": [
       "'Дубликатов по дате:'"
      ]
     },
     "metadata": {},
     "output_type": "display_data"
    },
    {
     "data": {
      "text/plain": [
       "0"
      ]
     },
     "metadata": {},
     "output_type": "display_data"
    }
   ],
   "source": [
    "data_info(data_train)"
   ]
  },
  {
   "cell_type": "code",
   "execution_count": 5,
   "metadata": {},
   "outputs": [
    {
     "data": {
      "text/html": [
       "<div>\n",
       "<style scoped>\n",
       "    .dataframe tbody tr th:only-of-type {\n",
       "        vertical-align: middle;\n",
       "    }\n",
       "\n",
       "    .dataframe tbody tr th {\n",
       "        vertical-align: top;\n",
       "    }\n",
       "\n",
       "    .dataframe thead th {\n",
       "        text-align: right;\n",
       "    }\n",
       "</style>\n",
       "<table border=\"1\" class=\"dataframe\">\n",
       "  <thead>\n",
       "    <tr style=\"text-align: right;\">\n",
       "      <th></th>\n",
       "      <th>date</th>\n",
       "      <th>rougher.input.feed_au</th>\n",
       "      <th>rougher.input.feed_ag</th>\n",
       "      <th>rougher.input.feed_pb</th>\n",
       "      <th>rougher.input.feed_sol</th>\n",
       "      <th>rougher.input.feed_rate</th>\n",
       "      <th>rougher.input.feed_size</th>\n",
       "      <th>rougher.input.floatbank10_sulfate</th>\n",
       "      <th>rougher.input.floatbank10_xanthate</th>\n",
       "      <th>rougher.state.floatbank10_a_air</th>\n",
       "      <th>rougher.state.floatbank10_a_level</th>\n",
       "      <th>rougher.state.floatbank10_b_air</th>\n",
       "      <th>rougher.state.floatbank10_b_level</th>\n",
       "      <th>rougher.state.floatbank10_c_air</th>\n",
       "      <th>rougher.state.floatbank10_c_level</th>\n",
       "      <th>rougher.state.floatbank10_d_air</th>\n",
       "      <th>rougher.state.floatbank10_d_level</th>\n",
       "      <th>rougher.state.floatbank10_e_air</th>\n",
       "      <th>rougher.state.floatbank10_e_level</th>\n",
       "      <th>rougher.state.floatbank10_f_air</th>\n",
       "      <th>rougher.state.floatbank10_f_level</th>\n",
       "      <th>rougher.input.floatbank11_sulfate</th>\n",
       "      <th>rougher.input.floatbank11_xanthate</th>\n",
       "      <th>primary_cleaner.input.sulfate</th>\n",
       "      <th>primary_cleaner.input.depressant</th>\n",
       "      <th>primary_cleaner.input.feed_size</th>\n",
       "      <th>primary_cleaner.input.xanthate</th>\n",
       "      <th>primary_cleaner.state.floatbank8_a_air</th>\n",
       "      <th>primary_cleaner.state.floatbank8_a_level</th>\n",
       "      <th>primary_cleaner.state.floatbank8_b_air</th>\n",
       "      <th>primary_cleaner.state.floatbank8_b_level</th>\n",
       "      <th>primary_cleaner.state.floatbank8_c_air</th>\n",
       "      <th>primary_cleaner.state.floatbank8_c_level</th>\n",
       "      <th>primary_cleaner.state.floatbank8_d_air</th>\n",
       "      <th>primary_cleaner.state.floatbank8_d_level</th>\n",
       "      <th>secondary_cleaner.state.floatbank2_a_air</th>\n",
       "      <th>secondary_cleaner.state.floatbank2_a_level</th>\n",
       "      <th>secondary_cleaner.state.floatbank2_b_air</th>\n",
       "      <th>secondary_cleaner.state.floatbank2_b_level</th>\n",
       "      <th>secondary_cleaner.state.floatbank3_a_air</th>\n",
       "      <th>secondary_cleaner.state.floatbank3_a_level</th>\n",
       "      <th>secondary_cleaner.state.floatbank3_b_air</th>\n",
       "      <th>secondary_cleaner.state.floatbank3_b_level</th>\n",
       "      <th>secondary_cleaner.state.floatbank4_a_air</th>\n",
       "      <th>secondary_cleaner.state.floatbank4_a_level</th>\n",
       "      <th>secondary_cleaner.state.floatbank4_b_air</th>\n",
       "      <th>secondary_cleaner.state.floatbank4_b_level</th>\n",
       "      <th>secondary_cleaner.state.floatbank5_a_air</th>\n",
       "      <th>secondary_cleaner.state.floatbank5_a_level</th>\n",
       "      <th>secondary_cleaner.state.floatbank5_b_air</th>\n",
       "      <th>secondary_cleaner.state.floatbank5_b_level</th>\n",
       "      <th>secondary_cleaner.state.floatbank6_a_air</th>\n",
       "      <th>secondary_cleaner.state.floatbank6_a_level</th>\n",
       "    </tr>\n",
       "  </thead>\n",
       "  <tbody>\n",
       "    <tr>\n",
       "      <th>0</th>\n",
       "      <td>2017-12-09 14:59:59</td>\n",
       "      <td>4.365491</td>\n",
       "      <td>6.158718</td>\n",
       "      <td>3.875727</td>\n",
       "      <td>39.135119</td>\n",
       "      <td>555.820208</td>\n",
       "      <td>94.544358</td>\n",
       "      <td>6.146982</td>\n",
       "      <td>9.308612</td>\n",
       "      <td>1196.238112</td>\n",
       "      <td>-299.862743</td>\n",
       "      <td>1147.248241</td>\n",
       "      <td>-500.363165</td>\n",
       "      <td>1047.279065</td>\n",
       "      <td>-500.354091</td>\n",
       "      <td>948.756608</td>\n",
       "      <td>-498.439416</td>\n",
       "      <td>849.441918</td>\n",
       "      <td>-499.255503</td>\n",
       "      <td>850.112246</td>\n",
       "      <td>-499.407112</td>\n",
       "      <td>6.168939</td>\n",
       "      <td>9.309852</td>\n",
       "      <td>95.248427</td>\n",
       "      <td>8.078957</td>\n",
       "      <td>6.500000</td>\n",
       "      <td>1.283045</td>\n",
       "      <td>1648.759906</td>\n",
       "      <td>-399.862053</td>\n",
       "      <td>1650.135395</td>\n",
       "      <td>-399.957321</td>\n",
       "      <td>1648.831890</td>\n",
       "      <td>-400.586116</td>\n",
       "      <td>1649.464582</td>\n",
       "      <td>-400.673303</td>\n",
       "      <td>34.940919</td>\n",
       "      <td>-500.150510</td>\n",
       "      <td>30.031867</td>\n",
       "      <td>-500.328335</td>\n",
       "      <td>26.033990</td>\n",
       "      <td>-500.147792</td>\n",
       "      <td>22.952306</td>\n",
       "      <td>-500.037678</td>\n",
       "      <td>23.018622</td>\n",
       "      <td>-500.492702</td>\n",
       "      <td>20.020205</td>\n",
       "      <td>-500.220296</td>\n",
       "      <td>17.963512</td>\n",
       "      <td>-499.939490</td>\n",
       "      <td>12.990306</td>\n",
       "      <td>-500.080993</td>\n",
       "      <td>19.990336</td>\n",
       "      <td>-499.191575</td>\n",
       "    </tr>\n",
       "    <tr>\n",
       "      <th>1</th>\n",
       "      <td>2017-12-09 15:59:59</td>\n",
       "      <td>4.362781</td>\n",
       "      <td>6.048130</td>\n",
       "      <td>3.902537</td>\n",
       "      <td>39.713906</td>\n",
       "      <td>544.731687</td>\n",
       "      <td>123.742430</td>\n",
       "      <td>6.210119</td>\n",
       "      <td>9.297709</td>\n",
       "      <td>1201.904177</td>\n",
       "      <td>-299.907308</td>\n",
       "      <td>1154.087804</td>\n",
       "      <td>-500.036580</td>\n",
       "      <td>1054.009756</td>\n",
       "      <td>-500.237335</td>\n",
       "      <td>944.138793</td>\n",
       "      <td>-496.866953</td>\n",
       "      <td>851.589767</td>\n",
       "      <td>-499.040466</td>\n",
       "      <td>851.345606</td>\n",
       "      <td>-499.122561</td>\n",
       "      <td>6.209517</td>\n",
       "      <td>9.297194</td>\n",
       "      <td>98.880538</td>\n",
       "      <td>7.984164</td>\n",
       "      <td>6.500000</td>\n",
       "      <td>1.241969</td>\n",
       "      <td>1646.547763</td>\n",
       "      <td>-398.977083</td>\n",
       "      <td>1648.212240</td>\n",
       "      <td>-400.383265</td>\n",
       "      <td>1648.917387</td>\n",
       "      <td>-399.521344</td>\n",
       "      <td>1651.498591</td>\n",
       "      <td>-399.745329</td>\n",
       "      <td>34.980742</td>\n",
       "      <td>-498.131002</td>\n",
       "      <td>29.968453</td>\n",
       "      <td>-586.013330</td>\n",
       "      <td>25.971737</td>\n",
       "      <td>-499.608392</td>\n",
       "      <td>22.958448</td>\n",
       "      <td>-499.821308</td>\n",
       "      <td>23.024963</td>\n",
       "      <td>-501.153409</td>\n",
       "      <td>20.054122</td>\n",
       "      <td>-500.314711</td>\n",
       "      <td>17.979515</td>\n",
       "      <td>-499.272871</td>\n",
       "      <td>12.992404</td>\n",
       "      <td>-499.976268</td>\n",
       "      <td>20.013986</td>\n",
       "      <td>-500.625471</td>\n",
       "    </tr>\n",
       "    <tr>\n",
       "      <th>2</th>\n",
       "      <td>2017-12-09 16:59:59</td>\n",
       "      <td>5.081681</td>\n",
       "      <td>6.082745</td>\n",
       "      <td>4.564078</td>\n",
       "      <td>37.208683</td>\n",
       "      <td>558.155110</td>\n",
       "      <td>82.610855</td>\n",
       "      <td>7.363824</td>\n",
       "      <td>9.003562</td>\n",
       "      <td>1200.826926</td>\n",
       "      <td>-300.124116</td>\n",
       "      <td>1150.754676</td>\n",
       "      <td>-499.986009</td>\n",
       "      <td>1049.182824</td>\n",
       "      <td>-500.014696</td>\n",
       "      <td>948.085464</td>\n",
       "      <td>-499.997003</td>\n",
       "      <td>850.170086</td>\n",
       "      <td>-500.270334</td>\n",
       "      <td>849.557905</td>\n",
       "      <td>-500.198702</td>\n",
       "      <td>7.358308</td>\n",
       "      <td>9.000624</td>\n",
       "      <td>119.497545</td>\n",
       "      <td>8.003752</td>\n",
       "      <td>6.500000</td>\n",
       "      <td>1.259741</td>\n",
       "      <td>1647.368779</td>\n",
       "      <td>-399.788506</td>\n",
       "      <td>1648.395206</td>\n",
       "      <td>-400.166490</td>\n",
       "      <td>1648.953828</td>\n",
       "      <td>-400.468641</td>\n",
       "      <td>1649.821569</td>\n",
       "      <td>-400.071884</td>\n",
       "      <td>34.952967</td>\n",
       "      <td>-501.204647</td>\n",
       "      <td>29.927025</td>\n",
       "      <td>-500.106628</td>\n",
       "      <td>25.978253</td>\n",
       "      <td>-499.890060</td>\n",
       "      <td>23.004376</td>\n",
       "      <td>-500.014529</td>\n",
       "      <td>22.993827</td>\n",
       "      <td>-501.559663</td>\n",
       "      <td>20.029144</td>\n",
       "      <td>-500.000662</td>\n",
       "      <td>18.012723</td>\n",
       "      <td>-500.024764</td>\n",
       "      <td>13.016445</td>\n",
       "      <td>-500.058432</td>\n",
       "      <td>19.973767</td>\n",
       "      <td>-501.394155</td>\n",
       "    </tr>\n",
       "    <tr>\n",
       "      <th>3</th>\n",
       "      <td>2017-12-09 17:59:59</td>\n",
       "      <td>5.145949</td>\n",
       "      <td>6.084374</td>\n",
       "      <td>4.768124</td>\n",
       "      <td>36.808874</td>\n",
       "      <td>539.713765</td>\n",
       "      <td>77.984784</td>\n",
       "      <td>6.927072</td>\n",
       "      <td>8.955597</td>\n",
       "      <td>1199.292489</td>\n",
       "      <td>-299.778385</td>\n",
       "      <td>1152.512559</td>\n",
       "      <td>-500.338106</td>\n",
       "      <td>1052.601592</td>\n",
       "      <td>-499.695075</td>\n",
       "      <td>955.171539</td>\n",
       "      <td>-500.294989</td>\n",
       "      <td>851.957342</td>\n",
       "      <td>-499.779541</td>\n",
       "      <td>850.765662</td>\n",
       "      <td>-501.030559</td>\n",
       "      <td>6.929364</td>\n",
       "      <td>8.920717</td>\n",
       "      <td>108.080163</td>\n",
       "      <td>7.970121</td>\n",
       "      <td>6.660000</td>\n",
       "      <td>0.774909</td>\n",
       "      <td>1652.660845</td>\n",
       "      <td>-399.702218</td>\n",
       "      <td>1651.203128</td>\n",
       "      <td>-400.291472</td>\n",
       "      <td>1651.924848</td>\n",
       "      <td>-398.058033</td>\n",
       "      <td>1650.782696</td>\n",
       "      <td>-399.597977</td>\n",
       "      <td>35.038256</td>\n",
       "      <td>-500.102649</td>\n",
       "      <td>30.066959</td>\n",
       "      <td>-500.211499</td>\n",
       "      <td>26.013515</td>\n",
       "      <td>-500.054597</td>\n",
       "      <td>22.988928</td>\n",
       "      <td>-499.981410</td>\n",
       "      <td>23.032807</td>\n",
       "      <td>-501.287889</td>\n",
       "      <td>19.977466</td>\n",
       "      <td>-500.159903</td>\n",
       "      <td>17.980463</td>\n",
       "      <td>-500.504602</td>\n",
       "      <td>12.949071</td>\n",
       "      <td>-500.009937</td>\n",
       "      <td>20.010332</td>\n",
       "      <td>-508.337973</td>\n",
       "    </tr>\n",
       "    <tr>\n",
       "      <th>4</th>\n",
       "      <td>2017-12-09 18:59:59</td>\n",
       "      <td>5.735249</td>\n",
       "      <td>6.165220</td>\n",
       "      <td>4.512346</td>\n",
       "      <td>37.810642</td>\n",
       "      <td>558.713584</td>\n",
       "      <td>86.434874</td>\n",
       "      <td>7.823471</td>\n",
       "      <td>7.490356</td>\n",
       "      <td>1198.005449</td>\n",
       "      <td>-300.283401</td>\n",
       "      <td>1099.481500</td>\n",
       "      <td>-499.702465</td>\n",
       "      <td>999.539264</td>\n",
       "      <td>-499.306051</td>\n",
       "      <td>889.445596</td>\n",
       "      <td>-498.118617</td>\n",
       "      <td>800.533525</td>\n",
       "      <td>-499.765068</td>\n",
       "      <td>800.510356</td>\n",
       "      <td>-497.289533</td>\n",
       "      <td>7.824875</td>\n",
       "      <td>7.500678</td>\n",
       "      <td>117.750648</td>\n",
       "      <td>6.954311</td>\n",
       "      <td>6.426667</td>\n",
       "      <td>0.731271</td>\n",
       "      <td>1649.411497</td>\n",
       "      <td>-399.853156</td>\n",
       "      <td>1648.917211</td>\n",
       "      <td>-400.321866</td>\n",
       "      <td>1649.117753</td>\n",
       "      <td>-399.645348</td>\n",
       "      <td>1650.398209</td>\n",
       "      <td>-400.654533</td>\n",
       "      <td>34.894598</td>\n",
       "      <td>-498.444587</td>\n",
       "      <td>30.020745</td>\n",
       "      <td>-533.831343</td>\n",
       "      <td>26.022094</td>\n",
       "      <td>-499.725484</td>\n",
       "      <td>22.992992</td>\n",
       "      <td>-499.891405</td>\n",
       "      <td>23.001911</td>\n",
       "      <td>-499.947838</td>\n",
       "      <td>20.023735</td>\n",
       "      <td>-499.713680</td>\n",
       "      <td>17.990955</td>\n",
       "      <td>-500.334769</td>\n",
       "      <td>13.007523</td>\n",
       "      <td>-499.968459</td>\n",
       "      <td>19.995999</td>\n",
       "      <td>-499.788805</td>\n",
       "    </tr>\n",
       "  </tbody>\n",
       "</table>\n",
       "</div>"
      ],
      "text/plain": [
       "                  date  rougher.input.feed_au  rougher.input.feed_ag  \\\n",
       "0  2017-12-09 14:59:59               4.365491               6.158718   \n",
       "1  2017-12-09 15:59:59               4.362781               6.048130   \n",
       "2  2017-12-09 16:59:59               5.081681               6.082745   \n",
       "3  2017-12-09 17:59:59               5.145949               6.084374   \n",
       "4  2017-12-09 18:59:59               5.735249               6.165220   \n",
       "\n",
       "   rougher.input.feed_pb  rougher.input.feed_sol  rougher.input.feed_rate  \\\n",
       "0               3.875727               39.135119               555.820208   \n",
       "1               3.902537               39.713906               544.731687   \n",
       "2               4.564078               37.208683               558.155110   \n",
       "3               4.768124               36.808874               539.713765   \n",
       "4               4.512346               37.810642               558.713584   \n",
       "\n",
       "   rougher.input.feed_size  rougher.input.floatbank10_sulfate  \\\n",
       "0                94.544358                           6.146982   \n",
       "1               123.742430                           6.210119   \n",
       "2                82.610855                           7.363824   \n",
       "3                77.984784                           6.927072   \n",
       "4                86.434874                           7.823471   \n",
       "\n",
       "   rougher.input.floatbank10_xanthate  rougher.state.floatbank10_a_air  \\\n",
       "0                            9.308612                      1196.238112   \n",
       "1                            9.297709                      1201.904177   \n",
       "2                            9.003562                      1200.826926   \n",
       "3                            8.955597                      1199.292489   \n",
       "4                            7.490356                      1198.005449   \n",
       "\n",
       "   rougher.state.floatbank10_a_level  rougher.state.floatbank10_b_air  \\\n",
       "0                        -299.862743                      1147.248241   \n",
       "1                        -299.907308                      1154.087804   \n",
       "2                        -300.124116                      1150.754676   \n",
       "3                        -299.778385                      1152.512559   \n",
       "4                        -300.283401                      1099.481500   \n",
       "\n",
       "   rougher.state.floatbank10_b_level  rougher.state.floatbank10_c_air  \\\n",
       "0                        -500.363165                      1047.279065   \n",
       "1                        -500.036580                      1054.009756   \n",
       "2                        -499.986009                      1049.182824   \n",
       "3                        -500.338106                      1052.601592   \n",
       "4                        -499.702465                       999.539264   \n",
       "\n",
       "   rougher.state.floatbank10_c_level  rougher.state.floatbank10_d_air  \\\n",
       "0                        -500.354091                       948.756608   \n",
       "1                        -500.237335                       944.138793   \n",
       "2                        -500.014696                       948.085464   \n",
       "3                        -499.695075                       955.171539   \n",
       "4                        -499.306051                       889.445596   \n",
       "\n",
       "   rougher.state.floatbank10_d_level  rougher.state.floatbank10_e_air  \\\n",
       "0                        -498.439416                       849.441918   \n",
       "1                        -496.866953                       851.589767   \n",
       "2                        -499.997003                       850.170086   \n",
       "3                        -500.294989                       851.957342   \n",
       "4                        -498.118617                       800.533525   \n",
       "\n",
       "   rougher.state.floatbank10_e_level  rougher.state.floatbank10_f_air  \\\n",
       "0                        -499.255503                       850.112246   \n",
       "1                        -499.040466                       851.345606   \n",
       "2                        -500.270334                       849.557905   \n",
       "3                        -499.779541                       850.765662   \n",
       "4                        -499.765068                       800.510356   \n",
       "\n",
       "   rougher.state.floatbank10_f_level  rougher.input.floatbank11_sulfate  \\\n",
       "0                        -499.407112                           6.168939   \n",
       "1                        -499.122561                           6.209517   \n",
       "2                        -500.198702                           7.358308   \n",
       "3                        -501.030559                           6.929364   \n",
       "4                        -497.289533                           7.824875   \n",
       "\n",
       "   rougher.input.floatbank11_xanthate  primary_cleaner.input.sulfate  \\\n",
       "0                            9.309852                      95.248427   \n",
       "1                            9.297194                      98.880538   \n",
       "2                            9.000624                     119.497545   \n",
       "3                            8.920717                     108.080163   \n",
       "4                            7.500678                     117.750648   \n",
       "\n",
       "   primary_cleaner.input.depressant  primary_cleaner.input.feed_size  \\\n",
       "0                          8.078957                         6.500000   \n",
       "1                          7.984164                         6.500000   \n",
       "2                          8.003752                         6.500000   \n",
       "3                          7.970121                         6.660000   \n",
       "4                          6.954311                         6.426667   \n",
       "\n",
       "   primary_cleaner.input.xanthate  primary_cleaner.state.floatbank8_a_air  \\\n",
       "0                        1.283045                             1648.759906   \n",
       "1                        1.241969                             1646.547763   \n",
       "2                        1.259741                             1647.368779   \n",
       "3                        0.774909                             1652.660845   \n",
       "4                        0.731271                             1649.411497   \n",
       "\n",
       "   primary_cleaner.state.floatbank8_a_level  \\\n",
       "0                               -399.862053   \n",
       "1                               -398.977083   \n",
       "2                               -399.788506   \n",
       "3                               -399.702218   \n",
       "4                               -399.853156   \n",
       "\n",
       "   primary_cleaner.state.floatbank8_b_air  \\\n",
       "0                             1650.135395   \n",
       "1                             1648.212240   \n",
       "2                             1648.395206   \n",
       "3                             1651.203128   \n",
       "4                             1648.917211   \n",
       "\n",
       "   primary_cleaner.state.floatbank8_b_level  \\\n",
       "0                               -399.957321   \n",
       "1                               -400.383265   \n",
       "2                               -400.166490   \n",
       "3                               -400.291472   \n",
       "4                               -400.321866   \n",
       "\n",
       "   primary_cleaner.state.floatbank8_c_air  \\\n",
       "0                             1648.831890   \n",
       "1                             1648.917387   \n",
       "2                             1648.953828   \n",
       "3                             1651.924848   \n",
       "4                             1649.117753   \n",
       "\n",
       "   primary_cleaner.state.floatbank8_c_level  \\\n",
       "0                               -400.586116   \n",
       "1                               -399.521344   \n",
       "2                               -400.468641   \n",
       "3                               -398.058033   \n",
       "4                               -399.645348   \n",
       "\n",
       "   primary_cleaner.state.floatbank8_d_air  \\\n",
       "0                             1649.464582   \n",
       "1                             1651.498591   \n",
       "2                             1649.821569   \n",
       "3                             1650.782696   \n",
       "4                             1650.398209   \n",
       "\n",
       "   primary_cleaner.state.floatbank8_d_level  \\\n",
       "0                               -400.673303   \n",
       "1                               -399.745329   \n",
       "2                               -400.071884   \n",
       "3                               -399.597977   \n",
       "4                               -400.654533   \n",
       "\n",
       "   secondary_cleaner.state.floatbank2_a_air  \\\n",
       "0                                 34.940919   \n",
       "1                                 34.980742   \n",
       "2                                 34.952967   \n",
       "3                                 35.038256   \n",
       "4                                 34.894598   \n",
       "\n",
       "   secondary_cleaner.state.floatbank2_a_level  \\\n",
       "0                                 -500.150510   \n",
       "1                                 -498.131002   \n",
       "2                                 -501.204647   \n",
       "3                                 -500.102649   \n",
       "4                                 -498.444587   \n",
       "\n",
       "   secondary_cleaner.state.floatbank2_b_air  \\\n",
       "0                                 30.031867   \n",
       "1                                 29.968453   \n",
       "2                                 29.927025   \n",
       "3                                 30.066959   \n",
       "4                                 30.020745   \n",
       "\n",
       "   secondary_cleaner.state.floatbank2_b_level  \\\n",
       "0                                 -500.328335   \n",
       "1                                 -586.013330   \n",
       "2                                 -500.106628   \n",
       "3                                 -500.211499   \n",
       "4                                 -533.831343   \n",
       "\n",
       "   secondary_cleaner.state.floatbank3_a_air  \\\n",
       "0                                 26.033990   \n",
       "1                                 25.971737   \n",
       "2                                 25.978253   \n",
       "3                                 26.013515   \n",
       "4                                 26.022094   \n",
       "\n",
       "   secondary_cleaner.state.floatbank3_a_level  \\\n",
       "0                                 -500.147792   \n",
       "1                                 -499.608392   \n",
       "2                                 -499.890060   \n",
       "3                                 -500.054597   \n",
       "4                                 -499.725484   \n",
       "\n",
       "   secondary_cleaner.state.floatbank3_b_air  \\\n",
       "0                                 22.952306   \n",
       "1                                 22.958448   \n",
       "2                                 23.004376   \n",
       "3                                 22.988928   \n",
       "4                                 22.992992   \n",
       "\n",
       "   secondary_cleaner.state.floatbank3_b_level  \\\n",
       "0                                 -500.037678   \n",
       "1                                 -499.821308   \n",
       "2                                 -500.014529   \n",
       "3                                 -499.981410   \n",
       "4                                 -499.891405   \n",
       "\n",
       "   secondary_cleaner.state.floatbank4_a_air  \\\n",
       "0                                 23.018622   \n",
       "1                                 23.024963   \n",
       "2                                 22.993827   \n",
       "3                                 23.032807   \n",
       "4                                 23.001911   \n",
       "\n",
       "   secondary_cleaner.state.floatbank4_a_level  \\\n",
       "0                                 -500.492702   \n",
       "1                                 -501.153409   \n",
       "2                                 -501.559663   \n",
       "3                                 -501.287889   \n",
       "4                                 -499.947838   \n",
       "\n",
       "   secondary_cleaner.state.floatbank4_b_air  \\\n",
       "0                                 20.020205   \n",
       "1                                 20.054122   \n",
       "2                                 20.029144   \n",
       "3                                 19.977466   \n",
       "4                                 20.023735   \n",
       "\n",
       "   secondary_cleaner.state.floatbank4_b_level  \\\n",
       "0                                 -500.220296   \n",
       "1                                 -500.314711   \n",
       "2                                 -500.000662   \n",
       "3                                 -500.159903   \n",
       "4                                 -499.713680   \n",
       "\n",
       "   secondary_cleaner.state.floatbank5_a_air  \\\n",
       "0                                 17.963512   \n",
       "1                                 17.979515   \n",
       "2                                 18.012723   \n",
       "3                                 17.980463   \n",
       "4                                 17.990955   \n",
       "\n",
       "   secondary_cleaner.state.floatbank5_a_level  \\\n",
       "0                                 -499.939490   \n",
       "1                                 -499.272871   \n",
       "2                                 -500.024764   \n",
       "3                                 -500.504602   \n",
       "4                                 -500.334769   \n",
       "\n",
       "   secondary_cleaner.state.floatbank5_b_air  \\\n",
       "0                                 12.990306   \n",
       "1                                 12.992404   \n",
       "2                                 13.016445   \n",
       "3                                 12.949071   \n",
       "4                                 13.007523   \n",
       "\n",
       "   secondary_cleaner.state.floatbank5_b_level  \\\n",
       "0                                 -500.080993   \n",
       "1                                 -499.976268   \n",
       "2                                 -500.058432   \n",
       "3                                 -500.009937   \n",
       "4                                 -499.968459   \n",
       "\n",
       "   secondary_cleaner.state.floatbank6_a_air  \\\n",
       "0                                 19.990336   \n",
       "1                                 20.013986   \n",
       "2                                 19.973767   \n",
       "3                                 20.010332   \n",
       "4                                 19.995999   \n",
       "\n",
       "   secondary_cleaner.state.floatbank6_a_level  \n",
       "0                                 -499.191575  \n",
       "1                                 -500.625471  \n",
       "2                                 -501.394155  \n",
       "3                                 -508.337973  \n",
       "4                                 -499.788805  "
      ]
     },
     "metadata": {},
     "output_type": "display_data"
    },
    {
     "data": {
      "text/plain": [
       "(4860, 53)"
      ]
     },
     "metadata": {},
     "output_type": "display_data"
    },
    {
     "name": "stdout",
     "output_type": "stream",
     "text": [
      "<class 'pandas.core.frame.DataFrame'>\n",
      "RangeIndex: 4860 entries, 0 to 4859\n",
      "Data columns (total 53 columns):\n",
      " #   Column                                      Non-Null Count  Dtype  \n",
      "---  ------                                      --------------  -----  \n",
      " 0   date                                        4860 non-null   object \n",
      " 1   rougher.input.feed_au                       4860 non-null   float64\n",
      " 2   rougher.input.feed_ag                       4860 non-null   float64\n",
      " 3   rougher.input.feed_pb                       4832 non-null   float64\n",
      " 4   rougher.input.feed_sol                      4838 non-null   float64\n",
      " 5   rougher.input.feed_rate                     4856 non-null   float64\n",
      " 6   rougher.input.feed_size                     4816 non-null   float64\n",
      " 7   rougher.input.floatbank10_sulfate           4857 non-null   float64\n",
      " 8   rougher.input.floatbank10_xanthate          4859 non-null   float64\n",
      " 9   rougher.state.floatbank10_a_air             4859 non-null   float64\n",
      " 10  rougher.state.floatbank10_a_level           4859 non-null   float64\n",
      " 11  rougher.state.floatbank10_b_air             4859 non-null   float64\n",
      " 12  rougher.state.floatbank10_b_level           4859 non-null   float64\n",
      " 13  rougher.state.floatbank10_c_air             4859 non-null   float64\n",
      " 14  rougher.state.floatbank10_c_level           4859 non-null   float64\n",
      " 15  rougher.state.floatbank10_d_air             4860 non-null   float64\n",
      " 16  rougher.state.floatbank10_d_level           4860 non-null   float64\n",
      " 17  rougher.state.floatbank10_e_air             4853 non-null   float64\n",
      " 18  rougher.state.floatbank10_e_level           4860 non-null   float64\n",
      " 19  rougher.state.floatbank10_f_air             4860 non-null   float64\n",
      " 20  rougher.state.floatbank10_f_level           4860 non-null   float64\n",
      " 21  rougher.input.floatbank11_sulfate           4852 non-null   float64\n",
      " 22  rougher.input.floatbank11_xanthate          4814 non-null   float64\n",
      " 23  primary_cleaner.input.sulfate               4859 non-null   float64\n",
      " 24  primary_cleaner.input.depressant            4851 non-null   float64\n",
      " 25  primary_cleaner.input.feed_size             4860 non-null   float64\n",
      " 26  primary_cleaner.input.xanthate              4817 non-null   float64\n",
      " 27  primary_cleaner.state.floatbank8_a_air      4859 non-null   float64\n",
      " 28  primary_cleaner.state.floatbank8_a_level    4859 non-null   float64\n",
      " 29  primary_cleaner.state.floatbank8_b_air      4859 non-null   float64\n",
      " 30  primary_cleaner.state.floatbank8_b_level    4859 non-null   float64\n",
      " 31  primary_cleaner.state.floatbank8_c_air      4858 non-null   float64\n",
      " 32  primary_cleaner.state.floatbank8_c_level    4859 non-null   float64\n",
      " 33  primary_cleaner.state.floatbank8_d_air      4858 non-null   float64\n",
      " 34  primary_cleaner.state.floatbank8_d_level    4859 non-null   float64\n",
      " 35  secondary_cleaner.state.floatbank2_a_air    4734 non-null   float64\n",
      " 36  secondary_cleaner.state.floatbank2_a_level  4859 non-null   float64\n",
      " 37  secondary_cleaner.state.floatbank2_b_air    4859 non-null   float64\n",
      " 38  secondary_cleaner.state.floatbank2_b_level  4859 non-null   float64\n",
      " 39  secondary_cleaner.state.floatbank3_a_air    4859 non-null   float64\n",
      " 40  secondary_cleaner.state.floatbank3_a_level  4859 non-null   float64\n",
      " 41  secondary_cleaner.state.floatbank3_b_air    4859 non-null   float64\n",
      " 42  secondary_cleaner.state.floatbank3_b_level  4859 non-null   float64\n",
      " 43  secondary_cleaner.state.floatbank4_a_air    4859 non-null   float64\n",
      " 44  secondary_cleaner.state.floatbank4_a_level  4859 non-null   float64\n",
      " 45  secondary_cleaner.state.floatbank4_b_air    4859 non-null   float64\n",
      " 46  secondary_cleaner.state.floatbank4_b_level  4859 non-null   float64\n",
      " 47  secondary_cleaner.state.floatbank5_a_air    4859 non-null   float64\n",
      " 48  secondary_cleaner.state.floatbank5_a_level  4859 non-null   float64\n",
      " 49  secondary_cleaner.state.floatbank5_b_air    4859 non-null   float64\n",
      " 50  secondary_cleaner.state.floatbank5_b_level  4859 non-null   float64\n",
      " 51  secondary_cleaner.state.floatbank6_a_air    4859 non-null   float64\n",
      " 52  secondary_cleaner.state.floatbank6_a_level  4859 non-null   float64\n",
      "dtypes: float64(52), object(1)\n",
      "memory usage: 2.0+ MB\n"
     ]
    },
    {
     "data": {
      "text/plain": [
       "None"
      ]
     },
     "metadata": {},
     "output_type": "display_data"
    },
    {
     "data": {
      "text/html": [
       "<div>\n",
       "<style scoped>\n",
       "    .dataframe tbody tr th:only-of-type {\n",
       "        vertical-align: middle;\n",
       "    }\n",
       "\n",
       "    .dataframe tbody tr th {\n",
       "        vertical-align: top;\n",
       "    }\n",
       "\n",
       "    .dataframe thead th {\n",
       "        text-align: right;\n",
       "    }\n",
       "</style>\n",
       "<table border=\"1\" class=\"dataframe\">\n",
       "  <thead>\n",
       "    <tr style=\"text-align: right;\">\n",
       "      <th></th>\n",
       "      <th>rougher.input.feed_au</th>\n",
       "      <th>rougher.input.feed_ag</th>\n",
       "      <th>rougher.input.feed_pb</th>\n",
       "      <th>rougher.input.feed_sol</th>\n",
       "      <th>rougher.input.feed_rate</th>\n",
       "      <th>rougher.input.feed_size</th>\n",
       "      <th>rougher.input.floatbank10_sulfate</th>\n",
       "      <th>rougher.input.floatbank10_xanthate</th>\n",
       "      <th>rougher.state.floatbank10_a_air</th>\n",
       "      <th>rougher.state.floatbank10_a_level</th>\n",
       "      <th>rougher.state.floatbank10_b_air</th>\n",
       "      <th>rougher.state.floatbank10_b_level</th>\n",
       "      <th>rougher.state.floatbank10_c_air</th>\n",
       "      <th>rougher.state.floatbank10_c_level</th>\n",
       "      <th>rougher.state.floatbank10_d_air</th>\n",
       "      <th>rougher.state.floatbank10_d_level</th>\n",
       "      <th>rougher.state.floatbank10_e_air</th>\n",
       "      <th>rougher.state.floatbank10_e_level</th>\n",
       "      <th>rougher.state.floatbank10_f_air</th>\n",
       "      <th>rougher.state.floatbank10_f_level</th>\n",
       "      <th>rougher.input.floatbank11_sulfate</th>\n",
       "      <th>rougher.input.floatbank11_xanthate</th>\n",
       "      <th>primary_cleaner.input.sulfate</th>\n",
       "      <th>primary_cleaner.input.depressant</th>\n",
       "      <th>primary_cleaner.input.feed_size</th>\n",
       "      <th>primary_cleaner.input.xanthate</th>\n",
       "      <th>primary_cleaner.state.floatbank8_a_air</th>\n",
       "      <th>primary_cleaner.state.floatbank8_a_level</th>\n",
       "      <th>primary_cleaner.state.floatbank8_b_air</th>\n",
       "      <th>primary_cleaner.state.floatbank8_b_level</th>\n",
       "      <th>primary_cleaner.state.floatbank8_c_air</th>\n",
       "      <th>primary_cleaner.state.floatbank8_c_level</th>\n",
       "      <th>primary_cleaner.state.floatbank8_d_air</th>\n",
       "      <th>primary_cleaner.state.floatbank8_d_level</th>\n",
       "      <th>secondary_cleaner.state.floatbank2_a_air</th>\n",
       "      <th>secondary_cleaner.state.floatbank2_a_level</th>\n",
       "      <th>secondary_cleaner.state.floatbank2_b_air</th>\n",
       "      <th>secondary_cleaner.state.floatbank2_b_level</th>\n",
       "      <th>secondary_cleaner.state.floatbank3_a_air</th>\n",
       "      <th>secondary_cleaner.state.floatbank3_a_level</th>\n",
       "      <th>secondary_cleaner.state.floatbank3_b_air</th>\n",
       "      <th>secondary_cleaner.state.floatbank3_b_level</th>\n",
       "      <th>secondary_cleaner.state.floatbank4_a_air</th>\n",
       "      <th>secondary_cleaner.state.floatbank4_a_level</th>\n",
       "      <th>secondary_cleaner.state.floatbank4_b_air</th>\n",
       "      <th>secondary_cleaner.state.floatbank4_b_level</th>\n",
       "      <th>secondary_cleaner.state.floatbank5_a_air</th>\n",
       "      <th>secondary_cleaner.state.floatbank5_a_level</th>\n",
       "      <th>secondary_cleaner.state.floatbank5_b_air</th>\n",
       "      <th>secondary_cleaner.state.floatbank5_b_level</th>\n",
       "      <th>secondary_cleaner.state.floatbank6_a_air</th>\n",
       "      <th>secondary_cleaner.state.floatbank6_a_level</th>\n",
       "    </tr>\n",
       "  </thead>\n",
       "  <tbody>\n",
       "    <tr>\n",
       "      <th>count</th>\n",
       "      <td>4860.000000</td>\n",
       "      <td>4860.000000</td>\n",
       "      <td>4832.000000</td>\n",
       "      <td>4838.000000</td>\n",
       "      <td>4856.000000</td>\n",
       "      <td>4816.000000</td>\n",
       "      <td>4857.000000</td>\n",
       "      <td>4859.000000</td>\n",
       "      <td>4859.000000</td>\n",
       "      <td>4859.000000</td>\n",
       "      <td>4859.000000</td>\n",
       "      <td>4859.000000</td>\n",
       "      <td>4859.000000</td>\n",
       "      <td>4859.000000</td>\n",
       "      <td>4860.000000</td>\n",
       "      <td>4860.000000</td>\n",
       "      <td>4853.000000</td>\n",
       "      <td>4860.000000</td>\n",
       "      <td>4860.000000</td>\n",
       "      <td>4860.000000</td>\n",
       "      <td>4852.000000</td>\n",
       "      <td>4814.000000</td>\n",
       "      <td>4859.000000</td>\n",
       "      <td>4851.000000</td>\n",
       "      <td>4860.000000</td>\n",
       "      <td>4817.000000</td>\n",
       "      <td>4859.000000</td>\n",
       "      <td>4859.000000</td>\n",
       "      <td>4859.000000</td>\n",
       "      <td>4859.000000</td>\n",
       "      <td>4858.000000</td>\n",
       "      <td>4859.000000</td>\n",
       "      <td>4858.000000</td>\n",
       "      <td>4859.000000</td>\n",
       "      <td>4734.000000</td>\n",
       "      <td>4859.000000</td>\n",
       "      <td>4859.000000</td>\n",
       "      <td>4859.000000</td>\n",
       "      <td>4.859000e+03</td>\n",
       "      <td>4859.000000</td>\n",
       "      <td>4.859000e+03</td>\n",
       "      <td>4859.000000</td>\n",
       "      <td>4.859000e+03</td>\n",
       "      <td>4859.000000</td>\n",
       "      <td>4.859000e+03</td>\n",
       "      <td>4859.000000</td>\n",
       "      <td>4859.000000</td>\n",
       "      <td>4859.000000</td>\n",
       "      <td>4859.000000</td>\n",
       "      <td>4859.000000</td>\n",
       "      <td>4859.000000</td>\n",
       "      <td>4859.000000</td>\n",
       "    </tr>\n",
       "    <tr>\n",
       "      <th>mean</th>\n",
       "      <td>8.005584</td>\n",
       "      <td>8.547348</td>\n",
       "      <td>3.579662</td>\n",
       "      <td>37.095864</td>\n",
       "      <td>490.285103</td>\n",
       "      <td>59.113400</td>\n",
       "      <td>12.055735</td>\n",
       "      <td>6.101308</td>\n",
       "      <td>1108.635895</td>\n",
       "      <td>-368.340127</td>\n",
       "      <td>1312.346061</td>\n",
       "      <td>-472.506533</td>\n",
       "      <td>1291.638282</td>\n",
       "      <td>-472.902514</td>\n",
       "      <td>1204.066585</td>\n",
       "      <td>-473.380689</td>\n",
       "      <td>1075.304980</td>\n",
       "      <td>-471.465792</td>\n",
       "      <td>1023.769668</td>\n",
       "      <td>-471.412834</td>\n",
       "      <td>11.969074</td>\n",
       "      <td>6.119323</td>\n",
       "      <td>143.201672</td>\n",
       "      <td>8.692446</td>\n",
       "      <td>7.305514</td>\n",
       "      <td>1.007577</td>\n",
       "      <td>1588.387039</td>\n",
       "      <td>-488.223175</td>\n",
       "      <td>1589.297134</td>\n",
       "      <td>-490.255893</td>\n",
       "      <td>1588.905465</td>\n",
       "      <td>-489.741555</td>\n",
       "      <td>1530.287801</td>\n",
       "      <td>-485.896489</td>\n",
       "      <td>29.488451</td>\n",
       "      <td>-499.504602</td>\n",
       "      <td>24.732293</td>\n",
       "      <td>-499.556727</td>\n",
       "      <td>2.889647e+01</td>\n",
       "      <td>-489.475315</td>\n",
       "      <td>2.263273e+01</td>\n",
       "      <td>-494.765779</td>\n",
       "      <td>1.985770e+01</td>\n",
       "      <td>-488.665140</td>\n",
       "      <td>1.557025e+01</td>\n",
       "      <td>-464.176507</td>\n",
       "      <td>16.594103</td>\n",
       "      <td>-490.815250</td>\n",
       "      <td>12.945971</td>\n",
       "      <td>-489.583564</td>\n",
       "      <td>19.053888</td>\n",
       "      <td>-504.678924</td>\n",
       "    </tr>\n",
       "    <tr>\n",
       "      <th>std</th>\n",
       "      <td>1.993590</td>\n",
       "      <td>1.958601</td>\n",
       "      <td>1.029377</td>\n",
       "      <td>4.926284</td>\n",
       "      <td>94.371623</td>\n",
       "      <td>19.125122</td>\n",
       "      <td>3.407642</td>\n",
       "      <td>1.042754</td>\n",
       "      <td>156.493143</td>\n",
       "      <td>91.155929</td>\n",
       "      <td>159.001709</td>\n",
       "      <td>49.376824</td>\n",
       "      <td>180.203670</td>\n",
       "      <td>47.611728</td>\n",
       "      <td>184.547737</td>\n",
       "      <td>47.828848</td>\n",
       "      <td>159.989533</td>\n",
       "      <td>51.413832</td>\n",
       "      <td>147.827669</td>\n",
       "      <td>51.838763</td>\n",
       "      <td>3.456113</td>\n",
       "      <td>1.049065</td>\n",
       "      <td>42.360060</td>\n",
       "      <td>3.169592</td>\n",
       "      <td>0.588602</td>\n",
       "      <td>0.494669</td>\n",
       "      <td>124.942960</td>\n",
       "      <td>36.672631</td>\n",
       "      <td>132.102797</td>\n",
       "      <td>35.203702</td>\n",
       "      <td>132.689236</td>\n",
       "      <td>33.650676</td>\n",
       "      <td>256.268884</td>\n",
       "      <td>43.296128</td>\n",
       "      <td>5.357783</td>\n",
       "      <td>43.284386</td>\n",
       "      <td>5.484220</td>\n",
       "      <td>43.619785</td>\n",
       "      <td>6.159087e+00</td>\n",
       "      <td>51.827314</td>\n",
       "      <td>5.456797e+00</td>\n",
       "      <td>40.681493</td>\n",
       "      <td>5.913105e+00</td>\n",
       "      <td>44.392714</td>\n",
       "      <td>4.927361e+00</td>\n",
       "      <td>65.706994</td>\n",
       "      <td>5.724305</td>\n",
       "      <td>32.258443</td>\n",
       "      <td>5.533176</td>\n",
       "      <td>37.084609</td>\n",
       "      <td>5.548996</td>\n",
       "      <td>38.690186</td>\n",
       "    </tr>\n",
       "    <tr>\n",
       "      <th>min</th>\n",
       "      <td>0.010000</td>\n",
       "      <td>0.010000</td>\n",
       "      <td>0.010000</td>\n",
       "      <td>0.010000</td>\n",
       "      <td>0.012786</td>\n",
       "      <td>0.046369</td>\n",
       "      <td>0.018907</td>\n",
       "      <td>0.015783</td>\n",
       "      <td>300.792494</td>\n",
       "      <td>-600.568138</td>\n",
       "      <td>767.656587</td>\n",
       "      <td>-649.997496</td>\n",
       "      <td>831.537936</td>\n",
       "      <td>-552.657032</td>\n",
       "      <td>706.281918</td>\n",
       "      <td>-648.118446</td>\n",
       "      <td>695.211786</td>\n",
       "      <td>-598.926149</td>\n",
       "      <td>539.633937</td>\n",
       "      <td>-649.376184</td>\n",
       "      <td>0.000163</td>\n",
       "      <td>0.002616</td>\n",
       "      <td>7.329299</td>\n",
       "      <td>0.000000</td>\n",
       "      <td>4.970000</td>\n",
       "      <td>0.000154</td>\n",
       "      <td>314.241165</td>\n",
       "      <td>-653.477578</td>\n",
       "      <td>319.959489</td>\n",
       "      <td>-799.260788</td>\n",
       "      <td>273.536823</td>\n",
       "      <td>-709.213816</td>\n",
       "      <td>131.321672</td>\n",
       "      <td>-799.791618</td>\n",
       "      <td>0.122013</td>\n",
       "      <td>-799.606441</td>\n",
       "      <td>0.000000</td>\n",
       "      <td>-799.873878</td>\n",
       "      <td>1.957942e-17</td>\n",
       "      <td>-799.575338</td>\n",
       "      <td>1.521587e-17</td>\n",
       "      <td>-758.764444</td>\n",
       "      <td>1.079872e-16</td>\n",
       "      <td>-799.704969</td>\n",
       "      <td>2.489718e-17</td>\n",
       "      <td>-799.860767</td>\n",
       "      <td>-0.371498</td>\n",
       "      <td>-797.142475</td>\n",
       "      <td>1.358469</td>\n",
       "      <td>-800.006180</td>\n",
       "      <td>0.160386</td>\n",
       "      <td>-809.734800</td>\n",
       "    </tr>\n",
       "    <tr>\n",
       "      <th>25%</th>\n",
       "      <td>6.574363</td>\n",
       "      <td>6.975898</td>\n",
       "      <td>2.903612</td>\n",
       "      <td>34.510841</td>\n",
       "      <td>434.099695</td>\n",
       "      <td>47.596984</td>\n",
       "      <td>9.890429</td>\n",
       "      <td>5.499808</td>\n",
       "      <td>999.715729</td>\n",
       "      <td>-499.731972</td>\n",
       "      <td>1199.741605</td>\n",
       "      <td>-500.218827</td>\n",
       "      <td>1152.401989</td>\n",
       "      <td>-500.226269</td>\n",
       "      <td>1061.682494</td>\n",
       "      <td>-500.441025</td>\n",
       "      <td>998.898177</td>\n",
       "      <td>-500.266939</td>\n",
       "      <td>949.042067</td>\n",
       "      <td>-500.534825</td>\n",
       "      <td>9.822314</td>\n",
       "      <td>5.500412</td>\n",
       "      <td>113.293698</td>\n",
       "      <td>6.042793</td>\n",
       "      <td>6.940000</td>\n",
       "      <td>0.700367</td>\n",
       "      <td>1505.500055</td>\n",
       "      <td>-500.272366</td>\n",
       "      <td>1502.105380</td>\n",
       "      <td>-500.422211</td>\n",
       "      <td>1501.205202</td>\n",
       "      <td>-500.676713</td>\n",
       "      <td>1450.605949</td>\n",
       "      <td>-500.438064</td>\n",
       "      <td>25.116334</td>\n",
       "      <td>-500.215499</td>\n",
       "      <td>22.038700</td>\n",
       "      <td>-500.223223</td>\n",
       "      <td>2.497989e+01</td>\n",
       "      <td>-500.211535</td>\n",
       "      <td>1.901179e+01</td>\n",
       "      <td>-500.120286</td>\n",
       "      <td>1.501123e+01</td>\n",
       "      <td>-500.704004</td>\n",
       "      <td>1.202172e+01</td>\n",
       "      <td>-500.196517</td>\n",
       "      <td>11.073822</td>\n",
       "      <td>-500.483564</td>\n",
       "      <td>9.011890</td>\n",
       "      <td>-500.129913</td>\n",
       "      <td>14.963953</td>\n",
       "      <td>-500.668501</td>\n",
       "    </tr>\n",
       "    <tr>\n",
       "      <th>50%</th>\n",
       "      <td>7.812923</td>\n",
       "      <td>8.179714</td>\n",
       "      <td>3.540772</td>\n",
       "      <td>37.499761</td>\n",
       "      <td>502.118742</td>\n",
       "      <td>55.509481</td>\n",
       "      <td>11.997859</td>\n",
       "      <td>6.099805</td>\n",
       "      <td>1001.414798</td>\n",
       "      <td>-300.181367</td>\n",
       "      <td>1300.278835</td>\n",
       "      <td>-499.827934</td>\n",
       "      <td>1299.411789</td>\n",
       "      <td>-499.761855</td>\n",
       "      <td>1200.337639</td>\n",
       "      <td>-499.597033</td>\n",
       "      <td>1049.897439</td>\n",
       "      <td>-499.715147</td>\n",
       "      <td>1000.060464</td>\n",
       "      <td>-499.537041</td>\n",
       "      <td>11.995907</td>\n",
       "      <td>6.101665</td>\n",
       "      <td>139.573692</td>\n",
       "      <td>8.007390</td>\n",
       "      <td>7.290000</td>\n",
       "      <td>0.908749</td>\n",
       "      <td>1600.364401</td>\n",
       "      <td>-499.893821</td>\n",
       "      <td>1600.363829</td>\n",
       "      <td>-499.938871</td>\n",
       "      <td>1600.315592</td>\n",
       "      <td>-499.894721</td>\n",
       "      <td>1599.224868</td>\n",
       "      <td>-499.857201</td>\n",
       "      <td>29.954667</td>\n",
       "      <td>-499.966865</td>\n",
       "      <td>26.880506</td>\n",
       "      <td>-500.010504</td>\n",
       "      <td>2.802108e+01</td>\n",
       "      <td>-499.952220</td>\n",
       "      <td>2.296990e+01</td>\n",
       "      <td>-499.983839</td>\n",
       "      <td>1.996807e+01</td>\n",
       "      <td>-499.892919</td>\n",
       "      <td>1.501240e+01</td>\n",
       "      <td>-499.540776</td>\n",
       "      <td>16.631195</td>\n",
       "      <td>-499.873136</td>\n",
       "      <td>11.999417</td>\n",
       "      <td>-499.955304</td>\n",
       "      <td>19.960006</td>\n",
       "      <td>-500.033769</td>\n",
       "    </tr>\n",
       "    <tr>\n",
       "      <th>75%</th>\n",
       "      <td>9.556589</td>\n",
       "      <td>10.084339</td>\n",
       "      <td>4.199847</td>\n",
       "      <td>40.461315</td>\n",
       "      <td>555.596563</td>\n",
       "      <td>66.661547</td>\n",
       "      <td>14.496072</td>\n",
       "      <td>6.802101</td>\n",
       "      <td>1202.837565</td>\n",
       "      <td>-299.961547</td>\n",
       "      <td>1401.691789</td>\n",
       "      <td>-449.925513</td>\n",
       "      <td>1401.933884</td>\n",
       "      <td>-449.662583</td>\n",
       "      <td>1307.300990</td>\n",
       "      <td>-449.938278</td>\n",
       "      <td>1199.145824</td>\n",
       "      <td>-449.384744</td>\n",
       "      <td>1099.460790</td>\n",
       "      <td>-448.211283</td>\n",
       "      <td>14.216091</td>\n",
       "      <td>6.833554</td>\n",
       "      <td>170.743180</td>\n",
       "      <td>10.613209</td>\n",
       "      <td>7.630000</td>\n",
       "      <td>1.198047</td>\n",
       "      <td>1696.676142</td>\n",
       "      <td>-499.369738</td>\n",
       "      <td>1699.429311</td>\n",
       "      <td>-499.331088</td>\n",
       "      <td>1699.483983</td>\n",
       "      <td>-498.699191</td>\n",
       "      <td>1698.766720</td>\n",
       "      <td>-498.747352</td>\n",
       "      <td>34.064460</td>\n",
       "      <td>-499.678638</td>\n",
       "      <td>28.045077</td>\n",
       "      <td>-499.783594</td>\n",
       "      <td>3.398546e+01</td>\n",
       "      <td>-499.525249</td>\n",
       "      <td>2.698416e+01</td>\n",
       "      <td>-499.824376</td>\n",
       "      <td>2.498900e+01</td>\n",
       "      <td>-498.652030</td>\n",
       "      <td>1.999949e+01</td>\n",
       "      <td>-400.302329</td>\n",
       "      <td>19.983191</td>\n",
       "      <td>-498.852815</td>\n",
       "      <td>15.004198</td>\n",
       "      <td>-499.643776</td>\n",
       "      <td>24.974583</td>\n",
       "      <td>-499.460134</td>\n",
       "    </tr>\n",
       "    <tr>\n",
       "      <th>max</th>\n",
       "      <td>13.417156</td>\n",
       "      <td>14.533698</td>\n",
       "      <td>7.142594</td>\n",
       "      <td>53.477742</td>\n",
       "      <td>702.523396</td>\n",
       "      <td>363.989699</td>\n",
       "      <td>30.010759</td>\n",
       "      <td>9.396928</td>\n",
       "      <td>1521.980372</td>\n",
       "      <td>-281.039299</td>\n",
       "      <td>1802.528564</td>\n",
       "      <td>-298.836629</td>\n",
       "      <td>2498.873242</td>\n",
       "      <td>-298.588757</td>\n",
       "      <td>1801.712957</td>\n",
       "      <td>-296.591110</td>\n",
       "      <td>1701.253009</td>\n",
       "      <td>-296.129173</td>\n",
       "      <td>1702.383848</td>\n",
       "      <td>-286.375117</td>\n",
       "      <td>30.006511</td>\n",
       "      <td>9.401928</td>\n",
       "      <td>262.531502</td>\n",
       "      <td>20.052255</td>\n",
       "      <td>9.630000</td>\n",
       "      <td>3.999060</td>\n",
       "      <td>2079.531340</td>\n",
       "      <td>-330.134203</td>\n",
       "      <td>1825.491263</td>\n",
       "      <td>-339.751525</td>\n",
       "      <td>1847.621932</td>\n",
       "      <td>-290.845404</td>\n",
       "      <td>2398.888373</td>\n",
       "      <td>-107.595099</td>\n",
       "      <td>48.822781</td>\n",
       "      <td>-207.038839</td>\n",
       "      <td>35.019409</td>\n",
       "      <td>-216.660814</td>\n",
       "      <td>4.401139e+01</td>\n",
       "      <td>-246.396324</td>\n",
       "      <td>3.505149e+01</td>\n",
       "      <td>-195.458545</td>\n",
       "      <td>3.008450e+01</td>\n",
       "      <td>-383.373053</td>\n",
       "      <td>2.398898e+01</td>\n",
       "      <td>-114.250832</td>\n",
       "      <td>33.215996</td>\n",
       "      <td>-288.963521</td>\n",
       "      <td>24.177106</td>\n",
       "      <td>-141.934397</td>\n",
       "      <td>32.028529</td>\n",
       "      <td>-104.427459</td>\n",
       "    </tr>\n",
       "  </tbody>\n",
       "</table>\n",
       "</div>"
      ],
      "text/plain": [
       "       rougher.input.feed_au  rougher.input.feed_ag  rougher.input.feed_pb  \\\n",
       "count            4860.000000            4860.000000            4832.000000   \n",
       "mean                8.005584               8.547348               3.579662   \n",
       "std                 1.993590               1.958601               1.029377   \n",
       "min                 0.010000               0.010000               0.010000   \n",
       "25%                 6.574363               6.975898               2.903612   \n",
       "50%                 7.812923               8.179714               3.540772   \n",
       "75%                 9.556589              10.084339               4.199847   \n",
       "max                13.417156              14.533698               7.142594   \n",
       "\n",
       "       rougher.input.feed_sol  rougher.input.feed_rate  \\\n",
       "count             4838.000000              4856.000000   \n",
       "mean                37.095864               490.285103   \n",
       "std                  4.926284                94.371623   \n",
       "min                  0.010000                 0.012786   \n",
       "25%                 34.510841               434.099695   \n",
       "50%                 37.499761               502.118742   \n",
       "75%                 40.461315               555.596563   \n",
       "max                 53.477742               702.523396   \n",
       "\n",
       "       rougher.input.feed_size  rougher.input.floatbank10_sulfate  \\\n",
       "count              4816.000000                        4857.000000   \n",
       "mean                 59.113400                          12.055735   \n",
       "std                  19.125122                           3.407642   \n",
       "min                   0.046369                           0.018907   \n",
       "25%                  47.596984                           9.890429   \n",
       "50%                  55.509481                          11.997859   \n",
       "75%                  66.661547                          14.496072   \n",
       "max                 363.989699                          30.010759   \n",
       "\n",
       "       rougher.input.floatbank10_xanthate  rougher.state.floatbank10_a_air  \\\n",
       "count                         4859.000000                      4859.000000   \n",
       "mean                             6.101308                      1108.635895   \n",
       "std                              1.042754                       156.493143   \n",
       "min                              0.015783                       300.792494   \n",
       "25%                              5.499808                       999.715729   \n",
       "50%                              6.099805                      1001.414798   \n",
       "75%                              6.802101                      1202.837565   \n",
       "max                              9.396928                      1521.980372   \n",
       "\n",
       "       rougher.state.floatbank10_a_level  rougher.state.floatbank10_b_air  \\\n",
       "count                        4859.000000                      4859.000000   \n",
       "mean                         -368.340127                      1312.346061   \n",
       "std                            91.155929                       159.001709   \n",
       "min                          -600.568138                       767.656587   \n",
       "25%                          -499.731972                      1199.741605   \n",
       "50%                          -300.181367                      1300.278835   \n",
       "75%                          -299.961547                      1401.691789   \n",
       "max                          -281.039299                      1802.528564   \n",
       "\n",
       "       rougher.state.floatbank10_b_level  rougher.state.floatbank10_c_air  \\\n",
       "count                        4859.000000                      4859.000000   \n",
       "mean                         -472.506533                      1291.638282   \n",
       "std                            49.376824                       180.203670   \n",
       "min                          -649.997496                       831.537936   \n",
       "25%                          -500.218827                      1152.401989   \n",
       "50%                          -499.827934                      1299.411789   \n",
       "75%                          -449.925513                      1401.933884   \n",
       "max                          -298.836629                      2498.873242   \n",
       "\n",
       "       rougher.state.floatbank10_c_level  rougher.state.floatbank10_d_air  \\\n",
       "count                        4859.000000                      4860.000000   \n",
       "mean                         -472.902514                      1204.066585   \n",
       "std                            47.611728                       184.547737   \n",
       "min                          -552.657032                       706.281918   \n",
       "25%                          -500.226269                      1061.682494   \n",
       "50%                          -499.761855                      1200.337639   \n",
       "75%                          -449.662583                      1307.300990   \n",
       "max                          -298.588757                      1801.712957   \n",
       "\n",
       "       rougher.state.floatbank10_d_level  rougher.state.floatbank10_e_air  \\\n",
       "count                        4860.000000                      4853.000000   \n",
       "mean                         -473.380689                      1075.304980   \n",
       "std                            47.828848                       159.989533   \n",
       "min                          -648.118446                       695.211786   \n",
       "25%                          -500.441025                       998.898177   \n",
       "50%                          -499.597033                      1049.897439   \n",
       "75%                          -449.938278                      1199.145824   \n",
       "max                          -296.591110                      1701.253009   \n",
       "\n",
       "       rougher.state.floatbank10_e_level  rougher.state.floatbank10_f_air  \\\n",
       "count                        4860.000000                      4860.000000   \n",
       "mean                         -471.465792                      1023.769668   \n",
       "std                            51.413832                       147.827669   \n",
       "min                          -598.926149                       539.633937   \n",
       "25%                          -500.266939                       949.042067   \n",
       "50%                          -499.715147                      1000.060464   \n",
       "75%                          -449.384744                      1099.460790   \n",
       "max                          -296.129173                      1702.383848   \n",
       "\n",
       "       rougher.state.floatbank10_f_level  rougher.input.floatbank11_sulfate  \\\n",
       "count                        4860.000000                        4852.000000   \n",
       "mean                         -471.412834                          11.969074   \n",
       "std                            51.838763                           3.456113   \n",
       "min                          -649.376184                           0.000163   \n",
       "25%                          -500.534825                           9.822314   \n",
       "50%                          -499.537041                          11.995907   \n",
       "75%                          -448.211283                          14.216091   \n",
       "max                          -286.375117                          30.006511   \n",
       "\n",
       "       rougher.input.floatbank11_xanthate  primary_cleaner.input.sulfate  \\\n",
       "count                         4814.000000                    4859.000000   \n",
       "mean                             6.119323                     143.201672   \n",
       "std                              1.049065                      42.360060   \n",
       "min                              0.002616                       7.329299   \n",
       "25%                              5.500412                     113.293698   \n",
       "50%                              6.101665                     139.573692   \n",
       "75%                              6.833554                     170.743180   \n",
       "max                              9.401928                     262.531502   \n",
       "\n",
       "       primary_cleaner.input.depressant  primary_cleaner.input.feed_size  \\\n",
       "count                       4851.000000                      4860.000000   \n",
       "mean                           8.692446                         7.305514   \n",
       "std                            3.169592                         0.588602   \n",
       "min                            0.000000                         4.970000   \n",
       "25%                            6.042793                         6.940000   \n",
       "50%                            8.007390                         7.290000   \n",
       "75%                           10.613209                         7.630000   \n",
       "max                           20.052255                         9.630000   \n",
       "\n",
       "       primary_cleaner.input.xanthate  primary_cleaner.state.floatbank8_a_air  \\\n",
       "count                     4817.000000                             4859.000000   \n",
       "mean                         1.007577                             1588.387039   \n",
       "std                          0.494669                              124.942960   \n",
       "min                          0.000154                              314.241165   \n",
       "25%                          0.700367                             1505.500055   \n",
       "50%                          0.908749                             1600.364401   \n",
       "75%                          1.198047                             1696.676142   \n",
       "max                          3.999060                             2079.531340   \n",
       "\n",
       "       primary_cleaner.state.floatbank8_a_level  \\\n",
       "count                               4859.000000   \n",
       "mean                                -488.223175   \n",
       "std                                   36.672631   \n",
       "min                                 -653.477578   \n",
       "25%                                 -500.272366   \n",
       "50%                                 -499.893821   \n",
       "75%                                 -499.369738   \n",
       "max                                 -330.134203   \n",
       "\n",
       "       primary_cleaner.state.floatbank8_b_air  \\\n",
       "count                             4859.000000   \n",
       "mean                              1589.297134   \n",
       "std                                132.102797   \n",
       "min                                319.959489   \n",
       "25%                               1502.105380   \n",
       "50%                               1600.363829   \n",
       "75%                               1699.429311   \n",
       "max                               1825.491263   \n",
       "\n",
       "       primary_cleaner.state.floatbank8_b_level  \\\n",
       "count                               4859.000000   \n",
       "mean                                -490.255893   \n",
       "std                                   35.203702   \n",
       "min                                 -799.260788   \n",
       "25%                                 -500.422211   \n",
       "50%                                 -499.938871   \n",
       "75%                                 -499.331088   \n",
       "max                                 -339.751525   \n",
       "\n",
       "       primary_cleaner.state.floatbank8_c_air  \\\n",
       "count                             4858.000000   \n",
       "mean                              1588.905465   \n",
       "std                                132.689236   \n",
       "min                                273.536823   \n",
       "25%                               1501.205202   \n",
       "50%                               1600.315592   \n",
       "75%                               1699.483983   \n",
       "max                               1847.621932   \n",
       "\n",
       "       primary_cleaner.state.floatbank8_c_level  \\\n",
       "count                               4859.000000   \n",
       "mean                                -489.741555   \n",
       "std                                   33.650676   \n",
       "min                                 -709.213816   \n",
       "25%                                 -500.676713   \n",
       "50%                                 -499.894721   \n",
       "75%                                 -498.699191   \n",
       "max                                 -290.845404   \n",
       "\n",
       "       primary_cleaner.state.floatbank8_d_air  \\\n",
       "count                             4858.000000   \n",
       "mean                              1530.287801   \n",
       "std                                256.268884   \n",
       "min                                131.321672   \n",
       "25%                               1450.605949   \n",
       "50%                               1599.224868   \n",
       "75%                               1698.766720   \n",
       "max                               2398.888373   \n",
       "\n",
       "       primary_cleaner.state.floatbank8_d_level  \\\n",
       "count                               4859.000000   \n",
       "mean                                -485.896489   \n",
       "std                                   43.296128   \n",
       "min                                 -799.791618   \n",
       "25%                                 -500.438064   \n",
       "50%                                 -499.857201   \n",
       "75%                                 -498.747352   \n",
       "max                                 -107.595099   \n",
       "\n",
       "       secondary_cleaner.state.floatbank2_a_air  \\\n",
       "count                               4734.000000   \n",
       "mean                                  29.488451   \n",
       "std                                    5.357783   \n",
       "min                                    0.122013   \n",
       "25%                                   25.116334   \n",
       "50%                                   29.954667   \n",
       "75%                                   34.064460   \n",
       "max                                   48.822781   \n",
       "\n",
       "       secondary_cleaner.state.floatbank2_a_level  \\\n",
       "count                                 4859.000000   \n",
       "mean                                  -499.504602   \n",
       "std                                     43.284386   \n",
       "min                                   -799.606441   \n",
       "25%                                   -500.215499   \n",
       "50%                                   -499.966865   \n",
       "75%                                   -499.678638   \n",
       "max                                   -207.038839   \n",
       "\n",
       "       secondary_cleaner.state.floatbank2_b_air  \\\n",
       "count                               4859.000000   \n",
       "mean                                  24.732293   \n",
       "std                                    5.484220   \n",
       "min                                    0.000000   \n",
       "25%                                   22.038700   \n",
       "50%                                   26.880506   \n",
       "75%                                   28.045077   \n",
       "max                                   35.019409   \n",
       "\n",
       "       secondary_cleaner.state.floatbank2_b_level  \\\n",
       "count                                 4859.000000   \n",
       "mean                                  -499.556727   \n",
       "std                                     43.619785   \n",
       "min                                   -799.873878   \n",
       "25%                                   -500.223223   \n",
       "50%                                   -500.010504   \n",
       "75%                                   -499.783594   \n",
       "max                                   -216.660814   \n",
       "\n",
       "       secondary_cleaner.state.floatbank3_a_air  \\\n",
       "count                              4.859000e+03   \n",
       "mean                               2.889647e+01   \n",
       "std                                6.159087e+00   \n",
       "min                                1.957942e-17   \n",
       "25%                                2.497989e+01   \n",
       "50%                                2.802108e+01   \n",
       "75%                                3.398546e+01   \n",
       "max                                4.401139e+01   \n",
       "\n",
       "       secondary_cleaner.state.floatbank3_a_level  \\\n",
       "count                                 4859.000000   \n",
       "mean                                  -489.475315   \n",
       "std                                     51.827314   \n",
       "min                                   -799.575338   \n",
       "25%                                   -500.211535   \n",
       "50%                                   -499.952220   \n",
       "75%                                   -499.525249   \n",
       "max                                   -246.396324   \n",
       "\n",
       "       secondary_cleaner.state.floatbank3_b_air  \\\n",
       "count                              4.859000e+03   \n",
       "mean                               2.263273e+01   \n",
       "std                                5.456797e+00   \n",
       "min                                1.521587e-17   \n",
       "25%                                1.901179e+01   \n",
       "50%                                2.296990e+01   \n",
       "75%                                2.698416e+01   \n",
       "max                                3.505149e+01   \n",
       "\n",
       "       secondary_cleaner.state.floatbank3_b_level  \\\n",
       "count                                 4859.000000   \n",
       "mean                                  -494.765779   \n",
       "std                                     40.681493   \n",
       "min                                   -758.764444   \n",
       "25%                                   -500.120286   \n",
       "50%                                   -499.983839   \n",
       "75%                                   -499.824376   \n",
       "max                                   -195.458545   \n",
       "\n",
       "       secondary_cleaner.state.floatbank4_a_air  \\\n",
       "count                              4.859000e+03   \n",
       "mean                               1.985770e+01   \n",
       "std                                5.913105e+00   \n",
       "min                                1.079872e-16   \n",
       "25%                                1.501123e+01   \n",
       "50%                                1.996807e+01   \n",
       "75%                                2.498900e+01   \n",
       "max                                3.008450e+01   \n",
       "\n",
       "       secondary_cleaner.state.floatbank4_a_level  \\\n",
       "count                                 4859.000000   \n",
       "mean                                  -488.665140   \n",
       "std                                     44.392714   \n",
       "min                                   -799.704969   \n",
       "25%                                   -500.704004   \n",
       "50%                                   -499.892919   \n",
       "75%                                   -498.652030   \n",
       "max                                   -383.373053   \n",
       "\n",
       "       secondary_cleaner.state.floatbank4_b_air  \\\n",
       "count                              4.859000e+03   \n",
       "mean                               1.557025e+01   \n",
       "std                                4.927361e+00   \n",
       "min                                2.489718e-17   \n",
       "25%                                1.202172e+01   \n",
       "50%                                1.501240e+01   \n",
       "75%                                1.999949e+01   \n",
       "max                                2.398898e+01   \n",
       "\n",
       "       secondary_cleaner.state.floatbank4_b_level  \\\n",
       "count                                 4859.000000   \n",
       "mean                                  -464.176507   \n",
       "std                                     65.706994   \n",
       "min                                   -799.860767   \n",
       "25%                                   -500.196517   \n",
       "50%                                   -499.540776   \n",
       "75%                                   -400.302329   \n",
       "max                                   -114.250832   \n",
       "\n",
       "       secondary_cleaner.state.floatbank5_a_air  \\\n",
       "count                               4859.000000   \n",
       "mean                                  16.594103   \n",
       "std                                    5.724305   \n",
       "min                                   -0.371498   \n",
       "25%                                   11.073822   \n",
       "50%                                   16.631195   \n",
       "75%                                   19.983191   \n",
       "max                                   33.215996   \n",
       "\n",
       "       secondary_cleaner.state.floatbank5_a_level  \\\n",
       "count                                 4859.000000   \n",
       "mean                                  -490.815250   \n",
       "std                                     32.258443   \n",
       "min                                   -797.142475   \n",
       "25%                                   -500.483564   \n",
       "50%                                   -499.873136   \n",
       "75%                                   -498.852815   \n",
       "max                                   -288.963521   \n",
       "\n",
       "       secondary_cleaner.state.floatbank5_b_air  \\\n",
       "count                               4859.000000   \n",
       "mean                                  12.945971   \n",
       "std                                    5.533176   \n",
       "min                                    1.358469   \n",
       "25%                                    9.011890   \n",
       "50%                                   11.999417   \n",
       "75%                                   15.004198   \n",
       "max                                   24.177106   \n",
       "\n",
       "       secondary_cleaner.state.floatbank5_b_level  \\\n",
       "count                                 4859.000000   \n",
       "mean                                  -489.583564   \n",
       "std                                     37.084609   \n",
       "min                                   -800.006180   \n",
       "25%                                   -500.129913   \n",
       "50%                                   -499.955304   \n",
       "75%                                   -499.643776   \n",
       "max                                   -141.934397   \n",
       "\n",
       "       secondary_cleaner.state.floatbank6_a_air  \\\n",
       "count                               4859.000000   \n",
       "mean                                  19.053888   \n",
       "std                                    5.548996   \n",
       "min                                    0.160386   \n",
       "25%                                   14.963953   \n",
       "50%                                   19.960006   \n",
       "75%                                   24.974583   \n",
       "max                                   32.028529   \n",
       "\n",
       "       secondary_cleaner.state.floatbank6_a_level  \n",
       "count                                 4859.000000  \n",
       "mean                                  -504.678924  \n",
       "std                                     38.690186  \n",
       "min                                   -809.734800  \n",
       "25%                                   -500.668501  \n",
       "50%                                   -500.033769  \n",
       "75%                                   -499.460134  \n",
       "max                                   -104.427459  "
      ]
     },
     "metadata": {},
     "output_type": "display_data"
    },
    {
     "data": {
      "text/plain": [
       "'Пропусков по столбцам:'"
      ]
     },
     "metadata": {},
     "output_type": "display_data"
    },
    {
     "data": {
      "text/plain": [
       "date                                            0\n",
       "rougher.input.feed_au                           0\n",
       "rougher.input.feed_ag                           0\n",
       "rougher.input.feed_pb                          28\n",
       "rougher.input.feed_sol                         22\n",
       "rougher.input.feed_rate                         4\n",
       "rougher.input.feed_size                        44\n",
       "rougher.input.floatbank10_sulfate               3\n",
       "rougher.input.floatbank10_xanthate              1\n",
       "rougher.state.floatbank10_a_air                 1\n",
       "rougher.state.floatbank10_a_level               1\n",
       "rougher.state.floatbank10_b_air                 1\n",
       "rougher.state.floatbank10_b_level               1\n",
       "rougher.state.floatbank10_c_air                 1\n",
       "rougher.state.floatbank10_c_level               1\n",
       "rougher.state.floatbank10_d_air                 0\n",
       "rougher.state.floatbank10_d_level               0\n",
       "rougher.state.floatbank10_e_air                 7\n",
       "rougher.state.floatbank10_e_level               0\n",
       "rougher.state.floatbank10_f_air                 0\n",
       "rougher.state.floatbank10_f_level               0\n",
       "rougher.input.floatbank11_sulfate               8\n",
       "rougher.input.floatbank11_xanthate             46\n",
       "primary_cleaner.input.sulfate                   1\n",
       "primary_cleaner.input.depressant                9\n",
       "primary_cleaner.input.feed_size                 0\n",
       "primary_cleaner.input.xanthate                 43\n",
       "primary_cleaner.state.floatbank8_a_air          1\n",
       "primary_cleaner.state.floatbank8_a_level        1\n",
       "primary_cleaner.state.floatbank8_b_air          1\n",
       "primary_cleaner.state.floatbank8_b_level        1\n",
       "primary_cleaner.state.floatbank8_c_air          2\n",
       "primary_cleaner.state.floatbank8_c_level        1\n",
       "primary_cleaner.state.floatbank8_d_air          2\n",
       "primary_cleaner.state.floatbank8_d_level        1\n",
       "secondary_cleaner.state.floatbank2_a_air      126\n",
       "secondary_cleaner.state.floatbank2_a_level      1\n",
       "secondary_cleaner.state.floatbank2_b_air        1\n",
       "secondary_cleaner.state.floatbank2_b_level      1\n",
       "secondary_cleaner.state.floatbank3_a_air        1\n",
       "secondary_cleaner.state.floatbank3_a_level      1\n",
       "secondary_cleaner.state.floatbank3_b_air        1\n",
       "secondary_cleaner.state.floatbank3_b_level      1\n",
       "secondary_cleaner.state.floatbank4_a_air        1\n",
       "secondary_cleaner.state.floatbank4_a_level      1\n",
       "secondary_cleaner.state.floatbank4_b_air        1\n",
       "secondary_cleaner.state.floatbank4_b_level      1\n",
       "secondary_cleaner.state.floatbank5_a_air        1\n",
       "secondary_cleaner.state.floatbank5_a_level      1\n",
       "secondary_cleaner.state.floatbank5_b_air        1\n",
       "secondary_cleaner.state.floatbank5_b_level      1\n",
       "secondary_cleaner.state.floatbank6_a_air        1\n",
       "secondary_cleaner.state.floatbank6_a_level      1\n",
       "dtype: int64"
      ]
     },
     "metadata": {},
     "output_type": "display_data"
    },
    {
     "data": {
      "text/plain": [
       "'Всего колонок с пропусками:'"
      ]
     },
     "metadata": {},
     "output_type": "display_data"
    },
    {
     "data": {
      "text/plain": [
       "44"
      ]
     },
     "metadata": {},
     "output_type": "display_data"
    },
    {
     "data": {
      "text/plain": [
       "'Дубликатов по дате:'"
      ]
     },
     "metadata": {},
     "output_type": "display_data"
    },
    {
     "data": {
      "text/plain": [
       "0"
      ]
     },
     "metadata": {},
     "output_type": "display_data"
    }
   ],
   "source": [
    "data_info(data_test)"
   ]
  },
  {
   "cell_type": "code",
   "execution_count": 6,
   "metadata": {},
   "outputs": [
    {
     "data": {
      "text/html": [
       "<div>\n",
       "<style scoped>\n",
       "    .dataframe tbody tr th:only-of-type {\n",
       "        vertical-align: middle;\n",
       "    }\n",
       "\n",
       "    .dataframe tbody tr th {\n",
       "        vertical-align: top;\n",
       "    }\n",
       "\n",
       "    .dataframe thead th {\n",
       "        text-align: right;\n",
       "    }\n",
       "</style>\n",
       "<table border=\"1\" class=\"dataframe\">\n",
       "  <thead>\n",
       "    <tr style=\"text-align: right;\">\n",
       "      <th></th>\n",
       "      <th>date</th>\n",
       "      <th>rougher.input.feed_au</th>\n",
       "      <th>rougher.input.feed_ag</th>\n",
       "      <th>rougher.input.feed_pb</th>\n",
       "      <th>rougher.input.feed_sol</th>\n",
       "      <th>rougher.input.feed_rate</th>\n",
       "      <th>rougher.input.feed_size</th>\n",
       "      <th>rougher.input.floatbank10_sulfate</th>\n",
       "      <th>rougher.input.floatbank10_xanthate</th>\n",
       "      <th>rougher.state.floatbank10_a_air</th>\n",
       "      <th>rougher.state.floatbank10_a_level</th>\n",
       "      <th>rougher.state.floatbank10_b_air</th>\n",
       "      <th>rougher.state.floatbank10_b_level</th>\n",
       "      <th>rougher.state.floatbank10_c_air</th>\n",
       "      <th>rougher.state.floatbank10_c_level</th>\n",
       "      <th>rougher.state.floatbank10_d_air</th>\n",
       "      <th>rougher.state.floatbank10_d_level</th>\n",
       "      <th>rougher.state.floatbank10_e_air</th>\n",
       "      <th>rougher.state.floatbank10_e_level</th>\n",
       "      <th>rougher.state.floatbank10_f_air</th>\n",
       "      <th>rougher.state.floatbank10_f_level</th>\n",
       "      <th>rougher.input.floatbank11_sulfate</th>\n",
       "      <th>rougher.input.floatbank11_xanthate</th>\n",
       "      <th>rougher.calculation.sulfate_to_au_concentrate</th>\n",
       "      <th>rougher.calculation.floatbank10_sulfate_to_au_feed</th>\n",
       "      <th>rougher.calculation.floatbank11_sulfate_to_au_feed</th>\n",
       "      <th>rougher.calculation.au_pb_ratio</th>\n",
       "      <th>rougher.output.concentrate_au</th>\n",
       "      <th>rougher.output.concentrate_ag</th>\n",
       "      <th>rougher.output.concentrate_pb</th>\n",
       "      <th>rougher.output.concentrate_sol</th>\n",
       "      <th>rougher.output.recovery</th>\n",
       "      <th>rougher.output.tail_au</th>\n",
       "      <th>rougher.output.tail_ag</th>\n",
       "      <th>rougher.output.tail_pb</th>\n",
       "      <th>rougher.output.tail_sol</th>\n",
       "      <th>primary_cleaner.input.sulfate</th>\n",
       "      <th>primary_cleaner.input.depressant</th>\n",
       "      <th>primary_cleaner.input.feed_size</th>\n",
       "      <th>primary_cleaner.input.xanthate</th>\n",
       "      <th>primary_cleaner.state.floatbank8_a_air</th>\n",
       "      <th>primary_cleaner.state.floatbank8_a_level</th>\n",
       "      <th>primary_cleaner.state.floatbank8_b_air</th>\n",
       "      <th>primary_cleaner.state.floatbank8_b_level</th>\n",
       "      <th>primary_cleaner.state.floatbank8_c_air</th>\n",
       "      <th>primary_cleaner.state.floatbank8_c_level</th>\n",
       "      <th>primary_cleaner.state.floatbank8_d_air</th>\n",
       "      <th>primary_cleaner.state.floatbank8_d_level</th>\n",
       "      <th>primary_cleaner.output.concentrate_au</th>\n",
       "      <th>primary_cleaner.output.concentrate_ag</th>\n",
       "      <th>primary_cleaner.output.concentrate_pb</th>\n",
       "      <th>primary_cleaner.output.concentrate_sol</th>\n",
       "      <th>primary_cleaner.output.tail_au</th>\n",
       "      <th>primary_cleaner.output.tail_ag</th>\n",
       "      <th>primary_cleaner.output.tail_pb</th>\n",
       "      <th>primary_cleaner.output.tail_sol</th>\n",
       "      <th>secondary_cleaner.state.floatbank2_a_air</th>\n",
       "      <th>secondary_cleaner.state.floatbank2_a_level</th>\n",
       "      <th>secondary_cleaner.state.floatbank2_b_air</th>\n",
       "      <th>secondary_cleaner.state.floatbank2_b_level</th>\n",
       "      <th>secondary_cleaner.state.floatbank3_a_air</th>\n",
       "      <th>secondary_cleaner.state.floatbank3_a_level</th>\n",
       "      <th>secondary_cleaner.state.floatbank3_b_air</th>\n",
       "      <th>secondary_cleaner.state.floatbank3_b_level</th>\n",
       "      <th>secondary_cleaner.state.floatbank4_a_air</th>\n",
       "      <th>secondary_cleaner.state.floatbank4_a_level</th>\n",
       "      <th>secondary_cleaner.state.floatbank4_b_air</th>\n",
       "      <th>secondary_cleaner.state.floatbank4_b_level</th>\n",
       "      <th>secondary_cleaner.state.floatbank5_a_air</th>\n",
       "      <th>secondary_cleaner.state.floatbank5_a_level</th>\n",
       "      <th>secondary_cleaner.state.floatbank5_b_air</th>\n",
       "      <th>secondary_cleaner.state.floatbank5_b_level</th>\n",
       "      <th>secondary_cleaner.state.floatbank6_a_air</th>\n",
       "      <th>secondary_cleaner.state.floatbank6_a_level</th>\n",
       "      <th>secondary_cleaner.output.tail_au</th>\n",
       "      <th>secondary_cleaner.output.tail_ag</th>\n",
       "      <th>secondary_cleaner.output.tail_pb</th>\n",
       "      <th>secondary_cleaner.output.tail_sol</th>\n",
       "      <th>final.output.concentrate_au</th>\n",
       "      <th>final.output.concentrate_ag</th>\n",
       "      <th>final.output.concentrate_pb</th>\n",
       "      <th>final.output.concentrate_sol</th>\n",
       "      <th>final.output.recovery</th>\n",
       "      <th>final.output.tail_au</th>\n",
       "      <th>final.output.tail_ag</th>\n",
       "      <th>final.output.tail_pb</th>\n",
       "      <th>final.output.tail_sol</th>\n",
       "    </tr>\n",
       "  </thead>\n",
       "  <tbody>\n",
       "    <tr>\n",
       "      <th>0</th>\n",
       "      <td>2016-01-15 00:00:00</td>\n",
       "      <td>6.486150</td>\n",
       "      <td>6.100378</td>\n",
       "      <td>2.284912</td>\n",
       "      <td>36.808594</td>\n",
       "      <td>523.546326</td>\n",
       "      <td>55.486599</td>\n",
       "      <td>11.986616</td>\n",
       "      <td>6.007990</td>\n",
       "      <td>999.706909</td>\n",
       "      <td>-404.066986</td>\n",
       "      <td>1603.011353</td>\n",
       "      <td>-434.715027</td>\n",
       "      <td>1602.375000</td>\n",
       "      <td>-442.204468</td>\n",
       "      <td>1598.937256</td>\n",
       "      <td>-451.294128</td>\n",
       "      <td>1404.472046</td>\n",
       "      <td>-455.462982</td>\n",
       "      <td>1416.354980</td>\n",
       "      <td>-451.939636</td>\n",
       "      <td>11.836743</td>\n",
       "      <td>6.005818</td>\n",
       "      <td>41885.707031</td>\n",
       "      <td>3481.779053</td>\n",
       "      <td>3520.337158</td>\n",
       "      <td>2.838687</td>\n",
       "      <td>19.793808</td>\n",
       "      <td>11.500771</td>\n",
       "      <td>7.101074</td>\n",
       "      <td>28.029297</td>\n",
       "      <td>87.107763</td>\n",
       "      <td>1.170244</td>\n",
       "      <td>5.008018</td>\n",
       "      <td>0.508728</td>\n",
       "      <td>19.154297</td>\n",
       "      <td>127.092003</td>\n",
       "      <td>10.128295</td>\n",
       "      <td>7.25</td>\n",
       "      <td>0.988759</td>\n",
       "      <td>1549.775757</td>\n",
       "      <td>-498.912140</td>\n",
       "      <td>1551.434204</td>\n",
       "      <td>-516.403442</td>\n",
       "      <td>1549.873901</td>\n",
       "      <td>-498.666595</td>\n",
       "      <td>1554.367432</td>\n",
       "      <td>-493.428131</td>\n",
       "      <td>34.174427</td>\n",
       "      <td>8.547551</td>\n",
       "      <td>10.389648</td>\n",
       "      <td>19.529297</td>\n",
       "      <td>2.106679</td>\n",
       "      <td>14.936526</td>\n",
       "      <td>2.534912</td>\n",
       "      <td>7.476074</td>\n",
       "      <td>25.853109</td>\n",
       "      <td>-498.526489</td>\n",
       "      <td>23.893660</td>\n",
       "      <td>-501.406281</td>\n",
       "      <td>23.961798</td>\n",
       "      <td>-495.262817</td>\n",
       "      <td>21.940409</td>\n",
       "      <td>-499.340973</td>\n",
       "      <td>14.016835</td>\n",
       "      <td>-502.488007</td>\n",
       "      <td>12.099931</td>\n",
       "      <td>-504.715942</td>\n",
       "      <td>9.925633</td>\n",
       "      <td>-498.310211</td>\n",
       "      <td>8.079666</td>\n",
       "      <td>-500.470978</td>\n",
       "      <td>14.151341</td>\n",
       "      <td>-605.841980</td>\n",
       "      <td>2.606185</td>\n",
       "      <td>14.500184</td>\n",
       "      <td>4.694824</td>\n",
       "      <td>8.764648</td>\n",
       "      <td>42.192020</td>\n",
       "      <td>6.055403</td>\n",
       "      <td>9.889648</td>\n",
       "      <td>5.507324</td>\n",
       "      <td>70.541216</td>\n",
       "      <td>2.143149</td>\n",
       "      <td>10.411962</td>\n",
       "      <td>0.895447</td>\n",
       "      <td>16.904297</td>\n",
       "    </tr>\n",
       "    <tr>\n",
       "      <th>1</th>\n",
       "      <td>2016-01-15 01:00:00</td>\n",
       "      <td>6.478583</td>\n",
       "      <td>6.161113</td>\n",
       "      <td>2.266033</td>\n",
       "      <td>35.753385</td>\n",
       "      <td>525.290581</td>\n",
       "      <td>57.278666</td>\n",
       "      <td>11.971193</td>\n",
       "      <td>6.005766</td>\n",
       "      <td>1000.286398</td>\n",
       "      <td>-400.065196</td>\n",
       "      <td>1600.754587</td>\n",
       "      <td>-449.953435</td>\n",
       "      <td>1600.479580</td>\n",
       "      <td>-449.830646</td>\n",
       "      <td>1600.527589</td>\n",
       "      <td>-449.953649</td>\n",
       "      <td>1399.227084</td>\n",
       "      <td>-450.869848</td>\n",
       "      <td>1399.719514</td>\n",
       "      <td>-450.119001</td>\n",
       "      <td>11.996163</td>\n",
       "      <td>6.012594</td>\n",
       "      <td>42050.861809</td>\n",
       "      <td>3498.370979</td>\n",
       "      <td>3489.981857</td>\n",
       "      <td>2.858998</td>\n",
       "      <td>20.050975</td>\n",
       "      <td>11.615865</td>\n",
       "      <td>7.278807</td>\n",
       "      <td>28.067063</td>\n",
       "      <td>86.843261</td>\n",
       "      <td>1.184827</td>\n",
       "      <td>4.955378</td>\n",
       "      <td>0.536689</td>\n",
       "      <td>18.965234</td>\n",
       "      <td>125.629232</td>\n",
       "      <td>10.296251</td>\n",
       "      <td>7.25</td>\n",
       "      <td>1.002663</td>\n",
       "      <td>1576.166671</td>\n",
       "      <td>-500.904965</td>\n",
       "      <td>1575.950626</td>\n",
       "      <td>-499.865889</td>\n",
       "      <td>1575.994189</td>\n",
       "      <td>-499.315107</td>\n",
       "      <td>1574.479259</td>\n",
       "      <td>-498.931665</td>\n",
       "      <td>34.118526</td>\n",
       "      <td>8.558743</td>\n",
       "      <td>10.497069</td>\n",
       "      <td>19.369147</td>\n",
       "      <td>2.353017</td>\n",
       "      <td>16.250511</td>\n",
       "      <td>3.049646</td>\n",
       "      <td>6.733907</td>\n",
       "      <td>25.880539</td>\n",
       "      <td>-499.989656</td>\n",
       "      <td>23.889530</td>\n",
       "      <td>-500.372428</td>\n",
       "      <td>23.970550</td>\n",
       "      <td>-500.085473</td>\n",
       "      <td>22.085714</td>\n",
       "      <td>-499.446897</td>\n",
       "      <td>13.992281</td>\n",
       "      <td>-505.503262</td>\n",
       "      <td>11.950531</td>\n",
       "      <td>-501.331529</td>\n",
       "      <td>10.039245</td>\n",
       "      <td>-500.169983</td>\n",
       "      <td>7.984757</td>\n",
       "      <td>-500.582168</td>\n",
       "      <td>13.998353</td>\n",
       "      <td>-599.787184</td>\n",
       "      <td>2.488248</td>\n",
       "      <td>14.265474</td>\n",
       "      <td>4.592547</td>\n",
       "      <td>9.001494</td>\n",
       "      <td>42.701629</td>\n",
       "      <td>6.029369</td>\n",
       "      <td>9.968944</td>\n",
       "      <td>5.257781</td>\n",
       "      <td>69.266198</td>\n",
       "      <td>2.224930</td>\n",
       "      <td>10.462676</td>\n",
       "      <td>0.927452</td>\n",
       "      <td>16.634514</td>\n",
       "    </tr>\n",
       "    <tr>\n",
       "      <th>2</th>\n",
       "      <td>2016-01-15 02:00:00</td>\n",
       "      <td>6.362222</td>\n",
       "      <td>6.116455</td>\n",
       "      <td>2.159622</td>\n",
       "      <td>35.971630</td>\n",
       "      <td>530.026610</td>\n",
       "      <td>57.510649</td>\n",
       "      <td>11.920603</td>\n",
       "      <td>6.197377</td>\n",
       "      <td>999.719565</td>\n",
       "      <td>-400.074028</td>\n",
       "      <td>1599.337330</td>\n",
       "      <td>-450.008530</td>\n",
       "      <td>1599.672797</td>\n",
       "      <td>-449.954491</td>\n",
       "      <td>1599.849325</td>\n",
       "      <td>-449.954185</td>\n",
       "      <td>1399.180945</td>\n",
       "      <td>-449.937588</td>\n",
       "      <td>1400.316682</td>\n",
       "      <td>-450.527147</td>\n",
       "      <td>11.920305</td>\n",
       "      <td>6.204633</td>\n",
       "      <td>42018.101184</td>\n",
       "      <td>3495.348910</td>\n",
       "      <td>3502.359819</td>\n",
       "      <td>2.945989</td>\n",
       "      <td>19.737170</td>\n",
       "      <td>11.695753</td>\n",
       "      <td>7.216833</td>\n",
       "      <td>27.454037</td>\n",
       "      <td>86.842308</td>\n",
       "      <td>1.162562</td>\n",
       "      <td>4.843460</td>\n",
       "      <td>0.546416</td>\n",
       "      <td>18.808533</td>\n",
       "      <td>123.819808</td>\n",
       "      <td>11.316280</td>\n",
       "      <td>7.25</td>\n",
       "      <td>0.991265</td>\n",
       "      <td>1601.556163</td>\n",
       "      <td>-499.997791</td>\n",
       "      <td>1600.386685</td>\n",
       "      <td>-500.607762</td>\n",
       "      <td>1602.003542</td>\n",
       "      <td>-500.870069</td>\n",
       "      <td>1599.541515</td>\n",
       "      <td>-499.827444</td>\n",
       "      <td>33.969464</td>\n",
       "      <td>8.603505</td>\n",
       "      <td>10.354494</td>\n",
       "      <td>19.167579</td>\n",
       "      <td>2.416800</td>\n",
       "      <td>16.491823</td>\n",
       "      <td>3.124664</td>\n",
       "      <td>6.471768</td>\n",
       "      <td>26.005245</td>\n",
       "      <td>-499.929616</td>\n",
       "      <td>23.886657</td>\n",
       "      <td>-499.951928</td>\n",
       "      <td>23.913535</td>\n",
       "      <td>-499.442343</td>\n",
       "      <td>23.957717</td>\n",
       "      <td>-499.901982</td>\n",
       "      <td>14.015015</td>\n",
       "      <td>-502.520901</td>\n",
       "      <td>11.912783</td>\n",
       "      <td>-501.133383</td>\n",
       "      <td>10.070913</td>\n",
       "      <td>-500.129135</td>\n",
       "      <td>8.013877</td>\n",
       "      <td>-500.517572</td>\n",
       "      <td>14.028663</td>\n",
       "      <td>-601.427363</td>\n",
       "      <td>2.458187</td>\n",
       "      <td>14.115662</td>\n",
       "      <td>4.624775</td>\n",
       "      <td>8.842896</td>\n",
       "      <td>42.657501</td>\n",
       "      <td>6.055926</td>\n",
       "      <td>10.213995</td>\n",
       "      <td>5.383759</td>\n",
       "      <td>68.116445</td>\n",
       "      <td>2.257889</td>\n",
       "      <td>10.507046</td>\n",
       "      <td>0.953716</td>\n",
       "      <td>16.208849</td>\n",
       "    </tr>\n",
       "    <tr>\n",
       "      <th>3</th>\n",
       "      <td>2016-01-15 03:00:00</td>\n",
       "      <td>6.118189</td>\n",
       "      <td>6.043309</td>\n",
       "      <td>2.037807</td>\n",
       "      <td>36.862241</td>\n",
       "      <td>542.590390</td>\n",
       "      <td>57.792734</td>\n",
       "      <td>11.630094</td>\n",
       "      <td>6.203177</td>\n",
       "      <td>999.814770</td>\n",
       "      <td>-400.200179</td>\n",
       "      <td>1600.059442</td>\n",
       "      <td>-450.619948</td>\n",
       "      <td>1600.012842</td>\n",
       "      <td>-449.910497</td>\n",
       "      <td>1597.725177</td>\n",
       "      <td>-450.130127</td>\n",
       "      <td>1400.943157</td>\n",
       "      <td>-450.030142</td>\n",
       "      <td>1400.234743</td>\n",
       "      <td>-449.790835</td>\n",
       "      <td>11.692450</td>\n",
       "      <td>6.196578</td>\n",
       "      <td>42029.447991</td>\n",
       "      <td>3498.578313</td>\n",
       "      <td>3499.162912</td>\n",
       "      <td>3.002340</td>\n",
       "      <td>19.320810</td>\n",
       "      <td>11.915047</td>\n",
       "      <td>7.175616</td>\n",
       "      <td>27.341277</td>\n",
       "      <td>87.226430</td>\n",
       "      <td>1.079755</td>\n",
       "      <td>4.655288</td>\n",
       "      <td>0.542525</td>\n",
       "      <td>19.330200</td>\n",
       "      <td>122.270188</td>\n",
       "      <td>11.322140</td>\n",
       "      <td>7.25</td>\n",
       "      <td>0.996739</td>\n",
       "      <td>1599.968720</td>\n",
       "      <td>-500.951778</td>\n",
       "      <td>1600.659236</td>\n",
       "      <td>-499.677094</td>\n",
       "      <td>1600.304144</td>\n",
       "      <td>-500.727997</td>\n",
       "      <td>1600.449520</td>\n",
       "      <td>-500.052575</td>\n",
       "      <td>28.260743</td>\n",
       "      <td>7.221879</td>\n",
       "      <td>8.496563</td>\n",
       "      <td>15.978538</td>\n",
       "      <td>2.262051</td>\n",
       "      <td>16.024359</td>\n",
       "      <td>2.960362</td>\n",
       "      <td>6.843791</td>\n",
       "      <td>25.942508</td>\n",
       "      <td>-499.176749</td>\n",
       "      <td>23.955516</td>\n",
       "      <td>-499.848796</td>\n",
       "      <td>23.966838</td>\n",
       "      <td>-500.008812</td>\n",
       "      <td>23.954443</td>\n",
       "      <td>-499.944710</td>\n",
       "      <td>14.036510</td>\n",
       "      <td>-500.857308</td>\n",
       "      <td>11.999550</td>\n",
       "      <td>-501.193686</td>\n",
       "      <td>9.970366</td>\n",
       "      <td>-499.201640</td>\n",
       "      <td>7.977324</td>\n",
       "      <td>-500.255908</td>\n",
       "      <td>14.005551</td>\n",
       "      <td>-599.996129</td>\n",
       "      <td>2.322062</td>\n",
       "      <td>13.732071</td>\n",
       "      <td>4.482453</td>\n",
       "      <td>9.122857</td>\n",
       "      <td>42.689819</td>\n",
       "      <td>6.047977</td>\n",
       "      <td>9.977019</td>\n",
       "      <td>4.858634</td>\n",
       "      <td>68.347543</td>\n",
       "      <td>2.146849</td>\n",
       "      <td>10.422762</td>\n",
       "      <td>0.883763</td>\n",
       "      <td>16.532835</td>\n",
       "    </tr>\n",
       "    <tr>\n",
       "      <th>4</th>\n",
       "      <td>2016-01-15 04:00:00</td>\n",
       "      <td>5.663707</td>\n",
       "      <td>6.060915</td>\n",
       "      <td>1.786875</td>\n",
       "      <td>34.347666</td>\n",
       "      <td>540.531893</td>\n",
       "      <td>56.047189</td>\n",
       "      <td>10.957755</td>\n",
       "      <td>6.198826</td>\n",
       "      <td>999.678690</td>\n",
       "      <td>-399.752729</td>\n",
       "      <td>1600.208824</td>\n",
       "      <td>-449.599614</td>\n",
       "      <td>1600.357732</td>\n",
       "      <td>-450.034364</td>\n",
       "      <td>1599.759049</td>\n",
       "      <td>-449.909799</td>\n",
       "      <td>1401.560902</td>\n",
       "      <td>-448.877187</td>\n",
       "      <td>1401.160227</td>\n",
       "      <td>-450.407128</td>\n",
       "      <td>10.960521</td>\n",
       "      <td>6.194897</td>\n",
       "      <td>42125.354245</td>\n",
       "      <td>3494.800771</td>\n",
       "      <td>3506.679315</td>\n",
       "      <td>3.169615</td>\n",
       "      <td>19.216101</td>\n",
       "      <td>12.411054</td>\n",
       "      <td>7.240205</td>\n",
       "      <td>27.041023</td>\n",
       "      <td>86.688794</td>\n",
       "      <td>1.012642</td>\n",
       "      <td>4.552800</td>\n",
       "      <td>0.515438</td>\n",
       "      <td>19.267422</td>\n",
       "      <td>117.988169</td>\n",
       "      <td>11.913613</td>\n",
       "      <td>7.25</td>\n",
       "      <td>1.009869</td>\n",
       "      <td>1601.339707</td>\n",
       "      <td>-498.975456</td>\n",
       "      <td>1601.437854</td>\n",
       "      <td>-500.323246</td>\n",
       "      <td>1599.581894</td>\n",
       "      <td>-500.888152</td>\n",
       "      <td>1602.649541</td>\n",
       "      <td>-500.593010</td>\n",
       "      <td>33.044932</td>\n",
       "      <td>9.089428</td>\n",
       "      <td>9.986786</td>\n",
       "      <td>19.199864</td>\n",
       "      <td>2.277073</td>\n",
       "      <td>16.480185</td>\n",
       "      <td>3.112100</td>\n",
       "      <td>6.550154</td>\n",
       "      <td>26.024787</td>\n",
       "      <td>-500.279091</td>\n",
       "      <td>23.955345</td>\n",
       "      <td>-500.593614</td>\n",
       "      <td>23.985703</td>\n",
       "      <td>-500.083811</td>\n",
       "      <td>23.958945</td>\n",
       "      <td>-499.990309</td>\n",
       "      <td>14.027298</td>\n",
       "      <td>-499.838632</td>\n",
       "      <td>11.953070</td>\n",
       "      <td>-501.053894</td>\n",
       "      <td>9.925709</td>\n",
       "      <td>-501.686727</td>\n",
       "      <td>7.894242</td>\n",
       "      <td>-500.356035</td>\n",
       "      <td>13.996647</td>\n",
       "      <td>-601.496691</td>\n",
       "      <td>2.330448</td>\n",
       "      <td>14.079996</td>\n",
       "      <td>4.470737</td>\n",
       "      <td>8.871028</td>\n",
       "      <td>42.774141</td>\n",
       "      <td>6.148599</td>\n",
       "      <td>10.142511</td>\n",
       "      <td>4.939416</td>\n",
       "      <td>66.927016</td>\n",
       "      <td>2.055292</td>\n",
       "      <td>10.360302</td>\n",
       "      <td>0.792826</td>\n",
       "      <td>16.525686</td>\n",
       "    </tr>\n",
       "  </tbody>\n",
       "</table>\n",
       "</div>"
      ],
      "text/plain": [
       "                  date  rougher.input.feed_au  rougher.input.feed_ag  \\\n",
       "0  2016-01-15 00:00:00               6.486150               6.100378   \n",
       "1  2016-01-15 01:00:00               6.478583               6.161113   \n",
       "2  2016-01-15 02:00:00               6.362222               6.116455   \n",
       "3  2016-01-15 03:00:00               6.118189               6.043309   \n",
       "4  2016-01-15 04:00:00               5.663707               6.060915   \n",
       "\n",
       "   rougher.input.feed_pb  rougher.input.feed_sol  rougher.input.feed_rate  \\\n",
       "0               2.284912               36.808594               523.546326   \n",
       "1               2.266033               35.753385               525.290581   \n",
       "2               2.159622               35.971630               530.026610   \n",
       "3               2.037807               36.862241               542.590390   \n",
       "4               1.786875               34.347666               540.531893   \n",
       "\n",
       "   rougher.input.feed_size  rougher.input.floatbank10_sulfate  \\\n",
       "0                55.486599                          11.986616   \n",
       "1                57.278666                          11.971193   \n",
       "2                57.510649                          11.920603   \n",
       "3                57.792734                          11.630094   \n",
       "4                56.047189                          10.957755   \n",
       "\n",
       "   rougher.input.floatbank10_xanthate  rougher.state.floatbank10_a_air  \\\n",
       "0                            6.007990                       999.706909   \n",
       "1                            6.005766                      1000.286398   \n",
       "2                            6.197377                       999.719565   \n",
       "3                            6.203177                       999.814770   \n",
       "4                            6.198826                       999.678690   \n",
       "\n",
       "   rougher.state.floatbank10_a_level  rougher.state.floatbank10_b_air  \\\n",
       "0                        -404.066986                      1603.011353   \n",
       "1                        -400.065196                      1600.754587   \n",
       "2                        -400.074028                      1599.337330   \n",
       "3                        -400.200179                      1600.059442   \n",
       "4                        -399.752729                      1600.208824   \n",
       "\n",
       "   rougher.state.floatbank10_b_level  rougher.state.floatbank10_c_air  \\\n",
       "0                        -434.715027                      1602.375000   \n",
       "1                        -449.953435                      1600.479580   \n",
       "2                        -450.008530                      1599.672797   \n",
       "3                        -450.619948                      1600.012842   \n",
       "4                        -449.599614                      1600.357732   \n",
       "\n",
       "   rougher.state.floatbank10_c_level  rougher.state.floatbank10_d_air  \\\n",
       "0                        -442.204468                      1598.937256   \n",
       "1                        -449.830646                      1600.527589   \n",
       "2                        -449.954491                      1599.849325   \n",
       "3                        -449.910497                      1597.725177   \n",
       "4                        -450.034364                      1599.759049   \n",
       "\n",
       "   rougher.state.floatbank10_d_level  rougher.state.floatbank10_e_air  \\\n",
       "0                        -451.294128                      1404.472046   \n",
       "1                        -449.953649                      1399.227084   \n",
       "2                        -449.954185                      1399.180945   \n",
       "3                        -450.130127                      1400.943157   \n",
       "4                        -449.909799                      1401.560902   \n",
       "\n",
       "   rougher.state.floatbank10_e_level  rougher.state.floatbank10_f_air  \\\n",
       "0                        -455.462982                      1416.354980   \n",
       "1                        -450.869848                      1399.719514   \n",
       "2                        -449.937588                      1400.316682   \n",
       "3                        -450.030142                      1400.234743   \n",
       "4                        -448.877187                      1401.160227   \n",
       "\n",
       "   rougher.state.floatbank10_f_level  rougher.input.floatbank11_sulfate  \\\n",
       "0                        -451.939636                          11.836743   \n",
       "1                        -450.119001                          11.996163   \n",
       "2                        -450.527147                          11.920305   \n",
       "3                        -449.790835                          11.692450   \n",
       "4                        -450.407128                          10.960521   \n",
       "\n",
       "   rougher.input.floatbank11_xanthate  \\\n",
       "0                            6.005818   \n",
       "1                            6.012594   \n",
       "2                            6.204633   \n",
       "3                            6.196578   \n",
       "4                            6.194897   \n",
       "\n",
       "   rougher.calculation.sulfate_to_au_concentrate  \\\n",
       "0                                   41885.707031   \n",
       "1                                   42050.861809   \n",
       "2                                   42018.101184   \n",
       "3                                   42029.447991   \n",
       "4                                   42125.354245   \n",
       "\n",
       "   rougher.calculation.floatbank10_sulfate_to_au_feed  \\\n",
       "0                                        3481.779053    \n",
       "1                                        3498.370979    \n",
       "2                                        3495.348910    \n",
       "3                                        3498.578313    \n",
       "4                                        3494.800771    \n",
       "\n",
       "   rougher.calculation.floatbank11_sulfate_to_au_feed  \\\n",
       "0                                        3520.337158    \n",
       "1                                        3489.981857    \n",
       "2                                        3502.359819    \n",
       "3                                        3499.162912    \n",
       "4                                        3506.679315    \n",
       "\n",
       "   rougher.calculation.au_pb_ratio  rougher.output.concentrate_au  \\\n",
       "0                         2.838687                      19.793808   \n",
       "1                         2.858998                      20.050975   \n",
       "2                         2.945989                      19.737170   \n",
       "3                         3.002340                      19.320810   \n",
       "4                         3.169615                      19.216101   \n",
       "\n",
       "   rougher.output.concentrate_ag  rougher.output.concentrate_pb  \\\n",
       "0                      11.500771                       7.101074   \n",
       "1                      11.615865                       7.278807   \n",
       "2                      11.695753                       7.216833   \n",
       "3                      11.915047                       7.175616   \n",
       "4                      12.411054                       7.240205   \n",
       "\n",
       "   rougher.output.concentrate_sol  rougher.output.recovery  \\\n",
       "0                       28.029297                87.107763   \n",
       "1                       28.067063                86.843261   \n",
       "2                       27.454037                86.842308   \n",
       "3                       27.341277                87.226430   \n",
       "4                       27.041023                86.688794   \n",
       "\n",
       "   rougher.output.tail_au  rougher.output.tail_ag  rougher.output.tail_pb  \\\n",
       "0                1.170244                5.008018                0.508728   \n",
       "1                1.184827                4.955378                0.536689   \n",
       "2                1.162562                4.843460                0.546416   \n",
       "3                1.079755                4.655288                0.542525   \n",
       "4                1.012642                4.552800                0.515438   \n",
       "\n",
       "   rougher.output.tail_sol  primary_cleaner.input.sulfate  \\\n",
       "0                19.154297                     127.092003   \n",
       "1                18.965234                     125.629232   \n",
       "2                18.808533                     123.819808   \n",
       "3                19.330200                     122.270188   \n",
       "4                19.267422                     117.988169   \n",
       "\n",
       "   primary_cleaner.input.depressant  primary_cleaner.input.feed_size  \\\n",
       "0                         10.128295                             7.25   \n",
       "1                         10.296251                             7.25   \n",
       "2                         11.316280                             7.25   \n",
       "3                         11.322140                             7.25   \n",
       "4                         11.913613                             7.25   \n",
       "\n",
       "   primary_cleaner.input.xanthate  primary_cleaner.state.floatbank8_a_air  \\\n",
       "0                        0.988759                             1549.775757   \n",
       "1                        1.002663                             1576.166671   \n",
       "2                        0.991265                             1601.556163   \n",
       "3                        0.996739                             1599.968720   \n",
       "4                        1.009869                             1601.339707   \n",
       "\n",
       "   primary_cleaner.state.floatbank8_a_level  \\\n",
       "0                               -498.912140   \n",
       "1                               -500.904965   \n",
       "2                               -499.997791   \n",
       "3                               -500.951778   \n",
       "4                               -498.975456   \n",
       "\n",
       "   primary_cleaner.state.floatbank8_b_air  \\\n",
       "0                             1551.434204   \n",
       "1                             1575.950626   \n",
       "2                             1600.386685   \n",
       "3                             1600.659236   \n",
       "4                             1601.437854   \n",
       "\n",
       "   primary_cleaner.state.floatbank8_b_level  \\\n",
       "0                               -516.403442   \n",
       "1                               -499.865889   \n",
       "2                               -500.607762   \n",
       "3                               -499.677094   \n",
       "4                               -500.323246   \n",
       "\n",
       "   primary_cleaner.state.floatbank8_c_air  \\\n",
       "0                             1549.873901   \n",
       "1                             1575.994189   \n",
       "2                             1602.003542   \n",
       "3                             1600.304144   \n",
       "4                             1599.581894   \n",
       "\n",
       "   primary_cleaner.state.floatbank8_c_level  \\\n",
       "0                               -498.666595   \n",
       "1                               -499.315107   \n",
       "2                               -500.870069   \n",
       "3                               -500.727997   \n",
       "4                               -500.888152   \n",
       "\n",
       "   primary_cleaner.state.floatbank8_d_air  \\\n",
       "0                             1554.367432   \n",
       "1                             1574.479259   \n",
       "2                             1599.541515   \n",
       "3                             1600.449520   \n",
       "4                             1602.649541   \n",
       "\n",
       "   primary_cleaner.state.floatbank8_d_level  \\\n",
       "0                               -493.428131   \n",
       "1                               -498.931665   \n",
       "2                               -499.827444   \n",
       "3                               -500.052575   \n",
       "4                               -500.593010   \n",
       "\n",
       "   primary_cleaner.output.concentrate_au  \\\n",
       "0                              34.174427   \n",
       "1                              34.118526   \n",
       "2                              33.969464   \n",
       "3                              28.260743   \n",
       "4                              33.044932   \n",
       "\n",
       "   primary_cleaner.output.concentrate_ag  \\\n",
       "0                               8.547551   \n",
       "1                               8.558743   \n",
       "2                               8.603505   \n",
       "3                               7.221879   \n",
       "4                               9.089428   \n",
       "\n",
       "   primary_cleaner.output.concentrate_pb  \\\n",
       "0                              10.389648   \n",
       "1                              10.497069   \n",
       "2                              10.354494   \n",
       "3                               8.496563   \n",
       "4                               9.986786   \n",
       "\n",
       "   primary_cleaner.output.concentrate_sol  primary_cleaner.output.tail_au  \\\n",
       "0                               19.529297                        2.106679   \n",
       "1                               19.369147                        2.353017   \n",
       "2                               19.167579                        2.416800   \n",
       "3                               15.978538                        2.262051   \n",
       "4                               19.199864                        2.277073   \n",
       "\n",
       "   primary_cleaner.output.tail_ag  primary_cleaner.output.tail_pb  \\\n",
       "0                       14.936526                        2.534912   \n",
       "1                       16.250511                        3.049646   \n",
       "2                       16.491823                        3.124664   \n",
       "3                       16.024359                        2.960362   \n",
       "4                       16.480185                        3.112100   \n",
       "\n",
       "   primary_cleaner.output.tail_sol  secondary_cleaner.state.floatbank2_a_air  \\\n",
       "0                         7.476074                                 25.853109   \n",
       "1                         6.733907                                 25.880539   \n",
       "2                         6.471768                                 26.005245   \n",
       "3                         6.843791                                 25.942508   \n",
       "4                         6.550154                                 26.024787   \n",
       "\n",
       "   secondary_cleaner.state.floatbank2_a_level  \\\n",
       "0                                 -498.526489   \n",
       "1                                 -499.989656   \n",
       "2                                 -499.929616   \n",
       "3                                 -499.176749   \n",
       "4                                 -500.279091   \n",
       "\n",
       "   secondary_cleaner.state.floatbank2_b_air  \\\n",
       "0                                 23.893660   \n",
       "1                                 23.889530   \n",
       "2                                 23.886657   \n",
       "3                                 23.955516   \n",
       "4                                 23.955345   \n",
       "\n",
       "   secondary_cleaner.state.floatbank2_b_level  \\\n",
       "0                                 -501.406281   \n",
       "1                                 -500.372428   \n",
       "2                                 -499.951928   \n",
       "3                                 -499.848796   \n",
       "4                                 -500.593614   \n",
       "\n",
       "   secondary_cleaner.state.floatbank3_a_air  \\\n",
       "0                                 23.961798   \n",
       "1                                 23.970550   \n",
       "2                                 23.913535   \n",
       "3                                 23.966838   \n",
       "4                                 23.985703   \n",
       "\n",
       "   secondary_cleaner.state.floatbank3_a_level  \\\n",
       "0                                 -495.262817   \n",
       "1                                 -500.085473   \n",
       "2                                 -499.442343   \n",
       "3                                 -500.008812   \n",
       "4                                 -500.083811   \n",
       "\n",
       "   secondary_cleaner.state.floatbank3_b_air  \\\n",
       "0                                 21.940409   \n",
       "1                                 22.085714   \n",
       "2                                 23.957717   \n",
       "3                                 23.954443   \n",
       "4                                 23.958945   \n",
       "\n",
       "   secondary_cleaner.state.floatbank3_b_level  \\\n",
       "0                                 -499.340973   \n",
       "1                                 -499.446897   \n",
       "2                                 -499.901982   \n",
       "3                                 -499.944710   \n",
       "4                                 -499.990309   \n",
       "\n",
       "   secondary_cleaner.state.floatbank4_a_air  \\\n",
       "0                                 14.016835   \n",
       "1                                 13.992281   \n",
       "2                                 14.015015   \n",
       "3                                 14.036510   \n",
       "4                                 14.027298   \n",
       "\n",
       "   secondary_cleaner.state.floatbank4_a_level  \\\n",
       "0                                 -502.488007   \n",
       "1                                 -505.503262   \n",
       "2                                 -502.520901   \n",
       "3                                 -500.857308   \n",
       "4                                 -499.838632   \n",
       "\n",
       "   secondary_cleaner.state.floatbank4_b_air  \\\n",
       "0                                 12.099931   \n",
       "1                                 11.950531   \n",
       "2                                 11.912783   \n",
       "3                                 11.999550   \n",
       "4                                 11.953070   \n",
       "\n",
       "   secondary_cleaner.state.floatbank4_b_level  \\\n",
       "0                                 -504.715942   \n",
       "1                                 -501.331529   \n",
       "2                                 -501.133383   \n",
       "3                                 -501.193686   \n",
       "4                                 -501.053894   \n",
       "\n",
       "   secondary_cleaner.state.floatbank5_a_air  \\\n",
       "0                                  9.925633   \n",
       "1                                 10.039245   \n",
       "2                                 10.070913   \n",
       "3                                  9.970366   \n",
       "4                                  9.925709   \n",
       "\n",
       "   secondary_cleaner.state.floatbank5_a_level  \\\n",
       "0                                 -498.310211   \n",
       "1                                 -500.169983   \n",
       "2                                 -500.129135   \n",
       "3                                 -499.201640   \n",
       "4                                 -501.686727   \n",
       "\n",
       "   secondary_cleaner.state.floatbank5_b_air  \\\n",
       "0                                  8.079666   \n",
       "1                                  7.984757   \n",
       "2                                  8.013877   \n",
       "3                                  7.977324   \n",
       "4                                  7.894242   \n",
       "\n",
       "   secondary_cleaner.state.floatbank5_b_level  \\\n",
       "0                                 -500.470978   \n",
       "1                                 -500.582168   \n",
       "2                                 -500.517572   \n",
       "3                                 -500.255908   \n",
       "4                                 -500.356035   \n",
       "\n",
       "   secondary_cleaner.state.floatbank6_a_air  \\\n",
       "0                                 14.151341   \n",
       "1                                 13.998353   \n",
       "2                                 14.028663   \n",
       "3                                 14.005551   \n",
       "4                                 13.996647   \n",
       "\n",
       "   secondary_cleaner.state.floatbank6_a_level  \\\n",
       "0                                 -605.841980   \n",
       "1                                 -599.787184   \n",
       "2                                 -601.427363   \n",
       "3                                 -599.996129   \n",
       "4                                 -601.496691   \n",
       "\n",
       "   secondary_cleaner.output.tail_au  secondary_cleaner.output.tail_ag  \\\n",
       "0                          2.606185                         14.500184   \n",
       "1                          2.488248                         14.265474   \n",
       "2                          2.458187                         14.115662   \n",
       "3                          2.322062                         13.732071   \n",
       "4                          2.330448                         14.079996   \n",
       "\n",
       "   secondary_cleaner.output.tail_pb  secondary_cleaner.output.tail_sol  \\\n",
       "0                          4.694824                           8.764648   \n",
       "1                          4.592547                           9.001494   \n",
       "2                          4.624775                           8.842896   \n",
       "3                          4.482453                           9.122857   \n",
       "4                          4.470737                           8.871028   \n",
       "\n",
       "   final.output.concentrate_au  final.output.concentrate_ag  \\\n",
       "0                    42.192020                     6.055403   \n",
       "1                    42.701629                     6.029369   \n",
       "2                    42.657501                     6.055926   \n",
       "3                    42.689819                     6.047977   \n",
       "4                    42.774141                     6.148599   \n",
       "\n",
       "   final.output.concentrate_pb  final.output.concentrate_sol  \\\n",
       "0                     9.889648                      5.507324   \n",
       "1                     9.968944                      5.257781   \n",
       "2                    10.213995                      5.383759   \n",
       "3                     9.977019                      4.858634   \n",
       "4                    10.142511                      4.939416   \n",
       "\n",
       "   final.output.recovery  final.output.tail_au  final.output.tail_ag  \\\n",
       "0              70.541216              2.143149             10.411962   \n",
       "1              69.266198              2.224930             10.462676   \n",
       "2              68.116445              2.257889             10.507046   \n",
       "3              68.347543              2.146849             10.422762   \n",
       "4              66.927016              2.055292             10.360302   \n",
       "\n",
       "   final.output.tail_pb  final.output.tail_sol  \n",
       "0              0.895447              16.904297  \n",
       "1              0.927452              16.634514  \n",
       "2              0.953716              16.208849  \n",
       "3              0.883763              16.532835  \n",
       "4              0.792826              16.525686  "
      ]
     },
     "metadata": {},
     "output_type": "display_data"
    },
    {
     "data": {
      "text/plain": [
       "(19439, 87)"
      ]
     },
     "metadata": {},
     "output_type": "display_data"
    },
    {
     "name": "stdout",
     "output_type": "stream",
     "text": [
      "<class 'pandas.core.frame.DataFrame'>\n",
      "RangeIndex: 19439 entries, 0 to 19438\n",
      "Data columns (total 87 columns):\n",
      " #   Column                                              Non-Null Count  Dtype  \n",
      "---  ------                                              --------------  -----  \n",
      " 0   date                                                19439 non-null  object \n",
      " 1   rougher.input.feed_au                               19439 non-null  float64\n",
      " 2   rougher.input.feed_ag                               19439 non-null  float64\n",
      " 3   rougher.input.feed_pb                               19339 non-null  float64\n",
      " 4   rougher.input.feed_sol                              19340 non-null  float64\n",
      " 5   rougher.input.feed_rate                             19428 non-null  float64\n",
      " 6   rougher.input.feed_size                             19294 non-null  float64\n",
      " 7   rougher.input.floatbank10_sulfate                   19405 non-null  float64\n",
      " 8   rougher.input.floatbank10_xanthate                  19431 non-null  float64\n",
      " 9   rougher.state.floatbank10_a_air                     19438 non-null  float64\n",
      " 10  rougher.state.floatbank10_a_level                   19438 non-null  float64\n",
      " 11  rougher.state.floatbank10_b_air                     19438 non-null  float64\n",
      " 12  rougher.state.floatbank10_b_level                   19438 non-null  float64\n",
      " 13  rougher.state.floatbank10_c_air                     19438 non-null  float64\n",
      " 14  rougher.state.floatbank10_c_level                   19438 non-null  float64\n",
      " 15  rougher.state.floatbank10_d_air                     19439 non-null  float64\n",
      " 16  rougher.state.floatbank10_d_level                   19439 non-null  float64\n",
      " 17  rougher.state.floatbank10_e_air                     19003 non-null  float64\n",
      " 18  rougher.state.floatbank10_e_level                   19439 non-null  float64\n",
      " 19  rougher.state.floatbank10_f_air                     19439 non-null  float64\n",
      " 20  rougher.state.floatbank10_f_level                   19439 non-null  float64\n",
      " 21  rougher.input.floatbank11_sulfate                   19395 non-null  float64\n",
      " 22  rougher.input.floatbank11_xanthate                  18986 non-null  float64\n",
      " 23  rougher.calculation.sulfate_to_au_concentrate       19437 non-null  float64\n",
      " 24  rougher.calculation.floatbank10_sulfate_to_au_feed  19437 non-null  float64\n",
      " 25  rougher.calculation.floatbank11_sulfate_to_au_feed  19437 non-null  float64\n",
      " 26  rougher.calculation.au_pb_ratio                     19439 non-null  float64\n",
      " 27  rougher.output.concentrate_au                       19439 non-null  float64\n",
      " 28  rougher.output.concentrate_ag                       19439 non-null  float64\n",
      " 29  rougher.output.concentrate_pb                       19439 non-null  float64\n",
      " 30  rougher.output.concentrate_sol                      19416 non-null  float64\n",
      " 31  rougher.output.recovery                             19439 non-null  float64\n",
      " 32  rougher.output.tail_au                              19439 non-null  float64\n",
      " 33  rougher.output.tail_ag                              19438 non-null  float64\n",
      " 34  rougher.output.tail_pb                              19439 non-null  float64\n",
      " 35  rougher.output.tail_sol                             19439 non-null  float64\n",
      " 36  primary_cleaner.input.sulfate                       19415 non-null  float64\n",
      " 37  primary_cleaner.input.depressant                    19402 non-null  float64\n",
      " 38  primary_cleaner.input.feed_size                     19439 non-null  float64\n",
      " 39  primary_cleaner.input.xanthate                      19335 non-null  float64\n",
      " 40  primary_cleaner.state.floatbank8_a_air              19435 non-null  float64\n",
      " 41  primary_cleaner.state.floatbank8_a_level            19438 non-null  float64\n",
      " 42  primary_cleaner.state.floatbank8_b_air              19435 non-null  float64\n",
      " 43  primary_cleaner.state.floatbank8_b_level            19438 non-null  float64\n",
      " 44  primary_cleaner.state.floatbank8_c_air              19437 non-null  float64\n",
      " 45  primary_cleaner.state.floatbank8_c_level            19438 non-null  float64\n",
      " 46  primary_cleaner.state.floatbank8_d_air              19436 non-null  float64\n",
      " 47  primary_cleaner.state.floatbank8_d_level            19438 non-null  float64\n",
      " 48  primary_cleaner.output.concentrate_au               19439 non-null  float64\n",
      " 49  primary_cleaner.output.concentrate_ag               19439 non-null  float64\n",
      " 50  primary_cleaner.output.concentrate_pb               19323 non-null  float64\n",
      " 51  primary_cleaner.output.concentrate_sol              19069 non-null  float64\n",
      " 52  primary_cleaner.output.tail_au                      19439 non-null  float64\n",
      " 53  primary_cleaner.output.tail_ag                      19435 non-null  float64\n",
      " 54  primary_cleaner.output.tail_pb                      19418 non-null  float64\n",
      " 55  primary_cleaner.output.tail_sol                     19377 non-null  float64\n",
      " 56  secondary_cleaner.state.floatbank2_a_air            19219 non-null  float64\n",
      " 57  secondary_cleaner.state.floatbank2_a_level          19438 non-null  float64\n",
      " 58  secondary_cleaner.state.floatbank2_b_air            19416 non-null  float64\n",
      " 59  secondary_cleaner.state.floatbank2_b_level          19438 non-null  float64\n",
      " 60  secondary_cleaner.state.floatbank3_a_air            19426 non-null  float64\n",
      " 61  secondary_cleaner.state.floatbank3_a_level          19438 non-null  float64\n",
      " 62  secondary_cleaner.state.floatbank3_b_air            19438 non-null  float64\n",
      " 63  secondary_cleaner.state.floatbank3_b_level          19438 non-null  float64\n",
      " 64  secondary_cleaner.state.floatbank4_a_air            19433 non-null  float64\n",
      " 65  secondary_cleaner.state.floatbank4_a_level          19438 non-null  float64\n",
      " 66  secondary_cleaner.state.floatbank4_b_air            19438 non-null  float64\n",
      " 67  secondary_cleaner.state.floatbank4_b_level          19438 non-null  float64\n",
      " 68  secondary_cleaner.state.floatbank5_a_air            19438 non-null  float64\n",
      " 69  secondary_cleaner.state.floatbank5_a_level          19438 non-null  float64\n",
      " 70  secondary_cleaner.state.floatbank5_b_air            19438 non-null  float64\n",
      " 71  secondary_cleaner.state.floatbank5_b_level          19438 non-null  float64\n",
      " 72  secondary_cleaner.state.floatbank6_a_air            19437 non-null  float64\n",
      " 73  secondary_cleaner.state.floatbank6_a_level          19438 non-null  float64\n",
      " 74  secondary_cleaner.output.tail_au                    19439 non-null  float64\n",
      " 75  secondary_cleaner.output.tail_ag                    19437 non-null  float64\n",
      " 76  secondary_cleaner.output.tail_pb                    19427 non-null  float64\n",
      " 77  secondary_cleaner.output.tail_sol                   17691 non-null  float64\n",
      " 78  final.output.concentrate_au                         19439 non-null  float64\n",
      " 79  final.output.concentrate_ag                         19438 non-null  float64\n",
      " 80  final.output.concentrate_pb                         19438 non-null  float64\n",
      " 81  final.output.concentrate_sol                        19228 non-null  float64\n",
      " 82  final.output.recovery                               19439 non-null  float64\n",
      " 83  final.output.tail_au                                19439 non-null  float64\n",
      " 84  final.output.tail_ag                                19438 non-null  float64\n",
      " 85  final.output.tail_pb                                19338 non-null  float64\n",
      " 86  final.output.tail_sol                               19433 non-null  float64\n",
      "dtypes: float64(86), object(1)\n",
      "memory usage: 12.9+ MB\n"
     ]
    },
    {
     "data": {
      "text/plain": [
       "None"
      ]
     },
     "metadata": {},
     "output_type": "display_data"
    },
    {
     "data": {
      "text/html": [
       "<div>\n",
       "<style scoped>\n",
       "    .dataframe tbody tr th:only-of-type {\n",
       "        vertical-align: middle;\n",
       "    }\n",
       "\n",
       "    .dataframe tbody tr th {\n",
       "        vertical-align: top;\n",
       "    }\n",
       "\n",
       "    .dataframe thead th {\n",
       "        text-align: right;\n",
       "    }\n",
       "</style>\n",
       "<table border=\"1\" class=\"dataframe\">\n",
       "  <thead>\n",
       "    <tr style=\"text-align: right;\">\n",
       "      <th></th>\n",
       "      <th>rougher.input.feed_au</th>\n",
       "      <th>rougher.input.feed_ag</th>\n",
       "      <th>rougher.input.feed_pb</th>\n",
       "      <th>rougher.input.feed_sol</th>\n",
       "      <th>rougher.input.feed_rate</th>\n",
       "      <th>rougher.input.feed_size</th>\n",
       "      <th>rougher.input.floatbank10_sulfate</th>\n",
       "      <th>rougher.input.floatbank10_xanthate</th>\n",
       "      <th>rougher.state.floatbank10_a_air</th>\n",
       "      <th>rougher.state.floatbank10_a_level</th>\n",
       "      <th>rougher.state.floatbank10_b_air</th>\n",
       "      <th>rougher.state.floatbank10_b_level</th>\n",
       "      <th>rougher.state.floatbank10_c_air</th>\n",
       "      <th>rougher.state.floatbank10_c_level</th>\n",
       "      <th>rougher.state.floatbank10_d_air</th>\n",
       "      <th>rougher.state.floatbank10_d_level</th>\n",
       "      <th>rougher.state.floatbank10_e_air</th>\n",
       "      <th>rougher.state.floatbank10_e_level</th>\n",
       "      <th>rougher.state.floatbank10_f_air</th>\n",
       "      <th>rougher.state.floatbank10_f_level</th>\n",
       "      <th>rougher.input.floatbank11_sulfate</th>\n",
       "      <th>rougher.input.floatbank11_xanthate</th>\n",
       "      <th>rougher.calculation.sulfate_to_au_concentrate</th>\n",
       "      <th>rougher.calculation.floatbank10_sulfate_to_au_feed</th>\n",
       "      <th>rougher.calculation.floatbank11_sulfate_to_au_feed</th>\n",
       "      <th>rougher.calculation.au_pb_ratio</th>\n",
       "      <th>rougher.output.concentrate_au</th>\n",
       "      <th>rougher.output.concentrate_ag</th>\n",
       "      <th>rougher.output.concentrate_pb</th>\n",
       "      <th>rougher.output.concentrate_sol</th>\n",
       "      <th>rougher.output.recovery</th>\n",
       "      <th>rougher.output.tail_au</th>\n",
       "      <th>rougher.output.tail_ag</th>\n",
       "      <th>rougher.output.tail_pb</th>\n",
       "      <th>rougher.output.tail_sol</th>\n",
       "      <th>primary_cleaner.input.sulfate</th>\n",
       "      <th>primary_cleaner.input.depressant</th>\n",
       "      <th>primary_cleaner.input.feed_size</th>\n",
       "      <th>primary_cleaner.input.xanthate</th>\n",
       "      <th>primary_cleaner.state.floatbank8_a_air</th>\n",
       "      <th>primary_cleaner.state.floatbank8_a_level</th>\n",
       "      <th>primary_cleaner.state.floatbank8_b_air</th>\n",
       "      <th>primary_cleaner.state.floatbank8_b_level</th>\n",
       "      <th>primary_cleaner.state.floatbank8_c_air</th>\n",
       "      <th>primary_cleaner.state.floatbank8_c_level</th>\n",
       "      <th>primary_cleaner.state.floatbank8_d_air</th>\n",
       "      <th>primary_cleaner.state.floatbank8_d_level</th>\n",
       "      <th>primary_cleaner.output.concentrate_au</th>\n",
       "      <th>primary_cleaner.output.concentrate_ag</th>\n",
       "      <th>primary_cleaner.output.concentrate_pb</th>\n",
       "      <th>primary_cleaner.output.concentrate_sol</th>\n",
       "      <th>primary_cleaner.output.tail_au</th>\n",
       "      <th>primary_cleaner.output.tail_ag</th>\n",
       "      <th>primary_cleaner.output.tail_pb</th>\n",
       "      <th>primary_cleaner.output.tail_sol</th>\n",
       "      <th>secondary_cleaner.state.floatbank2_a_air</th>\n",
       "      <th>secondary_cleaner.state.floatbank2_a_level</th>\n",
       "      <th>secondary_cleaner.state.floatbank2_b_air</th>\n",
       "      <th>secondary_cleaner.state.floatbank2_b_level</th>\n",
       "      <th>secondary_cleaner.state.floatbank3_a_air</th>\n",
       "      <th>secondary_cleaner.state.floatbank3_a_level</th>\n",
       "      <th>secondary_cleaner.state.floatbank3_b_air</th>\n",
       "      <th>secondary_cleaner.state.floatbank3_b_level</th>\n",
       "      <th>secondary_cleaner.state.floatbank4_a_air</th>\n",
       "      <th>secondary_cleaner.state.floatbank4_a_level</th>\n",
       "      <th>secondary_cleaner.state.floatbank4_b_air</th>\n",
       "      <th>secondary_cleaner.state.floatbank4_b_level</th>\n",
       "      <th>secondary_cleaner.state.floatbank5_a_air</th>\n",
       "      <th>secondary_cleaner.state.floatbank5_a_level</th>\n",
       "      <th>secondary_cleaner.state.floatbank5_b_air</th>\n",
       "      <th>secondary_cleaner.state.floatbank5_b_level</th>\n",
       "      <th>secondary_cleaner.state.floatbank6_a_air</th>\n",
       "      <th>secondary_cleaner.state.floatbank6_a_level</th>\n",
       "      <th>secondary_cleaner.output.tail_au</th>\n",
       "      <th>secondary_cleaner.output.tail_ag</th>\n",
       "      <th>secondary_cleaner.output.tail_pb</th>\n",
       "      <th>secondary_cleaner.output.tail_sol</th>\n",
       "      <th>final.output.concentrate_au</th>\n",
       "      <th>final.output.concentrate_ag</th>\n",
       "      <th>final.output.concentrate_pb</th>\n",
       "      <th>final.output.concentrate_sol</th>\n",
       "      <th>final.output.recovery</th>\n",
       "      <th>final.output.tail_au</th>\n",
       "      <th>final.output.tail_ag</th>\n",
       "      <th>final.output.tail_pb</th>\n",
       "      <th>final.output.tail_sol</th>\n",
       "    </tr>\n",
       "  </thead>\n",
       "  <tbody>\n",
       "    <tr>\n",
       "      <th>count</th>\n",
       "      <td>19439.000000</td>\n",
       "      <td>19439.000000</td>\n",
       "      <td>19339.000000</td>\n",
       "      <td>19340.000000</td>\n",
       "      <td>19428.000000</td>\n",
       "      <td>19294.000000</td>\n",
       "      <td>19405.000000</td>\n",
       "      <td>19431.000000</td>\n",
       "      <td>19438.000000</td>\n",
       "      <td>19438.000000</td>\n",
       "      <td>19438.000000</td>\n",
       "      <td>19438.000000</td>\n",
       "      <td>19438.000000</td>\n",
       "      <td>19438.000000</td>\n",
       "      <td>19439.000000</td>\n",
       "      <td>19439.000000</td>\n",
       "      <td>19003.000000</td>\n",
       "      <td>19439.000000</td>\n",
       "      <td>19439.000000</td>\n",
       "      <td>19439.000000</td>\n",
       "      <td>19395.000000</td>\n",
       "      <td>18986.000000</td>\n",
       "      <td>1.943700e+04</td>\n",
       "      <td>19437.000000</td>\n",
       "      <td>19437.000000</td>\n",
       "      <td>19439.000000</td>\n",
       "      <td>19439.000000</td>\n",
       "      <td>19439.000000</td>\n",
       "      <td>19439.000000</td>\n",
       "      <td>19416.000000</td>\n",
       "      <td>19439.000000</td>\n",
       "      <td>19439.000000</td>\n",
       "      <td>19438.000000</td>\n",
       "      <td>19439.000000</td>\n",
       "      <td>19439.000000</td>\n",
       "      <td>19415.000000</td>\n",
       "      <td>19402.000000</td>\n",
       "      <td>19439.000000</td>\n",
       "      <td>19335.000000</td>\n",
       "      <td>1.943500e+04</td>\n",
       "      <td>19438.000000</td>\n",
       "      <td>1.943500e+04</td>\n",
       "      <td>19438.000000</td>\n",
       "      <td>1.943700e+04</td>\n",
       "      <td>19438.000000</td>\n",
       "      <td>1.943600e+04</td>\n",
       "      <td>19438.000000</td>\n",
       "      <td>19439.000000</td>\n",
       "      <td>19439.000000</td>\n",
       "      <td>19323.000000</td>\n",
       "      <td>19069.000000</td>\n",
       "      <td>19439.000000</td>\n",
       "      <td>19435.000000</td>\n",
       "      <td>19418.000000</td>\n",
       "      <td>19377.000000</td>\n",
       "      <td>19219.000000</td>\n",
       "      <td>19438.000000</td>\n",
       "      <td>19416.000000</td>\n",
       "      <td>19438.000000</td>\n",
       "      <td>19426.000000</td>\n",
       "      <td>19438.000000</td>\n",
       "      <td>19438.000000</td>\n",
       "      <td>19438.000000</td>\n",
       "      <td>19433.000000</td>\n",
       "      <td>19438.000000</td>\n",
       "      <td>19438.000000</td>\n",
       "      <td>19438.000000</td>\n",
       "      <td>19438.000000</td>\n",
       "      <td>19438.000000</td>\n",
       "      <td>19438.000000</td>\n",
       "      <td>19438.000000</td>\n",
       "      <td>19437.000000</td>\n",
       "      <td>19438.000000</td>\n",
       "      <td>19439.000000</td>\n",
       "      <td>19437.000000</td>\n",
       "      <td>19427.000000</td>\n",
       "      <td>17691.000000</td>\n",
       "      <td>19439.000000</td>\n",
       "      <td>19438.000000</td>\n",
       "      <td>19438.000000</td>\n",
       "      <td>19228.000000</td>\n",
       "      <td>19439.000000</td>\n",
       "      <td>19439.000000</td>\n",
       "      <td>19438.000000</td>\n",
       "      <td>19338.000000</td>\n",
       "      <td>19433.000000</td>\n",
       "    </tr>\n",
       "    <tr>\n",
       "      <th>mean</th>\n",
       "      <td>8.266097</td>\n",
       "      <td>8.794927</td>\n",
       "      <td>3.598085</td>\n",
       "      <td>36.695114</td>\n",
       "      <td>478.320042</td>\n",
       "      <td>58.970310</td>\n",
       "      <td>12.334373</td>\n",
       "      <td>6.021474</td>\n",
       "      <td>1105.315068</td>\n",
       "      <td>-376.610690</td>\n",
       "      <td>1320.221139</td>\n",
       "      <td>-467.247826</td>\n",
       "      <td>1299.968799</td>\n",
       "      <td>-467.716946</td>\n",
       "      <td>1211.563299</td>\n",
       "      <td>-468.239912</td>\n",
       "      <td>1080.869685</td>\n",
       "      <td>-466.037742</td>\n",
       "      <td>1025.274256</td>\n",
       "      <td>-466.265327</td>\n",
       "      <td>12.064140</td>\n",
       "      <td>6.065533</td>\n",
       "      <td>4.217119e+04</td>\n",
       "      <td>3393.052498</td>\n",
       "      <td>3256.854171</td>\n",
       "      <td>2.420119</td>\n",
       "      <td>19.772000</td>\n",
       "      <td>11.994759</td>\n",
       "      <td>7.606272</td>\n",
       "      <td>28.805571</td>\n",
       "      <td>83.328587</td>\n",
       "      <td>1.816391</td>\n",
       "      <td>5.588982</td>\n",
       "      <td>0.645782</td>\n",
       "      <td>18.057106</td>\n",
       "      <td>144.624774</td>\n",
       "      <td>8.817039</td>\n",
       "      <td>7.307078</td>\n",
       "      <td>1.021795</td>\n",
       "      <td>1.589354e+03</td>\n",
       "      <td>-491.195012</td>\n",
       "      <td>1.591344e+03</td>\n",
       "      <td>-492.192978</td>\n",
       "      <td>1.586669e+03</td>\n",
       "      <td>-491.980070</td>\n",
       "      <td>1.542912e+03</td>\n",
       "      <td>-488.017382</td>\n",
       "      <td>32.119400</td>\n",
       "      <td>8.442408</td>\n",
       "      <td>9.829530</td>\n",
       "      <td>10.489499</td>\n",
       "      <td>3.914179</td>\n",
       "      <td>16.145826</td>\n",
       "      <td>3.435656</td>\n",
       "      <td>7.973209</td>\n",
       "      <td>28.705564</td>\n",
       "      <td>-502.367331</td>\n",
       "      <td>24.106800</td>\n",
       "      <td>-503.230712</td>\n",
       "      <td>28.199338</td>\n",
       "      <td>-486.203350</td>\n",
       "      <td>22.200645</td>\n",
       "      <td>-493.742107</td>\n",
       "      <td>18.987674</td>\n",
       "      <td>-485.894516</td>\n",
       "      <td>15.010366</td>\n",
       "      <td>-461.078636</td>\n",
       "      <td>15.694452</td>\n",
       "      <td>-488.684065</td>\n",
       "      <td>12.198224</td>\n",
       "      <td>-487.149827</td>\n",
       "      <td>18.959024</td>\n",
       "      <td>-505.436305</td>\n",
       "      <td>4.339625</td>\n",
       "      <td>14.586833</td>\n",
       "      <td>5.777703</td>\n",
       "      <td>7.167247</td>\n",
       "      <td>44.076513</td>\n",
       "      <td>5.168470</td>\n",
       "      <td>9.978895</td>\n",
       "      <td>9.501224</td>\n",
       "      <td>67.050208</td>\n",
       "      <td>3.042467</td>\n",
       "      <td>9.688589</td>\n",
       "      <td>2.705795</td>\n",
       "      <td>10.583728</td>\n",
       "    </tr>\n",
       "    <tr>\n",
       "      <th>std</th>\n",
       "      <td>1.955092</td>\n",
       "      <td>1.936847</td>\n",
       "      <td>1.049486</td>\n",
       "      <td>5.145445</td>\n",
       "      <td>105.373758</td>\n",
       "      <td>21.634478</td>\n",
       "      <td>3.427317</td>\n",
       "      <td>1.127263</td>\n",
       "      <td>160.826798</td>\n",
       "      <td>93.909667</td>\n",
       "      <td>176.287095</td>\n",
       "      <td>54.673142</td>\n",
       "      <td>202.804325</td>\n",
       "      <td>53.534825</td>\n",
       "      <td>204.019326</td>\n",
       "      <td>53.921458</td>\n",
       "      <td>172.149992</td>\n",
       "      <td>57.384424</td>\n",
       "      <td>164.487837</td>\n",
       "      <td>57.850263</td>\n",
       "      <td>3.784221</td>\n",
       "      <td>1.099118</td>\n",
       "      <td>3.243621e+05</td>\n",
       "      <td>4943.845943</td>\n",
       "      <td>5781.423659</td>\n",
       "      <td>0.814935</td>\n",
       "      <td>3.753600</td>\n",
       "      <td>2.733862</td>\n",
       "      <td>1.796757</td>\n",
       "      <td>5.944207</td>\n",
       "      <td>14.148086</td>\n",
       "      <td>0.680046</td>\n",
       "      <td>1.111288</td>\n",
       "      <td>0.251526</td>\n",
       "      <td>3.449218</td>\n",
       "      <td>44.464071</td>\n",
       "      <td>3.286186</td>\n",
       "      <td>0.613509</td>\n",
       "      <td>0.513254</td>\n",
       "      <td>1.289968e+02</td>\n",
       "      <td>32.431842</td>\n",
       "      <td>1.318109e+02</td>\n",
       "      <td>33.794822</td>\n",
       "      <td>1.361114e+02</td>\n",
       "      <td>32.711455</td>\n",
       "      <td>2.461996e+02</td>\n",
       "      <td>43.959780</td>\n",
       "      <td>5.627611</td>\n",
       "      <td>2.054465</td>\n",
       "      <td>2.556843</td>\n",
       "      <td>3.909639</td>\n",
       "      <td>1.593034</td>\n",
       "      <td>3.548598</td>\n",
       "      <td>1.392536</td>\n",
       "      <td>2.212677</td>\n",
       "      <td>5.458789</td>\n",
       "      <td>53.571950</td>\n",
       "      <td>5.749616</td>\n",
       "      <td>56.567724</td>\n",
       "      <td>6.134908</td>\n",
       "      <td>54.412349</td>\n",
       "      <td>5.574001</td>\n",
       "      <td>43.372158</td>\n",
       "      <td>5.411058</td>\n",
       "      <td>47.758570</td>\n",
       "      <td>4.890228</td>\n",
       "      <td>67.405524</td>\n",
       "      <td>5.510974</td>\n",
       "      <td>34.533396</td>\n",
       "      <td>5.333024</td>\n",
       "      <td>38.347312</td>\n",
       "      <td>5.550498</td>\n",
       "      <td>37.689057</td>\n",
       "      <td>2.326751</td>\n",
       "      <td>4.265202</td>\n",
       "      <td>2.774598</td>\n",
       "      <td>3.916079</td>\n",
       "      <td>5.129784</td>\n",
       "      <td>1.372348</td>\n",
       "      <td>1.669240</td>\n",
       "      <td>2.787537</td>\n",
       "      <td>10.125840</td>\n",
       "      <td>0.922808</td>\n",
       "      <td>2.328642</td>\n",
       "      <td>0.949077</td>\n",
       "      <td>2.868782</td>\n",
       "    </tr>\n",
       "    <tr>\n",
       "      <th>min</th>\n",
       "      <td>0.010000</td>\n",
       "      <td>0.010000</td>\n",
       "      <td>0.010000</td>\n",
       "      <td>0.010000</td>\n",
       "      <td>0.002986</td>\n",
       "      <td>0.046369</td>\n",
       "      <td>0.001083</td>\n",
       "      <td>0.000568</td>\n",
       "      <td>-0.042069</td>\n",
       "      <td>-657.949759</td>\n",
       "      <td>-0.721806</td>\n",
       "      <td>-650.260008</td>\n",
       "      <td>-0.056636</td>\n",
       "      <td>-647.544439</td>\n",
       "      <td>-0.992219</td>\n",
       "      <td>-648.390665</td>\n",
       "      <td>-1.982295</td>\n",
       "      <td>-649.443911</td>\n",
       "      <td>-2.593390</td>\n",
       "      <td>-649.949283</td>\n",
       "      <td>0.000077</td>\n",
       "      <td>0.000290</td>\n",
       "      <td>-4.223520e+07</td>\n",
       "      <td>-486.598675</td>\n",
       "      <td>-264.982785</td>\n",
       "      <td>-0.010548</td>\n",
       "      <td>0.000000</td>\n",
       "      <td>0.000000</td>\n",
       "      <td>0.000000</td>\n",
       "      <td>0.000000</td>\n",
       "      <td>0.000000</td>\n",
       "      <td>0.020676</td>\n",
       "      <td>0.594562</td>\n",
       "      <td>0.007566</td>\n",
       "      <td>10.014648</td>\n",
       "      <td>0.003112</td>\n",
       "      <td>0.000000</td>\n",
       "      <td>1.080000</td>\n",
       "      <td>0.000005</td>\n",
       "      <td>5.445860e-32</td>\n",
       "      <td>-798.641662</td>\n",
       "      <td>6.647490e-32</td>\n",
       "      <td>-799.997015</td>\n",
       "      <td>4.033736e-32</td>\n",
       "      <td>-799.960571</td>\n",
       "      <td>4.039220e-32</td>\n",
       "      <td>-799.794250</td>\n",
       "      <td>0.000000</td>\n",
       "      <td>0.000000</td>\n",
       "      <td>0.000000</td>\n",
       "      <td>0.000000</td>\n",
       "      <td>0.000000</td>\n",
       "      <td>0.000000</td>\n",
       "      <td>0.000000</td>\n",
       "      <td>0.000000</td>\n",
       "      <td>0.077503</td>\n",
       "      <td>-799.606441</td>\n",
       "      <td>0.000000</td>\n",
       "      <td>-799.873878</td>\n",
       "      <td>0.000000</td>\n",
       "      <td>-799.755798</td>\n",
       "      <td>0.000000</td>\n",
       "      <td>-809.333008</td>\n",
       "      <td>0.000000</td>\n",
       "      <td>-799.798523</td>\n",
       "      <td>0.000000</td>\n",
       "      <td>-800.836914</td>\n",
       "      <td>-0.372054</td>\n",
       "      <td>-797.323986</td>\n",
       "      <td>0.528083</td>\n",
       "      <td>-800.220337</td>\n",
       "      <td>-0.079426</td>\n",
       "      <td>-809.741464</td>\n",
       "      <td>0.000000</td>\n",
       "      <td>0.000000</td>\n",
       "      <td>0.000000</td>\n",
       "      <td>0.000000</td>\n",
       "      <td>0.000000</td>\n",
       "      <td>0.000000</td>\n",
       "      <td>0.000000</td>\n",
       "      <td>0.000000</td>\n",
       "      <td>0.000000</td>\n",
       "      <td>0.000000</td>\n",
       "      <td>0.000000</td>\n",
       "      <td>0.000000</td>\n",
       "      <td>0.000000</td>\n",
       "    </tr>\n",
       "    <tr>\n",
       "      <th>25%</th>\n",
       "      <td>6.854384</td>\n",
       "      <td>7.237967</td>\n",
       "      <td>2.887280</td>\n",
       "      <td>34.207799</td>\n",
       "      <td>416.525453</td>\n",
       "      <td>47.435103</td>\n",
       "      <td>10.000362</td>\n",
       "      <td>5.398678</td>\n",
       "      <td>999.661867</td>\n",
       "      <td>-499.835165</td>\n",
       "      <td>1199.626115</td>\n",
       "      <td>-500.201130</td>\n",
       "      <td>1151.076301</td>\n",
       "      <td>-500.217218</td>\n",
       "      <td>1061.051788</td>\n",
       "      <td>-500.386386</td>\n",
       "      <td>998.675263</td>\n",
       "      <td>-500.232191</td>\n",
       "      <td>900.995511</td>\n",
       "      <td>-500.522553</td>\n",
       "      <td>9.998460</td>\n",
       "      <td>5.402368</td>\n",
       "      <td>4.070095e+04</td>\n",
       "      <td>2611.425833</td>\n",
       "      <td>2551.437587</td>\n",
       "      <td>2.035434</td>\n",
       "      <td>18.802523</td>\n",
       "      <td>10.628337</td>\n",
       "      <td>6.725987</td>\n",
       "      <td>27.224120</td>\n",
       "      <td>81.037957</td>\n",
       "      <td>1.404207</td>\n",
       "      <td>4.889892</td>\n",
       "      <td>0.477728</td>\n",
       "      <td>15.822525</td>\n",
       "      <td>114.107029</td>\n",
       "      <td>6.076909</td>\n",
       "      <td>6.940000</td>\n",
       "      <td>0.697224</td>\n",
       "      <td>1.505063e+03</td>\n",
       "      <td>-500.308544</td>\n",
       "      <td>1.503630e+03</td>\n",
       "      <td>-500.437171</td>\n",
       "      <td>1.500927e+03</td>\n",
       "      <td>-500.703932</td>\n",
       "      <td>1.494219e+03</td>\n",
       "      <td>-500.458365</td>\n",
       "      <td>30.463140</td>\n",
       "      <td>7.263288</td>\n",
       "      <td>8.702328</td>\n",
       "      <td>7.893893</td>\n",
       "      <td>2.924844</td>\n",
       "      <td>14.017742</td>\n",
       "      <td>2.504365</td>\n",
       "      <td>6.747483</td>\n",
       "      <td>25.048462</td>\n",
       "      <td>-500.233700</td>\n",
       "      <td>20.919853</td>\n",
       "      <td>-500.253794</td>\n",
       "      <td>24.949227</td>\n",
       "      <td>-500.213546</td>\n",
       "      <td>18.995924</td>\n",
       "      <td>-500.123034</td>\n",
       "      <td>14.975734</td>\n",
       "      <td>-500.704892</td>\n",
       "      <td>11.940294</td>\n",
       "      <td>-500.187742</td>\n",
       "      <td>10.988606</td>\n",
       "      <td>-500.458467</td>\n",
       "      <td>8.971105</td>\n",
       "      <td>-500.129462</td>\n",
       "      <td>14.983037</td>\n",
       "      <td>-500.728067</td>\n",
       "      <td>3.182770</td>\n",
       "      <td>12.640239</td>\n",
       "      <td>3.864733</td>\n",
       "      <td>3.845475</td>\n",
       "      <td>43.402215</td>\n",
       "      <td>4.251240</td>\n",
       "      <td>9.137262</td>\n",
       "      <td>7.722820</td>\n",
       "      <td>63.299712</td>\n",
       "      <td>2.461138</td>\n",
       "      <td>8.062878</td>\n",
       "      <td>2.040119</td>\n",
       "      <td>8.938947</td>\n",
       "    </tr>\n",
       "    <tr>\n",
       "      <th>50%</th>\n",
       "      <td>8.125839</td>\n",
       "      <td>8.593574</td>\n",
       "      <td>3.534895</td>\n",
       "      <td>37.202650</td>\n",
       "      <td>499.416120</td>\n",
       "      <td>54.610197</td>\n",
       "      <td>12.001174</td>\n",
       "      <td>6.008273</td>\n",
       "      <td>1001.072890</td>\n",
       "      <td>-300.263994</td>\n",
       "      <td>1301.579988</td>\n",
       "      <td>-499.784045</td>\n",
       "      <td>1300.211537</td>\n",
       "      <td>-499.713364</td>\n",
       "      <td>1201.569141</td>\n",
       "      <td>-499.532412</td>\n",
       "      <td>1050.029461</td>\n",
       "      <td>-499.663089</td>\n",
       "      <td>999.924821</td>\n",
       "      <td>-499.471777</td>\n",
       "      <td>12.000204</td>\n",
       "      <td>6.098580</td>\n",
       "      <td>4.469648e+04</td>\n",
       "      <td>3018.353876</td>\n",
       "      <td>2997.218088</td>\n",
       "      <td>2.309665</td>\n",
       "      <td>20.280214</td>\n",
       "      <td>12.098115</td>\n",
       "      <td>7.742580</td>\n",
       "      <td>29.835345</td>\n",
       "      <td>86.188892</td>\n",
       "      <td>1.808170</td>\n",
       "      <td>5.765802</td>\n",
       "      <td>0.617465</td>\n",
       "      <td>18.106867</td>\n",
       "      <td>143.232103</td>\n",
       "      <td>8.038311</td>\n",
       "      <td>7.280000</td>\n",
       "      <td>0.940863</td>\n",
       "      <td>1.600597e+03</td>\n",
       "      <td>-499.926134</td>\n",
       "      <td>1.600521e+03</td>\n",
       "      <td>-499.956767</td>\n",
       "      <td>1.600254e+03</td>\n",
       "      <td>-499.909524</td>\n",
       "      <td>1.599447e+03</td>\n",
       "      <td>-499.905974</td>\n",
       "      <td>32.841295</td>\n",
       "      <td>8.507298</td>\n",
       "      <td>10.152433</td>\n",
       "      <td>10.314632</td>\n",
       "      <td>3.623234</td>\n",
       "      <td>15.842836</td>\n",
       "      <td>3.271153</td>\n",
       "      <td>8.183673</td>\n",
       "      <td>29.099943</td>\n",
       "      <td>-499.973250</td>\n",
       "      <td>25.043289</td>\n",
       "      <td>-500.015439</td>\n",
       "      <td>27.982129</td>\n",
       "      <td>-499.930680</td>\n",
       "      <td>22.011231</td>\n",
       "      <td>-499.981902</td>\n",
       "      <td>18.017481</td>\n",
       "      <td>-499.837793</td>\n",
       "      <td>14.971014</td>\n",
       "      <td>-499.459786</td>\n",
       "      <td>15.000036</td>\n",
       "      <td>-499.802605</td>\n",
       "      <td>11.019433</td>\n",
       "      <td>-499.935317</td>\n",
       "      <td>19.960541</td>\n",
       "      <td>-500.048400</td>\n",
       "      <td>4.072412</td>\n",
       "      <td>15.641902</td>\n",
       "      <td>5.344073</td>\n",
       "      <td>7.685827</td>\n",
       "      <td>45.011244</td>\n",
       "      <td>5.066094</td>\n",
       "      <td>10.102433</td>\n",
       "      <td>9.218961</td>\n",
       "      <td>68.172738</td>\n",
       "      <td>2.984909</td>\n",
       "      <td>9.743623</td>\n",
       "      <td>2.748730</td>\n",
       "      <td>10.622456</td>\n",
       "    </tr>\n",
       "    <tr>\n",
       "      <th>75%</th>\n",
       "      <td>9.769917</td>\n",
       "      <td>10.213771</td>\n",
       "      <td>4.244161</td>\n",
       "      <td>40.039133</td>\n",
       "      <td>550.172183</td>\n",
       "      <td>65.023044</td>\n",
       "      <td>14.716595</td>\n",
       "      <td>6.798051</td>\n",
       "      <td>1205.620588</td>\n",
       "      <td>-299.981998</td>\n",
       "      <td>1448.630789</td>\n",
       "      <td>-400.615589</td>\n",
       "      <td>1449.464001</td>\n",
       "      <td>-400.985743</td>\n",
       "      <td>1352.880320</td>\n",
       "      <td>-401.638550</td>\n",
       "      <td>1199.425140</td>\n",
       "      <td>-401.161191</td>\n",
       "      <td>1099.719692</td>\n",
       "      <td>-401.511042</td>\n",
       "      <td>14.636766</td>\n",
       "      <td>6.801233</td>\n",
       "      <td>4.816821e+04</td>\n",
       "      <td>3676.769750</td>\n",
       "      <td>3601.998911</td>\n",
       "      <td>2.731794</td>\n",
       "      <td>21.717843</td>\n",
       "      <td>13.736996</td>\n",
       "      <td>8.565199</td>\n",
       "      <td>32.189933</td>\n",
       "      <td>90.010670</td>\n",
       "      <td>2.211861</td>\n",
       "      <td>6.389234</td>\n",
       "      <td>0.778271</td>\n",
       "      <td>20.088151</td>\n",
       "      <td>175.075656</td>\n",
       "      <td>11.013521</td>\n",
       "      <td>7.670000</td>\n",
       "      <td>1.210990</td>\n",
       "      <td>1.697658e+03</td>\n",
       "      <td>-499.433950</td>\n",
       "      <td>1.699218e+03</td>\n",
       "      <td>-499.373336</td>\n",
       "      <td>1.699483e+03</td>\n",
       "      <td>-498.857643</td>\n",
       "      <td>1.698525e+03</td>\n",
       "      <td>-499.064695</td>\n",
       "      <td>35.048006</td>\n",
       "      <td>9.809001</td>\n",
       "      <td>11.424971</td>\n",
       "      <td>13.446702</td>\n",
       "      <td>4.585705</td>\n",
       "      <td>18.013975</td>\n",
       "      <td>4.181748</td>\n",
       "      <td>9.548586</td>\n",
       "      <td>33.012536</td>\n",
       "      <td>-499.671261</td>\n",
       "      <td>28.008197</td>\n",
       "      <td>-499.785698</td>\n",
       "      <td>33.002798</td>\n",
       "      <td>-499.325739</td>\n",
       "      <td>25.998206</td>\n",
       "      <td>-499.812834</td>\n",
       "      <td>23.012470</td>\n",
       "      <td>-498.249730</td>\n",
       "      <td>19.034162</td>\n",
       "      <td>-400.118106</td>\n",
       "      <td>18.026190</td>\n",
       "      <td>-498.384187</td>\n",
       "      <td>14.019088</td>\n",
       "      <td>-499.436708</td>\n",
       "      <td>24.003170</td>\n",
       "      <td>-499.495378</td>\n",
       "      <td>5.063081</td>\n",
       "      <td>17.358217</td>\n",
       "      <td>7.788467</td>\n",
       "      <td>10.411296</td>\n",
       "      <td>46.275313</td>\n",
       "      <td>5.895527</td>\n",
       "      <td>11.035769</td>\n",
       "      <td>10.947813</td>\n",
       "      <td>72.686642</td>\n",
       "      <td>3.571351</td>\n",
       "      <td>11.134294</td>\n",
       "      <td>3.333216</td>\n",
       "      <td>12.104271</td>\n",
       "    </tr>\n",
       "    <tr>\n",
       "      <th>max</th>\n",
       "      <td>13.731330</td>\n",
       "      <td>14.596026</td>\n",
       "      <td>7.142594</td>\n",
       "      <td>53.477742</td>\n",
       "      <td>717.508837</td>\n",
       "      <td>484.967466</td>\n",
       "      <td>36.118275</td>\n",
       "      <td>9.703448</td>\n",
       "      <td>1521.980372</td>\n",
       "      <td>-273.776101</td>\n",
       "      <td>1809.194008</td>\n",
       "      <td>-296.383080</td>\n",
       "      <td>2499.129174</td>\n",
       "      <td>-292.155509</td>\n",
       "      <td>1817.199290</td>\n",
       "      <td>-76.397327</td>\n",
       "      <td>1922.636637</td>\n",
       "      <td>-139.753025</td>\n",
       "      <td>1706.307502</td>\n",
       "      <td>-191.718480</td>\n",
       "      <td>37.980648</td>\n",
       "      <td>9.698407</td>\n",
       "      <td>3.428099e+06</td>\n",
       "      <td>629638.977914</td>\n",
       "      <td>718684.955855</td>\n",
       "      <td>39.379272</td>\n",
       "      <td>28.824507</td>\n",
       "      <td>24.480271</td>\n",
       "      <td>13.617072</td>\n",
       "      <td>38.351193</td>\n",
       "      <td>100.000000</td>\n",
       "      <td>9.688980</td>\n",
       "      <td>12.719177</td>\n",
       "      <td>3.778064</td>\n",
       "      <td>66.117188</td>\n",
       "      <td>265.983123</td>\n",
       "      <td>40.000000</td>\n",
       "      <td>15.500000</td>\n",
       "      <td>4.102454</td>\n",
       "      <td>2.103104e+03</td>\n",
       "      <td>-57.195404</td>\n",
       "      <td>2.114907e+03</td>\n",
       "      <td>-142.527229</td>\n",
       "      <td>2.013156e+03</td>\n",
       "      <td>-150.937035</td>\n",
       "      <td>2.398904e+03</td>\n",
       "      <td>-30.601828</td>\n",
       "      <td>45.933934</td>\n",
       "      <td>16.081632</td>\n",
       "      <td>17.081278</td>\n",
       "      <td>22.458114</td>\n",
       "      <td>17.788925</td>\n",
       "      <td>29.459575</td>\n",
       "      <td>9.634565</td>\n",
       "      <td>22.276364</td>\n",
       "      <td>52.651399</td>\n",
       "      <td>-127.875565</td>\n",
       "      <td>35.152122</td>\n",
       "      <td>-211.999273</td>\n",
       "      <td>44.260464</td>\n",
       "      <td>-191.678810</td>\n",
       "      <td>35.072841</td>\n",
       "      <td>-159.742331</td>\n",
       "      <td>30.115735</td>\n",
       "      <td>-245.239184</td>\n",
       "      <td>31.269706</td>\n",
       "      <td>-6.506986</td>\n",
       "      <td>43.709931</td>\n",
       "      <td>-244.483566</td>\n",
       "      <td>27.926001</td>\n",
       "      <td>-137.740004</td>\n",
       "      <td>32.188906</td>\n",
       "      <td>-104.427459</td>\n",
       "      <td>26.811643</td>\n",
       "      <td>23.264738</td>\n",
       "      <td>17.042505</td>\n",
       "      <td>26.000772</td>\n",
       "      <td>52.756638</td>\n",
       "      <td>16.001945</td>\n",
       "      <td>17.031899</td>\n",
       "      <td>19.615720</td>\n",
       "      <td>100.000000</td>\n",
       "      <td>8.245022</td>\n",
       "      <td>19.552149</td>\n",
       "      <td>5.804178</td>\n",
       "      <td>22.317730</td>\n",
       "    </tr>\n",
       "  </tbody>\n",
       "</table>\n",
       "</div>"
      ],
      "text/plain": [
       "       rougher.input.feed_au  rougher.input.feed_ag  rougher.input.feed_pb  \\\n",
       "count           19439.000000           19439.000000           19339.000000   \n",
       "mean                8.266097               8.794927               3.598085   \n",
       "std                 1.955092               1.936847               1.049486   \n",
       "min                 0.010000               0.010000               0.010000   \n",
       "25%                 6.854384               7.237967               2.887280   \n",
       "50%                 8.125839               8.593574               3.534895   \n",
       "75%                 9.769917              10.213771               4.244161   \n",
       "max                13.731330              14.596026               7.142594   \n",
       "\n",
       "       rougher.input.feed_sol  rougher.input.feed_rate  \\\n",
       "count            19340.000000             19428.000000   \n",
       "mean                36.695114               478.320042   \n",
       "std                  5.145445               105.373758   \n",
       "min                  0.010000                 0.002986   \n",
       "25%                 34.207799               416.525453   \n",
       "50%                 37.202650               499.416120   \n",
       "75%                 40.039133               550.172183   \n",
       "max                 53.477742               717.508837   \n",
       "\n",
       "       rougher.input.feed_size  rougher.input.floatbank10_sulfate  \\\n",
       "count             19294.000000                       19405.000000   \n",
       "mean                 58.970310                          12.334373   \n",
       "std                  21.634478                           3.427317   \n",
       "min                   0.046369                           0.001083   \n",
       "25%                  47.435103                          10.000362   \n",
       "50%                  54.610197                          12.001174   \n",
       "75%                  65.023044                          14.716595   \n",
       "max                 484.967466                          36.118275   \n",
       "\n",
       "       rougher.input.floatbank10_xanthate  rougher.state.floatbank10_a_air  \\\n",
       "count                        19431.000000                     19438.000000   \n",
       "mean                             6.021474                      1105.315068   \n",
       "std                              1.127263                       160.826798   \n",
       "min                              0.000568                        -0.042069   \n",
       "25%                              5.398678                       999.661867   \n",
       "50%                              6.008273                      1001.072890   \n",
       "75%                              6.798051                      1205.620588   \n",
       "max                              9.703448                      1521.980372   \n",
       "\n",
       "       rougher.state.floatbank10_a_level  rougher.state.floatbank10_b_air  \\\n",
       "count                       19438.000000                     19438.000000   \n",
       "mean                         -376.610690                      1320.221139   \n",
       "std                            93.909667                       176.287095   \n",
       "min                          -657.949759                        -0.721806   \n",
       "25%                          -499.835165                      1199.626115   \n",
       "50%                          -300.263994                      1301.579988   \n",
       "75%                          -299.981998                      1448.630789   \n",
       "max                          -273.776101                      1809.194008   \n",
       "\n",
       "       rougher.state.floatbank10_b_level  rougher.state.floatbank10_c_air  \\\n",
       "count                       19438.000000                     19438.000000   \n",
       "mean                         -467.247826                      1299.968799   \n",
       "std                            54.673142                       202.804325   \n",
       "min                          -650.260008                        -0.056636   \n",
       "25%                          -500.201130                      1151.076301   \n",
       "50%                          -499.784045                      1300.211537   \n",
       "75%                          -400.615589                      1449.464001   \n",
       "max                          -296.383080                      2499.129174   \n",
       "\n",
       "       rougher.state.floatbank10_c_level  rougher.state.floatbank10_d_air  \\\n",
       "count                       19438.000000                     19439.000000   \n",
       "mean                         -467.716946                      1211.563299   \n",
       "std                            53.534825                       204.019326   \n",
       "min                          -647.544439                        -0.992219   \n",
       "25%                          -500.217218                      1061.051788   \n",
       "50%                          -499.713364                      1201.569141   \n",
       "75%                          -400.985743                      1352.880320   \n",
       "max                          -292.155509                      1817.199290   \n",
       "\n",
       "       rougher.state.floatbank10_d_level  rougher.state.floatbank10_e_air  \\\n",
       "count                       19439.000000                     19003.000000   \n",
       "mean                         -468.239912                      1080.869685   \n",
       "std                            53.921458                       172.149992   \n",
       "min                          -648.390665                        -1.982295   \n",
       "25%                          -500.386386                       998.675263   \n",
       "50%                          -499.532412                      1050.029461   \n",
       "75%                          -401.638550                      1199.425140   \n",
       "max                           -76.397327                      1922.636637   \n",
       "\n",
       "       rougher.state.floatbank10_e_level  rougher.state.floatbank10_f_air  \\\n",
       "count                       19439.000000                     19439.000000   \n",
       "mean                         -466.037742                      1025.274256   \n",
       "std                            57.384424                       164.487837   \n",
       "min                          -649.443911                        -2.593390   \n",
       "25%                          -500.232191                       900.995511   \n",
       "50%                          -499.663089                       999.924821   \n",
       "75%                          -401.161191                      1099.719692   \n",
       "max                          -139.753025                      1706.307502   \n",
       "\n",
       "       rougher.state.floatbank10_f_level  rougher.input.floatbank11_sulfate  \\\n",
       "count                       19439.000000                       19395.000000   \n",
       "mean                         -466.265327                          12.064140   \n",
       "std                            57.850263                           3.784221   \n",
       "min                          -649.949283                           0.000077   \n",
       "25%                          -500.522553                           9.998460   \n",
       "50%                          -499.471777                          12.000204   \n",
       "75%                          -401.511042                          14.636766   \n",
       "max                          -191.718480                          37.980648   \n",
       "\n",
       "       rougher.input.floatbank11_xanthate  \\\n",
       "count                        18986.000000   \n",
       "mean                             6.065533   \n",
       "std                              1.099118   \n",
       "min                              0.000290   \n",
       "25%                              5.402368   \n",
       "50%                              6.098580   \n",
       "75%                              6.801233   \n",
       "max                              9.698407   \n",
       "\n",
       "       rougher.calculation.sulfate_to_au_concentrate  \\\n",
       "count                                   1.943700e+04   \n",
       "mean                                    4.217119e+04   \n",
       "std                                     3.243621e+05   \n",
       "min                                    -4.223520e+07   \n",
       "25%                                     4.070095e+04   \n",
       "50%                                     4.469648e+04   \n",
       "75%                                     4.816821e+04   \n",
       "max                                     3.428099e+06   \n",
       "\n",
       "       rougher.calculation.floatbank10_sulfate_to_au_feed  \\\n",
       "count                                       19437.000000    \n",
       "mean                                         3393.052498    \n",
       "std                                          4943.845943    \n",
       "min                                          -486.598675    \n",
       "25%                                          2611.425833    \n",
       "50%                                          3018.353876    \n",
       "75%                                          3676.769750    \n",
       "max                                        629638.977914    \n",
       "\n",
       "       rougher.calculation.floatbank11_sulfate_to_au_feed  \\\n",
       "count                                       19437.000000    \n",
       "mean                                         3256.854171    \n",
       "std                                          5781.423659    \n",
       "min                                          -264.982785    \n",
       "25%                                          2551.437587    \n",
       "50%                                          2997.218088    \n",
       "75%                                          3601.998911    \n",
       "max                                        718684.955855    \n",
       "\n",
       "       rougher.calculation.au_pb_ratio  rougher.output.concentrate_au  \\\n",
       "count                     19439.000000                   19439.000000   \n",
       "mean                          2.420119                      19.772000   \n",
       "std                           0.814935                       3.753600   \n",
       "min                          -0.010548                       0.000000   \n",
       "25%                           2.035434                      18.802523   \n",
       "50%                           2.309665                      20.280214   \n",
       "75%                           2.731794                      21.717843   \n",
       "max                          39.379272                      28.824507   \n",
       "\n",
       "       rougher.output.concentrate_ag  rougher.output.concentrate_pb  \\\n",
       "count                   19439.000000                   19439.000000   \n",
       "mean                       11.994759                       7.606272   \n",
       "std                         2.733862                       1.796757   \n",
       "min                         0.000000                       0.000000   \n",
       "25%                        10.628337                       6.725987   \n",
       "50%                        12.098115                       7.742580   \n",
       "75%                        13.736996                       8.565199   \n",
       "max                        24.480271                      13.617072   \n",
       "\n",
       "       rougher.output.concentrate_sol  rougher.output.recovery  \\\n",
       "count                    19416.000000             19439.000000   \n",
       "mean                        28.805571                83.328587   \n",
       "std                          5.944207                14.148086   \n",
       "min                          0.000000                 0.000000   \n",
       "25%                         27.224120                81.037957   \n",
       "50%                         29.835345                86.188892   \n",
       "75%                         32.189933                90.010670   \n",
       "max                         38.351193               100.000000   \n",
       "\n",
       "       rougher.output.tail_au  rougher.output.tail_ag  rougher.output.tail_pb  \\\n",
       "count            19439.000000            19438.000000            19439.000000   \n",
       "mean                 1.816391                5.588982                0.645782   \n",
       "std                  0.680046                1.111288                0.251526   \n",
       "min                  0.020676                0.594562                0.007566   \n",
       "25%                  1.404207                4.889892                0.477728   \n",
       "50%                  1.808170                5.765802                0.617465   \n",
       "75%                  2.211861                6.389234                0.778271   \n",
       "max                  9.688980               12.719177                3.778064   \n",
       "\n",
       "       rougher.output.tail_sol  primary_cleaner.input.sulfate  \\\n",
       "count             19439.000000                   19415.000000   \n",
       "mean                 18.057106                     144.624774   \n",
       "std                   3.449218                      44.464071   \n",
       "min                  10.014648                       0.003112   \n",
       "25%                  15.822525                     114.107029   \n",
       "50%                  18.106867                     143.232103   \n",
       "75%                  20.088151                     175.075656   \n",
       "max                  66.117188                     265.983123   \n",
       "\n",
       "       primary_cleaner.input.depressant  primary_cleaner.input.feed_size  \\\n",
       "count                      19402.000000                     19439.000000   \n",
       "mean                           8.817039                         7.307078   \n",
       "std                            3.286186                         0.613509   \n",
       "min                            0.000000                         1.080000   \n",
       "25%                            6.076909                         6.940000   \n",
       "50%                            8.038311                         7.280000   \n",
       "75%                           11.013521                         7.670000   \n",
       "max                           40.000000                        15.500000   \n",
       "\n",
       "       primary_cleaner.input.xanthate  primary_cleaner.state.floatbank8_a_air  \\\n",
       "count                    19335.000000                            1.943500e+04   \n",
       "mean                         1.021795                            1.589354e+03   \n",
       "std                          0.513254                            1.289968e+02   \n",
       "min                          0.000005                            5.445860e-32   \n",
       "25%                          0.697224                            1.505063e+03   \n",
       "50%                          0.940863                            1.600597e+03   \n",
       "75%                          1.210990                            1.697658e+03   \n",
       "max                          4.102454                            2.103104e+03   \n",
       "\n",
       "       primary_cleaner.state.floatbank8_a_level  \\\n",
       "count                              19438.000000   \n",
       "mean                                -491.195012   \n",
       "std                                   32.431842   \n",
       "min                                 -798.641662   \n",
       "25%                                 -500.308544   \n",
       "50%                                 -499.926134   \n",
       "75%                                 -499.433950   \n",
       "max                                  -57.195404   \n",
       "\n",
       "       primary_cleaner.state.floatbank8_b_air  \\\n",
       "count                            1.943500e+04   \n",
       "mean                             1.591344e+03   \n",
       "std                              1.318109e+02   \n",
       "min                              6.647490e-32   \n",
       "25%                              1.503630e+03   \n",
       "50%                              1.600521e+03   \n",
       "75%                              1.699218e+03   \n",
       "max                              2.114907e+03   \n",
       "\n",
       "       primary_cleaner.state.floatbank8_b_level  \\\n",
       "count                              19438.000000   \n",
       "mean                                -492.192978   \n",
       "std                                   33.794822   \n",
       "min                                 -799.997015   \n",
       "25%                                 -500.437171   \n",
       "50%                                 -499.956767   \n",
       "75%                                 -499.373336   \n",
       "max                                 -142.527229   \n",
       "\n",
       "       primary_cleaner.state.floatbank8_c_air  \\\n",
       "count                            1.943700e+04   \n",
       "mean                             1.586669e+03   \n",
       "std                              1.361114e+02   \n",
       "min                              4.033736e-32   \n",
       "25%                              1.500927e+03   \n",
       "50%                              1.600254e+03   \n",
       "75%                              1.699483e+03   \n",
       "max                              2.013156e+03   \n",
       "\n",
       "       primary_cleaner.state.floatbank8_c_level  \\\n",
       "count                              19438.000000   \n",
       "mean                                -491.980070   \n",
       "std                                   32.711455   \n",
       "min                                 -799.960571   \n",
       "25%                                 -500.703932   \n",
       "50%                                 -499.909524   \n",
       "75%                                 -498.857643   \n",
       "max                                 -150.937035   \n",
       "\n",
       "       primary_cleaner.state.floatbank8_d_air  \\\n",
       "count                            1.943600e+04   \n",
       "mean                             1.542912e+03   \n",
       "std                              2.461996e+02   \n",
       "min                              4.039220e-32   \n",
       "25%                              1.494219e+03   \n",
       "50%                              1.599447e+03   \n",
       "75%                              1.698525e+03   \n",
       "max                              2.398904e+03   \n",
       "\n",
       "       primary_cleaner.state.floatbank8_d_level  \\\n",
       "count                              19438.000000   \n",
       "mean                                -488.017382   \n",
       "std                                   43.959780   \n",
       "min                                 -799.794250   \n",
       "25%                                 -500.458365   \n",
       "50%                                 -499.905974   \n",
       "75%                                 -499.064695   \n",
       "max                                  -30.601828   \n",
       "\n",
       "       primary_cleaner.output.concentrate_au  \\\n",
       "count                           19439.000000   \n",
       "mean                               32.119400   \n",
       "std                                 5.627611   \n",
       "min                                 0.000000   \n",
       "25%                                30.463140   \n",
       "50%                                32.841295   \n",
       "75%                                35.048006   \n",
       "max                                45.933934   \n",
       "\n",
       "       primary_cleaner.output.concentrate_ag  \\\n",
       "count                           19439.000000   \n",
       "mean                                8.442408   \n",
       "std                                 2.054465   \n",
       "min                                 0.000000   \n",
       "25%                                 7.263288   \n",
       "50%                                 8.507298   \n",
       "75%                                 9.809001   \n",
       "max                                16.081632   \n",
       "\n",
       "       primary_cleaner.output.concentrate_pb  \\\n",
       "count                           19323.000000   \n",
       "mean                                9.829530   \n",
       "std                                 2.556843   \n",
       "min                                 0.000000   \n",
       "25%                                 8.702328   \n",
       "50%                                10.152433   \n",
       "75%                                11.424971   \n",
       "max                                17.081278   \n",
       "\n",
       "       primary_cleaner.output.concentrate_sol  primary_cleaner.output.tail_au  \\\n",
       "count                            19069.000000                    19439.000000   \n",
       "mean                                10.489499                        3.914179   \n",
       "std                                  3.909639                        1.593034   \n",
       "min                                  0.000000                        0.000000   \n",
       "25%                                  7.893893                        2.924844   \n",
       "50%                                 10.314632                        3.623234   \n",
       "75%                                 13.446702                        4.585705   \n",
       "max                                 22.458114                       17.788925   \n",
       "\n",
       "       primary_cleaner.output.tail_ag  primary_cleaner.output.tail_pb  \\\n",
       "count                    19435.000000                    19418.000000   \n",
       "mean                        16.145826                        3.435656   \n",
       "std                          3.548598                        1.392536   \n",
       "min                          0.000000                        0.000000   \n",
       "25%                         14.017742                        2.504365   \n",
       "50%                         15.842836                        3.271153   \n",
       "75%                         18.013975                        4.181748   \n",
       "max                         29.459575                        9.634565   \n",
       "\n",
       "       primary_cleaner.output.tail_sol  \\\n",
       "count                     19377.000000   \n",
       "mean                          7.973209   \n",
       "std                           2.212677   \n",
       "min                           0.000000   \n",
       "25%                           6.747483   \n",
       "50%                           8.183673   \n",
       "75%                           9.548586   \n",
       "max                          22.276364   \n",
       "\n",
       "       secondary_cleaner.state.floatbank2_a_air  \\\n",
       "count                              19219.000000   \n",
       "mean                                  28.705564   \n",
       "std                                    5.458789   \n",
       "min                                    0.077503   \n",
       "25%                                   25.048462   \n",
       "50%                                   29.099943   \n",
       "75%                                   33.012536   \n",
       "max                                   52.651399   \n",
       "\n",
       "       secondary_cleaner.state.floatbank2_a_level  \\\n",
       "count                                19438.000000   \n",
       "mean                                  -502.367331   \n",
       "std                                     53.571950   \n",
       "min                                   -799.606441   \n",
       "25%                                   -500.233700   \n",
       "50%                                   -499.973250   \n",
       "75%                                   -499.671261   \n",
       "max                                   -127.875565   \n",
       "\n",
       "       secondary_cleaner.state.floatbank2_b_air  \\\n",
       "count                              19416.000000   \n",
       "mean                                  24.106800   \n",
       "std                                    5.749616   \n",
       "min                                    0.000000   \n",
       "25%                                   20.919853   \n",
       "50%                                   25.043289   \n",
       "75%                                   28.008197   \n",
       "max                                   35.152122   \n",
       "\n",
       "       secondary_cleaner.state.floatbank2_b_level  \\\n",
       "count                                19438.000000   \n",
       "mean                                  -503.230712   \n",
       "std                                     56.567724   \n",
       "min                                   -799.873878   \n",
       "25%                                   -500.253794   \n",
       "50%                                   -500.015439   \n",
       "75%                                   -499.785698   \n",
       "max                                   -211.999273   \n",
       "\n",
       "       secondary_cleaner.state.floatbank3_a_air  \\\n",
       "count                              19426.000000   \n",
       "mean                                  28.199338   \n",
       "std                                    6.134908   \n",
       "min                                    0.000000   \n",
       "25%                                   24.949227   \n",
       "50%                                   27.982129   \n",
       "75%                                   33.002798   \n",
       "max                                   44.260464   \n",
       "\n",
       "       secondary_cleaner.state.floatbank3_a_level  \\\n",
       "count                                19438.000000   \n",
       "mean                                  -486.203350   \n",
       "std                                     54.412349   \n",
       "min                                   -799.755798   \n",
       "25%                                   -500.213546   \n",
       "50%                                   -499.930680   \n",
       "75%                                   -499.325739   \n",
       "max                                   -191.678810   \n",
       "\n",
       "       secondary_cleaner.state.floatbank3_b_air  \\\n",
       "count                              19438.000000   \n",
       "mean                                  22.200645   \n",
       "std                                    5.574001   \n",
       "min                                    0.000000   \n",
       "25%                                   18.995924   \n",
       "50%                                   22.011231   \n",
       "75%                                   25.998206   \n",
       "max                                   35.072841   \n",
       "\n",
       "       secondary_cleaner.state.floatbank3_b_level  \\\n",
       "count                                19438.000000   \n",
       "mean                                  -493.742107   \n",
       "std                                     43.372158   \n",
       "min                                   -809.333008   \n",
       "25%                                   -500.123034   \n",
       "50%                                   -499.981902   \n",
       "75%                                   -499.812834   \n",
       "max                                   -159.742331   \n",
       "\n",
       "       secondary_cleaner.state.floatbank4_a_air  \\\n",
       "count                              19433.000000   \n",
       "mean                                  18.987674   \n",
       "std                                    5.411058   \n",
       "min                                    0.000000   \n",
       "25%                                   14.975734   \n",
       "50%                                   18.017481   \n",
       "75%                                   23.012470   \n",
       "max                                   30.115735   \n",
       "\n",
       "       secondary_cleaner.state.floatbank4_a_level  \\\n",
       "count                                19438.000000   \n",
       "mean                                  -485.894516   \n",
       "std                                     47.758570   \n",
       "min                                   -799.798523   \n",
       "25%                                   -500.704892   \n",
       "50%                                   -499.837793   \n",
       "75%                                   -498.249730   \n",
       "max                                   -245.239184   \n",
       "\n",
       "       secondary_cleaner.state.floatbank4_b_air  \\\n",
       "count                              19438.000000   \n",
       "mean                                  15.010366   \n",
       "std                                    4.890228   \n",
       "min                                    0.000000   \n",
       "25%                                   11.940294   \n",
       "50%                                   14.971014   \n",
       "75%                                   19.034162   \n",
       "max                                   31.269706   \n",
       "\n",
       "       secondary_cleaner.state.floatbank4_b_level  \\\n",
       "count                                19438.000000   \n",
       "mean                                  -461.078636   \n",
       "std                                     67.405524   \n",
       "min                                   -800.836914   \n",
       "25%                                   -500.187742   \n",
       "50%                                   -499.459786   \n",
       "75%                                   -400.118106   \n",
       "max                                     -6.506986   \n",
       "\n",
       "       secondary_cleaner.state.floatbank5_a_air  \\\n",
       "count                              19438.000000   \n",
       "mean                                  15.694452   \n",
       "std                                    5.510974   \n",
       "min                                   -0.372054   \n",
       "25%                                   10.988606   \n",
       "50%                                   15.000036   \n",
       "75%                                   18.026190   \n",
       "max                                   43.709931   \n",
       "\n",
       "       secondary_cleaner.state.floatbank5_a_level  \\\n",
       "count                                19438.000000   \n",
       "mean                                  -488.684065   \n",
       "std                                     34.533396   \n",
       "min                                   -797.323986   \n",
       "25%                                   -500.458467   \n",
       "50%                                   -499.802605   \n",
       "75%                                   -498.384187   \n",
       "max                                   -244.483566   \n",
       "\n",
       "       secondary_cleaner.state.floatbank5_b_air  \\\n",
       "count                              19438.000000   \n",
       "mean                                  12.198224   \n",
       "std                                    5.333024   \n",
       "min                                    0.528083   \n",
       "25%                                    8.971105   \n",
       "50%                                   11.019433   \n",
       "75%                                   14.019088   \n",
       "max                                   27.926001   \n",
       "\n",
       "       secondary_cleaner.state.floatbank5_b_level  \\\n",
       "count                                19438.000000   \n",
       "mean                                  -487.149827   \n",
       "std                                     38.347312   \n",
       "min                                   -800.220337   \n",
       "25%                                   -500.129462   \n",
       "50%                                   -499.935317   \n",
       "75%                                   -499.436708   \n",
       "max                                   -137.740004   \n",
       "\n",
       "       secondary_cleaner.state.floatbank6_a_air  \\\n",
       "count                              19437.000000   \n",
       "mean                                  18.959024   \n",
       "std                                    5.550498   \n",
       "min                                   -0.079426   \n",
       "25%                                   14.983037   \n",
       "50%                                   19.960541   \n",
       "75%                                   24.003170   \n",
       "max                                   32.188906   \n",
       "\n",
       "       secondary_cleaner.state.floatbank6_a_level  \\\n",
       "count                                19438.000000   \n",
       "mean                                  -505.436305   \n",
       "std                                     37.689057   \n",
       "min                                   -809.741464   \n",
       "25%                                   -500.728067   \n",
       "50%                                   -500.048400   \n",
       "75%                                   -499.495378   \n",
       "max                                   -104.427459   \n",
       "\n",
       "       secondary_cleaner.output.tail_au  secondary_cleaner.output.tail_ag  \\\n",
       "count                      19439.000000                      19437.000000   \n",
       "mean                           4.339625                         14.586833   \n",
       "std                            2.326751                          4.265202   \n",
       "min                            0.000000                          0.000000   \n",
       "25%                            3.182770                         12.640239   \n",
       "50%                            4.072412                         15.641902   \n",
       "75%                            5.063081                         17.358217   \n",
       "max                           26.811643                         23.264738   \n",
       "\n",
       "       secondary_cleaner.output.tail_pb  secondary_cleaner.output.tail_sol  \\\n",
       "count                      19427.000000                       17691.000000   \n",
       "mean                           5.777703                           7.167247   \n",
       "std                            2.774598                           3.916079   \n",
       "min                            0.000000                           0.000000   \n",
       "25%                            3.864733                           3.845475   \n",
       "50%                            5.344073                           7.685827   \n",
       "75%                            7.788467                          10.411296   \n",
       "max                           17.042505                          26.000772   \n",
       "\n",
       "       final.output.concentrate_au  final.output.concentrate_ag  \\\n",
       "count                 19439.000000                 19438.000000   \n",
       "mean                     44.076513                     5.168470   \n",
       "std                       5.129784                     1.372348   \n",
       "min                       0.000000                     0.000000   \n",
       "25%                      43.402215                     4.251240   \n",
       "50%                      45.011244                     5.066094   \n",
       "75%                      46.275313                     5.895527   \n",
       "max                      52.756638                    16.001945   \n",
       "\n",
       "       final.output.concentrate_pb  final.output.concentrate_sol  \\\n",
       "count                 19438.000000                  19228.000000   \n",
       "mean                      9.978895                      9.501224   \n",
       "std                       1.669240                      2.787537   \n",
       "min                       0.000000                      0.000000   \n",
       "25%                       9.137262                      7.722820   \n",
       "50%                      10.102433                      9.218961   \n",
       "75%                      11.035769                     10.947813   \n",
       "max                      17.031899                     19.615720   \n",
       "\n",
       "       final.output.recovery  final.output.tail_au  final.output.tail_ag  \\\n",
       "count           19439.000000          19439.000000          19438.000000   \n",
       "mean               67.050208              3.042467              9.688589   \n",
       "std                10.125840              0.922808              2.328642   \n",
       "min                 0.000000              0.000000              0.000000   \n",
       "25%                63.299712              2.461138              8.062878   \n",
       "50%                68.172738              2.984909              9.743623   \n",
       "75%                72.686642              3.571351             11.134294   \n",
       "max               100.000000              8.245022             19.552149   \n",
       "\n",
       "       final.output.tail_pb  final.output.tail_sol  \n",
       "count          19338.000000           19433.000000  \n",
       "mean               2.705795              10.583728  \n",
       "std                0.949077               2.868782  \n",
       "min                0.000000               0.000000  \n",
       "25%                2.040119               8.938947  \n",
       "50%                2.748730              10.622456  \n",
       "75%                3.333216              12.104271  \n",
       "max                5.804178              22.317730  "
      ]
     },
     "metadata": {},
     "output_type": "display_data"
    },
    {
     "data": {
      "text/plain": [
       "'Пропусков по столбцам:'"
      ]
     },
     "metadata": {},
     "output_type": "display_data"
    },
    {
     "data": {
      "text/plain": [
       "date                        0\n",
       "rougher.input.feed_au       0\n",
       "rougher.input.feed_ag       0\n",
       "rougher.input.feed_pb     100\n",
       "rougher.input.feed_sol     99\n",
       "                         ... \n",
       "final.output.recovery       0\n",
       "final.output.tail_au        0\n",
       "final.output.tail_ag        1\n",
       "final.output.tail_pb      101\n",
       "final.output.tail_sol       6\n",
       "Length: 87, dtype: int64"
      ]
     },
     "metadata": {},
     "output_type": "display_data"
    },
    {
     "data": {
      "text/plain": [
       "'Всего колонок с пропусками:'"
      ]
     },
     "metadata": {},
     "output_type": "display_data"
    },
    {
     "data": {
      "text/plain": [
       "63"
      ]
     },
     "metadata": {},
     "output_type": "display_data"
    },
    {
     "data": {
      "text/plain": [
       "'Дубликатов по дате:'"
      ]
     },
     "metadata": {},
     "output_type": "display_data"
    },
    {
     "data": {
      "text/plain": [
       "0"
      ]
     },
     "metadata": {},
     "output_type": "display_data"
    }
   ],
   "source": [
    "data_info(data_total)"
   ]
  },
  {
   "cell_type": "markdown",
   "metadata": {},
   "source": [
    "Пропуски имеются во всех данных, дубликатов нет. В тестовой отсутсвтуют целевые признаки."
   ]
  },
  {
   "cell_type": "markdown",
   "metadata": {},
   "source": [
    "### Проверим, что эффективность обогащения рассчитана правильно."
   ]
  },
  {
   "attachments": {
    "image-3.png": {
     "image/png": "[encoded data removed]"
    }
   },
   "cell_type": "markdown",
   "metadata": {},
   "source": [
    "**Эффективность обогащения рассчитывается по формуле:**\n",
    "![image-3.png](attachment:image-3.png)\n",
    "где:\n",
    "- C — доля золота в концентрате после флотации/очистки;\n",
    "- F — доля золота в сырье/концентрате до флотации/очистки;\n",
    "- T — доля золота в отвальных хвостах после флотации/очистки."
   ]
  },
  {
   "cell_type": "markdown",
   "metadata": {},
   "source": [
    "- rougher.output.recovery - эффективность обогащения на флотации;\n",
    "- final.output.recovery - эффективность обогащения на последнем этапе;\n",
    "- rougher.output.concentrate_au - доля золота (au) в концентрате (concentrate) после (output) флотации (rougher);\n",
    "- rougher.input.feed_au - доля золота в сырье (feed_au) до (input) флотации (rougher);\n",
    "- rougher.output.tail_au - доля золота в отвальных хвостах (tail_au) после (output) флотации (rougher)."
   ]
  },
  {
   "cell_type": "code",
   "execution_count": 7,
   "metadata": {},
   "outputs": [],
   "source": [
    "C = data_train['rougher.output.concentrate_au']\n",
    "F = data_train['rougher.input.feed_au']\n",
    "T = data_train['rougher.output.tail_au']"
   ]
  },
  {
   "cell_type": "code",
   "execution_count": 8,
   "metadata": {},
   "outputs": [],
   "source": [
    "recovery_predict = ((C*(F-T))/(F*(C-T)))*100"
   ]
  },
  {
   "cell_type": "code",
   "execution_count": 9,
   "metadata": {},
   "outputs": [
    {
     "data": {
      "text/plain": [
       "9.83758577644259e-15"
      ]
     },
     "execution_count": 9,
     "metadata": {},
     "output_type": "execute_result"
    }
   ],
   "source": [
    "# Посчитаем среднее абсолютное отклонение между расчетной и заданной эффективностью обогащения \n",
    "mean_absolute_error(data_train['rougher.output.recovery'], recovery_predict)"
   ]
  },
  {
   "cell_type": "markdown",
   "metadata": {},
   "source": [
    "**Среднее абсолютное отклонение составило 9.8*10в-15 степени, это отклонение, стремящееся к нулю. Таким образом, эффективность обогащения рассчитана правильно.**"
   ]
  },
  {
   "cell_type": "markdown",
   "metadata": {},
   "source": [
    "### Проанализируем признаки, недоступные в тестовой выборке."
   ]
  },
  {
   "cell_type": "code",
   "execution_count": 10,
   "metadata": {},
   "outputs": [],
   "source": [
    "columns_train = list(data_train.columns) # из названий столбцов обучающей выборки сформируем список"
   ]
  },
  {
   "cell_type": "code",
   "execution_count": 11,
   "metadata": {},
   "outputs": [],
   "source": [
    "columns_test = list(data_test.columns) # из названий столбцов тестовой выборки сформируем список"
   ]
  },
  {
   "cell_type": "code",
   "execution_count": 12,
   "metadata": {},
   "outputs": [
    {
     "name": "stdout",
     "output_type": "stream",
     "text": [
      "Количество колонок, которые отсутствуют в тестовой выборке: 34\n"
     ]
    },
    {
     "data": {
      "text/plain": [
       "{'final.output.concentrate_ag',\n",
       " 'final.output.concentrate_au',\n",
       " 'final.output.concentrate_pb',\n",
       " 'final.output.concentrate_sol',\n",
       " 'final.output.recovery',\n",
       " 'final.output.tail_ag',\n",
       " 'final.output.tail_au',\n",
       " 'final.output.tail_pb',\n",
       " 'final.output.tail_sol',\n",
       " 'primary_cleaner.output.concentrate_ag',\n",
       " 'primary_cleaner.output.concentrate_au',\n",
       " 'primary_cleaner.output.concentrate_pb',\n",
       " 'primary_cleaner.output.concentrate_sol',\n",
       " 'primary_cleaner.output.tail_ag',\n",
       " 'primary_cleaner.output.tail_au',\n",
       " 'primary_cleaner.output.tail_pb',\n",
       " 'primary_cleaner.output.tail_sol',\n",
       " 'rougher.calculation.au_pb_ratio',\n",
       " 'rougher.calculation.floatbank10_sulfate_to_au_feed',\n",
       " 'rougher.calculation.floatbank11_sulfate_to_au_feed',\n",
       " 'rougher.calculation.sulfate_to_au_concentrate',\n",
       " 'rougher.output.concentrate_ag',\n",
       " 'rougher.output.concentrate_au',\n",
       " 'rougher.output.concentrate_pb',\n",
       " 'rougher.output.concentrate_sol',\n",
       " 'rougher.output.recovery',\n",
       " 'rougher.output.tail_ag',\n",
       " 'rougher.output.tail_au',\n",
       " 'rougher.output.tail_pb',\n",
       " 'rougher.output.tail_sol',\n",
       " 'secondary_cleaner.output.tail_ag',\n",
       " 'secondary_cleaner.output.tail_au',\n",
       " 'secondary_cleaner.output.tail_pb',\n",
       " 'secondary_cleaner.output.tail_sol'}"
      ]
     },
     "execution_count": 12,
     "metadata": {},
     "output_type": "execute_result"
    }
   ],
   "source": [
    "columns_excess = set(columns_train) - set(columns_test) # найдем разность двух множеств из списков с названиями колонок\n",
    "print('Количество колонок, которые отсутствуют в тестовой выборке:', len(columns_excess))\n",
    "columns_excess"
   ]
  },
  {
   "cell_type": "markdown",
   "metadata": {},
   "source": [
    "- final.output - финальные характеристики.параметры продукта\n",
    "- primary_cleaner.output — первичная очистка.параметры продукта\n",
    "- rougher.calculation - флотация.расчётные характеристики\n",
    "- rougher.output - флотация.параметры продукта\n",
    "- secondary_cleaner.output - вторичная очистка.параметры продукта"
   ]
  },
  {
   "cell_type": "markdown",
   "metadata": {},
   "source": [
    "### Проведем предобработку данных"
   ]
  },
  {
   "cell_type": "code",
   "execution_count": 13,
   "metadata": {},
   "outputs": [],
   "source": [
    "# Приведем столбец 'date' в обучающей выборке к формату datetime\n",
    "data_train['date'] = pd.to_datetime(data_train['date'], format='%Y-%m-%d %H:%M:%S')"
   ]
  },
  {
   "cell_type": "code",
   "execution_count": 14,
   "metadata": {},
   "outputs": [],
   "source": [
    "# Заполним пропуски предыдущтими значениями, так как сказано, что соседние по времени параметры часто похожи\n",
    "data_train = data_train.fillna(method='ffill')\n",
    "data_test = data_test.fillna(method='ffill')"
   ]
  },
  {
   "cell_type": "code",
   "execution_count": 15,
   "metadata": {},
   "outputs": [
    {
     "name": "stdout",
     "output_type": "stream",
     "text": [
      "0\n"
     ]
    },
    {
     "data": {
      "text/plain": [
       "0"
      ]
     },
     "execution_count": 15,
     "metadata": {},
     "output_type": "execute_result"
    }
   ],
   "source": [
    "# Проверим, остались ли пропуски\n",
    "print((data_train.isna().sum() > 0).sum())\n",
    "(data_test.isna().sum() > 0).sum()"
   ]
  },
  {
   "cell_type": "markdown",
   "metadata": {},
   "source": [
    "**ВЫВОД: Провели EDA. Изучили данные, выяснили, что количество колонок в тестовой выборке меньше на 34, чем в обучающей, в том числе нет целевых признаков. Формат колонки с датой привели к нужному формату. Обнаружили пропуски и, так как сказано, что соседние по времени параметры часто похожи, заменили их на предыдущие значения.**"
   ]
  },
  {
   "cell_type": "markdown",
   "metadata": {},
   "source": [
    "## Анализ данных"
   ]
  },
  {
   "cell_type": "markdown",
   "metadata": {},
   "source": [
    "### Посмотрим, как меняется концентрация металлов (Au, Ag, Pb) на различных этапах"
   ]
  },
  {
   "cell_type": "markdown",
   "metadata": {},
   "source": [
    "- rougher.input.feed_au (ag, pb) - концентрация в сырье\n",
    "- rougher.output.concentrate_au (ag, pb) - концентрация в черновом концентрате\n",
    "- primary_cleaner.output.concentrate_au (ag, pb) - концентрация после первой очистки\n",
    "- final.output.concentrate_au (ag, pb) - концентрация в финальном концентрате"
   ]
  },
  {
   "cell_type": "markdown",
   "metadata": {},
   "source": [
    "**Посмотрим на концентрацию ЗОЛОТА**"
   ]
  },
  {
   "cell_type": "code",
   "execution_count": 16,
   "metadata": {},
   "outputs": [
    {
     "data": {
      "image/png": "[encoded data removed]",
      "text/plain": [
       "<Figure size 1080x576 with 1 Axes>"
      ]
     },
     "metadata": {
      "needs_background": "light"
     },
     "output_type": "display_data"
    }
   ],
   "source": [
    "ax = data_train.plot(\n",
    "    kind='hist',\n",
    "    y='rougher.input.feed_au',\n",
    "    histtype='step',\n",
    "    range=(0, 60),\n",
    "    bins=30,\n",
    "    linewidth=5,\n",
    "    alpha=0.7,\n",
    "    label='доля золота в сырье до флотации',\n",
    ")\n",
    "data_train.plot(\n",
    "    kind='hist',\n",
    "    y='rougher.output.concentrate_au',\n",
    "    histtype='step',\n",
    "    range=(0, 60),\n",
    "    bins=30,\n",
    "    linewidth=5,\n",
    "    alpha=0.7,\n",
    "    label='доля золота после флотации',\n",
    "    ax=ax,\n",
    "    grid=True,\n",
    "    legend=True,\n",
    ")\n",
    "data_train.plot(\n",
    "    kind='hist',\n",
    "    y='primary_cleaner.output.concentrate_au',\n",
    "    histtype='step',\n",
    "    range=(0, 60),\n",
    "    bins=30,\n",
    "    linewidth=5,\n",
    "    alpha=0.7,\n",
    "    label='доля золота после первичной очистки',\n",
    "    ax=ax,\n",
    "    grid=True,\n",
    "    legend=True,\n",
    ")\n",
    "data_train.plot(\n",
    "    kind='hist',\n",
    "    y='final.output.concentrate_au',\n",
    "    histtype='step',\n",
    "    range=(0, 60),\n",
    "    bins=30,\n",
    "    linewidth=5,\n",
    "    alpha=0.7,\n",
    "    label='доля золота после финальной очистки',\n",
    "    ax=ax,\n",
    "    grid=True,\n",
    "    legend=True,\n",
    ")\n",
    "plt.title('Концентрация ЗОЛОТА на различных этапах')\n",
    "plt.xlabel('Концентрация')\n",
    "plt.ylabel('Количество')\n",
    "plt.show()"
   ]
  },
  {
   "cell_type": "markdown",
   "metadata": {},
   "source": [
    "Kонцентрация золота на каждом последующем этапе в сырье, в черновом концентрате, в концентрате после первой очистки и в финальном концентрате увеличивается."
   ]
  },
  {
   "cell_type": "markdown",
   "metadata": {},
   "source": [
    "**Посмотрим на концентрацию СЕРЕБРА**"
   ]
  },
  {
   "cell_type": "code",
   "execution_count": 17,
   "metadata": {},
   "outputs": [
    {
     "data": {
      "image/png": "[encoded data removed]",
      "text/plain": [
       "<Figure size 1080x576 with 1 Axes>"
      ]
     },
     "metadata": {
      "needs_background": "light"
     },
     "output_type": "display_data"
    }
   ],
   "source": [
    "ax = data_train.plot(\n",
    "    kind='hist',\n",
    "    y='rougher.input.feed_ag',\n",
    "    histtype='step',\n",
    "    range=(0, 20),\n",
    "    bins=30,\n",
    "    linewidth=5,\n",
    "    alpha=0.7,\n",
    "    label='доля серебра в сырье до флотации',\n",
    ")\n",
    "data_train.plot(\n",
    "    kind='hist',\n",
    "    y='rougher.output.concentrate_ag',\n",
    "    histtype='step',\n",
    "    range=(0, 20),\n",
    "    bins=30,\n",
    "    linewidth=5,\n",
    "    alpha=0.7,\n",
    "    label='доля серебра после флотации',\n",
    "    ax=ax,\n",
    "    grid=True,\n",
    "    legend=True,\n",
    ")\n",
    "data_train.plot(\n",
    "    kind='hist',\n",
    "    y='primary_cleaner.output.concentrate_ag',\n",
    "    histtype='step',\n",
    "    range=(0, 20),\n",
    "    bins=30,\n",
    "    linewidth=5,\n",
    "    alpha=0.7,\n",
    "    label='доля серебра после первичной очистки',\n",
    "    ax=ax,\n",
    "    grid=True,\n",
    "    legend=True,\n",
    ")\n",
    "data_train.plot(\n",
    "    kind='hist',\n",
    "    y='final.output.concentrate_ag',\n",
    "    histtype='step',\n",
    "    range=(0, 20),\n",
    "    bins=30,\n",
    "    linewidth=5,\n",
    "    alpha=0.7,\n",
    "    label='доля серебра после финальной очистки',\n",
    "    ax=ax,\n",
    "    grid=True,\n",
    "    legend=True,\n",
    ")\n",
    "plt.title('Концентрация СЕРЕБРА на различных этапах')\n",
    "plt.xlabel('Концентрация')\n",
    "plt.ylabel('Количество')\n",
    "plt.show()"
   ]
  },
  {
   "cell_type": "markdown",
   "metadata": {},
   "source": [
    "Kонцентрация серебра на каждом последующем этапе в сырье, в черновом концентрате, в концентрате после первой очистки и в финальном концентрате наоборот уменьшается."
   ]
  },
  {
   "cell_type": "markdown",
   "metadata": {},
   "source": [
    "**Посмотрим на концентрацию СВИНЦА**"
   ]
  },
  {
   "cell_type": "code",
   "execution_count": 18,
   "metadata": {},
   "outputs": [
    {
     "data": {
      "image/png": "[encoded data removed]",
      "text/plain": [
       "<Figure size 1080x576 with 1 Axes>"
      ]
     },
     "metadata": {
      "needs_background": "light"
     },
     "output_type": "display_data"
    }
   ],
   "source": [
    "ax = data_train.plot(\n",
    "    kind='hist',\n",
    "    y='rougher.input.feed_pb',\n",
    "    histtype='step',\n",
    "    range=(0, 20),\n",
    "    bins=30,\n",
    "    linewidth=5,\n",
    "    alpha=0.7,\n",
    "    label='доля свинца в сырье до флотации'\n",
    ")\n",
    "data_train.plot(\n",
    "    kind='hist',\n",
    "    y='rougher.output.concentrate_pb',\n",
    "    histtype='step',\n",
    "    range=(0, 20),\n",
    "    bins=30,\n",
    "    linewidth=5,\n",
    "    alpha=0.7,\n",
    "    label='доля свинца после флотации',\n",
    "    ax=ax,\n",
    "    grid=True,\n",
    "    legend=True\n",
    ")\n",
    "data_train.plot(\n",
    "    kind='hist',\n",
    "    y='primary_cleaner.output.concentrate_pb',\n",
    "    histtype='step',\n",
    "    range=(0, 20),\n",
    "    bins=30,\n",
    "    linewidth=5,\n",
    "    alpha=0.7,\n",
    "    label='доля свинца после первичной очистки',\n",
    "    ax=ax,\n",
    "    grid=True,\n",
    "    legend=True\n",
    ")\n",
    "data_train.plot(\n",
    "    kind='hist',\n",
    "    y='final.output.concentrate_pb',\n",
    "    histtype='step',\n",
    "    range=(0, 20),\n",
    "    bins=30,\n",
    "    linewidth=5,\n",
    "    alpha=0.7,\n",
    "    label='доля свинца после финальной очистки',\n",
    "    ax=ax,\n",
    "    grid=True,\n",
    "    legend=True\n",
    ")\n",
    "plt.title('Концентрация СВИНЦА на различных этапах')\n",
    "plt.xlabel('Концентрация')\n",
    "plt.ylabel('Количество')\n",
    "plt.show()"
   ]
  },
  {
   "cell_type": "markdown",
   "metadata": {},
   "source": [
    "Kонцентрация свинца на первых трех этапах увеличивается значительно, но на последнем этапе увеличение незначительное."
   ]
  },
  {
   "cell_type": "code",
   "execution_count": 19,
   "metadata": {},
   "outputs": [],
   "source": [
    "# Удалим из данных все строки с нулевыми значениями по всем концентрациям металлов по всем стадиям\n",
    "row = []\n",
    "for i in range(len(data_train)):\n",
    "    if (data_train.loc[i,'rougher.input.feed_au'] == 0)\\\n",
    "    | (data_train.loc[i,'rougher.input.feed_ag'] == 0)\\\n",
    "    | (data_train.loc[i, 'rougher.input.feed_pb'] == 0):\n",
    "        row.append(i)\n",
    "    if (data_train.loc[i,'rougher.output.concentrate_au'] == 0)\\\n",
    "    | (data_train.loc[i,'rougher.output.concentrate_ag'] == 0)\\\n",
    "    | (data_train.loc[i, 'rougher.output.concentrate_pb'] == 0):\n",
    "        row.append(i)\n",
    "    if (data_train.loc[i,'primary_cleaner.output.concentrate_au'] == 0)\\\n",
    "    | (data_train.loc[i,'primary_cleaner.output.concentrate_ag'] == 0)\\\n",
    "    | (data_train.loc[i, 'primary_cleaner.output.concentrate_pb'] == 0):\n",
    "        row.append(i)\n",
    "    if (data_train.loc[i,'final.output.concentrate_au'] == 0)\\\n",
    "    | (data_train.loc[i,'final.output.concentrate_ag'] == 0)\\\n",
    "    | (data_train.loc[i, 'final.output.concentrate_pb'] == 0):\n",
    "        row.append(i) \n",
    "data_train = data_train.drop(index=row)    "
   ]
  },
  {
   "cell_type": "code",
   "execution_count": 20,
   "metadata": {
    "scrolled": true
   },
   "outputs": [
    {
     "data": {
      "text/html": [
       "<div>\n",
       "<style scoped>\n",
       "    .dataframe tbody tr th:only-of-type {\n",
       "        vertical-align: middle;\n",
       "    }\n",
       "\n",
       "    .dataframe tbody tr th {\n",
       "        vertical-align: top;\n",
       "    }\n",
       "\n",
       "    .dataframe thead th {\n",
       "        text-align: right;\n",
       "    }\n",
       "</style>\n",
       "<table border=\"1\" class=\"dataframe\">\n",
       "  <thead>\n",
       "    <tr style=\"text-align: right;\">\n",
       "      <th></th>\n",
       "      <th>date</th>\n",
       "      <th>rougher.input.feed_au</th>\n",
       "      <th>rougher.input.feed_ag</th>\n",
       "      <th>rougher.input.feed_pb</th>\n",
       "      <th>rougher.input.feed_sol</th>\n",
       "      <th>rougher.input.feed_rate</th>\n",
       "      <th>rougher.input.feed_size</th>\n",
       "      <th>rougher.input.floatbank10_sulfate</th>\n",
       "      <th>rougher.input.floatbank10_xanthate</th>\n",
       "      <th>rougher.state.floatbank10_a_air</th>\n",
       "      <th>rougher.state.floatbank10_a_level</th>\n",
       "      <th>rougher.state.floatbank10_b_air</th>\n",
       "      <th>rougher.state.floatbank10_b_level</th>\n",
       "      <th>rougher.state.floatbank10_c_air</th>\n",
       "      <th>rougher.state.floatbank10_c_level</th>\n",
       "      <th>rougher.state.floatbank10_d_air</th>\n",
       "      <th>rougher.state.floatbank10_d_level</th>\n",
       "      <th>rougher.state.floatbank10_e_air</th>\n",
       "      <th>rougher.state.floatbank10_e_level</th>\n",
       "      <th>rougher.state.floatbank10_f_air</th>\n",
       "      <th>rougher.state.floatbank10_f_level</th>\n",
       "      <th>rougher.input.floatbank11_sulfate</th>\n",
       "      <th>rougher.input.floatbank11_xanthate</th>\n",
       "      <th>rougher.calculation.sulfate_to_au_concentrate</th>\n",
       "      <th>rougher.calculation.floatbank10_sulfate_to_au_feed</th>\n",
       "      <th>rougher.calculation.floatbank11_sulfate_to_au_feed</th>\n",
       "      <th>rougher.calculation.au_pb_ratio</th>\n",
       "      <th>rougher.output.concentrate_au</th>\n",
       "      <th>rougher.output.concentrate_ag</th>\n",
       "      <th>rougher.output.concentrate_pb</th>\n",
       "      <th>rougher.output.concentrate_sol</th>\n",
       "      <th>rougher.output.recovery</th>\n",
       "      <th>rougher.output.tail_au</th>\n",
       "      <th>rougher.output.tail_ag</th>\n",
       "      <th>rougher.output.tail_pb</th>\n",
       "      <th>rougher.output.tail_sol</th>\n",
       "      <th>primary_cleaner.input.sulfate</th>\n",
       "      <th>primary_cleaner.input.depressant</th>\n",
       "      <th>primary_cleaner.input.feed_size</th>\n",
       "      <th>primary_cleaner.input.xanthate</th>\n",
       "      <th>primary_cleaner.state.floatbank8_a_air</th>\n",
       "      <th>primary_cleaner.state.floatbank8_a_level</th>\n",
       "      <th>primary_cleaner.state.floatbank8_b_air</th>\n",
       "      <th>primary_cleaner.state.floatbank8_b_level</th>\n",
       "      <th>primary_cleaner.state.floatbank8_c_air</th>\n",
       "      <th>primary_cleaner.state.floatbank8_c_level</th>\n",
       "      <th>primary_cleaner.state.floatbank8_d_air</th>\n",
       "      <th>primary_cleaner.state.floatbank8_d_level</th>\n",
       "      <th>primary_cleaner.output.concentrate_au</th>\n",
       "      <th>primary_cleaner.output.concentrate_ag</th>\n",
       "      <th>primary_cleaner.output.concentrate_pb</th>\n",
       "      <th>primary_cleaner.output.concentrate_sol</th>\n",
       "      <th>primary_cleaner.output.tail_au</th>\n",
       "      <th>primary_cleaner.output.tail_ag</th>\n",
       "      <th>primary_cleaner.output.tail_pb</th>\n",
       "      <th>primary_cleaner.output.tail_sol</th>\n",
       "      <th>secondary_cleaner.state.floatbank2_a_air</th>\n",
       "      <th>secondary_cleaner.state.floatbank2_a_level</th>\n",
       "      <th>secondary_cleaner.state.floatbank2_b_air</th>\n",
       "      <th>secondary_cleaner.state.floatbank2_b_level</th>\n",
       "      <th>secondary_cleaner.state.floatbank3_a_air</th>\n",
       "      <th>secondary_cleaner.state.floatbank3_a_level</th>\n",
       "      <th>secondary_cleaner.state.floatbank3_b_air</th>\n",
       "      <th>secondary_cleaner.state.floatbank3_b_level</th>\n",
       "      <th>secondary_cleaner.state.floatbank4_a_air</th>\n",
       "      <th>secondary_cleaner.state.floatbank4_a_level</th>\n",
       "      <th>secondary_cleaner.state.floatbank4_b_air</th>\n",
       "      <th>secondary_cleaner.state.floatbank4_b_level</th>\n",
       "      <th>secondary_cleaner.state.floatbank5_a_air</th>\n",
       "      <th>secondary_cleaner.state.floatbank5_a_level</th>\n",
       "      <th>secondary_cleaner.state.floatbank5_b_air</th>\n",
       "      <th>secondary_cleaner.state.floatbank5_b_level</th>\n",
       "      <th>secondary_cleaner.state.floatbank6_a_air</th>\n",
       "      <th>secondary_cleaner.state.floatbank6_a_level</th>\n",
       "      <th>secondary_cleaner.output.tail_au</th>\n",
       "      <th>secondary_cleaner.output.tail_ag</th>\n",
       "      <th>secondary_cleaner.output.tail_pb</th>\n",
       "      <th>secondary_cleaner.output.tail_sol</th>\n",
       "      <th>final.output.concentrate_au</th>\n",
       "      <th>final.output.concentrate_ag</th>\n",
       "      <th>final.output.concentrate_pb</th>\n",
       "      <th>final.output.concentrate_sol</th>\n",
       "      <th>final.output.recovery</th>\n",
       "      <th>final.output.tail_au</th>\n",
       "      <th>final.output.tail_ag</th>\n",
       "      <th>final.output.tail_pb</th>\n",
       "      <th>final.output.tail_sol</th>\n",
       "    </tr>\n",
       "  </thead>\n",
       "  <tbody>\n",
       "  </tbody>\n",
       "</table>\n",
       "</div>"
      ],
      "text/plain": [
       "Empty DataFrame\n",
       "Columns: [date, rougher.input.feed_au, rougher.input.feed_ag, rougher.input.feed_pb, rougher.input.feed_sol, rougher.input.feed_rate, rougher.input.feed_size, rougher.input.floatbank10_sulfate, rougher.input.floatbank10_xanthate, rougher.state.floatbank10_a_air, rougher.state.floatbank10_a_level, rougher.state.floatbank10_b_air, rougher.state.floatbank10_b_level, rougher.state.floatbank10_c_air, rougher.state.floatbank10_c_level, rougher.state.floatbank10_d_air, rougher.state.floatbank10_d_level, rougher.state.floatbank10_e_air, rougher.state.floatbank10_e_level, rougher.state.floatbank10_f_air, rougher.state.floatbank10_f_level, rougher.input.floatbank11_sulfate, rougher.input.floatbank11_xanthate, rougher.calculation.sulfate_to_au_concentrate, rougher.calculation.floatbank10_sulfate_to_au_feed, rougher.calculation.floatbank11_sulfate_to_au_feed, rougher.calculation.au_pb_ratio, rougher.output.concentrate_au, rougher.output.concentrate_ag, rougher.output.concentrate_pb, rougher.output.concentrate_sol, rougher.output.recovery, rougher.output.tail_au, rougher.output.tail_ag, rougher.output.tail_pb, rougher.output.tail_sol, primary_cleaner.input.sulfate, primary_cleaner.input.depressant, primary_cleaner.input.feed_size, primary_cleaner.input.xanthate, primary_cleaner.state.floatbank8_a_air, primary_cleaner.state.floatbank8_a_level, primary_cleaner.state.floatbank8_b_air, primary_cleaner.state.floatbank8_b_level, primary_cleaner.state.floatbank8_c_air, primary_cleaner.state.floatbank8_c_level, primary_cleaner.state.floatbank8_d_air, primary_cleaner.state.floatbank8_d_level, primary_cleaner.output.concentrate_au, primary_cleaner.output.concentrate_ag, primary_cleaner.output.concentrate_pb, primary_cleaner.output.concentrate_sol, primary_cleaner.output.tail_au, primary_cleaner.output.tail_ag, primary_cleaner.output.tail_pb, primary_cleaner.output.tail_sol, secondary_cleaner.state.floatbank2_a_air, secondary_cleaner.state.floatbank2_a_level, secondary_cleaner.state.floatbank2_b_air, secondary_cleaner.state.floatbank2_b_level, secondary_cleaner.state.floatbank3_a_air, secondary_cleaner.state.floatbank3_a_level, secondary_cleaner.state.floatbank3_b_air, secondary_cleaner.state.floatbank3_b_level, secondary_cleaner.state.floatbank4_a_air, secondary_cleaner.state.floatbank4_a_level, secondary_cleaner.state.floatbank4_b_air, secondary_cleaner.state.floatbank4_b_level, secondary_cleaner.state.floatbank5_a_air, secondary_cleaner.state.floatbank5_a_level, secondary_cleaner.state.floatbank5_b_air, secondary_cleaner.state.floatbank5_b_level, secondary_cleaner.state.floatbank6_a_air, secondary_cleaner.state.floatbank6_a_level, secondary_cleaner.output.tail_au, secondary_cleaner.output.tail_ag, secondary_cleaner.output.tail_pb, secondary_cleaner.output.tail_sol, final.output.concentrate_au, final.output.concentrate_ag, final.output.concentrate_pb, final.output.concentrate_sol, final.output.recovery, final.output.tail_au, final.output.tail_ag, final.output.tail_pb, final.output.tail_sol]\n",
       "Index: []"
      ]
     },
     "execution_count": 20,
     "metadata": {},
     "output_type": "execute_result"
    }
   ],
   "source": [
    "# Проверим остались ли нулевые значения, например, по концентрации золота\n",
    "data_train.loc[(data_train['rougher.input.feed_au'] == 0)\\\n",
    "               | (data_train['rougher.output.concentrate_au'] == 0)\\\n",
    "               | (data_train['primary_cleaner.output.concentrate_au'] == 0)\\\n",
    "               | (data_train['final.output.concentrate_au'] == 0)]"
   ]
  },
  {
   "cell_type": "markdown",
   "metadata": {},
   "source": [
    "### Сравним распределения размеров гранул исходного сырья на обучающей и тестовой выборках"
   ]
  },
  {
   "cell_type": "code",
   "execution_count": 21,
   "metadata": {},
   "outputs": [
    {
     "data": {
      "image/png": "[encoded data removed]",
      "text/plain": [
       "<Figure size 720x576 with 1 Axes>"
      ]
     },
     "metadata": {
      "needs_background": "light"
     },
     "output_type": "display_data"
    }
   ],
   "source": [
    "# Построим две гистограммы плотности распределения размеров гранул, используя параметр \"density\"\n",
    "plt.figure(figsize=(10,8))\n",
    "plt.hist(data_train['rougher.input.feed_size'], bins=100, range=(0, 150), density = True, label='Обучающая выборка')\n",
    "plt.hist(data_test['rougher.input.feed_size'], bins=100, range=(0, 150), density = True, label='Тестовая выборка')\n",
    "plt.legend()\n",
    "plt.title('Распределение размеров гранул исходного сырья на обучающей и тестовой выборках')\n",
    "plt.xlabel('Размер частиц')\n",
    "plt.ylabel('Плотность распределения')\n",
    "plt.xlim(20, 120)\n",
    "plt.show()"
   ]
  },
  {
   "cell_type": "code",
   "execution_count": 22,
   "metadata": {},
   "outputs": [
    {
     "data": {
      "text/plain": [
       "count    13982.000000\n",
       "mean        59.171725\n",
       "std         23.076812\n",
       "min          0.049194\n",
       "25%         47.366017\n",
       "50%         54.592573\n",
       "75%         64.525597\n",
       "max        484.967466\n",
       "Name: rougher.input.feed_size, dtype: float64"
      ]
     },
     "metadata": {},
     "output_type": "display_data"
    },
    {
     "data": {
      "text/plain": [
       "count    4860.000000\n",
       "mean       59.136150\n",
       "std        19.512497\n",
       "min         0.046369\n",
       "25%        47.610795\n",
       "50%        55.461058\n",
       "75%        66.538910\n",
       "max       363.989699\n",
       "Name: rougher.input.feed_size, dtype: float64"
      ]
     },
     "execution_count": 22,
     "metadata": {},
     "output_type": "execute_result"
    }
   ],
   "source": [
    "display(data_train['rougher.input.feed_size'].describe())\n",
    "data_test['rougher.input.feed_size'].describe()"
   ]
  },
  {
   "cell_type": "markdown",
   "metadata": {},
   "source": [
    "**Распределения размеров гранул исходного сырья на обучающей и тестовой выборках практически одинаково**"
   ]
  },
  {
   "cell_type": "markdown",
   "metadata": {},
   "source": [
    "### Исследуем суммарную концентрацию металлов на разных стадиях"
   ]
  },
  {
   "cell_type": "code",
   "execution_count": 23,
   "metadata": {},
   "outputs": [],
   "source": [
    "# По каждой позиции в данных сформируем серию из сумм всех металлов для разных стадий\n",
    "Me_rougher_input_total = data_train[['rougher.input.feed_au',\n",
    "                                     'rougher.input.feed_ag',\n",
    "                                     'rougher.input.feed_pb']].sum(axis=1)\n",
    "Me_rougher_output_total = data_train[['rougher.output.concentrate_au',\n",
    "                                      'rougher.output.concentrate_ag',\n",
    "                                      'rougher.output.concentrate_pb']].sum(axis=1)\n",
    "Me_primary_cleaner_total = data_train[['primary_cleaner.output.concentrate_au',\n",
    "                                       'primary_cleaner.output.concentrate_ag',\n",
    "                                       'primary_cleaner.output.concentrate_pb']].sum(axis=1)\n",
    "Me_final_output_total = data_train[['final.output.concentrate_au',\n",
    "                                    'final.output.concentrate_ag',\n",
    "                                    'final.output.concentrate_pb']].sum(axis=1)"
   ]
  },
  {
   "cell_type": "code",
   "execution_count": 24,
   "metadata": {},
   "outputs": [
    {
     "data": {
      "image/png": "[encoded data removed]",
      "text/plain": [
       "<Figure size 1080x576 with 1 Axes>"
      ]
     },
     "metadata": {
      "needs_background": "light"
     },
     "output_type": "display_data"
    }
   ],
   "source": [
    "plt.figure(figsize=(15,8))\n",
    "plt.hist(Me_rougher_input_total, bins=100, density = True, label='Суммарная концентрация в сырье')\n",
    "plt.hist(Me_rougher_output_total, bins=100, density = True, label='Суммарная концентрация в черновом концентрате')\n",
    "plt.hist(Me_primary_cleaner_total, bins=100, density = True, label='Суммарная концентрация после первой очистки')\n",
    "plt.hist(Me_final_output_total, bins=100, density = True, label='Суммарная концентрация в финальном концентрате')\n",
    "plt.legend()\n",
    "plt.title('Суммарная концентрация металлов на разных стадиях')\n",
    "plt.xlabel('Концентрация')\n",
    "plt.ylabel('Плотность распределения')\n",
    "plt.show()"
   ]
  },
  {
   "cell_type": "markdown",
   "metadata": {},
   "source": [
    "**Суммарная концентрация металлов на каждой следующей стадии увеличивается, а диапозон значений уменьшается.**"
   ]
  },
  {
   "cell_type": "markdown",
   "metadata": {},
   "source": [
    "## Модель"
   ]
  },
  {
   "cell_type": "markdown",
   "metadata": {},
   "source": [
    "###  Напишем функцию для вычисления итоговой sMAPE."
   ]
  },
  {
   "attachments": {
    "image.png": {
     "image/png": "[encoded data removed]"
    }
   },
   "cell_type": "markdown",
   "metadata": {},
   "source": [
    "Для решения задачи введём новую метрику качества — sMAPE (англ. Symmetric Mean Absolute Percentage Error, «симметричное среднее абсолютное процентное отклонение»). Она одинаково учитывает масштаб и целевого признака, и предсказания.\n",
    "![image.png](attachment:image.png)\n",
    "- Yi - целевой признак\n",
    "- Y^i - предсказания\n",
    "- N - количество объектов в выборке"
   ]
  },
  {
   "cell_type": "code",
   "execution_count": 25,
   "metadata": {},
   "outputs": [],
   "source": [
    "def smape(target, predict):\n",
    "    smape = 1 / len(target) * sum(2 * abs(target - predict) / (abs(target) + abs(predict))) * 100\n",
    "    return smape"
   ]
  },
  {
   "cell_type": "markdown",
   "metadata": {},
   "source": [
    "**Нужно спрогнозировать сразу две величины:**\n",
    "- эффективность обогащения чернового концентрата rougher.output.recovery;\n",
    "- эффективность обогащения финального концентрата final.output.recovery."
   ]
  },
  {
   "attachments": {
    "image.png": {
     "image/png": "[encoded data removed]"
    }
   },
   "cell_type": "markdown",
   "metadata": {},
   "source": [
    "Итоговая метрика складывается из двух величин:\n",
    "![image.png](attachment:image.png)"
   ]
  },
  {
   "cell_type": "code",
   "execution_count": 26,
   "metadata": {},
   "outputs": [],
   "source": [
    "def smape_result(smape_rougher, smape_final):\n",
    "    result = smape_rougher * 0.25 + smape_final * 0.75\n",
    "    return result"
   ]
  },
  {
   "cell_type": "markdown",
   "metadata": {},
   "source": [
    "### Обучим разные модели и оценим их качество кросс-валидацией. "
   ]
  },
  {
   "cell_type": "markdown",
   "metadata": {},
   "source": [
    "#### Подготовим данные"
   ]
  },
  {
   "cell_type": "code",
   "execution_count": 27,
   "metadata": {},
   "outputs": [],
   "source": [
    "# Так как у нас в тестовой выборке отсутствует целевой признак, то возьмем его из исходных данных data_total по дате\n",
    "data_test = data_test.merge(data_total[['date', 'rougher.output.recovery', 'final.output.recovery']], on='date')"
   ]
  },
  {
   "cell_type": "code",
   "execution_count": 28,
   "metadata": {},
   "outputs": [],
   "source": [
    "# Удалим в обучающей выборке столбцы, которых нет в тестовой (теперь за исключением целевых)\n",
    "data_train = data_train.drop(set(data_train.columns)-set(data_test.columns), axis = 1)"
   ]
  },
  {
   "cell_type": "code",
   "execution_count": 29,
   "metadata": {},
   "outputs": [],
   "source": [
    "# Столбец с датой не влияет на эффективность обогащения, поэтому просто удалим этот столбец\n",
    "data_train.drop(columns=['date'], axis=1, inplace=True)\n",
    "data_test.drop(columns=['date'], axis=1, inplace=True)"
   ]
  },
  {
   "cell_type": "code",
   "execution_count": 30,
   "metadata": {},
   "outputs": [
    {
     "data": {
      "text/plain": [
       "(13982, 54)"
      ]
     },
     "metadata": {},
     "output_type": "display_data"
    },
    {
     "data": {
      "text/plain": [
       "(4860, 54)"
      ]
     },
     "execution_count": 30,
     "metadata": {},
     "output_type": "execute_result"
    }
   ],
   "source": [
    "# Проверим обучающую и тестовую выборки на количество столбцов\n",
    "display(data_train.shape)\n",
    "data_test.shape"
   ]
  },
  {
   "cell_type": "code",
   "execution_count": 31,
   "metadata": {},
   "outputs": [],
   "source": [
    "# Выделим целевой признак на обучающей выборке для чернового концентрата\n",
    "features_train_rougher = data_train.filter(regex='^rougher',axis=1)\n",
    "features_train_rougher = features_train_rougher.drop(['rougher.output.recovery'], axis=1)\n",
    "target_train_rougher = data_train['rougher.output.recovery']\n",
    "# Выделим целевой признак на тестовой выборке для чернового концентрата\n",
    "features_test_rougher = data_test.filter(regex='^rougher',axis=1)\n",
    "features_test_rougher = features_test_rougher.drop(['rougher.output.recovery'], axis=1)\n",
    "target_test_rougher = data_test['rougher.output.recovery']"
   ]
  },
  {
   "cell_type": "code",
   "execution_count": 32,
   "metadata": {},
   "outputs": [],
   "source": [
    "# Выделим целевой признак на обучающей выборке для финального концентрата\n",
    "features_train_final = data_train.drop(['rougher.output.recovery', 'final.output.recovery'], axis=1)\n",
    "target_train_final = data_train['final.output.recovery']\n",
    "# Выделим целевой признак на тестовой выборке для финального концентрата\n",
    "features_test_final = data_test.drop(['rougher.output.recovery', 'final.output.recovery'], axis=1)\n",
    "target_test_final = data_test['final.output.recovery']"
   ]
  },
  {
   "cell_type": "code",
   "execution_count": 33,
   "metadata": {},
   "outputs": [
    {
     "data": {
      "text/plain": [
       "(13982, 22)"
      ]
     },
     "metadata": {},
     "output_type": "display_data"
    },
    {
     "data": {
      "text/plain": [
       "(4860, 22)"
      ]
     },
     "metadata": {},
     "output_type": "display_data"
    },
    {
     "data": {
      "text/plain": [
       "(13982, 52)"
      ]
     },
     "metadata": {},
     "output_type": "display_data"
    },
    {
     "data": {
      "text/plain": [
       "(4860, 52)"
      ]
     },
     "execution_count": 33,
     "metadata": {},
     "output_type": "execute_result"
    }
   ],
   "source": [
    "# Проверим размеры выборок без целевого признака\n",
    "display(features_train_rougher.shape)\n",
    "display(features_test_rougher.shape)\n",
    "display(features_train_final.shape)\n",
    "features_test_final.shape"
   ]
  },
  {
   "cell_type": "code",
   "execution_count": 35,
   "metadata": {},
   "outputs": [],
   "source": [
    "# Все признаки числовые, приведем к одному масштабу через StandardScaler()\n",
    "cols1 = features_train_rougher.columns\n",
    "pd.options.mode.chained_assignment = None\n",
    "scaler = StandardScaler()\n",
    "scaler.fit(features_train_rougher) \n",
    "features_train_rougher = pd.DataFrame(scaler.transform(features_train_rougher), columns=cols1)\n",
    "scaler.fit(features_test_rougher) \n",
    "features_test_rougher = pd.DataFrame(scaler.transform(features_test_rougher), columns=cols1)"
   ]
  },
  {
   "cell_type": "code",
   "execution_count": 40,
   "metadata": {},
   "outputs": [
    {
     "data": {
      "text/html": [
       "<div>\n",
       "<style scoped>\n",
       "    .dataframe tbody tr th:only-of-type {\n",
       "        vertical-align: middle;\n",
       "    }\n",
       "\n",
       "    .dataframe tbody tr th {\n",
       "        vertical-align: top;\n",
       "    }\n",
       "\n",
       "    .dataframe thead th {\n",
       "        text-align: right;\n",
       "    }\n",
       "</style>\n",
       "<table border=\"1\" class=\"dataframe\">\n",
       "  <thead>\n",
       "    <tr style=\"text-align: right;\">\n",
       "      <th></th>\n",
       "      <th>rougher.input.feed_au</th>\n",
       "      <th>rougher.input.feed_ag</th>\n",
       "      <th>rougher.input.feed_pb</th>\n",
       "      <th>rougher.input.feed_sol</th>\n",
       "      <th>rougher.input.feed_rate</th>\n",
       "      <th>rougher.input.feed_size</th>\n",
       "      <th>rougher.input.floatbank10_sulfate</th>\n",
       "      <th>rougher.input.floatbank10_xanthate</th>\n",
       "      <th>rougher.state.floatbank10_a_air</th>\n",
       "      <th>rougher.state.floatbank10_a_level</th>\n",
       "      <th>rougher.state.floatbank10_b_air</th>\n",
       "      <th>rougher.state.floatbank10_b_level</th>\n",
       "      <th>rougher.state.floatbank10_c_air</th>\n",
       "      <th>rougher.state.floatbank10_c_level</th>\n",
       "      <th>rougher.state.floatbank10_d_air</th>\n",
       "      <th>rougher.state.floatbank10_d_level</th>\n",
       "      <th>rougher.state.floatbank10_e_air</th>\n",
       "      <th>rougher.state.floatbank10_e_level</th>\n",
       "      <th>rougher.state.floatbank10_f_air</th>\n",
       "      <th>rougher.state.floatbank10_f_level</th>\n",
       "      <th>rougher.input.floatbank11_sulfate</th>\n",
       "      <th>rougher.input.floatbank11_xanthate</th>\n",
       "    </tr>\n",
       "  </thead>\n",
       "  <tbody>\n",
       "    <tr>\n",
       "      <th>0</th>\n",
       "      <td>-0.961747</td>\n",
       "      <td>-1.445679</td>\n",
       "      <td>-1.218572</td>\n",
       "      <td>0.045964</td>\n",
       "      <td>0.442836</td>\n",
       "      <td>-0.159695</td>\n",
       "      <td>-0.115856</td>\n",
       "      <td>-0.012847</td>\n",
       "      <td>-0.642512</td>\n",
       "      <td>-0.251088</td>\n",
       "      <td>1.533703</td>\n",
       "      <td>0.538427</td>\n",
       "      <td>1.418669</td>\n",
       "      <td>0.421852</td>\n",
       "      <td>1.822861</td>\n",
       "      <td>0.265407</td>\n",
       "      <td>1.816651</td>\n",
       "      <td>0.138446</td>\n",
       "      <td>2.277966</td>\n",
       "      <td>0.202451</td>\n",
       "      <td>-0.063621</td>\n",
       "      <td>0.009739</td>\n",
       "    </tr>\n",
       "    <tr>\n",
       "      <th>1</th>\n",
       "      <td>-0.965663</td>\n",
       "      <td>-1.414008</td>\n",
       "      <td>-1.236264</td>\n",
       "      <td>-0.156449</td>\n",
       "      <td>0.459167</td>\n",
       "      <td>-0.082036</td>\n",
       "      <td>-0.120412</td>\n",
       "      <td>-0.014813</td>\n",
       "      <td>-0.638913</td>\n",
       "      <td>-0.208932</td>\n",
       "      <td>1.521193</td>\n",
       "      <td>0.267389</td>\n",
       "      <td>1.409584</td>\n",
       "      <td>0.283862</td>\n",
       "      <td>1.830475</td>\n",
       "      <td>0.289476</td>\n",
       "      <td>1.787246</td>\n",
       "      <td>0.215995</td>\n",
       "      <td>2.180240</td>\n",
       "      <td>0.232949</td>\n",
       "      <td>-0.022104</td>\n",
       "      <td>0.015379</td>\n",
       "    </tr>\n",
       "    <tr>\n",
       "      <th>2</th>\n",
       "      <td>-1.025874</td>\n",
       "      <td>-1.437296</td>\n",
       "      <td>-1.335982</td>\n",
       "      <td>-0.114585</td>\n",
       "      <td>0.503507</td>\n",
       "      <td>-0.071983</td>\n",
       "      <td>-0.135357</td>\n",
       "      <td>0.154500</td>\n",
       "      <td>-0.642433</td>\n",
       "      <td>-0.209025</td>\n",
       "      <td>1.513337</td>\n",
       "      <td>0.266409</td>\n",
       "      <td>1.405717</td>\n",
       "      <td>0.281621</td>\n",
       "      <td>1.827228</td>\n",
       "      <td>0.289466</td>\n",
       "      <td>1.786987</td>\n",
       "      <td>0.231735</td>\n",
       "      <td>2.183748</td>\n",
       "      <td>0.226112</td>\n",
       "      <td>-0.041859</td>\n",
       "      <td>0.175239</td>\n",
       "    </tr>\n",
       "    <tr>\n",
       "      <th>3</th>\n",
       "      <td>-1.152150</td>\n",
       "      <td>-1.475438</td>\n",
       "      <td>-1.450134</td>\n",
       "      <td>0.056254</td>\n",
       "      <td>0.621134</td>\n",
       "      <td>-0.059759</td>\n",
       "      <td>-0.221179</td>\n",
       "      <td>0.159625</td>\n",
       "      <td>-0.641842</td>\n",
       "      <td>-0.210354</td>\n",
       "      <td>1.517340</td>\n",
       "      <td>0.255534</td>\n",
       "      <td>1.407347</td>\n",
       "      <td>0.282417</td>\n",
       "      <td>1.817057</td>\n",
       "      <td>0.286307</td>\n",
       "      <td>1.796867</td>\n",
       "      <td>0.230173</td>\n",
       "      <td>2.183266</td>\n",
       "      <td>0.238446</td>\n",
       "      <td>-0.101199</td>\n",
       "      <td>0.168533</td>\n",
       "    </tr>\n",
       "    <tr>\n",
       "      <th>4</th>\n",
       "      <td>-1.387324</td>\n",
       "      <td>-1.466257</td>\n",
       "      <td>-1.685282</td>\n",
       "      <td>-0.426098</td>\n",
       "      <td>0.601861</td>\n",
       "      <td>-0.135402</td>\n",
       "      <td>-0.419800</td>\n",
       "      <td>0.155780</td>\n",
       "      <td>-0.642687</td>\n",
       "      <td>-0.205641</td>\n",
       "      <td>1.518168</td>\n",
       "      <td>0.273682</td>\n",
       "      <td>1.409000</td>\n",
       "      <td>0.280176</td>\n",
       "      <td>1.826795</td>\n",
       "      <td>0.290263</td>\n",
       "      <td>1.800330</td>\n",
       "      <td>0.249639</td>\n",
       "      <td>2.188703</td>\n",
       "      <td>0.228123</td>\n",
       "      <td>-0.291813</td>\n",
       "      <td>0.167134</td>\n",
       "    </tr>\n",
       "  </tbody>\n",
       "</table>\n",
       "</div>"
      ],
      "text/plain": [
       "   rougher.input.feed_au  rougher.input.feed_ag  rougher.input.feed_pb  \\\n",
       "0              -0.961747              -1.445679              -1.218572   \n",
       "1              -0.965663              -1.414008              -1.236264   \n",
       "2              -1.025874              -1.437296              -1.335982   \n",
       "3              -1.152150              -1.475438              -1.450134   \n",
       "4              -1.387324              -1.466257              -1.685282   \n",
       "\n",
       "   rougher.input.feed_sol  rougher.input.feed_rate  rougher.input.feed_size  \\\n",
       "0                0.045964                 0.442836                -0.159695   \n",
       "1               -0.156449                 0.459167                -0.082036   \n",
       "2               -0.114585                 0.503507                -0.071983   \n",
       "3                0.056254                 0.621134                -0.059759   \n",
       "4               -0.426098                 0.601861                -0.135402   \n",
       "\n",
       "   rougher.input.floatbank10_sulfate  rougher.input.floatbank10_xanthate  \\\n",
       "0                          -0.115856                           -0.012847   \n",
       "1                          -0.120412                           -0.014813   \n",
       "2                          -0.135357                            0.154500   \n",
       "3                          -0.221179                            0.159625   \n",
       "4                          -0.419800                            0.155780   \n",
       "\n",
       "   rougher.state.floatbank10_a_air  rougher.state.floatbank10_a_level  \\\n",
       "0                        -0.642512                          -0.251088   \n",
       "1                        -0.638913                          -0.208932   \n",
       "2                        -0.642433                          -0.209025   \n",
       "3                        -0.641842                          -0.210354   \n",
       "4                        -0.642687                          -0.205641   \n",
       "\n",
       "   rougher.state.floatbank10_b_air  rougher.state.floatbank10_b_level  \\\n",
       "0                         1.533703                           0.538427   \n",
       "1                         1.521193                           0.267389   \n",
       "2                         1.513337                           0.266409   \n",
       "3                         1.517340                           0.255534   \n",
       "4                         1.518168                           0.273682   \n",
       "\n",
       "   rougher.state.floatbank10_c_air  rougher.state.floatbank10_c_level  \\\n",
       "0                         1.418669                           0.421852   \n",
       "1                         1.409584                           0.283862   \n",
       "2                         1.405717                           0.281621   \n",
       "3                         1.407347                           0.282417   \n",
       "4                         1.409000                           0.280176   \n",
       "\n",
       "   rougher.state.floatbank10_d_air  rougher.state.floatbank10_d_level  \\\n",
       "0                         1.822861                           0.265407   \n",
       "1                         1.830475                           0.289476   \n",
       "2                         1.827228                           0.289466   \n",
       "3                         1.817057                           0.286307   \n",
       "4                         1.826795                           0.290263   \n",
       "\n",
       "   rougher.state.floatbank10_e_air  rougher.state.floatbank10_e_level  \\\n",
       "0                         1.816651                           0.138446   \n",
       "1                         1.787246                           0.215995   \n",
       "2                         1.786987                           0.231735   \n",
       "3                         1.796867                           0.230173   \n",
       "4                         1.800330                           0.249639   \n",
       "\n",
       "   rougher.state.floatbank10_f_air  rougher.state.floatbank10_f_level  \\\n",
       "0                         2.277966                           0.202451   \n",
       "1                         2.180240                           0.232949   \n",
       "2                         2.183748                           0.226112   \n",
       "3                         2.183266                           0.238446   \n",
       "4                         2.188703                           0.228123   \n",
       "\n",
       "   rougher.input.floatbank11_sulfate  rougher.input.floatbank11_xanthate  \n",
       "0                          -0.063621                            0.009739  \n",
       "1                          -0.022104                            0.015379  \n",
       "2                          -0.041859                            0.175239  \n",
       "3                          -0.101199                            0.168533  \n",
       "4                          -0.291813                            0.167134  "
      ]
     },
     "execution_count": 40,
     "metadata": {},
     "output_type": "execute_result"
    }
   ],
   "source": [
    "# Проверим итоги масштабирования на обучающей выборке для чернового концентрата\n",
    "features_train_rougher.head()"
   ]
  },
  {
   "cell_type": "code",
   "execution_count": 37,
   "metadata": {},
   "outputs": [],
   "source": [
    "cols2 = features_train_final.columns\n",
    "scaler = StandardScaler()\n",
    "scaler.fit(features_train_final) \n",
    "features_train_final = pd.DataFrame(scaler.transform(features_train_final), columns=cols2)\n",
    "scaler.fit(features_test_final) \n",
    "features_test_final = pd.DataFrame(scaler.transform(features_test_final), columns=cols2)"
   ]
  },
  {
   "cell_type": "code",
   "execution_count": 41,
   "metadata": {},
   "outputs": [
    {
     "data": {
      "text/html": [
       "<div>\n",
       "<style scoped>\n",
       "    .dataframe tbody tr th:only-of-type {\n",
       "        vertical-align: middle;\n",
       "    }\n",
       "\n",
       "    .dataframe tbody tr th {\n",
       "        vertical-align: top;\n",
       "    }\n",
       "\n",
       "    .dataframe thead th {\n",
       "        text-align: right;\n",
       "    }\n",
       "</style>\n",
       "<table border=\"1\" class=\"dataframe\">\n",
       "  <thead>\n",
       "    <tr style=\"text-align: right;\">\n",
       "      <th></th>\n",
       "      <th>rougher.input.feed_au</th>\n",
       "      <th>rougher.input.feed_ag</th>\n",
       "      <th>rougher.input.feed_pb</th>\n",
       "      <th>rougher.input.feed_sol</th>\n",
       "      <th>rougher.input.feed_rate</th>\n",
       "      <th>rougher.input.feed_size</th>\n",
       "      <th>rougher.input.floatbank10_sulfate</th>\n",
       "      <th>rougher.input.floatbank10_xanthate</th>\n",
       "      <th>rougher.state.floatbank10_a_air</th>\n",
       "      <th>rougher.state.floatbank10_a_level</th>\n",
       "      <th>rougher.state.floatbank10_b_air</th>\n",
       "      <th>rougher.state.floatbank10_b_level</th>\n",
       "      <th>rougher.state.floatbank10_c_air</th>\n",
       "      <th>rougher.state.floatbank10_c_level</th>\n",
       "      <th>rougher.state.floatbank10_d_air</th>\n",
       "      <th>rougher.state.floatbank10_d_level</th>\n",
       "      <th>rougher.state.floatbank10_e_air</th>\n",
       "      <th>rougher.state.floatbank10_e_level</th>\n",
       "      <th>rougher.state.floatbank10_f_air</th>\n",
       "      <th>rougher.state.floatbank10_f_level</th>\n",
       "      <th>rougher.input.floatbank11_sulfate</th>\n",
       "      <th>rougher.input.floatbank11_xanthate</th>\n",
       "      <th>primary_cleaner.input.sulfate</th>\n",
       "      <th>primary_cleaner.input.depressant</th>\n",
       "      <th>primary_cleaner.input.feed_size</th>\n",
       "      <th>primary_cleaner.input.xanthate</th>\n",
       "      <th>primary_cleaner.state.floatbank8_a_air</th>\n",
       "      <th>primary_cleaner.state.floatbank8_a_level</th>\n",
       "      <th>primary_cleaner.state.floatbank8_b_air</th>\n",
       "      <th>primary_cleaner.state.floatbank8_b_level</th>\n",
       "      <th>primary_cleaner.state.floatbank8_c_air</th>\n",
       "      <th>primary_cleaner.state.floatbank8_c_level</th>\n",
       "      <th>primary_cleaner.state.floatbank8_d_air</th>\n",
       "      <th>primary_cleaner.state.floatbank8_d_level</th>\n",
       "      <th>secondary_cleaner.state.floatbank2_a_air</th>\n",
       "      <th>secondary_cleaner.state.floatbank2_a_level</th>\n",
       "      <th>secondary_cleaner.state.floatbank2_b_air</th>\n",
       "      <th>secondary_cleaner.state.floatbank2_b_level</th>\n",
       "      <th>secondary_cleaner.state.floatbank3_a_air</th>\n",
       "      <th>secondary_cleaner.state.floatbank3_a_level</th>\n",
       "      <th>secondary_cleaner.state.floatbank3_b_air</th>\n",
       "      <th>secondary_cleaner.state.floatbank3_b_level</th>\n",
       "      <th>secondary_cleaner.state.floatbank4_a_air</th>\n",
       "      <th>secondary_cleaner.state.floatbank4_a_level</th>\n",
       "      <th>secondary_cleaner.state.floatbank4_b_air</th>\n",
       "      <th>secondary_cleaner.state.floatbank4_b_level</th>\n",
       "      <th>secondary_cleaner.state.floatbank5_a_air</th>\n",
       "      <th>secondary_cleaner.state.floatbank5_a_level</th>\n",
       "      <th>secondary_cleaner.state.floatbank5_b_air</th>\n",
       "      <th>secondary_cleaner.state.floatbank5_b_level</th>\n",
       "      <th>secondary_cleaner.state.floatbank6_a_air</th>\n",
       "      <th>secondary_cleaner.state.floatbank6_a_level</th>\n",
       "    </tr>\n",
       "  </thead>\n",
       "  <tbody>\n",
       "    <tr>\n",
       "      <th>0</th>\n",
       "      <td>-0.961747</td>\n",
       "      <td>-1.445679</td>\n",
       "      <td>-1.218572</td>\n",
       "      <td>0.045964</td>\n",
       "      <td>0.442836</td>\n",
       "      <td>-0.159695</td>\n",
       "      <td>-0.115856</td>\n",
       "      <td>-0.012847</td>\n",
       "      <td>-0.642512</td>\n",
       "      <td>-0.251088</td>\n",
       "      <td>1.533703</td>\n",
       "      <td>0.538427</td>\n",
       "      <td>1.418669</td>\n",
       "      <td>0.421852</td>\n",
       "      <td>1.822861</td>\n",
       "      <td>0.265407</td>\n",
       "      <td>1.816651</td>\n",
       "      <td>0.138446</td>\n",
       "      <td>2.277966</td>\n",
       "      <td>0.202451</td>\n",
       "      <td>-0.063621</td>\n",
       "      <td>0.009739</td>\n",
       "      <td>-0.421374</td>\n",
       "      <td>0.384060</td>\n",
       "      <td>-0.090816</td>\n",
       "      <td>-0.076960</td>\n",
       "      <td>-0.319384</td>\n",
       "      <td>-0.236984</td>\n",
       "      <td>-0.322107</td>\n",
       "      <td>-0.740204</td>\n",
       "      <td>-0.277137</td>\n",
       "      <td>-0.207623</td>\n",
       "      <td>0.030757</td>\n",
       "      <td>-0.112346</td>\n",
       "      <td>-0.493917</td>\n",
       "      <td>0.078901</td>\n",
       "      <td>-0.013717</td>\n",
       "      <td>0.043243</td>\n",
       "      <td>-0.669364</td>\n",
       "      <td>-0.189689</td>\n",
       "      <td>-0.037437</td>\n",
       "      <td>-0.145583</td>\n",
       "      <td>-0.909262</td>\n",
       "      <td>-0.365667</td>\n",
       "      <td>-0.572687</td>\n",
       "      <td>-0.668211</td>\n",
       "      <td>-1.028659</td>\n",
       "      <td>-0.306010</td>\n",
       "      <td>-0.751825</td>\n",
       "      <td>-0.378479</td>\n",
       "      <td>-0.890163</td>\n",
       "      <td>-2.721118</td>\n",
       "    </tr>\n",
       "    <tr>\n",
       "      <th>1</th>\n",
       "      <td>-0.965663</td>\n",
       "      <td>-1.414008</td>\n",
       "      <td>-1.236264</td>\n",
       "      <td>-0.156449</td>\n",
       "      <td>0.459167</td>\n",
       "      <td>-0.082036</td>\n",
       "      <td>-0.120412</td>\n",
       "      <td>-0.014813</td>\n",
       "      <td>-0.638913</td>\n",
       "      <td>-0.208932</td>\n",
       "      <td>1.521193</td>\n",
       "      <td>0.267389</td>\n",
       "      <td>1.409584</td>\n",
       "      <td>0.283862</td>\n",
       "      <td>1.830475</td>\n",
       "      <td>0.289476</td>\n",
       "      <td>1.787246</td>\n",
       "      <td>0.215995</td>\n",
       "      <td>2.180240</td>\n",
       "      <td>0.232949</td>\n",
       "      <td>-0.022104</td>\n",
       "      <td>0.015379</td>\n",
       "      <td>-0.454133</td>\n",
       "      <td>0.434702</td>\n",
       "      <td>-0.090816</td>\n",
       "      <td>-0.050002</td>\n",
       "      <td>-0.113686</td>\n",
       "      <td>-0.302907</td>\n",
       "      <td>-0.133269</td>\n",
       "      <td>-0.231254</td>\n",
       "      <td>-0.083980</td>\n",
       "      <td>-0.228372</td>\n",
       "      <td>0.113230</td>\n",
       "      <td>-0.240089</td>\n",
       "      <td>-0.488886</td>\n",
       "      <td>0.052786</td>\n",
       "      <td>-0.014433</td>\n",
       "      <td>0.060512</td>\n",
       "      <td>-0.667926</td>\n",
       "      <td>-0.277313</td>\n",
       "      <td>-0.011298</td>\n",
       "      <td>-0.148004</td>\n",
       "      <td>-0.913971</td>\n",
       "      <td>-0.427606</td>\n",
       "      <td>-0.603466</td>\n",
       "      <td>-0.617316</td>\n",
       "      <td>-1.007584</td>\n",
       "      <td>-0.359050</td>\n",
       "      <td>-0.769944</td>\n",
       "      <td>-0.381400</td>\n",
       "      <td>-0.917982</td>\n",
       "      <td>-2.557004</td>\n",
       "    </tr>\n",
       "    <tr>\n",
       "      <th>2</th>\n",
       "      <td>-1.025874</td>\n",
       "      <td>-1.437296</td>\n",
       "      <td>-1.335982</td>\n",
       "      <td>-0.114585</td>\n",
       "      <td>0.503507</td>\n",
       "      <td>-0.071983</td>\n",
       "      <td>-0.135357</td>\n",
       "      <td>0.154500</td>\n",
       "      <td>-0.642433</td>\n",
       "      <td>-0.209025</td>\n",
       "      <td>1.513337</td>\n",
       "      <td>0.266409</td>\n",
       "      <td>1.405717</td>\n",
       "      <td>0.281621</td>\n",
       "      <td>1.827228</td>\n",
       "      <td>0.289466</td>\n",
       "      <td>1.786987</td>\n",
       "      <td>0.231735</td>\n",
       "      <td>2.183748</td>\n",
       "      <td>0.226112</td>\n",
       "      <td>-0.041859</td>\n",
       "      <td>0.175239</td>\n",
       "      <td>-0.494656</td>\n",
       "      <td>0.742260</td>\n",
       "      <td>-0.090816</td>\n",
       "      <td>-0.072101</td>\n",
       "      <td>0.084206</td>\n",
       "      <td>-0.272898</td>\n",
       "      <td>0.054950</td>\n",
       "      <td>-0.254086</td>\n",
       "      <td>0.108357</td>\n",
       "      <td>-0.278123</td>\n",
       "      <td>0.216004</td>\n",
       "      <td>-0.260881</td>\n",
       "      <td>-0.466013</td>\n",
       "      <td>0.053858</td>\n",
       "      <td>-0.014932</td>\n",
       "      <td>0.067535</td>\n",
       "      <td>-0.677295</td>\n",
       "      <td>-0.265628</td>\n",
       "      <td>0.325457</td>\n",
       "      <td>-0.158407</td>\n",
       "      <td>-0.909611</td>\n",
       "      <td>-0.366343</td>\n",
       "      <td>-0.611243</td>\n",
       "      <td>-0.614336</td>\n",
       "      <td>-1.001709</td>\n",
       "      <td>-0.357885</td>\n",
       "      <td>-0.764385</td>\n",
       "      <td>-0.379703</td>\n",
       "      <td>-0.912471</td>\n",
       "      <td>-2.601460</td>\n",
       "    </tr>\n",
       "    <tr>\n",
       "      <th>3</th>\n",
       "      <td>-1.152150</td>\n",
       "      <td>-1.475438</td>\n",
       "      <td>-1.450134</td>\n",
       "      <td>0.056254</td>\n",
       "      <td>0.621134</td>\n",
       "      <td>-0.059759</td>\n",
       "      <td>-0.221179</td>\n",
       "      <td>0.159625</td>\n",
       "      <td>-0.641842</td>\n",
       "      <td>-0.210354</td>\n",
       "      <td>1.517340</td>\n",
       "      <td>0.255534</td>\n",
       "      <td>1.407347</td>\n",
       "      <td>0.282417</td>\n",
       "      <td>1.817057</td>\n",
       "      <td>0.286307</td>\n",
       "      <td>1.796867</td>\n",
       "      <td>0.230173</td>\n",
       "      <td>2.183266</td>\n",
       "      <td>0.238446</td>\n",
       "      <td>-0.101199</td>\n",
       "      <td>0.168533</td>\n",
       "      <td>-0.529361</td>\n",
       "      <td>0.744027</td>\n",
       "      <td>-0.090816</td>\n",
       "      <td>-0.061489</td>\n",
       "      <td>0.071833</td>\n",
       "      <td>-0.304455</td>\n",
       "      <td>0.057050</td>\n",
       "      <td>-0.225444</td>\n",
       "      <td>0.095790</td>\n",
       "      <td>-0.273577</td>\n",
       "      <td>0.219727</td>\n",
       "      <td>-0.266107</td>\n",
       "      <td>-0.477520</td>\n",
       "      <td>0.067295</td>\n",
       "      <td>-0.002986</td>\n",
       "      <td>0.069258</td>\n",
       "      <td>-0.668536</td>\n",
       "      <td>-0.275920</td>\n",
       "      <td>0.324868</td>\n",
       "      <td>-0.159384</td>\n",
       "      <td>-0.905489</td>\n",
       "      <td>-0.332170</td>\n",
       "      <td>-0.593367</td>\n",
       "      <td>-0.615243</td>\n",
       "      <td>-1.020361</td>\n",
       "      <td>-0.331433</td>\n",
       "      <td>-0.771363</td>\n",
       "      <td>-0.372831</td>\n",
       "      <td>-0.916673</td>\n",
       "      <td>-2.562667</td>\n",
       "    </tr>\n",
       "    <tr>\n",
       "      <th>4</th>\n",
       "      <td>-1.387324</td>\n",
       "      <td>-1.466257</td>\n",
       "      <td>-1.685282</td>\n",
       "      <td>-0.426098</td>\n",
       "      <td>0.601861</td>\n",
       "      <td>-0.135402</td>\n",
       "      <td>-0.419800</td>\n",
       "      <td>0.155780</td>\n",
       "      <td>-0.642687</td>\n",
       "      <td>-0.205641</td>\n",
       "      <td>1.518168</td>\n",
       "      <td>0.273682</td>\n",
       "      <td>1.409000</td>\n",
       "      <td>0.280176</td>\n",
       "      <td>1.826795</td>\n",
       "      <td>0.290263</td>\n",
       "      <td>1.800330</td>\n",
       "      <td>0.249639</td>\n",
       "      <td>2.188703</td>\n",
       "      <td>0.228123</td>\n",
       "      <td>-0.291813</td>\n",
       "      <td>0.167134</td>\n",
       "      <td>-0.625260</td>\n",
       "      <td>0.922368</td>\n",
       "      <td>-0.090816</td>\n",
       "      <td>-0.036030</td>\n",
       "      <td>0.082519</td>\n",
       "      <td>-0.239079</td>\n",
       "      <td>0.063047</td>\n",
       "      <td>-0.245330</td>\n",
       "      <td>0.090449</td>\n",
       "      <td>-0.278701</td>\n",
       "      <td>0.228749</td>\n",
       "      <td>-0.278651</td>\n",
       "      <td>-0.462429</td>\n",
       "      <td>0.047620</td>\n",
       "      <td>-0.003015</td>\n",
       "      <td>0.056817</td>\n",
       "      <td>-0.665436</td>\n",
       "      <td>-0.277283</td>\n",
       "      <td>0.325678</td>\n",
       "      <td>-0.160426</td>\n",
       "      <td>-0.907256</td>\n",
       "      <td>-0.311244</td>\n",
       "      <td>-0.602943</td>\n",
       "      <td>-0.613141</td>\n",
       "      <td>-1.028645</td>\n",
       "      <td>-0.402306</td>\n",
       "      <td>-0.787224</td>\n",
       "      <td>-0.375461</td>\n",
       "      <td>-0.918292</td>\n",
       "      <td>-2.603340</td>\n",
       "    </tr>\n",
       "  </tbody>\n",
       "</table>\n",
       "</div>"
      ],
      "text/plain": [
       "   rougher.input.feed_au  rougher.input.feed_ag  rougher.input.feed_pb  \\\n",
       "0              -0.961747              -1.445679              -1.218572   \n",
       "1              -0.965663              -1.414008              -1.236264   \n",
       "2              -1.025874              -1.437296              -1.335982   \n",
       "3              -1.152150              -1.475438              -1.450134   \n",
       "4              -1.387324              -1.466257              -1.685282   \n",
       "\n",
       "   rougher.input.feed_sol  rougher.input.feed_rate  rougher.input.feed_size  \\\n",
       "0                0.045964                 0.442836                -0.159695   \n",
       "1               -0.156449                 0.459167                -0.082036   \n",
       "2               -0.114585                 0.503507                -0.071983   \n",
       "3                0.056254                 0.621134                -0.059759   \n",
       "4               -0.426098                 0.601861                -0.135402   \n",
       "\n",
       "   rougher.input.floatbank10_sulfate  rougher.input.floatbank10_xanthate  \\\n",
       "0                          -0.115856                           -0.012847   \n",
       "1                          -0.120412                           -0.014813   \n",
       "2                          -0.135357                            0.154500   \n",
       "3                          -0.221179                            0.159625   \n",
       "4                          -0.419800                            0.155780   \n",
       "\n",
       "   rougher.state.floatbank10_a_air  rougher.state.floatbank10_a_level  \\\n",
       "0                        -0.642512                          -0.251088   \n",
       "1                        -0.638913                          -0.208932   \n",
       "2                        -0.642433                          -0.209025   \n",
       "3                        -0.641842                          -0.210354   \n",
       "4                        -0.642687                          -0.205641   \n",
       "\n",
       "   rougher.state.floatbank10_b_air  rougher.state.floatbank10_b_level  \\\n",
       "0                         1.533703                           0.538427   \n",
       "1                         1.521193                           0.267389   \n",
       "2                         1.513337                           0.266409   \n",
       "3                         1.517340                           0.255534   \n",
       "4                         1.518168                           0.273682   \n",
       "\n",
       "   rougher.state.floatbank10_c_air  rougher.state.floatbank10_c_level  \\\n",
       "0                         1.418669                           0.421852   \n",
       "1                         1.409584                           0.283862   \n",
       "2                         1.405717                           0.281621   \n",
       "3                         1.407347                           0.282417   \n",
       "4                         1.409000                           0.280176   \n",
       "\n",
       "   rougher.state.floatbank10_d_air  rougher.state.floatbank10_d_level  \\\n",
       "0                         1.822861                           0.265407   \n",
       "1                         1.830475                           0.289476   \n",
       "2                         1.827228                           0.289466   \n",
       "3                         1.817057                           0.286307   \n",
       "4                         1.826795                           0.290263   \n",
       "\n",
       "   rougher.state.floatbank10_e_air  rougher.state.floatbank10_e_level  \\\n",
       "0                         1.816651                           0.138446   \n",
       "1                         1.787246                           0.215995   \n",
       "2                         1.786987                           0.231735   \n",
       "3                         1.796867                           0.230173   \n",
       "4                         1.800330                           0.249639   \n",
       "\n",
       "   rougher.state.floatbank10_f_air  rougher.state.floatbank10_f_level  \\\n",
       "0                         2.277966                           0.202451   \n",
       "1                         2.180240                           0.232949   \n",
       "2                         2.183748                           0.226112   \n",
       "3                         2.183266                           0.238446   \n",
       "4                         2.188703                           0.228123   \n",
       "\n",
       "   rougher.input.floatbank11_sulfate  rougher.input.floatbank11_xanthate  \\\n",
       "0                          -0.063621                            0.009739   \n",
       "1                          -0.022104                            0.015379   \n",
       "2                          -0.041859                            0.175239   \n",
       "3                          -0.101199                            0.168533   \n",
       "4                          -0.291813                            0.167134   \n",
       "\n",
       "   primary_cleaner.input.sulfate  primary_cleaner.input.depressant  \\\n",
       "0                      -0.421374                          0.384060   \n",
       "1                      -0.454133                          0.434702   \n",
       "2                      -0.494656                          0.742260   \n",
       "3                      -0.529361                          0.744027   \n",
       "4                      -0.625260                          0.922368   \n",
       "\n",
       "   primary_cleaner.input.feed_size  primary_cleaner.input.xanthate  \\\n",
       "0                        -0.090816                       -0.076960   \n",
       "1                        -0.090816                       -0.050002   \n",
       "2                        -0.090816                       -0.072101   \n",
       "3                        -0.090816                       -0.061489   \n",
       "4                        -0.090816                       -0.036030   \n",
       "\n",
       "   primary_cleaner.state.floatbank8_a_air  \\\n",
       "0                               -0.319384   \n",
       "1                               -0.113686   \n",
       "2                                0.084206   \n",
       "3                                0.071833   \n",
       "4                                0.082519   \n",
       "\n",
       "   primary_cleaner.state.floatbank8_a_level  \\\n",
       "0                                 -0.236984   \n",
       "1                                 -0.302907   \n",
       "2                                 -0.272898   \n",
       "3                                 -0.304455   \n",
       "4                                 -0.239079   \n",
       "\n",
       "   primary_cleaner.state.floatbank8_b_air  \\\n",
       "0                               -0.322107   \n",
       "1                               -0.133269   \n",
       "2                                0.054950   \n",
       "3                                0.057050   \n",
       "4                                0.063047   \n",
       "\n",
       "   primary_cleaner.state.floatbank8_b_level  \\\n",
       "0                                 -0.740204   \n",
       "1                                 -0.231254   \n",
       "2                                 -0.254086   \n",
       "3                                 -0.225444   \n",
       "4                                 -0.245330   \n",
       "\n",
       "   primary_cleaner.state.floatbank8_c_air  \\\n",
       "0                               -0.277137   \n",
       "1                               -0.083980   \n",
       "2                                0.108357   \n",
       "3                                0.095790   \n",
       "4                                0.090449   \n",
       "\n",
       "   primary_cleaner.state.floatbank8_c_level  \\\n",
       "0                                 -0.207623   \n",
       "1                                 -0.228372   \n",
       "2                                 -0.278123   \n",
       "3                                 -0.273577   \n",
       "4                                 -0.278701   \n",
       "\n",
       "   primary_cleaner.state.floatbank8_d_air  \\\n",
       "0                                0.030757   \n",
       "1                                0.113230   \n",
       "2                                0.216004   \n",
       "3                                0.219727   \n",
       "4                                0.228749   \n",
       "\n",
       "   primary_cleaner.state.floatbank8_d_level  \\\n",
       "0                                 -0.112346   \n",
       "1                                 -0.240089   \n",
       "2                                 -0.260881   \n",
       "3                                 -0.266107   \n",
       "4                                 -0.278651   \n",
       "\n",
       "   secondary_cleaner.state.floatbank2_a_air  \\\n",
       "0                                 -0.493917   \n",
       "1                                 -0.488886   \n",
       "2                                 -0.466013   \n",
       "3                                 -0.477520   \n",
       "4                                 -0.462429   \n",
       "\n",
       "   secondary_cleaner.state.floatbank2_a_level  \\\n",
       "0                                    0.078901   \n",
       "1                                    0.052786   \n",
       "2                                    0.053858   \n",
       "3                                    0.067295   \n",
       "4                                    0.047620   \n",
       "\n",
       "   secondary_cleaner.state.floatbank2_b_air  \\\n",
       "0                                 -0.013717   \n",
       "1                                 -0.014433   \n",
       "2                                 -0.014932   \n",
       "3                                 -0.002986   \n",
       "4                                 -0.003015   \n",
       "\n",
       "   secondary_cleaner.state.floatbank2_b_level  \\\n",
       "0                                    0.043243   \n",
       "1                                    0.060512   \n",
       "2                                    0.067535   \n",
       "3                                    0.069258   \n",
       "4                                    0.056817   \n",
       "\n",
       "   secondary_cleaner.state.floatbank3_a_air  \\\n",
       "0                                 -0.669364   \n",
       "1                                 -0.667926   \n",
       "2                                 -0.677295   \n",
       "3                                 -0.668536   \n",
       "4                                 -0.665436   \n",
       "\n",
       "   secondary_cleaner.state.floatbank3_a_level  \\\n",
       "0                                   -0.189689   \n",
       "1                                   -0.277313   \n",
       "2                                   -0.265628   \n",
       "3                                   -0.275920   \n",
       "4                                   -0.277283   \n",
       "\n",
       "   secondary_cleaner.state.floatbank3_b_air  \\\n",
       "0                                 -0.037437   \n",
       "1                                 -0.011298   \n",
       "2                                  0.325457   \n",
       "3                                  0.324868   \n",
       "4                                  0.325678   \n",
       "\n",
       "   secondary_cleaner.state.floatbank3_b_level  \\\n",
       "0                                   -0.145583   \n",
       "1                                   -0.148004   \n",
       "2                                   -0.158407   \n",
       "3                                   -0.159384   \n",
       "4                                   -0.160426   \n",
       "\n",
       "   secondary_cleaner.state.floatbank4_a_air  \\\n",
       "0                                 -0.909262   \n",
       "1                                 -0.913971   \n",
       "2                                 -0.909611   \n",
       "3                                 -0.905489   \n",
       "4                                 -0.907256   \n",
       "\n",
       "   secondary_cleaner.state.floatbank4_a_level  \\\n",
       "0                                   -0.365667   \n",
       "1                                   -0.427606   \n",
       "2                                   -0.366343   \n",
       "3                                   -0.332170   \n",
       "4                                   -0.311244   \n",
       "\n",
       "   secondary_cleaner.state.floatbank4_b_air  \\\n",
       "0                                 -0.572687   \n",
       "1                                 -0.603466   \n",
       "2                                 -0.611243   \n",
       "3                                 -0.593367   \n",
       "4                                 -0.602943   \n",
       "\n",
       "   secondary_cleaner.state.floatbank4_b_level  \\\n",
       "0                                   -0.668211   \n",
       "1                                   -0.617316   \n",
       "2                                   -0.614336   \n",
       "3                                   -0.615243   \n",
       "4                                   -0.613141   \n",
       "\n",
       "   secondary_cleaner.state.floatbank5_a_air  \\\n",
       "0                                 -1.028659   \n",
       "1                                 -1.007584   \n",
       "2                                 -1.001709   \n",
       "3                                 -1.020361   \n",
       "4                                 -1.028645   \n",
       "\n",
       "   secondary_cleaner.state.floatbank5_a_level  \\\n",
       "0                                   -0.306010   \n",
       "1                                   -0.359050   \n",
       "2                                   -0.357885   \n",
       "3                                   -0.331433   \n",
       "4                                   -0.402306   \n",
       "\n",
       "   secondary_cleaner.state.floatbank5_b_air  \\\n",
       "0                                 -0.751825   \n",
       "1                                 -0.769944   \n",
       "2                                 -0.764385   \n",
       "3                                 -0.771363   \n",
       "4                                 -0.787224   \n",
       "\n",
       "   secondary_cleaner.state.floatbank5_b_level  \\\n",
       "0                                   -0.378479   \n",
       "1                                   -0.381400   \n",
       "2                                   -0.379703   \n",
       "3                                   -0.372831   \n",
       "4                                   -0.375461   \n",
       "\n",
       "   secondary_cleaner.state.floatbank6_a_air  \\\n",
       "0                                 -0.890163   \n",
       "1                                 -0.917982   \n",
       "2                                 -0.912471   \n",
       "3                                 -0.916673   \n",
       "4                                 -0.918292   \n",
       "\n",
       "   secondary_cleaner.state.floatbank6_a_level  \n",
       "0                                   -2.721118  \n",
       "1                                   -2.557004  \n",
       "2                                   -2.601460  \n",
       "3                                   -2.562667  \n",
       "4                                   -2.603340  "
      ]
     },
     "execution_count": 41,
     "metadata": {},
     "output_type": "execute_result"
    }
   ],
   "source": [
    "# Проверим итоги масштабирования на обучающей выборке для финального концентрата\n",
    "features_train_final.head()"
   ]
  },
  {
   "cell_type": "markdown",
   "metadata": {},
   "source": [
    "**Признак, который нужно предсказать, — целевой: в нашей задаче это эффективность обогащения. Такие задачи относятся к классу «обучение с учителем». Целевой признак числовой, т.о. мы будем решать задачу регрессии.**"
   ]
  },
  {
   "cell_type": "code",
   "execution_count": 42,
   "metadata": {},
   "outputs": [],
   "source": [
    "# Подбор параметров модели с помощью make_scorer из sklearn.metrics для генерации объекта скоринга\n",
    "smape_score = make_scorer(smape, greater_is_better= False )"
   ]
  },
  {
   "cell_type": "markdown",
   "metadata": {},
   "source": [
    "#### Дерево решений в регрессии"
   ]
  },
  {
   "cell_type": "code",
   "execution_count": 43,
   "metadata": {},
   "outputs": [
    {
     "name": "stdout",
     "output_type": "stream",
     "text": [
      "\n",
      "Лучшие параметры дерева решений: {'max_depth': 2, 'min_samples_leaf': 1}\n",
      "Лучшие параметры дерева решений: {'max_depth': 2, 'min_samples_leaf': 1}\n",
      "Лучшая smape для дерева решений: 9.054019361385242\n",
      "CPU times: user 53.1 s, sys: 50.7 ms, total: 53.1 s\n",
      "Wall time: 53.4 s\n",
      "\n"
     ]
    }
   ],
   "source": [
    "%%time\n",
    "# Матрица гиперпараметров с губиной до 100 и минимальным количеством узлов до 5\n",
    "param_dtr = {'max_depth': range(1, 10),\n",
    "                'min_samples_leaf': range(1, 5)\n",
    "                 }\n",
    "# Кросс-валидация дерева решений с помощью GridSearchCV и обучение \n",
    "model_dtr = DecisionTreeRegressor(random_state=12345)\n",
    "model_rouger_cv1 = GridSearchCV(model_dtr, param_grid=param_dtr, cv=4, n_jobs=-1, scoring=smape_score)\n",
    "\n",
    "model_rouger1 = model_rouger_cv1.fit(features_train_rougher, target_train_rougher)\n",
    "model_final1 = model_rouger_cv1.fit(features_train_final, target_train_final)\n",
    "\n",
    "rougher_smape_dtr = -model_rouger1.best_score_\n",
    "final_smape_dtr = -model_final1.best_score_\n",
    "\n",
    "print('Лучшие параметры дерева решений:', model_rouger1.best_params_)\n",
    "print('Лучшие параметры дерева решений:', model_final1.best_params_)\n",
    "print('Лучшая smape для дерева решений:', smape_result(rougher_smape_dtr, final_smape_dtr).mean())"
   ]
  },
  {
   "cell_type": "markdown",
   "metadata": {},
   "source": [
    "#### Случайный лес в регрессии"
   ]
  },
  {
   "cell_type": "code",
   "execution_count": 44,
   "metadata": {},
   "outputs": [
    {
     "name": "stdout",
     "output_type": "stream",
     "text": [
      "\n",
      "Лучшие параметры случайного леса: {'max_depth': 4, 'n_estimators': 91}\n",
      "Лучшие параметры случайного леса: {'max_depth': 4, 'n_estimators': 91}\n",
      "Лучшая smape для случайного леса: 9.463379885068731\n",
      "CPU times: user 30min 33s, sys: 2.24 s, total: 30min 35s\n",
      "Wall time: 30min 38s\n",
      "\n"
     ]
    }
   ],
   "source": [
    "%%time\n",
    "# Матрица гиперпараметров с губиной до 40 и количеством деревьев до 10\n",
    "param_rfr = {'max_depth': range(4, 16, 4),\n",
    "                'n_estimators': range(1, 100, 10)\n",
    "                 }\n",
    "# Кросс-валидация случайного леса с помощью GridSearchCV и обучение \n",
    "model_rfr = RandomForestRegressor(random_state=12345)\n",
    "model_rouger_cv2 = GridSearchCV(model_rfr, param_grid=param_rfr, cv=4, n_jobs=-1, scoring=smape_score)\n",
    "\n",
    "model_rouger2 = model_rouger_cv2.fit(features_train_rougher, target_train_rougher)\n",
    "model_final2 = model_rouger_cv2.fit(features_train_final, target_train_final)\n",
    "\n",
    "rougher_smape_rfr = -model_rouger2.best_score_\n",
    "final_smape_rfr = -model_final2.best_score_\n",
    "\n",
    "print('Лучшие параметры случайного леса:', model_rouger2.best_params_)\n",
    "print('Лучшие параметры случайного леса:', model_final2.best_params_)\n",
    "print('Лучшая smape для случайного леса:', smape_result(rougher_smape_rfr, final_smape_rfr).mean())"
   ]
  },
  {
   "cell_type": "markdown",
   "metadata": {},
   "source": [
    "#### Линейная регрессия"
   ]
  },
  {
   "cell_type": "code",
   "execution_count": 45,
   "metadata": {},
   "outputs": [
    {
     "name": "stdout",
     "output_type": "stream",
     "text": [
      "Итоговая smape для линейной регрессии: 8.740650357185853\n"
     ]
    }
   ],
   "source": [
    "# построим модель для линейной регрессии и сделаем кросс-валидацию методом cross_val_score\n",
    "model_lr = LinearRegression()\n",
    "rougher_smape_lr = cross_val_score(model_lr, features_train_rougher, target_train_rougher, scoring=smape_score, cv=5)\n",
    "final_smape_lr =  cross_val_score(model_lr, features_train_final, target_train_final, scoring=smape_score, cv=5)\n",
    "print('Итоговая smape для линейной регрессии:', -smape_result(rougher_smape_lr, final_smape_lr).mean())"
   ]
  },
  {
   "cell_type": "markdown",
   "metadata": {},
   "source": [
    "### Выберем лучшую модель, посчитаем оценку на тестовой выборке и проверим на адекватность."
   ]
  },
  {
   "cell_type": "markdown",
   "metadata": {},
   "source": [
    "**Лучшие результаты показала модель линейной регресии.**"
   ]
  },
  {
   "cell_type": "code",
   "execution_count": 46,
   "metadata": {},
   "outputs": [
    {
     "name": "stdout",
     "output_type": "stream",
     "text": [
      "Итоговая smape: 7.185478088733726\n"
     ]
    }
   ],
   "source": [
    "model_rougher = LinearRegression()\n",
    "model_rougher.fit(features_train_rougher, target_train_rougher)\n",
    "predictions_rougher = model_rougher.predict(features_test_rougher)\n",
    "\n",
    "model_final = LinearRegression()\n",
    "model_final.fit(features_train_final, target_train_final)\n",
    "predictions_final = model_final.predict(features_test_final)\n",
    "\n",
    "smape_rougher = smape(target_test_rougher, predictions_rougher)\n",
    "smape_final = smape(target_test_final, predictions_final)\n",
    "result_smepe = smape_result(smape_rougher, smape_final)\n",
    "\n",
    "print('Итоговая smape:', result_smepe)"
   ]
  },
  {
   "cell_type": "markdown",
   "metadata": {},
   "source": [
    "**Проверим модель на адекватность с помощью фиктивной модели DummyRegressor**"
   ]
  },
  {
   "cell_type": "code",
   "execution_count": 47,
   "metadata": {},
   "outputs": [
    {
     "name": "stdout",
     "output_type": "stream",
     "text": [
      "Итоговая smape: 8.4719039612181\n"
     ]
    }
   ],
   "source": [
    "model_rougher = DummyRegressor()\n",
    "model_rougher.fit(features_train_rougher, target_train_rougher)\n",
    "predictions_rougher = model_rougher.predict(features_test_rougher)\n",
    "\n",
    "model_final = DummyRegressor()\n",
    "model_final.fit(features_train_final, target_train_final)\n",
    "predictions_final = model_final.predict(features_test_final)\n",
    "\n",
    "smape_rougher = smape(target_test_rougher, predictions_rougher)\n",
    "smape_final = smape(target_test_final, predictions_final)\n",
    "result_smepe = smape_result(smape_rougher, smape_final)\n",
    "\n",
    "print('Итоговая smape:', result_smepe)"
   ]
  },
  {
   "cell_type": "markdown",
   "metadata": {},
   "source": [
    "Итоговая smape у линейной регрессии лучше чем у модели, которая предсказывает всегда среднее значения.  Таким образом, делаем вывод, что наша модель адекватна."
   ]
  },
  {
   "cell_type": "markdown",
   "metadata": {},
   "source": [
    "**ВЫВОД: лучшую оценку показала модель**\n",
    "<div style=\"background: #B0E0E6; padding: 5px; border: 1px solid SteelBlue; border-radius: 5px;\">\n",
    "    <font color='4682B4'><u><b>КОММЕНТАРИЙ</b></u></font>\n",
    "    <br />\n",
    "    <font color='4682B4'> линейной регрессии с оценкой  7.185478088733726  \n",
    "</font>\n",
    "</div>  \n",
    "\n",
    "\n",
    "Для этого мы провели следующие этапы:\n",
    "- Написали функцию для расчета smape;\n",
    "- Масштабировали признаки;\n",
    "- Провели подготовку данных для обучения;\n",
    "- Провели обучение разных моделей и оценили их при помощи кросс-валидации;\n",
    "- Вбрали лучшую модель;\n",
    "- Проверили модель на тестовой выборке;\n",
    "- Проверили модель на адекватность."
   ]
  },
  {
   "cell_type": "code",
   "execution_count": null,
   "metadata": {},
   "outputs": [],
   "source": []
  }
 ],
 "metadata": {
  "ExecuteTimeLog": [
   {
    "duration": 400,
    "start_time": "2023-05-10T19:09:42.937Z"
   },
   {
    "duration": 1768,
    "start_time": "2023-05-10T19:09:43.450Z"
   },
   {
    "duration": 25,
    "start_time": "2023-05-10T19:11:51.246Z"
   },
   {
    "duration": 437,
    "start_time": "2023-05-10T19:14:07.873Z"
   },
   {
    "duration": 20,
    "start_time": "2023-05-10T19:14:13.699Z"
   },
   {
    "duration": 56,
    "start_time": "2023-05-10T19:39:23.529Z"
   },
   {
    "duration": 423,
    "start_time": "2023-05-11T11:45:44.978Z"
   },
   {
    "duration": 1247,
    "start_time": "2023-05-11T11:45:45.403Z"
   },
   {
    "duration": 48,
    "start_time": "2023-05-11T11:45:46.652Z"
   },
   {
    "duration": 28,
    "start_time": "2023-05-11T11:45:46.702Z"
   },
   {
    "duration": 66,
    "start_time": "2023-05-11T11:45:46.732Z"
   },
   {
    "duration": 2,
    "start_time": "2023-05-11T11:46:17.160Z"
   },
   {
    "duration": 9,
    "start_time": "2023-05-11T11:46:21.452Z"
   },
   {
    "duration": 11,
    "start_time": "2023-05-11T18:36:38.836Z"
   },
   {
    "duration": 459,
    "start_time": "2023-05-11T18:48:26.960Z"
   },
   {
    "duration": 3684,
    "start_time": "2023-05-11T18:48:27.421Z"
   },
   {
    "duration": 4,
    "start_time": "2023-05-11T18:48:31.107Z"
   },
   {
    "duration": 517,
    "start_time": "2023-05-11T18:48:31.113Z"
   },
   {
    "duration": 295,
    "start_time": "2023-05-11T18:48:31.633Z"
   },
   {
    "duration": 12,
    "start_time": "2023-05-11T18:48:31.931Z"
   },
   {
    "duration": 8,
    "start_time": "2023-05-11T18:56:32.054Z"
   },
   {
    "duration": 89,
    "start_time": "2023-05-11T19:04:42.423Z"
   },
   {
    "duration": 5,
    "start_time": "2023-05-11T19:05:09.348Z"
   },
   {
    "duration": 12,
    "start_time": "2023-05-11T19:05:20.406Z"
   },
   {
    "duration": 22,
    "start_time": "2023-05-11T19:05:56.366Z"
   },
   {
    "duration": 9,
    "start_time": "2023-05-11T19:06:18.019Z"
   },
   {
    "duration": 12,
    "start_time": "2023-05-11T19:06:41.055Z"
   },
   {
    "duration": 15,
    "start_time": "2023-05-11T19:07:10.662Z"
   },
   {
    "duration": 20,
    "start_time": "2023-05-11T19:07:20.198Z"
   },
   {
    "duration": 440,
    "start_time": "2023-05-11T19:08:58.987Z"
   },
   {
    "duration": 892,
    "start_time": "2023-05-11T19:08:59.430Z"
   },
   {
    "duration": 5,
    "start_time": "2023-05-11T19:09:00.324Z"
   },
   {
    "duration": 551,
    "start_time": "2023-05-11T19:09:00.330Z"
   },
   {
    "duration": 258,
    "start_time": "2023-05-11T19:09:00.890Z"
   },
   {
    "duration": 22,
    "start_time": "2023-05-11T19:09:01.149Z"
   },
   {
    "duration": 82,
    "start_time": "2023-05-11T19:09:01.181Z"
   },
   {
    "duration": 52,
    "start_time": "2023-05-11T19:09:01.265Z"
   },
   {
    "duration": 80,
    "start_time": "2023-05-11T19:25:45.231Z"
   },
   {
    "duration": 3,
    "start_time": "2023-05-11T19:25:49.610Z"
   },
   {
    "duration": 7,
    "start_time": "2023-05-11T19:25:50.598Z"
   },
   {
    "duration": 12,
    "start_time": "2023-05-11T19:28:00.692Z"
   },
   {
    "duration": 823,
    "start_time": "2023-05-11T19:28:06.595Z"
   },
   {
    "duration": 6,
    "start_time": "2023-05-11T19:28:10.928Z"
   },
   {
    "duration": 1161,
    "start_time": "2023-05-11T19:30:19.016Z"
   },
   {
    "duration": 974,
    "start_time": "2023-05-11T19:30:20.179Z"
   },
   {
    "duration": 4,
    "start_time": "2023-05-11T19:30:21.155Z"
   },
   {
    "duration": 547,
    "start_time": "2023-05-11T19:30:21.161Z"
   },
   {
    "duration": 277,
    "start_time": "2023-05-11T19:30:21.710Z"
   },
   {
    "duration": 5,
    "start_time": "2023-05-11T19:30:21.989Z"
   },
   {
    "duration": 56,
    "start_time": "2023-05-11T19:30:21.996Z"
   },
   {
    "duration": 102,
    "start_time": "2023-05-11T19:30:22.054Z"
   },
   {
    "duration": 103,
    "start_time": "2023-05-11T19:30:22.158Z"
   },
   {
    "duration": 99,
    "start_time": "2023-05-11T19:30:22.264Z"
   },
   {
    "duration": 20,
    "start_time": "2023-05-11T19:30:22.365Z"
   },
   {
    "duration": 5,
    "start_time": "2023-05-11T19:50:49.200Z"
   },
   {
    "duration": 114,
    "start_time": "2023-05-11T19:51:05.914Z"
   },
   {
    "duration": 13,
    "start_time": "2023-05-11T19:51:36.302Z"
   },
   {
    "duration": 9,
    "start_time": "2023-05-11T19:52:39.798Z"
   },
   {
    "duration": 14,
    "start_time": "2023-05-11T19:53:04.738Z"
   },
   {
    "duration": 10,
    "start_time": "2023-05-11T19:54:29.141Z"
   },
   {
    "duration": 6,
    "start_time": "2023-05-11T19:56:43.546Z"
   },
   {
    "duration": 1208,
    "start_time": "2023-05-11T19:57:19.922Z"
   },
   {
    "duration": 938,
    "start_time": "2023-05-11T19:57:21.134Z"
   },
   {
    "duration": 9,
    "start_time": "2023-05-11T19:57:22.080Z"
   },
   {
    "duration": 591,
    "start_time": "2023-05-11T19:57:22.092Z"
   },
   {
    "duration": 292,
    "start_time": "2023-05-11T19:57:22.691Z"
   },
   {
    "duration": 8,
    "start_time": "2023-05-11T19:57:22.985Z"
   },
   {
    "duration": 101,
    "start_time": "2023-05-11T19:57:22.994Z"
   },
   {
    "duration": 17,
    "start_time": "2023-05-11T19:57:23.097Z"
   },
   {
    "duration": 13,
    "start_time": "2023-05-11T19:57:23.117Z"
   },
   {
    "duration": 20,
    "start_time": "2023-05-11T19:57:23.134Z"
   },
   {
    "duration": 52,
    "start_time": "2023-05-11T19:57:23.156Z"
   },
   {
    "duration": 41,
    "start_time": "2023-05-11T19:57:23.210Z"
   },
   {
    "duration": 37,
    "start_time": "2023-05-11T19:57:23.254Z"
   },
   {
    "duration": 40,
    "start_time": "2023-05-11T19:57:23.294Z"
   },
   {
    "duration": 1392,
    "start_time": "2023-05-15T18:33:46.662Z"
   },
   {
    "duration": 4891,
    "start_time": "2023-05-15T18:33:48.056Z"
   },
   {
    "duration": 8,
    "start_time": "2023-05-15T18:33:52.954Z"
   },
   {
    "duration": 508,
    "start_time": "2023-05-15T18:33:52.965Z"
   },
   {
    "duration": 356,
    "start_time": "2023-05-15T18:33:53.475Z"
   },
   {
    "duration": 5,
    "start_time": "2023-05-15T18:33:53.834Z"
   },
   {
    "duration": 13,
    "start_time": "2023-05-15T18:33:53.843Z"
   },
   {
    "duration": 10,
    "start_time": "2023-05-15T18:33:53.858Z"
   },
   {
    "duration": 25,
    "start_time": "2023-05-15T18:33:53.870Z"
   },
   {
    "duration": 5,
    "start_time": "2023-05-15T18:33:53.904Z"
   },
   {
    "duration": 14,
    "start_time": "2023-05-15T18:33:53.911Z"
   },
   {
    "duration": 11,
    "start_time": "2023-05-15T18:33:53.928Z"
   },
   {
    "duration": 24,
    "start_time": "2023-05-15T18:33:53.941Z"
   },
   {
    "duration": 39,
    "start_time": "2023-05-15T18:33:53.966Z"
   },
   {
    "duration": 22,
    "start_time": "2023-05-15T18:33:54.008Z"
   },
   {
    "duration": 16,
    "start_time": "2023-05-15T18:34:19.764Z"
   },
   {
    "duration": 1179,
    "start_time": "2023-05-15T18:44:55.816Z"
   },
   {
    "duration": 970,
    "start_time": "2023-05-15T18:44:56.999Z"
   },
   {
    "duration": 4,
    "start_time": "2023-05-15T18:44:57.971Z"
   },
   {
    "duration": 465,
    "start_time": "2023-05-15T18:44:57.977Z"
   },
   {
    "duration": 283,
    "start_time": "2023-05-15T18:44:58.444Z"
   },
   {
    "duration": 3,
    "start_time": "2023-05-15T18:44:58.728Z"
   },
   {
    "duration": 14,
    "start_time": "2023-05-15T18:44:58.733Z"
   },
   {
    "duration": 10,
    "start_time": "2023-05-15T18:44:58.749Z"
   },
   {
    "duration": 38,
    "start_time": "2023-05-15T18:44:58.760Z"
   },
   {
    "duration": 5,
    "start_time": "2023-05-15T18:44:58.804Z"
   },
   {
    "duration": 6,
    "start_time": "2023-05-15T18:44:58.810Z"
   },
   {
    "duration": 19,
    "start_time": "2023-05-15T18:44:58.817Z"
   },
   {
    "duration": 32,
    "start_time": "2023-05-15T18:44:58.838Z"
   },
   {
    "duration": 9,
    "start_time": "2023-05-15T18:44:58.872Z"
   },
   {
    "duration": 31,
    "start_time": "2023-05-15T18:44:58.883Z"
   },
   {
    "duration": 1227,
    "start_time": "2023-05-15T18:50:28.783Z"
   },
   {
    "duration": 1095,
    "start_time": "2023-05-15T18:50:30.013Z"
   },
   {
    "duration": 10,
    "start_time": "2023-05-15T18:50:31.111Z"
   },
   {
    "duration": 624,
    "start_time": "2023-05-15T18:50:31.129Z"
   },
   {
    "duration": 342,
    "start_time": "2023-05-15T18:50:31.756Z"
   },
   {
    "duration": 4,
    "start_time": "2023-05-15T18:50:32.109Z"
   },
   {
    "duration": 14,
    "start_time": "2023-05-15T18:50:32.116Z"
   },
   {
    "duration": 9,
    "start_time": "2023-05-15T18:50:32.132Z"
   },
   {
    "duration": 34,
    "start_time": "2023-05-15T18:50:32.143Z"
   },
   {
    "duration": 92,
    "start_time": "2023-05-15T18:50:32.181Z"
   },
   {
    "duration": 175,
    "start_time": "2023-05-15T18:50:32.275Z"
   },
   {
    "duration": 0,
    "start_time": "2023-05-15T18:50:32.453Z"
   },
   {
    "duration": 0,
    "start_time": "2023-05-15T18:50:32.455Z"
   },
   {
    "duration": 0,
    "start_time": "2023-05-15T18:50:32.457Z"
   },
   {
    "duration": 0,
    "start_time": "2023-05-15T18:50:32.458Z"
   },
   {
    "duration": 0,
    "start_time": "2023-05-15T18:50:32.460Z"
   },
   {
    "duration": 5,
    "start_time": "2023-05-15T18:52:38.050Z"
   },
   {
    "duration": 8,
    "start_time": "2023-05-15T18:52:46.839Z"
   },
   {
    "duration": 20,
    "start_time": "2023-05-15T18:52:49.005Z"
   },
   {
    "duration": 19,
    "start_time": "2023-05-15T18:52:49.682Z"
   },
   {
    "duration": 29,
    "start_time": "2023-05-15T18:52:52.782Z"
   },
   {
    "duration": 2700,
    "start_time": "2023-05-15T19:02:43.963Z"
   },
   {
    "duration": 1416,
    "start_time": "2023-05-15T19:02:46.666Z"
   },
   {
    "duration": 4,
    "start_time": "2023-05-15T19:02:48.084Z"
   },
   {
    "duration": 476,
    "start_time": "2023-05-15T19:02:48.090Z"
   },
   {
    "duration": 255,
    "start_time": "2023-05-15T19:02:48.569Z"
   },
   {
    "duration": 3,
    "start_time": "2023-05-15T19:02:48.826Z"
   },
   {
    "duration": 10,
    "start_time": "2023-05-15T19:02:48.831Z"
   },
   {
    "duration": 6,
    "start_time": "2023-05-15T19:02:48.843Z"
   },
   {
    "duration": 3,
    "start_time": "2023-05-15T19:02:48.851Z"
   },
   {
    "duration": 3,
    "start_time": "2023-05-15T19:02:48.889Z"
   },
   {
    "duration": 13,
    "start_time": "2023-05-15T19:02:48.894Z"
   },
   {
    "duration": 36,
    "start_time": "2023-05-15T19:02:48.909Z"
   },
   {
    "duration": 29,
    "start_time": "2023-05-15T19:02:48.947Z"
   },
   {
    "duration": 10,
    "start_time": "2023-05-15T19:02:48.979Z"
   },
   {
    "duration": 16,
    "start_time": "2023-05-15T19:02:48.992Z"
   },
   {
    "duration": 701,
    "start_time": "2023-05-16T11:11:29.794Z"
   },
   {
    "duration": 361,
    "start_time": "2023-05-16T11:13:32.786Z"
   },
   {
    "duration": 429,
    "start_time": "2023-05-16T11:16:36.327Z"
   },
   {
    "duration": 318,
    "start_time": "2023-05-16T11:32:21.062Z"
   },
   {
    "duration": 207,
    "start_time": "2023-05-16T11:32:34.664Z"
   },
   {
    "duration": 291,
    "start_time": "2023-05-16T11:33:50.303Z"
   },
   {
    "duration": 252,
    "start_time": "2023-05-16T11:34:47.162Z"
   },
   {
    "duration": 268,
    "start_time": "2023-05-16T11:35:24.250Z"
   },
   {
    "duration": 250,
    "start_time": "2023-05-16T11:35:41.503Z"
   },
   {
    "duration": 14,
    "start_time": "2023-05-16T11:43:49.508Z"
   },
   {
    "duration": 72,
    "start_time": "2023-05-16T11:44:04.569Z"
   },
   {
    "duration": 68,
    "start_time": "2023-05-16T11:47:43.353Z"
   },
   {
    "duration": 14,
    "start_time": "2023-05-16T11:48:12.192Z"
   },
   {
    "duration": 67,
    "start_time": "2023-05-16T11:48:16.858Z"
   },
   {
    "duration": 51,
    "start_time": "2023-05-16T11:57:36.772Z"
   },
   {
    "duration": 14,
    "start_time": "2023-05-16T11:57:38.447Z"
   },
   {
    "duration": 252,
    "start_time": "2023-05-16T11:58:59.455Z"
   },
   {
    "duration": 302,
    "start_time": "2023-05-16T14:03:30.453Z"
   },
   {
    "duration": 274,
    "start_time": "2023-05-16T14:03:47.358Z"
   },
   {
    "duration": 301,
    "start_time": "2023-05-16T14:06:10.959Z"
   },
   {
    "duration": 62,
    "start_time": "2023-05-16T14:33:23.452Z"
   },
   {
    "duration": 413,
    "start_time": "2023-05-16T14:34:13.774Z"
   },
   {
    "duration": 16,
    "start_time": "2023-05-16T14:40:19.106Z"
   },
   {
    "duration": 269,
    "start_time": "2023-05-16T14:43:33.657Z"
   },
   {
    "duration": 178,
    "start_time": "2023-05-16T14:43:38.707Z"
   },
   {
    "duration": 45,
    "start_time": "2023-05-17T05:51:50.811Z"
   },
   {
    "duration": 1389,
    "start_time": "2023-05-17T05:51:57.621Z"
   },
   {
    "duration": 3071,
    "start_time": "2023-05-17T05:51:59.012Z"
   },
   {
    "duration": 4,
    "start_time": "2023-05-17T05:52:02.084Z"
   },
   {
    "duration": 390,
    "start_time": "2023-05-17T05:52:02.090Z"
   },
   {
    "duration": 222,
    "start_time": "2023-05-17T05:52:02.481Z"
   },
   {
    "duration": 3,
    "start_time": "2023-05-17T05:52:02.704Z"
   },
   {
    "duration": 7,
    "start_time": "2023-05-17T05:52:02.708Z"
   },
   {
    "duration": 6,
    "start_time": "2023-05-17T05:52:02.717Z"
   },
   {
    "duration": 2,
    "start_time": "2023-05-17T05:52:02.725Z"
   },
   {
    "duration": 6,
    "start_time": "2023-05-17T05:52:02.729Z"
   },
   {
    "duration": 8,
    "start_time": "2023-05-17T05:52:02.737Z"
   },
   {
    "duration": 33,
    "start_time": "2023-05-17T05:52:02.746Z"
   },
   {
    "duration": 17,
    "start_time": "2023-05-17T05:52:02.781Z"
   },
   {
    "duration": 8,
    "start_time": "2023-05-17T05:52:02.799Z"
   },
   {
    "duration": 13,
    "start_time": "2023-05-17T05:52:02.808Z"
   },
   {
    "duration": 4,
    "start_time": "2023-05-17T05:52:02.822Z"
   },
   {
    "duration": 251,
    "start_time": "2023-05-17T05:52:02.828Z"
   },
   {
    "duration": 236,
    "start_time": "2023-05-17T05:52:03.080Z"
   },
   {
    "duration": 259,
    "start_time": "2023-05-17T05:52:03.318Z"
   },
   {
    "duration": 259,
    "start_time": "2023-05-17T05:52:03.579Z"
   },
   {
    "duration": 295,
    "start_time": "2023-05-17T05:52:57.214Z"
   },
   {
    "duration": 482,
    "start_time": "2023-05-17T05:53:51.549Z"
   },
   {
    "duration": 434,
    "start_time": "2023-05-17T06:26:21.915Z"
   },
   {
    "duration": 608,
    "start_time": "2023-05-17T06:26:33.779Z"
   },
   {
    "duration": 491,
    "start_time": "2023-05-17T06:27:03.795Z"
   },
   {
    "duration": 418,
    "start_time": "2023-05-17T06:27:12.970Z"
   },
   {
    "duration": 630,
    "start_time": "2023-05-17T06:30:53.458Z"
   },
   {
    "duration": 439,
    "start_time": "2023-05-17T06:32:02.942Z"
   },
   {
    "duration": 430,
    "start_time": "2023-05-17T06:32:12.270Z"
   },
   {
    "duration": 456,
    "start_time": "2023-05-17T06:32:18.486Z"
   },
   {
    "duration": 464,
    "start_time": "2023-05-17T06:32:41.990Z"
   },
   {
    "duration": 345,
    "start_time": "2023-05-17T06:33:21.501Z"
   },
   {
    "duration": 253,
    "start_time": "2023-05-17T06:33:48.252Z"
   },
   {
    "duration": 380,
    "start_time": "2023-05-17T06:34:02.341Z"
   },
   {
    "duration": 467,
    "start_time": "2023-05-17T06:34:29.739Z"
   },
   {
    "duration": 429,
    "start_time": "2023-05-17T06:36:35.082Z"
   },
   {
    "duration": 334,
    "start_time": "2023-05-17T06:36:48.929Z"
   },
   {
    "duration": 495,
    "start_time": "2023-05-17T06:37:14.400Z"
   },
   {
    "duration": 394,
    "start_time": "2023-05-17T06:38:29.223Z"
   },
   {
    "duration": 238,
    "start_time": "2023-05-17T06:40:19.789Z"
   },
   {
    "duration": 315,
    "start_time": "2023-05-17T06:40:56.253Z"
   },
   {
    "duration": 667,
    "start_time": "2023-05-17T06:48:01.750Z"
   },
   {
    "duration": 479,
    "start_time": "2023-05-17T06:48:23.469Z"
   },
   {
    "duration": 442,
    "start_time": "2023-05-17T06:48:32.901Z"
   },
   {
    "duration": 416,
    "start_time": "2023-05-17T06:48:44.533Z"
   },
   {
    "duration": 627,
    "start_time": "2023-05-17T06:53:20.920Z"
   },
   {
    "duration": 468,
    "start_time": "2023-05-17T06:53:37.969Z"
   },
   {
    "duration": 442,
    "start_time": "2023-05-17T06:53:54.337Z"
   },
   {
    "duration": 507,
    "start_time": "2023-05-17T06:54:04.136Z"
   },
   {
    "duration": 710,
    "start_time": "2023-05-17T06:55:45.902Z"
   },
   {
    "duration": 587,
    "start_time": "2023-05-17T06:55:57.526Z"
   },
   {
    "duration": 493,
    "start_time": "2023-05-17T06:56:07.454Z"
   },
   {
    "duration": 598,
    "start_time": "2023-05-17T06:56:15.117Z"
   },
   {
    "duration": 14,
    "start_time": "2023-05-17T07:04:57.381Z"
   },
   {
    "duration": 8,
    "start_time": "2023-05-17T07:15:53.458Z"
   },
   {
    "duration": 8,
    "start_time": "2023-05-17T07:23:11.555Z"
   },
   {
    "duration": 9,
    "start_time": "2023-05-17T08:03:44.442Z"
   },
   {
    "duration": 5,
    "start_time": "2023-05-17T08:04:01.475Z"
   },
   {
    "duration": 9,
    "start_time": "2023-05-17T08:05:16.240Z"
   },
   {
    "duration": 6,
    "start_time": "2023-05-17T08:05:19.225Z"
   },
   {
    "duration": 558,
    "start_time": "2023-05-17T08:27:01.140Z"
   },
   {
    "duration": 511,
    "start_time": "2023-05-17T08:27:26.234Z"
   },
   {
    "duration": 12,
    "start_time": "2023-05-17T08:27:31.953Z"
   },
   {
    "duration": 493,
    "start_time": "2023-05-17T08:27:33.057Z"
   },
   {
    "duration": 638,
    "start_time": "2023-05-17T08:28:41.513Z"
   },
   {
    "duration": 829,
    "start_time": "2023-05-17T08:30:47.087Z"
   },
   {
    "duration": 1675,
    "start_time": "2023-05-17T08:36:36.198Z"
   },
   {
    "duration": 1022,
    "start_time": "2023-05-17T08:36:37.875Z"
   },
   {
    "duration": 9,
    "start_time": "2023-05-17T08:36:38.900Z"
   },
   {
    "duration": 417,
    "start_time": "2023-05-17T08:36:38.915Z"
   },
   {
    "duration": 300,
    "start_time": "2023-05-17T08:36:39.333Z"
   },
   {
    "duration": 6,
    "start_time": "2023-05-17T08:36:39.637Z"
   },
   {
    "duration": 6,
    "start_time": "2023-05-17T08:36:39.644Z"
   },
   {
    "duration": 8,
    "start_time": "2023-05-17T08:36:39.652Z"
   },
   {
    "duration": 18,
    "start_time": "2023-05-17T08:36:39.661Z"
   },
   {
    "duration": 10,
    "start_time": "2023-05-17T08:36:39.686Z"
   },
   {
    "duration": 11,
    "start_time": "2023-05-17T08:36:39.699Z"
   },
   {
    "duration": 5,
    "start_time": "2023-05-17T08:36:39.712Z"
   },
   {
    "duration": 8,
    "start_time": "2023-05-17T08:36:39.719Z"
   },
   {
    "duration": 22,
    "start_time": "2023-05-17T08:36:39.729Z"
   },
   {
    "duration": 8,
    "start_time": "2023-05-17T08:36:39.753Z"
   },
   {
    "duration": 25,
    "start_time": "2023-05-17T08:36:39.779Z"
   },
   {
    "duration": 252,
    "start_time": "2023-05-17T08:36:39.812Z"
   },
   {
    "duration": 263,
    "start_time": "2023-05-17T08:36:40.065Z"
   },
   {
    "duration": 265,
    "start_time": "2023-05-17T08:36:40.330Z"
   },
   {
    "duration": 571,
    "start_time": "2023-05-17T08:36:40.600Z"
   },
   {
    "duration": 17,
    "start_time": "2023-05-17T08:36:41.173Z"
   },
   {
    "duration": 12,
    "start_time": "2023-05-17T08:36:41.192Z"
   },
   {
    "duration": 897,
    "start_time": "2023-05-17T08:36:41.213Z"
   },
   {
    "duration": 258,
    "start_time": "2023-05-17T08:36:42.112Z"
   },
   {
    "duration": 9,
    "start_time": "2023-05-17T08:39:10.606Z"
   },
   {
    "duration": 8,
    "start_time": "2023-05-17T08:39:19.882Z"
   },
   {
    "duration": 801,
    "start_time": "2023-05-17T08:40:07.925Z"
   },
   {
    "duration": 725,
    "start_time": "2023-05-17T08:40:22.372Z"
   },
   {
    "duration": 957,
    "start_time": "2023-05-17T08:40:30.941Z"
   },
   {
    "duration": 1032,
    "start_time": "2023-05-17T08:41:17.923Z"
   },
   {
    "duration": 17,
    "start_time": "2023-05-17T08:43:53.041Z"
   },
   {
    "duration": 1379,
    "start_time": "2023-05-17T08:43:53.919Z"
   },
   {
    "duration": 37,
    "start_time": "2023-05-17T09:37:52.765Z"
   },
   {
    "duration": 1026,
    "start_time": "2023-05-17T09:37:59.134Z"
   },
   {
    "duration": 70,
    "start_time": "2023-05-17T10:08:48.097Z"
   },
   {
    "duration": 99,
    "start_time": "2023-05-17T10:11:20.206Z"
   },
   {
    "duration": 240,
    "start_time": "2023-05-17T10:12:54.401Z"
   },
   {
    "duration": 105,
    "start_time": "2023-05-17T10:14:42.142Z"
   },
   {
    "duration": 244,
    "start_time": "2023-05-17T10:19:03.226Z"
   },
   {
    "duration": 856,
    "start_time": "2023-05-17T10:19:40.179Z"
   },
   {
    "duration": 924,
    "start_time": "2023-05-17T10:21:25.336Z"
   },
   {
    "duration": 2619,
    "start_time": "2023-05-17T11:00:30.345Z"
   },
   {
    "duration": 14,
    "start_time": "2023-05-17T11:01:25.529Z"
   },
   {
    "duration": 14,
    "start_time": "2023-05-17T11:07:15.330Z"
   },
   {
    "duration": 1993,
    "start_time": "2023-05-17T11:09:24.535Z"
   },
   {
    "duration": 1457,
    "start_time": "2023-05-17T11:09:39.506Z"
   },
   {
    "duration": 970,
    "start_time": "2023-05-17T11:09:40.966Z"
   },
   {
    "duration": 6,
    "start_time": "2023-05-17T11:09:41.938Z"
   },
   {
    "duration": 474,
    "start_time": "2023-05-17T11:09:41.946Z"
   },
   {
    "duration": 243,
    "start_time": "2023-05-17T11:09:42.423Z"
   },
   {
    "duration": 26,
    "start_time": "2023-05-17T11:09:42.667Z"
   },
   {
    "duration": 15,
    "start_time": "2023-05-17T11:09:42.706Z"
   },
   {
    "duration": 15,
    "start_time": "2023-05-17T11:09:42.722Z"
   },
   {
    "duration": 6,
    "start_time": "2023-05-17T11:09:42.739Z"
   },
   {
    "duration": 4,
    "start_time": "2023-05-17T11:09:42.746Z"
   },
   {
    "duration": 4,
    "start_time": "2023-05-17T11:09:42.751Z"
   },
   {
    "duration": 7,
    "start_time": "2023-05-17T11:09:42.756Z"
   },
   {
    "duration": 8,
    "start_time": "2023-05-17T11:09:42.765Z"
   },
   {
    "duration": 20,
    "start_time": "2023-05-17T11:09:42.787Z"
   },
   {
    "duration": 11,
    "start_time": "2023-05-17T11:09:42.808Z"
   },
   {
    "duration": 16,
    "start_time": "2023-05-17T11:09:42.821Z"
   },
   {
    "duration": 270,
    "start_time": "2023-05-17T11:09:42.842Z"
   },
   {
    "duration": 250,
    "start_time": "2023-05-17T11:09:43.114Z"
   },
   {
    "duration": 286,
    "start_time": "2023-05-17T11:09:43.366Z"
   },
   {
    "duration": 715,
    "start_time": "2023-05-17T11:09:43.654Z"
   },
   {
    "duration": 35,
    "start_time": "2023-05-17T11:09:44.372Z"
   },
   {
    "duration": 16,
    "start_time": "2023-05-17T11:09:44.412Z"
   },
   {
    "duration": 1031,
    "start_time": "2023-05-17T11:09:44.433Z"
   },
   {
    "duration": 375,
    "start_time": "2023-05-17T11:09:45.466Z"
   },
   {
    "duration": 11,
    "start_time": "2023-05-17T11:09:45.843Z"
   },
   {
    "duration": 11,
    "start_time": "2023-05-17T11:10:31.913Z"
   },
   {
    "duration": 1559,
    "start_time": "2023-05-17T11:10:53.910Z"
   },
   {
    "duration": 1009,
    "start_time": "2023-05-17T11:10:55.471Z"
   },
   {
    "duration": 5,
    "start_time": "2023-05-17T11:10:56.482Z"
   },
   {
    "duration": 461,
    "start_time": "2023-05-17T11:10:56.489Z"
   },
   {
    "duration": 272,
    "start_time": "2023-05-17T11:10:56.952Z"
   },
   {
    "duration": 3,
    "start_time": "2023-05-17T11:10:57.226Z"
   },
   {
    "duration": 7,
    "start_time": "2023-05-17T11:10:57.234Z"
   },
   {
    "duration": 8,
    "start_time": "2023-05-17T11:10:57.242Z"
   },
   {
    "duration": 5,
    "start_time": "2023-05-17T11:10:57.251Z"
   },
   {
    "duration": 6,
    "start_time": "2023-05-17T11:10:57.287Z"
   },
   {
    "duration": 18,
    "start_time": "2023-05-17T11:10:57.295Z"
   },
   {
    "duration": 5,
    "start_time": "2023-05-17T11:10:57.319Z"
   },
   {
    "duration": 12,
    "start_time": "2023-05-17T11:10:57.329Z"
   },
   {
    "duration": 22,
    "start_time": "2023-05-17T11:10:57.343Z"
   },
   {
    "duration": 14,
    "start_time": "2023-05-17T11:10:57.367Z"
   },
   {
    "duration": 32,
    "start_time": "2023-05-17T11:10:57.383Z"
   },
   {
    "duration": 308,
    "start_time": "2023-05-17T11:10:57.429Z"
   },
   {
    "duration": 307,
    "start_time": "2023-05-17T11:10:57.739Z"
   },
   {
    "duration": 322,
    "start_time": "2023-05-17T11:10:58.048Z"
   },
   {
    "duration": 672,
    "start_time": "2023-05-17T11:10:58.372Z"
   },
   {
    "duration": 13,
    "start_time": "2023-05-17T11:10:59.045Z"
   },
   {
    "duration": 30,
    "start_time": "2023-05-17T11:10:59.060Z"
   },
   {
    "duration": 997,
    "start_time": "2023-05-17T11:10:59.091Z"
   },
   {
    "duration": 343,
    "start_time": "2023-05-17T11:11:00.089Z"
   },
   {
    "duration": 3,
    "start_time": "2023-05-17T11:11:00.437Z"
   },
   {
    "duration": 55,
    "start_time": "2023-05-17T11:11:00.441Z"
   },
   {
    "duration": 363,
    "start_time": "2023-05-17T11:12:07.497Z"
   },
   {
    "duration": 3,
    "start_time": "2023-05-17T11:12:09.557Z"
   },
   {
    "duration": 1518,
    "start_time": "2023-05-17T11:12:15.616Z"
   },
   {
    "duration": 921,
    "start_time": "2023-05-17T11:12:17.136Z"
   },
   {
    "duration": 4,
    "start_time": "2023-05-17T11:12:18.058Z"
   },
   {
    "duration": 482,
    "start_time": "2023-05-17T11:12:18.063Z"
   },
   {
    "duration": 295,
    "start_time": "2023-05-17T11:12:18.547Z"
   },
   {
    "duration": 3,
    "start_time": "2023-05-17T11:12:18.844Z"
   },
   {
    "duration": 10,
    "start_time": "2023-05-17T11:12:18.848Z"
   },
   {
    "duration": 8,
    "start_time": "2023-05-17T11:12:18.859Z"
   },
   {
    "duration": 13,
    "start_time": "2023-05-17T11:12:18.868Z"
   },
   {
    "duration": 8,
    "start_time": "2023-05-17T11:12:18.882Z"
   },
   {
    "duration": 7,
    "start_time": "2023-05-17T11:12:18.891Z"
   },
   {
    "duration": 9,
    "start_time": "2023-05-17T11:12:18.899Z"
   },
   {
    "duration": 13,
    "start_time": "2023-05-17T11:12:18.911Z"
   },
   {
    "duration": 25,
    "start_time": "2023-05-17T11:12:18.927Z"
   },
   {
    "duration": 7,
    "start_time": "2023-05-17T11:12:18.954Z"
   },
   {
    "duration": 21,
    "start_time": "2023-05-17T11:12:18.962Z"
   },
   {
    "duration": 265,
    "start_time": "2023-05-17T11:12:18.987Z"
   },
   {
    "duration": 298,
    "start_time": "2023-05-17T11:12:19.254Z"
   },
   {
    "duration": 312,
    "start_time": "2023-05-17T11:12:19.554Z"
   },
   {
    "duration": 704,
    "start_time": "2023-05-17T11:12:19.867Z"
   },
   {
    "duration": 57,
    "start_time": "2023-05-17T11:12:20.572Z"
   },
   {
    "duration": 10,
    "start_time": "2023-05-17T11:12:20.634Z"
   },
   {
    "duration": 1035,
    "start_time": "2023-05-17T11:12:20.645Z"
   },
   {
    "duration": 382,
    "start_time": "2023-05-17T11:12:21.688Z"
   },
   {
    "duration": 27,
    "start_time": "2023-05-17T11:12:22.072Z"
   },
   {
    "duration": 8,
    "start_time": "2023-05-17T11:12:22.108Z"
   },
   {
    "duration": 2315,
    "start_time": "2023-05-17T11:15:21.858Z"
   },
   {
    "duration": 1356,
    "start_time": "2023-05-17T11:19:47.108Z"
   },
   {
    "duration": 895,
    "start_time": "2023-05-17T11:19:48.466Z"
   },
   {
    "duration": 3,
    "start_time": "2023-05-17T11:19:49.363Z"
   },
   {
    "duration": 477,
    "start_time": "2023-05-17T11:19:49.367Z"
   },
   {
    "duration": 251,
    "start_time": "2023-05-17T11:19:49.846Z"
   },
   {
    "duration": 6,
    "start_time": "2023-05-17T11:19:50.101Z"
   },
   {
    "duration": 22,
    "start_time": "2023-05-17T11:19:50.109Z"
   },
   {
    "duration": 7,
    "start_time": "2023-05-17T11:19:50.133Z"
   },
   {
    "duration": 8,
    "start_time": "2023-05-17T11:19:50.141Z"
   },
   {
    "duration": 2,
    "start_time": "2023-05-17T11:19:50.150Z"
   },
   {
    "duration": 3,
    "start_time": "2023-05-17T11:19:50.154Z"
   },
   {
    "duration": 5,
    "start_time": "2023-05-17T11:19:50.158Z"
   },
   {
    "duration": 5,
    "start_time": "2023-05-17T11:19:50.165Z"
   },
   {
    "duration": 32,
    "start_time": "2023-05-17T11:19:50.173Z"
   },
   {
    "duration": 13,
    "start_time": "2023-05-17T11:19:50.207Z"
   },
   {
    "duration": 15,
    "start_time": "2023-05-17T11:19:50.222Z"
   },
   {
    "duration": 257,
    "start_time": "2023-05-17T11:19:50.240Z"
   },
   {
    "duration": 261,
    "start_time": "2023-05-17T11:19:50.498Z"
   },
   {
    "duration": 282,
    "start_time": "2023-05-17T11:19:50.761Z"
   },
   {
    "duration": 607,
    "start_time": "2023-05-17T11:19:51.044Z"
   },
   {
    "duration": 14,
    "start_time": "2023-05-17T11:19:51.652Z"
   },
   {
    "duration": 32,
    "start_time": "2023-05-17T11:19:51.668Z"
   },
   {
    "duration": 932,
    "start_time": "2023-05-17T11:19:51.705Z"
   },
   {
    "duration": 372,
    "start_time": "2023-05-17T11:19:52.639Z"
   },
   {
    "duration": 12,
    "start_time": "2023-05-17T11:19:53.019Z"
   },
   {
    "duration": 138,
    "start_time": "2023-05-17T11:19:53.035Z"
   },
   {
    "duration": 0,
    "start_time": "2023-05-17T11:19:53.180Z"
   },
   {
    "duration": 21,
    "start_time": "2023-05-17T11:21:45.035Z"
   },
   {
    "duration": 122,
    "start_time": "2023-05-17T11:22:14.644Z"
   },
   {
    "duration": 21,
    "start_time": "2023-05-17T11:22:47.044Z"
   },
   {
    "duration": 386,
    "start_time": "2023-05-17T11:26:04.903Z"
   },
   {
    "duration": 18,
    "start_time": "2023-05-17T11:27:03.495Z"
   },
   {
    "duration": 11,
    "start_time": "2023-05-17T11:27:35.815Z"
   },
   {
    "duration": 618,
    "start_time": "2023-05-17T11:28:08.710Z"
   },
   {
    "duration": 7,
    "start_time": "2023-05-17T11:28:11.019Z"
   },
   {
    "duration": 1802,
    "start_time": "2023-05-17T11:37:20.348Z"
   },
   {
    "duration": 1240,
    "start_time": "2023-05-17T11:39:00.764Z"
   },
   {
    "duration": 1324,
    "start_time": "2023-05-17T11:40:09.145Z"
   },
   {
    "duration": 893,
    "start_time": "2023-05-17T11:40:10.471Z"
   },
   {
    "duration": 3,
    "start_time": "2023-05-17T11:40:11.366Z"
   },
   {
    "duration": 410,
    "start_time": "2023-05-17T11:40:11.376Z"
   },
   {
    "duration": 241,
    "start_time": "2023-05-17T11:40:11.788Z"
   },
   {
    "duration": 3,
    "start_time": "2023-05-17T11:40:12.031Z"
   },
   {
    "duration": 7,
    "start_time": "2023-05-17T11:40:12.035Z"
   },
   {
    "duration": 9,
    "start_time": "2023-05-17T11:40:12.043Z"
   },
   {
    "duration": 26,
    "start_time": "2023-05-17T11:40:12.053Z"
   },
   {
    "duration": 11,
    "start_time": "2023-05-17T11:40:12.081Z"
   },
   {
    "duration": 5,
    "start_time": "2023-05-17T11:40:12.093Z"
   },
   {
    "duration": 5,
    "start_time": "2023-05-17T11:40:12.100Z"
   },
   {
    "duration": 10,
    "start_time": "2023-05-17T11:40:12.107Z"
   },
   {
    "duration": 19,
    "start_time": "2023-05-17T11:40:12.119Z"
   },
   {
    "duration": 9,
    "start_time": "2023-05-17T11:40:12.140Z"
   },
   {
    "duration": 40,
    "start_time": "2023-05-17T11:40:12.150Z"
   },
   {
    "duration": 242,
    "start_time": "2023-05-17T11:40:12.191Z"
   },
   {
    "duration": 260,
    "start_time": "2023-05-17T11:40:12.435Z"
   },
   {
    "duration": 255,
    "start_time": "2023-05-17T11:40:12.697Z"
   },
   {
    "duration": 578,
    "start_time": "2023-05-17T11:40:12.954Z"
   },
   {
    "duration": 14,
    "start_time": "2023-05-17T11:40:13.534Z"
   },
   {
    "duration": 8,
    "start_time": "2023-05-17T11:40:13.549Z"
   },
   {
    "duration": 1004,
    "start_time": "2023-05-17T11:40:13.558Z"
   },
   {
    "duration": 2447,
    "start_time": "2023-05-17T11:40:14.564Z"
   },
   {
    "duration": 0,
    "start_time": "2023-05-17T11:40:17.013Z"
   },
   {
    "duration": 99,
    "start_time": "2023-05-17T11:41:16.737Z"
   },
   {
    "duration": 1274,
    "start_time": "2023-05-17T11:43:18.031Z"
   },
   {
    "duration": 51,
    "start_time": "2023-05-17T11:46:26.804Z"
   },
   {
    "duration": 95,
    "start_time": "2023-05-17T11:46:58.426Z"
   },
   {
    "duration": 66,
    "start_time": "2023-05-17T11:47:06.702Z"
   },
   {
    "duration": 1291,
    "start_time": "2023-05-17T11:47:21.738Z"
   },
   {
    "duration": 10,
    "start_time": "2023-05-17T11:47:26.450Z"
   },
   {
    "duration": 91,
    "start_time": "2023-05-17T11:47:35.442Z"
   },
   {
    "duration": 130,
    "start_time": "2023-05-17T11:53:28.910Z"
   },
   {
    "duration": 8,
    "start_time": "2023-05-17T11:54:12.015Z"
   },
   {
    "duration": 14,
    "start_time": "2023-05-17T11:54:14.302Z"
   },
   {
    "duration": 1486,
    "start_time": "2023-05-17T11:56:52.925Z"
   },
   {
    "duration": 992,
    "start_time": "2023-05-17T11:56:54.419Z"
   },
   {
    "duration": 12,
    "start_time": "2023-05-17T11:56:55.413Z"
   },
   {
    "duration": 422,
    "start_time": "2023-05-17T11:56:55.427Z"
   },
   {
    "duration": 264,
    "start_time": "2023-05-17T11:56:55.851Z"
   },
   {
    "duration": 3,
    "start_time": "2023-05-17T11:56:56.116Z"
   },
   {
    "duration": 15,
    "start_time": "2023-05-17T11:56:56.121Z"
   },
   {
    "duration": 10,
    "start_time": "2023-05-17T11:56:56.137Z"
   },
   {
    "duration": 6,
    "start_time": "2023-05-17T11:56:56.148Z"
   },
   {
    "duration": 40,
    "start_time": "2023-05-17T11:56:56.156Z"
   },
   {
    "duration": 12,
    "start_time": "2023-05-17T11:56:56.201Z"
   },
   {
    "duration": 11,
    "start_time": "2023-05-17T11:56:56.214Z"
   },
   {
    "duration": 9,
    "start_time": "2023-05-17T11:56:56.226Z"
   },
   {
    "duration": 55,
    "start_time": "2023-05-17T11:56:56.236Z"
   },
   {
    "duration": 26,
    "start_time": "2023-05-17T11:56:56.300Z"
   },
   {
    "duration": 13,
    "start_time": "2023-05-17T11:56:56.327Z"
   },
   {
    "duration": 262,
    "start_time": "2023-05-17T11:56:56.342Z"
   },
   {
    "duration": 265,
    "start_time": "2023-05-17T11:56:56.606Z"
   },
   {
    "duration": 278,
    "start_time": "2023-05-17T11:56:56.872Z"
   },
   {
    "duration": 700,
    "start_time": "2023-05-17T11:56:57.152Z"
   },
   {
    "duration": 26,
    "start_time": "2023-05-17T11:56:57.854Z"
   },
   {
    "duration": 15,
    "start_time": "2023-05-17T11:56:57.882Z"
   },
   {
    "duration": 963,
    "start_time": "2023-05-17T11:56:57.899Z"
   },
   {
    "duration": 92,
    "start_time": "2023-05-17T11:56:58.864Z"
   },
   {
    "duration": 0,
    "start_time": "2023-05-17T11:56:58.958Z"
   },
   {
    "duration": 0,
    "start_time": "2023-05-17T11:56:58.959Z"
   },
   {
    "duration": 0,
    "start_time": "2023-05-17T11:56:58.960Z"
   },
   {
    "duration": 1298,
    "start_time": "2023-05-17T11:58:31.959Z"
   },
   {
    "duration": 10,
    "start_time": "2023-05-17T11:58:37.716Z"
   },
   {
    "duration": 13,
    "start_time": "2023-05-17T11:58:38.808Z"
   },
   {
    "duration": 1071,
    "start_time": "2023-05-17T11:58:42.536Z"
   },
   {
    "duration": 1337,
    "start_time": "2023-05-17T11:59:18.256Z"
   },
   {
    "duration": 940,
    "start_time": "2023-05-17T11:59:39.489Z"
   },
   {
    "duration": 36,
    "start_time": "2023-05-17T12:00:04.331Z"
   },
   {
    "duration": 10,
    "start_time": "2023-05-17T12:00:18.453Z"
   },
   {
    "duration": 1032,
    "start_time": "2023-05-17T12:00:19.290Z"
   },
   {
    "duration": 26,
    "start_time": "2023-05-17T12:01:00.409Z"
   },
   {
    "duration": 1514,
    "start_time": "2023-05-17T12:01:54.344Z"
   },
   {
    "duration": 966,
    "start_time": "2023-05-17T12:01:55.860Z"
   },
   {
    "duration": 6,
    "start_time": "2023-05-17T12:01:56.829Z"
   },
   {
    "duration": 485,
    "start_time": "2023-05-17T12:01:56.838Z"
   },
   {
    "duration": 272,
    "start_time": "2023-05-17T12:01:57.325Z"
   },
   {
    "duration": 9,
    "start_time": "2023-05-17T12:01:57.598Z"
   },
   {
    "duration": 12,
    "start_time": "2023-05-17T12:01:57.610Z"
   },
   {
    "duration": 10,
    "start_time": "2023-05-17T12:01:57.624Z"
   },
   {
    "duration": 7,
    "start_time": "2023-05-17T12:01:57.636Z"
   },
   {
    "duration": 4,
    "start_time": "2023-05-17T12:01:57.645Z"
   },
   {
    "duration": 10,
    "start_time": "2023-05-17T12:01:57.652Z"
   },
   {
    "duration": 33,
    "start_time": "2023-05-17T12:01:57.664Z"
   },
   {
    "duration": 10,
    "start_time": "2023-05-17T12:01:57.700Z"
   },
   {
    "duration": 34,
    "start_time": "2023-05-17T12:01:57.711Z"
   },
   {
    "duration": 14,
    "start_time": "2023-05-17T12:01:57.747Z"
   },
   {
    "duration": 16,
    "start_time": "2023-05-17T12:01:57.763Z"
   },
   {
    "duration": 288,
    "start_time": "2023-05-17T12:01:57.786Z"
   },
   {
    "duration": 287,
    "start_time": "2023-05-17T12:01:58.076Z"
   },
   {
    "duration": 284,
    "start_time": "2023-05-17T12:01:58.365Z"
   },
   {
    "duration": 655,
    "start_time": "2023-05-17T12:01:58.651Z"
   },
   {
    "duration": 19,
    "start_time": "2023-05-17T12:01:59.308Z"
   },
   {
    "duration": 12,
    "start_time": "2023-05-17T12:01:59.329Z"
   },
   {
    "duration": 1052,
    "start_time": "2023-05-17T12:01:59.343Z"
   },
   {
    "duration": 1306,
    "start_time": "2023-05-17T12:02:00.400Z"
   },
   {
    "duration": 8,
    "start_time": "2023-05-17T12:02:01.713Z"
   },
   {
    "duration": 42,
    "start_time": "2023-05-17T12:02:01.723Z"
   },
   {
    "duration": 45,
    "start_time": "2023-05-17T12:02:01.767Z"
   },
   {
    "duration": 26,
    "start_time": "2023-05-17T12:03:38.902Z"
   },
   {
    "duration": 27,
    "start_time": "2023-05-17T12:04:06.926Z"
   },
   {
    "duration": 24,
    "start_time": "2023-05-17T12:04:18.419Z"
   },
   {
    "duration": 23,
    "start_time": "2023-05-17T12:05:01.220Z"
   },
   {
    "duration": 1487,
    "start_time": "2023-05-17T12:06:25.133Z"
   },
   {
    "duration": 969,
    "start_time": "2023-05-17T12:06:26.622Z"
   },
   {
    "duration": 6,
    "start_time": "2023-05-17T12:06:27.593Z"
   },
   {
    "duration": 516,
    "start_time": "2023-05-17T12:06:27.601Z"
   },
   {
    "duration": 301,
    "start_time": "2023-05-17T12:06:28.122Z"
   },
   {
    "duration": 2,
    "start_time": "2023-05-17T12:06:28.425Z"
   },
   {
    "duration": 11,
    "start_time": "2023-05-17T12:06:28.430Z"
   },
   {
    "duration": 24,
    "start_time": "2023-05-17T12:06:28.443Z"
   },
   {
    "duration": 16,
    "start_time": "2023-05-17T12:06:28.470Z"
   },
   {
    "duration": 8,
    "start_time": "2023-05-17T12:06:28.490Z"
   },
   {
    "duration": 21,
    "start_time": "2023-05-17T12:06:28.506Z"
   },
   {
    "duration": 6,
    "start_time": "2023-05-17T12:06:28.529Z"
   },
   {
    "duration": 17,
    "start_time": "2023-05-17T12:06:28.537Z"
   },
   {
    "duration": 31,
    "start_time": "2023-05-17T12:06:28.556Z"
   },
   {
    "duration": 18,
    "start_time": "2023-05-17T12:06:28.593Z"
   },
   {
    "duration": 20,
    "start_time": "2023-05-17T12:06:28.614Z"
   },
   {
    "duration": 291,
    "start_time": "2023-05-17T12:06:28.636Z"
   },
   {
    "duration": 268,
    "start_time": "2023-05-17T12:06:28.928Z"
   },
   {
    "duration": 276,
    "start_time": "2023-05-17T12:06:29.200Z"
   },
   {
    "duration": 693,
    "start_time": "2023-05-17T12:06:29.478Z"
   },
   {
    "duration": 15,
    "start_time": "2023-05-17T12:06:30.174Z"
   },
   {
    "duration": 23,
    "start_time": "2023-05-17T12:06:30.191Z"
   },
   {
    "duration": 930,
    "start_time": "2023-05-17T12:06:30.216Z"
   },
   {
    "duration": 1506,
    "start_time": "2023-05-17T12:06:31.148Z"
   },
   {
    "duration": 40,
    "start_time": "2023-05-17T12:06:32.656Z"
   },
   {
    "duration": 10,
    "start_time": "2023-05-17T12:06:32.699Z"
   },
   {
    "duration": 4,
    "start_time": "2023-05-17T13:03:49.301Z"
   },
   {
    "duration": 3,
    "start_time": "2023-05-17T13:13:21.804Z"
   },
   {
    "duration": 1340,
    "start_time": "2023-05-17T13:30:45.194Z"
   },
   {
    "duration": 847,
    "start_time": "2023-05-17T13:30:46.536Z"
   },
   {
    "duration": 4,
    "start_time": "2023-05-17T13:30:47.385Z"
   },
   {
    "duration": 410,
    "start_time": "2023-05-17T13:30:47.391Z"
   },
   {
    "duration": 247,
    "start_time": "2023-05-17T13:30:47.804Z"
   },
   {
    "duration": 3,
    "start_time": "2023-05-17T13:30:48.053Z"
   },
   {
    "duration": 5,
    "start_time": "2023-05-17T13:30:48.075Z"
   },
   {
    "duration": 17,
    "start_time": "2023-05-17T13:30:48.082Z"
   },
   {
    "duration": 5,
    "start_time": "2023-05-17T13:30:48.101Z"
   },
   {
    "duration": 12,
    "start_time": "2023-05-17T13:30:48.108Z"
   },
   {
    "duration": 10,
    "start_time": "2023-05-17T13:30:48.123Z"
   },
   {
    "duration": 6,
    "start_time": "2023-05-17T13:30:48.135Z"
   },
   {
    "duration": 11,
    "start_time": "2023-05-17T13:30:48.142Z"
   },
   {
    "duration": 23,
    "start_time": "2023-05-17T13:30:48.174Z"
   },
   {
    "duration": 10,
    "start_time": "2023-05-17T13:30:48.199Z"
   },
   {
    "duration": 14,
    "start_time": "2023-05-17T13:30:48.212Z"
   },
   {
    "duration": 278,
    "start_time": "2023-05-17T13:30:48.227Z"
   },
   {
    "duration": 233,
    "start_time": "2023-05-17T13:30:48.507Z"
   },
   {
    "duration": 250,
    "start_time": "2023-05-17T13:30:48.742Z"
   },
   {
    "duration": 566,
    "start_time": "2023-05-17T13:30:48.994Z"
   },
   {
    "duration": 14,
    "start_time": "2023-05-17T13:30:49.562Z"
   },
   {
    "duration": 10,
    "start_time": "2023-05-17T13:30:49.577Z"
   },
   {
    "duration": 874,
    "start_time": "2023-05-17T13:30:49.588Z"
   },
   {
    "duration": 1041,
    "start_time": "2023-05-17T13:30:50.464Z"
   },
   {
    "duration": 24,
    "start_time": "2023-05-17T13:30:51.507Z"
   },
   {
    "duration": 5,
    "start_time": "2023-05-17T13:30:51.533Z"
   },
   {
    "duration": 6,
    "start_time": "2023-05-17T13:30:51.540Z"
   },
   {
    "duration": 51,
    "start_time": "2023-05-17T13:30:51.548Z"
   },
   {
    "duration": 0,
    "start_time": "2023-05-17T13:30:51.601Z"
   },
   {
    "duration": 51,
    "start_time": "2023-05-17T13:31:14.907Z"
   },
   {
    "duration": 49,
    "start_time": "2023-05-17T13:31:21.338Z"
   },
   {
    "duration": 9,
    "start_time": "2023-05-17T13:31:43.026Z"
   },
   {
    "duration": 52,
    "start_time": "2023-05-17T13:31:50.195Z"
   },
   {
    "duration": 46,
    "start_time": "2023-05-17T13:34:47.351Z"
   },
   {
    "duration": 10,
    "start_time": "2023-05-17T13:35:16.663Z"
   },
   {
    "duration": 6,
    "start_time": "2023-05-17T13:38:09.539Z"
   },
   {
    "duration": 5,
    "start_time": "2023-05-17T13:38:34.348Z"
   },
   {
    "duration": 7,
    "start_time": "2023-05-17T13:40:21.492Z"
   },
   {
    "duration": 7,
    "start_time": "2023-05-17T13:43:29.742Z"
   },
   {
    "duration": 7,
    "start_time": "2023-05-17T13:43:40.630Z"
   },
   {
    "duration": 1297,
    "start_time": "2023-05-17T13:44:51.309Z"
   },
   {
    "duration": 845,
    "start_time": "2023-05-17T13:44:52.608Z"
   },
   {
    "duration": 4,
    "start_time": "2023-05-17T13:44:53.454Z"
   },
   {
    "duration": 456,
    "start_time": "2023-05-17T13:44:53.460Z"
   },
   {
    "duration": 338,
    "start_time": "2023-05-17T13:44:53.918Z"
   },
   {
    "duration": 16,
    "start_time": "2023-05-17T13:44:54.259Z"
   },
   {
    "duration": 7,
    "start_time": "2023-05-17T13:44:54.278Z"
   },
   {
    "duration": 11,
    "start_time": "2023-05-17T13:44:54.287Z"
   },
   {
    "duration": 6,
    "start_time": "2023-05-17T13:44:54.301Z"
   },
   {
    "duration": 3,
    "start_time": "2023-05-17T13:44:54.310Z"
   },
   {
    "duration": 10,
    "start_time": "2023-05-17T13:44:54.314Z"
   },
   {
    "duration": 10,
    "start_time": "2023-05-17T13:44:54.326Z"
   },
   {
    "duration": 40,
    "start_time": "2023-05-17T13:44:54.337Z"
   },
   {
    "duration": 26,
    "start_time": "2023-05-17T13:44:54.379Z"
   },
   {
    "duration": 9,
    "start_time": "2023-05-17T13:44:54.407Z"
   },
   {
    "duration": 15,
    "start_time": "2023-05-17T13:44:54.419Z"
   },
   {
    "duration": 257,
    "start_time": "2023-05-17T13:44:54.436Z"
   },
   {
    "duration": 238,
    "start_time": "2023-05-17T13:44:54.694Z"
   },
   {
    "duration": 245,
    "start_time": "2023-05-17T13:44:54.935Z"
   },
   {
    "duration": 557,
    "start_time": "2023-05-17T13:44:55.182Z"
   },
   {
    "duration": 16,
    "start_time": "2023-05-17T13:44:55.741Z"
   },
   {
    "duration": 23,
    "start_time": "2023-05-17T13:44:55.759Z"
   },
   {
    "duration": 814,
    "start_time": "2023-05-17T13:44:55.784Z"
   },
   {
    "duration": 1118,
    "start_time": "2023-05-17T13:44:56.600Z"
   },
   {
    "duration": 26,
    "start_time": "2023-05-17T13:44:57.720Z"
   },
   {
    "duration": 4,
    "start_time": "2023-05-17T13:44:57.748Z"
   },
   {
    "duration": 21,
    "start_time": "2023-05-17T13:44:57.754Z"
   },
   {
    "duration": 10,
    "start_time": "2023-05-17T13:44:57.779Z"
   },
   {
    "duration": 9,
    "start_time": "2023-05-17T13:44:57.791Z"
   },
   {
    "duration": 7,
    "start_time": "2023-05-17T13:44:57.802Z"
   },
   {
    "duration": 4,
    "start_time": "2023-05-17T13:44:57.811Z"
   },
   {
    "duration": 117,
    "start_time": "2023-05-17T13:46:00.651Z"
   },
   {
    "duration": 10,
    "start_time": "2023-05-17T13:46:18.390Z"
   },
   {
    "duration": 5,
    "start_time": "2023-05-17T13:47:52.954Z"
   },
   {
    "duration": 10,
    "start_time": "2023-05-17T13:50:11.831Z"
   },
   {
    "duration": 7,
    "start_time": "2023-05-17T13:50:26.890Z"
   },
   {
    "duration": 1430,
    "start_time": "2023-05-17T13:51:31.121Z"
   },
   {
    "duration": 886,
    "start_time": "2023-05-17T13:51:32.553Z"
   },
   {
    "duration": 6,
    "start_time": "2023-05-17T13:51:33.441Z"
   },
   {
    "duration": 495,
    "start_time": "2023-05-17T13:51:33.448Z"
   },
   {
    "duration": 341,
    "start_time": "2023-05-17T13:51:33.946Z"
   },
   {
    "duration": 4,
    "start_time": "2023-05-17T13:51:34.290Z"
   },
   {
    "duration": 8,
    "start_time": "2023-05-17T13:51:34.297Z"
   },
   {
    "duration": 14,
    "start_time": "2023-05-17T13:51:34.308Z"
   },
   {
    "duration": 7,
    "start_time": "2023-05-17T13:51:34.325Z"
   },
   {
    "duration": 42,
    "start_time": "2023-05-17T13:51:34.335Z"
   },
   {
    "duration": 11,
    "start_time": "2023-05-17T13:51:34.380Z"
   },
   {
    "duration": 6,
    "start_time": "2023-05-17T13:51:34.394Z"
   },
   {
    "duration": 10,
    "start_time": "2023-05-17T13:51:34.402Z"
   },
   {
    "duration": 26,
    "start_time": "2023-05-17T13:51:34.417Z"
   },
   {
    "duration": 40,
    "start_time": "2023-05-17T13:51:34.445Z"
   },
   {
    "duration": 18,
    "start_time": "2023-05-17T13:51:34.487Z"
   },
   {
    "duration": 328,
    "start_time": "2023-05-17T13:51:34.507Z"
   },
   {
    "duration": 252,
    "start_time": "2023-05-17T13:51:34.837Z"
   },
   {
    "duration": 277,
    "start_time": "2023-05-17T13:51:35.091Z"
   },
   {
    "duration": 707,
    "start_time": "2023-05-17T13:51:35.370Z"
   },
   {
    "duration": 17,
    "start_time": "2023-05-17T13:51:36.078Z"
   },
   {
    "duration": 12,
    "start_time": "2023-05-17T13:51:36.098Z"
   },
   {
    "duration": 922,
    "start_time": "2023-05-17T13:51:36.112Z"
   },
   {
    "duration": 1349,
    "start_time": "2023-05-17T13:51:37.037Z"
   },
   {
    "duration": 38,
    "start_time": "2023-05-17T13:51:38.393Z"
   },
   {
    "duration": 4,
    "start_time": "2023-05-17T13:51:38.433Z"
   },
   {
    "duration": 14,
    "start_time": "2023-05-17T13:51:38.440Z"
   },
   {
    "duration": 11,
    "start_time": "2023-05-17T13:51:38.456Z"
   },
   {
    "duration": 17,
    "start_time": "2023-05-17T13:51:38.469Z"
   },
   {
    "duration": 13,
    "start_time": "2023-05-17T13:51:38.488Z"
   },
   {
    "duration": 5,
    "start_time": "2023-05-17T13:51:38.503Z"
   },
   {
    "duration": 1299,
    "start_time": "2023-05-17T13:54:58.756Z"
   },
   {
    "duration": 818,
    "start_time": "2023-05-17T13:55:00.056Z"
   },
   {
    "duration": 4,
    "start_time": "2023-05-17T13:55:00.876Z"
   },
   {
    "duration": 404,
    "start_time": "2023-05-17T13:55:00.882Z"
   },
   {
    "duration": 243,
    "start_time": "2023-05-17T13:55:01.287Z"
   },
   {
    "duration": 473,
    "start_time": "2023-05-17T13:55:01.531Z"
   },
   {
    "duration": 4,
    "start_time": "2023-05-17T13:55:02.006Z"
   },
   {
    "duration": 36,
    "start_time": "2023-05-17T13:55:02.013Z"
   },
   {
    "duration": 36,
    "start_time": "2023-05-17T13:55:02.052Z"
   },
   {
    "duration": 56,
    "start_time": "2023-05-17T13:55:02.091Z"
   },
   {
    "duration": 31,
    "start_time": "2023-05-17T13:55:02.149Z"
   },
   {
    "duration": 30,
    "start_time": "2023-05-17T13:55:02.182Z"
   },
   {
    "duration": 33,
    "start_time": "2023-05-17T13:55:02.214Z"
   },
   {
    "duration": 17,
    "start_time": "2023-05-17T13:55:02.249Z"
   },
   {
    "duration": 79,
    "start_time": "2023-05-17T13:55:02.267Z"
   },
   {
    "duration": 40,
    "start_time": "2023-05-17T13:55:02.348Z"
   },
   {
    "duration": 41,
    "start_time": "2023-05-17T13:55:02.390Z"
   },
   {
    "duration": 255,
    "start_time": "2023-05-17T13:55:02.433Z"
   },
   {
    "duration": 234,
    "start_time": "2023-05-17T13:55:02.689Z"
   },
   {
    "duration": 237,
    "start_time": "2023-05-17T13:55:02.925Z"
   },
   {
    "duration": 545,
    "start_time": "2023-05-17T13:55:03.164Z"
   },
   {
    "duration": 13,
    "start_time": "2023-05-17T13:55:03.711Z"
   },
   {
    "duration": 9,
    "start_time": "2023-05-17T13:55:03.725Z"
   },
   {
    "duration": 929,
    "start_time": "2023-05-17T13:55:03.736Z"
   },
   {
    "duration": 1064,
    "start_time": "2023-05-17T13:55:04.668Z"
   },
   {
    "duration": 24,
    "start_time": "2023-05-17T13:55:05.734Z"
   },
   {
    "duration": 15,
    "start_time": "2023-05-17T13:55:05.760Z"
   },
   {
    "duration": 6,
    "start_time": "2023-05-17T13:55:05.779Z"
   },
   {
    "duration": 20,
    "start_time": "2023-05-17T13:55:05.787Z"
   },
   {
    "duration": 39,
    "start_time": "2023-05-17T13:55:05.809Z"
   },
   {
    "duration": 11,
    "start_time": "2023-05-17T13:55:05.850Z"
   },
   {
    "duration": 10,
    "start_time": "2023-05-17T13:55:05.863Z"
   },
   {
    "duration": 134,
    "start_time": "2023-05-17T13:55:41.938Z"
   },
   {
    "duration": 1573,
    "start_time": "2023-05-17T13:56:08.252Z"
   },
   {
    "duration": 785,
    "start_time": "2023-05-17T13:56:09.827Z"
   },
   {
    "duration": 4,
    "start_time": "2023-05-17T13:56:10.614Z"
   },
   {
    "duration": 377,
    "start_time": "2023-05-17T13:56:10.619Z"
   },
   {
    "duration": 239,
    "start_time": "2023-05-17T13:56:10.998Z"
   },
   {
    "duration": 403,
    "start_time": "2023-05-17T13:56:11.238Z"
   },
   {
    "duration": 3,
    "start_time": "2023-05-17T13:56:11.643Z"
   },
   {
    "duration": 28,
    "start_time": "2023-05-17T13:56:11.648Z"
   },
   {
    "duration": 11,
    "start_time": "2023-05-17T13:56:11.679Z"
   },
   {
    "duration": 5,
    "start_time": "2023-05-17T13:56:11.694Z"
   },
   {
    "duration": 14,
    "start_time": "2023-05-17T13:56:11.701Z"
   },
   {
    "duration": 2,
    "start_time": "2023-05-17T13:56:11.717Z"
   },
   {
    "duration": 5,
    "start_time": "2023-05-17T13:56:11.721Z"
   },
   {
    "duration": 7,
    "start_time": "2023-05-17T13:56:11.728Z"
   },
   {
    "duration": 43,
    "start_time": "2023-05-17T13:56:11.737Z"
   },
   {
    "duration": 25,
    "start_time": "2023-05-17T13:56:11.783Z"
   },
   {
    "duration": 9,
    "start_time": "2023-05-17T13:56:11.811Z"
   },
   {
    "duration": 248,
    "start_time": "2023-05-17T13:56:11.822Z"
   },
   {
    "duration": 234,
    "start_time": "2023-05-17T13:56:12.071Z"
   },
   {
    "duration": 234,
    "start_time": "2023-05-17T13:56:12.307Z"
   },
   {
    "duration": 524,
    "start_time": "2023-05-17T13:56:12.543Z"
   },
   {
    "duration": 13,
    "start_time": "2023-05-17T13:56:13.068Z"
   },
   {
    "duration": 9,
    "start_time": "2023-05-17T13:56:13.083Z"
   },
   {
    "duration": 828,
    "start_time": "2023-05-17T13:56:13.095Z"
   },
   {
    "duration": 1163,
    "start_time": "2023-05-17T13:56:13.926Z"
   },
   {
    "duration": 30,
    "start_time": "2023-05-17T13:56:15.092Z"
   },
   {
    "duration": 4,
    "start_time": "2023-05-17T13:56:15.124Z"
   },
   {
    "duration": 13,
    "start_time": "2023-05-17T13:56:15.132Z"
   },
   {
    "duration": 30,
    "start_time": "2023-05-17T13:56:15.146Z"
   },
   {
    "duration": 7,
    "start_time": "2023-05-17T13:56:15.178Z"
   },
   {
    "duration": 5,
    "start_time": "2023-05-17T13:56:15.187Z"
   },
   {
    "duration": 118,
    "start_time": "2023-05-17T14:04:42.134Z"
   },
   {
    "duration": 25,
    "start_time": "2023-05-17T14:05:43.544Z"
   },
   {
    "duration": 34,
    "start_time": "2023-05-17T14:05:49.826Z"
   },
   {
    "duration": 13,
    "start_time": "2023-05-17T14:05:51.502Z"
   },
   {
    "duration": 3,
    "start_time": "2023-05-17T14:06:14.960Z"
   },
   {
    "duration": 34,
    "start_time": "2023-05-17T14:06:19.606Z"
   },
   {
    "duration": 11,
    "start_time": "2023-05-17T14:06:20.098Z"
   },
   {
    "duration": 1411,
    "start_time": "2023-05-17T14:06:30.240Z"
   },
   {
    "duration": 899,
    "start_time": "2023-05-17T14:06:31.653Z"
   },
   {
    "duration": 4,
    "start_time": "2023-05-17T14:06:32.553Z"
   },
   {
    "duration": 422,
    "start_time": "2023-05-17T14:06:32.559Z"
   },
   {
    "duration": 234,
    "start_time": "2023-05-17T14:06:32.983Z"
   },
   {
    "duration": 458,
    "start_time": "2023-05-17T14:06:33.218Z"
   },
   {
    "duration": 7,
    "start_time": "2023-05-17T14:06:33.678Z"
   },
   {
    "duration": 13,
    "start_time": "2023-05-17T14:06:33.686Z"
   },
   {
    "duration": 10,
    "start_time": "2023-05-17T14:06:33.701Z"
   },
   {
    "duration": 5,
    "start_time": "2023-05-17T14:06:33.713Z"
   },
   {
    "duration": 11,
    "start_time": "2023-05-17T14:06:33.719Z"
   },
   {
    "duration": 2,
    "start_time": "2023-05-17T14:06:33.732Z"
   },
   {
    "duration": 5,
    "start_time": "2023-05-17T14:06:33.735Z"
   },
   {
    "duration": 8,
    "start_time": "2023-05-17T14:06:33.742Z"
   },
   {
    "duration": 16,
    "start_time": "2023-05-17T14:06:33.783Z"
   },
   {
    "duration": 17,
    "start_time": "2023-05-17T14:06:33.801Z"
   },
   {
    "duration": 7,
    "start_time": "2023-05-17T14:06:33.820Z"
   },
   {
    "duration": 284,
    "start_time": "2023-05-17T14:06:33.829Z"
   },
   {
    "duration": 281,
    "start_time": "2023-05-17T14:06:34.115Z"
   },
   {
    "duration": 241,
    "start_time": "2023-05-17T14:06:34.398Z"
   },
   {
    "duration": 585,
    "start_time": "2023-05-17T14:06:34.641Z"
   },
   {
    "duration": 12,
    "start_time": "2023-05-17T14:06:35.228Z"
   },
   {
    "duration": 9,
    "start_time": "2023-05-17T14:06:35.241Z"
   },
   {
    "duration": 902,
    "start_time": "2023-05-17T14:06:35.251Z"
   },
   {
    "duration": 1149,
    "start_time": "2023-05-17T14:06:36.155Z"
   },
   {
    "duration": 23,
    "start_time": "2023-05-17T14:06:37.307Z"
   },
   {
    "duration": 4,
    "start_time": "2023-05-17T14:06:37.332Z"
   },
   {
    "duration": 2,
    "start_time": "2023-05-17T14:06:37.340Z"
   },
   {
    "duration": 39,
    "start_time": "2023-05-17T14:06:37.344Z"
   },
   {
    "duration": 15,
    "start_time": "2023-05-17T14:06:37.386Z"
   },
   {
    "duration": 4,
    "start_time": "2023-05-17T14:06:37.404Z"
   },
   {
    "duration": 33,
    "start_time": "2023-05-17T14:06:37.409Z"
   },
   {
    "duration": 126,
    "start_time": "2023-05-17T14:06:37.443Z"
   },
   {
    "duration": 5,
    "start_time": "2023-05-17T14:06:52.335Z"
   },
   {
    "duration": 5,
    "start_time": "2023-05-17T14:09:04.853Z"
   },
   {
    "duration": 29,
    "start_time": "2023-05-17T14:15:49.416Z"
   },
   {
    "duration": 33,
    "start_time": "2023-05-17T14:17:02.845Z"
   },
   {
    "duration": 90,
    "start_time": "2023-05-17T14:17:04.652Z"
   },
   {
    "duration": 1548,
    "start_time": "2023-05-17T14:18:15.594Z"
   },
   {
    "duration": 961,
    "start_time": "2023-05-17T14:18:17.144Z"
   },
   {
    "duration": 5,
    "start_time": "2023-05-17T14:18:18.107Z"
   },
   {
    "duration": 448,
    "start_time": "2023-05-17T14:18:18.114Z"
   },
   {
    "duration": 275,
    "start_time": "2023-05-17T14:18:18.576Z"
   },
   {
    "duration": 443,
    "start_time": "2023-05-17T14:18:18.853Z"
   },
   {
    "duration": 4,
    "start_time": "2023-05-17T14:18:19.298Z"
   },
   {
    "duration": 7,
    "start_time": "2023-05-17T14:18:19.304Z"
   },
   {
    "duration": 9,
    "start_time": "2023-05-17T14:18:19.314Z"
   },
   {
    "duration": 5,
    "start_time": "2023-05-17T14:18:19.324Z"
   },
   {
    "duration": 17,
    "start_time": "2023-05-17T14:18:19.331Z"
   },
   {
    "duration": 13,
    "start_time": "2023-05-17T14:18:19.376Z"
   },
   {
    "duration": 11,
    "start_time": "2023-05-17T14:18:19.392Z"
   },
   {
    "duration": 8,
    "start_time": "2023-05-17T14:18:19.406Z"
   },
   {
    "duration": 11,
    "start_time": "2023-05-17T14:18:19.415Z"
   },
   {
    "duration": 23,
    "start_time": "2023-05-17T14:18:19.428Z"
   },
   {
    "duration": 31,
    "start_time": "2023-05-17T14:18:19.453Z"
   },
   {
    "duration": 305,
    "start_time": "2023-05-17T14:18:19.488Z"
   },
   {
    "duration": 276,
    "start_time": "2023-05-17T14:18:19.796Z"
   },
   {
    "duration": 244,
    "start_time": "2023-05-17T14:18:20.074Z"
   },
   {
    "duration": 576,
    "start_time": "2023-05-17T14:18:20.320Z"
   },
   {
    "duration": 13,
    "start_time": "2023-05-17T14:18:20.898Z"
   },
   {
    "duration": 10,
    "start_time": "2023-05-17T14:18:20.912Z"
   },
   {
    "duration": 872,
    "start_time": "2023-05-17T14:18:20.923Z"
   },
   {
    "duration": 1097,
    "start_time": "2023-05-17T14:18:21.797Z"
   },
   {
    "duration": 41,
    "start_time": "2023-05-17T14:18:22.896Z"
   },
   {
    "duration": 3,
    "start_time": "2023-05-17T14:18:22.940Z"
   },
   {
    "duration": 5,
    "start_time": "2023-05-17T14:18:22.945Z"
   },
   {
    "duration": 39,
    "start_time": "2023-05-17T14:18:22.951Z"
   },
   {
    "duration": 6,
    "start_time": "2023-05-17T14:18:22.994Z"
   },
   {
    "duration": 4,
    "start_time": "2023-05-17T14:18:23.003Z"
   },
   {
    "duration": 41,
    "start_time": "2023-05-17T14:18:23.009Z"
   },
   {
    "duration": 97,
    "start_time": "2023-05-17T14:18:23.052Z"
   },
   {
    "duration": 1523,
    "start_time": "2023-05-17T14:19:00.291Z"
   },
   {
    "duration": 804,
    "start_time": "2023-05-17T14:19:01.816Z"
   },
   {
    "duration": 4,
    "start_time": "2023-05-17T14:19:02.621Z"
   },
   {
    "duration": 430,
    "start_time": "2023-05-17T14:19:02.628Z"
   },
   {
    "duration": 269,
    "start_time": "2023-05-17T14:19:03.060Z"
   },
   {
    "duration": 476,
    "start_time": "2023-05-17T14:19:03.330Z"
   },
   {
    "duration": 3,
    "start_time": "2023-05-17T14:19:03.807Z"
   },
   {
    "duration": 12,
    "start_time": "2023-05-17T14:19:03.812Z"
   },
   {
    "duration": 11,
    "start_time": "2023-05-17T14:19:03.825Z"
   },
   {
    "duration": 6,
    "start_time": "2023-05-17T14:19:03.840Z"
   },
   {
    "duration": 42,
    "start_time": "2023-05-17T14:19:03.847Z"
   },
   {
    "duration": 3,
    "start_time": "2023-05-17T14:19:03.890Z"
   },
   {
    "duration": 6,
    "start_time": "2023-05-17T14:19:03.895Z"
   },
   {
    "duration": 7,
    "start_time": "2023-05-17T14:19:03.903Z"
   },
   {
    "duration": 7,
    "start_time": "2023-05-17T14:19:03.912Z"
   },
   {
    "duration": 22,
    "start_time": "2023-05-17T14:19:03.921Z"
   },
   {
    "duration": 44,
    "start_time": "2023-05-17T14:19:03.945Z"
   },
   {
    "duration": 364,
    "start_time": "2023-05-17T14:19:03.995Z"
   },
   {
    "duration": 296,
    "start_time": "2023-05-17T14:19:04.361Z"
   },
   {
    "duration": 261,
    "start_time": "2023-05-17T14:19:04.659Z"
   },
   {
    "duration": 572,
    "start_time": "2023-05-17T14:19:04.922Z"
   },
   {
    "duration": 16,
    "start_time": "2023-05-17T14:19:05.496Z"
   },
   {
    "duration": 10,
    "start_time": "2023-05-17T14:19:05.513Z"
   },
   {
    "duration": 899,
    "start_time": "2023-05-17T14:19:05.524Z"
   },
   {
    "duration": 1075,
    "start_time": "2023-05-17T14:19:06.425Z"
   },
   {
    "duration": 24,
    "start_time": "2023-05-17T14:19:07.501Z"
   },
   {
    "duration": 3,
    "start_time": "2023-05-17T14:19:07.527Z"
   },
   {
    "duration": 3,
    "start_time": "2023-05-17T14:19:07.534Z"
   },
   {
    "duration": 39,
    "start_time": "2023-05-17T14:19:07.539Z"
   },
   {
    "duration": 8,
    "start_time": "2023-05-17T14:19:07.579Z"
   },
   {
    "duration": 9,
    "start_time": "2023-05-17T14:19:07.589Z"
   },
   {
    "duration": 42,
    "start_time": "2023-05-17T14:19:07.600Z"
   },
   {
    "duration": 83,
    "start_time": "2023-05-17T14:19:07.644Z"
   },
   {
    "duration": 1404,
    "start_time": "2023-05-17T14:20:33.784Z"
   },
   {
    "duration": 811,
    "start_time": "2023-05-17T14:20:35.190Z"
   },
   {
    "duration": 4,
    "start_time": "2023-05-17T14:20:36.003Z"
   },
   {
    "duration": 401,
    "start_time": "2023-05-17T14:20:36.009Z"
   },
   {
    "duration": 224,
    "start_time": "2023-05-17T14:20:36.412Z"
   },
   {
    "duration": 398,
    "start_time": "2023-05-17T14:20:36.637Z"
   },
   {
    "duration": 3,
    "start_time": "2023-05-17T14:20:37.036Z"
   },
   {
    "duration": 21,
    "start_time": "2023-05-17T14:20:37.040Z"
   },
   {
    "duration": 19,
    "start_time": "2023-05-17T14:20:37.062Z"
   },
   {
    "duration": 7,
    "start_time": "2023-05-17T14:20:37.082Z"
   },
   {
    "duration": 22,
    "start_time": "2023-05-17T14:20:37.091Z"
   },
   {
    "duration": 6,
    "start_time": "2023-05-17T14:20:37.115Z"
   },
   {
    "duration": 11,
    "start_time": "2023-05-17T14:20:37.123Z"
   },
   {
    "duration": 11,
    "start_time": "2023-05-17T14:20:37.138Z"
   },
   {
    "duration": 8,
    "start_time": "2023-05-17T14:20:37.151Z"
   },
   {
    "duration": 29,
    "start_time": "2023-05-17T14:20:37.160Z"
   },
   {
    "duration": 9,
    "start_time": "2023-05-17T14:20:37.191Z"
   },
   {
    "duration": 238,
    "start_time": "2023-05-17T14:20:37.202Z"
   },
   {
    "duration": 255,
    "start_time": "2023-05-17T14:20:37.442Z"
   },
   {
    "duration": 241,
    "start_time": "2023-05-17T14:20:37.699Z"
   },
   {
    "duration": 550,
    "start_time": "2023-05-17T14:20:37.942Z"
   },
   {
    "duration": 12,
    "start_time": "2023-05-17T14:20:38.494Z"
   },
   {
    "duration": 8,
    "start_time": "2023-05-17T14:20:38.508Z"
   },
   {
    "duration": 864,
    "start_time": "2023-05-17T14:20:38.518Z"
   },
   {
    "duration": 1107,
    "start_time": "2023-05-17T14:20:39.389Z"
   },
   {
    "duration": 20,
    "start_time": "2023-05-17T14:20:40.498Z"
   },
   {
    "duration": 3,
    "start_time": "2023-05-17T14:20:40.519Z"
   },
   {
    "duration": 5,
    "start_time": "2023-05-17T14:20:40.523Z"
   },
   {
    "duration": 13,
    "start_time": "2023-05-17T14:20:40.529Z"
   },
   {
    "duration": 13,
    "start_time": "2023-05-17T14:20:40.543Z"
   },
   {
    "duration": 30,
    "start_time": "2023-05-17T14:20:40.557Z"
   },
   {
    "duration": 126,
    "start_time": "2023-05-17T14:20:40.589Z"
   },
   {
    "duration": 0,
    "start_time": "2023-05-17T14:20:40.717Z"
   },
   {
    "duration": 10,
    "start_time": "2023-05-17T14:21:18.632Z"
   },
   {
    "duration": 1224,
    "start_time": "2023-05-17T14:23:37.949Z"
   },
   {
    "duration": 814,
    "start_time": "2023-05-17T14:23:39.176Z"
   },
   {
    "duration": 4,
    "start_time": "2023-05-17T14:23:39.991Z"
   },
   {
    "duration": 370,
    "start_time": "2023-05-17T14:23:39.997Z"
   },
   {
    "duration": 228,
    "start_time": "2023-05-17T14:23:40.375Z"
   },
   {
    "duration": 392,
    "start_time": "2023-05-17T14:23:40.604Z"
   },
   {
    "duration": 2,
    "start_time": "2023-05-17T14:23:40.998Z"
   },
   {
    "duration": 31,
    "start_time": "2023-05-17T14:23:41.002Z"
   },
   {
    "duration": 13,
    "start_time": "2023-05-17T14:23:41.035Z"
   },
   {
    "duration": 15,
    "start_time": "2023-05-17T14:23:41.051Z"
   },
   {
    "duration": 15,
    "start_time": "2023-05-17T14:23:41.067Z"
   },
   {
    "duration": 3,
    "start_time": "2023-05-17T14:23:41.084Z"
   },
   {
    "duration": 3,
    "start_time": "2023-05-17T14:23:41.089Z"
   },
   {
    "duration": 7,
    "start_time": "2023-05-17T14:23:41.094Z"
   },
   {
    "duration": 7,
    "start_time": "2023-05-17T14:23:41.102Z"
   },
   {
    "duration": 18,
    "start_time": "2023-05-17T14:23:41.110Z"
   },
   {
    "duration": 8,
    "start_time": "2023-05-17T14:23:41.129Z"
   },
   {
    "duration": 75,
    "start_time": "2023-05-17T14:23:41.138Z"
   },
   {
    "duration": 224,
    "start_time": "2023-05-17T14:23:41.214Z"
   },
   {
    "duration": 251,
    "start_time": "2023-05-17T14:23:41.439Z"
   },
   {
    "duration": 220,
    "start_time": "2023-05-17T14:23:41.692Z"
   },
   {
    "duration": 512,
    "start_time": "2023-05-17T14:23:41.913Z"
   },
   {
    "duration": 13,
    "start_time": "2023-05-17T14:23:42.427Z"
   },
   {
    "duration": 8,
    "start_time": "2023-05-17T14:23:42.441Z"
   },
   {
    "duration": 796,
    "start_time": "2023-05-17T14:23:42.451Z"
   },
   {
    "duration": 1094,
    "start_time": "2023-05-17T14:23:43.249Z"
   },
   {
    "duration": 21,
    "start_time": "2023-05-17T14:23:44.344Z"
   },
   {
    "duration": 3,
    "start_time": "2023-05-17T14:23:44.385Z"
   },
   {
    "duration": 4,
    "start_time": "2023-05-17T14:23:44.389Z"
   },
   {
    "duration": 11,
    "start_time": "2023-05-17T14:23:44.395Z"
   },
   {
    "duration": 7,
    "start_time": "2023-05-17T14:23:44.407Z"
   },
   {
    "duration": 53,
    "start_time": "2023-05-17T14:23:44.415Z"
   },
   {
    "duration": 18,
    "start_time": "2023-05-17T14:23:44.469Z"
   },
   {
    "duration": 36,
    "start_time": "2023-05-17T14:23:44.489Z"
   },
   {
    "duration": 33,
    "start_time": "2023-05-17T14:23:44.526Z"
   },
   {
    "duration": 26,
    "start_time": "2023-05-17T14:23:44.561Z"
   },
   {
    "duration": 1368,
    "start_time": "2023-05-17T14:35:07.345Z"
   },
   {
    "duration": 821,
    "start_time": "2023-05-17T14:35:08.715Z"
   },
   {
    "duration": 3,
    "start_time": "2023-05-17T14:35:09.542Z"
   },
   {
    "duration": 390,
    "start_time": "2023-05-17T14:35:09.547Z"
   },
   {
    "duration": 240,
    "start_time": "2023-05-17T14:35:09.939Z"
   },
   {
    "duration": 400,
    "start_time": "2023-05-17T14:35:10.180Z"
   },
   {
    "duration": 2,
    "start_time": "2023-05-17T14:35:10.582Z"
   },
   {
    "duration": 5,
    "start_time": "2023-05-17T14:35:10.592Z"
   },
   {
    "duration": 10,
    "start_time": "2023-05-17T14:35:10.600Z"
   },
   {
    "duration": 6,
    "start_time": "2023-05-17T14:35:10.611Z"
   },
   {
    "duration": 29,
    "start_time": "2023-05-17T14:35:10.619Z"
   },
   {
    "duration": 2,
    "start_time": "2023-05-17T14:35:10.650Z"
   },
   {
    "duration": 6,
    "start_time": "2023-05-17T14:35:10.654Z"
   },
   {
    "duration": 26,
    "start_time": "2023-05-17T14:35:10.662Z"
   },
   {
    "duration": 9,
    "start_time": "2023-05-17T14:35:10.689Z"
   },
   {
    "duration": 18,
    "start_time": "2023-05-17T14:35:10.699Z"
   },
   {
    "duration": 7,
    "start_time": "2023-05-17T14:35:10.718Z"
   },
   {
    "duration": 264,
    "start_time": "2023-05-17T14:35:10.727Z"
   },
   {
    "duration": 217,
    "start_time": "2023-05-17T14:35:10.992Z"
   },
   {
    "duration": 237,
    "start_time": "2023-05-17T14:35:11.211Z"
   },
   {
    "duration": 536,
    "start_time": "2023-05-17T14:35:11.450Z"
   },
   {
    "duration": 15,
    "start_time": "2023-05-17T14:35:11.990Z"
   },
   {
    "duration": 9,
    "start_time": "2023-05-17T14:35:12.007Z"
   },
   {
    "duration": 825,
    "start_time": "2023-05-17T14:35:12.018Z"
   },
   {
    "duration": 1063,
    "start_time": "2023-05-17T14:35:12.859Z"
   },
   {
    "duration": 36,
    "start_time": "2023-05-17T14:35:13.924Z"
   },
   {
    "duration": 3,
    "start_time": "2023-05-17T14:35:13.964Z"
   },
   {
    "duration": 4,
    "start_time": "2023-05-17T14:35:13.979Z"
   },
   {
    "duration": 14,
    "start_time": "2023-05-17T14:35:13.986Z"
   },
   {
    "duration": 7,
    "start_time": "2023-05-17T14:35:14.002Z"
   },
   {
    "duration": 89,
    "start_time": "2023-05-17T14:35:14.011Z"
   },
   {
    "duration": 5,
    "start_time": "2023-05-17T14:35:14.102Z"
   },
   {
    "duration": 47,
    "start_time": "2023-05-17T14:35:14.109Z"
   },
   {
    "duration": 39,
    "start_time": "2023-05-17T14:35:14.180Z"
   },
   {
    "duration": 155,
    "start_time": "2023-05-17T14:35:14.221Z"
   },
   {
    "duration": 1272,
    "start_time": "2023-05-17T14:38:47.043Z"
   },
   {
    "duration": 812,
    "start_time": "2023-05-17T14:38:48.317Z"
   },
   {
    "duration": 3,
    "start_time": "2023-05-17T14:38:49.131Z"
   },
   {
    "duration": 394,
    "start_time": "2023-05-17T14:38:49.136Z"
   },
   {
    "duration": 254,
    "start_time": "2023-05-17T14:38:49.533Z"
   },
   {
    "duration": 404,
    "start_time": "2023-05-17T14:38:49.790Z"
   },
   {
    "duration": 3,
    "start_time": "2023-05-17T14:38:50.195Z"
   },
   {
    "duration": 8,
    "start_time": "2023-05-17T14:38:50.199Z"
   },
   {
    "duration": 8,
    "start_time": "2023-05-17T14:38:50.208Z"
   },
   {
    "duration": 6,
    "start_time": "2023-05-17T14:38:50.219Z"
   },
   {
    "duration": 11,
    "start_time": "2023-05-17T14:38:50.227Z"
   },
   {
    "duration": 3,
    "start_time": "2023-05-17T14:38:50.240Z"
   },
   {
    "duration": 5,
    "start_time": "2023-05-17T14:38:50.244Z"
   },
   {
    "duration": 41,
    "start_time": "2023-05-17T14:38:50.251Z"
   },
   {
    "duration": 8,
    "start_time": "2023-05-17T14:38:50.294Z"
   },
   {
    "duration": 18,
    "start_time": "2023-05-17T14:38:50.304Z"
   },
   {
    "duration": 9,
    "start_time": "2023-05-17T14:38:50.324Z"
   },
   {
    "duration": 253,
    "start_time": "2023-05-17T14:38:50.335Z"
   },
   {
    "duration": 246,
    "start_time": "2023-05-17T14:38:50.590Z"
   },
   {
    "duration": 234,
    "start_time": "2023-05-17T14:38:50.837Z"
   },
   {
    "duration": 553,
    "start_time": "2023-05-17T14:38:51.074Z"
   },
   {
    "duration": 14,
    "start_time": "2023-05-17T14:38:51.629Z"
   },
   {
    "duration": 13,
    "start_time": "2023-05-17T14:38:51.645Z"
   },
   {
    "duration": 815,
    "start_time": "2023-05-17T14:38:51.676Z"
   },
   {
    "duration": 1067,
    "start_time": "2023-05-17T14:38:52.493Z"
   },
   {
    "duration": 33,
    "start_time": "2023-05-17T14:38:53.562Z"
   },
   {
    "duration": 3,
    "start_time": "2023-05-17T14:38:53.596Z"
   },
   {
    "duration": 3,
    "start_time": "2023-05-17T14:38:53.603Z"
   },
   {
    "duration": 20,
    "start_time": "2023-05-17T14:38:53.609Z"
   },
   {
    "duration": 7,
    "start_time": "2023-05-17T14:38:53.630Z"
   },
   {
    "duration": 76,
    "start_time": "2023-05-17T14:38:53.639Z"
   },
   {
    "duration": 4,
    "start_time": "2023-05-17T14:38:53.717Z"
   },
   {
    "duration": 41,
    "start_time": "2023-05-17T14:38:53.723Z"
   },
   {
    "duration": 117,
    "start_time": "2023-05-17T14:38:53.775Z"
   },
   {
    "duration": 7,
    "start_time": "2023-05-17T14:42:55.019Z"
   },
   {
    "duration": 37,
    "start_time": "2023-05-17T14:42:56.019Z"
   },
   {
    "duration": 1483,
    "start_time": "2023-05-17T14:43:53.447Z"
   },
   {
    "duration": 841,
    "start_time": "2023-05-17T14:43:54.932Z"
   },
   {
    "duration": 7,
    "start_time": "2023-05-17T14:43:55.774Z"
   },
   {
    "duration": 393,
    "start_time": "2023-05-17T14:43:55.785Z"
   },
   {
    "duration": 250,
    "start_time": "2023-05-17T14:43:56.181Z"
   },
   {
    "duration": 414,
    "start_time": "2023-05-17T14:43:56.433Z"
   },
   {
    "duration": 3,
    "start_time": "2023-05-17T14:43:56.850Z"
   },
   {
    "duration": 5,
    "start_time": "2023-05-17T14:43:56.880Z"
   },
   {
    "duration": 16,
    "start_time": "2023-05-17T14:43:56.887Z"
   },
   {
    "duration": 6,
    "start_time": "2023-05-17T14:43:56.907Z"
   },
   {
    "duration": 17,
    "start_time": "2023-05-17T14:43:56.915Z"
   },
   {
    "duration": 4,
    "start_time": "2023-05-17T14:43:56.934Z"
   },
   {
    "duration": 6,
    "start_time": "2023-05-17T14:43:56.939Z"
   },
   {
    "duration": 10,
    "start_time": "2023-05-17T14:43:56.946Z"
   },
   {
    "duration": 8,
    "start_time": "2023-05-17T14:43:56.980Z"
   },
   {
    "duration": 22,
    "start_time": "2023-05-17T14:43:56.992Z"
   },
   {
    "duration": 11,
    "start_time": "2023-05-17T14:43:57.016Z"
   },
   {
    "duration": 267,
    "start_time": "2023-05-17T14:43:57.029Z"
   },
   {
    "duration": 266,
    "start_time": "2023-05-17T14:43:57.297Z"
   },
   {
    "duration": 276,
    "start_time": "2023-05-17T14:43:57.565Z"
   },
   {
    "duration": 590,
    "start_time": "2023-05-17T14:43:57.843Z"
   },
   {
    "duration": 15,
    "start_time": "2023-05-17T14:43:58.435Z"
   },
   {
    "duration": 31,
    "start_time": "2023-05-17T14:43:58.452Z"
   },
   {
    "duration": 881,
    "start_time": "2023-05-17T14:43:58.484Z"
   },
   {
    "duration": 1186,
    "start_time": "2023-05-17T14:43:59.367Z"
   },
   {
    "duration": 39,
    "start_time": "2023-05-17T14:44:00.555Z"
   },
   {
    "duration": 4,
    "start_time": "2023-05-17T14:44:00.596Z"
   },
   {
    "duration": 59,
    "start_time": "2023-05-17T14:44:00.603Z"
   },
   {
    "duration": 52,
    "start_time": "2023-05-17T14:44:00.664Z"
   },
   {
    "duration": 63,
    "start_time": "2023-05-17T14:44:00.718Z"
   },
   {
    "duration": 14,
    "start_time": "2023-05-17T14:44:00.787Z"
   },
   {
    "duration": 53,
    "start_time": "2023-05-17T14:44:00.803Z"
   },
   {
    "duration": 82,
    "start_time": "2023-05-17T14:44:00.858Z"
   },
   {
    "duration": 52,
    "start_time": "2023-05-17T14:44:14.088Z"
   },
   {
    "duration": 1481,
    "start_time": "2023-05-17T14:45:29.037Z"
   },
   {
    "duration": 1061,
    "start_time": "2023-05-17T14:45:30.521Z"
   },
   {
    "duration": 5,
    "start_time": "2023-05-17T14:45:31.594Z"
   },
   {
    "duration": 458,
    "start_time": "2023-05-17T14:45:31.602Z"
   },
   {
    "duration": 280,
    "start_time": "2023-05-17T14:45:32.062Z"
   },
   {
    "duration": 446,
    "start_time": "2023-05-17T14:45:32.344Z"
   },
   {
    "duration": 5,
    "start_time": "2023-05-17T14:45:32.792Z"
   },
   {
    "duration": 11,
    "start_time": "2023-05-17T14:45:32.799Z"
   },
   {
    "duration": 10,
    "start_time": "2023-05-17T14:45:32.812Z"
   },
   {
    "duration": 14,
    "start_time": "2023-05-17T14:45:32.824Z"
   },
   {
    "duration": 12,
    "start_time": "2023-05-17T14:45:32.840Z"
   },
   {
    "duration": 3,
    "start_time": "2023-05-17T14:45:32.854Z"
   },
   {
    "duration": 13,
    "start_time": "2023-05-17T14:45:32.879Z"
   },
   {
    "duration": 6,
    "start_time": "2023-05-17T14:45:32.894Z"
   },
   {
    "duration": 11,
    "start_time": "2023-05-17T14:45:32.902Z"
   },
   {
    "duration": 22,
    "start_time": "2023-05-17T14:45:32.915Z"
   },
   {
    "duration": 8,
    "start_time": "2023-05-17T14:45:32.938Z"
   },
   {
    "duration": 263,
    "start_time": "2023-05-17T14:45:32.947Z"
   },
   {
    "duration": 253,
    "start_time": "2023-05-17T14:45:33.212Z"
   },
   {
    "duration": 332,
    "start_time": "2023-05-17T14:45:33.467Z"
   },
   {
    "duration": 720,
    "start_time": "2023-05-17T14:45:33.801Z"
   },
   {
    "duration": 18,
    "start_time": "2023-05-17T14:45:34.524Z"
   },
   {
    "duration": 40,
    "start_time": "2023-05-17T14:45:34.545Z"
   },
   {
    "duration": 965,
    "start_time": "2023-05-17T14:45:34.591Z"
   },
   {
    "duration": 1209,
    "start_time": "2023-05-17T14:45:35.558Z"
   },
   {
    "duration": 48,
    "start_time": "2023-05-17T14:45:36.769Z"
   },
   {
    "duration": 4,
    "start_time": "2023-05-17T14:45:36.820Z"
   },
   {
    "duration": 2,
    "start_time": "2023-05-17T14:45:36.829Z"
   },
   {
    "duration": 13,
    "start_time": "2023-05-17T14:45:36.833Z"
   },
   {
    "duration": 31,
    "start_time": "2023-05-17T14:45:36.847Z"
   },
   {
    "duration": 11,
    "start_time": "2023-05-17T14:45:36.884Z"
   },
   {
    "duration": 27,
    "start_time": "2023-05-17T14:45:36.897Z"
   },
   {
    "duration": 71,
    "start_time": "2023-05-17T14:45:36.926Z"
   },
   {
    "duration": 44,
    "start_time": "2023-05-17T14:45:36.999Z"
   },
   {
    "duration": 1489,
    "start_time": "2023-05-17T14:46:31.702Z"
   },
   {
    "duration": 1132,
    "start_time": "2023-05-17T14:46:33.193Z"
   },
   {
    "duration": 8,
    "start_time": "2023-05-17T14:46:34.328Z"
   },
   {
    "duration": 651,
    "start_time": "2023-05-17T14:46:34.338Z"
   },
   {
    "duration": 337,
    "start_time": "2023-05-17T14:46:34.991Z"
   },
   {
    "duration": 665,
    "start_time": "2023-05-17T14:46:35.330Z"
   },
   {
    "duration": 6,
    "start_time": "2023-05-17T14:46:35.997Z"
   },
   {
    "duration": 23,
    "start_time": "2023-05-17T14:46:36.006Z"
   },
   {
    "duration": 18,
    "start_time": "2023-05-17T14:46:36.031Z"
   },
   {
    "duration": 9,
    "start_time": "2023-05-17T14:46:36.051Z"
   },
   {
    "duration": 39,
    "start_time": "2023-05-17T14:46:36.062Z"
   },
   {
    "duration": 4,
    "start_time": "2023-05-17T14:46:36.105Z"
   },
   {
    "duration": 9,
    "start_time": "2023-05-17T14:46:36.111Z"
   },
   {
    "duration": 25,
    "start_time": "2023-05-17T14:46:36.123Z"
   },
   {
    "duration": 20,
    "start_time": "2023-05-17T14:46:36.150Z"
   },
   {
    "duration": 27,
    "start_time": "2023-05-17T14:46:36.172Z"
   },
   {
    "duration": 11,
    "start_time": "2023-05-17T14:46:36.213Z"
   },
   {
    "duration": 336,
    "start_time": "2023-05-17T14:46:36.226Z"
   },
   {
    "duration": 340,
    "start_time": "2023-05-17T14:46:36.564Z"
   },
   {
    "duration": 299,
    "start_time": "2023-05-17T14:46:36.907Z"
   },
   {
    "duration": 615,
    "start_time": "2023-05-17T14:46:37.208Z"
   },
   {
    "duration": 14,
    "start_time": "2023-05-17T14:46:37.825Z"
   },
   {
    "duration": 14,
    "start_time": "2023-05-17T14:46:37.841Z"
   },
   {
    "duration": 998,
    "start_time": "2023-05-17T14:46:37.883Z"
   },
   {
    "duration": 1260,
    "start_time": "2023-05-17T14:46:38.888Z"
   },
   {
    "duration": 43,
    "start_time": "2023-05-17T14:46:40.149Z"
   },
   {
    "duration": 8,
    "start_time": "2023-05-17T14:46:40.194Z"
   },
   {
    "duration": 4,
    "start_time": "2023-05-17T14:46:40.204Z"
   },
   {
    "duration": 15,
    "start_time": "2023-05-17T14:46:40.209Z"
   },
   {
    "duration": 24,
    "start_time": "2023-05-17T14:46:40.226Z"
   },
   {
    "duration": 17,
    "start_time": "2023-05-17T14:46:40.251Z"
   },
   {
    "duration": 43,
    "start_time": "2023-05-17T14:46:40.270Z"
   },
   {
    "duration": 63,
    "start_time": "2023-05-17T14:46:40.315Z"
   },
   {
    "duration": 48,
    "start_time": "2023-05-17T14:46:40.380Z"
   },
   {
    "duration": 41,
    "start_time": "2023-05-17T15:00:35.306Z"
   },
   {
    "duration": 10,
    "start_time": "2023-05-17T15:20:16.091Z"
   },
   {
    "duration": 5,
    "start_time": "2023-05-17T15:29:45.335Z"
   },
   {
    "duration": 1437,
    "start_time": "2023-05-17T15:32:12.748Z"
   },
   {
    "duration": 900,
    "start_time": "2023-05-17T15:32:14.193Z"
   },
   {
    "duration": 5,
    "start_time": "2023-05-17T15:32:15.095Z"
   },
   {
    "duration": 413,
    "start_time": "2023-05-17T15:32:15.102Z"
   },
   {
    "duration": 240,
    "start_time": "2023-05-17T15:32:15.517Z"
   },
   {
    "duration": 445,
    "start_time": "2023-05-17T15:32:15.759Z"
   },
   {
    "duration": 3,
    "start_time": "2023-05-17T15:32:16.206Z"
   },
   {
    "duration": 7,
    "start_time": "2023-05-17T15:32:16.211Z"
   },
   {
    "duration": 17,
    "start_time": "2023-05-17T15:32:16.220Z"
   },
   {
    "duration": 8,
    "start_time": "2023-05-17T15:32:16.240Z"
   },
   {
    "duration": 40,
    "start_time": "2023-05-17T15:32:16.250Z"
   },
   {
    "duration": 3,
    "start_time": "2023-05-17T15:32:16.292Z"
   },
   {
    "duration": 5,
    "start_time": "2023-05-17T15:32:16.297Z"
   },
   {
    "duration": 7,
    "start_time": "2023-05-17T15:32:16.304Z"
   },
   {
    "duration": 7,
    "start_time": "2023-05-17T15:32:16.314Z"
   },
   {
    "duration": 22,
    "start_time": "2023-05-17T15:32:16.323Z"
   },
   {
    "duration": 30,
    "start_time": "2023-05-17T15:32:16.347Z"
   },
   {
    "duration": 258,
    "start_time": "2023-05-17T15:32:16.378Z"
   },
   {
    "duration": 259,
    "start_time": "2023-05-17T15:32:16.638Z"
   },
   {
    "duration": 250,
    "start_time": "2023-05-17T15:32:16.899Z"
   },
   {
    "duration": 602,
    "start_time": "2023-05-17T15:32:17.150Z"
   },
   {
    "duration": 12,
    "start_time": "2023-05-17T15:32:17.754Z"
   },
   {
    "duration": 16,
    "start_time": "2023-05-17T15:32:17.775Z"
   },
   {
    "duration": 888,
    "start_time": "2023-05-17T15:32:17.793Z"
   },
   {
    "duration": 1144,
    "start_time": "2023-05-17T15:32:18.692Z"
   },
   {
    "duration": 25,
    "start_time": "2023-05-17T15:32:19.838Z"
   },
   {
    "duration": 14,
    "start_time": "2023-05-17T15:32:19.876Z"
   },
   {
    "duration": 7,
    "start_time": "2023-05-17T15:32:19.894Z"
   },
   {
    "duration": 13,
    "start_time": "2023-05-17T15:32:19.903Z"
   },
   {
    "duration": 19,
    "start_time": "2023-05-17T15:32:19.918Z"
   },
   {
    "duration": 8,
    "start_time": "2023-05-17T15:32:19.938Z"
   },
   {
    "duration": 46,
    "start_time": "2023-05-17T15:32:19.948Z"
   },
   {
    "duration": 41,
    "start_time": "2023-05-17T15:32:19.996Z"
   },
   {
    "duration": 11,
    "start_time": "2023-05-17T15:32:20.039Z"
   },
   {
    "duration": 19,
    "start_time": "2023-05-17T15:32:20.052Z"
   },
   {
    "duration": 1307,
    "start_time": "2023-05-17T15:35:36.487Z"
   },
   {
    "duration": 923,
    "start_time": "2023-05-17T15:35:37.796Z"
   },
   {
    "duration": 4,
    "start_time": "2023-05-17T15:35:38.721Z"
   },
   {
    "duration": 428,
    "start_time": "2023-05-17T15:35:38.727Z"
   },
   {
    "duration": 239,
    "start_time": "2023-05-17T15:35:39.157Z"
   },
   {
    "duration": 443,
    "start_time": "2023-05-17T15:35:39.402Z"
   },
   {
    "duration": 4,
    "start_time": "2023-05-17T15:35:39.847Z"
   },
   {
    "duration": 35,
    "start_time": "2023-05-17T15:35:39.853Z"
   },
   {
    "duration": 10,
    "start_time": "2023-05-17T15:35:39.894Z"
   },
   {
    "duration": 6,
    "start_time": "2023-05-17T15:35:39.906Z"
   },
   {
    "duration": 16,
    "start_time": "2023-05-17T15:35:39.914Z"
   },
   {
    "duration": 4,
    "start_time": "2023-05-17T15:35:39.932Z"
   },
   {
    "duration": 5,
    "start_time": "2023-05-17T15:35:39.937Z"
   },
   {
    "duration": 7,
    "start_time": "2023-05-17T15:35:39.945Z"
   },
   {
    "duration": 34,
    "start_time": "2023-05-17T15:35:39.953Z"
   },
   {
    "duration": 19,
    "start_time": "2023-05-17T15:35:39.992Z"
   },
   {
    "duration": 9,
    "start_time": "2023-05-17T15:35:40.013Z"
   },
   {
    "duration": 270,
    "start_time": "2023-05-17T15:35:40.023Z"
   },
   {
    "duration": 248,
    "start_time": "2023-05-17T15:35:40.295Z"
   },
   {
    "duration": 265,
    "start_time": "2023-05-17T15:35:40.544Z"
   },
   {
    "duration": 598,
    "start_time": "2023-05-17T15:35:40.810Z"
   },
   {
    "duration": 13,
    "start_time": "2023-05-17T15:35:41.410Z"
   },
   {
    "duration": 8,
    "start_time": "2023-05-17T15:35:41.425Z"
   },
   {
    "duration": 891,
    "start_time": "2023-05-17T15:35:41.435Z"
   },
   {
    "duration": 1106,
    "start_time": "2023-05-17T15:35:42.328Z"
   },
   {
    "duration": 21,
    "start_time": "2023-05-17T15:35:43.436Z"
   },
   {
    "duration": 4,
    "start_time": "2023-05-17T15:35:43.459Z"
   },
   {
    "duration": 16,
    "start_time": "2023-05-17T15:35:43.476Z"
   },
   {
    "duration": 13,
    "start_time": "2023-05-17T15:35:43.494Z"
   },
   {
    "duration": 6,
    "start_time": "2023-05-17T15:35:43.509Z"
   },
   {
    "duration": 11,
    "start_time": "2023-05-17T15:35:43.517Z"
   },
   {
    "duration": 46,
    "start_time": "2023-05-17T15:35:43.530Z"
   },
   {
    "duration": 45,
    "start_time": "2023-05-17T15:35:43.578Z"
   },
   {
    "duration": 17,
    "start_time": "2023-05-17T15:35:43.624Z"
   },
   {
    "duration": 15,
    "start_time": "2023-05-17T15:35:43.656Z"
   },
   {
    "duration": 13,
    "start_time": "2023-05-17T15:57:49.690Z"
   },
   {
    "duration": 1343,
    "start_time": "2023-05-17T15:59:28.936Z"
   },
   {
    "duration": 904,
    "start_time": "2023-05-17T15:59:30.286Z"
   },
   {
    "duration": 4,
    "start_time": "2023-05-17T15:59:31.198Z"
   },
   {
    "duration": 551,
    "start_time": "2023-05-17T15:59:31.204Z"
   },
   {
    "duration": 268,
    "start_time": "2023-05-17T15:59:31.757Z"
   },
   {
    "duration": 472,
    "start_time": "2023-05-17T15:59:32.027Z"
   },
   {
    "duration": 3,
    "start_time": "2023-05-17T15:59:32.501Z"
   },
   {
    "duration": 18,
    "start_time": "2023-05-17T15:59:32.505Z"
   },
   {
    "duration": 8,
    "start_time": "2023-05-17T15:59:32.525Z"
   },
   {
    "duration": 5,
    "start_time": "2023-05-17T15:59:32.535Z"
   },
   {
    "duration": 15,
    "start_time": "2023-05-17T15:59:32.541Z"
   },
   {
    "duration": 10,
    "start_time": "2023-05-17T15:59:32.577Z"
   },
   {
    "duration": 2,
    "start_time": "2023-05-17T15:59:32.589Z"
   },
   {
    "duration": 7,
    "start_time": "2023-05-17T15:59:32.594Z"
   },
   {
    "duration": 7,
    "start_time": "2023-05-17T15:59:32.602Z"
   },
   {
    "duration": 20,
    "start_time": "2023-05-17T15:59:32.610Z"
   },
   {
    "duration": 7,
    "start_time": "2023-05-17T15:59:32.632Z"
   },
   {
    "duration": 265,
    "start_time": "2023-05-17T15:59:32.641Z"
   },
   {
    "duration": 247,
    "start_time": "2023-05-17T15:59:32.908Z"
   },
   {
    "duration": 262,
    "start_time": "2023-05-17T15:59:33.157Z"
   },
   {
    "duration": 688,
    "start_time": "2023-05-17T15:59:33.421Z"
   },
   {
    "duration": 19,
    "start_time": "2023-05-17T15:59:34.114Z"
   },
   {
    "duration": 11,
    "start_time": "2023-05-17T15:59:34.135Z"
   },
   {
    "duration": 971,
    "start_time": "2023-05-17T15:59:34.148Z"
   },
   {
    "duration": 1187,
    "start_time": "2023-05-17T15:59:35.122Z"
   },
   {
    "duration": 28,
    "start_time": "2023-05-17T15:59:36.311Z"
   },
   {
    "duration": 4,
    "start_time": "2023-05-17T15:59:36.341Z"
   },
   {
    "duration": 6,
    "start_time": "2023-05-17T15:59:36.347Z"
   },
   {
    "duration": 36,
    "start_time": "2023-05-17T15:59:36.355Z"
   },
   {
    "duration": 6,
    "start_time": "2023-05-17T15:59:36.395Z"
   },
   {
    "duration": 11,
    "start_time": "2023-05-17T15:59:36.403Z"
   },
   {
    "duration": 35,
    "start_time": "2023-05-17T15:59:36.416Z"
   },
   {
    "duration": 72,
    "start_time": "2023-05-17T15:59:36.453Z"
   },
   {
    "duration": 9,
    "start_time": "2023-05-17T15:59:36.527Z"
   },
   {
    "duration": 13,
    "start_time": "2023-05-17T15:59:36.537Z"
   },
   {
    "duration": 44,
    "start_time": "2023-05-17T15:59:36.552Z"
   },
   {
    "duration": 3,
    "start_time": "2023-05-17T16:02:22.459Z"
   },
   {
    "duration": 36,
    "start_time": "2023-05-17T16:09:13.941Z"
   },
   {
    "duration": 5,
    "start_time": "2023-05-17T18:08:35.750Z"
   },
   {
    "duration": 247,
    "start_time": "2023-05-17T18:29:52.606Z"
   },
   {
    "duration": 4,
    "start_time": "2023-05-17T18:30:42.059Z"
   },
   {
    "duration": 11,
    "start_time": "2023-05-17T18:30:49.086Z"
   },
   {
    "duration": 4647005,
    "start_time": "2023-05-17T18:30:51.595Z"
   },
   {
    "duration": 8682,
    "start_time": "2023-05-17T19:48:39.406Z"
   },
   {
    "duration": 6313,
    "start_time": "2023-05-17T19:53:18.001Z"
   },
   {
    "duration": 69,
    "start_time": "2023-05-17T19:56:16.843Z"
   },
   {
    "duration": 10258,
    "start_time": "2023-05-17T19:58:13.921Z"
   },
   {
    "duration": 6278,
    "start_time": "2023-05-17T19:58:47.817Z"
   },
   {
    "duration": 5660,
    "start_time": "2023-05-17T19:59:33.536Z"
   },
   {
    "duration": 6707,
    "start_time": "2023-05-17T20:03:16.229Z"
   },
   {
    "duration": 8391,
    "start_time": "2023-05-17T20:11:01.597Z"
   },
   {
    "duration": 8963,
    "start_time": "2023-05-17T20:11:57.243Z"
   },
   {
    "duration": 101,
    "start_time": "2023-05-18T06:14:21.858Z"
   },
   {
    "duration": 1410,
    "start_time": "2023-05-18T06:35:23.103Z"
   },
   {
    "duration": 916,
    "start_time": "2023-05-18T06:35:24.515Z"
   },
   {
    "duration": 4,
    "start_time": "2023-05-18T06:35:25.433Z"
   },
   {
    "duration": 403,
    "start_time": "2023-05-18T06:35:25.438Z"
   },
   {
    "duration": 246,
    "start_time": "2023-05-18T06:35:25.843Z"
   },
   {
    "duration": 453,
    "start_time": "2023-05-18T06:35:26.091Z"
   },
   {
    "duration": 3,
    "start_time": "2023-05-18T06:35:26.545Z"
   },
   {
    "duration": 9,
    "start_time": "2023-05-18T06:35:26.550Z"
   },
   {
    "duration": 33,
    "start_time": "2023-05-18T06:35:26.560Z"
   },
   {
    "duration": 16,
    "start_time": "2023-05-18T06:35:26.594Z"
   },
   {
    "duration": 4,
    "start_time": "2023-05-18T06:35:26.611Z"
   },
   {
    "duration": 5,
    "start_time": "2023-05-18T06:35:26.616Z"
   },
   {
    "duration": 6,
    "start_time": "2023-05-18T06:35:26.623Z"
   },
   {
    "duration": 6,
    "start_time": "2023-05-18T06:35:26.632Z"
   },
   {
    "duration": 18,
    "start_time": "2023-05-18T06:35:26.639Z"
   },
   {
    "duration": 34,
    "start_time": "2023-05-18T06:35:26.659Z"
   },
   {
    "duration": 239,
    "start_time": "2023-05-18T06:35:26.698Z"
   },
   {
    "duration": 256,
    "start_time": "2023-05-18T06:35:26.938Z"
   },
   {
    "duration": 244,
    "start_time": "2023-05-18T06:35:27.202Z"
   },
   {
    "duration": 647,
    "start_time": "2023-05-18T06:35:27.447Z"
   },
   {
    "duration": 15,
    "start_time": "2023-05-18T06:35:28.095Z"
   },
   {
    "duration": 9,
    "start_time": "2023-05-18T06:35:28.112Z"
   },
   {
    "duration": 980,
    "start_time": "2023-05-18T06:35:28.122Z"
   },
   {
    "duration": 1203,
    "start_time": "2023-05-18T06:35:29.103Z"
   },
   {
    "duration": 21,
    "start_time": "2023-05-18T06:35:30.308Z"
   },
   {
    "duration": 21,
    "start_time": "2023-05-18T06:35:30.331Z"
   },
   {
    "duration": 45,
    "start_time": "2023-05-18T06:35:30.354Z"
   },
   {
    "duration": 43,
    "start_time": "2023-05-18T06:35:30.401Z"
   },
   {
    "duration": 65,
    "start_time": "2023-05-18T06:35:30.446Z"
   },
   {
    "duration": 48,
    "start_time": "2023-05-18T06:35:30.513Z"
   },
   {
    "duration": 84,
    "start_time": "2023-05-18T06:35:30.563Z"
   },
   {
    "duration": 74,
    "start_time": "2023-05-18T06:35:30.649Z"
   },
   {
    "duration": 17,
    "start_time": "2023-05-18T06:35:30.725Z"
   },
   {
    "duration": 58,
    "start_time": "2023-05-18T06:35:30.743Z"
   },
   {
    "duration": 53,
    "start_time": "2023-05-18T06:35:30.803Z"
   },
   {
    "duration": 40,
    "start_time": "2023-05-18T06:35:30.857Z"
   },
   {
    "duration": 647007,
    "start_time": "2023-05-18T06:35:30.899Z"
   },
   {
    "duration": 0,
    "start_time": "2023-05-18T06:46:17.908Z"
   },
   {
    "duration": 79,
    "start_time": "2023-05-18T06:46:29.757Z"
   },
   {
    "duration": 55,
    "start_time": "2023-05-18T06:47:25.904Z"
   },
   {
    "duration": 52,
    "start_time": "2023-05-18T06:47:55.497Z"
   },
   {
    "duration": 4,
    "start_time": "2023-05-18T06:50:12.903Z"
   },
   {
    "duration": 2677,
    "start_time": "2023-05-18T06:50:15.207Z"
   },
   {
    "duration": 3001,
    "start_time": "2023-05-18T06:51:11.989Z"
   },
   {
    "duration": 5089,
    "start_time": "2023-05-18T06:53:51.589Z"
   },
   {
    "duration": 54,
    "start_time": "2023-05-18T06:54:40.017Z"
   },
   {
    "duration": 5664,
    "start_time": "2023-05-18T06:54:55.113Z"
   },
   {
    "duration": 5836,
    "start_time": "2023-05-18T06:55:51.961Z"
   },
   {
    "duration": 6436,
    "start_time": "2023-05-18T06:56:25.865Z"
   },
   {
    "duration": 3854,
    "start_time": "2023-05-18T06:59:36.523Z"
   },
   {
    "duration": 4423,
    "start_time": "2023-05-18T07:01:17.364Z"
   },
   {
    "duration": 1391,
    "start_time": "2023-05-18T07:01:40.595Z"
   },
   {
    "duration": 848,
    "start_time": "2023-05-18T07:01:41.989Z"
   },
   {
    "duration": 4,
    "start_time": "2023-05-18T07:01:42.839Z"
   },
   {
    "duration": 372,
    "start_time": "2023-05-18T07:01:42.844Z"
   },
   {
    "duration": 227,
    "start_time": "2023-05-18T07:01:43.217Z"
   },
   {
    "duration": 393,
    "start_time": "2023-05-18T07:01:43.446Z"
   },
   {
    "duration": 5,
    "start_time": "2023-05-18T07:01:43.841Z"
   },
   {
    "duration": 29,
    "start_time": "2023-05-18T07:01:43.849Z"
   },
   {
    "duration": 13,
    "start_time": "2023-05-18T07:01:43.880Z"
   },
   {
    "duration": 16,
    "start_time": "2023-05-18T07:01:43.896Z"
   },
   {
    "duration": 3,
    "start_time": "2023-05-18T07:01:43.914Z"
   },
   {
    "duration": 8,
    "start_time": "2023-05-18T07:01:43.918Z"
   },
   {
    "duration": 7,
    "start_time": "2023-05-18T07:01:43.928Z"
   },
   {
    "duration": 11,
    "start_time": "2023-05-18T07:01:43.937Z"
   },
   {
    "duration": 35,
    "start_time": "2023-05-18T07:01:43.950Z"
   },
   {
    "duration": 9,
    "start_time": "2023-05-18T07:01:43.987Z"
   },
   {
    "duration": 308,
    "start_time": "2023-05-18T07:01:43.998Z"
   },
   {
    "duration": 244,
    "start_time": "2023-05-18T07:01:44.308Z"
   },
   {
    "duration": 245,
    "start_time": "2023-05-18T07:01:44.554Z"
   },
   {
    "duration": 558,
    "start_time": "2023-05-18T07:01:44.801Z"
   },
   {
    "duration": 34,
    "start_time": "2023-05-18T07:01:45.360Z"
   },
   {
    "duration": 10,
    "start_time": "2023-05-18T07:01:45.395Z"
   },
   {
    "duration": 812,
    "start_time": "2023-05-18T07:01:45.406Z"
   },
   {
    "duration": 1038,
    "start_time": "2023-05-18T07:01:46.219Z"
   },
   {
    "duration": 32,
    "start_time": "2023-05-18T07:01:47.259Z"
   },
   {
    "duration": 3,
    "start_time": "2023-05-18T07:01:47.293Z"
   },
   {
    "duration": 22,
    "start_time": "2023-05-18T07:01:47.297Z"
   },
   {
    "duration": 15,
    "start_time": "2023-05-18T07:01:47.322Z"
   },
   {
    "duration": 71,
    "start_time": "2023-05-18T07:01:47.339Z"
   },
   {
    "duration": 21,
    "start_time": "2023-05-18T07:01:47.412Z"
   },
   {
    "duration": 75,
    "start_time": "2023-05-18T07:01:47.434Z"
   },
   {
    "duration": 54,
    "start_time": "2023-05-18T07:01:47.511Z"
   },
   {
    "duration": 20,
    "start_time": "2023-05-18T07:01:47.566Z"
   },
   {
    "duration": 35,
    "start_time": "2023-05-18T07:01:47.587Z"
   },
   {
    "duration": 33,
    "start_time": "2023-05-18T07:01:47.623Z"
   },
   {
    "duration": 3,
    "start_time": "2023-05-18T07:01:47.658Z"
   },
   {
    "duration": 4020,
    "start_time": "2023-05-18T07:01:47.662Z"
   },
   {
    "duration": 3012,
    "start_time": "2023-05-18T07:02:32.170Z"
   },
   {
    "duration": 3,
    "start_time": "2023-05-18T07:04:01.520Z"
   },
   {
    "duration": 2742,
    "start_time": "2023-05-18T07:04:05.239Z"
   },
   {
    "duration": 123122,
    "start_time": "2023-05-18T07:10:22.722Z"
   },
   {
    "duration": 258088,
    "start_time": "2023-05-18T07:19:35.742Z"
   },
   {
    "duration": 1173546,
    "start_time": "2023-05-18T07:25:34.688Z"
   },
   {
    "duration": 182609,
    "start_time": "2023-05-18T07:52:28.128Z"
   },
   {
    "duration": 1248,
    "start_time": "2023-05-18T07:59:45.525Z"
   },
   {
    "duration": 784,
    "start_time": "2023-05-18T07:59:46.775Z"
   },
   {
    "duration": 4,
    "start_time": "2023-05-18T07:59:47.561Z"
   },
   {
    "duration": 410,
    "start_time": "2023-05-18T07:59:47.566Z"
   },
   {
    "duration": 216,
    "start_time": "2023-05-18T07:59:47.978Z"
   },
   {
    "duration": 395,
    "start_time": "2023-05-18T07:59:48.196Z"
   },
   {
    "duration": 3,
    "start_time": "2023-05-18T07:59:48.592Z"
   },
   {
    "duration": 6,
    "start_time": "2023-05-18T07:59:48.596Z"
   },
   {
    "duration": 5,
    "start_time": "2023-05-18T07:59:48.603Z"
   },
   {
    "duration": 10,
    "start_time": "2023-05-18T07:59:48.611Z"
   },
   {
    "duration": 2,
    "start_time": "2023-05-18T07:59:48.623Z"
   },
   {
    "duration": 6,
    "start_time": "2023-05-18T07:59:48.626Z"
   },
   {
    "duration": 6,
    "start_time": "2023-05-18T07:59:48.634Z"
   },
   {
    "duration": 6,
    "start_time": "2023-05-18T07:59:48.675Z"
   },
   {
    "duration": 39,
    "start_time": "2023-05-18T07:59:48.682Z"
   },
   {
    "duration": 7,
    "start_time": "2023-05-18T07:59:48.723Z"
   },
   {
    "duration": 215,
    "start_time": "2023-05-18T07:59:48.731Z"
   },
   {
    "duration": 223,
    "start_time": "2023-05-18T07:59:48.948Z"
   },
   {
    "duration": 223,
    "start_time": "2023-05-18T07:59:49.175Z"
   },
   {
    "duration": 529,
    "start_time": "2023-05-18T07:59:49.400Z"
   },
   {
    "duration": 12,
    "start_time": "2023-05-18T07:59:49.930Z"
   },
   {
    "duration": 8,
    "start_time": "2023-05-18T07:59:49.944Z"
   },
   {
    "duration": 784,
    "start_time": "2023-05-18T07:59:49.953Z"
   },
   {
    "duration": 994,
    "start_time": "2023-05-18T07:59:50.738Z"
   },
   {
    "duration": 21,
    "start_time": "2023-05-18T07:59:51.734Z"
   },
   {
    "duration": 9,
    "start_time": "2023-05-18T07:59:51.757Z"
   },
   {
    "duration": 7,
    "start_time": "2023-05-18T07:59:51.768Z"
   },
   {
    "duration": 10,
    "start_time": "2023-05-18T07:59:51.778Z"
   },
   {
    "duration": 10,
    "start_time": "2023-05-18T07:59:51.790Z"
   },
   {
    "duration": 14,
    "start_time": "2023-05-18T07:59:51.801Z"
   },
   {
    "duration": 48,
    "start_time": "2023-05-18T07:59:51.817Z"
   },
   {
    "duration": 37,
    "start_time": "2023-05-18T07:59:51.867Z"
   },
   {
    "duration": 11,
    "start_time": "2023-05-18T07:59:51.905Z"
   },
   {
    "duration": 29,
    "start_time": "2023-05-18T07:59:51.917Z"
   },
   {
    "duration": 40,
    "start_time": "2023-05-18T07:59:51.947Z"
   },
   {
    "duration": 13,
    "start_time": "2023-05-18T07:59:51.988Z"
   },
   {
    "duration": 181250,
    "start_time": "2023-05-18T07:59:52.002Z"
   },
   {
    "duration": 1283697,
    "start_time": "2023-05-18T08:02:53.253Z"
   },
   {
    "duration": 2727,
    "start_time": "2023-05-18T08:24:16.952Z"
   },
   {
    "duration": 4,
    "start_time": "2023-05-18T08:28:53.266Z"
   },
   {
    "duration": 3476,
    "start_time": "2023-05-18T08:28:57.601Z"
   },
   {
    "duration": 3,
    "start_time": "2023-05-18T08:29:09.104Z"
   },
   {
    "duration": 3511,
    "start_time": "2023-05-18T08:29:12.666Z"
   },
   {
    "duration": 47,
    "start_time": "2023-05-18T08:32:06.082Z"
   },
   {
    "duration": 3,
    "start_time": "2023-05-18T08:32:21.150Z"
   },
   {
    "duration": 1744,
    "start_time": "2023-05-18T08:32:30.088Z"
   },
   {
    "duration": 3228,
    "start_time": "2023-05-18T08:32:31.834Z"
   },
   {
    "duration": 6,
    "start_time": "2023-05-18T08:32:35.064Z"
   },
   {
    "duration": 379,
    "start_time": "2023-05-18T08:32:36.366Z"
   },
   {
    "duration": 199,
    "start_time": "2023-05-18T08:32:38.018Z"
   },
   {
    "duration": 393,
    "start_time": "2023-05-18T08:32:40.801Z"
   },
   {
    "duration": 3,
    "start_time": "2023-05-18T08:32:47.281Z"
   },
   {
    "duration": 5,
    "start_time": "2023-05-18T08:32:47.778Z"
   },
   {
    "duration": 5,
    "start_time": "2023-05-18T08:32:48.109Z"
   },
   {
    "duration": 12,
    "start_time": "2023-05-18T08:32:49.186Z"
   },
   {
    "duration": 4,
    "start_time": "2023-05-18T08:32:49.430Z"
   },
   {
    "duration": 4,
    "start_time": "2023-05-18T08:32:49.620Z"
   },
   {
    "duration": 4,
    "start_time": "2023-05-18T08:32:49.821Z"
   },
   {
    "duration": 6,
    "start_time": "2023-05-18T08:32:50.899Z"
   },
   {
    "duration": 19,
    "start_time": "2023-05-18T08:32:51.158Z"
   },
   {
    "duration": 7,
    "start_time": "2023-05-18T08:32:51.449Z"
   },
   {
    "duration": 215,
    "start_time": "2023-05-18T08:32:52.866Z"
   },
   {
    "duration": 219,
    "start_time": "2023-05-18T08:32:53.666Z"
   },
   {
    "duration": 224,
    "start_time": "2023-05-18T08:32:55.378Z"
   },
   {
    "duration": 529,
    "start_time": "2023-05-18T08:32:58.450Z"
   },
   {
    "duration": 13,
    "start_time": "2023-05-18T08:32:58.989Z"
   },
   {
    "duration": 11,
    "start_time": "2023-05-18T08:33:00.874Z"
   },
   {
    "duration": 817,
    "start_time": "2023-05-18T08:33:01.588Z"
   },
   {
    "duration": 1061,
    "start_time": "2023-05-18T08:33:03.481Z"
   },
   {
    "duration": 21,
    "start_time": "2023-05-18T08:33:04.544Z"
   },
   {
    "duration": 3,
    "start_time": "2023-05-18T08:33:09.098Z"
   },
   {
    "duration": 72,
    "start_time": "2023-05-18T08:33:09.812Z"
   },
   {
    "duration": 11,
    "start_time": "2023-05-18T08:33:40.204Z"
   },
   {
    "duration": 6,
    "start_time": "2023-05-18T08:33:40.715Z"
   },
   {
    "duration": 5,
    "start_time": "2023-05-18T08:33:41.558Z"
   },
   {
    "duration": 29,
    "start_time": "2023-05-18T08:33:43.211Z"
   },
   {
    "duration": 37,
    "start_time": "2023-05-18T08:33:47.405Z"
   },
   {
    "duration": 7,
    "start_time": "2023-05-18T08:33:51.278Z"
   },
   {
    "duration": 8,
    "start_time": "2023-05-18T08:33:51.877Z"
   },
   {
    "duration": 7,
    "start_time": "2023-05-18T08:33:53.438Z"
   },
   {
    "duration": 3,
    "start_time": "2023-05-18T08:34:30.574Z"
   },
   {
    "duration": 3057,
    "start_time": "2023-05-18T08:34:35.122Z"
   },
   {
    "duration": 3,
    "start_time": "2023-05-18T08:37:13.890Z"
   },
   {
    "duration": 5068,
    "start_time": "2023-05-18T08:37:18.412Z"
   },
   {
    "duration": 2789,
    "start_time": "2023-05-18T08:42:35.390Z"
   },
   {
    "duration": 3,
    "start_time": "2023-05-18T08:49:53.517Z"
   },
   {
    "duration": 2,
    "start_time": "2023-05-18T08:49:58.362Z"
   },
   {
    "duration": 17,
    "start_time": "2023-05-18T08:50:02.805Z"
   },
   {
    "duration": 3,
    "start_time": "2023-05-18T08:50:11.993Z"
   },
   {
    "duration": 714,
    "start_time": "2023-05-18T08:50:12.398Z"
   },
   {
    "duration": 3,
    "start_time": "2023-05-18T08:50:13.114Z"
   },
   {
    "duration": 356,
    "start_time": "2023-05-18T08:50:13.119Z"
   },
   {
    "duration": 212,
    "start_time": "2023-05-18T08:50:13.477Z"
   },
   {
    "duration": 438,
    "start_time": "2023-05-18T08:50:13.691Z"
   },
   {
    "duration": 3,
    "start_time": "2023-05-18T08:50:14.361Z"
   },
   {
    "duration": 6,
    "start_time": "2023-05-18T08:50:14.561Z"
   },
   {
    "duration": 5,
    "start_time": "2023-05-18T08:50:14.769Z"
   },
   {
    "duration": 11,
    "start_time": "2023-05-18T08:50:15.430Z"
   },
   {
    "duration": 2,
    "start_time": "2023-05-18T08:50:15.646Z"
   },
   {
    "duration": 3,
    "start_time": "2023-05-18T08:50:15.838Z"
   },
   {
    "duration": 5,
    "start_time": "2023-05-18T08:50:16.057Z"
   },
   {
    "duration": 6,
    "start_time": "2023-05-18T08:50:16.617Z"
   },
   {
    "duration": 11,
    "start_time": "2023-05-18T08:50:16.806Z"
   },
   {
    "duration": 8,
    "start_time": "2023-05-18T08:50:17.001Z"
   },
   {
    "duration": 289,
    "start_time": "2023-05-18T08:50:18.025Z"
   },
   {
    "duration": 209,
    "start_time": "2023-05-18T08:50:18.650Z"
   },
   {
    "duration": 237,
    "start_time": "2023-05-18T08:50:19.286Z"
   },
   {
    "duration": 415,
    "start_time": "2023-05-18T08:50:20.470Z"
   },
   {
    "duration": 12,
    "start_time": "2023-05-18T08:50:20.887Z"
   },
   {
    "duration": 11,
    "start_time": "2023-05-18T08:50:21.542Z"
   },
   {
    "duration": 910,
    "start_time": "2023-05-18T08:50:22.093Z"
   },
   {
    "duration": 1019,
    "start_time": "2023-05-18T08:50:24.149Z"
   },
   {
    "duration": 25,
    "start_time": "2023-05-18T08:50:25.170Z"
   },
   {
    "duration": 4,
    "start_time": "2023-05-18T08:50:26.725Z"
   },
   {
    "duration": 4,
    "start_time": "2023-05-18T08:50:28.145Z"
   },
   {
    "duration": 8,
    "start_time": "2023-05-18T08:50:29.227Z"
   },
   {
    "duration": 5,
    "start_time": "2023-05-18T08:50:29.822Z"
   },
   {
    "duration": 5,
    "start_time": "2023-05-18T08:50:30.286Z"
   },
   {
    "duration": 27,
    "start_time": "2023-05-18T08:50:30.742Z"
   },
   {
    "duration": 39,
    "start_time": "2023-05-18T08:50:32.262Z"
   },
   {
    "duration": 7,
    "start_time": "2023-05-18T08:50:35.921Z"
   },
   {
    "duration": 7,
    "start_time": "2023-05-18T08:50:37.013Z"
   },
   {
    "duration": 9,
    "start_time": "2023-05-18T08:50:39.261Z"
   },
   {
    "duration": 3,
    "start_time": "2023-05-18T08:50:43.701Z"
   },
   {
    "duration": 2606,
    "start_time": "2023-05-18T08:50:49.378Z"
   },
   {
    "duration": 45,
    "start_time": "2023-05-18T08:52:39.753Z"
   },
   {
    "duration": 37,
    "start_time": "2023-05-18T08:52:55.501Z"
   },
   {
    "duration": 5,
    "start_time": "2023-05-18T08:53:15.234Z"
   },
   {
    "duration": 5,
    "start_time": "2023-05-18T08:53:27.561Z"
   },
   {
    "duration": 3802,
    "start_time": "2023-05-18T09:12:28.474Z"
   },
   {
    "duration": 3996,
    "start_time": "2023-05-18T09:14:21.588Z"
   },
   {
    "duration": 806,
    "start_time": "2023-05-18T09:30:48.672Z"
   },
   {
    "duration": 6,
    "start_time": "2023-05-18T09:31:11.183Z"
   },
   {
    "duration": 3,
    "start_time": "2023-05-18T09:42:51.929Z"
   },
   {
    "duration": 848,
    "start_time": "2023-05-18T09:42:52.514Z"
   },
   {
    "duration": 1703,
    "start_time": "2023-05-18T09:43:05.249Z"
   },
   {
    "duration": 853,
    "start_time": "2023-05-18T09:43:06.954Z"
   },
   {
    "duration": 4,
    "start_time": "2023-05-18T09:43:07.808Z"
   },
   {
    "duration": 411,
    "start_time": "2023-05-18T09:43:07.813Z"
   },
   {
    "duration": 267,
    "start_time": "2023-05-18T09:43:08.227Z"
   },
   {
    "duration": 405,
    "start_time": "2023-05-18T09:43:08.495Z"
   },
   {
    "duration": 2,
    "start_time": "2023-05-18T09:43:08.902Z"
   },
   {
    "duration": 8,
    "start_time": "2023-05-18T09:43:08.905Z"
   },
   {
    "duration": 6,
    "start_time": "2023-05-18T09:43:08.914Z"
   },
   {
    "duration": 14,
    "start_time": "2023-05-18T09:43:08.922Z"
   },
   {
    "duration": 3,
    "start_time": "2023-05-18T09:43:08.938Z"
   },
   {
    "duration": 10,
    "start_time": "2023-05-18T09:43:08.942Z"
   },
   {
    "duration": 15,
    "start_time": "2023-05-18T09:43:08.976Z"
   },
   {
    "duration": 6,
    "start_time": "2023-05-18T09:43:08.994Z"
   },
   {
    "duration": 35,
    "start_time": "2023-05-18T09:43:09.001Z"
   },
   {
    "duration": 24,
    "start_time": "2023-05-18T09:43:09.039Z"
   },
   {
    "duration": 246,
    "start_time": "2023-05-18T09:43:09.064Z"
   },
   {
    "duration": 256,
    "start_time": "2023-05-18T09:43:09.312Z"
   },
   {
    "duration": 257,
    "start_time": "2023-05-18T09:43:09.569Z"
   },
   {
    "duration": 563,
    "start_time": "2023-05-18T09:43:09.827Z"
   },
   {
    "duration": 14,
    "start_time": "2023-05-18T09:43:10.391Z"
   },
   {
    "duration": 8,
    "start_time": "2023-05-18T09:43:10.407Z"
   },
   {
    "duration": 856,
    "start_time": "2023-05-18T09:43:10.417Z"
   },
   {
    "duration": 1070,
    "start_time": "2023-05-18T09:43:11.277Z"
   },
   {
    "duration": 41,
    "start_time": "2023-05-18T09:43:12.349Z"
   },
   {
    "duration": 4,
    "start_time": "2023-05-18T09:43:12.391Z"
   },
   {
    "duration": 18,
    "start_time": "2023-05-18T09:43:12.397Z"
   },
   {
    "duration": 19,
    "start_time": "2023-05-18T09:43:12.417Z"
   },
   {
    "duration": 6,
    "start_time": "2023-05-18T09:43:12.438Z"
   },
   {
    "duration": 6,
    "start_time": "2023-05-18T09:43:12.446Z"
   },
   {
    "duration": 35,
    "start_time": "2023-05-18T09:43:12.454Z"
   },
   {
    "duration": 37,
    "start_time": "2023-05-18T09:43:12.491Z"
   },
   {
    "duration": 8,
    "start_time": "2023-05-18T09:43:12.530Z"
   },
   {
    "duration": 9,
    "start_time": "2023-05-18T09:43:12.539Z"
   },
   {
    "duration": 31,
    "start_time": "2023-05-18T09:43:12.550Z"
   },
   {
    "duration": 8,
    "start_time": "2023-05-18T09:43:12.582Z"
   },
   {
    "duration": 3,
    "start_time": "2023-05-18T09:43:12.591Z"
   },
   {
    "duration": 20169,
    "start_time": "2023-05-18T09:43:12.595Z"
   },
   {
    "duration": 4557,
    "start_time": "2023-05-18T09:43:32.766Z"
   },
   {
    "duration": 4360,
    "start_time": "2023-05-18T09:43:37.324Z"
   },
   {
    "duration": 3942,
    "start_time": "2023-05-18T09:43:47.337Z"
   },
   {
    "duration": 1496,
    "start_time": "2023-05-18T09:54:26.374Z"
   },
   {
    "duration": 845,
    "start_time": "2023-05-18T09:54:27.873Z"
   },
   {
    "duration": 4,
    "start_time": "2023-05-18T09:54:28.719Z"
   },
   {
    "duration": 471,
    "start_time": "2023-05-18T09:54:28.726Z"
   },
   {
    "duration": 246,
    "start_time": "2023-05-18T09:54:29.198Z"
   },
   {
    "duration": 473,
    "start_time": "2023-05-18T09:54:29.446Z"
   },
   {
    "duration": 2,
    "start_time": "2023-05-18T09:54:29.921Z"
   },
   {
    "duration": 10,
    "start_time": "2023-05-18T09:54:29.925Z"
   },
   {
    "duration": 8,
    "start_time": "2023-05-18T09:54:29.936Z"
   },
   {
    "duration": 40,
    "start_time": "2023-05-18T09:54:29.947Z"
   },
   {
    "duration": 4,
    "start_time": "2023-05-18T09:54:29.991Z"
   },
   {
    "duration": 3,
    "start_time": "2023-05-18T09:54:29.997Z"
   },
   {
    "duration": 14,
    "start_time": "2023-05-18T09:54:30.002Z"
   },
   {
    "duration": 17,
    "start_time": "2023-05-18T09:54:30.018Z"
   },
   {
    "duration": 27,
    "start_time": "2023-05-18T09:54:30.037Z"
   },
   {
    "duration": 44,
    "start_time": "2023-05-18T09:54:30.066Z"
   },
   {
    "duration": 284,
    "start_time": "2023-05-18T09:54:30.112Z"
   },
   {
    "duration": 262,
    "start_time": "2023-05-18T09:54:30.399Z"
   },
   {
    "duration": 266,
    "start_time": "2023-05-18T09:54:30.663Z"
   },
   {
    "duration": 588,
    "start_time": "2023-05-18T09:54:30.930Z"
   },
   {
    "duration": 17,
    "start_time": "2023-05-18T09:54:31.521Z"
   },
   {
    "duration": 25,
    "start_time": "2023-05-18T09:54:31.540Z"
   },
   {
    "duration": 934,
    "start_time": "2023-05-18T09:54:31.568Z"
   },
   {
    "duration": 1093,
    "start_time": "2023-05-18T09:54:32.504Z"
   },
   {
    "duration": 28,
    "start_time": "2023-05-18T09:54:33.599Z"
   },
   {
    "duration": 5,
    "start_time": "2023-05-18T09:54:33.629Z"
   },
   {
    "duration": 10,
    "start_time": "2023-05-18T09:54:33.636Z"
   },
   {
    "duration": 32,
    "start_time": "2023-05-18T09:54:33.651Z"
   },
   {
    "duration": 53,
    "start_time": "2023-05-18T09:54:33.690Z"
   },
   {
    "duration": 0,
    "start_time": "2023-05-18T09:54:33.744Z"
   },
   {
    "duration": 0,
    "start_time": "2023-05-18T09:54:33.745Z"
   },
   {
    "duration": 0,
    "start_time": "2023-05-18T09:54:33.746Z"
   },
   {
    "duration": 0,
    "start_time": "2023-05-18T09:54:33.749Z"
   },
   {
    "duration": 0,
    "start_time": "2023-05-18T09:54:33.750Z"
   },
   {
    "duration": 0,
    "start_time": "2023-05-18T09:54:33.752Z"
   },
   {
    "duration": 1,
    "start_time": "2023-05-18T09:54:33.753Z"
   },
   {
    "duration": 0,
    "start_time": "2023-05-18T09:54:33.755Z"
   },
   {
    "duration": 0,
    "start_time": "2023-05-18T09:54:33.756Z"
   },
   {
    "duration": 0,
    "start_time": "2023-05-18T09:54:33.757Z"
   },
   {
    "duration": 0,
    "start_time": "2023-05-18T09:54:33.759Z"
   },
   {
    "duration": 0,
    "start_time": "2023-05-18T09:54:33.760Z"
   },
   {
    "duration": 6,
    "start_time": "2023-05-18T09:56:18.198Z"
   },
   {
    "duration": 6,
    "start_time": "2023-05-18T09:56:22.655Z"
   },
   {
    "duration": 1185,
    "start_time": "2023-05-18T09:57:56.975Z"
   },
   {
    "duration": 1776,
    "start_time": "2023-05-18T10:00:04.180Z"
   },
   {
    "duration": 1012,
    "start_time": "2023-05-18T10:00:05.959Z"
   },
   {
    "duration": 12,
    "start_time": "2023-05-18T10:00:06.973Z"
   },
   {
    "duration": 505,
    "start_time": "2023-05-18T10:00:06.993Z"
   },
   {
    "duration": 322,
    "start_time": "2023-05-18T10:00:07.500Z"
   },
   {
    "duration": 483,
    "start_time": "2023-05-18T10:00:07.828Z"
   },
   {
    "duration": 5,
    "start_time": "2023-05-18T10:00:08.313Z"
   },
   {
    "duration": 34,
    "start_time": "2023-05-18T10:00:08.319Z"
   },
   {
    "duration": 7,
    "start_time": "2023-05-18T10:00:08.367Z"
   },
   {
    "duration": 6,
    "start_time": "2023-05-18T10:00:08.376Z"
   },
   {
    "duration": 9,
    "start_time": "2023-05-18T10:00:08.384Z"
   },
   {
    "duration": 28,
    "start_time": "2023-05-18T10:00:08.395Z"
   },
   {
    "duration": 13,
    "start_time": "2023-05-18T10:00:08.426Z"
   },
   {
    "duration": 28,
    "start_time": "2023-05-18T10:00:08.451Z"
   },
   {
    "duration": 24,
    "start_time": "2023-05-18T10:00:08.485Z"
   },
   {
    "duration": 284,
    "start_time": "2023-05-18T10:00:08.511Z"
   },
   {
    "duration": 264,
    "start_time": "2023-05-18T10:00:08.801Z"
   },
   {
    "duration": 297,
    "start_time": "2023-05-18T10:00:09.067Z"
   },
   {
    "duration": 764,
    "start_time": "2023-05-18T10:00:09.367Z"
   },
   {
    "duration": 16,
    "start_time": "2023-05-18T10:00:10.133Z"
   },
   {
    "duration": 31,
    "start_time": "2023-05-18T10:00:10.152Z"
   },
   {
    "duration": 1153,
    "start_time": "2023-05-18T10:00:10.185Z"
   },
   {
    "duration": 1347,
    "start_time": "2023-05-18T10:00:11.341Z"
   },
   {
    "duration": 26,
    "start_time": "2023-05-18T10:00:12.690Z"
   },
   {
    "duration": 5,
    "start_time": "2023-05-18T10:00:12.718Z"
   },
   {
    "duration": 16,
    "start_time": "2023-05-18T10:00:12.724Z"
   },
   {
    "duration": 19,
    "start_time": "2023-05-18T10:00:12.742Z"
   },
   {
    "duration": 51,
    "start_time": "2023-05-18T10:00:12.763Z"
   },
   {
    "duration": 13,
    "start_time": "2023-05-18T10:00:12.817Z"
   },
   {
    "duration": 9,
    "start_time": "2023-05-18T10:00:12.833Z"
   },
   {
    "duration": 46,
    "start_time": "2023-05-18T10:00:12.844Z"
   },
   {
    "duration": 34,
    "start_time": "2023-05-18T10:00:12.897Z"
   },
   {
    "duration": 62,
    "start_time": "2023-05-18T10:00:12.933Z"
   },
   {
    "duration": 13,
    "start_time": "2023-05-18T10:00:12.998Z"
   },
   {
    "duration": 16,
    "start_time": "2023-05-18T10:00:13.013Z"
   },
   {
    "duration": 15,
    "start_time": "2023-05-18T10:00:13.030Z"
   },
   {
    "duration": 6,
    "start_time": "2023-05-18T10:00:13.046Z"
   },
   {
    "duration": 4,
    "start_time": "2023-05-18T10:00:13.054Z"
   },
   {
    "duration": 222649,
    "start_time": "2023-05-18T10:00:13.080Z"
   },
   {
    "duration": 169175,
    "start_time": "2023-05-18T10:03:55.731Z"
   },
   {
    "duration": 8810,
    "start_time": "2023-05-18T10:06:44.910Z"
   },
   {
    "duration": 1867,
    "start_time": "2023-05-18T10:20:17.370Z"
   },
   {
    "duration": 3320,
    "start_time": "2023-05-18T10:20:19.240Z"
   },
   {
    "duration": 5,
    "start_time": "2023-05-18T10:20:22.563Z"
   },
   {
    "duration": 610,
    "start_time": "2023-05-18T10:20:22.570Z"
   },
   {
    "duration": 394,
    "start_time": "2023-05-18T10:20:23.185Z"
   },
   {
    "duration": 666,
    "start_time": "2023-05-18T10:20:23.593Z"
   },
   {
    "duration": 6,
    "start_time": "2023-05-18T10:20:24.262Z"
   },
   {
    "duration": 22,
    "start_time": "2023-05-18T10:20:24.271Z"
   },
   {
    "duration": 22,
    "start_time": "2023-05-18T10:20:24.295Z"
   },
   {
    "duration": 5,
    "start_time": "2023-05-18T10:20:24.320Z"
   },
   {
    "duration": 36,
    "start_time": "2023-05-18T10:20:24.327Z"
   },
   {
    "duration": 21,
    "start_time": "2023-05-18T10:20:24.366Z"
   },
   {
    "duration": 35,
    "start_time": "2023-05-18T10:20:24.390Z"
   },
   {
    "duration": 17,
    "start_time": "2023-05-18T10:20:24.442Z"
   },
   {
    "duration": 11,
    "start_time": "2023-05-18T10:20:24.463Z"
   },
   {
    "duration": 319,
    "start_time": "2023-05-18T10:20:24.475Z"
   },
   {
    "duration": 304,
    "start_time": "2023-05-18T10:20:24.797Z"
   },
   {
    "duration": 359,
    "start_time": "2023-05-18T10:20:25.104Z"
   },
   {
    "duration": 818,
    "start_time": "2023-05-18T10:20:25.465Z"
   },
   {
    "duration": 27,
    "start_time": "2023-05-18T10:20:26.292Z"
   },
   {
    "duration": 17,
    "start_time": "2023-05-18T10:20:26.321Z"
   },
   {
    "duration": 1369,
    "start_time": "2023-05-18T10:20:26.345Z"
   },
   {
    "duration": 1800,
    "start_time": "2023-05-18T10:20:27.716Z"
   },
   {
    "duration": 52,
    "start_time": "2023-05-18T10:20:29.518Z"
   },
   {
    "duration": 5,
    "start_time": "2023-05-18T10:20:29.580Z"
   },
   {
    "duration": 17,
    "start_time": "2023-05-18T10:20:29.589Z"
   },
   {
    "duration": 37,
    "start_time": "2023-05-18T10:20:29.619Z"
   },
   {
    "duration": 13,
    "start_time": "2023-05-18T10:20:29.659Z"
   },
   {
    "duration": 40,
    "start_time": "2023-05-18T10:20:29.684Z"
   },
   {
    "duration": 25,
    "start_time": "2023-05-18T10:20:29.731Z"
   },
   {
    "duration": 51,
    "start_time": "2023-05-18T10:20:29.762Z"
   },
   {
    "duration": 84,
    "start_time": "2023-05-18T10:20:29.829Z"
   },
   {
    "duration": 16,
    "start_time": "2023-05-18T10:20:29.919Z"
   },
   {
    "duration": 209,
    "start_time": "2023-05-18T10:20:29.942Z"
   },
   {
    "duration": 0,
    "start_time": "2023-05-18T10:20:30.159Z"
   },
   {
    "duration": 0,
    "start_time": "2023-05-18T10:20:30.165Z"
   },
   {
    "duration": 0,
    "start_time": "2023-05-18T10:20:30.171Z"
   },
   {
    "duration": 1,
    "start_time": "2023-05-18T10:20:30.176Z"
   },
   {
    "duration": 0,
    "start_time": "2023-05-18T10:20:30.182Z"
   },
   {
    "duration": 0,
    "start_time": "2023-05-18T10:20:30.185Z"
   },
   {
    "duration": 12,
    "start_time": "2023-05-18T10:21:06.926Z"
   },
   {
    "duration": 25,
    "start_time": "2023-05-18T10:21:08.498Z"
   },
   {
    "duration": 20,
    "start_time": "2023-05-18T10:22:22.530Z"
   },
   {
    "duration": 14,
    "start_time": "2023-05-18T10:22:23.614Z"
   },
   {
    "duration": 32,
    "start_time": "2023-05-18T10:22:24.789Z"
   },
   {
    "duration": 10,
    "start_time": "2023-05-18T10:22:39.396Z"
   },
   {
    "duration": 4054,
    "start_time": "2023-05-18T10:22:45.898Z"
   },
   {
    "duration": 1517,
    "start_time": "2023-05-18T10:43:33.854Z"
   },
   {
    "duration": 881,
    "start_time": "2023-05-18T10:43:35.374Z"
   },
   {
    "duration": 4,
    "start_time": "2023-05-18T10:43:36.256Z"
   },
   {
    "duration": 433,
    "start_time": "2023-05-18T10:43:36.261Z"
   },
   {
    "duration": 233,
    "start_time": "2023-05-18T10:43:36.696Z"
   },
   {
    "duration": 451,
    "start_time": "2023-05-18T10:43:36.930Z"
   },
   {
    "duration": 9,
    "start_time": "2023-05-18T10:43:37.384Z"
   },
   {
    "duration": 8,
    "start_time": "2023-05-18T10:43:37.395Z"
   },
   {
    "duration": 6,
    "start_time": "2023-05-18T10:43:37.405Z"
   },
   {
    "duration": 8,
    "start_time": "2023-05-18T10:43:37.413Z"
   },
   {
    "duration": 6,
    "start_time": "2023-05-18T10:43:37.423Z"
   },
   {
    "duration": 7,
    "start_time": "2023-05-18T10:43:37.431Z"
   },
   {
    "duration": 13,
    "start_time": "2023-05-18T10:43:37.439Z"
   },
   {
    "duration": 10,
    "start_time": "2023-05-18T10:43:37.475Z"
   },
   {
    "duration": 12,
    "start_time": "2023-05-18T10:43:37.487Z"
   },
   {
    "duration": 291,
    "start_time": "2023-05-18T10:43:37.502Z"
   },
   {
    "duration": 247,
    "start_time": "2023-05-18T10:43:37.795Z"
   },
   {
    "duration": 266,
    "start_time": "2023-05-18T10:43:38.044Z"
   },
   {
    "duration": 591,
    "start_time": "2023-05-18T10:43:38.312Z"
   },
   {
    "duration": 15,
    "start_time": "2023-05-18T10:43:38.905Z"
   },
   {
    "duration": 11,
    "start_time": "2023-05-18T10:43:38.923Z"
   },
   {
    "duration": 955,
    "start_time": "2023-05-18T10:43:38.936Z"
   },
   {
    "duration": 1197,
    "start_time": "2023-05-18T10:43:39.892Z"
   },
   {
    "duration": 39,
    "start_time": "2023-05-18T10:43:41.093Z"
   },
   {
    "duration": 4,
    "start_time": "2023-05-18T10:43:41.134Z"
   },
   {
    "duration": 7,
    "start_time": "2023-05-18T10:43:41.140Z"
   },
   {
    "duration": 33,
    "start_time": "2023-05-18T10:43:41.149Z"
   },
   {
    "duration": 10,
    "start_time": "2023-05-18T10:43:41.184Z"
   },
   {
    "duration": 19,
    "start_time": "2023-05-18T10:43:41.196Z"
   },
   {
    "duration": 8,
    "start_time": "2023-05-18T10:43:41.218Z"
   },
   {
    "duration": 35,
    "start_time": "2023-05-18T10:43:41.228Z"
   },
   {
    "duration": 59,
    "start_time": "2023-05-18T10:43:41.265Z"
   },
   {
    "duration": 9,
    "start_time": "2023-05-18T10:43:41.326Z"
   },
   {
    "duration": 11,
    "start_time": "2023-05-18T10:43:41.337Z"
   },
   {
    "duration": 24,
    "start_time": "2023-05-18T10:43:41.357Z"
   },
   {
    "duration": 5,
    "start_time": "2023-05-18T10:43:41.383Z"
   },
   {
    "duration": 143076,
    "start_time": "2023-05-18T10:43:41.390Z"
   },
   {
    "duration": 105914,
    "start_time": "2023-05-18T10:46:04.468Z"
   },
   {
    "duration": 2713,
    "start_time": "2023-05-18T10:47:50.389Z"
   },
   {
    "duration": 476,
    "start_time": "2023-05-18T10:47:53.104Z"
   },
   {
    "duration": 0,
    "start_time": "2023-05-18T10:47:53.582Z"
   },
   {
    "duration": 214,
    "start_time": "2023-05-18T10:52:08.267Z"
   },
   {
    "duration": 178,
    "start_time": "2023-05-18T10:52:22.000Z"
   },
   {
    "duration": 1587,
    "start_time": "2023-05-18T10:54:23.868Z"
   },
   {
    "duration": 903,
    "start_time": "2023-05-18T10:54:25.458Z"
   },
   {
    "duration": 4,
    "start_time": "2023-05-18T10:54:26.363Z"
   },
   {
    "duration": 443,
    "start_time": "2023-05-18T10:54:26.369Z"
   },
   {
    "duration": 294,
    "start_time": "2023-05-18T10:54:26.816Z"
   },
   {
    "duration": 440,
    "start_time": "2023-05-18T10:54:27.112Z"
   },
   {
    "duration": 2,
    "start_time": "2023-05-18T10:54:27.554Z"
   },
   {
    "duration": 14,
    "start_time": "2023-05-18T10:54:27.575Z"
   },
   {
    "duration": 7,
    "start_time": "2023-05-18T10:54:27.592Z"
   },
   {
    "duration": 11,
    "start_time": "2023-05-18T10:54:27.601Z"
   },
   {
    "duration": 4,
    "start_time": "2023-05-18T10:54:27.614Z"
   },
   {
    "duration": 11,
    "start_time": "2023-05-18T10:54:27.620Z"
   },
   {
    "duration": 7,
    "start_time": "2023-05-18T10:54:27.634Z"
   },
   {
    "duration": 46,
    "start_time": "2023-05-18T10:54:27.645Z"
   },
   {
    "duration": 10,
    "start_time": "2023-05-18T10:54:27.693Z"
   },
   {
    "duration": 281,
    "start_time": "2023-05-18T10:54:27.704Z"
   },
   {
    "duration": 251,
    "start_time": "2023-05-18T10:54:27.992Z"
   },
   {
    "duration": 275,
    "start_time": "2023-05-18T10:54:28.244Z"
   },
   {
    "duration": 596,
    "start_time": "2023-05-18T10:54:28.521Z"
   },
   {
    "duration": 18,
    "start_time": "2023-05-18T10:54:29.119Z"
   },
   {
    "duration": 10,
    "start_time": "2023-05-18T10:54:29.139Z"
   },
   {
    "duration": 948,
    "start_time": "2023-05-18T10:54:29.150Z"
   },
   {
    "duration": 1132,
    "start_time": "2023-05-18T10:54:30.100Z"
   },
   {
    "duration": 24,
    "start_time": "2023-05-18T10:54:31.234Z"
   },
   {
    "duration": 34,
    "start_time": "2023-05-18T10:54:31.260Z"
   },
   {
    "duration": 34,
    "start_time": "2023-05-18T10:54:31.296Z"
   },
   {
    "duration": 54,
    "start_time": "2023-05-18T10:54:31.333Z"
   },
   {
    "duration": 35,
    "start_time": "2023-05-18T10:54:31.390Z"
   },
   {
    "duration": 66,
    "start_time": "2023-05-18T10:54:31.427Z"
   },
   {
    "duration": 28,
    "start_time": "2023-05-18T10:54:31.496Z"
   },
   {
    "duration": 75,
    "start_time": "2023-05-18T10:54:31.526Z"
   },
   {
    "duration": 80,
    "start_time": "2023-05-18T10:54:31.604Z"
   },
   {
    "duration": 11,
    "start_time": "2023-05-18T10:54:31.690Z"
   },
   {
    "duration": 40,
    "start_time": "2023-05-18T10:54:31.703Z"
   },
   {
    "duration": 37,
    "start_time": "2023-05-18T10:54:31.745Z"
   },
   {
    "duration": 142,
    "start_time": "2023-05-18T10:54:31.784Z"
   },
   {
    "duration": 0,
    "start_time": "2023-05-18T10:54:31.928Z"
   },
   {
    "duration": 0,
    "start_time": "2023-05-18T10:54:31.930Z"
   },
   {
    "duration": 0,
    "start_time": "2023-05-18T10:54:31.931Z"
   },
   {
    "duration": 0,
    "start_time": "2023-05-18T10:54:31.932Z"
   },
   {
    "duration": 0,
    "start_time": "2023-05-18T10:54:31.934Z"
   },
   {
    "duration": 0,
    "start_time": "2023-05-18T10:54:31.936Z"
   },
   {
    "duration": 4,
    "start_time": "2023-05-18T10:54:48.551Z"
   },
   {
    "duration": 3708,
    "start_time": "2023-05-18T10:54:51.497Z"
   },
   {
    "duration": 154,
    "start_time": "2023-05-18T10:55:12.424Z"
   },
   {
    "duration": 18,
    "start_time": "2023-05-18T10:55:21.704Z"
   },
   {
    "duration": 31,
    "start_time": "2023-05-18T11:00:38.067Z"
   },
   {
    "duration": 11,
    "start_time": "2023-05-18T11:00:49.347Z"
   },
   {
    "duration": 208,
    "start_time": "2023-05-18T11:01:22.374Z"
   },
   {
    "duration": 11,
    "start_time": "2023-05-18T11:02:11.963Z"
   },
   {
    "duration": 13,
    "start_time": "2023-05-18T11:04:24.255Z"
   },
   {
    "duration": 11,
    "start_time": "2023-05-18T11:05:29.501Z"
   },
   {
    "duration": 1390,
    "start_time": "2023-05-18T11:10:04.161Z"
   },
   {
    "duration": 805,
    "start_time": "2023-05-18T11:10:05.553Z"
   },
   {
    "duration": 4,
    "start_time": "2023-05-18T11:10:06.359Z"
   },
   {
    "duration": 375,
    "start_time": "2023-05-18T11:10:06.364Z"
   },
   {
    "duration": 228,
    "start_time": "2023-05-18T11:10:06.741Z"
   },
   {
    "duration": 417,
    "start_time": "2023-05-18T11:10:06.975Z"
   },
   {
    "duration": 3,
    "start_time": "2023-05-18T11:10:07.393Z"
   },
   {
    "duration": 8,
    "start_time": "2023-05-18T11:10:07.397Z"
   },
   {
    "duration": 10,
    "start_time": "2023-05-18T11:10:07.406Z"
   },
   {
    "duration": 3,
    "start_time": "2023-05-18T11:10:07.418Z"
   },
   {
    "duration": 5,
    "start_time": "2023-05-18T11:10:07.422Z"
   },
   {
    "duration": 9,
    "start_time": "2023-05-18T11:10:07.428Z"
   },
   {
    "duration": 6,
    "start_time": "2023-05-18T11:10:07.438Z"
   },
   {
    "duration": 37,
    "start_time": "2023-05-18T11:10:07.447Z"
   },
   {
    "duration": 10,
    "start_time": "2023-05-18T11:10:07.489Z"
   },
   {
    "duration": 250,
    "start_time": "2023-05-18T11:10:07.501Z"
   },
   {
    "duration": 245,
    "start_time": "2023-05-18T11:10:07.752Z"
   },
   {
    "duration": 244,
    "start_time": "2023-05-18T11:10:07.999Z"
   },
   {
    "duration": 609,
    "start_time": "2023-05-18T11:10:08.244Z"
   },
   {
    "duration": 25,
    "start_time": "2023-05-18T11:10:08.855Z"
   },
   {
    "duration": 11,
    "start_time": "2023-05-18T11:10:08.881Z"
   },
   {
    "duration": 860,
    "start_time": "2023-05-18T11:10:08.893Z"
   },
   {
    "duration": 1064,
    "start_time": "2023-05-18T11:10:09.754Z"
   },
   {
    "duration": 22,
    "start_time": "2023-05-18T11:10:10.820Z"
   },
   {
    "duration": 3,
    "start_time": "2023-05-18T11:10:10.843Z"
   },
   {
    "duration": 5,
    "start_time": "2023-05-18T11:10:10.848Z"
   },
   {
    "duration": 37,
    "start_time": "2023-05-18T11:10:10.854Z"
   },
   {
    "duration": 7,
    "start_time": "2023-05-18T11:10:10.893Z"
   },
   {
    "duration": 13,
    "start_time": "2023-05-18T11:10:10.902Z"
   },
   {
    "duration": 6,
    "start_time": "2023-05-18T11:10:10.917Z"
   },
   {
    "duration": 29,
    "start_time": "2023-05-18T11:10:10.925Z"
   },
   {
    "duration": 53,
    "start_time": "2023-05-18T11:10:10.956Z"
   },
   {
    "duration": 8,
    "start_time": "2023-05-18T11:10:11.011Z"
   },
   {
    "duration": 11,
    "start_time": "2023-05-18T11:10:11.020Z"
   },
   {
    "duration": 9,
    "start_time": "2023-05-18T11:10:11.033Z"
   },
   {
    "duration": 134,
    "start_time": "2023-05-18T11:10:11.044Z"
   },
   {
    "duration": 0,
    "start_time": "2023-05-18T11:10:11.180Z"
   },
   {
    "duration": 0,
    "start_time": "2023-05-18T11:10:11.182Z"
   },
   {
    "duration": 0,
    "start_time": "2023-05-18T11:10:11.183Z"
   },
   {
    "duration": 0,
    "start_time": "2023-05-18T11:10:11.188Z"
   },
   {
    "duration": 0,
    "start_time": "2023-05-18T11:10:11.191Z"
   },
   {
    "duration": 0,
    "start_time": "2023-05-18T11:10:11.192Z"
   },
   {
    "duration": 0,
    "start_time": "2023-05-18T11:10:11.194Z"
   },
   {
    "duration": 3,
    "start_time": "2023-05-18T11:10:17.993Z"
   },
   {
    "duration": 2597,
    "start_time": "2023-05-18T11:10:21.088Z"
   },
   {
    "duration": 93,
    "start_time": "2023-05-18T11:10:27.692Z"
   },
   {
    "duration": 280,
    "start_time": "2023-05-18T11:10:29.296Z"
   },
   {
    "duration": 10,
    "start_time": "2023-05-18T11:10:30.884Z"
   },
   {
    "duration": 10,
    "start_time": "2023-05-18T11:10:38.059Z"
   },
   {
    "duration": 4,
    "start_time": "2023-05-18T11:11:09.690Z"
   },
   {
    "duration": 10,
    "start_time": "2023-05-18T11:11:13.408Z"
   },
   {
    "duration": 1386,
    "start_time": "2023-05-18T11:22:55.971Z"
   },
   {
    "duration": 895,
    "start_time": "2023-05-18T11:22:57.359Z"
   },
   {
    "duration": 4,
    "start_time": "2023-05-18T11:22:58.256Z"
   },
   {
    "duration": 440,
    "start_time": "2023-05-18T11:22:58.262Z"
   },
   {
    "duration": 241,
    "start_time": "2023-05-18T11:22:58.704Z"
   },
   {
    "duration": 449,
    "start_time": "2023-05-18T11:22:58.946Z"
   },
   {
    "duration": 3,
    "start_time": "2023-05-18T11:22:59.397Z"
   },
   {
    "duration": 19,
    "start_time": "2023-05-18T11:22:59.401Z"
   },
   {
    "duration": 20,
    "start_time": "2023-05-18T11:22:59.421Z"
   },
   {
    "duration": 3,
    "start_time": "2023-05-18T11:22:59.443Z"
   },
   {
    "duration": 13,
    "start_time": "2023-05-18T11:22:59.448Z"
   },
   {
    "duration": 8,
    "start_time": "2023-05-18T11:22:59.463Z"
   },
   {
    "duration": 27,
    "start_time": "2023-05-18T11:22:59.473Z"
   },
   {
    "duration": 15,
    "start_time": "2023-05-18T11:22:59.504Z"
   },
   {
    "duration": 11,
    "start_time": "2023-05-18T11:22:59.521Z"
   },
   {
    "duration": 263,
    "start_time": "2023-05-18T11:22:59.534Z"
   },
   {
    "duration": 258,
    "start_time": "2023-05-18T11:22:59.799Z"
   },
   {
    "duration": 276,
    "start_time": "2023-05-18T11:23:00.059Z"
   },
   {
    "duration": 601,
    "start_time": "2023-05-18T11:23:00.337Z"
   },
   {
    "duration": 17,
    "start_time": "2023-05-18T11:23:00.940Z"
   },
   {
    "duration": 33,
    "start_time": "2023-05-18T11:23:00.959Z"
   },
   {
    "duration": 943,
    "start_time": "2023-05-18T11:23:00.996Z"
   },
   {
    "duration": 1109,
    "start_time": "2023-05-18T11:23:01.940Z"
   },
   {
    "duration": 33,
    "start_time": "2023-05-18T11:23:03.051Z"
   },
   {
    "duration": 4,
    "start_time": "2023-05-18T11:23:03.090Z"
   },
   {
    "duration": 6,
    "start_time": "2023-05-18T11:23:03.095Z"
   },
   {
    "duration": 23,
    "start_time": "2023-05-18T11:23:03.102Z"
   },
   {
    "duration": 6,
    "start_time": "2023-05-18T11:23:03.127Z"
   },
   {
    "duration": 8,
    "start_time": "2023-05-18T11:23:03.136Z"
   },
   {
    "duration": 5,
    "start_time": "2023-05-18T11:23:03.146Z"
   },
   {
    "duration": 46,
    "start_time": "2023-05-18T11:23:03.152Z"
   },
   {
    "duration": 39,
    "start_time": "2023-05-18T11:23:03.200Z"
   },
   {
    "duration": 9,
    "start_time": "2023-05-18T11:23:03.240Z"
   },
   {
    "duration": 34,
    "start_time": "2023-05-18T11:23:03.250Z"
   },
   {
    "duration": 8,
    "start_time": "2023-05-18T11:23:03.290Z"
   },
   {
    "duration": 2,
    "start_time": "2023-05-18T11:23:03.300Z"
   },
   {
    "duration": 149358,
    "start_time": "2023-05-18T11:23:03.303Z"
   },
   {
    "duration": 107544,
    "start_time": "2023-05-18T11:25:32.663Z"
   },
   {
    "duration": 3280,
    "start_time": "2023-05-18T11:27:20.209Z"
   },
   {
    "duration": 728,
    "start_time": "2023-05-18T11:27:23.493Z"
   },
   {
    "duration": 51,
    "start_time": "2023-05-18T11:27:24.229Z"
   },
   {
    "duration": 113,
    "start_time": "2023-05-18T11:48:45.639Z"
   },
   {
    "duration": 1432,
    "start_time": "2023-05-18T11:51:04.592Z"
   },
   {
    "duration": 885,
    "start_time": "2023-05-18T11:51:06.025Z"
   },
   {
    "duration": 4,
    "start_time": "2023-05-18T11:51:06.912Z"
   },
   {
    "duration": 392,
    "start_time": "2023-05-18T11:51:06.918Z"
   },
   {
    "duration": 243,
    "start_time": "2023-05-18T11:51:07.312Z"
   },
   {
    "duration": 445,
    "start_time": "2023-05-18T11:51:07.557Z"
   },
   {
    "duration": 3,
    "start_time": "2023-05-18T11:51:08.004Z"
   },
   {
    "duration": 7,
    "start_time": "2023-05-18T11:51:08.009Z"
   },
   {
    "duration": 5,
    "start_time": "2023-05-18T11:51:08.018Z"
   },
   {
    "duration": 5,
    "start_time": "2023-05-18T11:51:08.026Z"
   },
   {
    "duration": 16,
    "start_time": "2023-05-18T11:51:08.032Z"
   },
   {
    "duration": 6,
    "start_time": "2023-05-18T11:51:08.050Z"
   },
   {
    "duration": 18,
    "start_time": "2023-05-18T11:51:08.076Z"
   },
   {
    "duration": 21,
    "start_time": "2023-05-18T11:51:08.095Z"
   },
   {
    "duration": 10,
    "start_time": "2023-05-18T11:51:08.118Z"
   },
   {
    "duration": 267,
    "start_time": "2023-05-18T11:51:08.130Z"
   },
   {
    "duration": 257,
    "start_time": "2023-05-18T11:51:08.399Z"
   },
   {
    "duration": 257,
    "start_time": "2023-05-18T11:51:08.659Z"
   },
   {
    "duration": 550,
    "start_time": "2023-05-18T11:51:08.918Z"
   },
   {
    "duration": 19,
    "start_time": "2023-05-18T11:51:09.475Z"
   },
   {
    "duration": 13,
    "start_time": "2023-05-18T11:51:09.504Z"
   },
   {
    "duration": 924,
    "start_time": "2023-05-18T11:51:09.519Z"
   },
   {
    "duration": 1063,
    "start_time": "2023-05-18T11:51:10.445Z"
   },
   {
    "duration": 22,
    "start_time": "2023-05-18T11:51:11.510Z"
   },
   {
    "duration": 3,
    "start_time": "2023-05-18T11:51:11.534Z"
   },
   {
    "duration": 4,
    "start_time": "2023-05-18T11:51:11.538Z"
   },
   {
    "duration": 36,
    "start_time": "2023-05-18T11:51:11.544Z"
   },
   {
    "duration": 11,
    "start_time": "2023-05-18T11:51:11.584Z"
   },
   {
    "duration": 12,
    "start_time": "2023-05-18T11:51:11.597Z"
   },
   {
    "duration": 8,
    "start_time": "2023-05-18T11:51:11.611Z"
   },
   {
    "duration": 30,
    "start_time": "2023-05-18T11:51:11.621Z"
   },
   {
    "duration": 69,
    "start_time": "2023-05-18T11:51:11.653Z"
   },
   {
    "duration": 9,
    "start_time": "2023-05-18T11:51:11.724Z"
   },
   {
    "duration": 10,
    "start_time": "2023-05-18T11:51:11.735Z"
   },
   {
    "duration": 9,
    "start_time": "2023-05-18T11:51:11.747Z"
   },
   {
    "duration": 23,
    "start_time": "2023-05-18T11:51:11.757Z"
   },
   {
    "duration": 139154,
    "start_time": "2023-05-18T11:51:11.782Z"
   },
   {
    "duration": 101909,
    "start_time": "2023-05-18T11:53:30.938Z"
   },
   {
    "duration": 3346,
    "start_time": "2023-05-18T11:55:12.849Z"
   },
   {
    "duration": 990,
    "start_time": "2023-05-18T11:55:16.198Z"
   },
   {
    "duration": 81,
    "start_time": "2023-05-18T11:55:17.196Z"
   },
   {
    "duration": 551,
    "start_time": "2023-05-18T11:56:12.751Z"
   },
   {
    "duration": 11,
    "start_time": "2023-05-18T11:56:16.099Z"
   },
   {
    "duration": 96,
    "start_time": "2023-05-19T11:59:13.989Z"
   },
   {
    "duration": 807,
    "start_time": "2023-05-19T11:59:22.276Z"
   },
   {
    "duration": 13046,
    "start_time": "2023-05-19T12:01:14.756Z"
   },
   {
    "duration": 10529,
    "start_time": "2023-05-19T12:01:27.825Z"
   },
   {
    "duration": 32,
    "start_time": "2023-05-19T12:01:38.385Z"
   },
   {
    "duration": 4374,
    "start_time": "2023-05-19T12:01:38.442Z"
   },
   {
    "duration": 2139,
    "start_time": "2023-05-19T12:01:42.834Z"
   },
   {
    "duration": 4669,
    "start_time": "2023-05-19T12:01:45.026Z"
   },
   {
    "duration": 55,
    "start_time": "2023-05-19T12:01:49.740Z"
   },
   {
    "duration": 145,
    "start_time": "2023-05-19T12:01:49.846Z"
   },
   {
    "duration": 194,
    "start_time": "2023-05-19T12:01:50.024Z"
   },
   {
    "duration": 99,
    "start_time": "2023-05-19T12:01:50.276Z"
   },
   {
    "duration": 131,
    "start_time": "2023-05-19T12:01:50.440Z"
   },
   {
    "duration": 285,
    "start_time": "2023-05-19T12:01:50.600Z"
   },
   {
    "duration": 151,
    "start_time": "2023-05-19T12:01:50.907Z"
   },
   {
    "duration": 184,
    "start_time": "2023-05-19T12:01:51.135Z"
   },
   {
    "duration": 218,
    "start_time": "2023-05-19T12:01:51.375Z"
   },
   {
    "duration": 2375,
    "start_time": "2023-05-19T12:01:51.595Z"
   },
   {
    "duration": 2094,
    "start_time": "2023-05-19T12:01:53.993Z"
   },
   {
    "duration": 3079,
    "start_time": "2023-05-19T12:01:56.104Z"
   },
   {
    "duration": 5360,
    "start_time": "2023-05-19T12:01:59.187Z"
   },
   {
    "duration": 212,
    "start_time": "2023-05-19T12:02:04.619Z"
   },
   {
    "duration": 171,
    "start_time": "2023-05-19T12:02:04.840Z"
   },
   {
    "duration": 7685,
    "start_time": "2023-05-19T12:02:05.072Z"
   },
   {
    "duration": 8890,
    "start_time": "2023-05-19T12:02:12.765Z"
   },
   {
    "duration": 281,
    "start_time": "2023-05-19T12:02:21.738Z"
   },
   {
    "duration": 70,
    "start_time": "2023-05-19T12:02:22.044Z"
   },
   {
    "duration": 129,
    "start_time": "2023-05-19T12:02:22.122Z"
   },
   {
    "duration": 248,
    "start_time": "2023-05-19T12:02:22.267Z"
   },
   {
    "duration": 161,
    "start_time": "2023-05-19T12:02:22.554Z"
   },
   {
    "duration": 82,
    "start_time": "2023-05-19T12:02:22.784Z"
   },
   {
    "duration": 183,
    "start_time": "2023-05-19T12:02:22.880Z"
   },
   {
    "duration": 347,
    "start_time": "2023-05-19T12:02:23.127Z"
   },
   {
    "duration": 291,
    "start_time": "2023-05-19T12:02:23.480Z"
   },
   {
    "duration": 109,
    "start_time": "2023-05-19T12:02:23.810Z"
   },
   {
    "duration": 176,
    "start_time": "2023-05-19T12:02:23.971Z"
   },
   {
    "duration": 288,
    "start_time": "2023-05-19T12:02:24.179Z"
   },
   {
    "duration": 297,
    "start_time": "2023-05-19T12:03:20.558Z"
   },
   {
    "duration": 128,
    "start_time": "2023-05-19T12:03:24.305Z"
   },
   {
    "duration": 390,
    "start_time": "2023-05-19T12:04:54.257Z"
   },
   {
    "duration": 5098,
    "start_time": "2023-05-19T12:05:00.917Z"
   },
   {
    "duration": 1584,
    "start_time": "2023-05-19T16:42:04.705Z"
   },
   {
    "duration": 136,
    "start_time": "2023-05-19T16:42:14.645Z"
   },
   {
    "duration": 3588,
    "start_time": "2023-05-19T16:42:26.810Z"
   },
   {
    "duration": 13,
    "start_time": "2023-05-19T16:42:40.484Z"
   },
   {
    "duration": 280,
    "start_time": "2023-05-19T16:42:45.388Z"
   },
   {
    "duration": 4,
    "start_time": "2023-05-19T16:43:07.826Z"
   },
   {
    "duration": 252,
    "start_time": "2023-05-19T16:43:13.363Z"
   },
   {
    "duration": 4,
    "start_time": "2023-05-19T16:43:25.971Z"
   },
   {
    "duration": 269,
    "start_time": "2023-05-19T16:43:30.971Z"
   },
   {
    "duration": 423,
    "start_time": "2023-05-19T16:45:49.245Z"
   },
   {
    "duration": 493,
    "start_time": "2023-05-19T16:46:09.601Z"
   },
   {
    "duration": 284,
    "start_time": "2023-05-19T16:46:21.206Z"
   },
   {
    "duration": 268,
    "start_time": "2023-05-19T16:46:58.633Z"
   },
   {
    "duration": 275,
    "start_time": "2023-05-19T16:48:03.895Z"
   },
   {
    "duration": 275,
    "start_time": "2023-05-19T16:48:24.493Z"
   },
   {
    "duration": 346,
    "start_time": "2023-05-19T16:48:48.814Z"
   },
   {
    "duration": 1597,
    "start_time": "2023-05-19T20:15:36.908Z"
   },
   {
    "duration": 2203,
    "start_time": "2023-05-19T20:15:38.507Z"
   },
   {
    "duration": 5,
    "start_time": "2023-05-19T20:15:40.712Z"
   },
   {
    "duration": 378,
    "start_time": "2023-05-19T20:15:40.718Z"
   },
   {
    "duration": 209,
    "start_time": "2023-05-19T20:15:41.100Z"
   },
   {
    "duration": 423,
    "start_time": "2023-05-19T20:15:41.312Z"
   },
   {
    "duration": 3,
    "start_time": "2023-05-19T20:15:41.736Z"
   },
   {
    "duration": 8,
    "start_time": "2023-05-19T20:15:41.740Z"
   },
   {
    "duration": 9,
    "start_time": "2023-05-19T20:15:41.749Z"
   },
   {
    "duration": 7,
    "start_time": "2023-05-19T20:15:41.760Z"
   },
   {
    "duration": 7,
    "start_time": "2023-05-19T20:15:41.768Z"
   },
   {
    "duration": 25,
    "start_time": "2023-05-19T20:15:41.776Z"
   },
   {
    "duration": 17,
    "start_time": "2023-05-19T20:15:41.802Z"
   },
   {
    "duration": 11,
    "start_time": "2023-05-19T20:15:41.822Z"
   },
   {
    "duration": 9,
    "start_time": "2023-05-19T20:15:41.835Z"
   },
   {
    "duration": 269,
    "start_time": "2023-05-19T20:15:41.845Z"
   },
   {
    "duration": 267,
    "start_time": "2023-05-19T20:15:42.117Z"
   },
   {
    "duration": 376,
    "start_time": "2023-05-19T20:15:42.385Z"
   },
   {
    "duration": 1279,
    "start_time": "2023-05-19T20:15:42.763Z"
   },
   {
    "duration": 23,
    "start_time": "2023-05-19T20:15:44.043Z"
   },
   {
    "duration": 547,
    "start_time": "2023-05-19T20:15:44.068Z"
   },
   {
    "duration": 18,
    "start_time": "2023-05-19T20:15:44.618Z"
   },
   {
    "duration": 18,
    "start_time": "2023-05-19T20:15:44.638Z"
   },
   {
    "duration": 977,
    "start_time": "2023-05-19T20:15:44.659Z"
   },
   {
    "duration": 3,
    "start_time": "2023-05-19T20:15:45.637Z"
   },
   {
    "duration": 13,
    "start_time": "2023-05-19T20:15:45.642Z"
   },
   {
    "duration": 16,
    "start_time": "2023-05-19T20:15:45.657Z"
   },
   {
    "duration": 8,
    "start_time": "2023-05-19T20:15:45.675Z"
   },
   {
    "duration": 26,
    "start_time": "2023-05-19T20:15:45.694Z"
   },
   {
    "duration": 9,
    "start_time": "2023-05-19T20:15:45.722Z"
   },
   {
    "duration": 18,
    "start_time": "2023-05-19T20:15:45.733Z"
   },
   {
    "duration": 15,
    "start_time": "2023-05-19T20:15:45.753Z"
   },
   {
    "duration": 17,
    "start_time": "2023-05-19T20:15:45.770Z"
   },
   {
    "duration": 183,
    "start_time": "2023-05-19T20:15:45.789Z"
   },
   {
    "duration": 0,
    "start_time": "2023-05-19T20:15:45.974Z"
   },
   {
    "duration": 0,
    "start_time": "2023-05-19T20:15:45.976Z"
   },
   {
    "duration": 0,
    "start_time": "2023-05-19T20:15:45.977Z"
   },
   {
    "duration": 0,
    "start_time": "2023-05-19T20:15:45.978Z"
   },
   {
    "duration": 0,
    "start_time": "2023-05-19T20:15:45.979Z"
   },
   {
    "duration": 0,
    "start_time": "2023-05-19T20:15:45.980Z"
   },
   {
    "duration": 0,
    "start_time": "2023-05-19T20:15:45.981Z"
   },
   {
    "duration": 15,
    "start_time": "2023-05-19T20:16:41.006Z"
   },
   {
    "duration": 19,
    "start_time": "2023-05-19T20:17:17.786Z"
   },
   {
    "duration": 20,
    "start_time": "2023-05-19T20:18:04.668Z"
   },
   {
    "duration": 13,
    "start_time": "2023-05-19T20:19:04.862Z"
   },
   {
    "duration": 44,
    "start_time": "2023-05-19T20:19:18.931Z"
   },
   {
    "duration": 18,
    "start_time": "2023-05-19T20:21:07.642Z"
   },
   {
    "duration": 38,
    "start_time": "2023-05-19T20:21:11.337Z"
   },
   {
    "duration": 4,
    "start_time": "2023-05-19T20:21:15.976Z"
   },
   {
    "duration": 53389,
    "start_time": "2023-05-19T20:21:19.190Z"
   },
   {
    "duration": 1838703,
    "start_time": "2023-05-19T20:22:12.580Z"
   },
   {
    "duration": 3389,
    "start_time": "2023-05-19T20:57:55.721Z"
   },
   {
    "duration": 1058,
    "start_time": "2023-05-19T20:59:02.247Z"
   },
   {
    "duration": 14,
    "start_time": "2023-05-19T20:59:10.036Z"
   },
   {
    "duration": 2037,
    "start_time": "2023-05-21T04:45:19.749Z"
   },
   {
    "duration": 660,
    "start_time": "2023-05-21T04:45:21.787Z"
   },
   {
    "duration": 3,
    "start_time": "2023-05-21T04:45:22.449Z"
   },
   {
    "duration": 296,
    "start_time": "2023-05-21T04:45:22.454Z"
   },
   {
    "duration": 174,
    "start_time": "2023-05-21T04:45:22.751Z"
   },
   {
    "duration": 309,
    "start_time": "2023-05-21T04:45:22.926Z"
   },
   {
    "duration": 2,
    "start_time": "2023-05-21T04:45:23.237Z"
   },
   {
    "duration": 6,
    "start_time": "2023-05-21T04:45:23.240Z"
   },
   {
    "duration": 6,
    "start_time": "2023-05-21T04:45:23.247Z"
   },
   {
    "duration": 2,
    "start_time": "2023-05-21T04:45:23.255Z"
   },
   {
    "duration": 26,
    "start_time": "2023-05-21T04:45:23.258Z"
   },
   {
    "duration": 4,
    "start_time": "2023-05-21T04:45:23.286Z"
   },
   {
    "duration": 18,
    "start_time": "2023-05-21T04:45:23.291Z"
   },
   {
    "duration": 25,
    "start_time": "2023-05-21T04:45:23.310Z"
   },
   {
    "duration": 9,
    "start_time": "2023-05-21T04:45:23.336Z"
   },
   {
    "duration": 220,
    "start_time": "2023-05-21T04:45:23.346Z"
   },
   {
    "duration": 225,
    "start_time": "2023-05-21T04:45:23.567Z"
   },
   {
    "duration": 275,
    "start_time": "2023-05-21T04:45:23.793Z"
   },
   {
    "duration": 998,
    "start_time": "2023-05-21T04:45:24.069Z"
   },
   {
    "duration": 20,
    "start_time": "2023-05-21T04:45:25.068Z"
   },
   {
    "duration": 360,
    "start_time": "2023-05-21T04:45:25.089Z"
   },
   {
    "duration": 12,
    "start_time": "2023-05-21T04:45:25.450Z"
   },
   {
    "duration": 21,
    "start_time": "2023-05-21T04:45:25.463Z"
   },
   {
    "duration": 663,
    "start_time": "2023-05-21T04:45:25.486Z"
   },
   {
    "duration": 3,
    "start_time": "2023-05-21T04:48:00.361Z"
   },
   {
    "duration": 3,
    "start_time": "2023-05-21T04:48:02.130Z"
   },
   {
    "duration": 3,
    "start_time": "2023-05-21T04:48:02.398Z"
   },
   {
    "duration": 3,
    "start_time": "2023-05-21T04:48:02.531Z"
   },
   {
    "duration": 3,
    "start_time": "2023-05-21T04:48:02.668Z"
   },
   {
    "duration": 3,
    "start_time": "2023-05-21T04:48:04.308Z"
   },
   {
    "duration": 3,
    "start_time": "2023-05-21T04:48:04.475Z"
   },
   {
    "duration": 3,
    "start_time": "2023-05-21T04:48:06.770Z"
   },
   {
    "duration": 2,
    "start_time": "2023-05-21T04:48:06.912Z"
   },
   {
    "duration": 3,
    "start_time": "2023-05-21T04:48:07.067Z"
   },
   {
    "duration": 3,
    "start_time": "2023-05-21T04:48:07.214Z"
   },
   {
    "duration": 3,
    "start_time": "2023-05-21T04:48:07.351Z"
   },
   {
    "duration": 2,
    "start_time": "2023-05-21T04:48:07.482Z"
   },
   {
    "duration": 3,
    "start_time": "2023-05-21T04:48:07.614Z"
   },
   {
    "duration": 3,
    "start_time": "2023-05-21T04:48:07.741Z"
   },
   {
    "duration": 2,
    "start_time": "2023-05-21T04:48:08.227Z"
   },
   {
    "duration": 3,
    "start_time": "2023-05-21T04:48:08.374Z"
   },
   {
    "duration": 3,
    "start_time": "2023-05-21T04:48:08.521Z"
   },
   {
    "duration": 2,
    "start_time": "2023-05-21T04:48:09.033Z"
   },
   {
    "duration": 3,
    "start_time": "2023-05-21T04:48:30.766Z"
   },
   {
    "duration": 2,
    "start_time": "2023-05-21T04:48:55.130Z"
   }
  ],
  "kernelspec": {
   "display_name": "Python 3 (ipykernel)",
   "language": "python",
   "name": "python3"
  },
  "language_info": {
   "codemirror_mode": {
    "name": "ipython",
    "version": 3
   },
   "file_extension": ".py",
   "mimetype": "text/x-python",
   "name": "python",
   "nbconvert_exporter": "python",
   "pygments_lexer": "ipython3",
   "version": "3.9.5"
  },
  "toc": {
   "base_numbering": 1,
   "nav_menu": {},
   "number_sections": true,
   "sideBar": true,
   "skip_h1_title": true,
   "title_cell": "Содержание",
   "title_sidebar": "Contents",
   "toc_cell": true,
   "toc_position": {},
   "toc_section_display": true,
   "toc_window_display": true
  }
 },
 "nbformat": 4,
 "nbformat_minor": 2
}
